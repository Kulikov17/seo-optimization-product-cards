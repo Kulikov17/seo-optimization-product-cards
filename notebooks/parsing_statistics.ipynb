{
 "cells": [
  {
   "cell_type": "code",
   "execution_count": 1,
   "id": "bb999fa1",
   "metadata": {},
   "outputs": [],
   "source": [
    "import pandas as pd\n",
    "import numpy as np\n",
    "from pathlib import Path\n",
    "import os\n",
    "from collections import defaultdict"
   ]
  },
  {
   "cell_type": "markdown",
   "id": "3cfedb23",
   "metadata": {},
   "source": [
    "Проверка описания"
   ]
  },
  {
   "cell_type": "code",
   "execution_count": 19,
   "id": "c98234c3",
   "metadata": {},
   "outputs": [],
   "source": [
    "desc = pd.read_csv(\"E:/!sofi/Datasets/datasets/hse-mlds-project-year2/data/Женщинам_Футболки&и&топы/descriptions.csv\")"
   ]
  },
  {
   "cell_type": "code",
   "execution_count": 20,
   "id": "b44afeb6",
   "metadata": {},
   "outputs": [
    {
     "data": {
      "text/html": [
       "<div>\n",
       "<style scoped>\n",
       "    .dataframe tbody tr th:only-of-type {\n",
       "        vertical-align: middle;\n",
       "    }\n",
       "\n",
       "    .dataframe tbody tr th {\n",
       "        vertical-align: top;\n",
       "    }\n",
       "\n",
       "    .dataframe thead th {\n",
       "        text-align: right;\n",
       "    }\n",
       "</style>\n",
       "<table border=\"1\" class=\"dataframe\">\n",
       "  <thead>\n",
       "    <tr style=\"text-align: right;\">\n",
       "      <th></th>\n",
       "      <th>item</th>\n",
       "      <th>description</th>\n",
       "    </tr>\n",
       "  </thead>\n",
       "  <tbody>\n",
       "    <tr>\n",
       "      <th>0</th>\n",
       "      <td>0.png</td>\n",
       "      <td>Представляем вам женскую базовую бельевую спор...</td>\n",
       "    </tr>\n",
       "    <tr>\n",
       "      <th>1</th>\n",
       "      <td>1.png</td>\n",
       "      <td>Хлопковый стильный короткий кроп-топ в рубчик ...</td>\n",
       "    </tr>\n",
       "    <tr>\n",
       "      <th>2</th>\n",
       "      <td>2.png</td>\n",
       "      <td>Кроп топ женский на тонких бретелях - незамени...</td>\n",
       "    </tr>\n",
       "    <tr>\n",
       "      <th>3</th>\n",
       "      <td>3.png</td>\n",
       "      <td>Футболка женская плотная свободного кроя оверс...</td>\n",
       "    </tr>\n",
       "    <tr>\n",
       "      <th>4</th>\n",
       "      <td>4.png</td>\n",
       "      <td>Футболка Хизер от бренда Jelika – универсальна...</td>\n",
       "    </tr>\n",
       "    <tr>\n",
       "      <th>5</th>\n",
       "      <td>5.png</td>\n",
       "      <td>Чёрная футболка superoversize с принтом выпол...</td>\n",
       "    </tr>\n",
       "    <tr>\n",
       "      <th>6</th>\n",
       "      <td>6.png</td>\n",
       "      <td>Топ двойной длинный - это трендовая вещь, кото...</td>\n",
       "    </tr>\n",
       "    <tr>\n",
       "      <th>7</th>\n",
       "      <td>7.png</td>\n",
       "      <td>Футболка женская оверсайз бренда ТЕЛОДВИЖЕНИЯ ...</td>\n",
       "    </tr>\n",
       "    <tr>\n",
       "      <th>8</th>\n",
       "      <td>8.png</td>\n",
       "      <td>Добро пожаловать в нашу студию печати WAKA WAK...</td>\n",
       "    </tr>\n",
       "    <tr>\n",
       "      <th>9</th>\n",
       "      <td>9.png</td>\n",
       "      <td>Футболка с округлым вырезом давно стала неотъе...</td>\n",
       "    </tr>\n",
       "    <tr>\n",
       "      <th>10</th>\n",
       "      <td>10.png</td>\n",
       "      <td>Классическая деловая майка на широких бретелях...</td>\n",
       "    </tr>\n",
       "    <tr>\n",
       "      <th>11</th>\n",
       "      <td>11.png</td>\n",
       "      <td>Базовая футболка - женская и мужская одновреме...</td>\n",
       "    </tr>\n",
       "    <tr>\n",
       "      <th>12</th>\n",
       "      <td>12.png</td>\n",
       "      <td>Классическая деловая майка на широких бретелях...</td>\n",
       "    </tr>\n",
       "    <tr>\n",
       "      <th>13</th>\n",
       "      <td>13.png</td>\n",
       "      <td>Новинка весеннего и летнего сезона 2024  –  тр...</td>\n",
       "    </tr>\n",
       "    <tr>\n",
       "      <th>14</th>\n",
       "      <td>14.png</td>\n",
       "      <td>Современный и стильный дизайн! Футболка суперо...</td>\n",
       "    </tr>\n",
       "    <tr>\n",
       "      <th>15</th>\n",
       "      <td>15.png</td>\n",
       "      <td>Принт фотографического качества нанесен светящ...</td>\n",
       "    </tr>\n",
       "    <tr>\n",
       "      <th>16</th>\n",
       "      <td>16.png</td>\n",
       "      <td>Футболка от [Bold] оверсайз c принтом Доберман...</td>\n",
       "    </tr>\n",
       "    <tr>\n",
       "      <th>17</th>\n",
       "      <td>17.png</td>\n",
       "      <td>Стильный кроп топ с длинными рукавами от бренд...</td>\n",
       "    </tr>\n",
       "    <tr>\n",
       "      <th>18</th>\n",
       "      <td>18.png</td>\n",
       "      <td>Стильный кроп топ с длинными рукавами от бренд...</td>\n",
       "    </tr>\n",
       "    <tr>\n",
       "      <th>19</th>\n",
       "      <td>19.png</td>\n",
       "      <td>Спортивный топ для девушек представлен нашим м...</td>\n",
       "    </tr>\n",
       "  </tbody>\n",
       "</table>\n",
       "</div>"
      ],
      "text/plain": [
       "      item                                        description\n",
       "0    0.png  Представляем вам женскую базовую бельевую спор...\n",
       "1    1.png  Хлопковый стильный короткий кроп-топ в рубчик ...\n",
       "2    2.png  Кроп топ женский на тонких бретелях - незамени...\n",
       "3    3.png  Футболка женская плотная свободного кроя оверс...\n",
       "4    4.png  Футболка Хизер от бренда Jelika – универсальна...\n",
       "5    5.png   Чёрная футболка superoversize с принтом выпол...\n",
       "6    6.png  Топ двойной длинный - это трендовая вещь, кото...\n",
       "7    7.png  Футболка женская оверсайз бренда ТЕЛОДВИЖЕНИЯ ...\n",
       "8    8.png  Добро пожаловать в нашу студию печати WAKA WAK...\n",
       "9    9.png  Футболка с округлым вырезом давно стала неотъе...\n",
       "10  10.png  Классическая деловая майка на широких бретелях...\n",
       "11  11.png  Базовая футболка - женская и мужская одновреме...\n",
       "12  12.png  Классическая деловая майка на широких бретелях...\n",
       "13  13.png  Новинка весеннего и летнего сезона 2024  –  тр...\n",
       "14  14.png  Современный и стильный дизайн! Футболка суперо...\n",
       "15  15.png  Принт фотографического качества нанесен светящ...\n",
       "16  16.png  Футболка от [Bold] оверсайз c принтом Доберман...\n",
       "17  17.png  Стильный кроп топ с длинными рукавами от бренд...\n",
       "18  18.png  Стильный кроп топ с длинными рукавами от бренд...\n",
       "19  19.png  Спортивный топ для девушек представлен нашим м..."
      ]
     },
     "execution_count": 20,
     "metadata": {},
     "output_type": "execute_result"
    }
   ],
   "source": [
    "desc"
   ]
  },
  {
   "cell_type": "markdown",
   "id": "13436b2f",
   "metadata": {},
   "source": [
    "____"
   ]
  },
  {
   "cell_type": "markdown",
   "id": "25adb366",
   "metadata": {},
   "source": [
    "Сбор статистики по спаршенным фотографиям"
   ]
  },
  {
   "cell_type": "code",
   "execution_count": 10,
   "id": "fe1977a3",
   "metadata": {},
   "outputs": [],
   "source": [
    "root_dir = Path(\"C:/temp/!hse-mlds-project-year2/woman/woman\")"
   ]
  },
  {
   "cell_type": "code",
   "execution_count": 11,
   "id": "059f63c2",
   "metadata": {},
   "outputs": [
    {
     "data": {
      "text/plain": [
       "13"
      ]
     },
     "execution_count": 11,
     "metadata": {},
     "output_type": "execute_result"
    }
   ],
   "source": [
    "# Кол-во категорий\n",
    "folders = os.listdir(root_dir)\n",
    "len(folders)"
   ]
  },
  {
   "cell_type": "code",
   "execution_count": 15,
   "id": "924647a0",
   "metadata": {
    "scrolled": true
   },
   "outputs": [
    {
     "name": "stdout",
     "output_type": "stream",
     "text": [
      "19 Feedbacks in Женщинам_Толстовки,&свитшоты&и&худи\n",
      "19 Feedbacks in Женщинам_Туники\n"
     ]
    }
   ],
   "source": [
    "df_dict = {col: [] for col in [\"card\", \"feedbacks\"]}\n",
    "\n",
    "for cat in folders:\n",
    "    path = root_dir / cat\n",
    "    path_card = path / \"card\"\n",
    "    path_feedbacks = path / \"feedbacks\"\n",
    "\n",
    "    # кол-во загруженных фоток\n",
    "    load_card = len(sorted(path_card.glob('*')))\n",
    "    load_feedbacks = len(sorted(path_feedbacks.glob('*')))\n",
    "    \n",
    "    if load_feedbacks < 20:\n",
    "        print(f\"{load_feedbacks} Feedbacks in {cat}\")\n",
    "\n",
    "#     if load_card < 20:\n",
    "#         print(f\"{load_card} Card in {cat}\")\n",
    "\n",
    "    df_dict[\"card\"].append(load_card)\n",
    "    df_dict[\"feedbacks\"].append(load_feedbacks)"
   ]
  },
  {
   "cell_type": "code",
   "execution_count": 16,
   "id": "4edc3d49",
   "metadata": {},
   "outputs": [
    {
     "data": {
      "text/html": [
       "<div>\n",
       "<style scoped>\n",
       "    .dataframe tbody tr th:only-of-type {\n",
       "        vertical-align: middle;\n",
       "    }\n",
       "\n",
       "    .dataframe tbody tr th {\n",
       "        vertical-align: top;\n",
       "    }\n",
       "\n",
       "    .dataframe thead th {\n",
       "        text-align: right;\n",
       "    }\n",
       "</style>\n",
       "<table border=\"1\" class=\"dataframe\">\n",
       "  <thead>\n",
       "    <tr style=\"text-align: right;\">\n",
       "      <th></th>\n",
       "      <th>card</th>\n",
       "      <th>feedbacks</th>\n",
       "    </tr>\n",
       "  </thead>\n",
       "  <tbody>\n",
       "    <tr>\n",
       "      <th>0</th>\n",
       "      <td>20</td>\n",
       "      <td>20</td>\n",
       "    </tr>\n",
       "    <tr>\n",
       "      <th>1</th>\n",
       "      <td>20</td>\n",
       "      <td>20</td>\n",
       "    </tr>\n",
       "    <tr>\n",
       "      <th>2</th>\n",
       "      <td>20</td>\n",
       "      <td>20</td>\n",
       "    </tr>\n",
       "    <tr>\n",
       "      <th>3</th>\n",
       "      <td>20</td>\n",
       "      <td>20</td>\n",
       "    </tr>\n",
       "    <tr>\n",
       "      <th>4</th>\n",
       "      <td>20</td>\n",
       "      <td>20</td>\n",
       "    </tr>\n",
       "  </tbody>\n",
       "</table>\n",
       "</div>"
      ],
      "text/plain": [
       "   card  feedbacks\n",
       "0    20         20\n",
       "1    20         20\n",
       "2    20         20\n",
       "3    20         20\n",
       "4    20         20"
      ]
     },
     "execution_count": 16,
     "metadata": {},
     "output_type": "execute_result"
    }
   ],
   "source": [
    "df = pd.DataFrame(df_dict)\n",
    "df.head()"
   ]
  },
  {
   "cell_type": "code",
   "execution_count": 17,
   "id": "af0fcd4a",
   "metadata": {},
   "outputs": [
    {
     "data": {
      "text/html": [
       "<div>\n",
       "<style scoped>\n",
       "    .dataframe tbody tr th:only-of-type {\n",
       "        vertical-align: middle;\n",
       "    }\n",
       "\n",
       "    .dataframe tbody tr th {\n",
       "        vertical-align: top;\n",
       "    }\n",
       "\n",
       "    .dataframe thead th {\n",
       "        text-align: right;\n",
       "    }\n",
       "</style>\n",
       "<table border=\"1\" class=\"dataframe\">\n",
       "  <thead>\n",
       "    <tr style=\"text-align: right;\">\n",
       "      <th></th>\n",
       "      <th>card</th>\n",
       "      <th>feedbacks</th>\n",
       "    </tr>\n",
       "  </thead>\n",
       "  <tbody>\n",
       "    <tr>\n",
       "      <th>count</th>\n",
       "      <td>13.0</td>\n",
       "      <td>13.000000</td>\n",
       "    </tr>\n",
       "    <tr>\n",
       "      <th>mean</th>\n",
       "      <td>20.0</td>\n",
       "      <td>19.846154</td>\n",
       "    </tr>\n",
       "    <tr>\n",
       "      <th>std</th>\n",
       "      <td>0.0</td>\n",
       "      <td>0.375534</td>\n",
       "    </tr>\n",
       "    <tr>\n",
       "      <th>min</th>\n",
       "      <td>20.0</td>\n",
       "      <td>19.000000</td>\n",
       "    </tr>\n",
       "    <tr>\n",
       "      <th>25%</th>\n",
       "      <td>20.0</td>\n",
       "      <td>20.000000</td>\n",
       "    </tr>\n",
       "    <tr>\n",
       "      <th>50%</th>\n",
       "      <td>20.0</td>\n",
       "      <td>20.000000</td>\n",
       "    </tr>\n",
       "    <tr>\n",
       "      <th>75%</th>\n",
       "      <td>20.0</td>\n",
       "      <td>20.000000</td>\n",
       "    </tr>\n",
       "    <tr>\n",
       "      <th>max</th>\n",
       "      <td>20.0</td>\n",
       "      <td>20.000000</td>\n",
       "    </tr>\n",
       "  </tbody>\n",
       "</table>\n",
       "</div>"
      ],
      "text/plain": [
       "       card  feedbacks\n",
       "count  13.0  13.000000\n",
       "mean   20.0  19.846154\n",
       "std     0.0   0.375534\n",
       "min    20.0  19.000000\n",
       "25%    20.0  20.000000\n",
       "50%    20.0  20.000000\n",
       "75%    20.0  20.000000\n",
       "max    20.0  20.000000"
      ]
     },
     "execution_count": 17,
     "metadata": {},
     "output_type": "execute_result"
    }
   ],
   "source": [
    "df.describe()"
   ]
  },
  {
   "cell_type": "code",
   "execution_count": 18,
   "id": "c74b1190",
   "metadata": {},
   "outputs": [
    {
     "data": {
      "text/plain": [
       "feedbacks\n",
       "20    11\n",
       "19     2\n",
       "Name: count, dtype: int64"
      ]
     },
     "execution_count": 18,
     "metadata": {},
     "output_type": "execute_result"
    }
   ],
   "source": [
    "df.feedbacks.value_counts()"
   ]
  },
  {
   "cell_type": "code",
   "execution_count": 8,
   "id": "cf8a4dd9",
   "metadata": {},
   "outputs": [
    {
     "data": {
      "text/plain": [
       "card\n",
       "20    1575\n",
       "19       2\n",
       "18       1\n",
       "4        1\n",
       "1        1\n",
       "Name: count, dtype: int64"
      ]
     },
     "execution_count": 8,
     "metadata": {},
     "output_type": "execute_result"
    }
   ],
   "source": [
    "df.card.value_counts()"
   ]
  },
  {
   "cell_type": "markdown",
   "id": "3f031eb3",
   "metadata": {},
   "source": [
    "18 Card in Дом_Кухня_Кухонный&текстиль_Чехлы&для&ручек&холодильников  \n",
    "4 Card in Дом_Освещение_Лифты&для&люстр                                _(удалить либо перенести)_  \n",
    "19 Card in Мебель_Гардеробная&мебель_Ящики                             _(можно до 20 добрать)_  \n",
    "1 Card in Мебель_Офисная&мебель_Перегородки&офисные                    _(удалить либо перенести)_  \n",
    "19 Card in Мебель_Офисная&мебель_Шкафы  "
   ]
  },
  {
   "cell_type": "markdown",
   "id": "b94f4e0c",
   "metadata": {},
   "source": [
    "___"
   ]
  },
  {
   "cell_type": "markdown",
   "id": "a3839bf7",
   "metadata": {},
   "source": [
    "Проверка на дубликаты ссылок"
   ]
  },
  {
   "cell_type": "code",
   "execution_count": 180,
   "id": "2b7b53f5",
   "metadata": {},
   "outputs": [
    {
     "data": {
      "text/html": [
       "<div>\n",
       "<style scoped>\n",
       "    .dataframe tbody tr th:only-of-type {\n",
       "        vertical-align: middle;\n",
       "    }\n",
       "\n",
       "    .dataframe tbody tr th {\n",
       "        vertical-align: top;\n",
       "    }\n",
       "\n",
       "    .dataframe thead th {\n",
       "        text-align: right;\n",
       "    }\n",
       "</style>\n",
       "<table border=\"1\" class=\"dataframe\">\n",
       "  <thead>\n",
       "    <tr style=\"text-align: right;\">\n",
       "      <th></th>\n",
       "      <th>category_1</th>\n",
       "      <th>category_2</th>\n",
       "      <th>category_3</th>\n",
       "      <th>category_4</th>\n",
       "      <th>category_5</th>\n",
       "      <th>url</th>\n",
       "    </tr>\n",
       "  </thead>\n",
       "  <tbody>\n",
       "    <tr>\n",
       "      <th>0</th>\n",
       "      <td>Автотовары</td>\n",
       "      <td>Мойки высокого давления и аксессуары</td>\n",
       "      <td>Цепные пилы</td>\n",
       "      <td>NaN</td>\n",
       "      <td>NaN</td>\n",
       "      <td>https://www.wildberries.ru/catalog/dom/dachniy...</td>\n",
       "    </tr>\n",
       "    <tr>\n",
       "      <th>1</th>\n",
       "      <td>Автотовары</td>\n",
       "      <td>Автокосметика и автохимия</td>\n",
       "      <td>Присадки</td>\n",
       "      <td>NaN</td>\n",
       "      <td>NaN</td>\n",
       "      <td>https://www.wildberries.ru/catalog/avtotovary/...</td>\n",
       "    </tr>\n",
       "    <tr>\n",
       "      <th>2</th>\n",
       "      <td>Автотовары</td>\n",
       "      <td>Автокосметика и автохимия</td>\n",
       "      <td>Смазки автомобильные</td>\n",
       "      <td>NaN</td>\n",
       "      <td>NaN</td>\n",
       "      <td>https://www.wildberries.ru/catalog/avtotovary/...</td>\n",
       "    </tr>\n",
       "    <tr>\n",
       "      <th>3</th>\n",
       "      <td>Автотовары</td>\n",
       "      <td>Автокосметика и автохимия</td>\n",
       "      <td>Уход за стеклами и фарами</td>\n",
       "      <td>NaN</td>\n",
       "      <td>NaN</td>\n",
       "      <td>https://www.wildberries.ru/catalog/aksessuary/...</td>\n",
       "    </tr>\n",
       "    <tr>\n",
       "      <th>4</th>\n",
       "      <td>Автотовары</td>\n",
       "      <td>Автокосметика и автохимия</td>\n",
       "      <td>Уход за салоном</td>\n",
       "      <td>NaN</td>\n",
       "      <td>NaN</td>\n",
       "      <td>https://www.wildberries.ru/catalog/aksessuary/...</td>\n",
       "    </tr>\n",
       "  </tbody>\n",
       "</table>\n",
       "</div>"
      ],
      "text/plain": [
       "   category_1                            category_2  \\\n",
       "0  Автотовары  Мойки высокого давления и аксессуары   \n",
       "1  Автотовары             Автокосметика и автохимия   \n",
       "2  Автотовары             Автокосметика и автохимия   \n",
       "3  Автотовары             Автокосметика и автохимия   \n",
       "4  Автотовары             Автокосметика и автохимия   \n",
       "\n",
       "                  category_3 category_4 category_5  \\\n",
       "0                Цепные пилы        NaN        NaN   \n",
       "1                   Присадки        NaN        NaN   \n",
       "2       Смазки автомобильные        NaN        NaN   \n",
       "3  Уход за стеклами и фарами        NaN        NaN   \n",
       "4            Уход за салоном        NaN        NaN   \n",
       "\n",
       "                                                 url  \n",
       "0  https://www.wildberries.ru/catalog/dom/dachniy...  \n",
       "1  https://www.wildberries.ru/catalog/avtotovary/...  \n",
       "2  https://www.wildberries.ru/catalog/avtotovary/...  \n",
       "3  https://www.wildberries.ru/catalog/aksessuary/...  \n",
       "4  https://www.wildberries.ru/catalog/aksessuary/...  "
      ]
     },
     "execution_count": 180,
     "metadata": {},
     "output_type": "execute_result"
    }
   ],
   "source": [
    "categories = pd.read_csv(\"wb_categories_full_clear.csv\")\n",
    "categories.head()"
   ]
  },
  {
   "cell_type": "code",
   "execution_count": 181,
   "id": "45fde442",
   "metadata": {},
   "outputs": [
    {
     "data": {
      "text/html": [
       "<div>\n",
       "<style scoped>\n",
       "    .dataframe tbody tr th:only-of-type {\n",
       "        vertical-align: middle;\n",
       "    }\n",
       "\n",
       "    .dataframe tbody tr th {\n",
       "        vertical-align: top;\n",
       "    }\n",
       "\n",
       "    .dataframe thead th {\n",
       "        text-align: right;\n",
       "    }\n",
       "</style>\n",
       "<table border=\"1\" class=\"dataframe\">\n",
       "  <thead>\n",
       "    <tr style=\"text-align: right;\">\n",
       "      <th></th>\n",
       "      <th>category_1</th>\n",
       "      <th>category_2</th>\n",
       "      <th>category_3</th>\n",
       "      <th>category_4</th>\n",
       "      <th>category_5</th>\n",
       "      <th>url</th>\n",
       "    </tr>\n",
       "  </thead>\n",
       "  <tbody>\n",
       "    <tr>\n",
       "      <th>0</th>\n",
       "      <td>Автотовары</td>\n",
       "      <td>Мойки высокого давления и аксессуары</td>\n",
       "      <td>Цепные пилы</td>\n",
       "      <td>NaN</td>\n",
       "      <td>NaN</td>\n",
       "      <td>https://www.wildberries.ru/catalog/dom/dachniy...</td>\n",
       "    </tr>\n",
       "    <tr>\n",
       "      <th>13</th>\n",
       "      <td>Автотовары</td>\n",
       "      <td>Автоэлектроника и навигация</td>\n",
       "      <td>NaN</td>\n",
       "      <td>NaN</td>\n",
       "      <td>NaN</td>\n",
       "      <td>https://www.wildberries.ru/catalog/elektronika...</td>\n",
       "    </tr>\n",
       "    <tr>\n",
       "      <th>14</th>\n",
       "      <td>Автотовары</td>\n",
       "      <td>Аккумуляторы и сопутствующие товары</td>\n",
       "      <td>NaN</td>\n",
       "      <td>NaN</td>\n",
       "      <td>NaN</td>\n",
       "      <td>https://www.wildberries.ru/catalog/aksessuary/...</td>\n",
       "    </tr>\n",
       "    <tr>\n",
       "      <th>48</th>\n",
       "      <td>Автотовары</td>\n",
       "      <td>Мойки высокого давления и аксессуары</td>\n",
       "      <td>Аксессуары и запчасти для садовой техники</td>\n",
       "      <td>NaN</td>\n",
       "      <td>NaN</td>\n",
       "      <td>https://www.wildberries.ru/catalog/dom/dachniy...</td>\n",
       "    </tr>\n",
       "    <tr>\n",
       "      <th>49</th>\n",
       "      <td>Автотовары</td>\n",
       "      <td>Мойки высокого давления и аксессуары</td>\n",
       "      <td>Садовые измельчители</td>\n",
       "      <td>NaN</td>\n",
       "      <td>NaN</td>\n",
       "      <td>https://www.wildberries.ru/catalog/dom/dachniy...</td>\n",
       "    </tr>\n",
       "    <tr>\n",
       "      <th>...</th>\n",
       "      <td>...</td>\n",
       "      <td>...</td>\n",
       "      <td>...</td>\n",
       "      <td>...</td>\n",
       "      <td>...</td>\n",
       "      <td>...</td>\n",
       "    </tr>\n",
       "    <tr>\n",
       "      <th>1647</th>\n",
       "      <td>Электроника</td>\n",
       "      <td>Смартфоны и телефоны</td>\n",
       "      <td>Стационарные телефоны</td>\n",
       "      <td>NaN</td>\n",
       "      <td>NaN</td>\n",
       "      <td>https://www.wildberries.ru/catalog/elektronika...</td>\n",
       "    </tr>\n",
       "    <tr>\n",
       "      <th>1648</th>\n",
       "      <td>Электроника</td>\n",
       "      <td>Смартфоны и телефоны</td>\n",
       "      <td>Смартфоны</td>\n",
       "      <td>NaN</td>\n",
       "      <td>NaN</td>\n",
       "      <td>https://www.wildberries.ru/catalog/elektronika...</td>\n",
       "    </tr>\n",
       "    <tr>\n",
       "      <th>1649</th>\n",
       "      <td>Электроника</td>\n",
       "      <td>Смартфоны и телефоны</td>\n",
       "      <td>Планшеты</td>\n",
       "      <td>NaN</td>\n",
       "      <td>NaN</td>\n",
       "      <td>https://www.wildberries.ru/catalog/elektronika...</td>\n",
       "    </tr>\n",
       "    <tr>\n",
       "      <th>1650</th>\n",
       "      <td>Электроника</td>\n",
       "      <td>Смартфоны и телефоны</td>\n",
       "      <td>Мобильные телефоны</td>\n",
       "      <td>NaN</td>\n",
       "      <td>NaN</td>\n",
       "      <td>https://www.wildberries.ru/catalog/elektronika...</td>\n",
       "    </tr>\n",
       "    <tr>\n",
       "      <th>1651</th>\n",
       "      <td>Электроника</td>\n",
       "      <td>Смартфоны и телефоны</td>\n",
       "      <td>Пленки защитные</td>\n",
       "      <td>NaN</td>\n",
       "      <td>NaN</td>\n",
       "      <td>https://www.wildberries.ru/catalog/elektronika...</td>\n",
       "    </tr>\n",
       "  </tbody>\n",
       "</table>\n",
       "<p>156 rows × 6 columns</p>\n",
       "</div>"
      ],
      "text/plain": [
       "       category_1                            category_2  \\\n",
       "0      Автотовары  Мойки высокого давления и аксессуары   \n",
       "13     Автотовары           Автоэлектроника и навигация   \n",
       "14     Автотовары   Аккумуляторы и сопутствующие товары   \n",
       "48     Автотовары  Мойки высокого давления и аксессуары   \n",
       "49     Автотовары  Мойки высокого давления и аксессуары   \n",
       "...           ...                                   ...   \n",
       "1647  Электроника                  Смартфоны и телефоны   \n",
       "1648  Электроника                  Смартфоны и телефоны   \n",
       "1649  Электроника                  Смартфоны и телефоны   \n",
       "1650  Электроника                  Смартфоны и телефоны   \n",
       "1651  Электроника                  Смартфоны и телефоны   \n",
       "\n",
       "                                     category_3 category_4 category_5  \\\n",
       "0                                   Цепные пилы        NaN        NaN   \n",
       "13                                          NaN        NaN        NaN   \n",
       "14                                          NaN        NaN        NaN   \n",
       "48    Аксессуары и запчасти для садовой техники        NaN        NaN   \n",
       "49                         Садовые измельчители        NaN        NaN   \n",
       "...                                         ...        ...        ...   \n",
       "1647                      Стационарные телефоны        NaN        NaN   \n",
       "1648                                  Смартфоны        NaN        NaN   \n",
       "1649                                   Планшеты        NaN        NaN   \n",
       "1650                         Мобильные телефоны        NaN        NaN   \n",
       "1651                            Пленки защитные        NaN        NaN   \n",
       "\n",
       "                                                    url  \n",
       "0     https://www.wildberries.ru/catalog/dom/dachniy...  \n",
       "13    https://www.wildberries.ru/catalog/elektronika...  \n",
       "14    https://www.wildberries.ru/catalog/aksessuary/...  \n",
       "48    https://www.wildberries.ru/catalog/dom/dachniy...  \n",
       "49    https://www.wildberries.ru/catalog/dom/dachniy...  \n",
       "...                                                 ...  \n",
       "1647  https://www.wildberries.ru/catalog/elektronika...  \n",
       "1648  https://www.wildberries.ru/catalog/elektronika...  \n",
       "1649  https://www.wildberries.ru/catalog/elektronika...  \n",
       "1650  https://www.wildberries.ru/catalog/elektronika...  \n",
       "1651  https://www.wildberries.ru/catalog/elektronika...  \n",
       "\n",
       "[156 rows x 6 columns]"
      ]
     },
     "execution_count": 181,
     "metadata": {},
     "output_type": "execute_result"
    }
   ],
   "source": [
    "df_dupl = categories[categories.duplicated(['url'], keep=False)]\n",
    "df_dupl"
   ]
  },
  {
   "cell_type": "code",
   "execution_count": 182,
   "id": "172c90e7",
   "metadata": {},
   "outputs": [
    {
     "data": {
      "text/plain": [
       "Index([   0,   13,   14,   48,   49,   50,   51,   52,   68,   69,\n",
       "       ...\n",
       "       1640, 1641, 1642, 1643, 1646, 1647, 1648, 1649, 1650, 1651],\n",
       "      dtype='int64', length=156)"
      ]
     },
     "execution_count": 182,
     "metadata": {},
     "output_type": "execute_result"
    }
   ],
   "source": [
    "df_dupl.index"
   ]
  },
  {
   "cell_type": "code",
   "execution_count": 183,
   "id": "714be5d9",
   "metadata": {},
   "outputs": [],
   "source": [
    "duplicates = defaultdict(list)\n",
    "\n",
    "for ind in df_dupl.index:\n",
    "    url = df_dupl.loc[ind][\"url\"]\n",
    "    duplicates[url].append(ind)"
   ]
  },
  {
   "cell_type": "code",
   "execution_count": 184,
   "id": "343a8f1c",
   "metadata": {},
   "outputs": [
    {
     "name": "stdout",
     "output_type": "stream",
     "text": [
      "69\n"
     ]
    },
    {
     "data": {
      "text/plain": [
       "defaultdict(list,\n",
       "            {'https://www.wildberries.ru/catalog/dom/dachniy-sezon/sadovaya-tehnika/tsepnye-pily': [0,\n",
       "              1440,\n",
       "              1480],\n",
       "             'https://www.wildberries.ru/catalog/elektronika/avtoelektronika': [13,\n",
       "              259],\n",
       "             'https://www.wildberries.ru/catalog/aksessuary/avtotovary/akkumulyatory-i-soputstvuyushchie-tovary': [14,\n",
       "              1588],\n",
       "             'https://www.wildberries.ru/catalog/dom/dachniy-sezon/sadovaya-tehnika/aksessuary-i-zapchasti-dlya-sadovoy-tehniki': [48,\n",
       "              1473,\n",
       "              1475],\n",
       "             'https://www.wildberries.ru/catalog/dom/dachniy-sezon/sadovaya-tehnika/sadovye-izmelchiteli': [49,\n",
       "              1470,\n",
       "              1476],\n",
       "             'https://www.wildberries.ru/catalog/dom/dachniy-sezon/sadovaya-tehnika/motobury-i-aksessuary-k-nim': [50,\n",
       "              1478,\n",
       "              1498],\n",
       "             'https://www.wildberries.ru/catalog/dom/dachniy-sezon/sadovaya-tehnika/kultivatory-i-motobloki': [51,\n",
       "              1491,\n",
       "              1495],\n",
       "             'https://www.wildberries.ru/catalog/sad-i-dacha/sadovaya-tehnika/drovokoly-elektricheskie': [52,\n",
       "              1415,\n",
       "              1479],\n",
       "             'https://www.wildberries.ru/catalog/avtotovary/kovriki': [68,\n",
       "              1587],\n",
       "             'https://www.wildberries.ru/catalog/aksessuary/avtotovary/avtoaksessuary-i-dopolnitelnoe-oborudovanie/vneshniy-tyuning': [69,\n",
       "              1593],\n",
       "             'https://www.wildberries.ru/catalog/dom/dachniy-sezon/sadovaya-tehnika/snegouborshchiki': [73,\n",
       "              1413,\n",
       "              1482],\n",
       "             'https://www.wildberries.ru/catalog/dom/dachniy-sezon/sadovaya-tehnika/tehnika-dlya-fermerskih-hozyaystv': [74,\n",
       "              1474,\n",
       "              1502],\n",
       "             'https://www.wildberries.ru/catalog/sad-i-dacha/sadovaya-tehnika/akkumulyatornye-suchkorezy-i-sekatory': [75,\n",
       "              1471,\n",
       "              1490],\n",
       "             'https://www.wildberries.ru/catalog/dom/dachniy-sezon/sadovaya-tehnika/nozhnitsy-sadovye-elektricheskie-i-akkumulyatornye': [77,\n",
       "              1472,\n",
       "              1497],\n",
       "             'https://www.wildberries.ru/catalog/avtotovary/zapchasti-na-silovuyu-tehniku': [82,\n",
       "              1580],\n",
       "             'https://www.wildberries.ru/catalog/aksessuary/avtotovary/avtoaksessuary-i-dopolnitelnoe-oborudovanie/offroad': [83,\n",
       "              1581],\n",
       "             'https://www.wildberries.ru/catalog/avtotovary/zapchasti-dlya-lodok-i-katerov': [86,\n",
       "              1579],\n",
       "             'https://www.wildberries.ru/catalog/dom/dachniy-sezon/sadovaya-tehnika/aeratory-gazonnye': [90,\n",
       "              1442,\n",
       "              1483],\n",
       "             'https://www.wildberries.ru/catalog/dom/dachniy-sezon/poliv-i-vodosnabzhenie/nasosy-i-pompy': [91,\n",
       "              1458,\n",
       "              1469,\n",
       "              1489],\n",
       "             'https://www.wildberries.ru/catalog/dom/sad-i-dacha/sadovaya-tehnika/podmetalnye-mashiny': [92,\n",
       "              1441,\n",
       "              1484],\n",
       "             'https://www.wildberries.ru/catalog/dom/dachniy-sezon/sadovaya-tehnika/gazonokosilki': [93,\n",
       "              1414,\n",
       "              1485],\n",
       "             'https://www.wildberries.ru/catalog/dom/dachniy-sezon/sadovaya-tehnika/trimmery': [94,\n",
       "              1389,\n",
       "              1486],\n",
       "             'https://www.wildberries.ru/catalog/dom/dachniy-sezon/sadovaya-tehnika/sadovye-pylesosy': [95,\n",
       "              1467,\n",
       "              1487],\n",
       "             'https://www.wildberries.ru/catalog/dom/sad-i-dacha/sadovaya-tehnika/opryskivateli': [96,\n",
       "              1468,\n",
       "              1488],\n",
       "             'https://www.wildberries.ru/catalog/elektronika/tehnika-dlya-doma/shveynoe-oborudovanie': [160,\n",
       "              398],\n",
       "             'https://www.wildberries.ru/catalog/elektronika/krasota-i-zdorove/britvy-i-trimmery': [168,\n",
       "              1058],\n",
       "             'https://www.wildberries.ru/catalog/elektronika/tehnika-dlya-doma/vesy': [169,\n",
       "              1051],\n",
       "             'https://www.wildberries.ru/catalog/elektronika/zubnye-shchetki': [170,\n",
       "              1052],\n",
       "             'https://www.wildberries.ru/catalog/elektronika/krasota-i-zdorove/massazhery-elektricheskie': [172,\n",
       "              1053],\n",
       "             'https://www.wildberries.ru/catalog/elektronika/krasota-i-zdorove/meditsinskie-pribory': [174,\n",
       "              1056],\n",
       "             'https://www.wildberries.ru/catalog/elektronika/krasota-i-zdorove/professionalnaya-parikmaherskaya-tehnika/bytovaya-tehnika': [175,\n",
       "              1057],\n",
       "             'https://www.wildberries.ru/catalog/elektronika/feny-i-pribory-dlya-ukladki': [176,\n",
       "              1075],\n",
       "             'https://www.wildberries.ru/catalog/elektronika/krasota-i-zdorove/epilyatory': [177,\n",
       "              1079],\n",
       "             'https://www.wildberries.ru/catalog/elektronika/krasota-i-zdorove/britvy-i-trimmery/mashinki-dlya-strizhki-volos': [179,\n",
       "              1055],\n",
       "             'https://www.wildberries.ru/catalog/sport/elektrotransport-i-aksessuary': [195,\n",
       "              1595],\n",
       "             'https://www.wildberries.ru/catalog/elektronika/umnyy-dom': [204,\n",
       "              1619],\n",
       "             'https://www.wildberries.ru/catalog/elektronika/torgovoe-oborudovanie': [218,\n",
       "              1618],\n",
       "             'https://www.wildberries.ru/catalog/elektronika/solnechnye-elektrostantsii-i-komplektuyushchie': [220,\n",
       "              1640],\n",
       "             'https://www.wildberries.ru/catalog/elektronika/igry-i-razvlecheniya/aksessuary/garnitury': [260,\n",
       "              1635],\n",
       "             'https://www.wildberries.ru/catalog/elektronika/kabeli-i-zaryadnye-ustroystva': [261,\n",
       "              1555],\n",
       "             'https://www.wildberries.ru/catalog/elektronika/muzyka-i-video': [263,\n",
       "              1554],\n",
       "             'https://www.wildberries.ru/catalog/elektronika/razvlecheniya-i-gadzhety': [265,\n",
       "              1596],\n",
       "             'https://www.wildberries.ru/catalog/elektronika/setevoe-oborudovanie': [266,\n",
       "              1625],\n",
       "             'https://www.wildberries.ru/catalog/elektronika/smart-chasy': [268,\n",
       "              1641],\n",
       "             'https://www.wildberries.ru/catalog/knigi-i-kantstovary/kantstovary/risovanie-i-lepka': [387,\n",
       "              918],\n",
       "             'https://www.wildberries.ru/catalog/dlya-doma/predmety-interera/kovriki': [538,\n",
       "              644],\n",
       "             'https://www.wildberries.ru/catalog/dom/prihozhaya/zerkala-interernye': [618,\n",
       "              1169],\n",
       "             'https://www.wildberries.ru/catalog/dom-i-dacha/otdyh-na-prirode/posuda': [669,\n",
       "              1418],\n",
       "             'https://www.wildberries.ru/catalog/dom/sad-i-dacha/gorshki-opory-i-vse-dlya-rassady/fitolampy-i-fitosvetilniki-dlya-rasteniy': [672,\n",
       "              1404],\n",
       "             'https://www.wildberries.ru/catalog/krasota/aksessuary/dlya-manikyura-i-pedikyura': [1065,\n",
       "              1107],\n",
       "             'https://www.wildberries.ru/catalog/mebel/mebel-dlya-prihozhey/zerkala': [1154,\n",
       "              1165],\n",
       "             'https://www.wildberries.ru/catalog/mebel/mebel-dlya-prihozhey/shkafy': [1156,\n",
       "              1221],\n",
       "             'https://www.wildberries.ru/catalog/dom/mebel/mebel-dlya-spalni/zerkala': [1160,\n",
       "              1164],\n",
       "             'https://www.wildberries.ru/catalog/dom/dachniy-sezon/moyki-vysokogo-davleniya-i-aksessuary': [1481,\n",
       "              1583],\n",
       "             'https://www.wildberries.ru/catalog/elektronika/smartfony-i-telefony/derzhateli': [1526,\n",
       "              1636],\n",
       "             'https://www.wildberries.ru/catalog/elektronika/smartfony-i-telefony/zapchasti-dlya-ustroystv': [1527,\n",
       "              1639],\n",
       "             'https://www.wildberries.ru/catalog/elektronika/smartfony-i-telefony/karty-pamyati': [1528,\n",
       "              1638],\n",
       "             'https://www.wildberries.ru/catalog/elektronika/telefony-i-gadzhety/mobilnye-telefony': [1529,\n",
       "              1650],\n",
       "             'https://www.wildberries.ru/catalog/elektronika/planshety': [1530,\n",
       "              1649],\n",
       "             'https://www.wildberries.ru/catalog/elektronika/smartfony-i-telefony/vse-smartfony': [1531,\n",
       "              1648],\n",
       "             'https://www.wildberries.ru/catalog/elektronika/tehnika-dlya-doma/telefony-statsionarnye': [1532,\n",
       "              1647],\n",
       "             'https://www.wildberries.ru/catalog/elektronika/smartfony-i-telefony/stekla-i-plenki': [1533,\n",
       "              1646],\n",
       "             'https://www.wildberries.ru/catalog/elektronika/smartfony-i-telefony/plenki-zashchitnye': [1534,\n",
       "              1651],\n",
       "             'https://www.wildberries.ru/catalog/elektronika/smartfony-i-telefony/shnurki-i-koltsa': [1536,\n",
       "              1643],\n",
       "             'https://www.wildberries.ru/catalog/elektronika/smartfony-i-telefony/flash-nakopiteli': [1537,\n",
       "              1642],\n",
       "             'https://www.wildberries.ru/catalog/elektronika/smartfony-i-telefony/aksessuary-dlya-semki': [1549,\n",
       "              1634],\n",
       "             'https://www.wildberries.ru/catalog/elektronika/smartfony-i-telefony/aksessuary-dlya-smartfonov': [1558,\n",
       "              1633],\n",
       "             'https://www.wildberries.ru/catalog/elektronika/smartfony-i-telefony/planshety/aksessuary-dlya-planshetov': [1559,\n",
       "              1632],\n",
       "             'https://www.wildberries.ru/catalog/elektronika/smartfony-i-telefony/sim-karty': [1560,\n",
       "              1631]})"
      ]
     },
     "execution_count": 184,
     "metadata": {},
     "output_type": "execute_result"
    }
   ],
   "source": [
    "print(len(duplicates))\n",
    "duplicates"
   ]
  },
  {
   "cell_type": "code",
   "execution_count": 185,
   "id": "9f4cf880",
   "metadata": {},
   "outputs": [
    {
     "data": {
      "text/plain": [
       "('https://www.wildberries.ru/catalog/podarki/detyam/shariki-i-upakovka',\n",
       " 'https://www.wildberries.ru/catalog/knigi/bukinistika/lyubovnye-romany')"
      ]
     },
     "execution_count": 185,
     "metadata": {},
     "output_type": "execute_result"
    }
   ],
   "source": [
    "categories[\"url\"][207], categories[\"url\"][976]"
   ]
  },
  {
   "cell_type": "code",
   "execution_count": 186,
   "id": "aab91094",
   "metadata": {},
   "outputs": [],
   "source": [
    "df_duplicates = pd.DataFrame(duplicates.items(), columns=[\"url\", \"index\"])"
   ]
  },
  {
   "cell_type": "code",
   "execution_count": 187,
   "id": "6f3b0e0f",
   "metadata": {},
   "outputs": [],
   "source": [
    "#df_duplicates.to_csv(\"wb_categories_dublicates.csv\", index=False)"
   ]
  },
  {
   "cell_type": "code",
   "execution_count": null,
   "id": "33702265",
   "metadata": {},
   "outputs": [],
   "source": []
  },
  {
   "cell_type": "code",
   "execution_count": 24,
   "id": "4d361dc1",
   "metadata": {},
   "outputs": [
    {
     "data": {
      "text/html": [
       "<div>\n",
       "<style scoped>\n",
       "    .dataframe tbody tr th:only-of-type {\n",
       "        vertical-align: middle;\n",
       "    }\n",
       "\n",
       "    .dataframe tbody tr th {\n",
       "        vertical-align: top;\n",
       "    }\n",
       "\n",
       "    .dataframe thead th {\n",
       "        text-align: right;\n",
       "    }\n",
       "</style>\n",
       "<table border=\"1\" class=\"dataframe\">\n",
       "  <thead>\n",
       "    <tr style=\"text-align: right;\">\n",
       "      <th></th>\n",
       "      <th>brand</th>\n",
       "      <th>style</th>\n",
       "      <th>rating</th>\n",
       "    </tr>\n",
       "  </thead>\n",
       "  <tbody>\n",
       "    <tr>\n",
       "      <th>0</th>\n",
       "      <td>Yum Yum</td>\n",
       "      <td>cup</td>\n",
       "      <td>4.0</td>\n",
       "    </tr>\n",
       "    <tr>\n",
       "      <th>1</th>\n",
       "      <td>Yum Yum</td>\n",
       "      <td>cup</td>\n",
       "      <td>4.0</td>\n",
       "    </tr>\n",
       "    <tr>\n",
       "      <th>2</th>\n",
       "      <td>Indomie</td>\n",
       "      <td>cup</td>\n",
       "      <td>3.5</td>\n",
       "    </tr>\n",
       "    <tr>\n",
       "      <th>3</th>\n",
       "      <td>Indomie</td>\n",
       "      <td>pack</td>\n",
       "      <td>15.0</td>\n",
       "    </tr>\n",
       "    <tr>\n",
       "      <th>4</th>\n",
       "      <td>Indomie</td>\n",
       "      <td>pack</td>\n",
       "      <td>5.0</td>\n",
       "    </tr>\n",
       "  </tbody>\n",
       "</table>\n",
       "</div>"
      ],
      "text/plain": [
       "     brand style  rating\n",
       "0  Yum Yum   cup     4.0\n",
       "1  Yum Yum   cup     4.0\n",
       "2  Indomie   cup     3.5\n",
       "3  Indomie  pack    15.0\n",
       "4  Indomie  pack     5.0"
      ]
     },
     "execution_count": 24,
     "metadata": {},
     "output_type": "execute_result"
    }
   ],
   "source": [
    "df = pd.DataFrame({\n",
    "    'brand': ['Yum Yum', 'Yum Yum', 'Indomie', 'Indomie', 'Indomie'],\n",
    "    'style': ['cup', 'cup', 'cup', 'pack', 'pack'],\n",
    "    'rating': [4, 4, 3.5, 15, 5]\n",
    "})\n",
    "df"
   ]
  },
  {
   "cell_type": "code",
   "execution_count": 25,
   "id": "accfdd17",
   "metadata": {},
   "outputs": [
    {
     "data": {
      "text/html": [
       "<div>\n",
       "<style scoped>\n",
       "    .dataframe tbody tr th:only-of-type {\n",
       "        vertical-align: middle;\n",
       "    }\n",
       "\n",
       "    .dataframe tbody tr th {\n",
       "        vertical-align: top;\n",
       "    }\n",
       "\n",
       "    .dataframe thead th {\n",
       "        text-align: right;\n",
       "    }\n",
       "</style>\n",
       "<table border=\"1\" class=\"dataframe\">\n",
       "  <thead>\n",
       "    <tr style=\"text-align: right;\">\n",
       "      <th></th>\n",
       "      <th>brand</th>\n",
       "      <th>style</th>\n",
       "      <th>rating</th>\n",
       "    </tr>\n",
       "  </thead>\n",
       "  <tbody>\n",
       "    <tr>\n",
       "      <th>0</th>\n",
       "      <td>Yum Yum</td>\n",
       "      <td>cup</td>\n",
       "      <td>4.0</td>\n",
       "    </tr>\n",
       "    <tr>\n",
       "      <th>1</th>\n",
       "      <td>Yum Yum</td>\n",
       "      <td>cup</td>\n",
       "      <td>4.0</td>\n",
       "    </tr>\n",
       "    <tr>\n",
       "      <th>2</th>\n",
       "      <td>Indomie</td>\n",
       "      <td>cup</td>\n",
       "      <td>3.5</td>\n",
       "    </tr>\n",
       "    <tr>\n",
       "      <th>3</th>\n",
       "      <td>Indomie</td>\n",
       "      <td>pack</td>\n",
       "      <td>15.0</td>\n",
       "    </tr>\n",
       "    <tr>\n",
       "      <th>4</th>\n",
       "      <td>Indomie</td>\n",
       "      <td>pack</td>\n",
       "      <td>5.0</td>\n",
       "    </tr>\n",
       "  </tbody>\n",
       "</table>\n",
       "</div>"
      ],
      "text/plain": [
       "     brand style  rating\n",
       "0  Yum Yum   cup     4.0\n",
       "1  Yum Yum   cup     4.0\n",
       "2  Indomie   cup     3.5\n",
       "3  Indomie  pack    15.0\n",
       "4  Indomie  pack     5.0"
      ]
     },
     "execution_count": 25,
     "metadata": {},
     "output_type": "execute_result"
    }
   ],
   "source": [
    "df[df.duplicated(['style'], keep=False)]"
   ]
  },
  {
   "cell_type": "markdown",
   "id": "b7ff1c66",
   "metadata": {},
   "source": [
    "___"
   ]
  },
  {
   "cell_type": "markdown",
   "id": "ca6f3385",
   "metadata": {},
   "source": [
    "удаление дубликатов"
   ]
  },
  {
   "cell_type": "code",
   "execution_count": 207,
   "id": "e5e740a7",
   "metadata": {},
   "outputs": [],
   "source": [
    "import shutil\n",
    "from itertools import chain"
   ]
  },
  {
   "cell_type": "code",
   "execution_count": 188,
   "id": "63ed1645",
   "metadata": {},
   "outputs": [],
   "source": [
    "df_duplicates_choose = pd.read_csv(\"E://!docum//!HSE магистратура//Задание диплом//wb_categories_dublicates.csv\")\n",
    "#df_duplicates = pd.read_csv(\"wb_categories_dublicates.csv\")\n",
    "\n",
    "df_duplicates_choose = pd.concat([df_duplicates_choose[:12],\n",
    "                                  pd.DataFrame([np.nan], columns=[\"choose_category\"]),\n",
    "                                  df_duplicates_choose[12:]], axis=0)\n",
    "df_duplicates_choose.reset_index(drop=True, inplace=True)\n",
    "\n",
    "df_duplicates = pd.concat([df_duplicates, df_duplicates_choose], axis=1)\n",
    "#df_duplicates[\"delete\"] = df_duplicates[\"index\"].copy(deep=True)"
   ]
  },
  {
   "cell_type": "code",
   "execution_count": 189,
   "id": "5e3b5979",
   "metadata": {
    "scrolled": true
   },
   "outputs": [],
   "source": [
    "df_duplicates.apply(lambda x : x[\"index\"].remove(x[\"choose_category\"]) if (str(x[\"choose_category\"]) != \"nan\") else x[\"index\"], axis=1);"
   ]
  },
  {
   "cell_type": "code",
   "execution_count": 190,
   "id": "ef905ab4",
   "metadata": {},
   "outputs": [
    {
     "data": {
      "text/html": [
       "<div>\n",
       "<style scoped>\n",
       "    .dataframe tbody tr th:only-of-type {\n",
       "        vertical-align: middle;\n",
       "    }\n",
       "\n",
       "    .dataframe tbody tr th {\n",
       "        vertical-align: top;\n",
       "    }\n",
       "\n",
       "    .dataframe thead th {\n",
       "        text-align: right;\n",
       "    }\n",
       "</style>\n",
       "<table border=\"1\" class=\"dataframe\">\n",
       "  <thead>\n",
       "    <tr style=\"text-align: right;\">\n",
       "      <th></th>\n",
       "      <th>url</th>\n",
       "      <th>index</th>\n",
       "      <th>choose_category</th>\n",
       "    </tr>\n",
       "  </thead>\n",
       "  <tbody>\n",
       "    <tr>\n",
       "      <th>0</th>\n",
       "      <td>https://www.wildberries.ru/catalog/dom/dachniy...</td>\n",
       "      <td>[0, 1440]</td>\n",
       "      <td>1480.0</td>\n",
       "    </tr>\n",
       "    <tr>\n",
       "      <th>1</th>\n",
       "      <td>https://www.wildberries.ru/catalog/elektronika...</td>\n",
       "      <td>[259]</td>\n",
       "      <td>13.0</td>\n",
       "    </tr>\n",
       "    <tr>\n",
       "      <th>2</th>\n",
       "      <td>https://www.wildberries.ru/catalog/aksessuary/...</td>\n",
       "      <td>[1588]</td>\n",
       "      <td>14.0</td>\n",
       "    </tr>\n",
       "    <tr>\n",
       "      <th>3</th>\n",
       "      <td>https://www.wildberries.ru/catalog/dom/dachniy...</td>\n",
       "      <td>[48, 1473]</td>\n",
       "      <td>1475.0</td>\n",
       "    </tr>\n",
       "    <tr>\n",
       "      <th>4</th>\n",
       "      <td>https://www.wildberries.ru/catalog/dom/dachniy...</td>\n",
       "      <td>[49, 1470]</td>\n",
       "      <td>1476.0</td>\n",
       "    </tr>\n",
       "    <tr>\n",
       "      <th>...</th>\n",
       "      <td>...</td>\n",
       "      <td>...</td>\n",
       "      <td>...</td>\n",
       "    </tr>\n",
       "    <tr>\n",
       "      <th>64</th>\n",
       "      <td>https://www.wildberries.ru/catalog/elektronika...</td>\n",
       "      <td>[1537]</td>\n",
       "      <td>1642.0</td>\n",
       "    </tr>\n",
       "    <tr>\n",
       "      <th>65</th>\n",
       "      <td>https://www.wildberries.ru/catalog/elektronika...</td>\n",
       "      <td>[1549]</td>\n",
       "      <td>1634.0</td>\n",
       "    </tr>\n",
       "    <tr>\n",
       "      <th>66</th>\n",
       "      <td>https://www.wildberries.ru/catalog/elektronika...</td>\n",
       "      <td>[1558]</td>\n",
       "      <td>1633.0</td>\n",
       "    </tr>\n",
       "    <tr>\n",
       "      <th>67</th>\n",
       "      <td>https://www.wildberries.ru/catalog/elektronika...</td>\n",
       "      <td>[1559]</td>\n",
       "      <td>1632.0</td>\n",
       "    </tr>\n",
       "    <tr>\n",
       "      <th>68</th>\n",
       "      <td>https://www.wildberries.ru/catalog/elektronika...</td>\n",
       "      <td>[1560]</td>\n",
       "      <td>1631.0</td>\n",
       "    </tr>\n",
       "  </tbody>\n",
       "</table>\n",
       "<p>69 rows × 3 columns</p>\n",
       "</div>"
      ],
      "text/plain": [
       "                                                  url       index  \\\n",
       "0   https://www.wildberries.ru/catalog/dom/dachniy...   [0, 1440]   \n",
       "1   https://www.wildberries.ru/catalog/elektronika...       [259]   \n",
       "2   https://www.wildberries.ru/catalog/aksessuary/...      [1588]   \n",
       "3   https://www.wildberries.ru/catalog/dom/dachniy...  [48, 1473]   \n",
       "4   https://www.wildberries.ru/catalog/dom/dachniy...  [49, 1470]   \n",
       "..                                                ...         ...   \n",
       "64  https://www.wildberries.ru/catalog/elektronika...      [1537]   \n",
       "65  https://www.wildberries.ru/catalog/elektronika...      [1549]   \n",
       "66  https://www.wildberries.ru/catalog/elektronika...      [1558]   \n",
       "67  https://www.wildberries.ru/catalog/elektronika...      [1559]   \n",
       "68  https://www.wildberries.ru/catalog/elektronika...      [1560]   \n",
       "\n",
       "    choose_category  \n",
       "0            1480.0  \n",
       "1              13.0  \n",
       "2              14.0  \n",
       "3            1475.0  \n",
       "4            1476.0  \n",
       "..              ...  \n",
       "64           1642.0  \n",
       "65           1634.0  \n",
       "66           1633.0  \n",
       "67           1632.0  \n",
       "68           1631.0  \n",
       "\n",
       "[69 rows x 3 columns]"
      ]
     },
     "execution_count": 190,
     "metadata": {},
     "output_type": "execute_result"
    }
   ],
   "source": [
    "df_duplicates"
   ]
  },
  {
   "cell_type": "code",
   "execution_count": 200,
   "id": "86abb1b5",
   "metadata": {},
   "outputs": [],
   "source": [
    "root_dir = Path(\"C:/temp/!hse-mlds-project-year2/data\")"
   ]
  },
  {
   "cell_type": "code",
   "execution_count": 201,
   "id": "3ac5354b",
   "metadata": {},
   "outputs": [],
   "source": [
    "folders_name = []\n",
    "\n",
    "for i in range(len(categories)):\n",
    "    if str(categories.iloc[i][\"category_5\"]) == \"nan\":\n",
    "        if str(categories.iloc[i][\"category_4\"]) == \"nan\":\n",
    "            if str(categories.iloc[i][\"category_3\"]) == \"nan\":\n",
    "                if str(categories.iloc[i][\"category_2\"]) == \"nan\":\n",
    "                    cat = list(categories.iloc[i][:1])\n",
    "                else:\n",
    "                    cat = list(categories.iloc[i][:2])\n",
    "            else:\n",
    "                cat = list(categories.iloc[i][:3])\n",
    "        else:\n",
    "            cat = list(categories.iloc[i][:4])\n",
    "    else:\n",
    "        cat = list(categories.iloc[i][:5])\n",
    "    folder = \"_\".join([\"&\".join(i.split()) for i in cat])\n",
    "    folders_name.append(folder)"
   ]
  },
  {
   "cell_type": "code",
   "execution_count": 209,
   "id": "d12127ce",
   "metadata": {
    "scrolled": true
   },
   "outputs": [],
   "source": [
    "delete_index = list(chain(*list(df_duplicates[\"index\"])))"
   ]
  },
  {
   "cell_type": "code",
   "execution_count": 214,
   "id": "4b93f617",
   "metadata": {},
   "outputs": [
    {
     "data": {
      "text/plain": [
       "88"
      ]
     },
     "execution_count": 214,
     "metadata": {},
     "output_type": "execute_result"
    }
   ],
   "source": [
    "len(delete_index)"
   ]
  },
  {
   "cell_type": "code",
   "execution_count": 211,
   "id": "60e98369",
   "metadata": {},
   "outputs": [],
   "source": [
    "for ind in delete_index:\n",
    "    shutil.rmtree(root_dir / folders_name[ind])"
   ]
  },
  {
   "cell_type": "markdown",
   "id": "aef47bbe",
   "metadata": {},
   "source": [
    "___"
   ]
  },
  {
   "cell_type": "markdown",
   "id": "d2eb26f8",
   "metadata": {},
   "source": [
    "выбор категории"
   ]
  },
  {
   "cell_type": "code",
   "execution_count": 25,
   "id": "b65a6dfb",
   "metadata": {},
   "outputs": [],
   "source": [
    "root_dir = Path(\"C:/temp/!hse-mlds-project-year2/data\")"
   ]
  },
  {
   "cell_type": "code",
   "execution_count": 26,
   "id": "565fe8ce",
   "metadata": {},
   "outputs": [
    {
     "data": {
      "text/plain": [
       "1580"
      ]
     },
     "execution_count": 26,
     "metadata": {},
     "output_type": "execute_result"
    }
   ],
   "source": [
    "# Кол-во категорий\n",
    "folders = os.listdir(root_dir)\n",
    "len(folders)"
   ]
  },
  {
   "cell_type": "code",
   "execution_count": 69,
   "id": "b200d63d",
   "metadata": {},
   "outputs": [],
   "source": [
    "def choose_category(level, folders, category1=None, category2=None, category3=None, category4=None):\n",
    "    if level == 1:\n",
    "        tree = {(category.split(\"_\")[0], 2) if len(category.split(\"_\"))>1 else (category.split(\"_\")[0], 1) for category in folders}\n",
    "\n",
    "    elif level == 2:\n",
    "        if category1 is None:\n",
    "            raise TypeError(\"choose_category() missing 1 required positional argument: 'category1'\")\n",
    "        categories = [category for category in folders if category.split(\"_\")[0]==category1]\n",
    "        tree = {(category.split(\"_\")[1], 3) if len(category.split(\"_\"))>2 else (category.split(\"_\")[1], 2) for category in categories}\n",
    "\n",
    "    elif level == 3:\n",
    "        if category1 is None or category2 is None:\n",
    "            raise TypeError(\"choose_category() missing required positional argument: 'category1' or 'category2'\")\n",
    "        categories = [category for category in folders if (category.split(\"_\")[0]==category1) and (category.split(\"_\")[1]==category2)]\n",
    "        tree = {(category.split(\"_\")[2], 4) if len(category.split(\"_\"))>3 else (category.split(\"_\")[2], 3) for category in categories}\n",
    "\n",
    "    elif level == 4:\n",
    "        if category1 is None or category2 is None or category3 is None:\n",
    "            raise TypeError(\"choose_category() missing required positional argument: 'category1', 'category2' or 'category3'\")\n",
    "        categories = [category for category in folders if (category.split(\"_\")[0]==category1) and (category.split(\"_\")[1]==category2) and (category.split(\"_\")[2]==category3)]\n",
    "        tree = {(category.split(\"_\")[3], 5) if len(category.split(\"_\"))>4 else (category.split(\"_\")[3], 4) for category in categories}\n",
    "\n",
    "    elif level == 5:\n",
    "        if category1 is None or category2 is None or category3 is None  or category4 is None:\n",
    "            raise TypeError(\"choose_category() missing required positional argument: 'category1', 'category2', 'category3' or 'category4'\")\n",
    "        categories = [category for category in folders if (category.split(\"_\")[0]==category1) and (category.split(\"_\")[1]==category2) and (category.split(\"_\")[2]==category3) and (category.split(\"_\")[3]==category4)]\n",
    "        tree = {(category.split(\"_\")[4], 6) if len(category.split(\"_\"))>5 else (category.split(\"_\")[4], 5) for category in categories}\n",
    "    \n",
    "    return sorted(tree)"
   ]
  },
  {
   "cell_type": "code",
   "execution_count": 71,
   "id": "6eb186eb",
   "metadata": {},
   "outputs": [
    {
     "data": {
      "text/plain": [
       "[('Аниме', 5),\n",
       " ('Арт&и&абстракция', 5),\n",
       " ('Архитектура', 5),\n",
       " ('Гобелены', 5),\n",
       " ('Города&и&страны', 5),\n",
       " ('Детские', 5),\n",
       " ('Еда&и&напитки', 5),\n",
       " ('Животные&и&птицы', 5),\n",
       " ('Интерьеры', 5),\n",
       " ('Карты', 5),\n",
       " ('Кино&и&музыка', 5),\n",
       " ('Коллажи', 5),\n",
       " ('Комиксы', 5),\n",
       " ('Компьютерные&игры', 5),\n",
       " ('Космос', 5),\n",
       " ('Люди', 5),\n",
       " ('Надписи', 5),\n",
       " ('Натюрморты', 5),\n",
       " ('Панно', 5),\n",
       " ('Праздники', 5),\n",
       " ('Природа', 5),\n",
       " ('Религия', 5),\n",
       " ('Репродукции', 5),\n",
       " ('Ретро', 5),\n",
       " ('Спорт', 5),\n",
       " ('Транспорт', 5),\n",
       " ('Фотография', 5),\n",
       " ('Фэнтези', 5),\n",
       " ('Цветы&и&растения', 5),\n",
       " ('Юмор', 5)]"
      ]
     },
     "execution_count": 71,
     "metadata": {},
     "output_type": "execute_result"
    }
   ],
   "source": [
    "choose_category(5, folders, \"Дом\", \"Предметы&интерьера\", 'Картины&и&постеры', 'Картины')"
   ]
  }
 ],
 "metadata": {
  "kernelspec": {
   "display_name": "Python 3 (ipykernel)",
   "language": "python",
   "name": "python3"
  },
  "language_info": {
   "codemirror_mode": {
    "name": "ipython",
    "version": 3
   },
   "file_extension": ".py",
   "mimetype": "text/x-python",
   "name": "python",
   "nbconvert_exporter": "python",
   "pygments_lexer": "ipython3",
   "version": "3.10.13"
  },
  "toc": {
   "base_numbering": 1,
   "nav_menu": {},
   "number_sections": true,
   "sideBar": true,
   "skip_h1_title": false,
   "title_cell": "Table of Contents",
   "title_sidebar": "Contents",
   "toc_cell": false,
   "toc_position": {},
   "toc_section_display": true,
   "toc_window_display": true
  }
 },
 "nbformat": 4,
 "nbformat_minor": 5
}
