{
 "cells": [
  {
   "cell_type": "code",
   "execution_count": 1,
   "id": "bb999fa1",
   "metadata": {},
   "outputs": [],
   "source": [
    "import pandas as pd\n",
    "import numpy as np\n",
    "from pathlib import Path\n",
    "import os\n",
    "from collections import defaultdict\n",
    "import shutil\n",
    "from itertools import chain"
   ]
  },
  {
   "cell_type": "markdown",
   "id": "3cfedb23",
   "metadata": {},
   "source": [
    "# Проверка описания товара"
   ]
  },
  {
   "cell_type": "code",
   "execution_count": 8,
   "id": "c98234c3",
   "metadata": {},
   "outputs": [],
   "source": [
    "desc = pd.read_csv(\"C:/temp/!hse-mlds-project-year2/data/Ювелирные&изделия_Четки/descriptions.csv\")"
   ]
  },
  {
   "cell_type": "code",
   "execution_count": 9,
   "id": "b44afeb6",
   "metadata": {},
   "outputs": [
    {
     "data": {
      "text/html": [
       "<div>\n",
       "<style scoped>\n",
       "    .dataframe tbody tr th:only-of-type {\n",
       "        vertical-align: middle;\n",
       "    }\n",
       "\n",
       "    .dataframe tbody tr th {\n",
       "        vertical-align: top;\n",
       "    }\n",
       "\n",
       "    .dataframe thead th {\n",
       "        text-align: right;\n",
       "    }\n",
       "</style>\n",
       "<table border=\"1\" class=\"dataframe\">\n",
       "  <thead>\n",
       "    <tr style=\"text-align: right;\">\n",
       "      <th></th>\n",
       "      <th>item</th>\n",
       "      <th>description</th>\n",
       "    </tr>\n",
       "  </thead>\n",
       "  <tbody>\n",
       "    <tr>\n",
       "      <th>0</th>\n",
       "      <td>0.png</td>\n",
       "      <td>ВНИМАНИЕ! Украшение для категории аксессуары в...</td>\n",
       "    </tr>\n",
       "    <tr>\n",
       "      <th>1</th>\n",
       "      <td>1.png</td>\n",
       "      <td>Четки Православные изготовлены из Кахолонга д-...</td>\n",
       "    </tr>\n",
       "    <tr>\n",
       "      <th>2</th>\n",
       "      <td>2.png</td>\n",
       "      <td>Четки Мусульманские изготовлены из зеленого ав...</td>\n",
       "    </tr>\n",
       "    <tr>\n",
       "      <th>3</th>\n",
       "      <td>3.png</td>\n",
       "      <td>На бирке вес , штрих код и УИН , по которому В...</td>\n",
       "    </tr>\n",
       "    <tr>\n",
       "      <th>4</th>\n",
       "      <td>4.png</td>\n",
       "      <td>Мусульманские четки изготовлены Агата д-10 мм ...</td>\n",
       "    </tr>\n",
       "    <tr>\n",
       "      <th>5</th>\n",
       "      <td>5.png</td>\n",
       "      <td>NaN</td>\n",
       "    </tr>\n",
       "    <tr>\n",
       "      <th>6</th>\n",
       "      <td>6.png</td>\n",
       "      <td>Мусульманские четки изготовлены из Кахолонга д...</td>\n",
       "    </tr>\n",
       "    <tr>\n",
       "      <th>7</th>\n",
       "      <td>7.png</td>\n",
       "      <td>Четки Мусульманские из агата 10 мм со вставкам...</td>\n",
       "    </tr>\n",
       "    <tr>\n",
       "      <th>8</th>\n",
       "      <td>8.png</td>\n",
       "      <td>Ювелирные мусульманские религиозные четки Куб...</td>\n",
       "    </tr>\n",
       "    <tr>\n",
       "      <th>9</th>\n",
       "      <td>9.png</td>\n",
       "      <td>Четки мусульманские изготовлены из граненого ч...</td>\n",
       "    </tr>\n",
       "    <tr>\n",
       "      <th>10</th>\n",
       "      <td>10.png</td>\n",
       "      <td>NaN</td>\n",
       "    </tr>\n",
       "    <tr>\n",
       "      <th>11</th>\n",
       "      <td>11.png</td>\n",
       "      <td>NaN</td>\n",
       "    </tr>\n",
       "    <tr>\n",
       "      <th>12</th>\n",
       "      <td>12.png</td>\n",
       "      <td>Чётки из серебра 925 пробы. Вставка: ювелирный...</td>\n",
       "    </tr>\n",
       "    <tr>\n",
       "      <th>13</th>\n",
       "      <td>13.png</td>\n",
       "      <td>Четки Мусульманские изготовлены из Радужного А...</td>\n",
       "    </tr>\n",
       "    <tr>\n",
       "      <th>14</th>\n",
       "      <td>14.png</td>\n",
       "      <td>Мусульманские четки изготовлены из Агата, вста...</td>\n",
       "    </tr>\n",
       "    <tr>\n",
       "      <th>15</th>\n",
       "      <td>15.png</td>\n",
       "      <td>Четки мусульманские изготовлены из граненого ч...</td>\n",
       "    </tr>\n",
       "    <tr>\n",
       "      <th>16</th>\n",
       "      <td>16.png</td>\n",
       "      <td>Мусульманские изготовлены изготовлены из Агата...</td>\n",
       "    </tr>\n",
       "    <tr>\n",
       "      <th>17</th>\n",
       "      <td>17.png</td>\n",
       "      <td>На бирке вес , штрих код и УИН , по которому В...</td>\n",
       "    </tr>\n",
       "    <tr>\n",
       "      <th>18</th>\n",
       "      <td>18.png</td>\n",
       "      <td>Четки Мусульманские изготовлены из малахита д-...</td>\n",
       "    </tr>\n",
       "    <tr>\n",
       "      <th>19</th>\n",
       "      <td>19.png</td>\n",
       "      <td>Четки Мусульманские изготовлены из кохолонга д...</td>\n",
       "    </tr>\n",
       "  </tbody>\n",
       "</table>\n",
       "</div>"
      ],
      "text/plain": [
       "      item                                        description\n",
       "0    0.png  ВНИМАНИЕ! Украшение для категории аксессуары в...\n",
       "1    1.png  Четки Православные изготовлены из Кахолонга д-...\n",
       "2    2.png  Четки Мусульманские изготовлены из зеленого ав...\n",
       "3    3.png  На бирке вес , штрих код и УИН , по которому В...\n",
       "4    4.png  Мусульманские четки изготовлены Агата д-10 мм ...\n",
       "5    5.png                                                NaN\n",
       "6    6.png  Мусульманские четки изготовлены из Кахолонга д...\n",
       "7    7.png  Четки Мусульманские из агата 10 мм со вставкам...\n",
       "8    8.png   Ювелирные мусульманские религиозные четки Куб...\n",
       "9    9.png  Четки мусульманские изготовлены из граненого ч...\n",
       "10  10.png                                                NaN\n",
       "11  11.png                                                NaN\n",
       "12  12.png  Чётки из серебра 925 пробы. Вставка: ювелирный...\n",
       "13  13.png  Четки Мусульманские изготовлены из Радужного А...\n",
       "14  14.png  Мусульманские четки изготовлены из Агата, вста...\n",
       "15  15.png  Четки мусульманские изготовлены из граненого ч...\n",
       "16  16.png  Мусульманские изготовлены изготовлены из Агата...\n",
       "17  17.png  На бирке вес , штрих код и УИН , по которому В...\n",
       "18  18.png  Четки Мусульманские изготовлены из малахита д-...\n",
       "19  19.png  Четки Мусульманские изготовлены из кохолонга д..."
      ]
     },
     "execution_count": 9,
     "metadata": {},
     "output_type": "execute_result"
    }
   ],
   "source": [
    "desc"
   ]
  },
  {
   "cell_type": "markdown",
   "id": "13436b2f",
   "metadata": {},
   "source": [
    "____"
   ]
  },
  {
   "cell_type": "markdown",
   "id": "25adb366",
   "metadata": {},
   "source": [
    "# Сбор статистики по спаршенным фотографиям"
   ]
  },
  {
   "cell_type": "code",
   "execution_count": 10,
   "id": "fe1977a3",
   "metadata": {},
   "outputs": [],
   "source": [
    "root_dir = Path(\"C:/temp/!hse-mlds-project-year2/woman/woman\")"
   ]
  },
  {
   "cell_type": "code",
   "execution_count": 11,
   "id": "059f63c2",
   "metadata": {},
   "outputs": [
    {
     "data": {
      "text/plain": [
       "13"
      ]
     },
     "execution_count": 11,
     "metadata": {},
     "output_type": "execute_result"
    }
   ],
   "source": [
    "# Кол-во категорий\n",
    "folders = os.listdir(root_dir)\n",
    "len(folders)"
   ]
  },
  {
   "cell_type": "code",
   "execution_count": 15,
   "id": "924647a0",
   "metadata": {
    "scrolled": true
   },
   "outputs": [
    {
     "name": "stdout",
     "output_type": "stream",
     "text": [
      "19 Feedbacks in Женщинам_Толстовки,&свитшоты&и&худи\n",
      "19 Feedbacks in Женщинам_Туники\n"
     ]
    }
   ],
   "source": [
    "df_dict = {col: [] for col in [\"card\", \"feedbacks\"]}\n",
    "\n",
    "for cat in folders:\n",
    "    path = root_dir / cat\n",
    "    path_card = path / \"card\"\n",
    "    path_feedbacks = path / \"feedbacks\"\n",
    "\n",
    "    # кол-во загруженных фоток\n",
    "    load_card = len(sorted(path_card.glob('*')))\n",
    "    load_feedbacks = len(sorted(path_feedbacks.glob('*')))\n",
    "    \n",
    "    if load_feedbacks < 20:\n",
    "        print(f\"{load_feedbacks} Feedbacks in {cat}\")\n",
    "\n",
    "#     if load_card < 20:\n",
    "#         print(f\"{load_card} Card in {cat}\")\n",
    "\n",
    "    df_dict[\"card\"].append(load_card)\n",
    "    df_dict[\"feedbacks\"].append(load_feedbacks)"
   ]
  },
  {
   "cell_type": "code",
   "execution_count": 16,
   "id": "4edc3d49",
   "metadata": {},
   "outputs": [
    {
     "data": {
      "text/html": [
       "<div>\n",
       "<style scoped>\n",
       "    .dataframe tbody tr th:only-of-type {\n",
       "        vertical-align: middle;\n",
       "    }\n",
       "\n",
       "    .dataframe tbody tr th {\n",
       "        vertical-align: top;\n",
       "    }\n",
       "\n",
       "    .dataframe thead th {\n",
       "        text-align: right;\n",
       "    }\n",
       "</style>\n",
       "<table border=\"1\" class=\"dataframe\">\n",
       "  <thead>\n",
       "    <tr style=\"text-align: right;\">\n",
       "      <th></th>\n",
       "      <th>card</th>\n",
       "      <th>feedbacks</th>\n",
       "    </tr>\n",
       "  </thead>\n",
       "  <tbody>\n",
       "    <tr>\n",
       "      <th>0</th>\n",
       "      <td>20</td>\n",
       "      <td>20</td>\n",
       "    </tr>\n",
       "    <tr>\n",
       "      <th>1</th>\n",
       "      <td>20</td>\n",
       "      <td>20</td>\n",
       "    </tr>\n",
       "    <tr>\n",
       "      <th>2</th>\n",
       "      <td>20</td>\n",
       "      <td>20</td>\n",
       "    </tr>\n",
       "    <tr>\n",
       "      <th>3</th>\n",
       "      <td>20</td>\n",
       "      <td>20</td>\n",
       "    </tr>\n",
       "    <tr>\n",
       "      <th>4</th>\n",
       "      <td>20</td>\n",
       "      <td>20</td>\n",
       "    </tr>\n",
       "  </tbody>\n",
       "</table>\n",
       "</div>"
      ],
      "text/plain": [
       "   card  feedbacks\n",
       "0    20         20\n",
       "1    20         20\n",
       "2    20         20\n",
       "3    20         20\n",
       "4    20         20"
      ]
     },
     "execution_count": 16,
     "metadata": {},
     "output_type": "execute_result"
    }
   ],
   "source": [
    "df = pd.DataFrame(df_dict)\n",
    "df.head()"
   ]
  },
  {
   "cell_type": "code",
   "execution_count": 17,
   "id": "af0fcd4a",
   "metadata": {},
   "outputs": [
    {
     "data": {
      "text/html": [
       "<div>\n",
       "<style scoped>\n",
       "    .dataframe tbody tr th:only-of-type {\n",
       "        vertical-align: middle;\n",
       "    }\n",
       "\n",
       "    .dataframe tbody tr th {\n",
       "        vertical-align: top;\n",
       "    }\n",
       "\n",
       "    .dataframe thead th {\n",
       "        text-align: right;\n",
       "    }\n",
       "</style>\n",
       "<table border=\"1\" class=\"dataframe\">\n",
       "  <thead>\n",
       "    <tr style=\"text-align: right;\">\n",
       "      <th></th>\n",
       "      <th>card</th>\n",
       "      <th>feedbacks</th>\n",
       "    </tr>\n",
       "  </thead>\n",
       "  <tbody>\n",
       "    <tr>\n",
       "      <th>count</th>\n",
       "      <td>13.0</td>\n",
       "      <td>13.000000</td>\n",
       "    </tr>\n",
       "    <tr>\n",
       "      <th>mean</th>\n",
       "      <td>20.0</td>\n",
       "      <td>19.846154</td>\n",
       "    </tr>\n",
       "    <tr>\n",
       "      <th>std</th>\n",
       "      <td>0.0</td>\n",
       "      <td>0.375534</td>\n",
       "    </tr>\n",
       "    <tr>\n",
       "      <th>min</th>\n",
       "      <td>20.0</td>\n",
       "      <td>19.000000</td>\n",
       "    </tr>\n",
       "    <tr>\n",
       "      <th>25%</th>\n",
       "      <td>20.0</td>\n",
       "      <td>20.000000</td>\n",
       "    </tr>\n",
       "    <tr>\n",
       "      <th>50%</th>\n",
       "      <td>20.0</td>\n",
       "      <td>20.000000</td>\n",
       "    </tr>\n",
       "    <tr>\n",
       "      <th>75%</th>\n",
       "      <td>20.0</td>\n",
       "      <td>20.000000</td>\n",
       "    </tr>\n",
       "    <tr>\n",
       "      <th>max</th>\n",
       "      <td>20.0</td>\n",
       "      <td>20.000000</td>\n",
       "    </tr>\n",
       "  </tbody>\n",
       "</table>\n",
       "</div>"
      ],
      "text/plain": [
       "       card  feedbacks\n",
       "count  13.0  13.000000\n",
       "mean   20.0  19.846154\n",
       "std     0.0   0.375534\n",
       "min    20.0  19.000000\n",
       "25%    20.0  20.000000\n",
       "50%    20.0  20.000000\n",
       "75%    20.0  20.000000\n",
       "max    20.0  20.000000"
      ]
     },
     "execution_count": 17,
     "metadata": {},
     "output_type": "execute_result"
    }
   ],
   "source": [
    "df.describe()"
   ]
  },
  {
   "cell_type": "code",
   "execution_count": 18,
   "id": "c74b1190",
   "metadata": {},
   "outputs": [
    {
     "data": {
      "text/plain": [
       "feedbacks\n",
       "20    11\n",
       "19     2\n",
       "Name: count, dtype: int64"
      ]
     },
     "execution_count": 18,
     "metadata": {},
     "output_type": "execute_result"
    }
   ],
   "source": [
    "df.feedbacks.value_counts()"
   ]
  },
  {
   "cell_type": "code",
   "execution_count": 8,
   "id": "cf8a4dd9",
   "metadata": {},
   "outputs": [
    {
     "data": {
      "text/plain": [
       "card\n",
       "20    1575\n",
       "19       2\n",
       "18       1\n",
       "4        1\n",
       "1        1\n",
       "Name: count, dtype: int64"
      ]
     },
     "execution_count": 8,
     "metadata": {},
     "output_type": "execute_result"
    }
   ],
   "source": [
    "df.card.value_counts()"
   ]
  },
  {
   "cell_type": "markdown",
   "id": "fed3913c",
   "metadata": {},
   "source": [
    "18 Card in Дом_Кухня_Кухонный&текстиль_Чехлы&для&ручек&холодильников  \n",
    "4 Card in Дом_Освещение_Лифты&для&люстр                                _(удалить либо перенести)_  \n",
    "19 Card in Мебель_Гардеробная&мебель_Ящики                             _(можно до 20 добрать)_  \n",
    "1 Card in Мебель_Офисная&мебель_Перегородки&офисные                    _(удалить либо перенести)_  \n",
    "19 Card in Мебель_Офисная&мебель_Шкафы  "
   ]
  },
  {
   "cell_type": "markdown",
   "id": "b94f4e0c",
   "metadata": {},
   "source": [
    "___"
   ]
  },
  {
   "cell_type": "markdown",
   "id": "a3839bf7",
   "metadata": {},
   "source": [
    "# Проверка на дубликаты ссылок"
   ]
  },
  {
   "cell_type": "code",
   "execution_count": 180,
   "id": "2b7b53f5",
   "metadata": {},
   "outputs": [
    {
     "data": {
      "text/html": [
       "<div>\n",
       "<style scoped>\n",
       "    .dataframe tbody tr th:only-of-type {\n",
       "        vertical-align: middle;\n",
       "    }\n",
       "\n",
       "    .dataframe tbody tr th {\n",
       "        vertical-align: top;\n",
       "    }\n",
       "\n",
       "    .dataframe thead th {\n",
       "        text-align: right;\n",
       "    }\n",
       "</style>\n",
       "<table border=\"1\" class=\"dataframe\">\n",
       "  <thead>\n",
       "    <tr style=\"text-align: right;\">\n",
       "      <th></th>\n",
       "      <th>category_1</th>\n",
       "      <th>category_2</th>\n",
       "      <th>category_3</th>\n",
       "      <th>category_4</th>\n",
       "      <th>category_5</th>\n",
       "      <th>url</th>\n",
       "    </tr>\n",
       "  </thead>\n",
       "  <tbody>\n",
       "    <tr>\n",
       "      <th>0</th>\n",
       "      <td>Автотовары</td>\n",
       "      <td>Мойки высокого давления и аксессуары</td>\n",
       "      <td>Цепные пилы</td>\n",
       "      <td>NaN</td>\n",
       "      <td>NaN</td>\n",
       "      <td>https://www.wildberries.ru/catalog/dom/dachniy...</td>\n",
       "    </tr>\n",
       "    <tr>\n",
       "      <th>1</th>\n",
       "      <td>Автотовары</td>\n",
       "      <td>Автокосметика и автохимия</td>\n",
       "      <td>Присадки</td>\n",
       "      <td>NaN</td>\n",
       "      <td>NaN</td>\n",
       "      <td>https://www.wildberries.ru/catalog/avtotovary/...</td>\n",
       "    </tr>\n",
       "    <tr>\n",
       "      <th>2</th>\n",
       "      <td>Автотовары</td>\n",
       "      <td>Автокосметика и автохимия</td>\n",
       "      <td>Смазки автомобильные</td>\n",
       "      <td>NaN</td>\n",
       "      <td>NaN</td>\n",
       "      <td>https://www.wildberries.ru/catalog/avtotovary/...</td>\n",
       "    </tr>\n",
       "    <tr>\n",
       "      <th>3</th>\n",
       "      <td>Автотовары</td>\n",
       "      <td>Автокосметика и автохимия</td>\n",
       "      <td>Уход за стеклами и фарами</td>\n",
       "      <td>NaN</td>\n",
       "      <td>NaN</td>\n",
       "      <td>https://www.wildberries.ru/catalog/aksessuary/...</td>\n",
       "    </tr>\n",
       "    <tr>\n",
       "      <th>4</th>\n",
       "      <td>Автотовары</td>\n",
       "      <td>Автокосметика и автохимия</td>\n",
       "      <td>Уход за салоном</td>\n",
       "      <td>NaN</td>\n",
       "      <td>NaN</td>\n",
       "      <td>https://www.wildberries.ru/catalog/aksessuary/...</td>\n",
       "    </tr>\n",
       "  </tbody>\n",
       "</table>\n",
       "</div>"
      ],
      "text/plain": [
       "   category_1                            category_2  \\\n",
       "0  Автотовары  Мойки высокого давления и аксессуары   \n",
       "1  Автотовары             Автокосметика и автохимия   \n",
       "2  Автотовары             Автокосметика и автохимия   \n",
       "3  Автотовары             Автокосметика и автохимия   \n",
       "4  Автотовары             Автокосметика и автохимия   \n",
       "\n",
       "                  category_3 category_4 category_5  \\\n",
       "0                Цепные пилы        NaN        NaN   \n",
       "1                   Присадки        NaN        NaN   \n",
       "2       Смазки автомобильные        NaN        NaN   \n",
       "3  Уход за стеклами и фарами        NaN        NaN   \n",
       "4            Уход за салоном        NaN        NaN   \n",
       "\n",
       "                                                 url  \n",
       "0  https://www.wildberries.ru/catalog/dom/dachniy...  \n",
       "1  https://www.wildberries.ru/catalog/avtotovary/...  \n",
       "2  https://www.wildberries.ru/catalog/avtotovary/...  \n",
       "3  https://www.wildberries.ru/catalog/aksessuary/...  \n",
       "4  https://www.wildberries.ru/catalog/aksessuary/...  "
      ]
     },
     "execution_count": 180,
     "metadata": {},
     "output_type": "execute_result"
    }
   ],
   "source": [
    "categories = pd.read_csv(\"wb_categories_full_clear.csv\")\n",
    "categories.head()"
   ]
  },
  {
   "cell_type": "code",
   "execution_count": 181,
   "id": "45fde442",
   "metadata": {},
   "outputs": [
    {
     "data": {
      "text/html": [
       "<div>\n",
       "<style scoped>\n",
       "    .dataframe tbody tr th:only-of-type {\n",
       "        vertical-align: middle;\n",
       "    }\n",
       "\n",
       "    .dataframe tbody tr th {\n",
       "        vertical-align: top;\n",
       "    }\n",
       "\n",
       "    .dataframe thead th {\n",
       "        text-align: right;\n",
       "    }\n",
       "</style>\n",
       "<table border=\"1\" class=\"dataframe\">\n",
       "  <thead>\n",
       "    <tr style=\"text-align: right;\">\n",
       "      <th></th>\n",
       "      <th>category_1</th>\n",
       "      <th>category_2</th>\n",
       "      <th>category_3</th>\n",
       "      <th>category_4</th>\n",
       "      <th>category_5</th>\n",
       "      <th>url</th>\n",
       "    </tr>\n",
       "  </thead>\n",
       "  <tbody>\n",
       "    <tr>\n",
       "      <th>0</th>\n",
       "      <td>Автотовары</td>\n",
       "      <td>Мойки высокого давления и аксессуары</td>\n",
       "      <td>Цепные пилы</td>\n",
       "      <td>NaN</td>\n",
       "      <td>NaN</td>\n",
       "      <td>https://www.wildberries.ru/catalog/dom/dachniy...</td>\n",
       "    </tr>\n",
       "    <tr>\n",
       "      <th>13</th>\n",
       "      <td>Автотовары</td>\n",
       "      <td>Автоэлектроника и навигация</td>\n",
       "      <td>NaN</td>\n",
       "      <td>NaN</td>\n",
       "      <td>NaN</td>\n",
       "      <td>https://www.wildberries.ru/catalog/elektronika...</td>\n",
       "    </tr>\n",
       "    <tr>\n",
       "      <th>14</th>\n",
       "      <td>Автотовары</td>\n",
       "      <td>Аккумуляторы и сопутствующие товары</td>\n",
       "      <td>NaN</td>\n",
       "      <td>NaN</td>\n",
       "      <td>NaN</td>\n",
       "      <td>https://www.wildberries.ru/catalog/aksessuary/...</td>\n",
       "    </tr>\n",
       "    <tr>\n",
       "      <th>48</th>\n",
       "      <td>Автотовары</td>\n",
       "      <td>Мойки высокого давления и аксессуары</td>\n",
       "      <td>Аксессуары и запчасти для садовой техники</td>\n",
       "      <td>NaN</td>\n",
       "      <td>NaN</td>\n",
       "      <td>https://www.wildberries.ru/catalog/dom/dachniy...</td>\n",
       "    </tr>\n",
       "    <tr>\n",
       "      <th>49</th>\n",
       "      <td>Автотовары</td>\n",
       "      <td>Мойки высокого давления и аксессуары</td>\n",
       "      <td>Садовые измельчители</td>\n",
       "      <td>NaN</td>\n",
       "      <td>NaN</td>\n",
       "      <td>https://www.wildberries.ru/catalog/dom/dachniy...</td>\n",
       "    </tr>\n",
       "    <tr>\n",
       "      <th>...</th>\n",
       "      <td>...</td>\n",
       "      <td>...</td>\n",
       "      <td>...</td>\n",
       "      <td>...</td>\n",
       "      <td>...</td>\n",
       "      <td>...</td>\n",
       "    </tr>\n",
       "    <tr>\n",
       "      <th>1647</th>\n",
       "      <td>Электроника</td>\n",
       "      <td>Смартфоны и телефоны</td>\n",
       "      <td>Стационарные телефоны</td>\n",
       "      <td>NaN</td>\n",
       "      <td>NaN</td>\n",
       "      <td>https://www.wildberries.ru/catalog/elektronika...</td>\n",
       "    </tr>\n",
       "    <tr>\n",
       "      <th>1648</th>\n",
       "      <td>Электроника</td>\n",
       "      <td>Смартфоны и телефоны</td>\n",
       "      <td>Смартфоны</td>\n",
       "      <td>NaN</td>\n",
       "      <td>NaN</td>\n",
       "      <td>https://www.wildberries.ru/catalog/elektronika...</td>\n",
       "    </tr>\n",
       "    <tr>\n",
       "      <th>1649</th>\n",
       "      <td>Электроника</td>\n",
       "      <td>Смартфоны и телефоны</td>\n",
       "      <td>Планшеты</td>\n",
       "      <td>NaN</td>\n",
       "      <td>NaN</td>\n",
       "      <td>https://www.wildberries.ru/catalog/elektronika...</td>\n",
       "    </tr>\n",
       "    <tr>\n",
       "      <th>1650</th>\n",
       "      <td>Электроника</td>\n",
       "      <td>Смартфоны и телефоны</td>\n",
       "      <td>Мобильные телефоны</td>\n",
       "      <td>NaN</td>\n",
       "      <td>NaN</td>\n",
       "      <td>https://www.wildberries.ru/catalog/elektronika...</td>\n",
       "    </tr>\n",
       "    <tr>\n",
       "      <th>1651</th>\n",
       "      <td>Электроника</td>\n",
       "      <td>Смартфоны и телефоны</td>\n",
       "      <td>Пленки защитные</td>\n",
       "      <td>NaN</td>\n",
       "      <td>NaN</td>\n",
       "      <td>https://www.wildberries.ru/catalog/elektronika...</td>\n",
       "    </tr>\n",
       "  </tbody>\n",
       "</table>\n",
       "<p>156 rows × 6 columns</p>\n",
       "</div>"
      ],
      "text/plain": [
       "       category_1                            category_2  \\\n",
       "0      Автотовары  Мойки высокого давления и аксессуары   \n",
       "13     Автотовары           Автоэлектроника и навигация   \n",
       "14     Автотовары   Аккумуляторы и сопутствующие товары   \n",
       "48     Автотовары  Мойки высокого давления и аксессуары   \n",
       "49     Автотовары  Мойки высокого давления и аксессуары   \n",
       "...           ...                                   ...   \n",
       "1647  Электроника                  Смартфоны и телефоны   \n",
       "1648  Электроника                  Смартфоны и телефоны   \n",
       "1649  Электроника                  Смартфоны и телефоны   \n",
       "1650  Электроника                  Смартфоны и телефоны   \n",
       "1651  Электроника                  Смартфоны и телефоны   \n",
       "\n",
       "                                     category_3 category_4 category_5  \\\n",
       "0                                   Цепные пилы        NaN        NaN   \n",
       "13                                          NaN        NaN        NaN   \n",
       "14                                          NaN        NaN        NaN   \n",
       "48    Аксессуары и запчасти для садовой техники        NaN        NaN   \n",
       "49                         Садовые измельчители        NaN        NaN   \n",
       "...                                         ...        ...        ...   \n",
       "1647                      Стационарные телефоны        NaN        NaN   \n",
       "1648                                  Смартфоны        NaN        NaN   \n",
       "1649                                   Планшеты        NaN        NaN   \n",
       "1650                         Мобильные телефоны        NaN        NaN   \n",
       "1651                            Пленки защитные        NaN        NaN   \n",
       "\n",
       "                                                    url  \n",
       "0     https://www.wildberries.ru/catalog/dom/dachniy...  \n",
       "13    https://www.wildberries.ru/catalog/elektronika...  \n",
       "14    https://www.wildberries.ru/catalog/aksessuary/...  \n",
       "48    https://www.wildberries.ru/catalog/dom/dachniy...  \n",
       "49    https://www.wildberries.ru/catalog/dom/dachniy...  \n",
       "...                                                 ...  \n",
       "1647  https://www.wildberries.ru/catalog/elektronika...  \n",
       "1648  https://www.wildberries.ru/catalog/elektronika...  \n",
       "1649  https://www.wildberries.ru/catalog/elektronika...  \n",
       "1650  https://www.wildberries.ru/catalog/elektronika...  \n",
       "1651  https://www.wildberries.ru/catalog/elektronika...  \n",
       "\n",
       "[156 rows x 6 columns]"
      ]
     },
     "execution_count": 181,
     "metadata": {},
     "output_type": "execute_result"
    }
   ],
   "source": [
    "df_dupl = categories[categories.duplicated(['url'], keep=False)]\n",
    "df_dupl"
   ]
  },
  {
   "cell_type": "code",
   "execution_count": 182,
   "id": "172c90e7",
   "metadata": {},
   "outputs": [
    {
     "data": {
      "text/plain": [
       "Index([   0,   13,   14,   48,   49,   50,   51,   52,   68,   69,\n",
       "       ...\n",
       "       1640, 1641, 1642, 1643, 1646, 1647, 1648, 1649, 1650, 1651],\n",
       "      dtype='int64', length=156)"
      ]
     },
     "execution_count": 182,
     "metadata": {},
     "output_type": "execute_result"
    }
   ],
   "source": [
    "df_dupl.index"
   ]
  },
  {
   "cell_type": "code",
   "execution_count": 183,
   "id": "714be5d9",
   "metadata": {},
   "outputs": [],
   "source": [
    "duplicates = defaultdict(list)\n",
    "\n",
    "for ind in df_dupl.index:\n",
    "    url = df_dupl.loc[ind][\"url\"]\n",
    "    duplicates[url].append(ind)"
   ]
  },
  {
   "cell_type": "code",
   "execution_count": 184,
   "id": "343a8f1c",
   "metadata": {},
   "outputs": [
    {
     "name": "stdout",
     "output_type": "stream",
     "text": [
      "69\n"
     ]
    },
    {
     "data": {
      "text/plain": [
       "defaultdict(list,\n",
       "            {'https://www.wildberries.ru/catalog/dom/dachniy-sezon/sadovaya-tehnika/tsepnye-pily': [0,\n",
       "              1440,\n",
       "              1480],\n",
       "             'https://www.wildberries.ru/catalog/elektronika/avtoelektronika': [13,\n",
       "              259],\n",
       "             'https://www.wildberries.ru/catalog/aksessuary/avtotovary/akkumulyatory-i-soputstvuyushchie-tovary': [14,\n",
       "              1588],\n",
       "             'https://www.wildberries.ru/catalog/dom/dachniy-sezon/sadovaya-tehnika/aksessuary-i-zapchasti-dlya-sadovoy-tehniki': [48,\n",
       "              1473,\n",
       "              1475],\n",
       "             'https://www.wildberries.ru/catalog/dom/dachniy-sezon/sadovaya-tehnika/sadovye-izmelchiteli': [49,\n",
       "              1470,\n",
       "              1476],\n",
       "             'https://www.wildberries.ru/catalog/dom/dachniy-sezon/sadovaya-tehnika/motobury-i-aksessuary-k-nim': [50,\n",
       "              1478,\n",
       "              1498],\n",
       "             'https://www.wildberries.ru/catalog/dom/dachniy-sezon/sadovaya-tehnika/kultivatory-i-motobloki': [51,\n",
       "              1491,\n",
       "              1495],\n",
       "             'https://www.wildberries.ru/catalog/sad-i-dacha/sadovaya-tehnika/drovokoly-elektricheskie': [52,\n",
       "              1415,\n",
       "              1479],\n",
       "             'https://www.wildberries.ru/catalog/avtotovary/kovriki': [68,\n",
       "              1587],\n",
       "             'https://www.wildberries.ru/catalog/aksessuary/avtotovary/avtoaksessuary-i-dopolnitelnoe-oborudovanie/vneshniy-tyuning': [69,\n",
       "              1593],\n",
       "             'https://www.wildberries.ru/catalog/dom/dachniy-sezon/sadovaya-tehnika/snegouborshchiki': [73,\n",
       "              1413,\n",
       "              1482],\n",
       "             'https://www.wildberries.ru/catalog/dom/dachniy-sezon/sadovaya-tehnika/tehnika-dlya-fermerskih-hozyaystv': [74,\n",
       "              1474,\n",
       "              1502],\n",
       "             'https://www.wildberries.ru/catalog/sad-i-dacha/sadovaya-tehnika/akkumulyatornye-suchkorezy-i-sekatory': [75,\n",
       "              1471,\n",
       "              1490],\n",
       "             'https://www.wildberries.ru/catalog/dom/dachniy-sezon/sadovaya-tehnika/nozhnitsy-sadovye-elektricheskie-i-akkumulyatornye': [77,\n",
       "              1472,\n",
       "              1497],\n",
       "             'https://www.wildberries.ru/catalog/avtotovary/zapchasti-na-silovuyu-tehniku': [82,\n",
       "              1580],\n",
       "             'https://www.wildberries.ru/catalog/aksessuary/avtotovary/avtoaksessuary-i-dopolnitelnoe-oborudovanie/offroad': [83,\n",
       "              1581],\n",
       "             'https://www.wildberries.ru/catalog/avtotovary/zapchasti-dlya-lodok-i-katerov': [86,\n",
       "              1579],\n",
       "             'https://www.wildberries.ru/catalog/dom/dachniy-sezon/sadovaya-tehnika/aeratory-gazonnye': [90,\n",
       "              1442,\n",
       "              1483],\n",
       "             'https://www.wildberries.ru/catalog/dom/dachniy-sezon/poliv-i-vodosnabzhenie/nasosy-i-pompy': [91,\n",
       "              1458,\n",
       "              1469,\n",
       "              1489],\n",
       "             'https://www.wildberries.ru/catalog/dom/sad-i-dacha/sadovaya-tehnika/podmetalnye-mashiny': [92,\n",
       "              1441,\n",
       "              1484],\n",
       "             'https://www.wildberries.ru/catalog/dom/dachniy-sezon/sadovaya-tehnika/gazonokosilki': [93,\n",
       "              1414,\n",
       "              1485],\n",
       "             'https://www.wildberries.ru/catalog/dom/dachniy-sezon/sadovaya-tehnika/trimmery': [94,\n",
       "              1389,\n",
       "              1486],\n",
       "             'https://www.wildberries.ru/catalog/dom/dachniy-sezon/sadovaya-tehnika/sadovye-pylesosy': [95,\n",
       "              1467,\n",
       "              1487],\n",
       "             'https://www.wildberries.ru/catalog/dom/sad-i-dacha/sadovaya-tehnika/opryskivateli': [96,\n",
       "              1468,\n",
       "              1488],\n",
       "             'https://www.wildberries.ru/catalog/elektronika/tehnika-dlya-doma/shveynoe-oborudovanie': [160,\n",
       "              398],\n",
       "             'https://www.wildberries.ru/catalog/elektronika/krasota-i-zdorove/britvy-i-trimmery': [168,\n",
       "              1058],\n",
       "             'https://www.wildberries.ru/catalog/elektronika/tehnika-dlya-doma/vesy': [169,\n",
       "              1051],\n",
       "             'https://www.wildberries.ru/catalog/elektronika/zubnye-shchetki': [170,\n",
       "              1052],\n",
       "             'https://www.wildberries.ru/catalog/elektronika/krasota-i-zdorove/massazhery-elektricheskie': [172,\n",
       "              1053],\n",
       "             'https://www.wildberries.ru/catalog/elektronika/krasota-i-zdorove/meditsinskie-pribory': [174,\n",
       "              1056],\n",
       "             'https://www.wildberries.ru/catalog/elektronika/krasota-i-zdorove/professionalnaya-parikmaherskaya-tehnika/bytovaya-tehnika': [175,\n",
       "              1057],\n",
       "             'https://www.wildberries.ru/catalog/elektronika/feny-i-pribory-dlya-ukladki': [176,\n",
       "              1075],\n",
       "             'https://www.wildberries.ru/catalog/elektronika/krasota-i-zdorove/epilyatory': [177,\n",
       "              1079],\n",
       "             'https://www.wildberries.ru/catalog/elektronika/krasota-i-zdorove/britvy-i-trimmery/mashinki-dlya-strizhki-volos': [179,\n",
       "              1055],\n",
       "             'https://www.wildberries.ru/catalog/sport/elektrotransport-i-aksessuary': [195,\n",
       "              1595],\n",
       "             'https://www.wildberries.ru/catalog/elektronika/umnyy-dom': [204,\n",
       "              1619],\n",
       "             'https://www.wildberries.ru/catalog/elektronika/torgovoe-oborudovanie': [218,\n",
       "              1618],\n",
       "             'https://www.wildberries.ru/catalog/elektronika/solnechnye-elektrostantsii-i-komplektuyushchie': [220,\n",
       "              1640],\n",
       "             'https://www.wildberries.ru/catalog/elektronika/igry-i-razvlecheniya/aksessuary/garnitury': [260,\n",
       "              1635],\n",
       "             'https://www.wildberries.ru/catalog/elektronika/kabeli-i-zaryadnye-ustroystva': [261,\n",
       "              1555],\n",
       "             'https://www.wildberries.ru/catalog/elektronika/muzyka-i-video': [263,\n",
       "              1554],\n",
       "             'https://www.wildberries.ru/catalog/elektronika/razvlecheniya-i-gadzhety': [265,\n",
       "              1596],\n",
       "             'https://www.wildberries.ru/catalog/elektronika/setevoe-oborudovanie': [266,\n",
       "              1625],\n",
       "             'https://www.wildberries.ru/catalog/elektronika/smart-chasy': [268,\n",
       "              1641],\n",
       "             'https://www.wildberries.ru/catalog/knigi-i-kantstovary/kantstovary/risovanie-i-lepka': [387,\n",
       "              918],\n",
       "             'https://www.wildberries.ru/catalog/dlya-doma/predmety-interera/kovriki': [538,\n",
       "              644],\n",
       "             'https://www.wildberries.ru/catalog/dom/prihozhaya/zerkala-interernye': [618,\n",
       "              1169],\n",
       "             'https://www.wildberries.ru/catalog/dom-i-dacha/otdyh-na-prirode/posuda': [669,\n",
       "              1418],\n",
       "             'https://www.wildberries.ru/catalog/dom/sad-i-dacha/gorshki-opory-i-vse-dlya-rassady/fitolampy-i-fitosvetilniki-dlya-rasteniy': [672,\n",
       "              1404],\n",
       "             'https://www.wildberries.ru/catalog/krasota/aksessuary/dlya-manikyura-i-pedikyura': [1065,\n",
       "              1107],\n",
       "             'https://www.wildberries.ru/catalog/mebel/mebel-dlya-prihozhey/zerkala': [1154,\n",
       "              1165],\n",
       "             'https://www.wildberries.ru/catalog/mebel/mebel-dlya-prihozhey/shkafy': [1156,\n",
       "              1221],\n",
       "             'https://www.wildberries.ru/catalog/dom/mebel/mebel-dlya-spalni/zerkala': [1160,\n",
       "              1164],\n",
       "             'https://www.wildberries.ru/catalog/dom/dachniy-sezon/moyki-vysokogo-davleniya-i-aksessuary': [1481,\n",
       "              1583],\n",
       "             'https://www.wildberries.ru/catalog/elektronika/smartfony-i-telefony/derzhateli': [1526,\n",
       "              1636],\n",
       "             'https://www.wildberries.ru/catalog/elektronika/smartfony-i-telefony/zapchasti-dlya-ustroystv': [1527,\n",
       "              1639],\n",
       "             'https://www.wildberries.ru/catalog/elektronika/smartfony-i-telefony/karty-pamyati': [1528,\n",
       "              1638],\n",
       "             'https://www.wildberries.ru/catalog/elektronika/telefony-i-gadzhety/mobilnye-telefony': [1529,\n",
       "              1650],\n",
       "             'https://www.wildberries.ru/catalog/elektronika/planshety': [1530,\n",
       "              1649],\n",
       "             'https://www.wildberries.ru/catalog/elektronika/smartfony-i-telefony/vse-smartfony': [1531,\n",
       "              1648],\n",
       "             'https://www.wildberries.ru/catalog/elektronika/tehnika-dlya-doma/telefony-statsionarnye': [1532,\n",
       "              1647],\n",
       "             'https://www.wildberries.ru/catalog/elektronika/smartfony-i-telefony/stekla-i-plenki': [1533,\n",
       "              1646],\n",
       "             'https://www.wildberries.ru/catalog/elektronika/smartfony-i-telefony/plenki-zashchitnye': [1534,\n",
       "              1651],\n",
       "             'https://www.wildberries.ru/catalog/elektronika/smartfony-i-telefony/shnurki-i-koltsa': [1536,\n",
       "              1643],\n",
       "             'https://www.wildberries.ru/catalog/elektronika/smartfony-i-telefony/flash-nakopiteli': [1537,\n",
       "              1642],\n",
       "             'https://www.wildberries.ru/catalog/elektronika/smartfony-i-telefony/aksessuary-dlya-semki': [1549,\n",
       "              1634],\n",
       "             'https://www.wildberries.ru/catalog/elektronika/smartfony-i-telefony/aksessuary-dlya-smartfonov': [1558,\n",
       "              1633],\n",
       "             'https://www.wildberries.ru/catalog/elektronika/smartfony-i-telefony/planshety/aksessuary-dlya-planshetov': [1559,\n",
       "              1632],\n",
       "             'https://www.wildberries.ru/catalog/elektronika/smartfony-i-telefony/sim-karty': [1560,\n",
       "              1631]})"
      ]
     },
     "execution_count": 184,
     "metadata": {},
     "output_type": "execute_result"
    }
   ],
   "source": [
    "print(len(duplicates))\n",
    "duplicates"
   ]
  },
  {
   "cell_type": "code",
   "execution_count": 185,
   "id": "9f4cf880",
   "metadata": {},
   "outputs": [
    {
     "data": {
      "text/plain": [
       "('https://www.wildberries.ru/catalog/podarki/detyam/shariki-i-upakovka',\n",
       " 'https://www.wildberries.ru/catalog/knigi/bukinistika/lyubovnye-romany')"
      ]
     },
     "execution_count": 185,
     "metadata": {},
     "output_type": "execute_result"
    }
   ],
   "source": [
    "categories[\"url\"][207], categories[\"url\"][976]"
   ]
  },
  {
   "cell_type": "code",
   "execution_count": 186,
   "id": "aab91094",
   "metadata": {},
   "outputs": [],
   "source": [
    "df_duplicates = pd.DataFrame(duplicates.items(), columns=[\"url\", \"index\"])"
   ]
  },
  {
   "cell_type": "code",
   "execution_count": 187,
   "id": "6f3b0e0f",
   "metadata": {},
   "outputs": [],
   "source": [
    "#df_duplicates.to_csv(\"wb_categories_dublicates.csv\", index=False)"
   ]
  },
  {
   "cell_type": "code",
   "execution_count": null,
   "id": "33702265",
   "metadata": {},
   "outputs": [],
   "source": []
  },
  {
   "cell_type": "code",
   "execution_count": 24,
   "id": "4d361dc1",
   "metadata": {},
   "outputs": [
    {
     "data": {
      "text/html": [
       "<div>\n",
       "<style scoped>\n",
       "    .dataframe tbody tr th:only-of-type {\n",
       "        vertical-align: middle;\n",
       "    }\n",
       "\n",
       "    .dataframe tbody tr th {\n",
       "        vertical-align: top;\n",
       "    }\n",
       "\n",
       "    .dataframe thead th {\n",
       "        text-align: right;\n",
       "    }\n",
       "</style>\n",
       "<table border=\"1\" class=\"dataframe\">\n",
       "  <thead>\n",
       "    <tr style=\"text-align: right;\">\n",
       "      <th></th>\n",
       "      <th>brand</th>\n",
       "      <th>style</th>\n",
       "      <th>rating</th>\n",
       "    </tr>\n",
       "  </thead>\n",
       "  <tbody>\n",
       "    <tr>\n",
       "      <th>0</th>\n",
       "      <td>Yum Yum</td>\n",
       "      <td>cup</td>\n",
       "      <td>4.0</td>\n",
       "    </tr>\n",
       "    <tr>\n",
       "      <th>1</th>\n",
       "      <td>Yum Yum</td>\n",
       "      <td>cup</td>\n",
       "      <td>4.0</td>\n",
       "    </tr>\n",
       "    <tr>\n",
       "      <th>2</th>\n",
       "      <td>Indomie</td>\n",
       "      <td>cup</td>\n",
       "      <td>3.5</td>\n",
       "    </tr>\n",
       "    <tr>\n",
       "      <th>3</th>\n",
       "      <td>Indomie</td>\n",
       "      <td>pack</td>\n",
       "      <td>15.0</td>\n",
       "    </tr>\n",
       "    <tr>\n",
       "      <th>4</th>\n",
       "      <td>Indomie</td>\n",
       "      <td>pack</td>\n",
       "      <td>5.0</td>\n",
       "    </tr>\n",
       "  </tbody>\n",
       "</table>\n",
       "</div>"
      ],
      "text/plain": [
       "     brand style  rating\n",
       "0  Yum Yum   cup     4.0\n",
       "1  Yum Yum   cup     4.0\n",
       "2  Indomie   cup     3.5\n",
       "3  Indomie  pack    15.0\n",
       "4  Indomie  pack     5.0"
      ]
     },
     "execution_count": 24,
     "metadata": {},
     "output_type": "execute_result"
    }
   ],
   "source": [
    "df = pd.DataFrame({\n",
    "    'brand': ['Yum Yum', 'Yum Yum', 'Indomie', 'Indomie', 'Indomie'],\n",
    "    'style': ['cup', 'cup', 'cup', 'pack', 'pack'],\n",
    "    'rating': [4, 4, 3.5, 15, 5]\n",
    "})\n",
    "df"
   ]
  },
  {
   "cell_type": "code",
   "execution_count": 25,
   "id": "accfdd17",
   "metadata": {},
   "outputs": [
    {
     "data": {
      "text/html": [
       "<div>\n",
       "<style scoped>\n",
       "    .dataframe tbody tr th:only-of-type {\n",
       "        vertical-align: middle;\n",
       "    }\n",
       "\n",
       "    .dataframe tbody tr th {\n",
       "        vertical-align: top;\n",
       "    }\n",
       "\n",
       "    .dataframe thead th {\n",
       "        text-align: right;\n",
       "    }\n",
       "</style>\n",
       "<table border=\"1\" class=\"dataframe\">\n",
       "  <thead>\n",
       "    <tr style=\"text-align: right;\">\n",
       "      <th></th>\n",
       "      <th>brand</th>\n",
       "      <th>style</th>\n",
       "      <th>rating</th>\n",
       "    </tr>\n",
       "  </thead>\n",
       "  <tbody>\n",
       "    <tr>\n",
       "      <th>0</th>\n",
       "      <td>Yum Yum</td>\n",
       "      <td>cup</td>\n",
       "      <td>4.0</td>\n",
       "    </tr>\n",
       "    <tr>\n",
       "      <th>1</th>\n",
       "      <td>Yum Yum</td>\n",
       "      <td>cup</td>\n",
       "      <td>4.0</td>\n",
       "    </tr>\n",
       "    <tr>\n",
       "      <th>2</th>\n",
       "      <td>Indomie</td>\n",
       "      <td>cup</td>\n",
       "      <td>3.5</td>\n",
       "    </tr>\n",
       "    <tr>\n",
       "      <th>3</th>\n",
       "      <td>Indomie</td>\n",
       "      <td>pack</td>\n",
       "      <td>15.0</td>\n",
       "    </tr>\n",
       "    <tr>\n",
       "      <th>4</th>\n",
       "      <td>Indomie</td>\n",
       "      <td>pack</td>\n",
       "      <td>5.0</td>\n",
       "    </tr>\n",
       "  </tbody>\n",
       "</table>\n",
       "</div>"
      ],
      "text/plain": [
       "     brand style  rating\n",
       "0  Yum Yum   cup     4.0\n",
       "1  Yum Yum   cup     4.0\n",
       "2  Indomie   cup     3.5\n",
       "3  Indomie  pack    15.0\n",
       "4  Indomie  pack     5.0"
      ]
     },
     "execution_count": 25,
     "metadata": {},
     "output_type": "execute_result"
    }
   ],
   "source": [
    "df[df.duplicated(['style'], keep=False)]"
   ]
  },
  {
   "cell_type": "markdown",
   "id": "b7ff1c66",
   "metadata": {},
   "source": [
    "___"
   ]
  },
  {
   "cell_type": "markdown",
   "id": "ca6f3385",
   "metadata": {},
   "source": [
    "## удаление дубликатов"
   ]
  },
  {
   "cell_type": "code",
   "execution_count": 188,
   "id": "63ed1645",
   "metadata": {},
   "outputs": [],
   "source": [
    "df_duplicates_choose = pd.read_csv(\"E://!docum//!HSE магистратура//Задание диплом//wb_categories_dublicates.csv\")\n",
    "#df_duplicates = pd.read_csv(\"wb_categories_dublicates.csv\")\n",
    "\n",
    "df_duplicates_choose = pd.concat([df_duplicates_choose[:12],\n",
    "                                  pd.DataFrame([np.nan], columns=[\"choose_category\"]),\n",
    "                                  df_duplicates_choose[12:]], axis=0)\n",
    "df_duplicates_choose.reset_index(drop=True, inplace=True)\n",
    "\n",
    "df_duplicates = pd.concat([df_duplicates, df_duplicates_choose], axis=1)\n",
    "#df_duplicates[\"delete\"] = df_duplicates[\"index\"].copy(deep=True)"
   ]
  },
  {
   "cell_type": "code",
   "execution_count": 189,
   "id": "5e3b5979",
   "metadata": {
    "scrolled": true
   },
   "outputs": [],
   "source": [
    "df_duplicates.apply(lambda x : x[\"index\"].remove(x[\"choose_category\"]) if (str(x[\"choose_category\"]) != \"nan\") else x[\"index\"], axis=1);"
   ]
  },
  {
   "cell_type": "code",
   "execution_count": 190,
   "id": "ef905ab4",
   "metadata": {},
   "outputs": [
    {
     "data": {
      "text/html": [
       "<div>\n",
       "<style scoped>\n",
       "    .dataframe tbody tr th:only-of-type {\n",
       "        vertical-align: middle;\n",
       "    }\n",
       "\n",
       "    .dataframe tbody tr th {\n",
       "        vertical-align: top;\n",
       "    }\n",
       "\n",
       "    .dataframe thead th {\n",
       "        text-align: right;\n",
       "    }\n",
       "</style>\n",
       "<table border=\"1\" class=\"dataframe\">\n",
       "  <thead>\n",
       "    <tr style=\"text-align: right;\">\n",
       "      <th></th>\n",
       "      <th>url</th>\n",
       "      <th>index</th>\n",
       "      <th>choose_category</th>\n",
       "    </tr>\n",
       "  </thead>\n",
       "  <tbody>\n",
       "    <tr>\n",
       "      <th>0</th>\n",
       "      <td>https://www.wildberries.ru/catalog/dom/dachniy...</td>\n",
       "      <td>[0, 1440]</td>\n",
       "      <td>1480.0</td>\n",
       "    </tr>\n",
       "    <tr>\n",
       "      <th>1</th>\n",
       "      <td>https://www.wildberries.ru/catalog/elektronika...</td>\n",
       "      <td>[259]</td>\n",
       "      <td>13.0</td>\n",
       "    </tr>\n",
       "    <tr>\n",
       "      <th>2</th>\n",
       "      <td>https://www.wildberries.ru/catalog/aksessuary/...</td>\n",
       "      <td>[1588]</td>\n",
       "      <td>14.0</td>\n",
       "    </tr>\n",
       "    <tr>\n",
       "      <th>3</th>\n",
       "      <td>https://www.wildberries.ru/catalog/dom/dachniy...</td>\n",
       "      <td>[48, 1473]</td>\n",
       "      <td>1475.0</td>\n",
       "    </tr>\n",
       "    <tr>\n",
       "      <th>4</th>\n",
       "      <td>https://www.wildberries.ru/catalog/dom/dachniy...</td>\n",
       "      <td>[49, 1470]</td>\n",
       "      <td>1476.0</td>\n",
       "    </tr>\n",
       "    <tr>\n",
       "      <th>...</th>\n",
       "      <td>...</td>\n",
       "      <td>...</td>\n",
       "      <td>...</td>\n",
       "    </tr>\n",
       "    <tr>\n",
       "      <th>64</th>\n",
       "      <td>https://www.wildberries.ru/catalog/elektronika...</td>\n",
       "      <td>[1537]</td>\n",
       "      <td>1642.0</td>\n",
       "    </tr>\n",
       "    <tr>\n",
       "      <th>65</th>\n",
       "      <td>https://www.wildberries.ru/catalog/elektronika...</td>\n",
       "      <td>[1549]</td>\n",
       "      <td>1634.0</td>\n",
       "    </tr>\n",
       "    <tr>\n",
       "      <th>66</th>\n",
       "      <td>https://www.wildberries.ru/catalog/elektronika...</td>\n",
       "      <td>[1558]</td>\n",
       "      <td>1633.0</td>\n",
       "    </tr>\n",
       "    <tr>\n",
       "      <th>67</th>\n",
       "      <td>https://www.wildberries.ru/catalog/elektronika...</td>\n",
       "      <td>[1559]</td>\n",
       "      <td>1632.0</td>\n",
       "    </tr>\n",
       "    <tr>\n",
       "      <th>68</th>\n",
       "      <td>https://www.wildberries.ru/catalog/elektronika...</td>\n",
       "      <td>[1560]</td>\n",
       "      <td>1631.0</td>\n",
       "    </tr>\n",
       "  </tbody>\n",
       "</table>\n",
       "<p>69 rows × 3 columns</p>\n",
       "</div>"
      ],
      "text/plain": [
       "                                                  url       index  \\\n",
       "0   https://www.wildberries.ru/catalog/dom/dachniy...   [0, 1440]   \n",
       "1   https://www.wildberries.ru/catalog/elektronika...       [259]   \n",
       "2   https://www.wildberries.ru/catalog/aksessuary/...      [1588]   \n",
       "3   https://www.wildberries.ru/catalog/dom/dachniy...  [48, 1473]   \n",
       "4   https://www.wildberries.ru/catalog/dom/dachniy...  [49, 1470]   \n",
       "..                                                ...         ...   \n",
       "64  https://www.wildberries.ru/catalog/elektronika...      [1537]   \n",
       "65  https://www.wildberries.ru/catalog/elektronika...      [1549]   \n",
       "66  https://www.wildberries.ru/catalog/elektronika...      [1558]   \n",
       "67  https://www.wildberries.ru/catalog/elektronika...      [1559]   \n",
       "68  https://www.wildberries.ru/catalog/elektronika...      [1560]   \n",
       "\n",
       "    choose_category  \n",
       "0            1480.0  \n",
       "1              13.0  \n",
       "2              14.0  \n",
       "3            1475.0  \n",
       "4            1476.0  \n",
       "..              ...  \n",
       "64           1642.0  \n",
       "65           1634.0  \n",
       "66           1633.0  \n",
       "67           1632.0  \n",
       "68           1631.0  \n",
       "\n",
       "[69 rows x 3 columns]"
      ]
     },
     "execution_count": 190,
     "metadata": {},
     "output_type": "execute_result"
    }
   ],
   "source": [
    "df_duplicates"
   ]
  },
  {
   "cell_type": "code",
   "execution_count": 200,
   "id": "86abb1b5",
   "metadata": {},
   "outputs": [],
   "source": [
    "root_dir = Path(\"C:/temp/!hse-mlds-project-year2/data\")"
   ]
  },
  {
   "cell_type": "code",
   "execution_count": 201,
   "id": "3ac5354b",
   "metadata": {},
   "outputs": [],
   "source": [
    "folders_name = []\n",
    "\n",
    "for i in range(len(categories)):\n",
    "    if str(categories.iloc[i][\"category_5\"]) == \"nan\":\n",
    "        if str(categories.iloc[i][\"category_4\"]) == \"nan\":\n",
    "            if str(categories.iloc[i][\"category_3\"]) == \"nan\":\n",
    "                if str(categories.iloc[i][\"category_2\"]) == \"nan\":\n",
    "                    cat = list(categories.iloc[i][:1])\n",
    "                else:\n",
    "                    cat = list(categories.iloc[i][:2])\n",
    "            else:\n",
    "                cat = list(categories.iloc[i][:3])\n",
    "        else:\n",
    "            cat = list(categories.iloc[i][:4])\n",
    "    else:\n",
    "        cat = list(categories.iloc[i][:5])\n",
    "    folder = \"_\".join([\"&\".join(i.split()) for i in cat])\n",
    "    folders_name.append(folder)"
   ]
  },
  {
   "cell_type": "code",
   "execution_count": 209,
   "id": "d12127ce",
   "metadata": {
    "scrolled": true
   },
   "outputs": [],
   "source": [
    "delete_index = list(chain(*list(df_duplicates[\"index\"])))"
   ]
  },
  {
   "cell_type": "code",
   "execution_count": 214,
   "id": "4b93f617",
   "metadata": {},
   "outputs": [
    {
     "data": {
      "text/plain": [
       "88"
      ]
     },
     "execution_count": 214,
     "metadata": {},
     "output_type": "execute_result"
    }
   ],
   "source": [
    "len(delete_index)"
   ]
  },
  {
   "cell_type": "code",
   "execution_count": 211,
   "id": "60e98369",
   "metadata": {},
   "outputs": [],
   "source": [
    "for ind in delete_index:\n",
    "    shutil.rmtree(root_dir / folders_name[ind])"
   ]
  },
  {
   "cell_type": "markdown",
   "id": "46f136ad",
   "metadata": {},
   "source": [
    "___"
   ]
  },
  {
   "cell_type": "markdown",
   "id": "73483151",
   "metadata": {},
   "source": [
    "# Выбор категории"
   ]
  },
  {
   "cell_type": "code",
   "execution_count": 2,
   "id": "cd9a9767",
   "metadata": {},
   "outputs": [],
   "source": [
    "root_dir = Path(\"C:/temp/!hse-mlds-project-year2/data/data\")"
   ]
  },
  {
   "cell_type": "code",
   "execution_count": 3,
   "id": "0588c4c3",
   "metadata": {},
   "outputs": [
    {
     "data": {
      "text/plain": [
       "1579"
      ]
     },
     "execution_count": 3,
     "metadata": {},
     "output_type": "execute_result"
    }
   ],
   "source": [
    "# Кол-во категорий\n",
    "folders = os.listdir(root_dir)\n",
    "len(folders)"
   ]
  },
  {
   "cell_type": "code",
   "execution_count": 4,
   "id": "641bc745",
   "metadata": {},
   "outputs": [],
   "source": [
    "def choose_category(level, folders, category1=None, category2=None, category3=None, category4=None):\n",
    "    if level == 1:\n",
    "        tree = {(category.split(\"_\")[0], 2) if len(category.split(\"_\"))>1 else (category.split(\"_\")[0], 1) for category in folders}\n",
    "\n",
    "    elif level == 2:\n",
    "        if category1 is None:\n",
    "            raise TypeError(\"choose_category() missing 1 required positional argument: 'category1'\")\n",
    "        categories = [category for category in folders if category.split(\"_\")[0]==category1]\n",
    "        tree = {(category.split(\"_\")[1], 3) if len(category.split(\"_\"))>2 else (category.split(\"_\")[1], 2) for category in categories}\n",
    "\n",
    "    elif level == 3:\n",
    "        if category1 is None or category2 is None:\n",
    "            raise TypeError(\"choose_category() missing required positional argument: 'category1' or 'category2'\")\n",
    "        categories = [category for category in folders if (category.split(\"_\")[0]==category1) and (category.split(\"_\")[1]==category2)]\n",
    "        tree = {(category.split(\"_\")[2], 4) if len(category.split(\"_\"))>3 else (category.split(\"_\")[2], 3) for category in categories}\n",
    "\n",
    "    elif level == 4:\n",
    "        if category1 is None or category2 is None or category3 is None:\n",
    "            raise TypeError(\"choose_category() missing required positional argument: 'category1', 'category2' or 'category3'\")\n",
    "        categories = [category for category in folders if (category.split(\"_\")[0]==category1) and (category.split(\"_\")[1]==category2) and (category.split(\"_\")[2]==category3)]\n",
    "        tree = {(category.split(\"_\")[3], 5) if len(category.split(\"_\"))>4 else (category.split(\"_\")[3], 4) for category in categories}\n",
    "\n",
    "    elif level == 5:\n",
    "        if category1 is None or category2 is None or category3 is None  or category4 is None:\n",
    "            raise TypeError(\"choose_category() missing required positional argument: 'category1', 'category2', 'category3' or 'category4'\")\n",
    "        categories = [category for category in folders if (category.split(\"_\")[0]==category1) and (category.split(\"_\")[1]==category2) and (category.split(\"_\")[2]==category3) and (category.split(\"_\")[3]==category4)]\n",
    "        tree = {(category.split(\"_\")[4], 6) if len(category.split(\"_\"))>5 else (category.split(\"_\")[4], 5) for category in categories}\n",
    "    \n",
    "    return sorted(tree)"
   ]
  },
  {
   "cell_type": "code",
   "execution_count": 7,
   "id": "38bfea73",
   "metadata": {},
   "outputs": [
    {
     "data": {
      "text/plain": [
       "[('Автотовары', 2),\n",
       " ('Аксессуары', 2),\n",
       " ('Бытовая&техника', 2),\n",
       " ('Детям', 2),\n",
       " ('Для&ремонта', 2),\n",
       " ('Дом', 2),\n",
       " ('Женщинам', 2),\n",
       " ('Здоровье', 2),\n",
       " ('Зоотовары', 2),\n",
       " ('Игрушки', 2),\n",
       " ('Канцтовары', 2),\n",
       " ('Книги', 2),\n",
       " ('Красота', 2),\n",
       " ('Мебель', 2),\n",
       " ('Мужчинам', 2),\n",
       " ('Народные&Промыслы', 1),\n",
       " ('Обувь', 2),\n",
       " ('Продукты', 2),\n",
       " ('Сад&и&дача', 2),\n",
       " ('Товары&для&взрослых', 2),\n",
       " ('Электроника', 2),\n",
       " ('Ювелирные&изделия', 2)]"
      ]
     },
     "execution_count": 7,
     "metadata": {},
     "output_type": "execute_result"
    }
   ],
   "source": [
    "choose_category(1, folders, \"Товары&для&взрослых\", \"Секс&игрушки\", 'Картины&и&постеры', 'Картины')"
   ]
  },
  {
   "cell_type": "code",
   "execution_count": 34,
   "id": "ca8dcd34",
   "metadata": {},
   "outputs": [
    {
     "data": {
      "text/plain": [
       "[('Гравюры', 4),\n",
       " ('Доски&для&записей', 4),\n",
       " ('Картины', 5),\n",
       " ('Картины&3D', 4),\n",
       " ('Картины&в&рамах', 4),\n",
       " ('Модульные&картины', 4),\n",
       " ('Постеры', 5),\n",
       " ('Постеры&в&рамах', 4),\n",
       " ('Рамы&багетные', 4),\n",
       " ('Рамы&для&постеров', 4),\n",
       " ('Таблички&информационные', 4)]"
      ]
     },
     "execution_count": 34,
     "metadata": {},
     "output_type": "execute_result"
    }
   ],
   "source": [
    "choose_category(4, folders, \"Дом\", \"Предметы&интерьера\", 'Картины&и&постеры', 'Картины')"
   ]
  },
  {
   "cell_type": "markdown",
   "id": "96a75f22",
   "metadata": {},
   "source": [
    "**Кол-во категорий**"
   ]
  },
  {
   "cell_type": "markdown",
   "id": "e6af28b2",
   "metadata": {},
   "source": [
    " - \"Автотовары\" 1296 324\n",
    " - \"Аксессуары\" 832 208\n",
    " - \"Бытовая&техника\" 480 120\n",
    " - \"Детям\" 1568 392\n",
    " - \"Для&ремонта\" 1296 324\n",
    " - \"Дом\" 4961 1241\n",
    " - \"Женщинам\" 1920 480\n",
    " - \"Здоровье\" 304 76\n",
    " - \"Зоотовары\" 656 164\n",
    " - \"Игрушки\" 528 132\n",
    " - \"Канцтовары\" 368 92\n",
    " - \"Книги\" 1952 488\n",
    " - \"Красота\" 1376 344\n",
    " - \"Мебель\" 1503 376\n",
    " - \"Мужчинам\" 880 220\n",
    " - \"Обувь\" 352 88\n",
    " - \"Продукты\" 736 184\n",
    " - \"Сад&и&дача\" 2064 516\n",
    " - \"Товары&для&взрослых\" 224 56\n",
    " - \"Электроника\" 1680 420\n",
    " - \"Ювелирные&изделия\" 256 64"
   ]
  },
  {
   "cell_type": "markdown",
   "id": "a3e29a2d",
   "metadata": {},
   "source": [
    "___"
   ]
  },
  {
   "cell_type": "markdown",
   "id": "2bc93df2",
   "metadata": {},
   "source": [
    "# Расчет кол-ва моделей в древовидном инференсе"
   ]
  },
  {
   "cell_type": "code",
   "execution_count": 43,
   "id": "6bcf1717",
   "metadata": {},
   "outputs": [],
   "source": [
    "num_models = 1\n",
    "categories1 = {(category.split(\"_\")[0], 2) for category in folders if len(category.split(\"_\"))>1}\n",
    "\n",
    "for cat1 in categories1:\n",
    "    num_models += 1\n",
    "    categories = [category for category in folders if category.split(\"_\")[0]==cat1[0]]\n",
    "    categories2 = {(category.split(\"_\")[1], 3) for category in categories if len(category.split(\"_\"))>2}\n",
    "    \n",
    "    for cat2 in categories2:\n",
    "        num_models += 1\n",
    "        categories = [category for category in folders if (category.split(\"_\")[0]==cat1[0]) and (category.split(\"_\")[1]==cat2[0])]\n",
    "        categories3 = {(category.split(\"_\")[2], 4) for category in categories if len(category.split(\"_\"))>3}\n",
    "        \n",
    "        for cat3 in categories3:\n",
    "            num_models += 1\n",
    "            categories = [category for category in folders if (category.split(\"_\")[0]==cat1[0]) and (category.split(\"_\")[1]==cat2[0]) and (category.split(\"_\")[2]==cat3[0])]\n",
    "            categories4 = {(category.split(\"_\")[3], 5) for category in categories if len(category.split(\"_\"))>4}\n",
    "            \n",
    "            for cat4 in categories4:\n",
    "                num_models += 1"
   ]
  },
  {
   "cell_type": "code",
   "execution_count": 44,
   "id": "636f9191",
   "metadata": {},
   "outputs": [
    {
     "data": {
      "text/plain": [
       "171"
      ]
     },
     "execution_count": 44,
     "metadata": {},
     "output_type": "execute_result"
    }
   ],
   "source": [
    "num_models"
   ]
  },
  {
   "cell_type": "markdown",
   "id": "46c29338",
   "metadata": {},
   "source": [
    "Кол-во моделей:\n",
    " - `171 num_models` вложенность 5\n",
    " - `165 num_models` вложенность 4\n",
    " - `153 num_models` вложенность 3\n",
    " - `22 num_models` вложенность 2\n",
    " - `1 num_models` вложенность 1"
   ]
  },
  {
   "cell_type": "markdown",
   "id": "35ac2696",
   "metadata": {},
   "source": [
    "___"
   ]
  },
  {
   "cell_type": "markdown",
   "id": "6f8281ca",
   "metadata": {},
   "source": [
    "# Функции для обработки датасета"
   ]
  },
  {
   "cell_type": "code",
   "execution_count": 9,
   "id": "8abd504f",
   "metadata": {},
   "outputs": [],
   "source": [
    "# root_dir = Path(\"C:/temp/!hse-mlds-project-year2/data/data\")\n",
    "# root_dir = Path(\"C:/temp/!hse-mlds-project-year2/test\")\n",
    "root_dir = Path(\"C:/temp/!hse-mlds-project-year2/data_embed\")"
   ]
  },
  {
   "cell_type": "code",
   "execution_count": 10,
   "id": "4af9263b",
   "metadata": {
    "scrolled": true
   },
   "outputs": [
    {
     "name": "stdout",
     "output_type": "stream",
     "text": [
      "541\n"
     ]
    },
    {
     "data": {
      "text/plain": [
       "['Автотовары_OFFroad',\n",
       " 'Автотовары_Автокосметика&и&автохимия_Герметики&автомобильные',\n",
       " 'Автотовары_Автокосметика&и&автохимия_Очистители&автомобильные',\n",
       " 'Автотовары_Автокосметика&и&автохимия_Присадки',\n",
       " 'Автотовары_Автокосметика&и&автохимия_Прочее&автохимия',\n",
       " 'Автотовары_Автокосметика&и&автохимия_Смазки&автомобильные',\n",
       " 'Автотовары_Автокосметика&и&автохимия_Уход&за&кузовом',\n",
       " 'Автотовары_Автокосметика&и&автохимия_Уход&за&салоном',\n",
       " 'Автотовары_Автокосметика&и&автохимия_Уход&за&стеклами&и&фарами',\n",
       " 'Автотовары_Автокосметика&и&автохимия_Уход&за&шинами&и&дисками',\n",
       " 'Автотовары_Аккумуляторы&и&сопутствующие&товары',\n",
       " 'Автотовары_Аксессуары&в&салон&и&багажник_Аварийные&принадлежности',\n",
       " 'Автотовары_Аксессуары&в&салон&и&багажник_Автокресла&и&аксессуары',\n",
       " 'Автотовары_Аксессуары&в&салон&и&багажник_Автомобильные&компрессоры',\n",
       " 'Автотовары_Аксессуары&в&салон&и&багажник_Аксессуары&для&водителя',\n",
       " 'Автотовары_Аксессуары&в&салон&и&багажник_Ароматизаторы',\n",
       " 'Автотовары_Аксессуары&в&салон&и&багажник_Держатели',\n",
       " 'Автотовары_Аксессуары&в&салон&и&багажник_Домкраты',\n",
       " 'Автотовары_Аксессуары&в&салон&и&багажник_Изоляционные&материалы',\n",
       " 'Автотовары_Аксессуары&в&салон&и&багажник_Канистры',\n",
       " 'Автотовары_Аксессуары&в&салон&и&багажник_Наборы&автомобилиста',\n",
       " 'Автотовары_Аксессуары&в&салон&и&багажник_Органайзеры&и&сумки',\n",
       " 'Автотовары_Аксессуары&в&салон&и&багажник_Термокружки&и&подстаканники',\n",
       " 'Автотовары_Аксессуары&в&салон&и&багажник_Тюнинг&и&внутренний&декор',\n",
       " 'Автотовары_Аксессуары&в&салон&и&багажник_Уход&за&автомобилем',\n",
       " 'Автотовары_Аксессуары&в&салон&и&багажник_Чехлы&и&накидки',\n",
       " 'Автотовары_Внешний&тюнинг',\n",
       " 'Автотовары_Другие&аксессуары&и&доп.&оборудование_Другие&автоаксессуары',\n",
       " 'Автотовары_Другие&аксессуары&и&доп.&оборудование_Защита&автомобиля',\n",
       " 'Автотовары_Другие&аксессуары&и&доп.&оборудование_Охранные&системы',\n",
       " 'Автотовары_Другие&аксессуары&и&доп.&оборудование_Перевозка&груза',\n",
       " 'Автотовары_Другие&аксессуары&и&доп.&оборудование_Электроника',\n",
       " 'Автотовары_Запчасти&для&лодок&и&катеров',\n",
       " 'Автотовары_Запчасти&на&легковые&автомобили_Двигатель',\n",
       " 'Автотовары_Запчасти&на&легковые&автомобили_Детали&салона',\n",
       " 'Автотовары_Запчасти&на&легковые&автомобили_Кузов',\n",
       " 'Автотовары_Запчасти&на&легковые&автомобили_Отопление&и&кондиционирование',\n",
       " 'Автотовары_Запчасти&на&легковые&автомобили_Ремкомплекты&автомобильные',\n",
       " 'Автотовары_Запчасти&на&легковые&автомобили_Рулевое&управление',\n",
       " 'Автотовары_Запчасти&на&легковые&автомобили_Система&выпуска',\n",
       " 'Автотовары_Запчасти&на&легковые&автомобили_Система&охлаждения',\n",
       " 'Автотовары_Запчасти&на&легковые&автомобили_Топливная&система',\n",
       " 'Автотовары_Запчасти&на&легковые&автомобили_Тормозная&система',\n",
       " 'Автотовары_Запчасти&на&легковые&автомобили_Трансмиссия',\n",
       " 'Автотовары_Запчасти&на&легковые&автомобили_Ходовая&часть_Амортизаторы&и&комплектующие',\n",
       " 'Автотовары_Запчасти&на&легковые&автомобили_Ходовая&часть_Прочие&компоненты&подвески',\n",
       " 'Автотовары_Запчасти&на&легковые&автомобили_Ходовая&часть_Рычаги&подвески',\n",
       " 'Автотовары_Запчасти&на&легковые&автомобили_Ходовая&часть_Стабилизаторы&и&комплектующие',\n",
       " 'Автотовары_Запчасти&на&легковые&автомобили_Ходовая&часть_Ступицы&и&подшипники',\n",
       " 'Автотовары_Запчасти&на&легковые&автомобили_Электрооборудование',\n",
       " 'Автотовары_Запчасти&на&силовую&технику',\n",
       " 'Автотовары_Инструменты_Автосервисное&оборудование',\n",
       " 'Автотовары_Инструменты_Диагностический&инструмент',\n",
       " 'Автотовары_Инструменты_Другие&автоинструменты',\n",
       " 'Автотовары_Инструменты_Ключи',\n",
       " 'Автотовары_Инструменты_Крепежный&инструмент',\n",
       " 'Автотовары_Инструменты_Наборы&инструментов',\n",
       " 'Автотовары_Инструменты_Слесарный&инструмент',\n",
       " 'Автотовары_Инструменты_Съемники',\n",
       " 'Автотовары_Инструменты_Тестеры',\n",
       " 'Автотовары_Коврики',\n",
       " 'Автотовары_Краски&и&грунтовки_Грунтовки',\n",
       " 'Автотовары_Краски&и&грунтовки_Краски',\n",
       " 'Автотовары_Краски&и&грунтовки_Краски&аэрозольные',\n",
       " 'Автотовары_Краски&и&грунтовки_Эмали',\n",
       " 'Автотовары_Масла&и&жидкости_Гидравлические&жидкости&и&масла',\n",
       " 'Автотовары_Масла&и&жидкости_Жидкости&эксплуатационные',\n",
       " 'Автотовары_Масла&и&жидкости_Моторное&масло',\n",
       " 'Автотовары_Масла&и&жидкости_Промывочные&масла',\n",
       " 'Автотовары_Масла&и&жидкости_Тормозные&жидкости',\n",
       " 'Автотовары_Масла&и&жидкости_Трансмиссионное&масло',\n",
       " 'Автотовары_Мототовары_Детали&корпуса',\n",
       " 'Автотовары_Мототовары_Другие&детали',\n",
       " 'Автотовары_Мототовары_Тормозная&система',\n",
       " 'Автотовары_Мототовары_Ходовая&часть',\n",
       " 'Автотовары_Мототовары_Экипировка',\n",
       " 'Автотовары_Мототовары_Электрооборудование',\n",
       " 'Автотовары_Шины&и&диски&колесные_Диски',\n",
       " 'Автотовары_Шины&и&диски&колесные_Шины',\n",
       " 'Аксессуары_Аксессуары&для&волос',\n",
       " 'Аксессуары_Аксессуары&для&одежды',\n",
       " 'Аксессуары_Бижутерия_Аксессуары&для&бижутерии',\n",
       " 'Аксессуары_Бижутерия_Браслеты',\n",
       " 'Аксессуары_Бижутерия_Брелоки',\n",
       " 'Аксессуары_Бижутерия_Броши',\n",
       " 'Аксессуары_Бижутерия_Булавки&для&воротника',\n",
       " 'Аксессуары_Бижутерия_Бусы',\n",
       " 'Аксессуары_Бижутерия_Бутоньерки',\n",
       " 'Аксессуары_Бижутерия_Зажимы',\n",
       " 'Аксессуары_Бижутерия_Запонки',\n",
       " 'Аксессуары_Бижутерия_Значки',\n",
       " 'Аксессуары_Бижутерия_Колье',\n",
       " 'Аксессуары_Бижутерия_Кольца',\n",
       " 'Аксессуары_Бижутерия_Комплекты',\n",
       " 'Аксессуары_Бижутерия_Пирсинг',\n",
       " 'Аксессуары_Бижутерия_Подвески',\n",
       " 'Аксессуары_Бижутерия_Серьги',\n",
       " 'Аксессуары_Бижутерия_Цепочки',\n",
       " 'Аксессуары_Бижутерия_Четки',\n",
       " 'Аксессуары_Бижутерия_Чокеры',\n",
       " 'Аксессуары_Бижутерия_Шармы',\n",
       " 'Аксессуары_Веера',\n",
       " 'Аксессуары_Галстуки&и&бабочки',\n",
       " 'Аксессуары_Головные&уборы',\n",
       " 'Аксессуары_Зеркальца',\n",
       " 'Аксессуары_Зонты',\n",
       " 'Аксессуары_Кошельки&и&кредитницы',\n",
       " 'Аксессуары_Маски&для&сна',\n",
       " 'Аксессуары_Носовые&платки',\n",
       " 'Аксессуары_Очки&и&футляры_Аксессуары&для&очков',\n",
       " 'Аксессуары_Очки&и&футляры_Оправы&и&линзы',\n",
       " 'Аксессуары_Очки&и&футляры_Очки&для&компьютера',\n",
       " 'Аксессуары_Очки&и&футляры_Очки&корригирующие',\n",
       " 'Аксессуары_Очки&и&футляры_Солнцезащитные&очки',\n",
       " 'Аксессуары_Перчатки&и&варежки',\n",
       " 'Аксессуары_Платки&и&шарфы',\n",
       " 'Аксессуары_Религиозные_Ислам',\n",
       " 'Аксессуары_Религиозные_Православие',\n",
       " 'Аксессуары_Ремни&и&пояса',\n",
       " 'Аксессуары_Сумки&и&рюкзаки_Аксессуары&для&сумок',\n",
       " 'Аксессуары_Сумки&и&рюкзаки_Для&ноутбука',\n",
       " 'Аксессуары_Сумки&и&рюкзаки_Клатчи',\n",
       " 'Аксессуары_Сумки&и&рюкзаки_Косметички',\n",
       " 'Аксессуары_Сумки&и&рюкзаки_Папки-сумки',\n",
       " 'Аксессуары_Сумки&и&рюкзаки_Портфели',\n",
       " 'Аксессуары_Сумки&и&рюкзаки_Рюкзаки',\n",
       " 'Аксессуары_Сумки&и&рюкзаки_Сумки',\n",
       " 'Аксессуары_Сумки&и&рюкзаки_Сумки&хозяйственные',\n",
       " 'Аксессуары_Сумки&и&рюкзаки_Сумки-тележки',\n",
       " 'Аксессуары_Часы&и&ремешки',\n",
       " 'Аксессуары_Чемоданы&и&защита&багажа',\n",
       " 'Бытовая&техника_Климатическая&техника',\n",
       " 'Бытовая&техника_Красота&и&здоровье_Бритвы&и&триммеры',\n",
       " 'Бытовая&техника_Красота&и&здоровье_Весы&напольные',\n",
       " 'Бытовая&техника_Красота&и&здоровье_Зубные&щетки&и&ирригаторы',\n",
       " 'Бытовая&техника_Красота&и&здоровье_Косметические&аппараты',\n",
       " 'Бытовая&техника_Красота&и&здоровье_Массажеры&электрические',\n",
       " 'Бытовая&техника_Красота&и&здоровье_Машинки&для&стрижки&волос',\n",
       " 'Бытовая&техника_Красота&и&здоровье_Медицинские&приборы',\n",
       " 'Бытовая&техника_Красота&и&здоровье_Профессиональная&парикмахерская&техника',\n",
       " 'Бытовая&техника_Красота&и&здоровье_Фены,&приборы&для&укладки',\n",
       " 'Бытовая&техника_Красота&и&здоровье_Эпиляторы',\n",
       " 'Бытовая&техника_Крупная&бытовая&техника',\n",
       " 'Бытовая&техника_Садовая&техника',\n",
       " 'Бытовая&техника_Техника&для&дома_Аксессуары&для&пылесосов',\n",
       " 'Бытовая&техника_Техника&для&дома_Водонагреватели',\n",
       " 'Бытовая&техника_Техника&для&дома_Обогреватели&и&вентиляторы',\n",
       " 'Бытовая&техника_Техника&для&дома_Пульты&управления',\n",
       " 'Бытовая&техника_Техника&для&дома_Пылесосы&и&пароочистители',\n",
       " 'Бытовая&техника_Техника&для&дома_Утюги&и&отпариватели',\n",
       " 'Бытовая&техника_Техника&для&дома_Уход&за&вещами',\n",
       " 'Бытовая&техника_Техника&для&дома_Швейное&оборудование',\n",
       " 'Бытовая&техника_Техника&для&дома_Электрические&одеяла&и&грелки',\n",
       " 'Бытовая&техника_Техника&для&кухни_Аксессуары&для&кухонной&техники',\n",
       " 'Бытовая&техника_Техника&для&кухни_Вытяжки&кухонные',\n",
       " 'Бытовая&техника_Техника&для&кухни_Измельчение&и&смешивание',\n",
       " 'Бытовая&техника_Техника&для&кухни_Кухонные&весы',\n",
       " 'Бытовая&техника_Техника&для&кухни_Плиты&и&варочные&панели',\n",
       " 'Бытовая&техника_Техника&для&кухни_Приготовление&блюд',\n",
       " 'Бытовая&техника_Техника&для&кухни_Приготовление&напитков',\n",
       " 'Бытовая&техника_Техника&для&кухни_Хранение&продуктов',\n",
       " 'Детям_Детская&электроника_Ноутбуки&и&компьютеры',\n",
       " 'Детям_Детская&электроника_Офисная&техника',\n",
       " 'Детям_Детская&электроника_Системы&безопасности',\n",
       " 'Детям_Детская&электроника_ТВ,&Аудио,&Фото,&Видео&техника',\n",
       " 'Детям_Детский&транспорт_Ватрушки,&ледянки',\n",
       " 'Детям_Детское&питание',\n",
       " 'Детям_Для&девочек_Белье',\n",
       " 'Детям_Для&девочек_Блузки&и&рубашки',\n",
       " 'Детям_Для&девочек_Брюки&и&шорты',\n",
       " 'Детям_Для&девочек_Верхняя&одежда',\n",
       " 'Детям_Для&девочек_Водолазки',\n",
       " 'Детям_Для&девочек_Джемперы&и&кардиганы',\n",
       " 'Детям_Для&девочек_Джинсы&и&джеггинсы',\n",
       " 'Детям_Для&девочек_Жилеты',\n",
       " 'Детям_Для&девочек_Карнавальные&костюмы',\n",
       " 'Детям_Для&девочек_Комбинезоны&и&полукомбинезоны',\n",
       " 'Детям_Для&девочек_Костюмы',\n",
       " 'Детям_Для&девочек_Купальные&костюмы',\n",
       " 'Детям_Для&девочек_Лонгсливы',\n",
       " 'Детям_Для&девочек_Обувь',\n",
       " 'Детям_Для&девочек_Одежда&для&дома',\n",
       " 'Детям_Для&девочек_Пиджаки&и&жакеты',\n",
       " 'Детям_Для&девочек_Пижамы&и&сорочки',\n",
       " 'Детям_Для&девочек_Платья&и&сарафаны',\n",
       " 'Детям_Для&девочек_Свитшоты',\n",
       " 'Детям_Для&девочек_Толстовки',\n",
       " 'Детям_Для&девочек_Туники',\n",
       " 'Детям_Для&девочек_Фартуки',\n",
       " 'Детям_Для&девочек_Футболки&и&топы',\n",
       " 'Детям_Для&девочек_Халаты',\n",
       " 'Детям_Для&девочек_Худи',\n",
       " 'Детям_Для&девочек_Юбки',\n",
       " 'Детям_Для&мальчиков_Белье',\n",
       " 'Детям_Для&мальчиков_Брюки&и&шорты',\n",
       " 'Детям_Для&мальчиков_Верхняя&одежда',\n",
       " 'Детям_Для&мальчиков_Водолазки',\n",
       " 'Детям_Для&мальчиков_Джемперы&и&кардиганы',\n",
       " 'Детям_Для&мальчиков_Джинсы',\n",
       " 'Детям_Для&мальчиков_Жилеты',\n",
       " 'Детям_Для&мальчиков_Карнавальные&костюмы',\n",
       " 'Детям_Для&мальчиков_Комбинезоны&и&полукомбинезоны',\n",
       " 'Детям_Для&мальчиков_Костюмы',\n",
       " 'Детям_Для&мальчиков_Лонгсливы',\n",
       " 'Детям_Для&мальчиков_Обувь',\n",
       " 'Детям_Для&мальчиков_Одежда&для&дома',\n",
       " 'Детям_Для&мальчиков_Пиджаки&и&жакеты',\n",
       " 'Детям_Для&мальчиков_Плавки&и&бордшорты',\n",
       " 'Детям_Для&мальчиков_Рубашки',\n",
       " 'Детям_Для&мальчиков_Свитшоты',\n",
       " 'Детям_Для&мальчиков_Толстовки',\n",
       " 'Детям_Для&мальчиков_Фартуки',\n",
       " 'Детям_Для&мальчиков_Футболки&и&майки',\n",
       " 'Детям_Для&мальчиков_Худи',\n",
       " 'Детям_Для&новорожденных_Аксессуары',\n",
       " 'Детям_Для&новорожденных_Белье',\n",
       " 'Детям_Для&новорожденных_Боди&и&ползунки',\n",
       " 'Детям_Для&новорожденных_Брюки&и&шорты',\n",
       " 'Детям_Для&новорожденных_Верхняя&одежда',\n",
       " 'Детям_Для&новорожденных_Жакеты&и&болеро',\n",
       " 'Детям_Для&новорожденных_Комбинезоны&и&полукомбинезоны',\n",
       " 'Детям_Для&новорожденных_Конверты&и&спальные&мешки',\n",
       " 'Детям_Для&новорожденных_Костюмы&и&комплекты',\n",
       " 'Детям_Для&новорожденных_Кофточки&и&джемперы',\n",
       " 'Детям_Для&новорожденных_Одежда&для&дома',\n",
       " 'Детям_Для&новорожденных_Одежда&для&крещения',\n",
       " 'Детям_Для&новорожденных_Одежда&на&выписку',\n",
       " 'Детям_Для&новорожденных_Пинетки',\n",
       " 'Детям_Для&новорожденных_Платья&и&юбки',\n",
       " 'Детям_Для&новорожденных_Распашонки',\n",
       " 'Детям_Для&новорожденных_Футболки&и&топы',\n",
       " 'Детям_Для&новорожденных_Халаты&и&пижамы',\n",
       " 'Детям_Конструкторы',\n",
       " 'Детям_Подарки&детям_Аксессуары',\n",
       " 'Детям_Подарки&детям_Для&дома',\n",
       " 'Детям_Подарки&детям_Игрушки',\n",
       " 'Детям_Подарки&детям_Книги&и&канцтовары',\n",
       " 'Детям_Подарки&детям_Косметика&и&уход',\n",
       " 'Детям_Подарки&детям_Носки',\n",
       " 'Детям_Подарки&детям_Открытки&и&сувениры',\n",
       " 'Детям_Подарки&детям_Посуда',\n",
       " 'Детям_Подарки&детям_Хобби&и&творчество',\n",
       " 'Детям_Подарки&детям_Шарики&и&упаковка',\n",
       " 'Детям_Подгузники',\n",
       " 'Детям_Религиозная&одежда',\n",
       " 'Детям_Товары&для&малыша_Аксессуары&для&кормления',\n",
       " 'Детям_Товары&для&малыша_Аксессуары&для&купания',\n",
       " 'Детям_Товары&для&малыша_Безопасность&ребенка',\n",
       " 'Детям_Товары&для&малыша_Влажные&салфетки',\n",
       " 'Детям_Товары&для&малыша_Гигиена&и&уход',\n",
       " 'Детям_Товары&для&малыша_Мебель',\n",
       " 'Детям_Товары&для&малыша_Пеленки,&слюнявчики,&царапки',\n",
       " 'Детям_Товары&для&малыша_Передвижение',\n",
       " 'Детям_Товары&для&малыша_Постельные&принадлежности',\n",
       " 'Здоровье_БАДы',\n",
       " 'Здоровье_Грибы&сушеные&и&капсулированные',\n",
       " 'Здоровье_Дезинфекция,&стерилизация&и&утилизация',\n",
       " 'Здоровье_Контрацептивы&и&лубриканты',\n",
       " 'Здоровье_Лечебное&питание',\n",
       " 'Здоровье_Маски&защитные',\n",
       " 'Здоровье_Медицинские&изделия',\n",
       " 'Здоровье_Медицинские&приборы',\n",
       " 'Здоровье_Оздоровление',\n",
       " 'Здоровье_Оптика',\n",
       " 'Здоровье_Ортопедия_Бандажи&и&ортезы',\n",
       " 'Здоровье_Ортопедия_Компрессионный&трикотаж',\n",
       " 'Здоровье_Ортопедия_Обувь',\n",
       " 'Здоровье_Ортопедия_Стельки&и&супинаторы',\n",
       " 'Здоровье_Ортопедия_Товары&после&мастэктомии',\n",
       " 'Здоровье_Реабилитация',\n",
       " 'Здоровье_Сиропы&и&бальзамы',\n",
       " 'Здоровье_Ухо,&горло,&нос',\n",
       " 'Здоровье_Уход&за&полостью&рта',\n",
       " 'Игрушки_Антистресс',\n",
       " 'Игрушки_Для&малышей_Бизиборды,&игровые&центры',\n",
       " 'Игрушки_Для&малышей_Каталки,&качалки',\n",
       " 'Игрушки_Для&малышей_Книжки-игрушки',\n",
       " 'Игрушки_Для&малышей_Конструкторы',\n",
       " 'Игрушки_Для&малышей_Кубики',\n",
       " 'Игрушки_Для&малышей_Мобили,&игрушки-подвески',\n",
       " 'Игрушки_Для&малышей_Неваляшки,&юлы',\n",
       " 'Игрушки_Для&малышей_Погремушки',\n",
       " 'Игрушки_Для&малышей_Сортеры,&шнуровки',\n",
       " 'Игрушки_Для&песочницы',\n",
       " 'Игрушки_Игровые&комплексы',\n",
       " 'Игрушки_Игровые&наборы',\n",
       " 'Игрушки_Игрушечное&оружие&и&аксессуары',\n",
       " 'Игрушки_Игрушечный&транспорт',\n",
       " 'Игрушки_Игрушки&для&ванной',\n",
       " 'Игрушки_Интерактивные',\n",
       " 'Игрушки_Кинетический&песок',\n",
       " 'Игрушки_Конструкторы',\n",
       " 'Игрушки_Конструкторы&LEGO',\n",
       " 'Игрушки_Куклы&и&аксессуары',\n",
       " 'Игрушки_Музыкальные',\n",
       " 'Игрушки_Мыльные&пузыри',\n",
       " 'Игрушки_Мягкие&игрушки',\n",
       " 'Игрушки_Наборы&для&опытов',\n",
       " 'Игрушки_Настольные&игры',\n",
       " 'Игрушки_Радиоуправляемые',\n",
       " 'Игрушки_Развивающие&игрушки',\n",
       " 'Игрушки_Сборные&модели',\n",
       " 'Игрушки_Спортивные&игры',\n",
       " 'Игрушки_Сюжетно-ролевые&игры',\n",
       " 'Игрушки_Творчество&и&рукоделие',\n",
       " 'Игрушки_Фигурки&и&роботы',\n",
       " 'Мебель_Бескаркасная&мебель_Диваны',\n",
       " 'Мебель_Бескаркасная&мебель_Кресла-мешки',\n",
       " 'Мебель_Бескаркасная&мебель_Пуфы&бескаркасные',\n",
       " 'Мебель_Бескаркасная&мебель_Чехлы&и&наполнители&для&кресел-мешков',\n",
       " 'Мебель_Гардеробная&мебель_Полки',\n",
       " 'Мебель_Гардеробная&мебель_Системы',\n",
       " 'Мебель_Гардеробная&мебель_Штанги&для&одежды',\n",
       " 'Мебель_Гардеробная&мебель_Ящики',\n",
       " 'Мебель_Детская&мебель_Гарнитуры&детские',\n",
       " 'Мебель_Детская&мебель_Диваны&детские',\n",
       " 'Мебель_Детская&мебель_Комоды&детские',\n",
       " 'Мебель_Детская&мебель_Комплекты&детской&мебели',\n",
       " 'Мебель_Детская&мебель_Кровати&детские',\n",
       " 'Мебель_Детская&мебель_Матрасы&детские',\n",
       " 'Мебель_Детская&мебель_Наматрасники&детские',\n",
       " 'Мебель_Детская&мебель_Обувницы&детские',\n",
       " 'Мебель_Детская&мебель_Парты',\n",
       " 'Мебель_Детская&мебель_Пеленальные&комоды,&столы&и&матрасы',\n",
       " 'Мебель_Детская&мебель_Полки&детские',\n",
       " 'Мебель_Детская&мебель_Стеллажи&детские',\n",
       " 'Мебель_Детская&мебель_Столы&детские',\n",
       " 'Мебель_Детская&мебель_Стулья&и&кресла&детские',\n",
       " 'Мебель_Детская&мебель_Табуреты&детские',\n",
       " 'Мебель_Детская&мебель_Тумбы&детские',\n",
       " 'Мебель_Детская&мебель_Шкафы&детские',\n",
       " 'Мебель_Диваны&и&кресла_Банкетки',\n",
       " 'Мебель_Диваны&и&кресла_Диваны',\n",
       " 'Мебель_Диваны&и&кресла_Кресла',\n",
       " 'Мебель_Диваны&и&кресла_Кушетки',\n",
       " 'Мебель_Диваны&и&кресла_Пуфы',\n",
       " 'Мебель_Зеркала_Зеркала&для&прихожей',\n",
       " 'Мебель_Зеркала_Зеркала&для&спальни',\n",
       " 'Мебель_Зеркала_Зеркала&интерьерные',\n",
       " 'Мебель_Зеркала_Зеркала&напольные',\n",
       " 'Мебель_Зеркала_Зеркала&настенные',\n",
       " 'Мебель_Зеркала_Зеркала&настольные',\n",
       " 'Мебель_Компьютерная&и&геймерская&мебель_Кресла',\n",
       " 'Мебель_Компьютерная&и&геймерская&мебель_Подставки',\n",
       " 'Мебель_Мебель&для&гостиной_Полки',\n",
       " 'Мебель_Мебель&для&гостиной_Стеллажи',\n",
       " 'Мебель_Мебель&для&гостиной_Стенки',\n",
       " 'Мебель_Мебель&для&гостиной_Столы',\n",
       " 'Мебель_Мебель&для&гостиной_Столы&журнальные',\n",
       " 'Мебель_Мебель&для&гостиной_Тумбы&под&ТВ',\n",
       " 'Мебель_Мебель&для&гостиной_Чехлы&для&мебели',\n",
       " 'Мебель_Мебель&для&гостиной_Этажерки',\n",
       " 'Мебель_Мебель&для&кухни_Гарнитуры',\n",
       " 'Мебель_Мебель&для&кухни_Кухонные&модули',\n",
       " 'Мебель_Мебель&для&кухни_Обеденные&группы',\n",
       " 'Мебель_Мебель&для&кухни_Столешницы',\n",
       " 'Мебель_Мебель&для&кухни_Столики&винные',\n",
       " 'Мебель_Мебель&для&кухни_Столы',\n",
       " 'Мебель_Мебель&для&кухни_Стулья&и&табуреты',\n",
       " 'Мебель_Мебель&для&прихожей_Вешалки&для&одежды',\n",
       " 'Мебель_Мебель&для&прихожей_Комплекты&мебели',\n",
       " 'Мебель_Мебель&для&прихожей_Обувницы',\n",
       " 'Мебель_Мебель&для&прихожей_Тумбы&для&прихожей',\n",
       " 'Мебель_Мебель&для&прихожей_Шкафы&и&шкафы-купе',\n",
       " 'Мебель_Мебель&для&спальни_Встроенные&гладильные&доски',\n",
       " 'Мебель_Мебель&для&спальни_Комоды',\n",
       " 'Мебель_Мебель&для&спальни_Комплекты&мебели',\n",
       " 'Мебель_Мебель&для&спальни_Кровати&для&спальни',\n",
       " 'Мебель_Мебель&для&спальни_Матрасы_Беспружинные&матрасы',\n",
       " 'Мебель_Мебель&для&спальни_Матрасы_Пружинные&матрасы',\n",
       " 'Мебель_Мебель&для&спальни_Матрасы_Топперы',\n",
       " 'Мебель_Мебель&для&спальни_Наматрасники',\n",
       " 'Мебель_Мебель&для&спальни_Подушки&ортопедические',\n",
       " 'Мебель_Мебель&для&спальни_Прикроватные&тумбы',\n",
       " 'Мебель_Мебель&для&спальни_Раскладушки',\n",
       " 'Мебель_Мебель&для&спальни_Сундуки',\n",
       " 'Мебель_Мебель&для&спальни_Туалетные&столики',\n",
       " 'Мебель_Мебель&для&спальни_Чехлы&для&матрасов',\n",
       " 'Мебель_Мебель&для&спальни_Ширмы',\n",
       " 'Мебель_Мебель&для&спальни_Шкафы',\n",
       " 'Мебель_Мебельная&фурнитура',\n",
       " 'Мебель_Офисная&мебель_Подставки&для&ног',\n",
       " 'Мебель_Офисная&мебель_Сейфы',\n",
       " 'Мебель_Офисная&мебель_Стеллажи&офисные',\n",
       " 'Мебель_Офисная&мебель_Столы&офисные',\n",
       " 'Мебель_Офисная&мебель_Стулья&и&кресла',\n",
       " 'Мебель_Офисная&мебель_Тумбы',\n",
       " 'Мебель_Офисная&мебель_Шкафы',\n",
       " 'Мебель_Столы&и&стулья_Кухонные&уголки',\n",
       " 'Мебель_Столы&и&стулья_Столешницы&и&ножки&для&стола',\n",
       " 'Мебель_Столы&и&стулья_Столы',\n",
       " 'Мебель_Столы&и&стулья_Стулья',\n",
       " 'Мебель_Столы&и&стулья_Табуреты',\n",
       " 'Мебель_Торговая&мебель',\n",
       " 'Обувь_Аксессуары&для&обуви',\n",
       " 'Обувь_Детская_Для&девочек',\n",
       " 'Обувь_Детская_Для&мальчиков',\n",
       " 'Обувь_Для&новорожденных',\n",
       " 'Обувь_Женская_Балетки&и&чешки',\n",
       " 'Обувь_Женская_Босоножки&и&сандалии',\n",
       " 'Обувь_Женская_Ботинки&и&полуботинки',\n",
       " 'Обувь_Женская_Кеды&и&кроссовки',\n",
       " 'Обувь_Женская_Мокасины&и&топсайдеры',\n",
       " 'Обувь_Женская_Сабо&и&мюли',\n",
       " 'Обувь_Женская_Сапоги',\n",
       " 'Обувь_Женская_Тапочки',\n",
       " 'Обувь_Женская_Туфли&и&лоферы',\n",
       " 'Обувь_Женская_Шлепанцы&и&аквасоки',\n",
       " 'Обувь_Мужская_Ботинки&и&полуботинки',\n",
       " 'Обувь_Мужская_Кеды&и&кроссовки',\n",
       " 'Обувь_Мужская_Мокасины&и&топсайдеры',\n",
       " 'Обувь_Мужская_Сапоги&и&унты',\n",
       " 'Обувь_Мужская_Тапочки',\n",
       " 'Обувь_Мужская_Туфли&и&лоферы',\n",
       " 'Обувь_Мужская_Шлепанцы&и&аквасоки',\n",
       " 'Товары&для&взрослых_Белье&и&аксессуары',\n",
       " 'Товары&для&взрослых_Игры&и&сувениры',\n",
       " 'Товары&для&взрослых_Интимная&косметика',\n",
       " 'Товары&для&взрослых_Презервативы&и&лубриканты',\n",
       " 'Товары&для&взрослых_Секс&игрушки_Бусы&и&шарики',\n",
       " 'Товары&для&взрослых_Секс&игрушки_Вибраторы&и&стимуляторы',\n",
       " 'Товары&для&взрослых_Секс&игрушки_Наборы&игрушек&для&взрослых',\n",
       " 'Товары&для&взрослых_Секс&игрушки_Насадки&и&удлинители',\n",
       " 'Товары&для&взрослых_Секс&игрушки_Помпы&и&насосы',\n",
       " 'Товары&для&взрослых_Секс&игрушки_Секс&куклы&и&мастурбаторы',\n",
       " 'Товары&для&взрослых_Секс&игрушки_Спринцовки&и&эрекционные&кольца',\n",
       " 'Товары&для&взрослых_Секс&игрушки_Фаллоимитаторы&и&страпоны',\n",
       " 'Товары&для&взрослых_Фетиш&и&БДСМ',\n",
       " 'Электроника_Автоэлектроника&и&навигация_Автокосметика&и&автохимия',\n",
       " 'Электроника_Автоэлектроника&и&навигация_Инструменты',\n",
       " 'Электроника_Автоэлектроника&и&навигация_Масла&и&жидкости',\n",
       " 'Электроника_Автоэлектроника&и&навигация_Мототовары',\n",
       " 'Электроника_Автоэлектроника&и&навигация_Шины&и&диски&колесные',\n",
       " 'Электроника_Детская&электроника',\n",
       " 'Электроника_Игровые&консоли&и&игры_Аксессуары&для&геймпадов',\n",
       " 'Электроника_Игровые&консоли&и&игры_Аксессуары&для&консолей',\n",
       " 'Электроника_Игровые&консоли&и&игры_Геймпады',\n",
       " 'Электроника_Игровые&консоли&и&игры_Игровые&консоли',\n",
       " 'Электроника_Игровые&консоли&и&игры_Игры',\n",
       " 'Электроника_Кабели&и&зарядные&устройства',\n",
       " 'Электроника_Музыка&и&видео',\n",
       " 'Электроника_Ноутбуки&и&компьютеры_Аксессуары&для&ноутбуков',\n",
       " 'Электроника_Ноутбуки&и&компьютеры_Внешние&накопители&информации',\n",
       " 'Электроника_Ноутбуки&и&компьютеры_Комплектующие&для&ПК',\n",
       " 'Электроника_Ноутбуки&и&компьютеры_Компьютеры&и&моноблоки',\n",
       " 'Электроника_Ноутбуки&и&компьютеры_Мониторы',\n",
       " 'Электроника_Ноутбуки&и&компьютеры_Ноутбуки',\n",
       " 'Электроника_Ноутбуки&и&компьютеры_Периферийные&аксессуары',\n",
       " 'Электроника_Офисная&техника_3D-печать',\n",
       " 'Электроника_Офисная&техника_ИБП&и&аксессуары',\n",
       " 'Электроника_Офисная&техника_Ламинаторы,&сканеры,&шредеры',\n",
       " 'Электроника_Офисная&техника_МФУ',\n",
       " 'Электроника_Офисная&техника_Оборудование&для&презентаций',\n",
       " 'Электроника_Офисная&техника_Принтеры',\n",
       " 'Электроника_Офисная&техника_Расходные&материалы',\n",
       " 'Электроника_Развлечения&и&гаджеты',\n",
       " 'Электроника_Сетевое&оборудование',\n",
       " 'Электроника_Системы&безопасности_Датчики&и&сенсоры',\n",
       " 'Электроника_Системы&безопасности_Замки&и&домофоны',\n",
       " 'Электроника_Системы&безопасности_Сигнализация',\n",
       " 'Электроника_Системы&безопасности_Системы&видеонаблюдения',\n",
       " 'Электроника_Смарт-часы&и&браслеты',\n",
       " 'Электроника_Смартфоны&и&телефоны_Flash-накопители',\n",
       " 'Электроника_Смартфоны&и&телефоны_SIM-карты',\n",
       " 'Электроника_Смартфоны&и&телефоны_Аксессуары&для&съемки',\n",
       " 'Электроника_Смартфоны&и&телефоны_Гарнитуры&и&наушники',\n",
       " 'Электроника_Смартфоны&и&телефоны_Держатели',\n",
       " 'Электроника_Смартфоны&и&телефоны_Запчасти&для&устройств',\n",
       " 'Электроника_Смартфоны&и&телефоны_Карты&памяти',\n",
       " 'Электроника_Смартфоны&и&телефоны_Мобильные&телефоны',\n",
       " 'Электроника_Смартфоны&и&телефоны_Планшеты',\n",
       " 'Электроника_Смартфоны&и&телефоны_Пленки&защитные',\n",
       " 'Электроника_Смартфоны&и&телефоны_Смартфоны',\n",
       " 'Электроника_Смартфоны&и&телефоны_Стационарные&телефоны',\n",
       " 'Электроника_Смартфоны&и&телефоны_Стекла&защитные',\n",
       " 'Электроника_Смартфоны&и&телефоны_Стилусы',\n",
       " 'Электроника_Смартфоны&и&телефоны_Чехлы_Чехлы&для&аксессуаров',\n",
       " 'Электроника_Смартфоны&и&телефоны_Чехлы_Чехлы&для&прочих&телефонов',\n",
       " 'Электроника_Смартфоны&и&телефоны_Чехлы_Чехлы&для&телефонов&Apple_iPhone&11',\n",
       " 'Электроника_Смартфоны&и&телефоны_Чехлы_Чехлы&для&телефонов&Apple_iPhone&12',\n",
       " 'Электроника_Смартфоны&и&телефоны_Чехлы_Чехлы&для&телефонов&Apple_iPhone&13',\n",
       " 'Электроника_Смартфоны&и&телефоны_Чехлы_Чехлы&для&телефонов&Apple_iPhone&14',\n",
       " 'Электроника_Смартфоны&и&телефоны_Чехлы_Чехлы&для&телефонов&Apple_iPhone&15',\n",
       " 'Электроника_Смартфоны&и&телефоны_Чехлы_Чехлы&для&телефонов&Apple_iPhone&X',\n",
       " 'Электроника_Смартфоны&и&телефоны_Чехлы_Чехлы&для&телефонов&Apple_Прочие',\n",
       " 'Электроника_Смартфоны&и&телефоны_Чехлы_Чехлы&для&телефонов&Honor',\n",
       " 'Электроника_Смартфоны&и&телефоны_Чехлы_Чехлы&для&телефонов&Huawei',\n",
       " 'Электроника_Смартфоны&и&телефоны_Чехлы_Чехлы&для&телефонов&Infinix',\n",
       " 'Электроника_Смартфоны&и&телефоны_Чехлы_Чехлы&для&телефонов&Nokia',\n",
       " 'Электроника_Смартфоны&и&телефоны_Чехлы_Чехлы&для&телефонов&Oppo',\n",
       " 'Электроника_Смартфоны&и&телефоны_Чехлы_Чехлы&для&телефонов&Philips',\n",
       " 'Электроника_Смартфоны&и&телефоны_Чехлы_Чехлы&для&телефонов&Realme',\n",
       " 'Электроника_Смартфоны&и&телефоны_Чехлы_Чехлы&для&телефонов&Samsung_Прочие',\n",
       " 'Электроника_Смартфоны&и&телефоны_Чехлы_Чехлы&для&телефонов&Samsung_Серия&Galaxy&A',\n",
       " 'Электроника_Смартфоны&и&телефоны_Чехлы_Чехлы&для&телефонов&Samsung_Серия&Galaxy&Ax0',\n",
       " 'Электроника_Смартфоны&и&телефоны_Чехлы_Чехлы&для&телефонов&Samsung_Серия&Galaxy&Ax1',\n",
       " 'Электроника_Смартфоны&и&телефоны_Чехлы_Чехлы&для&телефонов&Samsung_Серия&Galaxy&Ax2',\n",
       " 'Электроника_Смартфоны&и&телефоны_Чехлы_Чехлы&для&телефонов&Samsung_Серия&Galaxy&Ax3',\n",
       " 'Электроника_Смартфоны&и&телефоны_Чехлы_Чехлы&для&телефонов&Samsung_Серия&Galaxy&Ax4',\n",
       " 'Электроника_Смартфоны&и&телефоны_Чехлы_Чехлы&для&телефонов&Samsung_Серия&Galaxy&S',\n",
       " 'Электроника_Смартфоны&и&телефоны_Чехлы_Чехлы&для&телефонов&Samsung_Серия&Galaxy&Z&Flip',\n",
       " 'Электроника_Смартфоны&и&телефоны_Чехлы_Чехлы&для&телефонов&Samsung_Серия&Galaxy&Z&Fold',\n",
       " 'Электроника_Смартфоны&и&телефоны_Чехлы_Чехлы&для&телефонов&Sony',\n",
       " 'Электроника_Смартфоны&и&телефоны_Чехлы_Чехлы&для&телефонов&TECNO',\n",
       " 'Электроника_Смартфоны&и&телефоны_Чехлы_Чехлы&для&телефонов&Xiaomi_Прочие',\n",
       " 'Электроника_Смартфоны&и&телефоны_Чехлы_Чехлы&для&телефонов&Xiaomi_Серия&Mi&Note',\n",
       " 'Электроника_Смартфоны&и&телефоны_Чехлы_Чехлы&для&телефонов&Xiaomi_Серия&MIX',\n",
       " 'Электроника_Смартфоны&и&телефоны_Чехлы_Чехлы&для&телефонов&Xiaomi_Серия&Redmi',\n",
       " 'Электроника_Смартфоны&и&телефоны_Чехлы_Чехлы&для&телефонов&Xiaomi_Серия&Redmi&Note',\n",
       " 'Электроника_Смартфоны&и&телефоны_Чехлы_Чехлы&для&телефонов&Xiaomi_Серия&Т',\n",
       " 'Электроника_Смартфоны&и&телефоны_Шнурки&и&кольца',\n",
       " 'Электроника_Солнечные&электростанции&и&комплектующие',\n",
       " 'Электроника_ТВ,&Аудио,&Фото,&Видео&техника_DVD&и&медиа-плееры',\n",
       " 'Электроника_ТВ,&Аудио,&Фото,&Видео&техника_Аксессуары&для&телевизоров',\n",
       " 'Электроника_ТВ,&Аудио,&Фото,&Видео&техника_Аудиотехника',\n",
       " 'Электроника_ТВ,&Аудио,&Фото,&Видео&техника_Видеокамеры',\n",
       " 'Электроника_ТВ,&Аудио,&Фото,&Видео&техника_Кронштейны',\n",
       " 'Электроника_ТВ,&Аудио,&Фото,&Видео&техника_Микрофоны',\n",
       " 'Электроника_ТВ,&Аудио,&Фото,&Видео&техника_Объективы',\n",
       " 'Электроника_ТВ,&Аудио,&Фото,&Видео&техника_Студийное&оборудование',\n",
       " 'Электроника_ТВ,&Аудио,&Фото,&Видео&техника_Телевизоры',\n",
       " 'Электроника_ТВ,&Аудио,&Фото,&Видео&техника_Фотоаппараты',\n",
       " 'Электроника_ТВ,&Аудио,&Фото,&Видео&техника_Фоторамки&цифровые',\n",
       " 'Электроника_ТВ,&Аудио,&Фото,&Видео&техника_Чехлы&и&рюкзаки',\n",
       " 'Электроника_Торговое&оборудование',\n",
       " 'Электроника_Умный&дом',\n",
       " 'Электроника_Электротранспорт&и&аксессуары',\n",
       " 'Ювелирные&изделия_Аксессуары&для&украшений',\n",
       " 'Ювелирные&изделия_Браслеты',\n",
       " 'Ювелирные&изделия_Броши',\n",
       " 'Ювелирные&изделия_Зажимы,&запонки,&ремни',\n",
       " 'Ювелирные&изделия_Колье,&цепи,&шнурки',\n",
       " 'Ювелирные&изделия_Кольца',\n",
       " 'Ювелирные&изделия_Комплекты',\n",
       " 'Ювелирные&изделия_Пирсинг',\n",
       " 'Ювелирные&изделия_Подвески&и&шармы',\n",
       " 'Ювелирные&изделия_Серьги',\n",
       " 'Ювелирные&изделия_Сувениры&и&столовое&серебро',\n",
       " 'Ювелирные&изделия_Украшения&из&керамики',\n",
       " 'Ювелирные&изделия_Часы',\n",
       " 'Ювелирные&изделия_Четки']"
      ]
     },
     "execution_count": 10,
     "metadata": {},
     "output_type": "execute_result"
    }
   ],
   "source": [
    "# Кол-во категорий\n",
    "folders = os.listdir(root_dir)\n",
    "print(len(folders))\n",
    "folders"
   ]
  },
  {
   "cell_type": "markdown",
   "id": "ae00b1d9",
   "metadata": {},
   "source": [
    "## удаление товаров"
   ]
  },
  {
   "cell_type": "markdown",
   "id": "3d8215ce",
   "metadata": {},
   "source": [
    "удаляет только feedback для указанного товара"
   ]
  },
  {
   "cell_type": "code",
   "execution_count": 4,
   "id": "19926d43",
   "metadata": {},
   "outputs": [],
   "source": [
    "def delete_feedbacks(path: Path, ind: list[int]):\n",
    "    path = path / \"feedbacks\"\n",
    "    paths_to_img = [path / f\"{i}_feedbacks.png\" for i in ind]\n",
    "    for p in paths_to_img:\n",
    "        os.remove(p)\n",
    "    \n",
    "    return paths_to_img"
   ]
  },
  {
   "cell_type": "code",
   "execution_count": 19,
   "id": "3e8e9ff4",
   "metadata": {},
   "outputs": [
    {
     "data": {
      "text/plain": [
       "[WindowsPath('C:/temp/!hse-mlds-project-year2/test/Ювелирные&изделия_Четки/feedbacks/4_feedbacks.png'),\n",
       " WindowsPath('C:/temp/!hse-mlds-project-year2/test/Ювелирные&изделия_Четки/feedbacks/6_feedbacks.png')]"
      ]
     },
     "execution_count": 19,
     "metadata": {},
     "output_type": "execute_result"
    }
   ],
   "source": [
    "delete_feedbacks(path=root_dir / folders[2], ind=[4,6])"
   ]
  },
  {
   "cell_type": "markdown",
   "id": "92d33516",
   "metadata": {},
   "source": [
    "удаляет полностью card, description и feedback (если он есть) для указанного товара"
   ]
  },
  {
   "cell_type": "code",
   "execution_count": 5,
   "id": "fb2d1028",
   "metadata": {},
   "outputs": [],
   "source": [
    "def delete_card_and_description(path: Path, ind: list[int]):\n",
    "    path_card = path / \"card\"\n",
    "    path_feedbacks = path / \"feedbacks\"\n",
    "    paths_card_img = [path_card / f\"{i}.png\" for i in ind]\n",
    "    paths_feedbacks_img = [path_feedbacks / f\"{i}_feedbacks.png\" for i in ind]\n",
    "    check_feedbacks = [True if path.exists() else False for path in paths_feedbacks_img]\n",
    "\n",
    "    descriptions =  pd.read_csv(path / \"descriptions.csv\")\n",
    "    descriptions.set_index(['item'], inplace=True)\n",
    "    for i in range(len(ind)):\n",
    "        \n",
    "        # удаление описания\n",
    "        try:\n",
    "            descriptions.drop(index=paths_card_img[i].parts[-1], inplace=True)\n",
    "        except Exception as e:\n",
    "            print(e)\n",
    "            return f\"Упало на {paths_card_img[i]}\"\n",
    "        \n",
    "        # удаление card\n",
    "        try:\n",
    "            os.remove(paths_card_img[i])\n",
    "        except Exception as e:\n",
    "            print(e)\n",
    "            return f\"Упало на {paths_card_img[i]}\"\n",
    "        \n",
    "        # удаление feedbacks\n",
    "        if check_feedbacks[i]:\n",
    "            try:\n",
    "                os.remove(paths_feedbacks_img[i])\n",
    "            except Exception as e:\n",
    "                print(e)\n",
    "                return f\"Упало на {paths_feedbacks_img[i]}\"\n",
    "        \n",
    "    descriptions.reset_index(inplace=True)\n",
    "    descriptions.to_csv(path / \"descriptions.csv\", index=False)\n",
    "    return paths_card_img"
   ]
  },
  {
   "cell_type": "code",
   "execution_count": 188,
   "id": "68e96d9f",
   "metadata": {},
   "outputs": [
    {
     "data": {
      "text/plain": [
       "[WindowsPath('C:/temp/!hse-mlds-project-year2/test/Ювелирные&изделия_Украшения&из&серебра/card/9.png'),\n",
       " WindowsPath('C:/temp/!hse-mlds-project-year2/test/Ювелирные&изделия_Украшения&из&серебра/card/10.png'),\n",
       " WindowsPath('C:/temp/!hse-mlds-project-year2/test/Ювелирные&изделия_Украшения&из&серебра/card/12.png')]"
      ]
     },
     "execution_count": 188,
     "metadata": {},
     "output_type": "execute_result"
    }
   ],
   "source": [
    "paths_to_img = delete_card_and_description(path=root_dir / folders[0], ind=[9,10,12])\n",
    "paths_to_img"
   ]
  },
  {
   "cell_type": "markdown",
   "id": "2ff2aab7",
   "metadata": {},
   "source": [
    "## перенос товара в другую категорию"
   ]
  },
  {
   "cell_type": "markdown",
   "id": "6a7d88de",
   "metadata": {},
   "source": [
    "переносится полностью card, description и feedback (если он есть) для указанного товара"
   ]
  },
  {
   "cell_type": "code",
   "execution_count": 6,
   "id": "2b1d7665",
   "metadata": {},
   "outputs": [],
   "source": [
    "def move_items_to_another_category(path_from: Path,\n",
    "                                   path_to: Path,\n",
    "                                   ind: list[int]):\n",
    "    from_path_card = path_from / \"card\"\n",
    "    from_path_feedbacks = path_from / \"feedbacks\"\n",
    "    from_paths_card_img = [from_path_card / f\"{i}.png\" for i in ind]\n",
    "    from_paths_feedbacks_img = [from_path_feedbacks / f\"{i}_feedbacks.png\" for i in ind]\n",
    "    check_feedbacks = [True if path.exists() else False for path in from_paths_feedbacks_img]\n",
    "\n",
    "    to_path_card = path_to / \"card\"\n",
    "    to_path_feedbacks = path_to / \"feedbacks\"\n",
    "    start_name = int(sorted(path_to.rglob(\"*.png\"), key=lambda x: int(x.stem.split('_')[0]))[-1].stem.split('_')[0])\n",
    "    to_paths_card_img = [to_path_card / f\"{i}.png\" for i in range(start_name+1, start_name+1+len(ind))]\n",
    "    to_paths_feedbacks_img = [to_path_feedbacks / f\"{i}_feedbacks.png\" for i in range(start_name+1, start_name+1+len(ind))]\n",
    "\n",
    "    from_descriptions = pd.read_csv(path_from / \"descriptions.csv\")\n",
    "    from_descriptions.set_index(['item'], inplace=True)\n",
    "    to_descriptions = pd.read_csv(path_to / \"descriptions.csv\")\n",
    "    to_descriptions.set_index(['item'], inplace=True)\n",
    "    \n",
    "    for i in range(len(ind)):\n",
    "        \n",
    "        # перемещение описания\n",
    "        try:\n",
    "            to_descriptions.loc[to_paths_card_img[i].parts[-1]] = from_descriptions.loc[from_paths_card_img[i].parts[-1]][\"description\"]\n",
    "            from_descriptions.drop(index=from_paths_card_img[i].parts[-1], inplace=True)\n",
    "        except Exception as e:\n",
    "            print(e)\n",
    "            return f\"Упало на description of {from_paths_card_img[i]}\"\n",
    "        \n",
    "        # перемещение card\n",
    "        try:\n",
    "            shutil.move(from_paths_card_img[i], to_paths_card_img[i])\n",
    "        except Exception as e:\n",
    "            print(e)\n",
    "            return f\"Упало на {from_paths_card_img[i]}\"\n",
    "        \n",
    "        # перемещение feedbacks\n",
    "        if check_feedbacks[i]:\n",
    "            try:\n",
    "                shutil.move(from_paths_feedbacks_img[i], to_paths_feedbacks_img[i])\n",
    "            except Exception as e:\n",
    "                print(e)\n",
    "                return f\"Упало на {from_paths_feedbacks_img[i]}\"\n",
    "            \n",
    "    from_descriptions.reset_index(inplace=True)\n",
    "    to_descriptions.reset_index(inplace=True)\n",
    "    from_descriptions.to_csv(path_from / \"descriptions.csv\", index=False)\n",
    "    to_descriptions.to_csv(path_to / \"descriptions.csv\", index=False)\n",
    "\n",
    "    return (from_paths_card_img, to_paths_card_img)"
   ]
  },
  {
   "cell_type": "code",
   "execution_count": 192,
   "id": "7da3fd07",
   "metadata": {},
   "outputs": [
    {
     "data": {
      "text/plain": [
       "([WindowsPath('C:/temp/!hse-mlds-project-year2/test/Ювелирные&изделия_Четки/card/1.png'),\n",
       "  WindowsPath('C:/temp/!hse-mlds-project-year2/test/Ювелирные&изделия_Четки/card/4.png'),\n",
       "  WindowsPath('C:/temp/!hse-mlds-project-year2/test/Ювелирные&изделия_Четки/card/6.png')],\n",
       " [WindowsPath('C:/temp/!hse-mlds-project-year2/test/Ювелирные&изделия_Часы/card/20.png'),\n",
       "  WindowsPath('C:/temp/!hse-mlds-project-year2/test/Ювелирные&изделия_Часы/card/21.png'),\n",
       "  WindowsPath('C:/temp/!hse-mlds-project-year2/test/Ювелирные&изделия_Часы/card/22.png')])"
      ]
     },
     "execution_count": 192,
     "metadata": {},
     "output_type": "execute_result"
    }
   ],
   "source": [
    "logs = move_items_to_another_category(path_from=root_dir / folders[2],\n",
    "                                      path_to=root_dir / folders[1],\n",
    "                                      ind=[1,4,6])\n",
    "logs"
   ]
  },
  {
   "cell_type": "markdown",
   "id": "d2556f37",
   "metadata": {},
   "source": [
    "проверка описания"
   ]
  },
  {
   "cell_type": "code",
   "execution_count": 13,
   "id": "604582ce",
   "metadata": {},
   "outputs": [],
   "source": [
    "path = root_dir / \"Зоотовары_Для&кошек_Транспортировка\"\n",
    "descriptions = pd.read_csv(path / \"descriptions.csv\")\n",
    "descriptions.set_index(['item'], inplace=True)"
   ]
  },
  {
   "cell_type": "code",
   "execution_count": 15,
   "id": "984e38b7",
   "metadata": {},
   "outputs": [],
   "source": [
    "path = root_dir / \"Зоотовары_Для&собак_Транспортировка\"\n",
    "descriptions2 = pd.read_csv(path / \"descriptions.csv\")\n",
    "descriptions2.set_index(['item'], inplace=True)"
   ]
  },
  {
   "cell_type": "code",
   "execution_count": 17,
   "id": "72c552b9",
   "metadata": {},
   "outputs": [
    {
     "data": {
      "text/plain": [
       "description    Представляем самую удобную сумку-переноску для...\n",
       "Name: 6.png, dtype: object"
      ]
     },
     "execution_count": 17,
     "metadata": {},
     "output_type": "execute_result"
    }
   ],
   "source": [
    "descriptions.iloc[6]"
   ]
  },
  {
   "cell_type": "code",
   "execution_count": 18,
   "id": "90f9ad87",
   "metadata": {},
   "outputs": [
    {
     "data": {
      "text/plain": [
       "description    Мягкая переноска для животных обеспечит непрев...\n",
       "Name: 9.png, dtype: object"
      ]
     },
     "execution_count": 18,
     "metadata": {},
     "output_type": "execute_result"
    }
   ],
   "source": [
    "descriptions.iloc[9]"
   ]
  },
  {
   "cell_type": "markdown",
   "id": "0d3017fe",
   "metadata": {},
   "source": [
    "## изменения датасета"
   ]
  },
  {
   "cell_type": "markdown",
   "id": "98876b3e",
   "metadata": {},
   "source": [
    "### Автотовары"
   ]
  },
  {
   "cell_type": "code",
   "execution_count": 7,
   "id": "1fcf4887",
   "metadata": {},
   "outputs": [],
   "source": [
    "shutil.rmtree(root_dir / \"Автотовары_Запчасти&на&легковые&автомобили_Автозапчасти\", ignore_errors=True)\n",
    "\n",
    "logs = move_items_to_another_category(path_from=root_dir / 'Автотовары_Автокосметика&и&автохимия_Уход&за&салоном',\n",
    "                                      path_to=root_dir / 'Автотовары_Аксессуары&в&салон&и&багажник_Ароматизаторы',\n",
    "                                      ind=[3, 4, 5, 7, 10, 13, 14, 16, 17, 18, 19])\n",
    "\n",
    "paths_to_img = delete_card_and_description(path=root_dir / \"Автотовары_Автокосметика&и&автохимия_Уход&за&салоном\",\n",
    "                                           ind=[2])\n",
    "\n",
    "logs = move_items_to_another_category(path_from=root_dir / 'Автотовары_Автокосметика&и&автохимия_Уход&за&стеклами&и&фарами',\n",
    "                                      path_to=root_dir / 'Автотовары_Масла&и&жидкости_Жидкости&эксплуатационные',\n",
    "                                      ind=[4, 9, 18, 19])\n",
    "\n",
    "paths_to_img = delete_card_and_description(path=root_dir / \"Автотовары_Внешний&тюнинг\",\n",
    "                                           ind=[1, 3, 8, 9, 11, 12, 16, 17, 18])\n",
    "\n",
    "logs = move_items_to_another_category(path_from=root_dir / 'Автотовары_Другие&аксессуары&и&доп.&оборудование_Охранные&системы',\n",
    "                                      path_to=root_dir / 'Автотовары_Аксессуары&в&салон&и&багажник_Аксессуары&для&водителя',\n",
    "                                      ind=[1, 11, 19])\n",
    "logs = move_items_to_another_category(path_from=root_dir / 'Автотовары_Другие&аксессуары&и&доп.&оборудование_Другие&автоаксессуары',\n",
    "                                      path_to=root_dir / 'Автотовары_Аксессуары&в&салон&и&багажник_Аксессуары&для&водителя',\n",
    "                                      ind=[0, 1, 3, 4, 8, 14])\n",
    "logs = move_items_to_another_category(path_from=root_dir / 'Автотовары_Автоэлектроника&и&навигация',\n",
    "                                      path_to=root_dir / 'Автотовары_Другие&аксессуары&и&доп.&оборудование_Электроника',\n",
    "                                      ind=[0, 2, 3, 4, 6, 8])\n",
    "\n",
    "shutil.rmtree(root_dir / \"Автотовары_Автоэлектроника&и&навигация\", ignore_errors=True)"
   ]
  },
  {
   "cell_type": "markdown",
   "id": "c39630ed",
   "metadata": {},
   "source": [
    "### Аксессуары"
   ]
  },
  {
   "cell_type": "code",
   "execution_count": 11,
   "id": "85c7b52c",
   "metadata": {},
   "outputs": [],
   "source": [
    "logs = move_items_to_another_category(path_from=root_dir / 'Аксессуары_Религиозные_Православие',\n",
    "                                      path_to=root_dir / 'Аксессуары_Платки&и&шарфы',\n",
    "                                      ind=[2, 3, 4, 5, 6, 7, 10, 11, 15, 16, 17, 18, 19])\n",
    "\n",
    "shutil.rmtree(root_dir / \"Аксессуары_Религиозные_Православие\", ignore_errors=True)\n",
    "\n",
    "logs = move_items_to_another_category(path_from=root_dir / 'Аксессуары_Религиозные_Ислам',\n",
    "                                      path_to=root_dir / 'Аксессуары_Бижутерия_Кольца',\n",
    "                                      ind=[0,4])\n",
    "logs = move_items_to_another_category(path_from=root_dir / 'Аксессуары_Религиозные_Ислам',\n",
    "                                      path_to=root_dir / 'Аксессуары_Бижутерия_Браслеты',\n",
    "                                      ind=[3,11,12,16,17,18,19])\n",
    "logs = move_items_to_another_category(path_from=root_dir / 'Аксессуары_Религиозные_Ислам',\n",
    "                                      path_to=root_dir / 'Аксессуары_Бижутерия_Четки',\n",
    "                                      ind=[6,10])\n",
    "paths_to_img = delete_card_and_description(path=root_dir / \"Аксессуары_Религиозные_Ислам\",\n",
    "                                           ind=[1])\n",
    "paths_to_img = delete_card_and_description(path=root_dir / \"Аксессуары_Перчатки&и&варежки\",\n",
    "                                           ind=[3, 12])\n",
    "paths_to_img = delete_card_and_description(path=root_dir / \"Аксессуары_Очки&и&футляры_Аксессуары&для&очков\",\n",
    "                                           ind=[0, 7, 8, 12, 13])\n",
    "\n",
    "logs = move_items_to_another_category(path_from=root_dir / 'Аксессуары_Бижутерия_Колье',\n",
    "                                      path_to=root_dir / 'Аксессуары_Платки&и&шарфы',\n",
    "                                      ind=[12,13])\n",
    "paths_to_img = delete_card_and_description(path=root_dir / \"Аксессуары_Бижутерия_Булавки&для&воротника\",\n",
    "                                           ind=[1])\n",
    "paths_to_img = delete_card_and_description(path=root_dir / \"Аксессуары_Аксессуары&для&одежды\",\n",
    "                                           ind=[7])\n",
    "paths_to_img = delete_card_and_description(path=root_dir / \"Аксессуары_Аксессуары&для&одежды\",\n",
    "                                           ind=[17])"
   ]
  },
  {
   "cell_type": "markdown",
   "id": "dab82b66",
   "metadata": {},
   "source": [
    "### Детям"
   ]
  },
  {
   "cell_type": "code",
   "execution_count": 8,
   "id": "ead343f7",
   "metadata": {},
   "outputs": [],
   "source": [
    "shutil.rmtree(root_dir / 'Детям_Подарки&детям_Вкусные&подарки', ignore_errors=True)\n",
    "shutil.rmtree(root_dir / 'Детям_Детский&транспорт_Белье', ignore_errors=True)\n",
    "shutil.rmtree(root_dir / 'Детям_Детский&транспорт_Одежда', ignore_errors=True)\n",
    "shutil.rmtree(root_dir / 'Детям_Детский&транспорт_Аксессуары', ignore_errors=True)\n",
    "\n",
    "logs = move_items_to_another_category(path_from=root_dir / 'Детям_Детский&транспорт_Обувь',\n",
    "                                      path_to=root_dir / 'Детям_Для&девочек_Обувь',\n",
    "                                      ind=[0, 1, 2, 3, 4, 6, 8, 9, 12, 16])\n",
    "\n",
    "shutil.rmtree(root_dir / 'Детям_Детский&транспорт_Обувь', ignore_errors=True)"
   ]
  },
  {
   "cell_type": "markdown",
   "id": "83d71ae5",
   "metadata": {},
   "source": [
    "### Дом"
   ]
  },
  {
   "cell_type": "code",
   "execution_count": 14,
   "id": "2ae74223",
   "metadata": {},
   "outputs": [],
   "source": [
    "paths_to_img = delete_card_and_description(path=root_dir / \"Дом_Шторы_Тюли&и&гардины\",\n",
    "                                           ind=[5,6,14,15,18])\n",
    "paths_to_img = delete_card_and_description(path=root_dir / \"Дом_Шторы_Римские&и&рулонные&шторы\",\n",
    "                                           ind=[0,1,2,3,9,11,18,19])\n",
    "paths_to_img = delete_card_and_description(path=root_dir / \"Дом_Цветы,&вазы&и&кашпо_Кашпо\",\n",
    "                                           ind=[7,9])\n",
    "\n",
    "logs = move_items_to_another_category(path_from=root_dir / 'Дом_Сувенирная&продукция',\n",
    "                                      path_to=root_dir / 'Дом_Цветы,&вазы&и&кашпо_Кашпо',\n",
    "                                      ind=[16])\n",
    "logs = move_items_to_another_category(path_from=root_dir / 'Дом_Спальня_Шторы',\n",
    "                                      path_to=root_dir / 'Дом_Шторы_Шторы&и&портьеры',\n",
    "                                      ind=[0,9,12,14])\n",
    "\n",
    "shutil.rmtree(root_dir / \"Дом_Спальня_Шторы\", ignore_errors=True)\n",
    "shutil.rmtree(root_dir / \"Дом_Спальня_Хранение&вещей\", ignore_errors=True)\n",
    "shutil.rmtree(root_dir / \"Дом_Прихожая_Хранение&вещей\", ignore_errors=True)\n",
    "shutil.rmtree(root_dir / \"Дом_Прихожая_Освещение\", ignore_errors=True)\n",
    "shutil.rmtree(root_dir / \"Дом_Прихожая_Мебель\", ignore_errors=True)\n",
    "\n",
    "paths_to_img = delete_card_and_description(path=root_dir / \"Дом_Предметы&интерьера_Фоторамки&и&фотоальбомы_Фотофоны\",\n",
    "                                           ind=[1,2,3,4,5,6,9,10,12])\n",
    "paths_to_img = delete_card_and_description(path=root_dir / \"Дом_Предметы&интерьера_Свечи&и&подсвечники\",\n",
    "                                           ind=[15])\n",
    "paths_to_img = delete_card_and_description(path=root_dir / \"Дом_Предметы&интерьера_Подушки&и&чехлы\",\n",
    "                                           ind=[6,7,16])\n",
    "shutil.rmtree(root_dir / \"Дом_Предметы&интерьера_Наклейки&и&декор\", ignore_errors=True)\n",
    "paths_to_img = delete_card_and_description(path=root_dir / \"Дом_Предметы&интерьера_Картины&и&постеры_Постеры&в&рамах\",\n",
    "                                           ind=[0])\n",
    "\n",
    "shutil.rmtree(root_dir / \"Дом_Гостиная_Шторы\", ignore_errors=True)\n",
    "shutil.rmtree(root_dir / \"Дом_Гостиная_Коробки&для&хранения\", ignore_errors=True)\n",
    "shutil.rmtree(root_dir / \"Дом_Гостиная_Мебель\", ignore_errors=True)\n",
    "shutil.rmtree(root_dir / \"Дом_Гостиная_Декорации&настенные\", ignore_errors=True)\n",
    "shutil.rmtree(root_dir / \"Дом_Гостиная_Коврики&комнатные\", ignore_errors=True)\n",
    "shutil.rmtree(root_dir / \"Дом_Гостиная_Освещение\", ignore_errors=True)\n",
    "shutil.rmtree(root_dir / \"Дом_Гостиная_Подушки&декоративные\", ignore_errors=True)\n",
    "shutil.rmtree(root_dir / \"Дом_Детская_Шторы\", ignore_errors=True)\n",
    "shutil.rmtree(root_dir / \"Дом_Детская_Постельные&принадлежности\", ignore_errors=True)\n",
    "shutil.rmtree(root_dir / \"Дом_Детская_Предметы&интерьера\", ignore_errors=True)\n",
    "shutil.rmtree(root_dir / \"Дом_Детская_Освещение\", ignore_errors=True)\n",
    "shutil.rmtree(root_dir / \"Дом_Детская_Хранение&вещей\", ignore_errors=True)\n",
    "shutil.rmtree(root_dir / \"Дом_Спальня_Зеркала\", ignore_errors=True)\n",
    "shutil.rmtree(root_dir / \"Дом_Предметы&интерьера_Подушки&и&чехлы\", ignore_errors=True)\n",
    "shutil.rmtree(root_dir / \"Дом_Отдых&на&природе_Мебель&и&текстиль\", ignore_errors=True)\n",
    "shutil.rmtree(root_dir / \"Дом_Отдых&на&природе_Развлечения\", ignore_errors=True)\n",
    "shutil.rmtree(root_dir / \"Дом_Отдых&на&природе_Репелленты\", ignore_errors=True)"
   ]
  },
  {
   "cell_type": "markdown",
   "id": "d83a0a21",
   "metadata": {},
   "source": [
    "### Зоотовары"
   ]
  },
  {
   "cell_type": "code",
   "execution_count": 80,
   "id": "027afb1d",
   "metadata": {},
   "outputs": [],
   "source": [
    "logs = move_items_to_another_category(path_from=root_dir / 'Зоотовары_Для&кошек_Транспортировка',\n",
    "                                      path_to=root_dir / 'Зоотовары_Транспортировка',\n",
    "                                      ind=[12, 15, 19])"
   ]
  },
  {
   "cell_type": "code",
   "execution_count": 81,
   "id": "139c97e0",
   "metadata": {},
   "outputs": [],
   "source": [
    "logs = move_items_to_another_category(path_from=root_dir / 'Зоотовары_Корм&и&лакомства',\n",
    "                                      path_to=root_dir / 'Зоотовары_Для&кошек_Корм&и&лакомства',\n",
    "                                      ind=[9])\n",
    "\n",
    "paths_to_img = delete_card_and_description(path=root_dir / \"Зоотовары_Для&кошек_Корм&и&лакомства\",\n",
    "                                           ind=[10])"
   ]
  },
  {
   "cell_type": "code",
   "execution_count": 102,
   "id": "7e97cdb0",
   "metadata": {},
   "outputs": [],
   "source": [
    "logs = move_items_to_another_category(path_from=root_dir / 'Зоотовары_Для&кошек_Лотки&и&наполнители',\n",
    "                                      path_to=root_dir / 'Зоотовары_Лотки&и&наполнители',\n",
    "                                      ind=[3,7,10,16,17,18,19])\n",
    "\n",
    "logs = move_items_to_another_category(path_from=root_dir / 'Зоотовары_Для&собак_Лотки,&пеленки',\n",
    "                                      path_to=root_dir / 'Зоотовары_Лотки&и&наполнители',\n",
    "                                      ind=[15,17,18,19])\n",
    "paths_to_img = delete_card_and_description(path=root_dir / \"Зоотовары_Лотки&и&наполнители\",\n",
    "                                           ind=[8,11])"
   ]
  },
  {
   "cell_type": "code",
   "execution_count": 99,
   "id": "d9f93635",
   "metadata": {},
   "outputs": [],
   "source": [
    "logs = move_items_to_another_category(path_from=root_dir / 'Зоотовары_Для&кошек_Аксессуары&для&кормления',\n",
    "                                      path_to=root_dir / 'Зоотовары_Аксессуары&для&кормления',\n",
    "                                      ind=[9,16,17,18,19])\n",
    "paths_to_img = delete_card_and_description(path=root_dir / \"Зоотовары_Аксессуары&для&кормления\",\n",
    "                                           ind=[8])"
   ]
  },
  {
   "cell_type": "code",
   "execution_count": 101,
   "id": "9a8a7c44",
   "metadata": {},
   "outputs": [],
   "source": [
    "logs = move_items_to_another_category(path_from=root_dir / 'Зоотовары_Для&собак_Амуниция&для&прогулки&и&дрессировки',\n",
    "                                      path_to=root_dir / 'Зоотовары_Амуниция&и&дрессировка',\n",
    "                                      ind=[4])\n",
    "logs = move_items_to_another_category(path_from=root_dir / 'Зоотовары_Для&собак_Амуниция&для&прогулки&и&дрессировки',\n",
    "                                      path_to=root_dir / 'Зоотовары_Лотки&и&наполнители',\n",
    "                                      ind=[11])\n",
    "logs = move_items_to_another_category(path_from=root_dir / 'Зоотовары_Для&кошек_Амуниция',\n",
    "                                      path_to=root_dir / 'Зоотовары_Амуниция&и&дрессировка',\n",
    "                                      ind=[0,3,5,8,9,10, 11, 12, 13, 14, 15, 16, 17, 18, 19])\n",
    "paths_to_img = delete_card_and_description(path=root_dir / \"Зоотовары_Амуниция&и&дрессировка\",\n",
    "                                           ind=[0,1])"
   ]
  },
  {
   "cell_type": "code",
   "execution_count": 85,
   "id": "77a49506",
   "metadata": {},
   "outputs": [],
   "source": [
    "logs = move_items_to_another_category(path_from=root_dir / 'Зоотовары_Для&кошек_Ветаптека',\n",
    "                                      path_to=root_dir / 'Зоотовары_Ветаптека',\n",
    "                                      ind=[1,12,13,14,16,17,19])\n",
    "logs = move_items_to_another_category(path_from=root_dir / 'Зоотовары_Для&собак_Ветаптека',\n",
    "                                      path_to=root_dir / 'Зоотовары_Ветаптека',\n",
    "                                      ind=[11,17,18,19])"
   ]
  },
  {
   "cell_type": "code",
   "execution_count": 86,
   "id": "a39c3511",
   "metadata": {},
   "outputs": [],
   "source": [
    "logs = move_items_to_another_category(path_from=root_dir / 'Зоотовары_Для&кошек_Груминг&и&уход',\n",
    "                                      path_to=root_dir / 'Зоотовары_Груминг&и&уход',\n",
    "                                      ind=[6,8,16])\n",
    "logs = move_items_to_another_category(path_from=root_dir / 'Зоотовары_Для&собак_Груминг&и&уход',\n",
    "                                      path_to=root_dir / 'Зоотовары_Груминг&и&уход',\n",
    "                                      ind=[19])"
   ]
  },
  {
   "cell_type": "code",
   "execution_count": 87,
   "id": "52775137",
   "metadata": {},
   "outputs": [],
   "source": [
    "logs = move_items_to_another_category(path_from=root_dir / 'Зоотовары_Для&собак_Игрушки',\n",
    "                                      path_to=root_dir / 'Зоотовары_Игрушки',\n",
    "                                      ind=[2,6,12,13,14,16,17,18,19])\n",
    "logs = move_items_to_another_category(path_from=root_dir / 'Зоотовары_Для&кошек_Игрушки&и&когтеточки',\n",
    "                                      path_to=root_dir / 'Зоотовары_Когтеточки&и&домики',\n",
    "                                      ind=[9,17,18])\n",
    "paths_to_img = delete_card_and_description(path=root_dir / \"Зоотовары_Игрушки\",\n",
    "                                           ind=[12])"
   ]
  },
  {
   "cell_type": "code",
   "execution_count": 88,
   "id": "9a8e2537",
   "metadata": {},
   "outputs": [],
   "source": [
    "logs = move_items_to_another_category(path_from=root_dir / 'Зоотовары_Для&кошек_Лежаки&и&домики',\n",
    "                                      path_to=root_dir / 'Зоотовары_Когтеточки&и&домики',\n",
    "                                      ind=[5, 6, 7, 8, 9, 10, 11, 12, 13, 14, 15, 16, 17, 18, 19])\n",
    "logs = move_items_to_another_category(path_from=root_dir / 'Зоотовары_Для&собак_Лежанки,&домики',\n",
    "                                      path_to=root_dir / 'Зоотовары_Когтеточки&и&домики',\n",
    "                                      ind=[3,12,15,16,17,18,19])"
   ]
  },
  {
   "cell_type": "code",
   "execution_count": 89,
   "id": "c8fd6b08",
   "metadata": {},
   "outputs": [],
   "source": [
    "logs = move_items_to_another_category(path_from=root_dir / 'Зоотовары_Для&собак_Одежда',\n",
    "                                      path_to=root_dir / 'Зоотовары_Одежда',\n",
    "                                      ind=[14,15,16,17,18])\n",
    "logs = move_items_to_another_category(path_from=root_dir / 'Зоотовары_Для&кошек_Одежда',\n",
    "                                      path_to=root_dir / 'Зоотовары_Одежда',\n",
    "                                      ind=[4,6,7,10,12,14,15,17,18,19])"
   ]
  },
  {
   "cell_type": "code",
   "execution_count": 90,
   "id": "99405576",
   "metadata": {},
   "outputs": [],
   "source": [
    "(root_dir / 'Зоотовары_Для&собак_Вольеры&и&клетки').rename(root_dir / 'Зоотовары_Вольеры&и&клетки')\n",
    "\n",
    "paths_to_img = delete_card_and_description(path=root_dir / \"Зоотовары_Когтеточки&и&домики\",\n",
    "                                           ind=[6,16,25,27,33,34])"
   ]
  },
  {
   "cell_type": "code",
   "execution_count": 91,
   "id": "f2263348",
   "metadata": {},
   "outputs": [],
   "source": [
    "logs = move_items_to_another_category(path_from=root_dir / 'Зоотовары_Для&птиц',\n",
    "                                      path_to=root_dir / 'Зоотовары_Груминг&и&уход',\n",
    "                                      ind=[3,7,13])\n",
    "paths_to_img = delete_card_and_description(path=root_dir / \"Зоотовары_Для&птиц\",\n",
    "                                           ind=[6,12])"
   ]
  },
  {
   "cell_type": "code",
   "execution_count": 92,
   "id": "c1bdc1e7",
   "metadata": {},
   "outputs": [],
   "source": [
    "logs = move_items_to_another_category(path_from=root_dir / 'Зоотовары_Для&лошадей',\n",
    "                                      path_to=root_dir / 'Зоотовары_Груминг&и&уход',\n",
    "                                      ind=[3,4,5,6, 7, 8, 9, 10, 11, 12, 13, 14, 15, 16, 17, 18, 19])"
   ]
  },
  {
   "cell_type": "code",
   "execution_count": 95,
   "id": "fa42a1dc",
   "metadata": {},
   "outputs": [],
   "source": [
    "paths_to_img = delete_card_and_description(path=root_dir / \"Зоотовары_Для&грызунов&и&хорьков\",\n",
    "                                           ind=[2,4,5,6,7,8,10,11,13,14,15,18])\n",
    "logs = move_items_to_another_category(path_from=root_dir / 'Зоотовары_Для&грызунов&и&хорьков',\n",
    "                                      path_to=root_dir / 'Зоотовары_Груминг&и&уход',\n",
    "                                      ind=[16,17])\n",
    "logs = move_items_to_another_category(path_from=root_dir / 'Зоотовары_Для&птиц',\n",
    "                                      path_to=root_dir / 'Зоотовары_Для&грызунов&и&хорьков',\n",
    "                                      ind=[10])"
   ]
  },
  {
   "cell_type": "code",
   "execution_count": 96,
   "id": "811c8f76",
   "metadata": {},
   "outputs": [],
   "source": [
    "paths_to_img = delete_card_and_description(path=root_dir / \"Зоотовары_Фермерство\",\n",
    "                                           ind=[0,6,8,9,10,13,18])\n",
    "paths_to_img = delete_card_and_description(path=root_dir / \"Зоотовары_Для&птиц\",\n",
    "                                           ind=[16])"
   ]
  },
  {
   "cell_type": "code",
   "execution_count": 97,
   "id": "4f17ff77",
   "metadata": {},
   "outputs": [],
   "source": [
    "logs = move_items_to_another_category(path_from=root_dir / 'Зоотовары_Аквариумистика_Корм&и&аксессуары&для&кормления',\n",
    "                                      path_to=root_dir / 'Зоотовары_Для&кошек_Корм&и&лакомства',\n",
    "                                      ind=[4,9])\n",
    "logs = move_items_to_another_category(path_from=root_dir / 'Зоотовары_Аквариумистика_Корм&и&аксессуары&для&кормления',\n",
    "                                      path_to=root_dir / 'Зоотовары_Фермерство',\n",
    "                                      ind=[16])"
   ]
  },
  {
   "cell_type": "code",
   "execution_count": 98,
   "id": "d9e31e2d",
   "metadata": {},
   "outputs": [],
   "source": [
    "paths_to_img = delete_card_and_description(path=root_dir / \"Зоотовары_Террариумистика\",\n",
    "                                           ind=[0,3,4,5,9,10,15,16,17,18,19])"
   ]
  },
  {
   "cell_type": "code",
   "execution_count": 94,
   "id": "79341e33",
   "metadata": {},
   "outputs": [],
   "source": [
    "shutil.rmtree(root_dir / \"Зоотовары_Для&кошек_Транспортировка\", ignore_errors=True)\n",
    "shutil.rmtree(root_dir / \"Зоотовары_Для&собак_Транспортировка\", ignore_errors=True)\n",
    "shutil.rmtree(root_dir / \"Зоотовары_Корм&и&лакомства\", ignore_errors=True)\n",
    "shutil.rmtree(root_dir / \"Зоотовары_Для&собак_Лотки,&пеленки\", ignore_errors=True)\n",
    "shutil.rmtree(root_dir / \"Зоотовары_Для&кошек_Лотки&и&наполнители\", ignore_errors=True)\n",
    "shutil.rmtree(root_dir / \"Зоотовары_Для&кошек_Аксессуары&для&кормления\", ignore_errors=True)\n",
    "shutil.rmtree(root_dir / \"Зоотовары_Для&собак_Аксессуары&для&кормления\", ignore_errors=True)\n",
    "shutil.rmtree(root_dir / \"Зоотовары_Для&собак_Амуниция&для&прогулки&и&дрессировки\", ignore_errors=True)\n",
    "shutil.rmtree(root_dir / \"Зоотовары_Для&кошек_Амуниция\", ignore_errors=True)\n",
    "shutil.rmtree(root_dir / \"Зоотовары_Для&кошек_Ветаптека\", ignore_errors=True)\n",
    "shutil.rmtree(root_dir / \"Зоотовары_Для&собак_Ветаптека\", ignore_errors=True)\n",
    "shutil.rmtree(root_dir / \"Зоотовары_Для&кошек_Груминг&и&уход\", ignore_errors=True)\n",
    "shutil.rmtree(root_dir / \"Зоотовары_Для&собак_Груминг&и&уход\", ignore_errors=True)\n",
    "shutil.rmtree(root_dir / \"Зоотовары_Для&кошек_Игрушки&и&когтеточки\", ignore_errors=True)\n",
    "shutil.rmtree(root_dir / \"Зоотовары_Для&собак_Игрушки\", ignore_errors=True)\n",
    "shutil.rmtree(root_dir / \"Зоотовары_Для&кошек_Лежаки&и&домики\", ignore_errors=True)\n",
    "shutil.rmtree(root_dir / \"Зоотовары_Для&собак_Лежанки,&домики\", ignore_errors=True)\n",
    "shutil.rmtree(root_dir / \"Зоотовары_Для&собак_Одежда\", ignore_errors=True)\n",
    "shutil.rmtree(root_dir / \"Зоотовары_Для&кошек_Одежда\", ignore_errors=True)\n",
    "shutil.rmtree(root_dir / \"Зоотовары_Для&лошадей\", ignore_errors=True)"
   ]
  },
  {
   "cell_type": "markdown",
   "id": "dfe8fd59",
   "metadata": {},
   "source": [
    "### Красота"
   ]
  },
  {
   "cell_type": "code",
   "execution_count": 12,
   "id": "12a69e2a",
   "metadata": {},
   "outputs": [],
   "source": [
    "paths_to_img = delete_card_and_description(path=root_dir / \"Красота_Уход&за&кожей_Уход&за&телом\",\n",
    "                                           ind=[1, 11, 12, 16])\n",
    "paths_to_img = delete_card_and_description(path=root_dir / \"Красота_Уход&за&кожей_Уход&за&руками\",\n",
    "                                           ind=[11])\n",
    "paths_to_img = delete_card_and_description(path=root_dir / \"Красота_Уход&за&кожей_Уход&за&ногами\",\n",
    "                                           ind=[7, 8])\n",
    "logs = move_items_to_another_category(path_from=root_dir / 'Красота_Уход&за&кожей_Удаление&волос',\n",
    "                                      path_to=root_dir / 'Красота_Аксессуары_Для&бритья&и&удаления&волос',\n",
    "                                      ind=[8,12,15,16,19])\n",
    "shutil.rmtree(root_dir / \"Красота_Уход&за&кожей_Удаление&волос\", ignore_errors=True)\n",
    "paths_to_img = delete_card_and_description(path=root_dir / \"Красота_Уход&за&кожей_Уход&за&лицом\",\n",
    "                                           ind=[0,11,19])\n",
    "shutil.rmtree(root_dir / \"Красота_Профессиональная&косметика\", ignore_errors=True)\n",
    "shutil.rmtree(root_dir / \"Красота_Подарочные&наборы\", ignore_errors=True)\n",
    "shutil.rmtree(root_dir / \"Красота_Органическая&косметика\", ignore_errors=True)\n",
    "\n",
    "paths_to_img = delete_card_and_description(path=root_dir / \"Красота_Ногти_Уход&за&ногтями\",\n",
    "                                           ind=[4,5,6,7,8,9,10,14,16])\n",
    "paths_to_img = delete_card_and_description(path=root_dir / \"Красота_Ногти_Накладные&ногти&и&декор\",\n",
    "                                           ind=[6,7])\n",
    "shutil.rmtree(root_dir / \"Красота_Ногти_Наборы\", ignore_errors=True)\n",
    "shutil.rmtree(root_dir / \"Красота_Наборы&для&ухода\", ignore_errors=True)\n",
    "shutil.rmtree(root_dir / \"Красота_Мужская&линия_Уход&за&лицом&и&телом\", ignore_errors=True)\n",
    "\n",
    "logs = move_items_to_another_category(path_from=root_dir / 'Красота_Мужская&линия_Для&волос',\n",
    "                                      path_to=root_dir / 'Красота_Волосы_Шампуни&и&кондиционеры',\n",
    "                                      ind=[0,2,6,8,13,14,17,18,19])\n",
    "shutil.rmtree(root_dir / \"Красота_Мужская&линия_Для&волос\", ignore_errors=True)\n",
    "\n",
    "logs = move_items_to_another_category(path_from=root_dir / 'Красота_Мужская&линия_Для&бритья',\n",
    "                                      path_to=root_dir / 'Красота_Аксессуары_Для&бритья&и&удаления&волос',\n",
    "                                      ind=[0,1,3,13,14,15,16])\n",
    "\n",
    "shutil.rmtree(root_dir / \"Красота_Мужская&линия_Для&бритья\", ignore_errors=True)\n",
    "shutil.rmtree(root_dir / \"Красота_Крымская&косметика\", ignore_errors=True)\n",
    "shutil.rmtree(root_dir / \"Красота_Корейские&бренды\", ignore_errors=True)\n",
    "shutil.rmtree(root_dir / \"Красота_Инструменты&для&парикмахеров_Косметика\", ignore_errors=True)\n",
    "shutil.rmtree(root_dir / \"Красота_Инструменты&для&парикмахеров_Инструменты&и&принадлежности\", ignore_errors=True)\n",
    "shutil.rmtree(root_dir / \"Красота_Израильская&косметика\", ignore_errors=True)\n",
    "shutil.rmtree(root_dir / \"Красота_Для&мам&и&малышей\", ignore_errors=True)\n",
    "\n",
    "paths_to_img = delete_card_and_description(path=root_dir / \"Красота_Волосы_Уход&за&волосами\",\n",
    "                                           ind=[0,4])\n",
    "shutil.rmtree(root_dir / \"Красота_Аптечная&косметика\", ignore_errors=True)"
   ]
  },
  {
   "cell_type": "markdown",
   "id": "d76e669a",
   "metadata": {},
   "source": [
    "### Мебель"
   ]
  },
  {
   "cell_type": "code",
   "execution_count": 9,
   "id": "948c66b3",
   "metadata": {},
   "outputs": [],
   "source": [
    "logs = move_items_to_another_category(path_from=root_dir / 'Мебель_Мебель&для&спальни_Матрасы_Детские&матрасы',\n",
    "                                      path_to=root_dir / 'Мебель_Детская&мебель_Матрасы&детские',\n",
    "                                      ind=[2, 3, 5, 6, 8, 9, 10, 11, 12, 13, 14, 15, 16])\n",
    "\n",
    "shutil.rmtree(root_dir / \"Мебель_Мебель&для&спальни_Ламели&для&кровати\", ignore_errors=True)\n",
    "shutil.rmtree(root_dir / \"Мебель_Мебель&для&спальни_Матрасы_Детские&матрасы\", ignore_errors=True)\n",
    "\n",
    "paths_to_img = delete_card_and_description(path=root_dir / \"Мебель_Детская&мебель_Наматрасники&детские\",\n",
    "                                           ind=[14])\n",
    "paths_to_img = delete_card_and_description(path=root_dir / \"Мебель_Мебель&для&спальни_Наматрасники\",\n",
    "                                           ind=[2, 3, 4, 5, 6, 8, 9, 10, 11, 14, 16, 18])\n",
    "\n",
    "logs = move_items_to_another_category(path_from=root_dir / 'Мебель_Офисная&мебель_Стулья&и&кресла',\n",
    "                                      path_to=root_dir / 'Мебель_Компьютерная&и&геймерская&мебель_Кресла',\n",
    "                                      ind=[3, 4, 6, 11, 12, 15, 19])\n",
    "logs = move_items_to_another_category(path_from=root_dir / 'Мебель_Компьютерная&и&геймерская&мебель_Кресла',\n",
    "                                      path_to=root_dir / 'Мебель_Офисная&мебель_Стулья&и&кресла',\n",
    "                                      ind=[0, 1, 2, 3, 4, 7, 8, 10, 11, 13, 14, 19])\n",
    "\n",
    "paths_to_img = delete_card_and_description(path=root_dir / \"Мебель_Компьютерная&и&геймерская&мебель_Кресла\",\n",
    "                                           ind=[15, 18])\n",
    "paths_to_img = delete_card_and_description(path=root_dir / \"Мебель_Офисная&мебель_Стулья&и&кресла\",\n",
    "                                           ind=[2, 16])\n",
    "\n",
    "logs = move_items_to_another_category(path_from=root_dir / 'Мебель_Компьютерная&и&геймерская&мебель_Столы',\n",
    "                                      path_to=root_dir / 'Мебель_Офисная&мебель_Столы&офисные',\n",
    "                                      ind=[0, 1, 2, 3, 4, 5, 6, 7, 8, 9, 10, 11, 12, 13, 14, 15, 16, 17, 18, 19])\n",
    "\n",
    "shutil.rmtree(root_dir / \"Мебель_Компьютерная&и&геймерская&мебель_Столы\", ignore_errors=True)\n",
    "shutil.rmtree(root_dir / \"Мебель_Мебель&для&гостиной_Диваны&и&кресла\", ignore_errors=True)\n",
    "\n",
    "logs = move_items_to_another_category(path_from=root_dir / 'Мебель_Мебель&для&спальни_Банкетки&и&пуфы',\n",
    "                                      path_to=root_dir / 'Мебель_Диваны&и&кресла_Пуфы',\n",
    "                                      ind=[15, 16, 17])\n",
    "\n",
    "shutil.rmtree(root_dir / \"Мебель_Мебель&для&спальни_Банкетки&и&пуфы\", ignore_errors=True)\n",
    "\n",
    "logs = move_items_to_another_category(path_from=root_dir / 'Мебель_Столы&и&стулья_Стулья',\n",
    "                                      path_to=root_dir / 'Мебель_Диваны&и&кресла_Кресла',\n",
    "                                      ind=[6, 7, 8])\n",
    "\n",
    "paths_to_img = delete_card_and_description(path=root_dir / \"Мебель_Столы&и&стулья_Стулья\",\n",
    "                                           ind=[12, 18])\n",
    "\n",
    "logs = move_items_to_another_category(path_from=root_dir / 'Мебель_Мебель&для&прихожей_Тумбы&для&прихожей',\n",
    "                                      path_to=root_dir / 'Мебель_Мебель&для&спальни_Прикроватные&тумбы',\n",
    "                                      ind=[0, 1, 5, 11, 15, 16])\n",
    "\n",
    "logs = move_items_to_another_category(path_from=root_dir / 'Мебель_Мебель&для&гостиной_Тумбы',\n",
    "                                      path_to=root_dir / 'Мебель_Мебель&для&спальни_Прикроватные&тумбы',\n",
    "                                      ind=[0, 1, 5, 11, 15, 16])\n",
    "\n",
    "shutil.rmtree(root_dir / \"Мебель_Мебель&для&гостиной_Тумбы\", ignore_errors=True)"
   ]
  },
  {
   "cell_type": "markdown",
   "id": "ab862982",
   "metadata": {},
   "source": [
    "### Мужчинам"
   ]
  },
  {
   "cell_type": "code",
   "execution_count": 9,
   "id": "742ce704",
   "metadata": {},
   "outputs": [],
   "source": [
    "logs = move_items_to_another_category(path_from=root_dir / \"Мужчинам_Большие&размеры_Белье&и&плавки\",\n",
    "                                      path_to=root_dir / \"Мужчинам_Белье\",\n",
    "                                      ind=[7,8,10,11, 12, 13, 14, 15, 16, 17, 18, 19])\n",
    "logs = move_items_to_another_category(path_from=root_dir / \"Мужчинам_Большие&размеры_Брюки&и&джинсы\",\n",
    "                                      path_to=root_dir / \"Мужчинам_Джинсы\",\n",
    "                                      ind=[9,12,16])\n",
    "logs = move_items_to_another_category(path_from=root_dir / \"Мужчинам_Большие&размеры_Верхняя&одежда\",\n",
    "                                      path_to=root_dir / \"Мужчинам_Верхняя&одежда\",\n",
    "                                      ind=[2,7,10,14,15])\n",
    "logs = move_items_to_another_category(path_from=root_dir / \"Мужчинам_Большие&размеры_Джемперы&и&толстовки\",\n",
    "                                      path_to=root_dir / \"Мужчинам_Пиджаки,&жилеты&и&жакеты\",\n",
    "                                      ind=[18])\n",
    "logs = move_items_to_another_category(path_from=root_dir / \"Мужчинам_Большие&размеры_Костюмы&и&пиджаки\",\n",
    "                                      path_to=root_dir / \"Мужчинам_Костюмы\",\n",
    "                                      ind=[2,7,11,13,14,15,16,18,19])\n",
    "logs = move_items_to_another_category(path_from=root_dir / \"Мужчинам_Большие&размеры_Рубашки\",\n",
    "                                      path_to=root_dir / \"Мужчинам_Рубашки\",\n",
    "                                      ind=[1,6,9,11,13,15,16,19])\n",
    "logs = move_items_to_another_category(path_from=root_dir / \"Мужчинам_Большие&размеры_Футболки\",\n",
    "                                      path_to=root_dir / \"Мужчинам_Футболки\",\n",
    "                                      ind=[2,13,18,19])\n"
   ]
  },
  {
   "cell_type": "code",
   "execution_count": 9,
   "id": "565f1903",
   "metadata": {},
   "outputs": [],
   "source": [
    "logs = move_items_to_another_category(path_from=root_dir / \"Мужчинам_Для&высоких\",\n",
    "                                      path_to=root_dir / \"Мужчинам_Брюки\",\n",
    "                                      ind=[2])"
   ]
  },
  {
   "cell_type": "code",
   "execution_count": 10,
   "id": "9b38a023",
   "metadata": {},
   "outputs": [],
   "source": [
    "logs = move_items_to_another_category(path_from=root_dir / \"Мужчинам_Для&невысоких\",\n",
    "                                      path_to=root_dir / \"Мужчинам_Верхняя&одежда\",\n",
    "                                      ind=[2])\n",
    "logs = move_items_to_another_category(path_from=root_dir / \"Мужчинам_Для&невысоких\",\n",
    "                                      path_to=root_dir / \"Мужчинам_Костюмы\",\n",
    "                                      ind=[5])\n",
    "logs = move_items_to_another_category(path_from=root_dir / \"Мужчинам_Для&невысоких\",\n",
    "                                      path_to=root_dir / \"Мужчинам_Толстовки,&свитшоты&и&худи\",\n",
    "                                      ind=[6])\n",
    "logs = move_items_to_another_category(path_from=root_dir / \"Мужчинам_Для&невысоких\",\n",
    "                                      path_to=root_dir / \"Мужчинам_Футболки\",\n",
    "                                      ind=[7,9,11,14,19])\n",
    "logs = move_items_to_another_category(path_from=root_dir / \"Мужчинам_Для&невысоких\",\n",
    "                                      path_to=root_dir / \"Мужчинам_Футболки-поло\",\n",
    "                                      ind=[13])\n",
    "logs = move_items_to_another_category(path_from=root_dir / \"Мужчинам_Для&невысоких\",\n",
    "                                      path_to=root_dir / \"Мужчинам_Лонгсливы\",\n",
    "                                      ind=[17])"
   ]
  },
  {
   "cell_type": "code",
   "execution_count": 13,
   "id": "689bf312",
   "metadata": {},
   "outputs": [],
   "source": [
    "logs = move_items_to_another_category(path_from=root_dir / \"Мужчинам_Подарки&мужчинам_Белье\",\n",
    "                                      path_to=root_dir / \"Мужчинам_Белье\",\n",
    "                                      ind=[3,4,9,11,12,14,15,16,17,19])\n",
    "logs = move_items_to_another_category(path_from=root_dir / \"Мужчинам_Подарки&мужчинам_Белье\",\n",
    "                                      path_to=root_dir / \"Мужчинам_Подарки&мужчинам_Мужской&уход\",\n",
    "                                      ind=[18])"
   ]
  },
  {
   "cell_type": "code",
   "execution_count": 15,
   "id": "6a5b7392",
   "metadata": {},
   "outputs": [],
   "source": [
    "logs = move_items_to_another_category(path_from=root_dir / \"Мужчинам_Одежда&для&дома\",\n",
    "                                      path_to=root_dir / \"Мужчинам_Футболки\",\n",
    "                                      ind=[18,19])"
   ]
  },
  {
   "cell_type": "code",
   "execution_count": 17,
   "id": "1607efd9",
   "metadata": {},
   "outputs": [
    {
     "name": "stdout",
     "output_type": "stream",
     "text": [
      "\"['18.png'] not found in axis\"\n"
     ]
    }
   ],
   "source": [
    "logs = move_items_to_another_category(path_from=root_dir / \"Мужчинам_Пляжная&одежда\",\n",
    "                                      path_to=root_dir / \"Мужчинам_Футболки\",\n",
    "                                      ind=[8,10,12,15,18])\n",
    "logs = move_items_to_another_category(path_from=root_dir / \"Мужчинам_Пляжная&одежда\",\n",
    "                                      path_to=root_dir / \"Мужчинам_Религиозная_Ислам\",\n",
    "                                      ind=[17,19])"
   ]
  },
  {
   "cell_type": "code",
   "execution_count": 18,
   "id": "22ec935a",
   "metadata": {},
   "outputs": [],
   "source": [
    "logs = move_items_to_another_category(path_from=root_dir / \"Мужчинам_Офис\",\n",
    "                                      path_to=root_dir / \"Мужчинам_Брюки\",\n",
    "                                      ind=[15,16,18])\n",
    "logs = move_items_to_another_category(path_from=root_dir / \"Мужчинам_Офис\",\n",
    "                                      path_to=root_dir / \"Мужчинам_Джемперы,&водолазки&и&кардиганы\",\n",
    "                                      ind=[8])"
   ]
  },
  {
   "cell_type": "code",
   "execution_count": 20,
   "id": "2b44184c",
   "metadata": {},
   "outputs": [],
   "source": [
    "logs = move_items_to_another_category(path_from=root_dir / \"Мужчинам_Религиозная_Православие\",\n",
    "                                      path_to=root_dir / \"Мужчинам_Рубашки\",\n",
    "                                      ind=[4,8,9,10,11,12,13,15,16,17,18,19])\n",
    "logs = move_items_to_another_category(path_from=root_dir / \"Мужчинам_Религиозная_Ислам\",\n",
    "                                      path_to=root_dir / \"Мужчинам_Рубашки\",\n",
    "                                      ind=[0,1,2,3,4,6,7,10,11,13,14,15,17,18])"
   ]
  },
  {
   "cell_type": "code",
   "execution_count": 7,
   "id": "54c2f138",
   "metadata": {},
   "outputs": [],
   "source": [
    "shutil.rmtree(root_dir / \"Мужчинам_Большие&размеры_Белье&и&плавки\", ignore_errors=True)\n",
    "shutil.rmtree(root_dir / \"Мужчинам_Большие&размеры_Брюки&и&джинсы\", ignore_errors=True)\n",
    "shutil.rmtree(root_dir / \"Мужчинам_Большие&размеры_Верхняя&одежда\", ignore_errors=True)\n",
    "shutil.rmtree(root_dir / \"Мужчинам_Большие&размеры_Джемперы&и&толстовки\", ignore_errors=True)\n",
    "shutil.rmtree(root_dir / \"Мужчинам_Большие&размеры_Костюмы&и&пиджаки\", ignore_errors=True)\n",
    "shutil.rmtree(root_dir / \"Мужчинам_Большие&размеры_Рубашки\", ignore_errors=True)\n",
    "shutil.rmtree(root_dir / \"Мужчинам_Большие&размеры_Футболки\", ignore_errors=True)\n",
    "shutil.rmtree(root_dir / \"Мужчинам_Для&высоких\", ignore_errors=True)\n",
    "shutil.rmtree(root_dir / \"Мужчинам_Для&невысоких\", ignore_errors=True)\n",
    "shutil.rmtree(root_dir / \"Мужчинам_Подарки&мужчинам_Белье\", ignore_errors=True)\n",
    "shutil.rmtree(root_dir / \"Мужчинам_Одежда&для&дома\", ignore_errors=True)\n",
    "shutil.rmtree(root_dir / \"Мужчинам_Офис\", ignore_errors=True)\n",
    "shutil.rmtree(root_dir / \"Мужчинам_Религиозная_Православие\", ignore_errors=True)\n",
    "shutil.rmtree(root_dir / \"Мужчинам_Пляжная&одежда\", ignore_errors=True)\n",
    "shutil.rmtree(root_dir / \"Мужчинам_Подарки&мужчинам_Продукты\", ignore_errors=True)\n",
    "shutil.rmtree(root_dir / \"Мужчинам_Подарки&мужчинам_Ювелирные&украшения\", ignore_errors=True)\n",
    "shutil.rmtree(root_dir / \"Мужчинам_Подарки&мужчинам_Шарики&и&упаковка\", ignore_errors=True)\n",
    "shutil.rmtree(root_dir / \"Мужчинам_Подарки&мужчинам_Хобби&и&творчество\", ignore_errors=True)\n",
    "shutil.rmtree(root_dir / \"Мужчинам_Подарки&мужчинам_Посуда\", ignore_errors=True)\n",
    "shutil.rmtree(root_dir / \"Мужчинам_Подарки&мужчинам_Открытки&и&сувениры\", ignore_errors=True)\n",
    "shutil.rmtree(root_dir / \"Мужчинам_Подарки&мужчинам_Канцелярия&и&книги\", ignore_errors=True)\n",
    "shutil.rmtree(root_dir / \"Мужчинам_Подарки&мужчинам_Именные&подарки\", ignore_errors=True)\n",
    "shutil.rmtree(root_dir / \"Мужчинам_Подарки&мужчинам_Игрушки\", ignore_errors=True)\n",
    "shutil.rmtree(root_dir / \"Мужчинам_Подарки&мужчинам_Для&дома\", ignore_errors=True)\n",
    "shutil.rmtree(root_dir / \"Мужчинам_Подарки&мужчинам_Автотовары\", ignore_errors=True)\n",
    "shutil.rmtree(root_dir / \"Мужчинам_Подарки&мужчинам_Аксессуары\", ignore_errors=True)\n",
    "shutil.rmtree(root_dir / \"Мужчинам_Подарки&мужчинам_Бижутерия\", ignore_errors=True)"
   ]
  },
  {
   "cell_type": "markdown",
   "id": "387cf1b0",
   "metadata": {},
   "source": [
    "### Обувь"
   ]
  },
  {
   "cell_type": "code",
   "execution_count": 10,
   "id": "578a87f0",
   "metadata": {},
   "outputs": [],
   "source": [
    "shutil.rmtree(root_dir / \"Обувь_Ортопедическая&обувь\", ignore_errors=True)\n",
    "\n",
    "paths_to_img = delete_card_and_description(path=root_dir / \"Обувь_Для&новорожденных\",\n",
    "                                           ind=[0])\n",
    "\n",
    "logs = move_items_to_another_category(path_from=root_dir / \"Обувь_Для&новорожденных\",\n",
    "                                      path_to=root_dir / \"Обувь_Детская_Для&девочек\",\n",
    "                                      ind=[2, 8, 9, 12])\n",
    "\n",
    "logs = move_items_to_another_category(path_from=root_dir / \"Обувь_Для&новорожденных\",\n",
    "                                      path_to=root_dir / \"Обувь_Детская_Для&мальчиков\",\n",
    "                                      ind=[17, 18])"
   ]
  },
  {
   "cell_type": "markdown",
   "id": "1fbfc35b",
   "metadata": {},
   "source": [
    "### Продукты"
   ]
  },
  {
   "cell_type": "code",
   "execution_count": 115,
   "id": "cb002d7e",
   "metadata": {},
   "outputs": [],
   "source": [
    "paths_to_img = delete_card_and_description(path=root_dir / \"Продукты_Бакалея_Орехи,&сухофрукты,&семечки\",\n",
    "                                           ind=[0,1,3,6,18])\n",
    "paths_to_img = delete_card_and_description(path=root_dir / \"Продукты_Напитки\",\n",
    "                                           ind=[0,8,10,12,14,15,16])\n",
    "paths_to_img = delete_card_and_description(path=root_dir / \"Продукты_Бакалея_Консервация\",\n",
    "                                           ind=[10])"
   ]
  },
  {
   "cell_type": "code",
   "execution_count": 116,
   "id": "732901b4",
   "metadata": {},
   "outputs": [],
   "source": [
    "shutil.rmtree(root_dir / \"Продукты_Вкусные&подарки\", ignore_errors=True)"
   ]
  },
  {
   "cell_type": "markdown",
   "id": "ea2b6321",
   "metadata": {},
   "source": [
    "### Сад&и&дача"
   ]
  },
  {
   "cell_type": "code",
   "execution_count": 13,
   "id": "08d81ffd",
   "metadata": {},
   "outputs": [],
   "source": [
    "# удалить фото - хуйн\n",
    "paths_to_img = delete_card_and_description(\n",
    "    path=root_dir / \"Сад&и&дача_Полив&и&водоснабжение_Коннекторы&и&фиттинги&для&шлангов\",\n",
    "    ind=[0]\n",
    ")\n",
    "paths_to_img = delete_card_and_description(\n",
    "    path=root_dir / \"Сад&и&дача_Товары&для&бани&и&сауны_Предметы&интерьера&бани\",\n",
    "    ind=[8]\n",
    ")\n",
    "# удалить полностью задублировалась категория\n",
    "shutil.rmtree(root_dir / \"Сад&и&дача_Дачные&умывальники,&души&и&туалеты_Души&дачные\", ignore_errors=True)\n",
    "\n",
    "# удалить скачалась чушь\n",
    "shutil.rmtree(root_dir / \"Сад&и&дача_Горшки,&опоры&и&все&для&рассады_Балконные&ящики&для&цветов&и&держатели\", ignore_errors=True)\n",
    "shutil.rmtree(root_dir / \"Сад&и&дача_Горшки,&опоры&и&все&для&рассады_Горшки&для&цветов&и&поддоны\", ignore_errors=True)\n",
    "shutil.rmtree(root_dir / \"Сад&и&дача_Дачные&умывальники,&души&и&туалеты_Дачные&туалеты\", ignore_errors=True)\n",
    "shutil.rmtree(root_dir / \"Сад&и&дача_Растения,&семена&и&грунты_Садовые&растения\", ignore_errors=True)\n",
    "shutil.rmtree(root_dir / \"Сад&и&дача_Удобрения,&химикаты&и&средства&защиты_Побелка&садовая\", ignore_errors=True)\n",
    "shutil.rmtree(root_dir / \"Сад&и&дача_Удобрения,&химикаты&и&средства&защиты_Средства&для&ускорения&компостизации\", ignore_errors=True)\n",
    "shutil.rmtree(root_dir / \"Сад&и&дача_Удобрения,&химикаты&и&средства&защиты_Средства&от&сорняков\", ignore_errors=True)\n",
    "shutil.rmtree(root_dir / \"Сад&и&дача_Удобрения,&химикаты&и&средства&защиты_Стимуляторы&и&регуляторы&роста\", ignore_errors=True)"
   ]
  },
  {
   "cell_type": "markdown",
   "id": "a2e4bb34",
   "metadata": {},
   "source": [
    "### Товары&для&взрослых"
   ]
  },
  {
   "cell_type": "code",
   "execution_count": 11,
   "id": "c5c0a7ba",
   "metadata": {},
   "outputs": [],
   "source": [
    "logs = move_items_to_another_category(path_from=root_dir / \"Товары&для&взрослых_Интимная&съедобная&косметика\",\n",
    "                                      path_to=root_dir / \"Товары&для&взрослых_Презервативы&и&лубриканты\",\n",
    "                                      ind=[13, 14, 16, 19])\n",
    "\n",
    "shutil.rmtree(root_dir / \"Товары&для&взрослых_Интимная&съедобная&косметика\", ignore_errors=True)"
   ]
  },
  {
   "cell_type": "markdown",
   "id": "f3f39a2b",
   "metadata": {},
   "source": [
    "### Электроника"
   ]
  },
  {
   "cell_type": "code",
   "execution_count": 12,
   "id": "243254fc",
   "metadata": {},
   "outputs": [
    {
     "name": "stdout",
     "output_type": "stream",
     "text": [
      "'3.png'\n"
     ]
    }
   ],
   "source": [
    "logs = move_items_to_another_category(path_from=root_dir / 'Электроника_Гарнитуры&и&наушники_Стилусы',\n",
    "                                      path_to=root_dir / 'Электроника_Смартфоны&и&телефоны_Стилусы',\n",
    "                                      ind=[3, 15, 16, 17, 18])\n",
    "\n",
    "shutil.rmtree(root_dir / 'Электроника_Гарнитуры&и&наушники_Стилусы', ignore_errors=True)\n",
    "\n",
    "logs = move_items_to_another_category(path_from=root_dir / 'Электроника_Детская&электроника',\n",
    "                                      path_to=root_dir / 'Электроника_Смартфоны&и&телефоны_Гарнитуры&и&наушники',\n",
    "                                      ind=[6, 10, 15, 16, 19])\n",
    "\n",
    "paths_to_img = delete_card_and_description(path=root_dir / \"Электроника_Детская&электроника\",\n",
    "                                           ind=[0, 1, 5, 8, 9, 11, 12, 13, 17, 18])\n",
    "\n",
    "logs = move_items_to_another_category(path_from=root_dir / 'Электроника_Смартфоны&и&телефоны_Аксессуары&для&планшетов',\n",
    "                                      path_to=root_dir / 'Электроника_Кабели&и&зарядные&устройства',\n",
    "                                      ind=[8, 9, 10, 11, 12, 13, 14, 16, 17, 18, 19])\n",
    "logs = move_items_to_another_category(path_from=root_dir / 'Электроника_Смартфоны&и&телефоны_Аксессуары&для&смартфонов',\n",
    "                                      path_to=root_dir / 'Электроника_Кабели&и&зарядные&устройства',\n",
    "                                      ind=[4])\n",
    "\n",
    "shutil.rmtree(root_dir / 'Электроника_Смартфоны&и&телефоны_Аксессуары&для&планшетов', ignore_errors=True)\n",
    "shutil.rmtree(root_dir / 'Электроника_Смартфоны&и&телефоны_Аксессуары&для&смартфонов', ignore_errors=True)\n",
    "\n",
    "logs = move_items_to_another_category(path_from=root_dir / 'Электроника_Ноутбуки&и&компьютеры_Внешние&накопители&информации',\n",
    "                                      path_to=root_dir / 'Электроника_Смартфоны&и&телефоны_Flash-накопители',\n",
    "                                      ind=[6, 9, 11, 16, 19])\n",
    "\n",
    "paths_to_img = delete_card_and_description(path=root_dir / \"Электроника_Ноутбуки&и&компьютеры_Внешние&накопители&информации\",\n",
    "                                           ind=[10, 13])\n",
    "\n",
    "logs = move_items_to_another_category(path_from=root_dir / 'Электроника_Смартфоны&и&телефоны_Flash-накопители',\n",
    "                                      path_to=root_dir / 'Электроника_Ноутбуки&и&компьютеры_Внешние&накопители&информации',\n",
    "                                      ind=[3, 6, 7, 8, 10, 14, 16, 17, 19])\n",
    "paths_to_img = delete_card_and_description(path=root_dir / \"Электроника_Смартфоны&и&телефоны_Flash-накопители\",\n",
    "                                           ind=[13])\n",
    "\n",
    "shutil.rmtree(root_dir / 'Электроника_Системы&безопасности_Аксессуары&для&систем&видеонаблюдения', ignore_errors=True)\n",
    "shutil.rmtree(root_dir / 'Электроника_ТВ,&Аудио,&Фото,&Видео&техника_Аксессуары&для&фото&и&видео&техники', ignore_errors=True)\n",
    "shutil.rmtree(root_dir / 'Электроника_ТВ,&Аудио,&Фото,&Видео&техника_Наушники&и&гарнитуры', ignore_errors=True)"
   ]
  },
  {
   "cell_type": "markdown",
   "id": "0724df1f",
   "metadata": {},
   "source": [
    "### Ювелирные&изделия"
   ]
  },
  {
   "cell_type": "code",
   "execution_count": 13,
   "id": "81dce852",
   "metadata": {},
   "outputs": [],
   "source": [
    "paths_to_img = delete_card_and_description(path=root_dir / \"Ювелирные&изделия_Украшения&из&серебра\",\n",
    "                                           ind=[0, 1, 2, 3, 5, 6, 7, 8, 9, 10, 11, 12, 13, 14, 15, 16, 17, 18, 19])\n",
    "paths_to_img = delete_card_and_description(path=root_dir / \"Ювелирные&изделия_Колье,&цепи,&шнурки\",\n",
    "                                           ind=[6])\n",
    "logs = move_items_to_another_category(path_from=root_dir / \"Ювелирные&изделия_Украшения&из&серебра\",\n",
    "                                      path_to=root_dir / \"Ювелирные&изделия_Подвески&и&шармы\",\n",
    "                                      ind=[4])\n",
    "paths_to_img = delete_card_and_description(path=root_dir / \"Ювелирные&изделия_Украшения&из&золота\",\n",
    "                                           ind=[0,1,2,4,5,6,7,8,9,12,13,19])\n",
    "logs = move_items_to_another_category(path_from=root_dir / \"Ювелирные&изделия_Украшения&из&золота\",\n",
    "                                      path_to=root_dir / \"Ювелирные&изделия_Колье,&цепи,&шнурки\",\n",
    "                                      ind=[10, 14, 17, 18])\n",
    "logs = move_items_to_another_category(path_from=root_dir / \"Ювелирные&изделия_Украшения&из&золота\",\n",
    "                                      path_to=root_dir / \"Ювелирные&изделия_Кольца\",\n",
    "                                      ind=[11, 15, 16])\n",
    "logs = move_items_to_another_category(path_from=root_dir / \"Ювелирные&изделия_Украшения&из&золота\",\n",
    "                                      path_to=root_dir / \"Ювелирные&изделия_Подвески&и&шармы\",\n",
    "                                      ind=[3])"
   ]
  },
  {
   "cell_type": "code",
   "execution_count": 14,
   "id": "d4355397",
   "metadata": {},
   "outputs": [],
   "source": [
    "shutil.rmtree(root_dir / \"Ювелирные&изделия_Украшения&из&серебра\", ignore_errors=True)\n",
    "shutil.rmtree(root_dir / \"Ювелирные&изделия_Украшения&из&золота\", ignore_errors=True)"
   ]
  },
  {
   "cell_type": "code",
   "execution_count": null,
   "id": "bb9098c9",
   "metadata": {},
   "outputs": [],
   "source": []
  }
 ],
 "metadata": {
  "kernelspec": {
   "display_name": "Python 3 (ipykernel)",
   "language": "python",
   "name": "python3"
  },
  "language_info": {
   "codemirror_mode": {
    "name": "ipython",
    "version": 3
   },
   "file_extension": ".py",
   "mimetype": "text/x-python",
   "name": "python",
   "nbconvert_exporter": "python",
   "pygments_lexer": "ipython3",
   "version": "3.9.13"
  },
  "toc": {
   "base_numbering": 1,
   "nav_menu": {},
   "number_sections": true,
   "sideBar": true,
   "skip_h1_title": false,
   "title_cell": "Table of Contents",
   "title_sidebar": "Contents",
   "toc_cell": false,
   "toc_position": {
    "height": "calc(100% - 180px)",
    "left": "10px",
    "top": "150px",
    "width": "384px"
   },
   "toc_section_display": true,
   "toc_window_display": true
  }
 },
 "nbformat": 4,
 "nbformat_minor": 5
}
