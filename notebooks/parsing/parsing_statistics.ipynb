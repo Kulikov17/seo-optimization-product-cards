{
 "cells": [
  {
   "cell_type": "code",
   "execution_count": 1,
   "id": "bb999fa1",
   "metadata": {},
   "outputs": [],
   "source": [
    "import pandas as pd\n",
    "import numpy as np\n",
    "from pathlib import Path\n",
    "import os\n",
    "from collections import defaultdict\n",
    "import shutil\n",
    "from itertools import chain"
   ]
  },
  {
   "cell_type": "markdown",
   "id": "3cfedb23",
   "metadata": {},
   "source": [
    "# Проверка описания товара"
   ]
  },
  {
   "cell_type": "code",
   "execution_count": 8,
   "id": "c98234c3",
   "metadata": {},
   "outputs": [],
   "source": [
    "desc = pd.read_csv(\"C:/temp/!hse-mlds-project-year2/data/Ювелирные&изделия_Четки/descriptions.csv\")"
   ]
  },
  {
   "cell_type": "code",
   "execution_count": 9,
   "id": "b44afeb6",
   "metadata": {},
   "outputs": [
    {
     "data": {
      "text/html": [
       "<div>\n",
       "<style scoped>\n",
       "    .dataframe tbody tr th:only-of-type {\n",
       "        vertical-align: middle;\n",
       "    }\n",
       "\n",
       "    .dataframe tbody tr th {\n",
       "        vertical-align: top;\n",
       "    }\n",
       "\n",
       "    .dataframe thead th {\n",
       "        text-align: right;\n",
       "    }\n",
       "</style>\n",
       "<table border=\"1\" class=\"dataframe\">\n",
       "  <thead>\n",
       "    <tr style=\"text-align: right;\">\n",
       "      <th></th>\n",
       "      <th>item</th>\n",
       "      <th>description</th>\n",
       "    </tr>\n",
       "  </thead>\n",
       "  <tbody>\n",
       "    <tr>\n",
       "      <th>0</th>\n",
       "      <td>0.png</td>\n",
       "      <td>ВНИМАНИЕ! Украшение для категории аксессуары в...</td>\n",
       "    </tr>\n",
       "    <tr>\n",
       "      <th>1</th>\n",
       "      <td>1.png</td>\n",
       "      <td>Четки Православные изготовлены из Кахолонга д-...</td>\n",
       "    </tr>\n",
       "    <tr>\n",
       "      <th>2</th>\n",
       "      <td>2.png</td>\n",
       "      <td>Четки Мусульманские изготовлены из зеленого ав...</td>\n",
       "    </tr>\n",
       "    <tr>\n",
       "      <th>3</th>\n",
       "      <td>3.png</td>\n",
       "      <td>На бирке вес , штрих код и УИН , по которому В...</td>\n",
       "    </tr>\n",
       "    <tr>\n",
       "      <th>4</th>\n",
       "      <td>4.png</td>\n",
       "      <td>Мусульманские четки изготовлены Агата д-10 мм ...</td>\n",
       "    </tr>\n",
       "    <tr>\n",
       "      <th>5</th>\n",
       "      <td>5.png</td>\n",
       "      <td>NaN</td>\n",
       "    </tr>\n",
       "    <tr>\n",
       "      <th>6</th>\n",
       "      <td>6.png</td>\n",
       "      <td>Мусульманские четки изготовлены из Кахолонга д...</td>\n",
       "    </tr>\n",
       "    <tr>\n",
       "      <th>7</th>\n",
       "      <td>7.png</td>\n",
       "      <td>Четки Мусульманские из агата 10 мм со вставкам...</td>\n",
       "    </tr>\n",
       "    <tr>\n",
       "      <th>8</th>\n",
       "      <td>8.png</td>\n",
       "      <td>Ювелирные мусульманские религиозные четки Куб...</td>\n",
       "    </tr>\n",
       "    <tr>\n",
       "      <th>9</th>\n",
       "      <td>9.png</td>\n",
       "      <td>Четки мусульманские изготовлены из граненого ч...</td>\n",
       "    </tr>\n",
       "    <tr>\n",
       "      <th>10</th>\n",
       "      <td>10.png</td>\n",
       "      <td>NaN</td>\n",
       "    </tr>\n",
       "    <tr>\n",
       "      <th>11</th>\n",
       "      <td>11.png</td>\n",
       "      <td>NaN</td>\n",
       "    </tr>\n",
       "    <tr>\n",
       "      <th>12</th>\n",
       "      <td>12.png</td>\n",
       "      <td>Чётки из серебра 925 пробы. Вставка: ювелирный...</td>\n",
       "    </tr>\n",
       "    <tr>\n",
       "      <th>13</th>\n",
       "      <td>13.png</td>\n",
       "      <td>Четки Мусульманские изготовлены из Радужного А...</td>\n",
       "    </tr>\n",
       "    <tr>\n",
       "      <th>14</th>\n",
       "      <td>14.png</td>\n",
       "      <td>Мусульманские четки изготовлены из Агата, вста...</td>\n",
       "    </tr>\n",
       "    <tr>\n",
       "      <th>15</th>\n",
       "      <td>15.png</td>\n",
       "      <td>Четки мусульманские изготовлены из граненого ч...</td>\n",
       "    </tr>\n",
       "    <tr>\n",
       "      <th>16</th>\n",
       "      <td>16.png</td>\n",
       "      <td>Мусульманские изготовлены изготовлены из Агата...</td>\n",
       "    </tr>\n",
       "    <tr>\n",
       "      <th>17</th>\n",
       "      <td>17.png</td>\n",
       "      <td>На бирке вес , штрих код и УИН , по которому В...</td>\n",
       "    </tr>\n",
       "    <tr>\n",
       "      <th>18</th>\n",
       "      <td>18.png</td>\n",
       "      <td>Четки Мусульманские изготовлены из малахита д-...</td>\n",
       "    </tr>\n",
       "    <tr>\n",
       "      <th>19</th>\n",
       "      <td>19.png</td>\n",
       "      <td>Четки Мусульманские изготовлены из кохолонга д...</td>\n",
       "    </tr>\n",
       "  </tbody>\n",
       "</table>\n",
       "</div>"
      ],
      "text/plain": [
       "      item                                        description\n",
       "0    0.png  ВНИМАНИЕ! Украшение для категории аксессуары в...\n",
       "1    1.png  Четки Православные изготовлены из Кахолонга д-...\n",
       "2    2.png  Четки Мусульманские изготовлены из зеленого ав...\n",
       "3    3.png  На бирке вес , штрих код и УИН , по которому В...\n",
       "4    4.png  Мусульманские четки изготовлены Агата д-10 мм ...\n",
       "5    5.png                                                NaN\n",
       "6    6.png  Мусульманские четки изготовлены из Кахолонга д...\n",
       "7    7.png  Четки Мусульманские из агата 10 мм со вставкам...\n",
       "8    8.png   Ювелирные мусульманские религиозные четки Куб...\n",
       "9    9.png  Четки мусульманские изготовлены из граненого ч...\n",
       "10  10.png                                                NaN\n",
       "11  11.png                                                NaN\n",
       "12  12.png  Чётки из серебра 925 пробы. Вставка: ювелирный...\n",
       "13  13.png  Четки Мусульманские изготовлены из Радужного А...\n",
       "14  14.png  Мусульманские четки изготовлены из Агата, вста...\n",
       "15  15.png  Четки мусульманские изготовлены из граненого ч...\n",
       "16  16.png  Мусульманские изготовлены изготовлены из Агата...\n",
       "17  17.png  На бирке вес , штрих код и УИН , по которому В...\n",
       "18  18.png  Четки Мусульманские изготовлены из малахита д-...\n",
       "19  19.png  Четки Мусульманские изготовлены из кохолонга д..."
      ]
     },
     "execution_count": 9,
     "metadata": {},
     "output_type": "execute_result"
    }
   ],
   "source": [
    "desc"
   ]
  },
  {
   "cell_type": "markdown",
   "id": "13436b2f",
   "metadata": {},
   "source": [
    "____"
   ]
  },
  {
   "cell_type": "markdown",
   "id": "25adb366",
   "metadata": {},
   "source": [
    "# Сбор статистики по спаршенным фотографиям"
   ]
  },
  {
   "cell_type": "code",
   "execution_count": 10,
   "id": "fe1977a3",
   "metadata": {},
   "outputs": [],
   "source": [
    "root_dir = Path(\"C:/temp/!hse-mlds-project-year2/woman/woman\")"
   ]
  },
  {
   "cell_type": "code",
   "execution_count": 11,
   "id": "059f63c2",
   "metadata": {},
   "outputs": [
    {
     "data": {
      "text/plain": [
       "13"
      ]
     },
     "execution_count": 11,
     "metadata": {},
     "output_type": "execute_result"
    }
   ],
   "source": [
    "# Кол-во категорий\n",
    "folders = os.listdir(root_dir)\n",
    "len(folders)"
   ]
  },
  {
   "cell_type": "code",
   "execution_count": 15,
   "id": "924647a0",
   "metadata": {
    "scrolled": true
   },
   "outputs": [
    {
     "name": "stdout",
     "output_type": "stream",
     "text": [
      "19 Feedbacks in Женщинам_Толстовки,&свитшоты&и&худи\n",
      "19 Feedbacks in Женщинам_Туники\n"
     ]
    }
   ],
   "source": [
    "df_dict = {col: [] for col in [\"card\", \"feedbacks\"]}\n",
    "\n",
    "for cat in folders:\n",
    "    path = root_dir / cat\n",
    "    path_card = path / \"card\"\n",
    "    path_feedbacks = path / \"feedbacks\"\n",
    "\n",
    "    # кол-во загруженных фоток\n",
    "    load_card = len(sorted(path_card.glob('*')))\n",
    "    load_feedbacks = len(sorted(path_feedbacks.glob('*')))\n",
    "    \n",
    "    if load_feedbacks < 20:\n",
    "        print(f\"{load_feedbacks} Feedbacks in {cat}\")\n",
    "\n",
    "#     if load_card < 20:\n",
    "#         print(f\"{load_card} Card in {cat}\")\n",
    "\n",
    "    df_dict[\"card\"].append(load_card)\n",
    "    df_dict[\"feedbacks\"].append(load_feedbacks)"
   ]
  },
  {
   "cell_type": "code",
   "execution_count": 16,
   "id": "4edc3d49",
   "metadata": {},
   "outputs": [
    {
     "data": {
      "text/html": [
       "<div>\n",
       "<style scoped>\n",
       "    .dataframe tbody tr th:only-of-type {\n",
       "        vertical-align: middle;\n",
       "    }\n",
       "\n",
       "    .dataframe tbody tr th {\n",
       "        vertical-align: top;\n",
       "    }\n",
       "\n",
       "    .dataframe thead th {\n",
       "        text-align: right;\n",
       "    }\n",
       "</style>\n",
       "<table border=\"1\" class=\"dataframe\">\n",
       "  <thead>\n",
       "    <tr style=\"text-align: right;\">\n",
       "      <th></th>\n",
       "      <th>card</th>\n",
       "      <th>feedbacks</th>\n",
       "    </tr>\n",
       "  </thead>\n",
       "  <tbody>\n",
       "    <tr>\n",
       "      <th>0</th>\n",
       "      <td>20</td>\n",
       "      <td>20</td>\n",
       "    </tr>\n",
       "    <tr>\n",
       "      <th>1</th>\n",
       "      <td>20</td>\n",
       "      <td>20</td>\n",
       "    </tr>\n",
       "    <tr>\n",
       "      <th>2</th>\n",
       "      <td>20</td>\n",
       "      <td>20</td>\n",
       "    </tr>\n",
       "    <tr>\n",
       "      <th>3</th>\n",
       "      <td>20</td>\n",
       "      <td>20</td>\n",
       "    </tr>\n",
       "    <tr>\n",
       "      <th>4</th>\n",
       "      <td>20</td>\n",
       "      <td>20</td>\n",
       "    </tr>\n",
       "  </tbody>\n",
       "</table>\n",
       "</div>"
      ],
      "text/plain": [
       "   card  feedbacks\n",
       "0    20         20\n",
       "1    20         20\n",
       "2    20         20\n",
       "3    20         20\n",
       "4    20         20"
      ]
     },
     "execution_count": 16,
     "metadata": {},
     "output_type": "execute_result"
    }
   ],
   "source": [
    "df = pd.DataFrame(df_dict)\n",
    "df.head()"
   ]
  },
  {
   "cell_type": "code",
   "execution_count": 17,
   "id": "af0fcd4a",
   "metadata": {},
   "outputs": [
    {
     "data": {
      "text/html": [
       "<div>\n",
       "<style scoped>\n",
       "    .dataframe tbody tr th:only-of-type {\n",
       "        vertical-align: middle;\n",
       "    }\n",
       "\n",
       "    .dataframe tbody tr th {\n",
       "        vertical-align: top;\n",
       "    }\n",
       "\n",
       "    .dataframe thead th {\n",
       "        text-align: right;\n",
       "    }\n",
       "</style>\n",
       "<table border=\"1\" class=\"dataframe\">\n",
       "  <thead>\n",
       "    <tr style=\"text-align: right;\">\n",
       "      <th></th>\n",
       "      <th>card</th>\n",
       "      <th>feedbacks</th>\n",
       "    </tr>\n",
       "  </thead>\n",
       "  <tbody>\n",
       "    <tr>\n",
       "      <th>count</th>\n",
       "      <td>13.0</td>\n",
       "      <td>13.000000</td>\n",
       "    </tr>\n",
       "    <tr>\n",
       "      <th>mean</th>\n",
       "      <td>20.0</td>\n",
       "      <td>19.846154</td>\n",
       "    </tr>\n",
       "    <tr>\n",
       "      <th>std</th>\n",
       "      <td>0.0</td>\n",
       "      <td>0.375534</td>\n",
       "    </tr>\n",
       "    <tr>\n",
       "      <th>min</th>\n",
       "      <td>20.0</td>\n",
       "      <td>19.000000</td>\n",
       "    </tr>\n",
       "    <tr>\n",
       "      <th>25%</th>\n",
       "      <td>20.0</td>\n",
       "      <td>20.000000</td>\n",
       "    </tr>\n",
       "    <tr>\n",
       "      <th>50%</th>\n",
       "      <td>20.0</td>\n",
       "      <td>20.000000</td>\n",
       "    </tr>\n",
       "    <tr>\n",
       "      <th>75%</th>\n",
       "      <td>20.0</td>\n",
       "      <td>20.000000</td>\n",
       "    </tr>\n",
       "    <tr>\n",
       "      <th>max</th>\n",
       "      <td>20.0</td>\n",
       "      <td>20.000000</td>\n",
       "    </tr>\n",
       "  </tbody>\n",
       "</table>\n",
       "</div>"
      ],
      "text/plain": [
       "       card  feedbacks\n",
       "count  13.0  13.000000\n",
       "mean   20.0  19.846154\n",
       "std     0.0   0.375534\n",
       "min    20.0  19.000000\n",
       "25%    20.0  20.000000\n",
       "50%    20.0  20.000000\n",
       "75%    20.0  20.000000\n",
       "max    20.0  20.000000"
      ]
     },
     "execution_count": 17,
     "metadata": {},
     "output_type": "execute_result"
    }
   ],
   "source": [
    "df.describe()"
   ]
  },
  {
   "cell_type": "code",
   "execution_count": 18,
   "id": "c74b1190",
   "metadata": {},
   "outputs": [
    {
     "data": {
      "text/plain": [
       "feedbacks\n",
       "20    11\n",
       "19     2\n",
       "Name: count, dtype: int64"
      ]
     },
     "execution_count": 18,
     "metadata": {},
     "output_type": "execute_result"
    }
   ],
   "source": [
    "df.feedbacks.value_counts()"
   ]
  },
  {
   "cell_type": "code",
   "execution_count": 8,
   "id": "cf8a4dd9",
   "metadata": {},
   "outputs": [
    {
     "data": {
      "text/plain": [
       "card\n",
       "20    1575\n",
       "19       2\n",
       "18       1\n",
       "4        1\n",
       "1        1\n",
       "Name: count, dtype: int64"
      ]
     },
     "execution_count": 8,
     "metadata": {},
     "output_type": "execute_result"
    }
   ],
   "source": [
    "df.card.value_counts()"
   ]
  },
  {
   "cell_type": "markdown",
   "id": "fed3913c",
   "metadata": {},
   "source": [
    "18 Card in Дом_Кухня_Кухонный&текстиль_Чехлы&для&ручек&холодильников  \n",
    "4 Card in Дом_Освещение_Лифты&для&люстр                                _(удалить либо перенести)_  \n",
    "19 Card in Мебель_Гардеробная&мебель_Ящики                             _(можно до 20 добрать)_  \n",
    "1 Card in Мебель_Офисная&мебель_Перегородки&офисные                    _(удалить либо перенести)_  \n",
    "19 Card in Мебель_Офисная&мебель_Шкафы  "
   ]
  },
  {
   "cell_type": "markdown",
   "id": "b94f4e0c",
   "metadata": {},
   "source": [
    "___"
   ]
  },
  {
   "cell_type": "markdown",
   "id": "a3839bf7",
   "metadata": {},
   "source": [
    "# Проверка на дубликаты ссылок"
   ]
  },
  {
   "cell_type": "code",
   "execution_count": 180,
   "id": "2b7b53f5",
   "metadata": {},
   "outputs": [
    {
     "data": {
      "text/html": [
       "<div>\n",
       "<style scoped>\n",
       "    .dataframe tbody tr th:only-of-type {\n",
       "        vertical-align: middle;\n",
       "    }\n",
       "\n",
       "    .dataframe tbody tr th {\n",
       "        vertical-align: top;\n",
       "    }\n",
       "\n",
       "    .dataframe thead th {\n",
       "        text-align: right;\n",
       "    }\n",
       "</style>\n",
       "<table border=\"1\" class=\"dataframe\">\n",
       "  <thead>\n",
       "    <tr style=\"text-align: right;\">\n",
       "      <th></th>\n",
       "      <th>category_1</th>\n",
       "      <th>category_2</th>\n",
       "      <th>category_3</th>\n",
       "      <th>category_4</th>\n",
       "      <th>category_5</th>\n",
       "      <th>url</th>\n",
       "    </tr>\n",
       "  </thead>\n",
       "  <tbody>\n",
       "    <tr>\n",
       "      <th>0</th>\n",
       "      <td>Автотовары</td>\n",
       "      <td>Мойки высокого давления и аксессуары</td>\n",
       "      <td>Цепные пилы</td>\n",
       "      <td>NaN</td>\n",
       "      <td>NaN</td>\n",
       "      <td>https://www.wildberries.ru/catalog/dom/dachniy...</td>\n",
       "    </tr>\n",
       "    <tr>\n",
       "      <th>1</th>\n",
       "      <td>Автотовары</td>\n",
       "      <td>Автокосметика и автохимия</td>\n",
       "      <td>Присадки</td>\n",
       "      <td>NaN</td>\n",
       "      <td>NaN</td>\n",
       "      <td>https://www.wildberries.ru/catalog/avtotovary/...</td>\n",
       "    </tr>\n",
       "    <tr>\n",
       "      <th>2</th>\n",
       "      <td>Автотовары</td>\n",
       "      <td>Автокосметика и автохимия</td>\n",
       "      <td>Смазки автомобильные</td>\n",
       "      <td>NaN</td>\n",
       "      <td>NaN</td>\n",
       "      <td>https://www.wildberries.ru/catalog/avtotovary/...</td>\n",
       "    </tr>\n",
       "    <tr>\n",
       "      <th>3</th>\n",
       "      <td>Автотовары</td>\n",
       "      <td>Автокосметика и автохимия</td>\n",
       "      <td>Уход за стеклами и фарами</td>\n",
       "      <td>NaN</td>\n",
       "      <td>NaN</td>\n",
       "      <td>https://www.wildberries.ru/catalog/aksessuary/...</td>\n",
       "    </tr>\n",
       "    <tr>\n",
       "      <th>4</th>\n",
       "      <td>Автотовары</td>\n",
       "      <td>Автокосметика и автохимия</td>\n",
       "      <td>Уход за салоном</td>\n",
       "      <td>NaN</td>\n",
       "      <td>NaN</td>\n",
       "      <td>https://www.wildberries.ru/catalog/aksessuary/...</td>\n",
       "    </tr>\n",
       "  </tbody>\n",
       "</table>\n",
       "</div>"
      ],
      "text/plain": [
       "   category_1                            category_2  \\\n",
       "0  Автотовары  Мойки высокого давления и аксессуары   \n",
       "1  Автотовары             Автокосметика и автохимия   \n",
       "2  Автотовары             Автокосметика и автохимия   \n",
       "3  Автотовары             Автокосметика и автохимия   \n",
       "4  Автотовары             Автокосметика и автохимия   \n",
       "\n",
       "                  category_3 category_4 category_5  \\\n",
       "0                Цепные пилы        NaN        NaN   \n",
       "1                   Присадки        NaN        NaN   \n",
       "2       Смазки автомобильные        NaN        NaN   \n",
       "3  Уход за стеклами и фарами        NaN        NaN   \n",
       "4            Уход за салоном        NaN        NaN   \n",
       "\n",
       "                                                 url  \n",
       "0  https://www.wildberries.ru/catalog/dom/dachniy...  \n",
       "1  https://www.wildberries.ru/catalog/avtotovary/...  \n",
       "2  https://www.wildberries.ru/catalog/avtotovary/...  \n",
       "3  https://www.wildberries.ru/catalog/aksessuary/...  \n",
       "4  https://www.wildberries.ru/catalog/aksessuary/...  "
      ]
     },
     "execution_count": 180,
     "metadata": {},
     "output_type": "execute_result"
    }
   ],
   "source": [
    "categories = pd.read_csv(\"wb_categories_full_clear.csv\")\n",
    "categories.head()"
   ]
  },
  {
   "cell_type": "code",
   "execution_count": 181,
   "id": "45fde442",
   "metadata": {},
   "outputs": [
    {
     "data": {
      "text/html": [
       "<div>\n",
       "<style scoped>\n",
       "    .dataframe tbody tr th:only-of-type {\n",
       "        vertical-align: middle;\n",
       "    }\n",
       "\n",
       "    .dataframe tbody tr th {\n",
       "        vertical-align: top;\n",
       "    }\n",
       "\n",
       "    .dataframe thead th {\n",
       "        text-align: right;\n",
       "    }\n",
       "</style>\n",
       "<table border=\"1\" class=\"dataframe\">\n",
       "  <thead>\n",
       "    <tr style=\"text-align: right;\">\n",
       "      <th></th>\n",
       "      <th>category_1</th>\n",
       "      <th>category_2</th>\n",
       "      <th>category_3</th>\n",
       "      <th>category_4</th>\n",
       "      <th>category_5</th>\n",
       "      <th>url</th>\n",
       "    </tr>\n",
       "  </thead>\n",
       "  <tbody>\n",
       "    <tr>\n",
       "      <th>0</th>\n",
       "      <td>Автотовары</td>\n",
       "      <td>Мойки высокого давления и аксессуары</td>\n",
       "      <td>Цепные пилы</td>\n",
       "      <td>NaN</td>\n",
       "      <td>NaN</td>\n",
       "      <td>https://www.wildberries.ru/catalog/dom/dachniy...</td>\n",
       "    </tr>\n",
       "    <tr>\n",
       "      <th>13</th>\n",
       "      <td>Автотовары</td>\n",
       "      <td>Автоэлектроника и навигация</td>\n",
       "      <td>NaN</td>\n",
       "      <td>NaN</td>\n",
       "      <td>NaN</td>\n",
       "      <td>https://www.wildberries.ru/catalog/elektronika...</td>\n",
       "    </tr>\n",
       "    <tr>\n",
       "      <th>14</th>\n",
       "      <td>Автотовары</td>\n",
       "      <td>Аккумуляторы и сопутствующие товары</td>\n",
       "      <td>NaN</td>\n",
       "      <td>NaN</td>\n",
       "      <td>NaN</td>\n",
       "      <td>https://www.wildberries.ru/catalog/aksessuary/...</td>\n",
       "    </tr>\n",
       "    <tr>\n",
       "      <th>48</th>\n",
       "      <td>Автотовары</td>\n",
       "      <td>Мойки высокого давления и аксессуары</td>\n",
       "      <td>Аксессуары и запчасти для садовой техники</td>\n",
       "      <td>NaN</td>\n",
       "      <td>NaN</td>\n",
       "      <td>https://www.wildberries.ru/catalog/dom/dachniy...</td>\n",
       "    </tr>\n",
       "    <tr>\n",
       "      <th>49</th>\n",
       "      <td>Автотовары</td>\n",
       "      <td>Мойки высокого давления и аксессуары</td>\n",
       "      <td>Садовые измельчители</td>\n",
       "      <td>NaN</td>\n",
       "      <td>NaN</td>\n",
       "      <td>https://www.wildberries.ru/catalog/dom/dachniy...</td>\n",
       "    </tr>\n",
       "    <tr>\n",
       "      <th>...</th>\n",
       "      <td>...</td>\n",
       "      <td>...</td>\n",
       "      <td>...</td>\n",
       "      <td>...</td>\n",
       "      <td>...</td>\n",
       "      <td>...</td>\n",
       "    </tr>\n",
       "    <tr>\n",
       "      <th>1647</th>\n",
       "      <td>Электроника</td>\n",
       "      <td>Смартфоны и телефоны</td>\n",
       "      <td>Стационарные телефоны</td>\n",
       "      <td>NaN</td>\n",
       "      <td>NaN</td>\n",
       "      <td>https://www.wildberries.ru/catalog/elektronika...</td>\n",
       "    </tr>\n",
       "    <tr>\n",
       "      <th>1648</th>\n",
       "      <td>Электроника</td>\n",
       "      <td>Смартфоны и телефоны</td>\n",
       "      <td>Смартфоны</td>\n",
       "      <td>NaN</td>\n",
       "      <td>NaN</td>\n",
       "      <td>https://www.wildberries.ru/catalog/elektronika...</td>\n",
       "    </tr>\n",
       "    <tr>\n",
       "      <th>1649</th>\n",
       "      <td>Электроника</td>\n",
       "      <td>Смартфоны и телефоны</td>\n",
       "      <td>Планшеты</td>\n",
       "      <td>NaN</td>\n",
       "      <td>NaN</td>\n",
       "      <td>https://www.wildberries.ru/catalog/elektronika...</td>\n",
       "    </tr>\n",
       "    <tr>\n",
       "      <th>1650</th>\n",
       "      <td>Электроника</td>\n",
       "      <td>Смартфоны и телефоны</td>\n",
       "      <td>Мобильные телефоны</td>\n",
       "      <td>NaN</td>\n",
       "      <td>NaN</td>\n",
       "      <td>https://www.wildberries.ru/catalog/elektronika...</td>\n",
       "    </tr>\n",
       "    <tr>\n",
       "      <th>1651</th>\n",
       "      <td>Электроника</td>\n",
       "      <td>Смартфоны и телефоны</td>\n",
       "      <td>Пленки защитные</td>\n",
       "      <td>NaN</td>\n",
       "      <td>NaN</td>\n",
       "      <td>https://www.wildberries.ru/catalog/elektronika...</td>\n",
       "    </tr>\n",
       "  </tbody>\n",
       "</table>\n",
       "<p>156 rows × 6 columns</p>\n",
       "</div>"
      ],
      "text/plain": [
       "       category_1                            category_2  \\\n",
       "0      Автотовары  Мойки высокого давления и аксессуары   \n",
       "13     Автотовары           Автоэлектроника и навигация   \n",
       "14     Автотовары   Аккумуляторы и сопутствующие товары   \n",
       "48     Автотовары  Мойки высокого давления и аксессуары   \n",
       "49     Автотовары  Мойки высокого давления и аксессуары   \n",
       "...           ...                                   ...   \n",
       "1647  Электроника                  Смартфоны и телефоны   \n",
       "1648  Электроника                  Смартфоны и телефоны   \n",
       "1649  Электроника                  Смартфоны и телефоны   \n",
       "1650  Электроника                  Смартфоны и телефоны   \n",
       "1651  Электроника                  Смартфоны и телефоны   \n",
       "\n",
       "                                     category_3 category_4 category_5  \\\n",
       "0                                   Цепные пилы        NaN        NaN   \n",
       "13                                          NaN        NaN        NaN   \n",
       "14                                          NaN        NaN        NaN   \n",
       "48    Аксессуары и запчасти для садовой техники        NaN        NaN   \n",
       "49                         Садовые измельчители        NaN        NaN   \n",
       "...                                         ...        ...        ...   \n",
       "1647                      Стационарные телефоны        NaN        NaN   \n",
       "1648                                  Смартфоны        NaN        NaN   \n",
       "1649                                   Планшеты        NaN        NaN   \n",
       "1650                         Мобильные телефоны        NaN        NaN   \n",
       "1651                            Пленки защитные        NaN        NaN   \n",
       "\n",
       "                                                    url  \n",
       "0     https://www.wildberries.ru/catalog/dom/dachniy...  \n",
       "13    https://www.wildberries.ru/catalog/elektronika...  \n",
       "14    https://www.wildberries.ru/catalog/aksessuary/...  \n",
       "48    https://www.wildberries.ru/catalog/dom/dachniy...  \n",
       "49    https://www.wildberries.ru/catalog/dom/dachniy...  \n",
       "...                                                 ...  \n",
       "1647  https://www.wildberries.ru/catalog/elektronika...  \n",
       "1648  https://www.wildberries.ru/catalog/elektronika...  \n",
       "1649  https://www.wildberries.ru/catalog/elektronika...  \n",
       "1650  https://www.wildberries.ru/catalog/elektronika...  \n",
       "1651  https://www.wildberries.ru/catalog/elektronika...  \n",
       "\n",
       "[156 rows x 6 columns]"
      ]
     },
     "execution_count": 181,
     "metadata": {},
     "output_type": "execute_result"
    }
   ],
   "source": [
    "df_dupl = categories[categories.duplicated(['url'], keep=False)]\n",
    "df_dupl"
   ]
  },
  {
   "cell_type": "code",
   "execution_count": 182,
   "id": "172c90e7",
   "metadata": {},
   "outputs": [
    {
     "data": {
      "text/plain": [
       "Index([   0,   13,   14,   48,   49,   50,   51,   52,   68,   69,\n",
       "       ...\n",
       "       1640, 1641, 1642, 1643, 1646, 1647, 1648, 1649, 1650, 1651],\n",
       "      dtype='int64', length=156)"
      ]
     },
     "execution_count": 182,
     "metadata": {},
     "output_type": "execute_result"
    }
   ],
   "source": [
    "df_dupl.index"
   ]
  },
  {
   "cell_type": "code",
   "execution_count": 183,
   "id": "714be5d9",
   "metadata": {},
   "outputs": [],
   "source": [
    "duplicates = defaultdict(list)\n",
    "\n",
    "for ind in df_dupl.index:\n",
    "    url = df_dupl.loc[ind][\"url\"]\n",
    "    duplicates[url].append(ind)"
   ]
  },
  {
   "cell_type": "code",
   "execution_count": 184,
   "id": "343a8f1c",
   "metadata": {},
   "outputs": [
    {
     "name": "stdout",
     "output_type": "stream",
     "text": [
      "69\n"
     ]
    },
    {
     "data": {
      "text/plain": [
       "defaultdict(list,\n",
       "            {'https://www.wildberries.ru/catalog/dom/dachniy-sezon/sadovaya-tehnika/tsepnye-pily': [0,\n",
       "              1440,\n",
       "              1480],\n",
       "             'https://www.wildberries.ru/catalog/elektronika/avtoelektronika': [13,\n",
       "              259],\n",
       "             'https://www.wildberries.ru/catalog/aksessuary/avtotovary/akkumulyatory-i-soputstvuyushchie-tovary': [14,\n",
       "              1588],\n",
       "             'https://www.wildberries.ru/catalog/dom/dachniy-sezon/sadovaya-tehnika/aksessuary-i-zapchasti-dlya-sadovoy-tehniki': [48,\n",
       "              1473,\n",
       "              1475],\n",
       "             'https://www.wildberries.ru/catalog/dom/dachniy-sezon/sadovaya-tehnika/sadovye-izmelchiteli': [49,\n",
       "              1470,\n",
       "              1476],\n",
       "             'https://www.wildberries.ru/catalog/dom/dachniy-sezon/sadovaya-tehnika/motobury-i-aksessuary-k-nim': [50,\n",
       "              1478,\n",
       "              1498],\n",
       "             'https://www.wildberries.ru/catalog/dom/dachniy-sezon/sadovaya-tehnika/kultivatory-i-motobloki': [51,\n",
       "              1491,\n",
       "              1495],\n",
       "             'https://www.wildberries.ru/catalog/sad-i-dacha/sadovaya-tehnika/drovokoly-elektricheskie': [52,\n",
       "              1415,\n",
       "              1479],\n",
       "             'https://www.wildberries.ru/catalog/avtotovary/kovriki': [68,\n",
       "              1587],\n",
       "             'https://www.wildberries.ru/catalog/aksessuary/avtotovary/avtoaksessuary-i-dopolnitelnoe-oborudovanie/vneshniy-tyuning': [69,\n",
       "              1593],\n",
       "             'https://www.wildberries.ru/catalog/dom/dachniy-sezon/sadovaya-tehnika/snegouborshchiki': [73,\n",
       "              1413,\n",
       "              1482],\n",
       "             'https://www.wildberries.ru/catalog/dom/dachniy-sezon/sadovaya-tehnika/tehnika-dlya-fermerskih-hozyaystv': [74,\n",
       "              1474,\n",
       "              1502],\n",
       "             'https://www.wildberries.ru/catalog/sad-i-dacha/sadovaya-tehnika/akkumulyatornye-suchkorezy-i-sekatory': [75,\n",
       "              1471,\n",
       "              1490],\n",
       "             'https://www.wildberries.ru/catalog/dom/dachniy-sezon/sadovaya-tehnika/nozhnitsy-sadovye-elektricheskie-i-akkumulyatornye': [77,\n",
       "              1472,\n",
       "              1497],\n",
       "             'https://www.wildberries.ru/catalog/avtotovary/zapchasti-na-silovuyu-tehniku': [82,\n",
       "              1580],\n",
       "             'https://www.wildberries.ru/catalog/aksessuary/avtotovary/avtoaksessuary-i-dopolnitelnoe-oborudovanie/offroad': [83,\n",
       "              1581],\n",
       "             'https://www.wildberries.ru/catalog/avtotovary/zapchasti-dlya-lodok-i-katerov': [86,\n",
       "              1579],\n",
       "             'https://www.wildberries.ru/catalog/dom/dachniy-sezon/sadovaya-tehnika/aeratory-gazonnye': [90,\n",
       "              1442,\n",
       "              1483],\n",
       "             'https://www.wildberries.ru/catalog/dom/dachniy-sezon/poliv-i-vodosnabzhenie/nasosy-i-pompy': [91,\n",
       "              1458,\n",
       "              1469,\n",
       "              1489],\n",
       "             'https://www.wildberries.ru/catalog/dom/sad-i-dacha/sadovaya-tehnika/podmetalnye-mashiny': [92,\n",
       "              1441,\n",
       "              1484],\n",
       "             'https://www.wildberries.ru/catalog/dom/dachniy-sezon/sadovaya-tehnika/gazonokosilki': [93,\n",
       "              1414,\n",
       "              1485],\n",
       "             'https://www.wildberries.ru/catalog/dom/dachniy-sezon/sadovaya-tehnika/trimmery': [94,\n",
       "              1389,\n",
       "              1486],\n",
       "             'https://www.wildberries.ru/catalog/dom/dachniy-sezon/sadovaya-tehnika/sadovye-pylesosy': [95,\n",
       "              1467,\n",
       "              1487],\n",
       "             'https://www.wildberries.ru/catalog/dom/sad-i-dacha/sadovaya-tehnika/opryskivateli': [96,\n",
       "              1468,\n",
       "              1488],\n",
       "             'https://www.wildberries.ru/catalog/elektronika/tehnika-dlya-doma/shveynoe-oborudovanie': [160,\n",
       "              398],\n",
       "             'https://www.wildberries.ru/catalog/elektronika/krasota-i-zdorove/britvy-i-trimmery': [168,\n",
       "              1058],\n",
       "             'https://www.wildberries.ru/catalog/elektronika/tehnika-dlya-doma/vesy': [169,\n",
       "              1051],\n",
       "             'https://www.wildberries.ru/catalog/elektronika/zubnye-shchetki': [170,\n",
       "              1052],\n",
       "             'https://www.wildberries.ru/catalog/elektronika/krasota-i-zdorove/massazhery-elektricheskie': [172,\n",
       "              1053],\n",
       "             'https://www.wildberries.ru/catalog/elektronika/krasota-i-zdorove/meditsinskie-pribory': [174,\n",
       "              1056],\n",
       "             'https://www.wildberries.ru/catalog/elektronika/krasota-i-zdorove/professionalnaya-parikmaherskaya-tehnika/bytovaya-tehnika': [175,\n",
       "              1057],\n",
       "             'https://www.wildberries.ru/catalog/elektronika/feny-i-pribory-dlya-ukladki': [176,\n",
       "              1075],\n",
       "             'https://www.wildberries.ru/catalog/elektronika/krasota-i-zdorove/epilyatory': [177,\n",
       "              1079],\n",
       "             'https://www.wildberries.ru/catalog/elektronika/krasota-i-zdorove/britvy-i-trimmery/mashinki-dlya-strizhki-volos': [179,\n",
       "              1055],\n",
       "             'https://www.wildberries.ru/catalog/sport/elektrotransport-i-aksessuary': [195,\n",
       "              1595],\n",
       "             'https://www.wildberries.ru/catalog/elektronika/umnyy-dom': [204,\n",
       "              1619],\n",
       "             'https://www.wildberries.ru/catalog/elektronika/torgovoe-oborudovanie': [218,\n",
       "              1618],\n",
       "             'https://www.wildberries.ru/catalog/elektronika/solnechnye-elektrostantsii-i-komplektuyushchie': [220,\n",
       "              1640],\n",
       "             'https://www.wildberries.ru/catalog/elektronika/igry-i-razvlecheniya/aksessuary/garnitury': [260,\n",
       "              1635],\n",
       "             'https://www.wildberries.ru/catalog/elektronika/kabeli-i-zaryadnye-ustroystva': [261,\n",
       "              1555],\n",
       "             'https://www.wildberries.ru/catalog/elektronika/muzyka-i-video': [263,\n",
       "              1554],\n",
       "             'https://www.wildberries.ru/catalog/elektronika/razvlecheniya-i-gadzhety': [265,\n",
       "              1596],\n",
       "             'https://www.wildberries.ru/catalog/elektronika/setevoe-oborudovanie': [266,\n",
       "              1625],\n",
       "             'https://www.wildberries.ru/catalog/elektronika/smart-chasy': [268,\n",
       "              1641],\n",
       "             'https://www.wildberries.ru/catalog/knigi-i-kantstovary/kantstovary/risovanie-i-lepka': [387,\n",
       "              918],\n",
       "             'https://www.wildberries.ru/catalog/dlya-doma/predmety-interera/kovriki': [538,\n",
       "              644],\n",
       "             'https://www.wildberries.ru/catalog/dom/prihozhaya/zerkala-interernye': [618,\n",
       "              1169],\n",
       "             'https://www.wildberries.ru/catalog/dom-i-dacha/otdyh-na-prirode/posuda': [669,\n",
       "              1418],\n",
       "             'https://www.wildberries.ru/catalog/dom/sad-i-dacha/gorshki-opory-i-vse-dlya-rassady/fitolampy-i-fitosvetilniki-dlya-rasteniy': [672,\n",
       "              1404],\n",
       "             'https://www.wildberries.ru/catalog/krasota/aksessuary/dlya-manikyura-i-pedikyura': [1065,\n",
       "              1107],\n",
       "             'https://www.wildberries.ru/catalog/mebel/mebel-dlya-prihozhey/zerkala': [1154,\n",
       "              1165],\n",
       "             'https://www.wildberries.ru/catalog/mebel/mebel-dlya-prihozhey/shkafy': [1156,\n",
       "              1221],\n",
       "             'https://www.wildberries.ru/catalog/dom/mebel/mebel-dlya-spalni/zerkala': [1160,\n",
       "              1164],\n",
       "             'https://www.wildberries.ru/catalog/dom/dachniy-sezon/moyki-vysokogo-davleniya-i-aksessuary': [1481,\n",
       "              1583],\n",
       "             'https://www.wildberries.ru/catalog/elektronika/smartfony-i-telefony/derzhateli': [1526,\n",
       "              1636],\n",
       "             'https://www.wildberries.ru/catalog/elektronika/smartfony-i-telefony/zapchasti-dlya-ustroystv': [1527,\n",
       "              1639],\n",
       "             'https://www.wildberries.ru/catalog/elektronika/smartfony-i-telefony/karty-pamyati': [1528,\n",
       "              1638],\n",
       "             'https://www.wildberries.ru/catalog/elektronika/telefony-i-gadzhety/mobilnye-telefony': [1529,\n",
       "              1650],\n",
       "             'https://www.wildberries.ru/catalog/elektronika/planshety': [1530,\n",
       "              1649],\n",
       "             'https://www.wildberries.ru/catalog/elektronika/smartfony-i-telefony/vse-smartfony': [1531,\n",
       "              1648],\n",
       "             'https://www.wildberries.ru/catalog/elektronika/tehnika-dlya-doma/telefony-statsionarnye': [1532,\n",
       "              1647],\n",
       "             'https://www.wildberries.ru/catalog/elektronika/smartfony-i-telefony/stekla-i-plenki': [1533,\n",
       "              1646],\n",
       "             'https://www.wildberries.ru/catalog/elektronika/smartfony-i-telefony/plenki-zashchitnye': [1534,\n",
       "              1651],\n",
       "             'https://www.wildberries.ru/catalog/elektronika/smartfony-i-telefony/shnurki-i-koltsa': [1536,\n",
       "              1643],\n",
       "             'https://www.wildberries.ru/catalog/elektronika/smartfony-i-telefony/flash-nakopiteli': [1537,\n",
       "              1642],\n",
       "             'https://www.wildberries.ru/catalog/elektronika/smartfony-i-telefony/aksessuary-dlya-semki': [1549,\n",
       "              1634],\n",
       "             'https://www.wildberries.ru/catalog/elektronika/smartfony-i-telefony/aksessuary-dlya-smartfonov': [1558,\n",
       "              1633],\n",
       "             'https://www.wildberries.ru/catalog/elektronika/smartfony-i-telefony/planshety/aksessuary-dlya-planshetov': [1559,\n",
       "              1632],\n",
       "             'https://www.wildberries.ru/catalog/elektronika/smartfony-i-telefony/sim-karty': [1560,\n",
       "              1631]})"
      ]
     },
     "execution_count": 184,
     "metadata": {},
     "output_type": "execute_result"
    }
   ],
   "source": [
    "print(len(duplicates))\n",
    "duplicates"
   ]
  },
  {
   "cell_type": "code",
   "execution_count": 185,
   "id": "9f4cf880",
   "metadata": {},
   "outputs": [
    {
     "data": {
      "text/plain": [
       "('https://www.wildberries.ru/catalog/podarki/detyam/shariki-i-upakovka',\n",
       " 'https://www.wildberries.ru/catalog/knigi/bukinistika/lyubovnye-romany')"
      ]
     },
     "execution_count": 185,
     "metadata": {},
     "output_type": "execute_result"
    }
   ],
   "source": [
    "categories[\"url\"][207], categories[\"url\"][976]"
   ]
  },
  {
   "cell_type": "code",
   "execution_count": 186,
   "id": "aab91094",
   "metadata": {},
   "outputs": [],
   "source": [
    "df_duplicates = pd.DataFrame(duplicates.items(), columns=[\"url\", \"index\"])"
   ]
  },
  {
   "cell_type": "code",
   "execution_count": 187,
   "id": "6f3b0e0f",
   "metadata": {},
   "outputs": [],
   "source": [
    "#df_duplicates.to_csv(\"wb_categories_dublicates.csv\", index=False)"
   ]
  },
  {
   "cell_type": "code",
   "execution_count": null,
   "id": "33702265",
   "metadata": {},
   "outputs": [],
   "source": []
  },
  {
   "cell_type": "code",
   "execution_count": 24,
   "id": "4d361dc1",
   "metadata": {},
   "outputs": [
    {
     "data": {
      "text/html": [
       "<div>\n",
       "<style scoped>\n",
       "    .dataframe tbody tr th:only-of-type {\n",
       "        vertical-align: middle;\n",
       "    }\n",
       "\n",
       "    .dataframe tbody tr th {\n",
       "        vertical-align: top;\n",
       "    }\n",
       "\n",
       "    .dataframe thead th {\n",
       "        text-align: right;\n",
       "    }\n",
       "</style>\n",
       "<table border=\"1\" class=\"dataframe\">\n",
       "  <thead>\n",
       "    <tr style=\"text-align: right;\">\n",
       "      <th></th>\n",
       "      <th>brand</th>\n",
       "      <th>style</th>\n",
       "      <th>rating</th>\n",
       "    </tr>\n",
       "  </thead>\n",
       "  <tbody>\n",
       "    <tr>\n",
       "      <th>0</th>\n",
       "      <td>Yum Yum</td>\n",
       "      <td>cup</td>\n",
       "      <td>4.0</td>\n",
       "    </tr>\n",
       "    <tr>\n",
       "      <th>1</th>\n",
       "      <td>Yum Yum</td>\n",
       "      <td>cup</td>\n",
       "      <td>4.0</td>\n",
       "    </tr>\n",
       "    <tr>\n",
       "      <th>2</th>\n",
       "      <td>Indomie</td>\n",
       "      <td>cup</td>\n",
       "      <td>3.5</td>\n",
       "    </tr>\n",
       "    <tr>\n",
       "      <th>3</th>\n",
       "      <td>Indomie</td>\n",
       "      <td>pack</td>\n",
       "      <td>15.0</td>\n",
       "    </tr>\n",
       "    <tr>\n",
       "      <th>4</th>\n",
       "      <td>Indomie</td>\n",
       "      <td>pack</td>\n",
       "      <td>5.0</td>\n",
       "    </tr>\n",
       "  </tbody>\n",
       "</table>\n",
       "</div>"
      ],
      "text/plain": [
       "     brand style  rating\n",
       "0  Yum Yum   cup     4.0\n",
       "1  Yum Yum   cup     4.0\n",
       "2  Indomie   cup     3.5\n",
       "3  Indomie  pack    15.0\n",
       "4  Indomie  pack     5.0"
      ]
     },
     "execution_count": 24,
     "metadata": {},
     "output_type": "execute_result"
    }
   ],
   "source": [
    "df = pd.DataFrame({\n",
    "    'brand': ['Yum Yum', 'Yum Yum', 'Indomie', 'Indomie', 'Indomie'],\n",
    "    'style': ['cup', 'cup', 'cup', 'pack', 'pack'],\n",
    "    'rating': [4, 4, 3.5, 15, 5]\n",
    "})\n",
    "df"
   ]
  },
  {
   "cell_type": "code",
   "execution_count": 25,
   "id": "accfdd17",
   "metadata": {},
   "outputs": [
    {
     "data": {
      "text/html": [
       "<div>\n",
       "<style scoped>\n",
       "    .dataframe tbody tr th:only-of-type {\n",
       "        vertical-align: middle;\n",
       "    }\n",
       "\n",
       "    .dataframe tbody tr th {\n",
       "        vertical-align: top;\n",
       "    }\n",
       "\n",
       "    .dataframe thead th {\n",
       "        text-align: right;\n",
       "    }\n",
       "</style>\n",
       "<table border=\"1\" class=\"dataframe\">\n",
       "  <thead>\n",
       "    <tr style=\"text-align: right;\">\n",
       "      <th></th>\n",
       "      <th>brand</th>\n",
       "      <th>style</th>\n",
       "      <th>rating</th>\n",
       "    </tr>\n",
       "  </thead>\n",
       "  <tbody>\n",
       "    <tr>\n",
       "      <th>0</th>\n",
       "      <td>Yum Yum</td>\n",
       "      <td>cup</td>\n",
       "      <td>4.0</td>\n",
       "    </tr>\n",
       "    <tr>\n",
       "      <th>1</th>\n",
       "      <td>Yum Yum</td>\n",
       "      <td>cup</td>\n",
       "      <td>4.0</td>\n",
       "    </tr>\n",
       "    <tr>\n",
       "      <th>2</th>\n",
       "      <td>Indomie</td>\n",
       "      <td>cup</td>\n",
       "      <td>3.5</td>\n",
       "    </tr>\n",
       "    <tr>\n",
       "      <th>3</th>\n",
       "      <td>Indomie</td>\n",
       "      <td>pack</td>\n",
       "      <td>15.0</td>\n",
       "    </tr>\n",
       "    <tr>\n",
       "      <th>4</th>\n",
       "      <td>Indomie</td>\n",
       "      <td>pack</td>\n",
       "      <td>5.0</td>\n",
       "    </tr>\n",
       "  </tbody>\n",
       "</table>\n",
       "</div>"
      ],
      "text/plain": [
       "     brand style  rating\n",
       "0  Yum Yum   cup     4.0\n",
       "1  Yum Yum   cup     4.0\n",
       "2  Indomie   cup     3.5\n",
       "3  Indomie  pack    15.0\n",
       "4  Indomie  pack     5.0"
      ]
     },
     "execution_count": 25,
     "metadata": {},
     "output_type": "execute_result"
    }
   ],
   "source": [
    "df[df.duplicated(['style'], keep=False)]"
   ]
  },
  {
   "cell_type": "markdown",
   "id": "b7ff1c66",
   "metadata": {},
   "source": [
    "___"
   ]
  },
  {
   "cell_type": "markdown",
   "id": "ca6f3385",
   "metadata": {},
   "source": [
    "## удаление дубликатов"
   ]
  },
  {
   "cell_type": "code",
   "execution_count": 188,
   "id": "63ed1645",
   "metadata": {},
   "outputs": [],
   "source": [
    "df_duplicates_choose = pd.read_csv(\"E://!docum//!HSE магистратура//Задание диплом//wb_categories_dublicates.csv\")\n",
    "#df_duplicates = pd.read_csv(\"wb_categories_dublicates.csv\")\n",
    "\n",
    "df_duplicates_choose = pd.concat([df_duplicates_choose[:12],\n",
    "                                  pd.DataFrame([np.nan], columns=[\"choose_category\"]),\n",
    "                                  df_duplicates_choose[12:]], axis=0)\n",
    "df_duplicates_choose.reset_index(drop=True, inplace=True)\n",
    "\n",
    "df_duplicates = pd.concat([df_duplicates, df_duplicates_choose], axis=1)\n",
    "#df_duplicates[\"delete\"] = df_duplicates[\"index\"].copy(deep=True)"
   ]
  },
  {
   "cell_type": "code",
   "execution_count": 189,
   "id": "5e3b5979",
   "metadata": {
    "scrolled": true
   },
   "outputs": [],
   "source": [
    "df_duplicates.apply(lambda x : x[\"index\"].remove(x[\"choose_category\"]) if (str(x[\"choose_category\"]) != \"nan\") else x[\"index\"], axis=1);"
   ]
  },
  {
   "cell_type": "code",
   "execution_count": 190,
   "id": "ef905ab4",
   "metadata": {},
   "outputs": [
    {
     "data": {
      "text/html": [
       "<div>\n",
       "<style scoped>\n",
       "    .dataframe tbody tr th:only-of-type {\n",
       "        vertical-align: middle;\n",
       "    }\n",
       "\n",
       "    .dataframe tbody tr th {\n",
       "        vertical-align: top;\n",
       "    }\n",
       "\n",
       "    .dataframe thead th {\n",
       "        text-align: right;\n",
       "    }\n",
       "</style>\n",
       "<table border=\"1\" class=\"dataframe\">\n",
       "  <thead>\n",
       "    <tr style=\"text-align: right;\">\n",
       "      <th></th>\n",
       "      <th>url</th>\n",
       "      <th>index</th>\n",
       "      <th>choose_category</th>\n",
       "    </tr>\n",
       "  </thead>\n",
       "  <tbody>\n",
       "    <tr>\n",
       "      <th>0</th>\n",
       "      <td>https://www.wildberries.ru/catalog/dom/dachniy...</td>\n",
       "      <td>[0, 1440]</td>\n",
       "      <td>1480.0</td>\n",
       "    </tr>\n",
       "    <tr>\n",
       "      <th>1</th>\n",
       "      <td>https://www.wildberries.ru/catalog/elektronika...</td>\n",
       "      <td>[259]</td>\n",
       "      <td>13.0</td>\n",
       "    </tr>\n",
       "    <tr>\n",
       "      <th>2</th>\n",
       "      <td>https://www.wildberries.ru/catalog/aksessuary/...</td>\n",
       "      <td>[1588]</td>\n",
       "      <td>14.0</td>\n",
       "    </tr>\n",
       "    <tr>\n",
       "      <th>3</th>\n",
       "      <td>https://www.wildberries.ru/catalog/dom/dachniy...</td>\n",
       "      <td>[48, 1473]</td>\n",
       "      <td>1475.0</td>\n",
       "    </tr>\n",
       "    <tr>\n",
       "      <th>4</th>\n",
       "      <td>https://www.wildberries.ru/catalog/dom/dachniy...</td>\n",
       "      <td>[49, 1470]</td>\n",
       "      <td>1476.0</td>\n",
       "    </tr>\n",
       "    <tr>\n",
       "      <th>...</th>\n",
       "      <td>...</td>\n",
       "      <td>...</td>\n",
       "      <td>...</td>\n",
       "    </tr>\n",
       "    <tr>\n",
       "      <th>64</th>\n",
       "      <td>https://www.wildberries.ru/catalog/elektronika...</td>\n",
       "      <td>[1537]</td>\n",
       "      <td>1642.0</td>\n",
       "    </tr>\n",
       "    <tr>\n",
       "      <th>65</th>\n",
       "      <td>https://www.wildberries.ru/catalog/elektronika...</td>\n",
       "      <td>[1549]</td>\n",
       "      <td>1634.0</td>\n",
       "    </tr>\n",
       "    <tr>\n",
       "      <th>66</th>\n",
       "      <td>https://www.wildberries.ru/catalog/elektronika...</td>\n",
       "      <td>[1558]</td>\n",
       "      <td>1633.0</td>\n",
       "    </tr>\n",
       "    <tr>\n",
       "      <th>67</th>\n",
       "      <td>https://www.wildberries.ru/catalog/elektronika...</td>\n",
       "      <td>[1559]</td>\n",
       "      <td>1632.0</td>\n",
       "    </tr>\n",
       "    <tr>\n",
       "      <th>68</th>\n",
       "      <td>https://www.wildberries.ru/catalog/elektronika...</td>\n",
       "      <td>[1560]</td>\n",
       "      <td>1631.0</td>\n",
       "    </tr>\n",
       "  </tbody>\n",
       "</table>\n",
       "<p>69 rows × 3 columns</p>\n",
       "</div>"
      ],
      "text/plain": [
       "                                                  url       index  \\\n",
       "0   https://www.wildberries.ru/catalog/dom/dachniy...   [0, 1440]   \n",
       "1   https://www.wildberries.ru/catalog/elektronika...       [259]   \n",
       "2   https://www.wildberries.ru/catalog/aksessuary/...      [1588]   \n",
       "3   https://www.wildberries.ru/catalog/dom/dachniy...  [48, 1473]   \n",
       "4   https://www.wildberries.ru/catalog/dom/dachniy...  [49, 1470]   \n",
       "..                                                ...         ...   \n",
       "64  https://www.wildberries.ru/catalog/elektronika...      [1537]   \n",
       "65  https://www.wildberries.ru/catalog/elektronika...      [1549]   \n",
       "66  https://www.wildberries.ru/catalog/elektronika...      [1558]   \n",
       "67  https://www.wildberries.ru/catalog/elektronika...      [1559]   \n",
       "68  https://www.wildberries.ru/catalog/elektronika...      [1560]   \n",
       "\n",
       "    choose_category  \n",
       "0            1480.0  \n",
       "1              13.0  \n",
       "2              14.0  \n",
       "3            1475.0  \n",
       "4            1476.0  \n",
       "..              ...  \n",
       "64           1642.0  \n",
       "65           1634.0  \n",
       "66           1633.0  \n",
       "67           1632.0  \n",
       "68           1631.0  \n",
       "\n",
       "[69 rows x 3 columns]"
      ]
     },
     "execution_count": 190,
     "metadata": {},
     "output_type": "execute_result"
    }
   ],
   "source": [
    "df_duplicates"
   ]
  },
  {
   "cell_type": "code",
   "execution_count": 200,
   "id": "86abb1b5",
   "metadata": {},
   "outputs": [],
   "source": [
    "root_dir = Path(\"C:/temp/!hse-mlds-project-year2/data\")"
   ]
  },
  {
   "cell_type": "code",
   "execution_count": 201,
   "id": "3ac5354b",
   "metadata": {},
   "outputs": [],
   "source": [
    "folders_name = []\n",
    "\n",
    "for i in range(len(categories)):\n",
    "    if str(categories.iloc[i][\"category_5\"]) == \"nan\":\n",
    "        if str(categories.iloc[i][\"category_4\"]) == \"nan\":\n",
    "            if str(categories.iloc[i][\"category_3\"]) == \"nan\":\n",
    "                if str(categories.iloc[i][\"category_2\"]) == \"nan\":\n",
    "                    cat = list(categories.iloc[i][:1])\n",
    "                else:\n",
    "                    cat = list(categories.iloc[i][:2])\n",
    "            else:\n",
    "                cat = list(categories.iloc[i][:3])\n",
    "        else:\n",
    "            cat = list(categories.iloc[i][:4])\n",
    "    else:\n",
    "        cat = list(categories.iloc[i][:5])\n",
    "    folder = \"_\".join([\"&\".join(i.split()) for i in cat])\n",
    "    folders_name.append(folder)"
   ]
  },
  {
   "cell_type": "code",
   "execution_count": 209,
   "id": "d12127ce",
   "metadata": {
    "scrolled": true
   },
   "outputs": [],
   "source": [
    "delete_index = list(chain(*list(df_duplicates[\"index\"])))"
   ]
  },
  {
   "cell_type": "code",
   "execution_count": 214,
   "id": "4b93f617",
   "metadata": {},
   "outputs": [
    {
     "data": {
      "text/plain": [
       "88"
      ]
     },
     "execution_count": 214,
     "metadata": {},
     "output_type": "execute_result"
    }
   ],
   "source": [
    "len(delete_index)"
   ]
  },
  {
   "cell_type": "code",
   "execution_count": 211,
   "id": "60e98369",
   "metadata": {},
   "outputs": [],
   "source": [
    "for ind in delete_index:\n",
    "    shutil.rmtree(root_dir / folders_name[ind])"
   ]
  },
  {
   "cell_type": "markdown",
   "id": "46f136ad",
   "metadata": {},
   "source": [
    "___"
   ]
  },
  {
   "cell_type": "markdown",
   "id": "73483151",
   "metadata": {},
   "source": [
    "# Выбор категории"
   ]
  },
  {
   "cell_type": "code",
   "execution_count": 2,
   "id": "cd9a9767",
   "metadata": {},
   "outputs": [],
   "source": [
    "root_dir = Path(\"C:/temp/!hse-mlds-project-year2/data/data\")"
   ]
  },
  {
   "cell_type": "code",
   "execution_count": 3,
   "id": "0588c4c3",
   "metadata": {},
   "outputs": [
    {
     "data": {
      "text/plain": [
       "1579"
      ]
     },
     "execution_count": 3,
     "metadata": {},
     "output_type": "execute_result"
    }
   ],
   "source": [
    "# Кол-во категорий\n",
    "folders = os.listdir(root_dir)\n",
    "len(folders)"
   ]
  },
  {
   "cell_type": "code",
   "execution_count": 4,
   "id": "641bc745",
   "metadata": {},
   "outputs": [],
   "source": [
    "def choose_category(level, folders, category1=None, category2=None, category3=None, category4=None):\n",
    "    if level == 1:\n",
    "        tree = {(category.split(\"_\")[0], 2) if len(category.split(\"_\"))>1 else (category.split(\"_\")[0], 1) for category in folders}\n",
    "\n",
    "    elif level == 2:\n",
    "        if category1 is None:\n",
    "            raise TypeError(\"choose_category() missing 1 required positional argument: 'category1'\")\n",
    "        categories = [category for category in folders if category.split(\"_\")[0]==category1]\n",
    "        tree = {(category.split(\"_\")[1], 3) if len(category.split(\"_\"))>2 else (category.split(\"_\")[1], 2) for category in categories}\n",
    "\n",
    "    elif level == 3:\n",
    "        if category1 is None or category2 is None:\n",
    "            raise TypeError(\"choose_category() missing required positional argument: 'category1' or 'category2'\")\n",
    "        categories = [category for category in folders if (category.split(\"_\")[0]==category1) and (category.split(\"_\")[1]==category2)]\n",
    "        tree = {(category.split(\"_\")[2], 4) if len(category.split(\"_\"))>3 else (category.split(\"_\")[2], 3) for category in categories}\n",
    "\n",
    "    elif level == 4:\n",
    "        if category1 is None or category2 is None or category3 is None:\n",
    "            raise TypeError(\"choose_category() missing required positional argument: 'category1', 'category2' or 'category3'\")\n",
    "        categories = [category for category in folders if (category.split(\"_\")[0]==category1) and (category.split(\"_\")[1]==category2) and (category.split(\"_\")[2]==category3)]\n",
    "        tree = {(category.split(\"_\")[3], 5) if len(category.split(\"_\"))>4 else (category.split(\"_\")[3], 4) for category in categories}\n",
    "\n",
    "    elif level == 5:\n",
    "        if category1 is None or category2 is None or category3 is None  or category4 is None:\n",
    "            raise TypeError(\"choose_category() missing required positional argument: 'category1', 'category2', 'category3' or 'category4'\")\n",
    "        categories = [category for category in folders if (category.split(\"_\")[0]==category1) and (category.split(\"_\")[1]==category2) and (category.split(\"_\")[2]==category3) and (category.split(\"_\")[3]==category4)]\n",
    "        tree = {(category.split(\"_\")[4], 6) if len(category.split(\"_\"))>5 else (category.split(\"_\")[4], 5) for category in categories}\n",
    "    \n",
    "    return sorted(tree)"
   ]
  },
  {
   "cell_type": "code",
   "execution_count": 7,
   "id": "38bfea73",
   "metadata": {},
   "outputs": [
    {
     "data": {
      "text/plain": [
       "[('Автотовары', 2),\n",
       " ('Аксессуары', 2),\n",
       " ('Бытовая&техника', 2),\n",
       " ('Детям', 2),\n",
       " ('Для&ремонта', 2),\n",
       " ('Дом', 2),\n",
       " ('Женщинам', 2),\n",
       " ('Здоровье', 2),\n",
       " ('Зоотовары', 2),\n",
       " ('Игрушки', 2),\n",
       " ('Канцтовары', 2),\n",
       " ('Книги', 2),\n",
       " ('Красота', 2),\n",
       " ('Мебель', 2),\n",
       " ('Мужчинам', 2),\n",
       " ('Народные&Промыслы', 1),\n",
       " ('Обувь', 2),\n",
       " ('Продукты', 2),\n",
       " ('Сад&и&дача', 2),\n",
       " ('Товары&для&взрослых', 2),\n",
       " ('Электроника', 2),\n",
       " ('Ювелирные&изделия', 2)]"
      ]
     },
     "execution_count": 7,
     "metadata": {},
     "output_type": "execute_result"
    }
   ],
   "source": [
    "choose_category(1, folders, \"Товары&для&взрослых\", \"Секс&игрушки\", 'Картины&и&постеры', 'Картины')"
   ]
  },
  {
   "cell_type": "code",
   "execution_count": 34,
   "id": "ca8dcd34",
   "metadata": {},
   "outputs": [
    {
     "data": {
      "text/plain": [
       "[('Гравюры', 4),\n",
       " ('Доски&для&записей', 4),\n",
       " ('Картины', 5),\n",
       " ('Картины&3D', 4),\n",
       " ('Картины&в&рамах', 4),\n",
       " ('Модульные&картины', 4),\n",
       " ('Постеры', 5),\n",
       " ('Постеры&в&рамах', 4),\n",
       " ('Рамы&багетные', 4),\n",
       " ('Рамы&для&постеров', 4),\n",
       " ('Таблички&информационные', 4)]"
      ]
     },
     "execution_count": 34,
     "metadata": {},
     "output_type": "execute_result"
    }
   ],
   "source": [
    "choose_category(4, folders, \"Дом\", \"Предметы&интерьера\", 'Картины&и&постеры', 'Картины')"
   ]
  },
  {
   "cell_type": "markdown",
   "id": "96a75f22",
   "metadata": {},
   "source": [
    "**Кол-во категорий**"
   ]
  },
  {
   "cell_type": "markdown",
   "id": "e6af28b2",
   "metadata": {},
   "source": [
    " - \"Автотовары\" 1296 324\n",
    " - \"Аксессуары\" 832 208\n",
    " - \"Бытовая&техника\" 480 120\n",
    " - \"Детям\" 1568 392\n",
    " - \"Для&ремонта\" 1296 324\n",
    " - \"Дом\" 4961 1241\n",
    " - \"Женщинам\" 1920 480\n",
    " - \"Здоровье\" 304 76\n",
    " - \"Зоотовары\" 656 164\n",
    " - \"Игрушки\" 528 132\n",
    " - \"Канцтовары\" 368 92\n",
    " - \"Книги\" 1952 488\n",
    " - \"Красота\" 1376 344\n",
    " - \"Мебель\" 1503 376\n",
    " - \"Мужчинам\" 880 220\n",
    " - \"Обувь\" 352 88\n",
    " - \"Продукты\" 736 184\n",
    " - \"Сад&и&дача\" 2064 516\n",
    " - \"Товары&для&взрослых\" 224 56\n",
    " - \"Электроника\" 1680 420\n",
    " - \"Ювелирные&изделия\" 256 64"
   ]
  },
  {
   "cell_type": "markdown",
   "id": "a3e29a2d",
   "metadata": {},
   "source": [
    "___"
   ]
  },
  {
   "cell_type": "markdown",
   "id": "2bc93df2",
   "metadata": {},
   "source": [
    "# Расчет кол-ва моделей в древовидном инференсе"
   ]
  },
  {
   "cell_type": "code",
   "execution_count": 43,
   "id": "6bcf1717",
   "metadata": {},
   "outputs": [],
   "source": [
    "num_models = 1\n",
    "categories1 = {(category.split(\"_\")[0], 2) for category in folders if len(category.split(\"_\"))>1}\n",
    "\n",
    "for cat1 in categories1:\n",
    "    num_models += 1\n",
    "    categories = [category for category in folders if category.split(\"_\")[0]==cat1[0]]\n",
    "    categories2 = {(category.split(\"_\")[1], 3) for category in categories if len(category.split(\"_\"))>2}\n",
    "    \n",
    "    for cat2 in categories2:\n",
    "        num_models += 1\n",
    "        categories = [category for category in folders if (category.split(\"_\")[0]==cat1[0]) and (category.split(\"_\")[1]==cat2[0])]\n",
    "        categories3 = {(category.split(\"_\")[2], 4) for category in categories if len(category.split(\"_\"))>3}\n",
    "        \n",
    "        for cat3 in categories3:\n",
    "            num_models += 1\n",
    "            categories = [category for category in folders if (category.split(\"_\")[0]==cat1[0]) and (category.split(\"_\")[1]==cat2[0]) and (category.split(\"_\")[2]==cat3[0])]\n",
    "            categories4 = {(category.split(\"_\")[3], 5) for category in categories if len(category.split(\"_\"))>4}\n",
    "            \n",
    "            for cat4 in categories4:\n",
    "                num_models += 1"
   ]
  },
  {
   "cell_type": "code",
   "execution_count": 44,
   "id": "636f9191",
   "metadata": {},
   "outputs": [
    {
     "data": {
      "text/plain": [
       "171"
      ]
     },
     "execution_count": 44,
     "metadata": {},
     "output_type": "execute_result"
    }
   ],
   "source": [
    "num_models"
   ]
  },
  {
   "cell_type": "markdown",
   "id": "46c29338",
   "metadata": {},
   "source": [
    "Кол-во моделей:\n",
    " - `171 num_models` вложенность 5\n",
    " - `165 num_models` вложенность 4\n",
    " - `153 num_models` вложенность 3\n",
    " - `22 num_models` вложенность 2\n",
    " - `1 num_models` вложенность 1"
   ]
  },
  {
   "cell_type": "markdown",
   "id": "35ac2696",
   "metadata": {},
   "source": [
    "___"
   ]
  },
  {
   "cell_type": "markdown",
   "id": "6f8281ca",
   "metadata": {},
   "source": [
    "# Функции для обработки датасета"
   ]
  },
  {
   "cell_type": "code",
   "execution_count": 2,
   "id": "8abd504f",
   "metadata": {},
   "outputs": [],
   "source": [
    "# root_dir = Path(\"C:/temp/!hse-mlds-project-year2/data/data\")\n",
    "root_dir = Path(\"C:/temp/!hse-mlds-project-year2/test\")\n",
    "# root_dir = Path(\"C:/temp/!hse-mlds-project-year2/data_embed\")"
   ]
  },
  {
   "cell_type": "code",
   "execution_count": 3,
   "id": "4af9263b",
   "metadata": {
    "scrolled": true
   },
   "outputs": [
    {
     "name": "stdout",
     "output_type": "stream",
     "text": [
      "129\n"
     ]
    },
    {
     "data": {
      "text/plain": [
       "['Зоотовары_Аквариумистика_Аквариумы&и&аквариумные&наборы',\n",
       " 'Зоотовары_Аквариумистика_Аксессуары&для&ухода',\n",
       " 'Зоотовары_Аквариумистика_Декорации,&растения',\n",
       " 'Зоотовары_Аквариумистика_Корм&и&аксессуары&для&кормления',\n",
       " 'Зоотовары_Аквариумистика_Фильтрация,&терморегуляция,&освещение',\n",
       " 'Зоотовары_Аксессуары&для&кормления',\n",
       " 'Зоотовары_Амуниция&и&дрессировка',\n",
       " 'Зоотовары_Ветаптека',\n",
       " 'Зоотовары_Вольеры&и&клетки',\n",
       " 'Зоотовары_Груминг&и&уход',\n",
       " 'Зоотовары_Для&грызунов&и&хорьков',\n",
       " 'Зоотовары_Для&кошек_Корм&и&лакомства',\n",
       " 'Зоотовары_Для&птиц',\n",
       " 'Зоотовары_Для&собак_Корм&и&лакомства',\n",
       " 'Зоотовары_Игрушки',\n",
       " 'Зоотовары_Когтеточки&и&домики',\n",
       " 'Зоотовары_Лотки&и&наполнители',\n",
       " 'Зоотовары_Одежда',\n",
       " 'Зоотовары_Террариумистика',\n",
       " 'Зоотовары_Транспортировка',\n",
       " 'Зоотовары_Фермерство',\n",
       " 'Канцтовары_Анатомические&модели',\n",
       " 'Канцтовары_Бумажная&продукция_Блокноты',\n",
       " 'Канцтовары_Бумажная&продукция_Бумага&для&заметок&и&стикеры',\n",
       " 'Канцтовары_Бумажная&продукция_Гостевые&книги',\n",
       " 'Канцтовары_Бумажная&продукция_Грамоты&и&дипломы',\n",
       " 'Канцтовары_Бумажная&продукция_Дневники',\n",
       " 'Канцтовары_Бумажная&продукция_Ежедневники&и&записные&книжки',\n",
       " 'Канцтовары_Бумажная&продукция_Закладки',\n",
       " 'Канцтовары_Бумажная&продукция_Книги&и&бланки&для&ведения&учета',\n",
       " 'Канцтовары_Бумажная&продукция_Конверты&и&пакеты',\n",
       " 'Канцтовары_Бумажная&продукция_Наклейки',\n",
       " 'Канцтовары_Бумажная&продукция_Офисная&бумага',\n",
       " 'Канцтовары_Бумажная&продукция_Портфолио',\n",
       " 'Канцтовары_Бумажная&продукция_Расписания&уроков',\n",
       " 'Канцтовары_Бумажная&продукция_Тетради',\n",
       " 'Канцтовары_Бумажная&продукция_Цветная&бумага&и&картон',\n",
       " 'Канцтовары_Карты&и&глобусы',\n",
       " 'Канцтовары_Офисные&принадлежности',\n",
       " 'Канцтовары_Письменные&принадлежности',\n",
       " 'Канцтовары_Рисование&и&лепка',\n",
       " 'Канцтовары_Счетный&материал',\n",
       " 'Канцтовары_Торговые&принадлежности',\n",
       " 'Канцтовары_Чертежные&принадлежности',\n",
       " 'Мужчинам_Белье',\n",
       " 'Мужчинам_Брюки',\n",
       " 'Мужчинам_Верхняя&одежда',\n",
       " 'Мужчинам_Джемперы,&водолазки&и&кардиганы',\n",
       " 'Мужчинам_Джинсы',\n",
       " 'Мужчинам_Комбинезоны&и&полукомбинезоны',\n",
       " 'Мужчинам_Костюмы',\n",
       " 'Мужчинам_Лонгсливы',\n",
       " 'Мужчинам_Майки',\n",
       " 'Мужчинам_Пиджаки,&жилеты&и&жакеты',\n",
       " 'Мужчинам_Пижамы',\n",
       " 'Мужчинам_Подарки&мужчинам_Автотовары',\n",
       " 'Мужчинам_Подарки&мужчинам_Аксессуары',\n",
       " 'Мужчинам_Подарки&мужчинам_Бижутерия',\n",
       " 'Мужчинам_Подарки&мужчинам_Для&дома',\n",
       " 'Мужчинам_Подарки&мужчинам_Игрушки',\n",
       " 'Мужчинам_Подарки&мужчинам_Именные&подарки',\n",
       " 'Мужчинам_Подарки&мужчинам_Канцелярия&и&книги',\n",
       " 'Мужчинам_Подарки&мужчинам_Мужской&уход',\n",
       " 'Мужчинам_Подарки&мужчинам_Открытки&и&сувениры',\n",
       " 'Мужчинам_Подарки&мужчинам_Посуда',\n",
       " 'Мужчинам_Подарки&мужчинам_Тапочки',\n",
       " 'Мужчинам_Подарки&мужчинам_Хобби&и&творчество',\n",
       " 'Мужчинам_Подарки&мужчинам_Шарики&и&упаковка',\n",
       " 'Мужчинам_Подарки&мужчинам_Ювелирные&украшения',\n",
       " 'Мужчинам_Религиозная_Ислам',\n",
       " 'Мужчинам_Рубашки',\n",
       " 'Мужчинам_Свадьба',\n",
       " 'Мужчинам_Спецодежда&и&СИЗы_Головные&уборы',\n",
       " 'Мужчинам_Спецодежда&и&СИЗы_Медицинская&одежда',\n",
       " 'Мужчинам_Спецодежда&и&СИЗы_Одноразовые&изделия',\n",
       " 'Мужчинам_Спецодежда&и&СИЗы_Рабочая&обувь',\n",
       " 'Мужчинам_Спецодежда&и&СИЗы_Средства&защиты&органов&дыхания',\n",
       " 'Мужчинам_Спецодежда&и&СИЗы_Средства&индивидуальной&защиты',\n",
       " 'Мужчинам_Спецодежда&и&СИЗы_Униформа&и&рабочая&одежда',\n",
       " 'Мужчинам_Толстовки,&свитшоты&и&худи',\n",
       " 'Мужчинам_Футболки',\n",
       " 'Мужчинам_Футболки-поло',\n",
       " 'Мужчинам_Халаты',\n",
       " 'Мужчинам_Шорты',\n",
       " 'Продукты_Бакалея_Все&для&выпечки',\n",
       " 'Продукты_Бакалея_Готовые&блюда',\n",
       " 'Продукты_Бакалея_Карамель&жидкая,&сиропы,&топпинги',\n",
       " 'Продукты_Бакалея_Консервация',\n",
       " 'Продукты_Бакалея_Крупы',\n",
       " 'Продукты_Бакалея_Макароны',\n",
       " 'Продукты_Бакалея_Масла,&соусы',\n",
       " 'Продукты_Бакалея_Мед&и&прополис',\n",
       " 'Продукты_Бакалея_Орехи,&сухофрукты,&семечки',\n",
       " 'Продукты_Бакалея_Приправы&и&специи',\n",
       " 'Продукты_Бакалея_Продукты&быстрого&приготовления',\n",
       " 'Продукты_Бакалея_Сахар',\n",
       " 'Продукты_Бакалея_Сиропы',\n",
       " 'Продукты_Бакалея_Смеси&для&приготовления&блюд',\n",
       " 'Продукты_Бакалея_Соль',\n",
       " 'Продукты_Бакалея_Сухие&завтраки,&мюсли',\n",
       " 'Продукты_Бакалея_Топпинги',\n",
       " 'Продукты_Бакалея_Урбеч',\n",
       " 'Продукты_Детское&питание',\n",
       " 'Продукты_Добавки&пищевые',\n",
       " 'Продукты_Здоровое&питание',\n",
       " 'Продукты_Молочные&продукты',\n",
       " 'Продукты_Мясная&продукция',\n",
       " 'Продукты_Напитки',\n",
       " 'Продукты_Овощи',\n",
       " 'Продукты_Подарочные&наборы&продуктов',\n",
       " 'Продукты_Сладости&и&хлебобулочные&изделия_Восточные&сладости',\n",
       " 'Продукты_Сладости&и&хлебобулочные&изделия_Жевательные&резинки',\n",
       " 'Продукты_Сладости&и&хлебобулочные&изделия_Желе,&крем-десерты,&пудинги',\n",
       " 'Продукты_Сладости&и&хлебобулочные&изделия_Зефир,&мармелад,&пастила',\n",
       " 'Продукты_Сладости&и&хлебобулочные&изделия_Конфеты',\n",
       " 'Продукты_Сладости&и&хлебобулочные&изделия_Орехи',\n",
       " 'Продукты_Сладости&и&хлебобулочные&изделия_Пасты',\n",
       " 'Продукты_Сладости&и&хлебобулочные&изделия_Пироги,&сдоба,&кексы,&рулеты',\n",
       " 'Продукты_Сладости&и&хлебобулочные&изделия_Сухари,&сушки,&крекеры',\n",
       " 'Продукты_Сладости&и&хлебобулочные&изделия_Торты,&печенье,&вафли,&пряники',\n",
       " 'Продукты_Сладости&и&хлебобулочные&изделия_Хлеб,&булочки,&лепешки',\n",
       " 'Продукты_Сладости&и&хлебобулочные&изделия_Шоколад&и&шоколадные&батончики',\n",
       " 'Продукты_Смеси&для&десертов',\n",
       " 'Продукты_Снеки',\n",
       " 'Продукты_Фрукты&и&ягоды',\n",
       " 'Продукты_Чай&и&кофе_Горячий&шоколад&и&какао',\n",
       " 'Продукты_Чай&и&кофе_Кофе&и&цикорий',\n",
       " 'Продукты_Чай&и&кофе_Травяные&сборы',\n",
       " 'Продукты_Чай&и&кофе_Чай']"
      ]
     },
     "execution_count": 3,
     "metadata": {},
     "output_type": "execute_result"
    }
   ],
   "source": [
    "# Кол-во категорий\n",
    "folders = os.listdir(root_dir)\n",
    "print(len(folders))\n",
    "folders"
   ]
  },
  {
   "cell_type": "markdown",
   "id": "ae00b1d9",
   "metadata": {},
   "source": [
    "## удаление товаров"
   ]
  },
  {
   "cell_type": "markdown",
   "id": "3d8215ce",
   "metadata": {},
   "source": [
    "удаляет только feedback для указанного товара"
   ]
  },
  {
   "cell_type": "code",
   "execution_count": 4,
   "id": "19926d43",
   "metadata": {},
   "outputs": [],
   "source": [
    "def delete_feedbacks(path: Path, ind: list[int]):\n",
    "    path = path / \"feedbacks\"\n",
    "    paths_to_img = [path / f\"{i}_feedbacks.png\" for i in ind]\n",
    "    for p in paths_to_img:\n",
    "        os.remove(p)\n",
    "    \n",
    "    return paths_to_img"
   ]
  },
  {
   "cell_type": "code",
   "execution_count": 19,
   "id": "3e8e9ff4",
   "metadata": {},
   "outputs": [
    {
     "data": {
      "text/plain": [
       "[WindowsPath('C:/temp/!hse-mlds-project-year2/test/Ювелирные&изделия_Четки/feedbacks/4_feedbacks.png'),\n",
       " WindowsPath('C:/temp/!hse-mlds-project-year2/test/Ювелирные&изделия_Четки/feedbacks/6_feedbacks.png')]"
      ]
     },
     "execution_count": 19,
     "metadata": {},
     "output_type": "execute_result"
    }
   ],
   "source": [
    "delete_feedbacks(path=root_dir / folders[2], ind=[4,6])"
   ]
  },
  {
   "cell_type": "markdown",
   "id": "92d33516",
   "metadata": {},
   "source": [
    "удаляет полностью card, description и feedback (если он есть) для указанного товара"
   ]
  },
  {
   "cell_type": "code",
   "execution_count": 5,
   "id": "fb2d1028",
   "metadata": {},
   "outputs": [],
   "source": [
    "def delete_card_and_description(path: Path, ind: list[int]):\n",
    "    path_card = path / \"card\"\n",
    "    path_feedbacks = path / \"feedbacks\"\n",
    "    paths_card_img = [path_card / f\"{i}.png\" for i in ind]\n",
    "    paths_feedbacks_img = [path_feedbacks / f\"{i}_feedbacks.png\" for i in ind]\n",
    "    check_feedbacks = [True if path.exists() else False for path in paths_feedbacks_img]\n",
    "\n",
    "    descriptions =  pd.read_csv(path / \"descriptions.csv\")\n",
    "    descriptions.set_index(['item'], inplace=True)\n",
    "    for i in range(len(ind)):\n",
    "        \n",
    "        # удаление описания\n",
    "        try:\n",
    "            descriptions.drop(index=paths_card_img[i].parts[-1], inplace=True)\n",
    "        except Exception as e:\n",
    "            print(e)\n",
    "            return f\"Упало на {paths_card_img[i]}\"\n",
    "        \n",
    "        # удаление card\n",
    "        try:\n",
    "            os.remove(paths_card_img[i])\n",
    "        except Exception as e:\n",
    "            print(e)\n",
    "            return f\"Упало на {paths_card_img[i]}\"\n",
    "        \n",
    "        # удаление feedbacks\n",
    "        if check_feedbacks[i]:\n",
    "            try:\n",
    "                os.remove(paths_feedbacks_img[i])\n",
    "            except Exception as e:\n",
    "                print(e)\n",
    "                return f\"Упало на {paths_feedbacks_img[i]}\"\n",
    "        \n",
    "    descriptions.reset_index(inplace=True)\n",
    "    descriptions.to_csv(path / \"descriptions.csv\", index=False)\n",
    "    return paths_card_img"
   ]
  },
  {
   "cell_type": "code",
   "execution_count": 188,
   "id": "68e96d9f",
   "metadata": {},
   "outputs": [
    {
     "data": {
      "text/plain": [
       "[WindowsPath('C:/temp/!hse-mlds-project-year2/test/Ювелирные&изделия_Украшения&из&серебра/card/9.png'),\n",
       " WindowsPath('C:/temp/!hse-mlds-project-year2/test/Ювелирные&изделия_Украшения&из&серебра/card/10.png'),\n",
       " WindowsPath('C:/temp/!hse-mlds-project-year2/test/Ювелирные&изделия_Украшения&из&серебра/card/12.png')]"
      ]
     },
     "execution_count": 188,
     "metadata": {},
     "output_type": "execute_result"
    }
   ],
   "source": [
    "paths_to_img = delete_card_and_description(path=root_dir / folders[0], ind=[9,10,12])\n",
    "paths_to_img"
   ]
  },
  {
   "cell_type": "markdown",
   "id": "2ff2aab7",
   "metadata": {},
   "source": [
    "## перенос товара в другую категорию"
   ]
  },
  {
   "cell_type": "markdown",
   "id": "6a7d88de",
   "metadata": {},
   "source": [
    "переносится полностью card, description и feedback (если он есть) для указанного товара"
   ]
  },
  {
   "cell_type": "code",
   "execution_count": 6,
   "id": "2b1d7665",
   "metadata": {},
   "outputs": [],
   "source": [
    "def move_items_to_another_category(path_from: Path,\n",
    "                                   path_to: Path,\n",
    "                                   ind: list[int]):\n",
    "    from_path_card = path_from / \"card\"\n",
    "    from_path_feedbacks = path_from / \"feedbacks\"\n",
    "    from_paths_card_img = [from_path_card / f\"{i}.png\" for i in ind]\n",
    "    from_paths_feedbacks_img = [from_path_feedbacks / f\"{i}_feedbacks.png\" for i in ind]\n",
    "    check_feedbacks = [True if path.exists() else False for path in from_paths_feedbacks_img]\n",
    "\n",
    "    to_path_card = path_to / \"card\"\n",
    "    to_path_feedbacks = path_to / \"feedbacks\"\n",
    "    start_name = int(sorted(path_to.rglob(\"*.png\"), key=lambda x: int(x.stem.split('_')[0]))[-1].stem.split('_')[0])\n",
    "    to_paths_card_img = [to_path_card / f\"{i}.png\" for i in range(start_name+1, start_name+1+len(ind))]\n",
    "    to_paths_feedbacks_img = [to_path_feedbacks / f\"{i}_feedbacks.png\" for i in range(start_name+1, start_name+1+len(ind))]\n",
    "\n",
    "    from_descriptions = pd.read_csv(path_from / \"descriptions.csv\")\n",
    "    from_descriptions.set_index(['item'], inplace=True)\n",
    "    to_descriptions = pd.read_csv(path_to / \"descriptions.csv\")\n",
    "    to_descriptions.set_index(['item'], inplace=True)\n",
    "    \n",
    "    for i in range(len(ind)):\n",
    "        \n",
    "        # перемещение описания\n",
    "        try:\n",
    "            to_descriptions.loc[to_paths_card_img[i].parts[-1]] = from_descriptions.loc[from_paths_card_img[i].parts[-1]][\"description\"]\n",
    "            from_descriptions.drop(index=from_paths_card_img[i].parts[-1], inplace=True)\n",
    "        except Exception as e:\n",
    "            print(e)\n",
    "            return f\"Упало на description of {from_paths_card_img[i]}\"\n",
    "        \n",
    "        # перемещение card\n",
    "        try:\n",
    "            shutil.move(from_paths_card_img[i], to_paths_card_img[i])\n",
    "        except Exception as e:\n",
    "            print(e)\n",
    "            return f\"Упало на {from_paths_card_img[i]}\"\n",
    "        \n",
    "        # перемещение feedbacks\n",
    "        if check_feedbacks[i]:\n",
    "            try:\n",
    "                shutil.move(from_paths_feedbacks_img[i], to_paths_feedbacks_img[i])\n",
    "            except Exception as e:\n",
    "                print(e)\n",
    "                return f\"Упало на {from_paths_feedbacks_img[i]}\"\n",
    "            \n",
    "    from_descriptions.reset_index(inplace=True)\n",
    "    to_descriptions.reset_index(inplace=True)\n",
    "    from_descriptions.to_csv(path_from / \"descriptions.csv\", index=False)\n",
    "    to_descriptions.to_csv(path_to / \"descriptions.csv\", index=False)\n",
    "\n",
    "    return (from_paths_card_img, to_paths_card_img)"
   ]
  },
  {
   "cell_type": "code",
   "execution_count": 192,
   "id": "7da3fd07",
   "metadata": {},
   "outputs": [
    {
     "data": {
      "text/plain": [
       "([WindowsPath('C:/temp/!hse-mlds-project-year2/test/Ювелирные&изделия_Четки/card/1.png'),\n",
       "  WindowsPath('C:/temp/!hse-mlds-project-year2/test/Ювелирные&изделия_Четки/card/4.png'),\n",
       "  WindowsPath('C:/temp/!hse-mlds-project-year2/test/Ювелирные&изделия_Четки/card/6.png')],\n",
       " [WindowsPath('C:/temp/!hse-mlds-project-year2/test/Ювелирные&изделия_Часы/card/20.png'),\n",
       "  WindowsPath('C:/temp/!hse-mlds-project-year2/test/Ювелирные&изделия_Часы/card/21.png'),\n",
       "  WindowsPath('C:/temp/!hse-mlds-project-year2/test/Ювелирные&изделия_Часы/card/22.png')])"
      ]
     },
     "execution_count": 192,
     "metadata": {},
     "output_type": "execute_result"
    }
   ],
   "source": [
    "logs = move_items_to_another_category(path_from=root_dir / folders[2],\n",
    "                                      path_to=root_dir / folders[1],\n",
    "                                      ind=[1,4,6])\n",
    "logs"
   ]
  },
  {
   "cell_type": "markdown",
   "id": "d2556f37",
   "metadata": {},
   "source": [
    "проверка описания"
   ]
  },
  {
   "cell_type": "code",
   "execution_count": 13,
   "id": "604582ce",
   "metadata": {},
   "outputs": [],
   "source": [
    "path = root_dir / \"Зоотовары_Для&кошек_Транспортировка\"\n",
    "descriptions = pd.read_csv(path / \"descriptions.csv\")\n",
    "descriptions.set_index(['item'], inplace=True)"
   ]
  },
  {
   "cell_type": "code",
   "execution_count": 15,
   "id": "984e38b7",
   "metadata": {},
   "outputs": [],
   "source": [
    "path = root_dir / \"Зоотовары_Для&собак_Транспортировка\"\n",
    "descriptions2 = pd.read_csv(path / \"descriptions.csv\")\n",
    "descriptions2.set_index(['item'], inplace=True)"
   ]
  },
  {
   "cell_type": "code",
   "execution_count": 17,
   "id": "72c552b9",
   "metadata": {},
   "outputs": [
    {
     "data": {
      "text/plain": [
       "description    Представляем самую удобную сумку-переноску для...\n",
       "Name: 6.png, dtype: object"
      ]
     },
     "execution_count": 17,
     "metadata": {},
     "output_type": "execute_result"
    }
   ],
   "source": [
    "descriptions.iloc[6]"
   ]
  },
  {
   "cell_type": "code",
   "execution_count": 18,
   "id": "90f9ad87",
   "metadata": {},
   "outputs": [
    {
     "data": {
      "text/plain": [
       "description    Мягкая переноска для животных обеспечит непрев...\n",
       "Name: 9.png, dtype: object"
      ]
     },
     "execution_count": 18,
     "metadata": {},
     "output_type": "execute_result"
    }
   ],
   "source": [
    "descriptions.iloc[9]"
   ]
  },
  {
   "cell_type": "markdown",
   "id": "0d3017fe",
   "metadata": {},
   "source": [
    "## изменения датасета"
   ]
  },
  {
   "cell_type": "markdown",
   "id": "98876b3e",
   "metadata": {},
   "source": [
    "### Автотовары"
   ]
  },
  {
   "cell_type": "code",
   "execution_count": 7,
   "id": "1fcf4887",
   "metadata": {},
   "outputs": [],
   "source": [
    "shutil.rmtree(root_dir / \"Автотовары_Запчасти&на&легковые&автомобили_Автозапчасти\", ignore_errors=True)\n",
    "\n",
    "logs = move_items_to_another_category(path_from=root_dir / 'Автотовары_Автокосметика&и&автохимия_Уход&за&салоном',\n",
    "                                      path_to=root_dir / 'Автотовары_Аксессуары&в&салон&и&багажник_Ароматизаторы',\n",
    "                                      ind=[3, 4, 5, 7, 10, 13, 14, 16, 17, 18, 19])\n",
    "\n",
    "paths_to_img = delete_card_and_description(path=root_dir / \"Автотовары_Автокосметика&и&автохимия_Уход&за&салоном\",\n",
    "                                           ind=[2])\n",
    "\n",
    "logs = move_items_to_another_category(path_from=root_dir / 'Автотовары_Автокосметика&и&автохимия_Уход&за&стеклами&и&фарами',\n",
    "                                      path_to=root_dir / 'Автотовары_Масла&и&жидкости_Жидкости&эксплуатационные',\n",
    "                                      ind=[4, 9, 18, 19])\n",
    "\n",
    "paths_to_img = delete_card_and_description(path=root_dir / \"Автотовары_Внешний&тюнинг\",\n",
    "                                           ind=[1, 3, 8, 9, 11, 12, 16, 17, 18])\n",
    "\n",
    "logs = move_items_to_another_category(path_from=root_dir / 'Автотовары_Другие&аксессуары&и&доп.&оборудование_Охранные&системы',\n",
    "                                      path_to=root_dir / 'Автотовары_Аксессуары&в&салон&и&багажник_Аксессуары&для&водителя',\n",
    "                                      ind=[1, 11, 19])\n",
    "logs = move_items_to_another_category(path_from=root_dir / 'Автотовары_Другие&аксессуары&и&доп.&оборудование_Другие&автоаксессуары',\n",
    "                                      path_to=root_dir / 'Автотовары_Аксессуары&в&салон&и&багажник_Аксессуары&для&водителя',\n",
    "                                      ind=[0, 1, 3, 4, 8, 14])\n",
    "logs = move_items_to_another_category(path_from=root_dir / 'Автотовары_Автоэлектроника&и&навигация',\n",
    "                                      path_to=root_dir / 'Автотовары_Другие&аксессуары&и&доп.&оборудование_Электроника',\n",
    "                                      ind=[0, 2, 3, 4, 6, 8])\n",
    "\n",
    "shutil.rmtree(root_dir / \"Автотовары_Автоэлектроника&и&навигация\", ignore_errors=True)"
   ]
  },
  {
   "cell_type": "markdown",
   "id": "dab82b66",
   "metadata": {},
   "source": [
    "### Детям"
   ]
  },
  {
   "cell_type": "code",
   "execution_count": 8,
   "id": "ead343f7",
   "metadata": {},
   "outputs": [],
   "source": [
    "shutil.rmtree(root_dir / 'Детям_Подарки&детям_Вкусные&подарки', ignore_errors=True)\n",
    "shutil.rmtree(root_dir / 'Детям_Детский&транспорт_Белье', ignore_errors=True)\n",
    "shutil.rmtree(root_dir / 'Детям_Детский&транспорт_Одежда', ignore_errors=True)\n",
    "shutil.rmtree(root_dir / 'Детям_Детский&транспорт_Аксессуары', ignore_errors=True)\n",
    "\n",
    "logs = move_items_to_another_category(path_from=root_dir / 'Детям_Детский&транспорт_Обувь',\n",
    "                                      path_to=root_dir / 'Детям_Для&девочек_Обувь',\n",
    "                                      ind=[0, 1, 2, 3, 4, 6, 8, 9, 12, 16])\n",
    "\n",
    "shutil.rmtree(root_dir / 'Детям_Детский&транспорт_Обувь', ignore_errors=True)"
   ]
  },
  {
   "cell_type": "markdown",
   "id": "d83a0a21",
   "metadata": {},
   "source": [
    "### Зоотовары"
   ]
  },
  {
   "cell_type": "code",
   "execution_count": 80,
   "id": "027afb1d",
   "metadata": {},
   "outputs": [],
   "source": [
    "logs = move_items_to_another_category(path_from=root_dir / 'Зоотовары_Для&кошек_Транспортировка',\n",
    "                                      path_to=root_dir / 'Зоотовары_Транспортировка',\n",
    "                                      ind=[12, 15, 19])"
   ]
  },
  {
   "cell_type": "code",
   "execution_count": 81,
   "id": "139c97e0",
   "metadata": {},
   "outputs": [],
   "source": [
    "logs = move_items_to_another_category(path_from=root_dir / 'Зоотовары_Корм&и&лакомства',\n",
    "                                      path_to=root_dir / 'Зоотовары_Для&кошек_Корм&и&лакомства',\n",
    "                                      ind=[9])\n",
    "\n",
    "paths_to_img = delete_card_and_description(path=root_dir / \"Зоотовары_Для&кошек_Корм&и&лакомства\",\n",
    "                                           ind=[10])"
   ]
  },
  {
   "cell_type": "code",
   "execution_count": 102,
   "id": "7e97cdb0",
   "metadata": {},
   "outputs": [],
   "source": [
    "logs = move_items_to_another_category(path_from=root_dir / 'Зоотовары_Для&кошек_Лотки&и&наполнители',\n",
    "                                      path_to=root_dir / 'Зоотовары_Лотки&и&наполнители',\n",
    "                                      ind=[3,7,10,16,17,18,19])\n",
    "\n",
    "logs = move_items_to_another_category(path_from=root_dir / 'Зоотовары_Для&собак_Лотки,&пеленки',\n",
    "                                      path_to=root_dir / 'Зоотовары_Лотки&и&наполнители',\n",
    "                                      ind=[15,17,18,19])\n",
    "paths_to_img = delete_card_and_description(path=root_dir / \"Зоотовары_Лотки&и&наполнители\",\n",
    "                                           ind=[8,11])"
   ]
  },
  {
   "cell_type": "code",
   "execution_count": 99,
   "id": "d9f93635",
   "metadata": {},
   "outputs": [],
   "source": [
    "logs = move_items_to_another_category(path_from=root_dir / 'Зоотовары_Для&кошек_Аксессуары&для&кормления',\n",
    "                                      path_to=root_dir / 'Зоотовары_Аксессуары&для&кормления',\n",
    "                                      ind=[9,16,17,18,19])\n",
    "paths_to_img = delete_card_and_description(path=root_dir / \"Зоотовары_Аксессуары&для&кормления\",\n",
    "                                           ind=[8])"
   ]
  },
  {
   "cell_type": "code",
   "execution_count": 101,
   "id": "9a8a7c44",
   "metadata": {},
   "outputs": [],
   "source": [
    "logs = move_items_to_another_category(path_from=root_dir / 'Зоотовары_Для&собак_Амуниция&для&прогулки&и&дрессировки',\n",
    "                                      path_to=root_dir / 'Зоотовары_Амуниция&и&дрессировка',\n",
    "                                      ind=[4])\n",
    "logs = move_items_to_another_category(path_from=root_dir / 'Зоотовары_Для&собак_Амуниция&для&прогулки&и&дрессировки',\n",
    "                                      path_to=root_dir / 'Зоотовары_Лотки&и&наполнители',\n",
    "                                      ind=[11])\n",
    "logs = move_items_to_another_category(path_from=root_dir / 'Зоотовары_Для&кошек_Амуниция',\n",
    "                                      path_to=root_dir / 'Зоотовары_Амуниция&и&дрессировка',\n",
    "                                      ind=[0,3,5,8,9,10, 11, 12, 13, 14, 15, 16, 17, 18, 19])\n",
    "paths_to_img = delete_card_and_description(path=root_dir / \"Зоотовары_Амуниция&и&дрессировка\",\n",
    "                                           ind=[0,1])"
   ]
  },
  {
   "cell_type": "code",
   "execution_count": 85,
   "id": "77a49506",
   "metadata": {},
   "outputs": [],
   "source": [
    "logs = move_items_to_another_category(path_from=root_dir / 'Зоотовары_Для&кошек_Ветаптека',\n",
    "                                      path_to=root_dir / 'Зоотовары_Ветаптека',\n",
    "                                      ind=[1,12,13,14,16,17,19])\n",
    "logs = move_items_to_another_category(path_from=root_dir / 'Зоотовары_Для&собак_Ветаптека',\n",
    "                                      path_to=root_dir / 'Зоотовары_Ветаптека',\n",
    "                                      ind=[11,17,18,19])"
   ]
  },
  {
   "cell_type": "code",
   "execution_count": 86,
   "id": "a39c3511",
   "metadata": {},
   "outputs": [],
   "source": [
    "logs = move_items_to_another_category(path_from=root_dir / 'Зоотовары_Для&кошек_Груминг&и&уход',\n",
    "                                      path_to=root_dir / 'Зоотовары_Груминг&и&уход',\n",
    "                                      ind=[6,8,16])\n",
    "logs = move_items_to_another_category(path_from=root_dir / 'Зоотовары_Для&собак_Груминг&и&уход',\n",
    "                                      path_to=root_dir / 'Зоотовары_Груминг&и&уход',\n",
    "                                      ind=[19])"
   ]
  },
  {
   "cell_type": "code",
   "execution_count": 87,
   "id": "52775137",
   "metadata": {},
   "outputs": [],
   "source": [
    "logs = move_items_to_another_category(path_from=root_dir / 'Зоотовары_Для&собак_Игрушки',\n",
    "                                      path_to=root_dir / 'Зоотовары_Игрушки',\n",
    "                                      ind=[2,6,12,13,14,16,17,18,19])\n",
    "logs = move_items_to_another_category(path_from=root_dir / 'Зоотовары_Для&кошек_Игрушки&и&когтеточки',\n",
    "                                      path_to=root_dir / 'Зоотовары_Когтеточки&и&домики',\n",
    "                                      ind=[9,17,18])\n",
    "paths_to_img = delete_card_and_description(path=root_dir / \"Зоотовары_Игрушки\",\n",
    "                                           ind=[12])"
   ]
  },
  {
   "cell_type": "code",
   "execution_count": 88,
   "id": "9a8e2537",
   "metadata": {},
   "outputs": [],
   "source": [
    "logs = move_items_to_another_category(path_from=root_dir / 'Зоотовары_Для&кошек_Лежаки&и&домики',\n",
    "                                      path_to=root_dir / 'Зоотовары_Когтеточки&и&домики',\n",
    "                                      ind=[5, 6, 7, 8, 9, 10, 11, 12, 13, 14, 15, 16, 17, 18, 19])\n",
    "logs = move_items_to_another_category(path_from=root_dir / 'Зоотовары_Для&собак_Лежанки,&домики',\n",
    "                                      path_to=root_dir / 'Зоотовары_Когтеточки&и&домики',\n",
    "                                      ind=[3,12,15,16,17,18,19])"
   ]
  },
  {
   "cell_type": "code",
   "execution_count": 89,
   "id": "c8fd6b08",
   "metadata": {},
   "outputs": [],
   "source": [
    "logs = move_items_to_another_category(path_from=root_dir / 'Зоотовары_Для&собак_Одежда',\n",
    "                                      path_to=root_dir / 'Зоотовары_Одежда',\n",
    "                                      ind=[14,15,16,17,18])\n",
    "logs = move_items_to_another_category(path_from=root_dir / 'Зоотовары_Для&кошек_Одежда',\n",
    "                                      path_to=root_dir / 'Зоотовары_Одежда',\n",
    "                                      ind=[4,6,7,10,12,14,15,17,18,19])"
   ]
  },
  {
   "cell_type": "code",
   "execution_count": 90,
   "id": "99405576",
   "metadata": {},
   "outputs": [],
   "source": [
    "(root_dir / 'Зоотовары_Для&собак_Вольеры&и&клетки').rename(root_dir / 'Зоотовары_Вольеры&и&клетки')\n",
    "\n",
    "paths_to_img = delete_card_and_description(path=root_dir / \"Зоотовары_Когтеточки&и&домики\",\n",
    "                                           ind=[6,16,25,27,33,34])"
   ]
  },
  {
   "cell_type": "code",
   "execution_count": 91,
   "id": "f2263348",
   "metadata": {},
   "outputs": [],
   "source": [
    "logs = move_items_to_another_category(path_from=root_dir / 'Зоотовары_Для&птиц',\n",
    "                                      path_to=root_dir / 'Зоотовары_Груминг&и&уход',\n",
    "                                      ind=[3,7,13])\n",
    "paths_to_img = delete_card_and_description(path=root_dir / \"Зоотовары_Для&птиц\",\n",
    "                                           ind=[6,12])"
   ]
  },
  {
   "cell_type": "code",
   "execution_count": 92,
   "id": "c1bdc1e7",
   "metadata": {},
   "outputs": [],
   "source": [
    "logs = move_items_to_another_category(path_from=root_dir / 'Зоотовары_Для&лошадей',\n",
    "                                      path_to=root_dir / 'Зоотовары_Груминг&и&уход',\n",
    "                                      ind=[3,4,5,6, 7, 8, 9, 10, 11, 12, 13, 14, 15, 16, 17, 18, 19])"
   ]
  },
  {
   "cell_type": "code",
   "execution_count": 95,
   "id": "fa42a1dc",
   "metadata": {},
   "outputs": [],
   "source": [
    "paths_to_img = delete_card_and_description(path=root_dir / \"Зоотовары_Для&грызунов&и&хорьков\",\n",
    "                                           ind=[2,4,5,6,7,8,10,11,13,14,15,18])\n",
    "logs = move_items_to_another_category(path_from=root_dir / 'Зоотовары_Для&грызунов&и&хорьков',\n",
    "                                      path_to=root_dir / 'Зоотовары_Груминг&и&уход',\n",
    "                                      ind=[16,17])\n",
    "logs = move_items_to_another_category(path_from=root_dir / 'Зоотовары_Для&птиц',\n",
    "                                      path_to=root_dir / 'Зоотовары_Для&грызунов&и&хорьков',\n",
    "                                      ind=[10])"
   ]
  },
  {
   "cell_type": "code",
   "execution_count": 96,
   "id": "811c8f76",
   "metadata": {},
   "outputs": [],
   "source": [
    "paths_to_img = delete_card_and_description(path=root_dir / \"Зоотовары_Фермерство\",\n",
    "                                           ind=[0,6,8,9,10,13,18])\n",
    "paths_to_img = delete_card_and_description(path=root_dir / \"Зоотовары_Для&птиц\",\n",
    "                                           ind=[16])"
   ]
  },
  {
   "cell_type": "code",
   "execution_count": 97,
   "id": "4f17ff77",
   "metadata": {},
   "outputs": [],
   "source": [
    "logs = move_items_to_another_category(path_from=root_dir / 'Зоотовары_Аквариумистика_Корм&и&аксессуары&для&кормления',\n",
    "                                      path_to=root_dir / 'Зоотовары_Для&кошек_Корм&и&лакомства',\n",
    "                                      ind=[4,9])\n",
    "logs = move_items_to_another_category(path_from=root_dir / 'Зоотовары_Аквариумистика_Корм&и&аксессуары&для&кормления',\n",
    "                                      path_to=root_dir / 'Зоотовары_Фермерство',\n",
    "                                      ind=[16])"
   ]
  },
  {
   "cell_type": "code",
   "execution_count": 98,
   "id": "d9e31e2d",
   "metadata": {},
   "outputs": [],
   "source": [
    "paths_to_img = delete_card_and_description(path=root_dir / \"Зоотовары_Террариумистика\",\n",
    "                                           ind=[0,3,4,5,9,10,15,16,17,18,19])"
   ]
  },
  {
   "cell_type": "code",
   "execution_count": 94,
   "id": "79341e33",
   "metadata": {},
   "outputs": [],
   "source": [
    "shutil.rmtree(root_dir / \"Зоотовары_Для&кошек_Транспортировка\", ignore_errors=True)\n",
    "shutil.rmtree(root_dir / \"Зоотовары_Для&собак_Транспортировка\", ignore_errors=True)\n",
    "shutil.rmtree(root_dir / \"Зоотовары_Корм&и&лакомства\", ignore_errors=True)\n",
    "shutil.rmtree(root_dir / \"Зоотовары_Для&собак_Лотки,&пеленки\", ignore_errors=True)\n",
    "shutil.rmtree(root_dir / \"Зоотовары_Для&кошек_Лотки&и&наполнители\", ignore_errors=True)\n",
    "shutil.rmtree(root_dir / \"Зоотовары_Для&кошек_Аксессуары&для&кормления\", ignore_errors=True)\n",
    "shutil.rmtree(root_dir / \"Зоотовары_Для&собак_Аксессуары&для&кормления\", ignore_errors=True)\n",
    "shutil.rmtree(root_dir / \"Зоотовары_Для&собак_Амуниция&для&прогулки&и&дрессировки\", ignore_errors=True)\n",
    "shutil.rmtree(root_dir / \"Зоотовары_Для&кошек_Амуниция\", ignore_errors=True)\n",
    "shutil.rmtree(root_dir / \"Зоотовары_Для&кошек_Ветаптека\", ignore_errors=True)\n",
    "shutil.rmtree(root_dir / \"Зоотовары_Для&собак_Ветаптека\", ignore_errors=True)\n",
    "shutil.rmtree(root_dir / \"Зоотовары_Для&кошек_Груминг&и&уход\", ignore_errors=True)\n",
    "shutil.rmtree(root_dir / \"Зоотовары_Для&собак_Груминг&и&уход\", ignore_errors=True)\n",
    "shutil.rmtree(root_dir / \"Зоотовары_Для&кошек_Игрушки&и&когтеточки\", ignore_errors=True)\n",
    "shutil.rmtree(root_dir / \"Зоотовары_Для&собак_Игрушки\", ignore_errors=True)\n",
    "shutil.rmtree(root_dir / \"Зоотовары_Для&кошек_Лежаки&и&домики\", ignore_errors=True)\n",
    "shutil.rmtree(root_dir / \"Зоотовары_Для&собак_Лежанки,&домики\", ignore_errors=True)\n",
    "shutil.rmtree(root_dir / \"Зоотовары_Для&собак_Одежда\", ignore_errors=True)\n",
    "shutil.rmtree(root_dir / \"Зоотовары_Для&кошек_Одежда\", ignore_errors=True)\n",
    "shutil.rmtree(root_dir / \"Зоотовары_Для&лошадей\", ignore_errors=True)"
   ]
  },
  {
   "cell_type": "markdown",
   "id": "d76e669a",
   "metadata": {},
   "source": [
    "### Мебель"
   ]
  },
  {
   "cell_type": "code",
   "execution_count": 9,
   "id": "948c66b3",
   "metadata": {},
   "outputs": [],
   "source": [
    "logs = move_items_to_another_category(path_from=root_dir / 'Мебель_Мебель&для&спальни_Матрасы_Детские&матрасы',\n",
    "                                      path_to=root_dir / 'Мебель_Детская&мебель_Матрасы&детские',\n",
    "                                      ind=[2, 3, 5, 6, 8, 9, 10, 11, 12, 13, 14, 15, 16])\n",
    "\n",
    "shutil.rmtree(root_dir / \"Мебель_Мебель&для&спальни_Ламели&для&кровати\", ignore_errors=True)\n",
    "shutil.rmtree(root_dir / \"Мебель_Мебель&для&спальни_Матрасы_Детские&матрасы\", ignore_errors=True)\n",
    "\n",
    "paths_to_img = delete_card_and_description(path=root_dir / \"Мебель_Детская&мебель_Наматрасники&детские\",\n",
    "                                           ind=[14])\n",
    "paths_to_img = delete_card_and_description(path=root_dir / \"Мебель_Мебель&для&спальни_Наматрасники\",\n",
    "                                           ind=[2, 3, 4, 5, 6, 8, 9, 10, 11, 14, 16, 18])\n",
    "\n",
    "logs = move_items_to_another_category(path_from=root_dir / 'Мебель_Офисная&мебель_Стулья&и&кресла',\n",
    "                                      path_to=root_dir / 'Мебель_Компьютерная&и&геймерская&мебель_Кресла',\n",
    "                                      ind=[3, 4, 6, 11, 12, 15, 19])\n",
    "logs = move_items_to_another_category(path_from=root_dir / 'Мебель_Компьютерная&и&геймерская&мебель_Кресла',\n",
    "                                      path_to=root_dir / 'Мебель_Офисная&мебель_Стулья&и&кресла',\n",
    "                                      ind=[0, 1, 2, 3, 4, 7, 8, 10, 11, 13, 14, 19])\n",
    "\n",
    "paths_to_img = delete_card_and_description(path=root_dir / \"Мебель_Компьютерная&и&геймерская&мебель_Кресла\",\n",
    "                                           ind=[15, 18])\n",
    "paths_to_img = delete_card_and_description(path=root_dir / \"Мебель_Офисная&мебель_Стулья&и&кресла\",\n",
    "                                           ind=[2, 16])\n",
    "\n",
    "logs = move_items_to_another_category(path_from=root_dir / 'Мебель_Компьютерная&и&геймерская&мебель_Столы',\n",
    "                                      path_to=root_dir / 'Мебель_Офисная&мебель_Столы&офисные',\n",
    "                                      ind=[0, 1, 2, 3, 4, 5, 6, 7, 8, 9, 10, 11, 12, 13, 14, 15, 16, 17, 18, 19])\n",
    "\n",
    "shutil.rmtree(root_dir / \"Мебель_Компьютерная&и&геймерская&мебель_Столы\", ignore_errors=True)\n",
    "shutil.rmtree(root_dir / \"Мебель_Мебель&для&гостиной_Диваны&и&кресла\", ignore_errors=True)\n",
    "\n",
    "logs = move_items_to_another_category(path_from=root_dir / 'Мебель_Мебель&для&спальни_Банкетки&и&пуфы',\n",
    "                                      path_to=root_dir / 'Мебель_Диваны&и&кресла_Пуфы',\n",
    "                                      ind=[15, 16, 17])\n",
    "\n",
    "shutil.rmtree(root_dir / \"Мебель_Мебель&для&спальни_Банкетки&и&пуфы\", ignore_errors=True)\n",
    "\n",
    "logs = move_items_to_another_category(path_from=root_dir / 'Мебель_Столы&и&стулья_Стулья',\n",
    "                                      path_to=root_dir / 'Мебель_Диваны&и&кресла_Кресла',\n",
    "                                      ind=[6, 7, 8])\n",
    "\n",
    "paths_to_img = delete_card_and_description(path=root_dir / \"Мебель_Столы&и&стулья_Стулья\",\n",
    "                                           ind=[12, 18])\n",
    "\n",
    "logs = move_items_to_another_category(path_from=root_dir / 'Мебель_Мебель&для&прихожей_Тумбы&для&прихожей',\n",
    "                                      path_to=root_dir / 'Мебель_Мебель&для&спальни_Прикроватные&тумбы',\n",
    "                                      ind=[0, 1, 5, 11, 15, 16])\n",
    "\n",
    "logs = move_items_to_another_category(path_from=root_dir / 'Мебель_Мебель&для&гостиной_Тумбы',\n",
    "                                      path_to=root_dir / 'Мебель_Мебель&для&спальни_Прикроватные&тумбы',\n",
    "                                      ind=[0, 1, 5, 11, 15, 16])\n",
    "\n",
    "shutil.rmtree(root_dir / \"Мебель_Мебель&для&гостиной_Тумбы\", ignore_errors=True)"
   ]
  },
  {
   "cell_type": "markdown",
   "id": "ab862982",
   "metadata": {},
   "source": [
    "### Мужчинам"
   ]
  },
  {
   "cell_type": "code",
   "execution_count": 9,
   "id": "742ce704",
   "metadata": {},
   "outputs": [],
   "source": [
    "logs = move_items_to_another_category(path_from=root_dir / \"Мужчинам_Большие&размеры_Белье&и&плавки\",\n",
    "                                      path_to=root_dir / \"Мужчинам_Белье\",\n",
    "                                      ind=[7,8,10,11, 12, 13, 14, 15, 16, 17, 18, 19])\n",
    "logs = move_items_to_another_category(path_from=root_dir / \"Мужчинам_Большие&размеры_Брюки&и&джинсы\",\n",
    "                                      path_to=root_dir / \"Мужчинам_Джинсы\",\n",
    "                                      ind=[9,12,16])\n",
    "logs = move_items_to_another_category(path_from=root_dir / \"Мужчинам_Большие&размеры_Верхняя&одежда\",\n",
    "                                      path_to=root_dir / \"Мужчинам_Верхняя&одежда\",\n",
    "                                      ind=[2,7,10,14,15])\n",
    "logs = move_items_to_another_category(path_from=root_dir / \"Мужчинам_Большие&размеры_Джемперы&и&толстовки\",\n",
    "                                      path_to=root_dir / \"Мужчинам_Пиджаки,&жилеты&и&жакеты\",\n",
    "                                      ind=[18])\n",
    "logs = move_items_to_another_category(path_from=root_dir / \"Мужчинам_Большие&размеры_Костюмы&и&пиджаки\",\n",
    "                                      path_to=root_dir / \"Мужчинам_Костюмы\",\n",
    "                                      ind=[2,7,11,13,14,15,16,18,19])\n",
    "logs = move_items_to_another_category(path_from=root_dir / \"Мужчинам_Большие&размеры_Рубашки\",\n",
    "                                      path_to=root_dir / \"Мужчинам_Рубашки\",\n",
    "                                      ind=[1,6,9,11,13,15,16,19])\n",
    "logs = move_items_to_another_category(path_from=root_dir / \"Мужчинам_Большие&размеры_Футболки\",\n",
    "                                      path_to=root_dir / \"Мужчинам_Футболки\",\n",
    "                                      ind=[2,13,18,19])\n"
   ]
  },
  {
   "cell_type": "code",
   "execution_count": 9,
   "id": "565f1903",
   "metadata": {},
   "outputs": [],
   "source": [
    "logs = move_items_to_another_category(path_from=root_dir / \"Мужчинам_Для&высоких\",\n",
    "                                      path_to=root_dir / \"Мужчинам_Брюки\",\n",
    "                                      ind=[2])"
   ]
  },
  {
   "cell_type": "code",
   "execution_count": 10,
   "id": "9b38a023",
   "metadata": {},
   "outputs": [],
   "source": [
    "logs = move_items_to_another_category(path_from=root_dir / \"Мужчинам_Для&невысоких\",\n",
    "                                      path_to=root_dir / \"Мужчинам_Верхняя&одежда\",\n",
    "                                      ind=[2])\n",
    "logs = move_items_to_another_category(path_from=root_dir / \"Мужчинам_Для&невысоких\",\n",
    "                                      path_to=root_dir / \"Мужчинам_Костюмы\",\n",
    "                                      ind=[5])\n",
    "logs = move_items_to_another_category(path_from=root_dir / \"Мужчинам_Для&невысоких\",\n",
    "                                      path_to=root_dir / \"Мужчинам_Толстовки,&свитшоты&и&худи\",\n",
    "                                      ind=[6])\n",
    "logs = move_items_to_another_category(path_from=root_dir / \"Мужчинам_Для&невысоких\",\n",
    "                                      path_to=root_dir / \"Мужчинам_Футболки\",\n",
    "                                      ind=[7,9,11,14,19])\n",
    "logs = move_items_to_another_category(path_from=root_dir / \"Мужчинам_Для&невысоких\",\n",
    "                                      path_to=root_dir / \"Мужчинам_Футболки-поло\",\n",
    "                                      ind=[13])\n",
    "logs = move_items_to_another_category(path_from=root_dir / \"Мужчинам_Для&невысоких\",\n",
    "                                      path_to=root_dir / \"Мужчинам_Лонгсливы\",\n",
    "                                      ind=[17])"
   ]
  },
  {
   "cell_type": "code",
   "execution_count": 13,
   "id": "21c94687",
   "metadata": {},
   "outputs": [],
   "source": [
    "logs = move_items_to_another_category(path_from=root_dir / \"Мужчинам_Подарки&мужчинам_Белье\",\n",
    "                                      path_to=root_dir / \"Мужчинам_Белье\",\n",
    "                                      ind=[3,4,9,11,12,14,15,16,17,19])\n",
    "logs = move_items_to_another_category(path_from=root_dir / \"Мужчинам_Подарки&мужчинам_Белье\",\n",
    "                                      path_to=root_dir / \"Мужчинам_Подарки&мужчинам_Мужской&уход\",\n",
    "                                      ind=[18])\n"
   ]
  },
  {
   "cell_type": "code",
   "execution_count": 15,
   "id": "d3b5d856",
   "metadata": {},
   "outputs": [],
   "source": [
    "logs = move_items_to_another_category(path_from=root_dir / \"Мужчинам_Одежда&для&дома\",\n",
    "                                      path_to=root_dir / \"Мужчинам_Футболки\",\n",
    "                                      ind=[18,19])"
   ]
  },
  {
   "cell_type": "code",
   "execution_count": 17,
   "id": "10910e31",
   "metadata": {},
   "outputs": [
    {
     "name": "stdout",
     "output_type": "stream",
     "text": [
      "\"['18.png'] not found in axis\"\n"
     ]
    }
   ],
   "source": [
    "logs = move_items_to_another_category(path_from=root_dir / \"Мужчинам_Пляжная&одежда\",\n",
    "                                      path_to=root_dir / \"Мужчинам_Футболки\",\n",
    "                                      ind=[8,10,12,15,18])\n",
    "logs = move_items_to_another_category(path_from=root_dir / \"Мужчинам_Пляжная&одежда\",\n",
    "                                      path_to=root_dir / \"Мужчинам_Религиозная_Ислам\",\n",
    "                                      ind=[17,19])"
   ]
  },
  {
   "cell_type": "code",
   "execution_count": 18,
   "id": "704a4b29",
   "metadata": {},
   "outputs": [],
   "source": [
    "logs = move_items_to_another_category(path_from=root_dir / \"Мужчинам_Офис\",\n",
    "                                      path_to=root_dir / \"Мужчинам_Брюки\",\n",
    "                                      ind=[15,16,18])\n",
    "logs = move_items_to_another_category(path_from=root_dir / \"Мужчинам_Офис\",\n",
    "                                      path_to=root_dir / \"Мужчинам_Джемперы,&водолазки&и&кардиганы\",\n",
    "                                      ind=[8])"
   ]
  },
  {
   "cell_type": "code",
   "execution_count": 20,
   "id": "fc13417c",
   "metadata": {},
   "outputs": [],
   "source": [
    "logs = move_items_to_another_category(path_from=root_dir / \"Мужчинам_Религиозная_Православие\",\n",
    "                                      path_to=root_dir / \"Мужчинам_Рубашки\",\n",
    "                                      ind=[4,8,9,10,11,12,13,15,16,17,18,19])\n",
    "logs = move_items_to_another_category(path_from=root_dir / \"Мужчинам_Религиозная_Ислам\",\n",
    "                                      path_to=root_dir / \"Мужчинам_Рубашки\",\n",
    "                                      ind=[0,1,2,3,4,6,7,10,11,13,14,15,17,18])"
   ]
  },
  {
   "cell_type": "code",
   "execution_count": 7,
   "id": "54c2f138",
   "metadata": {},
   "outputs": [],
   "source": [
    "shutil.rmtree(root_dir / \"Мужчинам_Большие&размеры_Белье&и&плавки\", ignore_errors=True)\n",
    "shutil.rmtree(root_dir / \"Мужчинам_Большие&размеры_Брюки&и&джинсы\", ignore_errors=True)\n",
    "shutil.rmtree(root_dir / \"Мужчинам_Большие&размеры_Верхняя&одежда\", ignore_errors=True)\n",
    "shutil.rmtree(root_dir / \"Мужчинам_Большие&размеры_Джемперы&и&толстовки\", ignore_errors=True)\n",
    "shutil.rmtree(root_dir / \"Мужчинам_Большие&размеры_Костюмы&и&пиджаки\", ignore_errors=True)\n",
    "shutil.rmtree(root_dir / \"Мужчинам_Большие&размеры_Рубашки\", ignore_errors=True)\n",
    "shutil.rmtree(root_dir / \"Мужчинам_Большие&размеры_Футболки\", ignore_errors=True)\n",
    "shutil.rmtree(root_dir / \"Мужчинам_Для&высоких\", ignore_errors=True)\n",
    "shutil.rmtree(root_dir / \"Мужчинам_Для&невысоких\", ignore_errors=True)\n",
    "shutil.rmtree(root_dir / \"Мужчинам_Подарки&мужчинам_Белье\", ignore_errors=True)\n",
    "shutil.rmtree(root_dir / \"Мужчинам_Одежда&для&дома\", ignore_errors=True)\n",
    "shutil.rmtree(root_dir / \"Мужчинам_Офис\", ignore_errors=True)\n",
    "shutil.rmtree(root_dir / \"Мужчинам_Религиозная_Православие\", ignore_errors=True)\n",
    "shutil.rmtree(root_dir / \"Мужчинам_Пляжная&одежда\", ignore_errors=True)\n",
    "shutil.rmtree(root_dir / \"Мужчинам_Подарки&мужчинам_Продукты\", ignore_errors=True)\n",
    "shutil.rmtree(root_dir / \"Мужчинам_Подарки&мужчинам_Ювелирные&украшения\", ignore_errors=True)\n",
    "shutil.rmtree(root_dir / \"Мужчинам_Подарки&мужчинам_Шарики&и&упаковка\", ignore_errors=True)\n",
    "shutil.rmtree(root_dir / \"Мужчинам_Подарки&мужчинам_Хобби&и&творчество\", ignore_errors=True)\n",
    "shutil.rmtree(root_dir / \"Мужчинам_Подарки&мужчинам_Посуда\", ignore_errors=True)\n",
    "shutil.rmtree(root_dir / \"Мужчинам_Подарки&мужчинам_Открытки&и&сувениры\", ignore_errors=True)\n",
    "shutil.rmtree(root_dir / \"Мужчинам_Подарки&мужчинам_Канцелярия&и&книги\", ignore_errors=True)\n",
    "shutil.rmtree(root_dir / \"Мужчинам_Подарки&мужчинам_Именные&подарки\", ignore_errors=True)\n",
    "shutil.rmtree(root_dir / \"Мужчинам_Подарки&мужчинам_Игрушки\", ignore_errors=True)\n",
    "shutil.rmtree(root_dir / \"Мужчинам_Подарки&мужчинам_Для&дома\", ignore_errors=True)\n",
    "shutil.rmtree(root_dir / \"Мужчинам_Подарки&мужчинам_Автотовары\", ignore_errors=True)\n",
    "shutil.rmtree(root_dir / \"Мужчинам_Подарки&мужчинам_Аксессуары\", ignore_errors=True)\n",
    "shutil.rmtree(root_dir / \"Мужчинам_Подарки&мужчинам_Бижутерия\", ignore_errors=True)"
   ]
  },
  {
   "cell_type": "markdown",
   "id": "387cf1b0",
   "metadata": {},
   "source": [
    "### Обувь"
   ]
  },
  {
   "cell_type": "code",
   "execution_count": 10,
   "id": "578a87f0",
   "metadata": {},
   "outputs": [],
   "source": [
    "shutil.rmtree(root_dir / \"Обувь_Ортопедическая&обувь\", ignore_errors=True)\n",
    "\n",
    "paths_to_img = delete_card_and_description(path=root_dir / \"Обувь_Для&новорожденных\",\n",
    "                                           ind=[0])\n",
    "\n",
    "logs = move_items_to_another_category(path_from=root_dir / \"Обувь_Для&новорожденных\",\n",
    "                                      path_to=root_dir / \"Обувь_Детская_Для&девочек\",\n",
    "                                      ind=[2, 8, 9, 12])\n",
    "\n",
    "logs = move_items_to_another_category(path_from=root_dir / \"Обувь_Для&новорожденных\",\n",
    "                                      path_to=root_dir / \"Обувь_Детская_Для&мальчиков\",\n",
    "                                      ind=[17, 18])"
   ]
  },
  {
   "cell_type": "markdown",
   "id": "1fbfc35b",
   "metadata": {},
   "source": [
    "### Продукты"
   ]
  },
  {
   "cell_type": "code",
   "execution_count": 118,
   "id": "a97161c2",
   "metadata": {
    "scrolled": true
   },
   "outputs": [],
   "source": [
    "#folders"
   ]
  },
  {
   "cell_type": "code",
   "execution_count": 115,
   "id": "cb002d7e",
   "metadata": {},
   "outputs": [],
   "source": [
    "paths_to_img = delete_card_and_description(path=root_dir / \"Продукты_Бакалея_Орехи,&сухофрукты,&семечки\",\n",
    "                                           ind=[0,1,3,6,18])\n",
    "paths_to_img = delete_card_and_description(path=root_dir / \"Продукты_Напитки\",\n",
    "                                           ind=[0,8,10,12,14,15,16])\n",
    "paths_to_img = delete_card_and_description(path=root_dir / \"Продукты_Бакалея_Консервация\",\n",
    "                                           ind=[10])"
   ]
  },
  {
   "cell_type": "code",
   "execution_count": 116,
   "id": "732901b4",
   "metadata": {},
   "outputs": [],
   "source": [
    "shutil.rmtree(root_dir / \"Продукты_Вкусные&подарки\", ignore_errors=True)"
   ]
  },
  {
   "cell_type": "markdown",
   "id": "a2e4bb34",
   "metadata": {},
   "source": [
    "### Товары&для&взрослых"
   ]
  },
  {
   "cell_type": "code",
   "execution_count": 11,
   "id": "c5c0a7ba",
   "metadata": {},
   "outputs": [],
   "source": [
    "logs = move_items_to_another_category(path_from=root_dir / \"Товары&для&взрослых_Интимная&съедобная&косметика\",\n",
    "                                      path_to=root_dir / \"Товары&для&взрослых_Презервативы&и&лубриканты\",\n",
    "                                      ind=[13, 14, 16, 19])\n",
    "\n",
    "shutil.rmtree(root_dir / \"Товары&для&взрослых_Интимная&съедобная&косметика\", ignore_errors=True)"
   ]
  },
  {
   "cell_type": "markdown",
   "id": "f3f39a2b",
   "metadata": {},
   "source": [
    "### Электроника"
   ]
  },
  {
   "cell_type": "code",
   "execution_count": 12,
   "id": "243254fc",
   "metadata": {},
   "outputs": [
    {
     "name": "stdout",
     "output_type": "stream",
     "text": [
      "'3.png'\n"
     ]
    }
   ],
   "source": [
    "logs = move_items_to_another_category(path_from=root_dir / 'Электроника_Гарнитуры&и&наушники_Стилусы',\n",
    "                                      path_to=root_dir / 'Электроника_Смартфоны&и&телефоны_Стилусы',\n",
    "                                      ind=[3, 15, 16, 17, 18])\n",
    "\n",
    "shutil.rmtree(root_dir / 'Электроника_Гарнитуры&и&наушники_Стилусы', ignore_errors=True)\n",
    "\n",
    "logs = move_items_to_another_category(path_from=root_dir / 'Электроника_Детская&электроника',\n",
    "                                      path_to=root_dir / 'Электроника_Смартфоны&и&телефоны_Гарнитуры&и&наушники',\n",
    "                                      ind=[6, 10, 15, 16, 19])\n",
    "\n",
    "paths_to_img = delete_card_and_description(path=root_dir / \"Электроника_Детская&электроника\",\n",
    "                                           ind=[0, 1, 5, 8, 9, 11, 12, 13, 17, 18])\n",
    "\n",
    "logs = move_items_to_another_category(path_from=root_dir / 'Электроника_Смартфоны&и&телефоны_Аксессуары&для&планшетов',\n",
    "                                      path_to=root_dir / 'Электроника_Кабели&и&зарядные&устройства',\n",
    "                                      ind=[8, 9, 10, 11, 12, 13, 14, 16, 17, 18, 19])\n",
    "logs = move_items_to_another_category(path_from=root_dir / 'Электроника_Смартфоны&и&телефоны_Аксессуары&для&смартфонов',\n",
    "                                      path_to=root_dir / 'Электроника_Кабели&и&зарядные&устройства',\n",
    "                                      ind=[4])\n",
    "\n",
    "shutil.rmtree(root_dir / 'Электроника_Смартфоны&и&телефоны_Аксессуары&для&планшетов', ignore_errors=True)\n",
    "shutil.rmtree(root_dir / 'Электроника_Смартфоны&и&телефоны_Аксессуары&для&смартфонов', ignore_errors=True)\n",
    "\n",
    "logs = move_items_to_another_category(path_from=root_dir / 'Электроника_Ноутбуки&и&компьютеры_Внешние&накопители&информации',\n",
    "                                      path_to=root_dir / 'Электроника_Смартфоны&и&телефоны_Flash-накопители',\n",
    "                                      ind=[6, 9, 11, 16, 19])\n",
    "\n",
    "paths_to_img = delete_card_and_description(path=root_dir / \"Электроника_Ноутбуки&и&компьютеры_Внешние&накопители&информации\",\n",
    "                                           ind=[10, 13])\n",
    "\n",
    "logs = move_items_to_another_category(path_from=root_dir / 'Электроника_Смартфоны&и&телефоны_Flash-накопители',\n",
    "                                      path_to=root_dir / 'Электроника_Ноутбуки&и&компьютеры_Внешние&накопители&информации',\n",
    "                                      ind=[3, 6, 7, 8, 10, 14, 16, 17, 19])\n",
    "paths_to_img = delete_card_and_description(path=root_dir / \"Электроника_Смартфоны&и&телефоны_Flash-накопители\",\n",
    "                                           ind=[13])\n",
    "\n",
    "shutil.rmtree(root_dir / 'Электроника_Системы&безопасности_Аксессуары&для&систем&видеонаблюдения', ignore_errors=True)\n",
    "shutil.rmtree(root_dir / 'Электроника_ТВ,&Аудио,&Фото,&Видео&техника_Аксессуары&для&фото&и&видео&техники', ignore_errors=True)\n",
    "shutil.rmtree(root_dir / 'Электроника_ТВ,&Аудио,&Фото,&Видео&техника_Наушники&и&гарнитуры', ignore_errors=True)"
   ]
  },
  {
   "cell_type": "markdown",
   "id": "0724df1f",
   "metadata": {},
   "source": [
    "### Ювелирные&изделия"
   ]
  },
  {
   "cell_type": "code",
   "execution_count": 13,
   "id": "81dce852",
   "metadata": {},
   "outputs": [],
   "source": [
    "paths_to_img = delete_card_and_description(path=root_dir / \"Ювелирные&изделия_Украшения&из&серебра\",\n",
    "                                           ind=[0, 1, 2, 3, 5, 6, 7, 8, 9, 10, 11, 12, 13, 14, 15, 16, 17, 18, 19])\n",
    "paths_to_img = delete_card_and_description(path=root_dir / \"Ювелирные&изделия_Колье,&цепи,&шнурки\",\n",
    "                                           ind=[6])\n",
    "logs = move_items_to_another_category(path_from=root_dir / \"Ювелирные&изделия_Украшения&из&серебра\",\n",
    "                                      path_to=root_dir / \"Ювелирные&изделия_Подвески&и&шармы\",\n",
    "                                      ind=[4])\n",
    "paths_to_img = delete_card_and_description(path=root_dir / \"Ювелирные&изделия_Украшения&из&золота\",\n",
    "                                           ind=[0,1,2,4,5,6,7,8,9,12,13,19])\n",
    "logs = move_items_to_another_category(path_from=root_dir / \"Ювелирные&изделия_Украшения&из&золота\",\n",
    "                                      path_to=root_dir / \"Ювелирные&изделия_Колье,&цепи,&шнурки\",\n",
    "                                      ind=[10, 14, 17, 18])\n",
    "logs = move_items_to_another_category(path_from=root_dir / \"Ювелирные&изделия_Украшения&из&золота\",\n",
    "                                      path_to=root_dir / \"Ювелирные&изделия_Кольца\",\n",
    "                                      ind=[11, 15, 16])\n",
    "logs = move_items_to_another_category(path_from=root_dir / \"Ювелирные&изделия_Украшения&из&золота\",\n",
    "                                      path_to=root_dir / \"Ювелирные&изделия_Подвески&и&шармы\",\n",
    "                                      ind=[3])"
   ]
  },
  {
   "cell_type": "code",
   "execution_count": 14,
   "id": "d4355397",
   "metadata": {},
   "outputs": [],
   "source": [
    "shutil.rmtree(root_dir / \"Ювелирные&изделия_Украшения&из&серебра\", ignore_errors=True)\n",
    "shutil.rmtree(root_dir / \"Ювелирные&изделия_Украшения&из&золота\", ignore_errors=True)"
   ]
  },
  {
   "cell_type": "code",
   "execution_count": null,
   "id": "bb9098c9",
   "metadata": {},
   "outputs": [],
   "source": []
  }
 ],
 "metadata": {
  "kernelspec": {
   "display_name": "Python 3 (ipykernel)",
   "language": "python",
   "name": "python3"
  },
  "language_info": {
   "codemirror_mode": {
    "name": "ipython",
    "version": 3
   },
   "file_extension": ".py",
   "mimetype": "text/x-python",
   "name": "python",
   "nbconvert_exporter": "python",
   "pygments_lexer": "ipython3",
   "version": "3.9.13"
  },
  "toc": {
   "base_numbering": 1,
   "nav_menu": {},
   "number_sections": true,
   "sideBar": true,
   "skip_h1_title": false,
   "title_cell": "Table of Contents",
   "title_sidebar": "Contents",
   "toc_cell": false,
   "toc_position": {
    "height": "calc(100% - 180px)",
    "left": "10px",
    "top": "150px",
    "width": "384px"
   },
   "toc_section_display": true,
   "toc_window_display": true
  }
 },
 "nbformat": 4,
 "nbformat_minor": 5
}
