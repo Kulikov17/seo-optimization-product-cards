{
 "cells": [
  {
   "cell_type": "code",
   "execution_count": 4,
   "id": "8bc478c3",
   "metadata": {},
   "outputs": [],
   "source": [
    "# Необходимые импорты\n",
    "import requests\n",
    "from bs4 import BeautifulSoup\n",
    "from tqdm.notebook import tqdm\n",
    "import pandas as pd\n",
    "import numpy as np\n",
    "import time\n",
    "from tqdm.notebook import tqdm\n",
    "from selenium import webdriver\n",
    "from selenium.webdriver.common.by import By"
   ]
  },
  {
   "cell_type": "markdown",
   "id": "4cd3451e",
   "metadata": {},
   "source": [
    "# Парсинг 1-3 вложенности категорий"
   ]
  },
  {
   "cell_type": "markdown",
   "id": "6fbce50b",
   "metadata": {},
   "source": [
    "Не вошло в парсинг:\n",
    " - категории:\n",
    "  - \"Акции\", \"Цифровые товары\", \"Путешествия\"\n",
    " - под категории:\n",
    "  - В Книги \"Цифровые книги\", \"Цифровые аудиокниги\" "
   ]
  },
  {
   "cell_type": "code",
   "execution_count": 11,
   "id": "e4770954",
   "metadata": {},
   "outputs": [],
   "source": [
    "def check_3rd_category(category, check):\n",
    "    if len(check) == (len(category)-1):\n",
    "        division = len(category) // 2\n",
    "        check1 = (check[:division] == category[:division])\n",
    "        check2 = (check[-division:] == category[-division:])\n",
    "        if check1 or check2:\n",
    "            return False\n",
    "        return True\n",
    "    return True"
   ]
  },
  {
   "cell_type": "code",
   "execution_count": 40,
   "id": "2dc8accc",
   "metadata": {},
   "outputs": [],
   "source": [
    "def parsing_wb():\n",
    "    cols = ['category_1', 'category_2', 'category_3', 'url']\n",
    "    categories = {col: [] for col in cols}\n",
    "    \n",
    "    br = webdriver.Chrome()\n",
    "    br.get(\"https://www.wildberries.ru/catalog/zhenshchinam/bele\")\n",
    "    time.sleep(3)\n",
    "    page_add = br.page_source\n",
    "    tree1 = BeautifulSoup(page_add, 'html')\n",
    "    br.close()\n",
    "    \n",
    "    category_1 = tree1.find_all('li', {'class': 'menu-burger__main-list-item j-menu-main-item'})\n",
    "    category_1_name  = [category_1[i].a.text for i in range(len(category_1))][-4:-3]\n",
    "    category_1_href = [category_1[i].a.get('href') for i in range(len(category_1))][-4:-3]\n",
    "#    print(category_1_name[-3:])\n",
    "    print(category_1_name)\n",
    "    \n",
    "    for k in tqdm(range(len(category_1_href))):\n",
    "        print(f'Началась категория \"{category_1_name[k]}\"')\n",
    "        if category_1_name[k] == \"Народные Промыслы\":\n",
    "            categories['category_1'].append(category_1_name[k])\n",
    "            categories['category_2'].append(None)\n",
    "            categories['category_3'].append(None)\n",
    "            categories['url'].append(category_1_href[k])\n",
    "                        \n",
    "        br = webdriver.Chrome()\n",
    "        br.get(category_1_href[k])\n",
    "        time.sleep(3)\n",
    "        page_add = br.page_source\n",
    "        tree2 = BeautifulSoup(page_add, 'html')\n",
    "        br.close()\n",
    "\n",
    "        category_2 = tree2.find_all('a', {'class': 'j-menu-item'})\n",
    "        category_2_name  = [category_2[i].text for i in range(len(category_2))]\n",
    "        category_2_href = [\"https://www.wildberries.ru\" + category_2[i].get('href') for i in range(len(category_2))]\n",
    "        #print(category_2_name)\n",
    "\n",
    "        for j in range(len(category_2_href)):\n",
    "#             print(category_1_name[k] == \"Книги\")\n",
    "#             print(j)\n",
    "            if category_1_name[k] == \"Книги\" and j == 26:\n",
    "                break\n",
    "            br = webdriver.Chrome()\n",
    "            br.get(category_2_href[j])\n",
    "            time.sleep(3)\n",
    "            page_add = br.page_source\n",
    "            tree3 = BeautifulSoup(page_add, 'html')\n",
    "            br.close()\n",
    "\n",
    "            category_3 = tree3.find_all('a', {'class': 'catalog-category__link j-menu-item'})\n",
    "            category_3_name  = [category_3[i].text for i in range(len(category_3))]\n",
    "            if check_3rd_category(category=category_2_name, check=category_3_name):\n",
    "                category_3_href = [\"https://www.wildberries.ru\" + category_3[i].get('href') for i in range(len(category_3))]\n",
    "                for i in range(len(category_3_href)):\n",
    "                    categories['category_1'].append(category_1_name[k])\n",
    "                    categories['category_2'].append(category_2_name[j])\n",
    "                    categories['category_3'].append(category_3_name[i])\n",
    "                    categories['url'].append(category_3_href[i])\n",
    "            else:\n",
    "                #print(\"Нет 3ей категории\")\n",
    "                categories['category_1'].append(category_1_name[k])\n",
    "                categories['category_2'].append(category_2_name[j])\n",
    "                categories['category_3'].append(None)\n",
    "                categories['url'].append(category_2_href[j])\n",
    "    \n",
    "        df_cat = pd.DataFrame(categories)\n",
    "        df_cat.to_csv(f\"df_cat_{category_1_name[k]}.csv\", index=False)\n",
    "        print(f'Прошла категория \"{category_1_name[k]}\"')"
   ]
  },
  {
   "cell_type": "code",
   "execution_count": 41,
   "id": "df96ef4e",
   "metadata": {},
   "outputs": [
    {
     "name": "stdout",
     "output_type": "stream",
     "text": [
      "['Народные Промыслы']\n"
     ]
    },
    {
     "data": {
      "application/vnd.jupyter.widget-view+json": {
       "model_id": "77efeb0978894339a127ae7272eeadcc",
       "version_major": 2,
       "version_minor": 0
      },
      "text/plain": [
       "  0%|          | 0/1 [00:00<?, ?it/s]"
      ]
     },
     "metadata": {},
     "output_type": "display_data"
    },
    {
     "name": "stdout",
     "output_type": "stream",
     "text": [
      "Началась категория \"Народные Промыслы\"\n",
      "Прошла категория \"Народные Промыслы\"\n"
     ]
    }
   ],
   "source": [
    "parsing_wb()"
   ]
  },
  {
   "cell_type": "code",
   "execution_count": 33,
   "id": "17e64064",
   "metadata": {},
   "outputs": [
    {
     "name": "stdout",
     "output_type": "stream",
     "text": [
      "['Здоровье', 'Канцтовары', 'Цифровые товары']\n"
     ]
    },
    {
     "data": {
      "application/vnd.jupyter.widget-view+json": {
       "model_id": "0783bb2b57e74ac48864ff238a193cd0",
       "version_major": 2,
       "version_minor": 0
      },
      "text/plain": [
       "  0%|          | 0/7 [00:00<?, ?it/s]"
      ]
     },
     "metadata": {},
     "output_type": "display_data"
    },
    {
     "name": "stdout",
     "output_type": "stream",
     "text": [
      "Началась категория \"Книги\"\n",
      "Прошла категория \"Книги\"\n",
      "Началась категория \"Ювелирные изделия\"\n",
      "Прошла категория \"Ювелирные изделия\"\n",
      "Началась категория \"Для ремонта\"\n",
      "Прошла категория \"Для ремонта\"\n",
      "Началась категория \"Сад и дача\"\n",
      "Прошла категория \"Сад и дача\"\n",
      "Началась категория \"Здоровье\"\n",
      "Прошла категория \"Здоровье\"\n",
      "Началась категория \"Канцтовары\"\n",
      "Прошла категория \"Канцтовары\"\n",
      "Началась категория \"Цифровые товары\"\n",
      "Прошла категория \"Цифровые товары\"\n"
     ]
    }
   ],
   "source": [
    "parsing_wb()"
   ]
  },
  {
   "cell_type": "code",
   "execution_count": 198,
   "id": "beee0c63",
   "metadata": {},
   "outputs": [
    {
     "name": "stdout",
     "output_type": "stream",
     "text": [
      "['Здоровье', 'Канцтовары', 'Цифровые товары']\n"
     ]
    },
    {
     "data": {
      "application/vnd.jupyter.widget-view+json": {
       "model_id": "eca8153433ae4b1391af7497766b234a",
       "version_major": 2,
       "version_minor": 0
      },
      "text/plain": [
       "  0%|          | 0/23 [00:00<?, ?it/s]"
      ]
     },
     "metadata": {},
     "output_type": "display_data"
    },
    {
     "name": "stdout",
     "output_type": "stream",
     "text": [
      "Началась категория \"Женщинам\"\n",
      "Прошла категория \"Женщинам\"\n",
      "Началась категория \"Обувь\"\n",
      "Прошла категория \"Обувь\"\n",
      "Началась категория \"Детям\"\n",
      "Прошла категория \"Детям\"\n",
      "Началась категория \"Мужчинам\"\n",
      "Прошла категория \"Мужчинам\"\n",
      "Началась категория \"Дом\"\n",
      "Прошла категория \"Дом\"\n",
      "Началась категория \"Красота\"\n",
      "Прошла категория \"Красота\"\n",
      "Началась категория \"Аксессуары\"\n",
      "Прошла категория \"Аксессуары\"\n",
      "Началась категория \"Электроника\"\n",
      "Прошла категория \"Электроника\"\n",
      "Началась категория \"Игрушки\"\n",
      "Прошла категория \"Игрушки\"\n",
      "Началась категория \"Мебель\"\n",
      "Прошла категория \"Мебель\"\n",
      "Началась категория \"Товары для взрослых\"\n",
      "Прошла категория \"Товары для взрослых\"\n",
      "Началась категория \"Продукты\"\n",
      "Прошла категория \"Продукты\"\n",
      "Началась категория \"Бытовая техника\"\n",
      "Прошла категория \"Бытовая техника\"\n",
      "Началась категория \"Зоотовары\"\n",
      "Прошла категория \"Зоотовары\"\n",
      "Началась категория \"Спорт\"\n",
      "Прошла категория \"Спорт\"\n",
      "Началась категория \"Автотовары\"\n",
      "Прошла категория \"Автотовары\"\n",
      "Началась категория \"Книги\"\n"
     ]
    },
    {
     "ename": "WebDriverException",
     "evalue": "Message: unknown error: net::ERR_NAME_NOT_RESOLVED\n  (Session info: chrome=120.0.6099.225)\nStacktrace:\n\tGetHandleVerifier [0x00007FF6CC432142+3514994]\n\t(No symbol) [0x00007FF6CC050CE2]\n\t(No symbol) [0x00007FF6CBEF76AA]\n\t(No symbol) [0x00007FF6CBEEFB39]\n\t(No symbol) [0x00007FF6CBEE25DD]\n\t(No symbol) [0x00007FF6CBEE16FD]\n\t(No symbol) [0x00007FF6CBEE0746]\n\t(No symbol) [0x00007FF6CBEE06EB]\n\t(No symbol) [0x00007FF6CBEDEE3D]\n\t(No symbol) [0x00007FF6CBEDF603]\n\t(No symbol) [0x00007FF6CBEFA0FD]\n\t(No symbol) [0x00007FF6CBF82E01]\n\t(No symbol) [0x00007FF6CBF65FEA]\n\t(No symbol) [0x00007FF6CBF828F6]\n\t(No symbol) [0x00007FF6CBF65D93]\n\t(No symbol) [0x00007FF6CBF34BDC]\n\t(No symbol) [0x00007FF6CBF35C64]\n\tGetHandleVerifier [0x00007FF6CC45E16B+3695259]\n\tGetHandleVerifier [0x00007FF6CC4B6737+4057191]\n\tGetHandleVerifier [0x00007FF6CC4AE4E3+4023827]\n\tGetHandleVerifier [0x00007FF6CC1804F9+689705]\n\t(No symbol) [0x00007FF6CC05C048]\n\t(No symbol) [0x00007FF6CC058044]\n\t(No symbol) [0x00007FF6CC0581C9]\n\t(No symbol) [0x00007FF6CC0488C4]\n\tBaseThreadInitThunk [0x00007FFA50CE7344+20]\n\tRtlUserThreadStart [0x00007FFA511026B1+33]\n",
     "output_type": "error",
     "traceback": [
      "\u001b[1;31m---------------------------------------------------------------------------\u001b[0m",
      "\u001b[1;31mWebDriverException\u001b[0m                        Traceback (most recent call last)",
      "Cell \u001b[1;32mIn[198], line 1\u001b[0m\n\u001b[1;32m----> 1\u001b[0m \u001b[43mparsing_wb\u001b[49m\u001b[43m(\u001b[49m\u001b[43m)\u001b[49m\n",
      "Cell \u001b[1;32mIn[197], line 33\u001b[0m, in \u001b[0;36mparsing_wb\u001b[1;34m()\u001b[0m\n\u001b[0;32m     31\u001b[0m \u001b[38;5;28;01mfor\u001b[39;00m j \u001b[38;5;129;01min\u001b[39;00m \u001b[38;5;28mrange\u001b[39m(\u001b[38;5;28mlen\u001b[39m(category_2_href)):\n\u001b[0;32m     32\u001b[0m     br \u001b[38;5;241m=\u001b[39m webdriver\u001b[38;5;241m.\u001b[39mChrome()\n\u001b[1;32m---> 33\u001b[0m     \u001b[43mbr\u001b[49m\u001b[38;5;241;43m.\u001b[39;49m\u001b[43mget\u001b[49m\u001b[43m(\u001b[49m\u001b[43mcategory_2_href\u001b[49m\u001b[43m[\u001b[49m\u001b[43mj\u001b[49m\u001b[43m]\u001b[49m\u001b[43m)\u001b[49m\n\u001b[0;32m     34\u001b[0m     time\u001b[38;5;241m.\u001b[39msleep(\u001b[38;5;241m3\u001b[39m)\n\u001b[0;32m     35\u001b[0m     page_add \u001b[38;5;241m=\u001b[39m br\u001b[38;5;241m.\u001b[39mpage_source\n",
      "File \u001b[1;32mC:\\ProgramData\\anaconda3\\lib\\site-packages\\selenium\\webdriver\\remote\\webdriver.py:356\u001b[0m, in \u001b[0;36mWebDriver.get\u001b[1;34m(self, url)\u001b[0m\n\u001b[0;32m    354\u001b[0m \u001b[38;5;28;01mdef\u001b[39;00m \u001b[38;5;21mget\u001b[39m(\u001b[38;5;28mself\u001b[39m, url: \u001b[38;5;28mstr\u001b[39m) \u001b[38;5;241m-\u001b[39m\u001b[38;5;241m>\u001b[39m \u001b[38;5;28;01mNone\u001b[39;00m:\n\u001b[0;32m    355\u001b[0m     \u001b[38;5;124;03m\"\"\"Loads a web page in the current browser session.\"\"\"\u001b[39;00m\n\u001b[1;32m--> 356\u001b[0m     \u001b[38;5;28;43mself\u001b[39;49m\u001b[38;5;241;43m.\u001b[39;49m\u001b[43mexecute\u001b[49m\u001b[43m(\u001b[49m\u001b[43mCommand\u001b[49m\u001b[38;5;241;43m.\u001b[39;49m\u001b[43mGET\u001b[49m\u001b[43m,\u001b[49m\u001b[43m \u001b[49m\u001b[43m{\u001b[49m\u001b[38;5;124;43m\"\u001b[39;49m\u001b[38;5;124;43murl\u001b[39;49m\u001b[38;5;124;43m\"\u001b[39;49m\u001b[43m:\u001b[49m\u001b[43m \u001b[49m\u001b[43murl\u001b[49m\u001b[43m}\u001b[49m\u001b[43m)\u001b[49m\n",
      "File \u001b[1;32mC:\\ProgramData\\anaconda3\\lib\\site-packages\\selenium\\webdriver\\remote\\webdriver.py:347\u001b[0m, in \u001b[0;36mWebDriver.execute\u001b[1;34m(self, driver_command, params)\u001b[0m\n\u001b[0;32m    345\u001b[0m response \u001b[38;5;241m=\u001b[39m \u001b[38;5;28mself\u001b[39m\u001b[38;5;241m.\u001b[39mcommand_executor\u001b[38;5;241m.\u001b[39mexecute(driver_command, params)\n\u001b[0;32m    346\u001b[0m \u001b[38;5;28;01mif\u001b[39;00m response:\n\u001b[1;32m--> 347\u001b[0m     \u001b[38;5;28;43mself\u001b[39;49m\u001b[38;5;241;43m.\u001b[39;49m\u001b[43merror_handler\u001b[49m\u001b[38;5;241;43m.\u001b[39;49m\u001b[43mcheck_response\u001b[49m\u001b[43m(\u001b[49m\u001b[43mresponse\u001b[49m\u001b[43m)\u001b[49m\n\u001b[0;32m    348\u001b[0m     response[\u001b[38;5;124m\"\u001b[39m\u001b[38;5;124mvalue\u001b[39m\u001b[38;5;124m\"\u001b[39m] \u001b[38;5;241m=\u001b[39m \u001b[38;5;28mself\u001b[39m\u001b[38;5;241m.\u001b[39m_unwrap_value(response\u001b[38;5;241m.\u001b[39mget(\u001b[38;5;124m\"\u001b[39m\u001b[38;5;124mvalue\u001b[39m\u001b[38;5;124m\"\u001b[39m, \u001b[38;5;28;01mNone\u001b[39;00m))\n\u001b[0;32m    349\u001b[0m     \u001b[38;5;28;01mreturn\u001b[39;00m response\n",
      "File \u001b[1;32mC:\\ProgramData\\anaconda3\\lib\\site-packages\\selenium\\webdriver\\remote\\errorhandler.py:229\u001b[0m, in \u001b[0;36mErrorHandler.check_response\u001b[1;34m(self, response)\u001b[0m\n\u001b[0;32m    227\u001b[0m         alert_text \u001b[38;5;241m=\u001b[39m value[\u001b[38;5;124m\"\u001b[39m\u001b[38;5;124malert\u001b[39m\u001b[38;5;124m\"\u001b[39m]\u001b[38;5;241m.\u001b[39mget(\u001b[38;5;124m\"\u001b[39m\u001b[38;5;124mtext\u001b[39m\u001b[38;5;124m\"\u001b[39m)\n\u001b[0;32m    228\u001b[0m     \u001b[38;5;28;01mraise\u001b[39;00m exception_class(message, screen, stacktrace, alert_text)  \u001b[38;5;66;03m# type: ignore[call-arg]  # mypy is not smart enough here\u001b[39;00m\n\u001b[1;32m--> 229\u001b[0m \u001b[38;5;28;01mraise\u001b[39;00m exception_class(message, screen, stacktrace)\n",
      "\u001b[1;31mWebDriverException\u001b[0m: Message: unknown error: net::ERR_NAME_NOT_RESOLVED\n  (Session info: chrome=120.0.6099.225)\nStacktrace:\n\tGetHandleVerifier [0x00007FF6CC432142+3514994]\n\t(No symbol) [0x00007FF6CC050CE2]\n\t(No symbol) [0x00007FF6CBEF76AA]\n\t(No symbol) [0x00007FF6CBEEFB39]\n\t(No symbol) [0x00007FF6CBEE25DD]\n\t(No symbol) [0x00007FF6CBEE16FD]\n\t(No symbol) [0x00007FF6CBEE0746]\n\t(No symbol) [0x00007FF6CBEE06EB]\n\t(No symbol) [0x00007FF6CBEDEE3D]\n\t(No symbol) [0x00007FF6CBEDF603]\n\t(No symbol) [0x00007FF6CBEFA0FD]\n\t(No symbol) [0x00007FF6CBF82E01]\n\t(No symbol) [0x00007FF6CBF65FEA]\n\t(No symbol) [0x00007FF6CBF828F6]\n\t(No symbol) [0x00007FF6CBF65D93]\n\t(No symbol) [0x00007FF6CBF34BDC]\n\t(No symbol) [0x00007FF6CBF35C64]\n\tGetHandleVerifier [0x00007FF6CC45E16B+3695259]\n\tGetHandleVerifier [0x00007FF6CC4B6737+4057191]\n\tGetHandleVerifier [0x00007FF6CC4AE4E3+4023827]\n\tGetHandleVerifier [0x00007FF6CC1804F9+689705]\n\t(No symbol) [0x00007FF6CC05C048]\n\t(No symbol) [0x00007FF6CC058044]\n\t(No symbol) [0x00007FF6CC0581C9]\n\t(No symbol) [0x00007FF6CC0488C4]\n\tBaseThreadInitThunk [0x00007FFA50CE7344+20]\n\tRtlUserThreadStart [0x00007FFA511026B1+33]\n"
     ]
    }
   ],
   "source": [
    "parsing_wb()"
   ]
  },
  {
   "cell_type": "code",
   "execution_count": 42,
   "id": "5b2beccf",
   "metadata": {},
   "outputs": [],
   "source": [
    "df1 = pd.read_csv(\"df_cat_Автотовары.csv\")\n",
    "df2 = pd.read_csv(\"df_cat_Канцтовары.csv\")\n",
    "df3 = pd.read_csv(\"df_cat_Народные Промыслы.csv\")"
   ]
  },
  {
   "cell_type": "code",
   "execution_count": 49,
   "id": "f637a21a",
   "metadata": {},
   "outputs": [
    {
     "data": {
      "text/html": [
       "<div>\n",
       "<style scoped>\n",
       "    .dataframe tbody tr th:only-of-type {\n",
       "        vertical-align: middle;\n",
       "    }\n",
       "\n",
       "    .dataframe tbody tr th {\n",
       "        vertical-align: top;\n",
       "    }\n",
       "\n",
       "    .dataframe thead th {\n",
       "        text-align: right;\n",
       "    }\n",
       "</style>\n",
       "<table border=\"1\" class=\"dataframe\">\n",
       "  <thead>\n",
       "    <tr style=\"text-align: right;\">\n",
       "      <th></th>\n",
       "      <th>category_1</th>\n",
       "      <th>category_2</th>\n",
       "      <th>category_3</th>\n",
       "      <th>url</th>\n",
       "    </tr>\n",
       "  </thead>\n",
       "  <tbody>\n",
       "    <tr>\n",
       "      <th>0</th>\n",
       "      <td>Женщинам</td>\n",
       "      <td>Блузки и рубашки</td>\n",
       "      <td>NaN</td>\n",
       "      <td>https://www.wildberries.ru/catalog/zhenshchina...</td>\n",
       "    </tr>\n",
       "    <tr>\n",
       "      <th>1</th>\n",
       "      <td>Женщинам</td>\n",
       "      <td>Брюки</td>\n",
       "      <td>NaN</td>\n",
       "      <td>https://www.wildberries.ru/catalog/zhenshchina...</td>\n",
       "    </tr>\n",
       "    <tr>\n",
       "      <th>2</th>\n",
       "      <td>Женщинам</td>\n",
       "      <td>Верхняя одежда</td>\n",
       "      <td>NaN</td>\n",
       "      <td>https://www.wildberries.ru/catalog/zhenshchina...</td>\n",
       "    </tr>\n",
       "    <tr>\n",
       "      <th>3</th>\n",
       "      <td>Женщинам</td>\n",
       "      <td>Джемперы, водолазки и кардиганы</td>\n",
       "      <td>NaN</td>\n",
       "      <td>https://www.wildberries.ru/catalog/zhenshchina...</td>\n",
       "    </tr>\n",
       "    <tr>\n",
       "      <th>4</th>\n",
       "      <td>Женщинам</td>\n",
       "      <td>Джинсы</td>\n",
       "      <td>NaN</td>\n",
       "      <td>https://www.wildberries.ru/catalog/zhenshchina...</td>\n",
       "    </tr>\n",
       "    <tr>\n",
       "      <th>...</th>\n",
       "      <td>...</td>\n",
       "      <td>...</td>\n",
       "      <td>...</td>\n",
       "      <td>...</td>\n",
       "    </tr>\n",
       "    <tr>\n",
       "      <th>1442</th>\n",
       "      <td>Канцтовары</td>\n",
       "      <td>Рисование и лепка</td>\n",
       "      <td>NaN</td>\n",
       "      <td>https://www.wildberries.ru/catalog/knigi-i-kan...</td>\n",
       "    </tr>\n",
       "    <tr>\n",
       "      <th>1443</th>\n",
       "      <td>Канцтовары</td>\n",
       "      <td>Счетный материал</td>\n",
       "      <td>NaN</td>\n",
       "      <td>https://www.wildberries.ru/catalog/knigi-i-dis...</td>\n",
       "    </tr>\n",
       "    <tr>\n",
       "      <th>1444</th>\n",
       "      <td>Канцтовары</td>\n",
       "      <td>Торговые принадлежности</td>\n",
       "      <td>NaN</td>\n",
       "      <td>https://www.wildberries.ru/catalog/kantstovary...</td>\n",
       "    </tr>\n",
       "    <tr>\n",
       "      <th>1445</th>\n",
       "      <td>Канцтовары</td>\n",
       "      <td>Чертежные принадлежности</td>\n",
       "      <td>NaN</td>\n",
       "      <td>https://www.wildberries.ru/catalog/knigi-i-kan...</td>\n",
       "    </tr>\n",
       "    <tr>\n",
       "      <th>1446</th>\n",
       "      <td>Народные Промыслы</td>\n",
       "      <td>NaN</td>\n",
       "      <td>NaN</td>\n",
       "      <td>https://www.wildberries.ru/catalog/narodnye-kx...</td>\n",
       "    </tr>\n",
       "  </tbody>\n",
       "</table>\n",
       "<p>1447 rows × 4 columns</p>\n",
       "</div>"
      ],
      "text/plain": [
       "             category_1                       category_2 category_3  \\\n",
       "0              Женщинам                 Блузки и рубашки        NaN   \n",
       "1              Женщинам                            Брюки        NaN   \n",
       "2              Женщинам                   Верхняя одежда        NaN   \n",
       "3              Женщинам  Джемперы, водолазки и кардиганы        NaN   \n",
       "4              Женщинам                           Джинсы        NaN   \n",
       "...                 ...                              ...        ...   \n",
       "1442         Канцтовары                Рисование и лепка        NaN   \n",
       "1443         Канцтовары                 Счетный материал        NaN   \n",
       "1444         Канцтовары          Торговые принадлежности        NaN   \n",
       "1445         Канцтовары         Чертежные принадлежности        NaN   \n",
       "1446  Народные Промыслы                              NaN        NaN   \n",
       "\n",
       "                                                    url  \n",
       "0     https://www.wildberries.ru/catalog/zhenshchina...  \n",
       "1     https://www.wildberries.ru/catalog/zhenshchina...  \n",
       "2     https://www.wildberries.ru/catalog/zhenshchina...  \n",
       "3     https://www.wildberries.ru/catalog/zhenshchina...  \n",
       "4     https://www.wildberries.ru/catalog/zhenshchina...  \n",
       "...                                                 ...  \n",
       "1442  https://www.wildberries.ru/catalog/knigi-i-kan...  \n",
       "1443  https://www.wildberries.ru/catalog/knigi-i-dis...  \n",
       "1444  https://www.wildberries.ru/catalog/kantstovary...  \n",
       "1445  https://www.wildberries.ru/catalog/knigi-i-kan...  \n",
       "1446  https://www.wildberries.ru/catalog/narodnye-kx...  \n",
       "\n",
       "[1447 rows x 4 columns]"
      ]
     },
     "execution_count": 49,
     "metadata": {},
     "output_type": "execute_result"
    }
   ],
   "source": [
    "frames = [df1, df2, df3]\n",
    " \n",
    "result = pd.concat(frames)\n",
    "result = result.reset_index(drop=True)\n",
    "result"
   ]
  },
  {
   "cell_type": "code",
   "execution_count": 50,
   "id": "3feb0992",
   "metadata": {},
   "outputs": [],
   "source": [
    "result.to_csv(\"wb_categories.csv\", index=False)"
   ]
  },
  {
   "cell_type": "markdown",
   "id": "3d76c63c",
   "metadata": {},
   "source": [
    "# Парсинг 4ой вложенности категорий"
   ]
  },
  {
   "cell_type": "code",
   "execution_count": 2,
   "id": "051be1c2",
   "metadata": {},
   "outputs": [
    {
     "data": {
      "text/html": [
       "<div>\n",
       "<style scoped>\n",
       "    .dataframe tbody tr th:only-of-type {\n",
       "        vertical-align: middle;\n",
       "    }\n",
       "\n",
       "    .dataframe tbody tr th {\n",
       "        vertical-align: top;\n",
       "    }\n",
       "\n",
       "    .dataframe thead th {\n",
       "        text-align: right;\n",
       "    }\n",
       "</style>\n",
       "<table border=\"1\" class=\"dataframe\">\n",
       "  <thead>\n",
       "    <tr style=\"text-align: right;\">\n",
       "      <th></th>\n",
       "      <th>category_1</th>\n",
       "      <th>category_2</th>\n",
       "      <th>category_3</th>\n",
       "      <th>url</th>\n",
       "    </tr>\n",
       "  </thead>\n",
       "  <tbody>\n",
       "    <tr>\n",
       "      <th>0</th>\n",
       "      <td>Женщинам</td>\n",
       "      <td>Блузки и рубашки</td>\n",
       "      <td>NaN</td>\n",
       "      <td>https://www.wildberries.ru/catalog/zhenshchina...</td>\n",
       "    </tr>\n",
       "    <tr>\n",
       "      <th>1</th>\n",
       "      <td>Женщинам</td>\n",
       "      <td>Брюки</td>\n",
       "      <td>NaN</td>\n",
       "      <td>https://www.wildberries.ru/catalog/zhenshchina...</td>\n",
       "    </tr>\n",
       "    <tr>\n",
       "      <th>2</th>\n",
       "      <td>Женщинам</td>\n",
       "      <td>Верхняя одежда</td>\n",
       "      <td>NaN</td>\n",
       "      <td>https://www.wildberries.ru/catalog/zhenshchina...</td>\n",
       "    </tr>\n",
       "    <tr>\n",
       "      <th>3</th>\n",
       "      <td>Женщинам</td>\n",
       "      <td>Джемперы, водолазки и кардиганы</td>\n",
       "      <td>NaN</td>\n",
       "      <td>https://www.wildberries.ru/catalog/zhenshchina...</td>\n",
       "    </tr>\n",
       "    <tr>\n",
       "      <th>4</th>\n",
       "      <td>Женщинам</td>\n",
       "      <td>Джинсы</td>\n",
       "      <td>NaN</td>\n",
       "      <td>https://www.wildberries.ru/catalog/zhenshchina...</td>\n",
       "    </tr>\n",
       "    <tr>\n",
       "      <th>...</th>\n",
       "      <td>...</td>\n",
       "      <td>...</td>\n",
       "      <td>...</td>\n",
       "      <td>...</td>\n",
       "    </tr>\n",
       "    <tr>\n",
       "      <th>1442</th>\n",
       "      <td>Канцтовары</td>\n",
       "      <td>Рисование и лепка</td>\n",
       "      <td>NaN</td>\n",
       "      <td>https://www.wildberries.ru/catalog/knigi-i-kan...</td>\n",
       "    </tr>\n",
       "    <tr>\n",
       "      <th>1443</th>\n",
       "      <td>Канцтовары</td>\n",
       "      <td>Счетный материал</td>\n",
       "      <td>NaN</td>\n",
       "      <td>https://www.wildberries.ru/catalog/knigi-i-dis...</td>\n",
       "    </tr>\n",
       "    <tr>\n",
       "      <th>1444</th>\n",
       "      <td>Канцтовары</td>\n",
       "      <td>Торговые принадлежности</td>\n",
       "      <td>NaN</td>\n",
       "      <td>https://www.wildberries.ru/catalog/kantstovary...</td>\n",
       "    </tr>\n",
       "    <tr>\n",
       "      <th>1445</th>\n",
       "      <td>Канцтовары</td>\n",
       "      <td>Чертежные принадлежности</td>\n",
       "      <td>NaN</td>\n",
       "      <td>https://www.wildberries.ru/catalog/knigi-i-kan...</td>\n",
       "    </tr>\n",
       "    <tr>\n",
       "      <th>1446</th>\n",
       "      <td>Народные Промыслы</td>\n",
       "      <td>NaN</td>\n",
       "      <td>NaN</td>\n",
       "      <td>https://www.wildberries.ru/catalog/narodnye-kx...</td>\n",
       "    </tr>\n",
       "  </tbody>\n",
       "</table>\n",
       "<p>1447 rows × 4 columns</p>\n",
       "</div>"
      ],
      "text/plain": [
       "             category_1                       category_2 category_3  \\\n",
       "0              Женщинам                 Блузки и рубашки        NaN   \n",
       "1              Женщинам                            Брюки        NaN   \n",
       "2              Женщинам                   Верхняя одежда        NaN   \n",
       "3              Женщинам  Джемперы, водолазки и кардиганы        NaN   \n",
       "4              Женщинам                           Джинсы        NaN   \n",
       "...                 ...                              ...        ...   \n",
       "1442         Канцтовары                Рисование и лепка        NaN   \n",
       "1443         Канцтовары                 Счетный материал        NaN   \n",
       "1444         Канцтовары          Торговые принадлежности        NaN   \n",
       "1445         Канцтовары         Чертежные принадлежности        NaN   \n",
       "1446  Народные Промыслы                              NaN        NaN   \n",
       "\n",
       "                                                    url  \n",
       "0     https://www.wildberries.ru/catalog/zhenshchina...  \n",
       "1     https://www.wildberries.ru/catalog/zhenshchina...  \n",
       "2     https://www.wildberries.ru/catalog/zhenshchina...  \n",
       "3     https://www.wildberries.ru/catalog/zhenshchina...  \n",
       "4     https://www.wildberries.ru/catalog/zhenshchina...  \n",
       "...                                                 ...  \n",
       "1442  https://www.wildberries.ru/catalog/knigi-i-kan...  \n",
       "1443  https://www.wildberries.ru/catalog/knigi-i-dis...  \n",
       "1444  https://www.wildberries.ru/catalog/kantstovary...  \n",
       "1445  https://www.wildberries.ru/catalog/knigi-i-kan...  \n",
       "1446  https://www.wildberries.ru/catalog/narodnye-kx...  \n",
       "\n",
       "[1447 rows x 4 columns]"
      ]
     },
     "execution_count": 2,
     "metadata": {},
     "output_type": "execute_result"
    }
   ],
   "source": [
    "categories = pd.read_csv(\"wb_categories.csv\")\n",
    "categories"
   ]
  },
  {
   "cell_type": "code",
   "execution_count": 3,
   "id": "a1811f3d",
   "metadata": {},
   "outputs": [],
   "source": [
    "folders_name = []\n",
    "\n",
    "for i in range(len(categories)):\n",
    "    if str(categories.iloc[i][\"category_3\"]) == \"nan\":\n",
    "        if str(categories.iloc[i][\"category_2\"]) == \"nan\":\n",
    "            cat = list(categories.iloc[i][:1])\n",
    "        else:\n",
    "            cat = list(categories.iloc[i][:2])\n",
    "    else:\n",
    "        cat = list(categories.iloc[i][:3])\n",
    "    folder = \"_\".join([\"&\".join(i.split()) for i in cat])\n",
    "    folders_name.append(folder.replace(\":\", \"\"))"
   ]
  },
  {
   "cell_type": "code",
   "execution_count": 4,
   "id": "046ae517",
   "metadata": {},
   "outputs": [
    {
     "data": {
      "text/plain": [
       "('Детям_Детская&электроника_Игровые&консоли&и&игры',\n",
       " 'Детям_Детская&электроника_Смартфоны&и&телефоны',\n",
       " 'Электроника_Автоэлектроника&и&навигация_Запчасти&на&легковые&автомобили',\n",
       " 'Электроника_Автоэлектроника&и&навигация_Краски&и&грунтовки',\n",
       " 'Электроника_Автоэлектроника&и&навигация_Аксессуары&в&салон&и&багажник',\n",
       " 'Электроника_Автоэлектроника&и&навигация_Другие&аксессуары&и&доп.&оборудование',\n",
       " 'Электроника_Гарнитуры&и&наушники_Чехлы')"
      ]
     },
     "execution_count": 4,
     "metadata": {},
     "output_type": "execute_result"
    }
   ],
   "source": [
    "# не смогло спарситься из-за другой структуры (мб баг)\n",
    "folders_name[209], folders_name[217], folders_name[585], folders_name[588], folders_name[590], folders_name[593],\\\n",
    "folders_name[615]"
   ]
  },
  {
   "cell_type": "code",
   "execution_count": 5,
   "id": "2db530c7",
   "metadata": {},
   "outputs": [
    {
     "data": {
      "text/plain": [
       "('Дом_Кухня_Кружки',\n",
       " 'Дом_Кухня_Кухонный&текстиль',\n",
       " 'Дом_Кухня_Магниты',\n",
       " 'Дом_Предметы&интерьера_Картины&и&постеры',\n",
       " 'Дом_Предметы&интерьера_Фоторамки&и&фотоальбомы',\n",
       " 'Дом_Спальня_Постельные&принадлежности',\n",
       " 'Дом_Досуг&и&творчество_Творчество&и&рукоделие',\n",
       " 'Красота_Парфюмерия_Женские&ароматы',\n",
       " 'Красота_Парфюмерия_Мужские&ароматы',\n",
       " 'Электроника_Смартфоны&и&телефоны_Чехлы',\n",
       " 'Мебель_Мебель&для&спальни_Матрасы',\n",
       " 'Автотовары_Запчасти&на&легковые&автомобили_Ходовая&часть')"
      ]
     },
     "execution_count": 5,
     "metadata": {},
     "output_type": "execute_result"
    }
   ],
   "source": [
    "# не смогла спарситься из за 4ой вложенности категорий\n",
    "folders_name[324], folders_name[327], folders_name[328], folders_name[343], folders_name[350], folders_name[358],\\\n",
    "folders_name[377], folders_name[514], folders_name[515], folders_name[662], folders_name[776], folders_name[948]"
   ]
  },
  {
   "cell_type": "code",
   "execution_count": 6,
   "id": "8f8beb93",
   "metadata": {},
   "outputs": [],
   "source": [
    "categories_4_ind = [324, 327, 328, 343, 350, 358, 377, 514, 515, 662, 776, 948]\n",
    "categories_4 = [categories.iloc[i] for i in categories_4_ind]\n",
    "categories_4 = pd.DataFrame(categories_4)"
   ]
  },
  {
   "cell_type": "code",
   "execution_count": 7,
   "id": "a754fc56",
   "metadata": {},
   "outputs": [
    {
     "data": {
      "text/html": [
       "<div>\n",
       "<style scoped>\n",
       "    .dataframe tbody tr th:only-of-type {\n",
       "        vertical-align: middle;\n",
       "    }\n",
       "\n",
       "    .dataframe tbody tr th {\n",
       "        vertical-align: top;\n",
       "    }\n",
       "\n",
       "    .dataframe thead th {\n",
       "        text-align: right;\n",
       "    }\n",
       "</style>\n",
       "<table border=\"1\" class=\"dataframe\">\n",
       "  <thead>\n",
       "    <tr style=\"text-align: right;\">\n",
       "      <th></th>\n",
       "      <th>category_1</th>\n",
       "      <th>category_2</th>\n",
       "      <th>category_3</th>\n",
       "      <th>url</th>\n",
       "    </tr>\n",
       "  </thead>\n",
       "  <tbody>\n",
       "    <tr>\n",
       "      <th>324</th>\n",
       "      <td>Дом</td>\n",
       "      <td>Кухня</td>\n",
       "      <td>Кружки</td>\n",
       "      <td>https://www.wildberries.ru/catalog/kuhnya/posu...</td>\n",
       "    </tr>\n",
       "    <tr>\n",
       "      <th>327</th>\n",
       "      <td>Дом</td>\n",
       "      <td>Кухня</td>\n",
       "      <td>Кухонный текстиль</td>\n",
       "      <td>https://www.wildberries.ru/catalog/dom-i-dacha...</td>\n",
       "    </tr>\n",
       "    <tr>\n",
       "      <th>328</th>\n",
       "      <td>Дом</td>\n",
       "      <td>Кухня</td>\n",
       "      <td>Магниты</td>\n",
       "      <td>https://www.wildberries.ru/catalog/dom-i-dacha...</td>\n",
       "    </tr>\n",
       "    <tr>\n",
       "      <th>343</th>\n",
       "      <td>Дом</td>\n",
       "      <td>Предметы интерьера</td>\n",
       "      <td>Картины и постеры</td>\n",
       "      <td>https://www.wildberries.ru/catalog/dlya-doma/p...</td>\n",
       "    </tr>\n",
       "    <tr>\n",
       "      <th>350</th>\n",
       "      <td>Дом</td>\n",
       "      <td>Предметы интерьера</td>\n",
       "      <td>Фоторамки и фотоальбомы</td>\n",
       "      <td>https://www.wildberries.ru/catalog/dlya-doma/p...</td>\n",
       "    </tr>\n",
       "    <tr>\n",
       "      <th>358</th>\n",
       "      <td>Дом</td>\n",
       "      <td>Спальня</td>\n",
       "      <td>Постельные принадлежности</td>\n",
       "      <td>https://www.wildberries.ru/catalog/dlya-doma/p...</td>\n",
       "    </tr>\n",
       "    <tr>\n",
       "      <th>377</th>\n",
       "      <td>Дом</td>\n",
       "      <td>Досуг и творчество</td>\n",
       "      <td>Творчество и рукоделие</td>\n",
       "      <td>https://www.wildberries.ru/catalog/dom-i-dacha...</td>\n",
       "    </tr>\n",
       "    <tr>\n",
       "      <th>514</th>\n",
       "      <td>Красота</td>\n",
       "      <td>Парфюмерия</td>\n",
       "      <td>Женские ароматы</td>\n",
       "      <td>https://www.wildberries.ru/catalog/krasota/par...</td>\n",
       "    </tr>\n",
       "    <tr>\n",
       "      <th>515</th>\n",
       "      <td>Красота</td>\n",
       "      <td>Парфюмерия</td>\n",
       "      <td>Мужские ароматы</td>\n",
       "      <td>https://www.wildberries.ru/catalog/krasota/par...</td>\n",
       "    </tr>\n",
       "    <tr>\n",
       "      <th>662</th>\n",
       "      <td>Электроника</td>\n",
       "      <td>Смартфоны и телефоны</td>\n",
       "      <td>Чехлы</td>\n",
       "      <td>https://www.wildberries.ru/catalog/elektronika...</td>\n",
       "    </tr>\n",
       "    <tr>\n",
       "      <th>776</th>\n",
       "      <td>Мебель</td>\n",
       "      <td>Мебель для спальни</td>\n",
       "      <td>Матрасы</td>\n",
       "      <td>https://www.wildberries.ru/catalog/mebel/mebel...</td>\n",
       "    </tr>\n",
       "    <tr>\n",
       "      <th>948</th>\n",
       "      <td>Автотовары</td>\n",
       "      <td>Запчасти на легковые автомобили</td>\n",
       "      <td>Ходовая часть</td>\n",
       "      <td>https://www.wildberries.ru/catalog/avtotovary/...</td>\n",
       "    </tr>\n",
       "  </tbody>\n",
       "</table>\n",
       "</div>"
      ],
      "text/plain": [
       "      category_1                       category_2                 category_3  \\\n",
       "324          Дом                            Кухня                     Кружки   \n",
       "327          Дом                            Кухня          Кухонный текстиль   \n",
       "328          Дом                            Кухня                    Магниты   \n",
       "343          Дом               Предметы интерьера          Картины и постеры   \n",
       "350          Дом               Предметы интерьера    Фоторамки и фотоальбомы   \n",
       "358          Дом                          Спальня  Постельные принадлежности   \n",
       "377          Дом               Досуг и творчество     Творчество и рукоделие   \n",
       "514      Красота                       Парфюмерия            Женские ароматы   \n",
       "515      Красота                       Парфюмерия            Мужские ароматы   \n",
       "662  Электроника             Смартфоны и телефоны                      Чехлы   \n",
       "776       Мебель               Мебель для спальни                    Матрасы   \n",
       "948   Автотовары  Запчасти на легковые автомобили              Ходовая часть   \n",
       "\n",
       "                                                   url  \n",
       "324  https://www.wildberries.ru/catalog/kuhnya/posu...  \n",
       "327  https://www.wildberries.ru/catalog/dom-i-dacha...  \n",
       "328  https://www.wildberries.ru/catalog/dom-i-dacha...  \n",
       "343  https://www.wildberries.ru/catalog/dlya-doma/p...  \n",
       "350  https://www.wildberries.ru/catalog/dlya-doma/p...  \n",
       "358  https://www.wildberries.ru/catalog/dlya-doma/p...  \n",
       "377  https://www.wildberries.ru/catalog/dom-i-dacha...  \n",
       "514  https://www.wildberries.ru/catalog/krasota/par...  \n",
       "515  https://www.wildberries.ru/catalog/krasota/par...  \n",
       "662  https://www.wildberries.ru/catalog/elektronika...  \n",
       "776  https://www.wildberries.ru/catalog/mebel/mebel...  \n",
       "948  https://www.wildberries.ru/catalog/avtotovary/...  "
      ]
     },
     "execution_count": 7,
     "metadata": {},
     "output_type": "execute_result"
    }
   ],
   "source": [
    "categories_4"
   ]
  },
  {
   "cell_type": "code",
   "execution_count": 8,
   "id": "2c8f559d",
   "metadata": {},
   "outputs": [
    {
     "name": "stdout",
     "output_type": "stream",
     "text": [
      "https://www.wildberries.ru/catalog/kuhnya/posuda/bokaly-i-kruzhki/kruzhki\n",
      "https://www.wildberries.ru/catalog/dom-i-dacha/kuhnya/kuhonniy-tekstil\n",
      "https://www.wildberries.ru/catalog/dom-i-dacha/kuhnya/magnity\n",
      "https://www.wildberries.ru/catalog/dlya-doma/predmety-interera/kartiny\n",
      "https://www.wildberries.ru/catalog/dlya-doma/predmety-interera/fotoramki-i-fotoalbomy\n",
      "https://www.wildberries.ru/catalog/dlya-doma/postelnye-prinadlezhnosti\n",
      "https://www.wildberries.ru/catalog/dom-i-dacha/tvorchestvo-rukodelie\n",
      "https://www.wildberries.ru/catalog/krasota/parfyumeriya/zhenskie-aromaty\n",
      "https://www.wildberries.ru/catalog/krasota/parfyumeriya/muzhskie-aromaty\n",
      "https://www.wildberries.ru/catalog/elektronika/smartfony-i-telefony/chehly\n",
      "https://www.wildberries.ru/catalog/mebel/mebel-dlya-spalni/matrasy\n",
      "https://www.wildberries.ru/catalog/avtotovary/zapchasti-na-legkovye-avtomobili/hodovaya-chast\n"
     ]
    }
   ],
   "source": [
    "for i in range(len(categories_4)):\n",
    "    print(categories_4.iloc[i][\"url\"])"
   ]
  },
  {
   "cell_type": "code",
   "execution_count": 13,
   "id": "1f8c1261",
   "metadata": {},
   "outputs": [],
   "source": [
    "def parsing_wb_4category(categories_4):\n",
    "    cols = ['category_1', 'category_2', 'category_3', 'category_4', 'url']\n",
    "    categories = {col: [] for col in cols}\n",
    "    \n",
    "    for k in tqdm(range(len(categories_4))):\n",
    "        print(f'Началась категория \"{categories_4.iloc[k][\"category_3\"]}\"')\n",
    "                        \n",
    "        br = webdriver.Chrome()\n",
    "        br.get(categories_4.iloc[k][\"url\"])\n",
    "        time.sleep(3)\n",
    "        page_add = br.page_source\n",
    "        tree = BeautifulSoup(page_add, 'html')\n",
    "        br.close()\n",
    "    \n",
    "        category_4 = tree.find_all('a', {'class': 'catalog-category__link j-menu-item'})\n",
    "        category_4_name  = [category_4[i].text for i in range(len(category_4))]\n",
    "        category_4_href = [\"https://www.wildberries.ru\" + category_4[i].get('href') for i in range(len(category_4))]\n",
    "\n",
    "        for i in range(len(category_4_href)):\n",
    "            categories['category_1'].append(categories_4.iloc[k][\"category_1\"])\n",
    "            categories['category_2'].append(categories_4.iloc[k][\"category_2\"])\n",
    "            categories['category_3'].append(categories_4.iloc[k][\"category_3\"])\n",
    "            categories['category_4'].append(category_4_name[i])\n",
    "            categories['url'].append(category_4_href[i])\n",
    "        \n",
    "        df_cat = pd.DataFrame(categories)\n",
    "        df_cat.to_csv(f\"df_cat_{categories_4.iloc[k]['category_3']}.csv\", index=False)\n",
    "        print(f'Прошла категория \"{categories_4.iloc[k][\"category_3\"]}\"')"
   ]
  },
  {
   "cell_type": "code",
   "execution_count": 14,
   "id": "aa0a075f",
   "metadata": {},
   "outputs": [
    {
     "data": {
      "application/vnd.jupyter.widget-view+json": {
       "model_id": "eefad87fedcd4f27a4417a9f293ae7a2",
       "version_major": 2,
       "version_minor": 0
      },
      "text/plain": [
       "  0%|          | 0/12 [00:00<?, ?it/s]"
      ]
     },
     "metadata": {},
     "output_type": "display_data"
    },
    {
     "name": "stdout",
     "output_type": "stream",
     "text": [
      "Началась категория \"Кружки\"\n",
      "Прошла категория \"Кружки\"\n",
      "Началась категория \"Кухонный текстиль\"\n",
      "Прошла категория \"Кухонный текстиль\"\n",
      "Началась категория \"Магниты\"\n",
      "Прошла категория \"Магниты\"\n",
      "Началась категория \"Картины и постеры\"\n",
      "Прошла категория \"Картины и постеры\"\n",
      "Началась категория \"Фоторамки и фотоальбомы\"\n",
      "Прошла категория \"Фоторамки и фотоальбомы\"\n",
      "Началась категория \"Постельные принадлежности\"\n",
      "Прошла категория \"Постельные принадлежности\"\n",
      "Началась категория \"Творчество и рукоделие\"\n",
      "Прошла категория \"Творчество и рукоделие\"\n",
      "Началась категория \"Женские ароматы\"\n",
      "Прошла категория \"Женские ароматы\"\n",
      "Началась категория \"Мужские ароматы\"\n",
      "Прошла категория \"Мужские ароматы\"\n",
      "Началась категория \"Чехлы\"\n",
      "Прошла категория \"Чехлы\"\n",
      "Началась категория \"Матрасы\"\n",
      "Прошла категория \"Матрасы\"\n",
      "Началась категория \"Ходовая часть\"\n",
      "Прошла категория \"Ходовая часть\"\n"
     ]
    }
   ],
   "source": [
    "parsing_wb_4category(categories_4)"
   ]
  },
  {
   "cell_type": "code",
   "execution_count": 15,
   "id": "8ae5b1d8",
   "metadata": {},
   "outputs": [
    {
     "data": {
      "text/html": [
       "<div>\n",
       "<style scoped>\n",
       "    .dataframe tbody tr th:only-of-type {\n",
       "        vertical-align: middle;\n",
       "    }\n",
       "\n",
       "    .dataframe tbody tr th {\n",
       "        vertical-align: top;\n",
       "    }\n",
       "\n",
       "    .dataframe thead th {\n",
       "        text-align: right;\n",
       "    }\n",
       "</style>\n",
       "<table border=\"1\" class=\"dataframe\">\n",
       "  <thead>\n",
       "    <tr style=\"text-align: right;\">\n",
       "      <th></th>\n",
       "      <th>category_1</th>\n",
       "      <th>category_2</th>\n",
       "      <th>category_3</th>\n",
       "      <th>category_4</th>\n",
       "      <th>url</th>\n",
       "    </tr>\n",
       "  </thead>\n",
       "  <tbody>\n",
       "    <tr>\n",
       "      <th>0</th>\n",
       "      <td>Дом</td>\n",
       "      <td>Кухня</td>\n",
       "      <td>Кружки</td>\n",
       "      <td>Для глинтвейна</td>\n",
       "      <td>https://www.wildberries.ru/catalog/kuhnya/posu...</td>\n",
       "    </tr>\n",
       "    <tr>\n",
       "      <th>1</th>\n",
       "      <td>Дом</td>\n",
       "      <td>Кухня</td>\n",
       "      <td>Кружки</td>\n",
       "      <td>Для детей</td>\n",
       "      <td>https://www.wildberries.ru/catalog/kuhnya/posu...</td>\n",
       "    </tr>\n",
       "    <tr>\n",
       "      <th>2</th>\n",
       "      <td>Дом</td>\n",
       "      <td>Кухня</td>\n",
       "      <td>Кружки</td>\n",
       "      <td>Для кофе</td>\n",
       "      <td>https://www.wildberries.ru/catalog/kuhnya/posu...</td>\n",
       "    </tr>\n",
       "    <tr>\n",
       "      <th>3</th>\n",
       "      <td>Дом</td>\n",
       "      <td>Кухня</td>\n",
       "      <td>Кружки</td>\n",
       "      <td>Для чая</td>\n",
       "      <td>https://www.wildberries.ru/catalog/kuhnya/posu...</td>\n",
       "    </tr>\n",
       "    <tr>\n",
       "      <th>4</th>\n",
       "      <td>Дом</td>\n",
       "      <td>Кухня</td>\n",
       "      <td>Кружки</td>\n",
       "      <td>Заварочные</td>\n",
       "      <td>https://www.wildberries.ru/catalog/kuhnya/posu...</td>\n",
       "    </tr>\n",
       "    <tr>\n",
       "      <th>...</th>\n",
       "      <td>...</td>\n",
       "      <td>...</td>\n",
       "      <td>...</td>\n",
       "      <td>...</td>\n",
       "      <td>...</td>\n",
       "    </tr>\n",
       "    <tr>\n",
       "      <th>145</th>\n",
       "      <td>Автотовары</td>\n",
       "      <td>Запчасти на легковые автомобили</td>\n",
       "      <td>Ходовая часть</td>\n",
       "      <td>Амортизаторы и комплектующие</td>\n",
       "      <td>https://www.wildberries.ru/catalog/avtotovary/...</td>\n",
       "    </tr>\n",
       "    <tr>\n",
       "      <th>146</th>\n",
       "      <td>Автотовары</td>\n",
       "      <td>Запчасти на легковые автомобили</td>\n",
       "      <td>Ходовая часть</td>\n",
       "      <td>Рычаги подвески</td>\n",
       "      <td>https://www.wildberries.ru/catalog/avtotovary/...</td>\n",
       "    </tr>\n",
       "    <tr>\n",
       "      <th>147</th>\n",
       "      <td>Автотовары</td>\n",
       "      <td>Запчасти на легковые автомобили</td>\n",
       "      <td>Ходовая часть</td>\n",
       "      <td>Ступицы и подшипники</td>\n",
       "      <td>https://www.wildberries.ru/catalog/avtotovary/...</td>\n",
       "    </tr>\n",
       "    <tr>\n",
       "      <th>148</th>\n",
       "      <td>Автотовары</td>\n",
       "      <td>Запчасти на легковые автомобили</td>\n",
       "      <td>Ходовая часть</td>\n",
       "      <td>Стабилизаторы и комплектующие</td>\n",
       "      <td>https://www.wildberries.ru/catalog/avtotovary/...</td>\n",
       "    </tr>\n",
       "    <tr>\n",
       "      <th>149</th>\n",
       "      <td>Автотовары</td>\n",
       "      <td>Запчасти на легковые автомобили</td>\n",
       "      <td>Ходовая часть</td>\n",
       "      <td>Прочие компоненты подвески</td>\n",
       "      <td>https://www.wildberries.ru/catalog/avtotovary/...</td>\n",
       "    </tr>\n",
       "  </tbody>\n",
       "</table>\n",
       "<p>150 rows × 5 columns</p>\n",
       "</div>"
      ],
      "text/plain": [
       "     category_1                       category_2     category_3  \\\n",
       "0           Дом                            Кухня         Кружки   \n",
       "1           Дом                            Кухня         Кружки   \n",
       "2           Дом                            Кухня         Кружки   \n",
       "3           Дом                            Кухня         Кружки   \n",
       "4           Дом                            Кухня         Кружки   \n",
       "..          ...                              ...            ...   \n",
       "145  Автотовары  Запчасти на легковые автомобили  Ходовая часть   \n",
       "146  Автотовары  Запчасти на легковые автомобили  Ходовая часть   \n",
       "147  Автотовары  Запчасти на легковые автомобили  Ходовая часть   \n",
       "148  Автотовары  Запчасти на легковые автомобили  Ходовая часть   \n",
       "149  Автотовары  Запчасти на легковые автомобили  Ходовая часть   \n",
       "\n",
       "                        category_4  \\\n",
       "0                   Для глинтвейна   \n",
       "1                        Для детей   \n",
       "2                         Для кофе   \n",
       "3                          Для чая   \n",
       "4                       Заварочные   \n",
       "..                             ...   \n",
       "145   Амортизаторы и комплектующие   \n",
       "146                Рычаги подвески   \n",
       "147           Ступицы и подшипники   \n",
       "148  Стабилизаторы и комплектующие   \n",
       "149     Прочие компоненты подвески   \n",
       "\n",
       "                                                   url  \n",
       "0    https://www.wildberries.ru/catalog/kuhnya/posu...  \n",
       "1    https://www.wildberries.ru/catalog/kuhnya/posu...  \n",
       "2    https://www.wildberries.ru/catalog/kuhnya/posu...  \n",
       "3    https://www.wildberries.ru/catalog/kuhnya/posu...  \n",
       "4    https://www.wildberries.ru/catalog/kuhnya/posu...  \n",
       "..                                                 ...  \n",
       "145  https://www.wildberries.ru/catalog/avtotovary/...  \n",
       "146  https://www.wildberries.ru/catalog/avtotovary/...  \n",
       "147  https://www.wildberries.ru/catalog/avtotovary/...  \n",
       "148  https://www.wildberries.ru/catalog/avtotovary/...  \n",
       "149  https://www.wildberries.ru/catalog/avtotovary/...  \n",
       "\n",
       "[150 rows x 5 columns]"
      ]
     },
     "execution_count": 15,
     "metadata": {},
     "output_type": "execute_result"
    }
   ],
   "source": [
    "result = pd.read_csv(\"df_cat_Ходовая часть.csv\")\n",
    "result"
   ]
  },
  {
   "cell_type": "code",
   "execution_count": 16,
   "id": "4bc5b35c",
   "metadata": {},
   "outputs": [],
   "source": [
    "result.to_csv(\"wb_categories_4.csv\", index=False)"
   ]
  },
  {
   "cell_type": "markdown",
   "id": "30565304",
   "metadata": {},
   "source": [
    "# Парсинг 5ой вложенности категорий"
   ]
  },
  {
   "cell_type": "code",
   "execution_count": 4,
   "id": "423e0345",
   "metadata": {},
   "outputs": [
    {
     "data": {
      "text/html": [
       "<div>\n",
       "<style scoped>\n",
       "    .dataframe tbody tr th:only-of-type {\n",
       "        vertical-align: middle;\n",
       "    }\n",
       "\n",
       "    .dataframe tbody tr th {\n",
       "        vertical-align: top;\n",
       "    }\n",
       "\n",
       "    .dataframe thead th {\n",
       "        text-align: right;\n",
       "    }\n",
       "</style>\n",
       "<table border=\"1\" class=\"dataframe\">\n",
       "  <thead>\n",
       "    <tr style=\"text-align: right;\">\n",
       "      <th></th>\n",
       "      <th>category_1</th>\n",
       "      <th>category_2</th>\n",
       "      <th>category_3</th>\n",
       "      <th>category_4</th>\n",
       "      <th>url</th>\n",
       "    </tr>\n",
       "  </thead>\n",
       "  <tbody>\n",
       "    <tr>\n",
       "      <th>0</th>\n",
       "      <td>Дом</td>\n",
       "      <td>Кухня</td>\n",
       "      <td>Кружки</td>\n",
       "      <td>Для глинтвейна</td>\n",
       "      <td>https://www.wildberries.ru/catalog/kuhnya/posu...</td>\n",
       "    </tr>\n",
       "    <tr>\n",
       "      <th>1</th>\n",
       "      <td>Дом</td>\n",
       "      <td>Кухня</td>\n",
       "      <td>Кружки</td>\n",
       "      <td>Для детей</td>\n",
       "      <td>https://www.wildberries.ru/catalog/kuhnya/posu...</td>\n",
       "    </tr>\n",
       "    <tr>\n",
       "      <th>2</th>\n",
       "      <td>Дом</td>\n",
       "      <td>Кухня</td>\n",
       "      <td>Кружки</td>\n",
       "      <td>Для кофе</td>\n",
       "      <td>https://www.wildberries.ru/catalog/kuhnya/posu...</td>\n",
       "    </tr>\n",
       "    <tr>\n",
       "      <th>3</th>\n",
       "      <td>Дом</td>\n",
       "      <td>Кухня</td>\n",
       "      <td>Кружки</td>\n",
       "      <td>Для чая</td>\n",
       "      <td>https://www.wildberries.ru/catalog/kuhnya/posu...</td>\n",
       "    </tr>\n",
       "    <tr>\n",
       "      <th>4</th>\n",
       "      <td>Дом</td>\n",
       "      <td>Кухня</td>\n",
       "      <td>Кружки</td>\n",
       "      <td>Заварочные</td>\n",
       "      <td>https://www.wildberries.ru/catalog/kuhnya/posu...</td>\n",
       "    </tr>\n",
       "    <tr>\n",
       "      <th>...</th>\n",
       "      <td>...</td>\n",
       "      <td>...</td>\n",
       "      <td>...</td>\n",
       "      <td>...</td>\n",
       "      <td>...</td>\n",
       "    </tr>\n",
       "    <tr>\n",
       "      <th>145</th>\n",
       "      <td>Автотовары</td>\n",
       "      <td>Запчасти на легковые автомобили</td>\n",
       "      <td>Ходовая часть</td>\n",
       "      <td>Амортизаторы и комплектующие</td>\n",
       "      <td>https://www.wildberries.ru/catalog/avtotovary/...</td>\n",
       "    </tr>\n",
       "    <tr>\n",
       "      <th>146</th>\n",
       "      <td>Автотовары</td>\n",
       "      <td>Запчасти на легковые автомобили</td>\n",
       "      <td>Ходовая часть</td>\n",
       "      <td>Рычаги подвески</td>\n",
       "      <td>https://www.wildberries.ru/catalog/avtotovary/...</td>\n",
       "    </tr>\n",
       "    <tr>\n",
       "      <th>147</th>\n",
       "      <td>Автотовары</td>\n",
       "      <td>Запчасти на легковые автомобили</td>\n",
       "      <td>Ходовая часть</td>\n",
       "      <td>Ступицы и подшипники</td>\n",
       "      <td>https://www.wildberries.ru/catalog/avtotovary/...</td>\n",
       "    </tr>\n",
       "    <tr>\n",
       "      <th>148</th>\n",
       "      <td>Автотовары</td>\n",
       "      <td>Запчасти на легковые автомобили</td>\n",
       "      <td>Ходовая часть</td>\n",
       "      <td>Стабилизаторы и комплектующие</td>\n",
       "      <td>https://www.wildberries.ru/catalog/avtotovary/...</td>\n",
       "    </tr>\n",
       "    <tr>\n",
       "      <th>149</th>\n",
       "      <td>Автотовары</td>\n",
       "      <td>Запчасти на легковые автомобили</td>\n",
       "      <td>Ходовая часть</td>\n",
       "      <td>Прочие компоненты подвески</td>\n",
       "      <td>https://www.wildberries.ru/catalog/avtotovary/...</td>\n",
       "    </tr>\n",
       "  </tbody>\n",
       "</table>\n",
       "<p>150 rows × 5 columns</p>\n",
       "</div>"
      ],
      "text/plain": [
       "     category_1                       category_2     category_3  \\\n",
       "0           Дом                            Кухня         Кружки   \n",
       "1           Дом                            Кухня         Кружки   \n",
       "2           Дом                            Кухня         Кружки   \n",
       "3           Дом                            Кухня         Кружки   \n",
       "4           Дом                            Кухня         Кружки   \n",
       "..          ...                              ...            ...   \n",
       "145  Автотовары  Запчасти на легковые автомобили  Ходовая часть   \n",
       "146  Автотовары  Запчасти на легковые автомобили  Ходовая часть   \n",
       "147  Автотовары  Запчасти на легковые автомобили  Ходовая часть   \n",
       "148  Автотовары  Запчасти на легковые автомобили  Ходовая часть   \n",
       "149  Автотовары  Запчасти на легковые автомобили  Ходовая часть   \n",
       "\n",
       "                        category_4  \\\n",
       "0                   Для глинтвейна   \n",
       "1                        Для детей   \n",
       "2                         Для кофе   \n",
       "3                          Для чая   \n",
       "4                       Заварочные   \n",
       "..                             ...   \n",
       "145   Амортизаторы и комплектующие   \n",
       "146                Рычаги подвески   \n",
       "147           Ступицы и подшипники   \n",
       "148  Стабилизаторы и комплектующие   \n",
       "149     Прочие компоненты подвески   \n",
       "\n",
       "                                                   url  \n",
       "0    https://www.wildberries.ru/catalog/kuhnya/posu...  \n",
       "1    https://www.wildberries.ru/catalog/kuhnya/posu...  \n",
       "2    https://www.wildberries.ru/catalog/kuhnya/posu...  \n",
       "3    https://www.wildberries.ru/catalog/kuhnya/posu...  \n",
       "4    https://www.wildberries.ru/catalog/kuhnya/posu...  \n",
       "..                                                 ...  \n",
       "145  https://www.wildberries.ru/catalog/avtotovary/...  \n",
       "146  https://www.wildberries.ru/catalog/avtotovary/...  \n",
       "147  https://www.wildberries.ru/catalog/avtotovary/...  \n",
       "148  https://www.wildberries.ru/catalog/avtotovary/...  \n",
       "149  https://www.wildberries.ru/catalog/avtotovary/...  \n",
       "\n",
       "[150 rows x 5 columns]"
      ]
     },
     "execution_count": 4,
     "metadata": {},
     "output_type": "execute_result"
    }
   ],
   "source": [
    "categories_4 = pd.read_csv(\"wb_categories_4.csv\")\n",
    "categories_4"
   ]
  },
  {
   "cell_type": "code",
   "execution_count": 5,
   "id": "0062346e",
   "metadata": {},
   "outputs": [],
   "source": [
    "folders_name = []\n",
    "\n",
    "for i in range(len(categories_4)):\n",
    "    cat = list(categories_4.iloc[i][:4])\n",
    "    folder = \"_\".join([\"&\".join(i.split()) for i in cat])\n",
    "    folders_name.append(folder.replace(\":\", \"\"))"
   ]
  },
  {
   "cell_type": "code",
   "execution_count": 6,
   "id": "36012ebd",
   "metadata": {},
   "outputs": [
    {
     "data": {
      "text/plain": [
       "'Дом_Спальня_Постельные&принадлежности_Матрасы'"
      ]
     },
     "execution_count": 6,
     "metadata": {},
     "output_type": "execute_result"
    }
   ],
   "source": [
    "# не смогло спарситься из-за другой структуры (мб баг)\n",
    "folders_name[64]"
   ]
  },
  {
   "cell_type": "code",
   "execution_count": 7,
   "id": "a9d37a15",
   "metadata": {},
   "outputs": [
    {
     "data": {
      "text/plain": [
       "('Дом_Предметы&интерьера_Картины&и&постеры_Картины',\n",
       " 'Дом_Предметы&интерьера_Картины&и&постеры_Постеры',\n",
       " 'Дом_Досуг&и&творчество_Творчество&и&рукоделие_Аксессуары&и&материалы&для&рукоделия',\n",
       " 'Электроника_Смартфоны&и&телефоны_Чехлы_Чехлы&для&телефонов&Apple',\n",
       " 'Электроника_Смартфоны&и&телефоны_Чехлы_Чехлы&для&телефонов&Xiaomi',\n",
       " 'Электроника_Смартфоны&и&телефоны_Чехлы_Чехлы&для&телефонов&Samsung')"
      ]
     },
     "execution_count": 7,
     "metadata": {},
     "output_type": "execute_result"
    }
   ],
   "source": [
    "# не смогла спарситься из за 5ой вложенности категорий\n",
    "folders_name[49], folders_name[53], folders_name[76], folders_name[127], folders_name[128], folders_name[129]"
   ]
  },
  {
   "cell_type": "code",
   "execution_count": 15,
   "id": "7a763888",
   "metadata": {},
   "outputs": [],
   "source": [
    "categories_5_ind = [49, 53, 76, 127, 128, 129]\n",
    "categories_5 = [categories.iloc[i] for i in categories_5_ind]\n",
    "categories_5 = pd.DataFrame(categories_5)"
   ]
  },
  {
   "cell_type": "code",
   "execution_count": 16,
   "id": "160a89c2",
   "metadata": {},
   "outputs": [
    {
     "data": {
      "text/html": [
       "<div>\n",
       "<style scoped>\n",
       "    .dataframe tbody tr th:only-of-type {\n",
       "        vertical-align: middle;\n",
       "    }\n",
       "\n",
       "    .dataframe tbody tr th {\n",
       "        vertical-align: top;\n",
       "    }\n",
       "\n",
       "    .dataframe thead th {\n",
       "        text-align: right;\n",
       "    }\n",
       "</style>\n",
       "<table border=\"1\" class=\"dataframe\">\n",
       "  <thead>\n",
       "    <tr style=\"text-align: right;\">\n",
       "      <th></th>\n",
       "      <th>category_1</th>\n",
       "      <th>category_2</th>\n",
       "      <th>category_3</th>\n",
       "      <th>category_4</th>\n",
       "      <th>url</th>\n",
       "    </tr>\n",
       "  </thead>\n",
       "  <tbody>\n",
       "    <tr>\n",
       "      <th>49</th>\n",
       "      <td>Дом</td>\n",
       "      <td>Предметы интерьера</td>\n",
       "      <td>Картины и постеры</td>\n",
       "      <td>Картины</td>\n",
       "      <td>https://www.wildberries.ru/catalog/dlya-doma/p...</td>\n",
       "    </tr>\n",
       "    <tr>\n",
       "      <th>53</th>\n",
       "      <td>Дом</td>\n",
       "      <td>Предметы интерьера</td>\n",
       "      <td>Картины и постеры</td>\n",
       "      <td>Постеры</td>\n",
       "      <td>https://www.wildberries.ru/catalog/dlya-doma/p...</td>\n",
       "    </tr>\n",
       "    <tr>\n",
       "      <th>76</th>\n",
       "      <td>Дом</td>\n",
       "      <td>Досуг и творчество</td>\n",
       "      <td>Творчество и рукоделие</td>\n",
       "      <td>Аксессуары и материалы для рукоделия</td>\n",
       "      <td>https://www.wildberries.ru/catalog/dom/dosug-i...</td>\n",
       "    </tr>\n",
       "    <tr>\n",
       "      <th>127</th>\n",
       "      <td>Электроника</td>\n",
       "      <td>Смартфоны и телефоны</td>\n",
       "      <td>Чехлы</td>\n",
       "      <td>Чехлы для телефонов Apple</td>\n",
       "      <td>https://www.wildberries.ru/catalog/elektronika...</td>\n",
       "    </tr>\n",
       "    <tr>\n",
       "      <th>128</th>\n",
       "      <td>Электроника</td>\n",
       "      <td>Смартфоны и телефоны</td>\n",
       "      <td>Чехлы</td>\n",
       "      <td>Чехлы для телефонов Xiaomi</td>\n",
       "      <td>https://www.wildberries.ru/catalog/elektronika...</td>\n",
       "    </tr>\n",
       "    <tr>\n",
       "      <th>129</th>\n",
       "      <td>Электроника</td>\n",
       "      <td>Смартфоны и телефоны</td>\n",
       "      <td>Чехлы</td>\n",
       "      <td>Чехлы для телефонов Samsung</td>\n",
       "      <td>https://www.wildberries.ru/catalog/elektronika...</td>\n",
       "    </tr>\n",
       "  </tbody>\n",
       "</table>\n",
       "</div>"
      ],
      "text/plain": [
       "      category_1            category_2              category_3  \\\n",
       "49           Дом    Предметы интерьера       Картины и постеры   \n",
       "53           Дом    Предметы интерьера       Картины и постеры   \n",
       "76           Дом    Досуг и творчество  Творчество и рукоделие   \n",
       "127  Электроника  Смартфоны и телефоны                   Чехлы   \n",
       "128  Электроника  Смартфоны и телефоны                   Чехлы   \n",
       "129  Электроника  Смартфоны и телефоны                   Чехлы   \n",
       "\n",
       "                               category_4  \\\n",
       "49                                Картины   \n",
       "53                                Постеры   \n",
       "76   Аксессуары и материалы для рукоделия   \n",
       "127             Чехлы для телефонов Apple   \n",
       "128            Чехлы для телефонов Xiaomi   \n",
       "129           Чехлы для телефонов Samsung   \n",
       "\n",
       "                                                   url  \n",
       "49   https://www.wildberries.ru/catalog/dlya-doma/p...  \n",
       "53   https://www.wildberries.ru/catalog/dlya-doma/p...  \n",
       "76   https://www.wildberries.ru/catalog/dom/dosug-i...  \n",
       "127  https://www.wildberries.ru/catalog/elektronika...  \n",
       "128  https://www.wildberries.ru/catalog/elektronika...  \n",
       "129  https://www.wildberries.ru/catalog/elektronika...  "
      ]
     },
     "execution_count": 16,
     "metadata": {},
     "output_type": "execute_result"
    }
   ],
   "source": [
    "categories_5"
   ]
  },
  {
   "cell_type": "code",
   "execution_count": 17,
   "id": "a82dd278",
   "metadata": {},
   "outputs": [
    {
     "name": "stdout",
     "output_type": "stream",
     "text": [
      "https://www.wildberries.ru/catalog/dlya-doma/predmety-interera/kartiny/kartiny\n",
      "https://www.wildberries.ru/catalog/dlya-doma/predmety-interera/kartiny/postery\n",
      "https://www.wildberries.ru/catalog/dom/dosug-i-tvorchestvo/tvorchestvo-i-rukodelie/aksessuary-i-materialy-dlya-rukodeliya\n",
      "https://www.wildberries.ru/catalog/elektronika/smartfony-i-telefony/chehly/chekxly-dlya-telefonov-apple\n",
      "https://www.wildberries.ru/catalog/elektronika/smartfony-i-telefony/chehly/chekxly-dlya-telefonov-xiaomi\n",
      "https://www.wildberries.ru/catalog/elektronika/smartfony-i-telefony/chehly/chekxly-dlya-telefonov-samsung\n"
     ]
    }
   ],
   "source": [
    "for i in range(len(categories_5)):\n",
    "    print(categories_5.iloc[i][\"url\"])"
   ]
  },
  {
   "cell_type": "code",
   "execution_count": 18,
   "id": "56b7b549",
   "metadata": {},
   "outputs": [],
   "source": [
    "def parsing_wb_5category(categories_5):\n",
    "    cols = ['category_1', 'category_2', 'category_3', 'category_4', 'category_5', 'url']\n",
    "    categories = {col: [] for col in cols}\n",
    "    \n",
    "    for k in tqdm(range(len(categories_5))):\n",
    "        print(f'Началась категория \"{categories_5.iloc[k][\"category_4\"]}\"')\n",
    "                        \n",
    "        br = webdriver.Chrome()\n",
    "        br.get(categories_5.iloc[k][\"url\"])\n",
    "        time.sleep(3)\n",
    "        page_add = br.page_source\n",
    "        tree = BeautifulSoup(page_add, 'html')\n",
    "        br.close()\n",
    "    \n",
    "        category_5 = tree.find_all('a', {'class': 'catalog-category__link j-menu-item'})\n",
    "        category_5_name  = [category_5[i].text for i in range(len(category_5))]\n",
    "        category_5_href = [\"https://www.wildberries.ru\" + category_5[i].get('href') for i in range(len(category_5))]\n",
    "\n",
    "        for i in range(len(category_5_href)):\n",
    "            categories['category_1'].append(categories_5.iloc[k][\"category_1\"])\n",
    "            categories['category_2'].append(categories_5.iloc[k][\"category_2\"])\n",
    "            categories['category_3'].append(categories_5.iloc[k][\"category_3\"])\n",
    "            categories['category_4'].append(categories_5.iloc[k][\"category_4\"])\n",
    "            categories['category_5'].append(category_5_name[i])\n",
    "            categories['url'].append(category_5_href[i])\n",
    "        \n",
    "        df_cat = pd.DataFrame(categories)\n",
    "        df_cat.to_csv(f\"df_cat_{categories_5.iloc[k]['category_4']}.csv\", index=False)\n",
    "        print(f'Прошла категория \"{categories_5.iloc[k][\"category_4\"]}\"')"
   ]
  },
  {
   "cell_type": "code",
   "execution_count": 19,
   "id": "3d7cef4d",
   "metadata": {},
   "outputs": [
    {
     "data": {
      "application/vnd.jupyter.widget-view+json": {
       "model_id": "33834fc4983a469a919f34b3cec665cf",
       "version_major": 2,
       "version_minor": 0
      },
      "text/plain": [
       "  0%|          | 0/6 [00:00<?, ?it/s]"
      ]
     },
     "metadata": {},
     "output_type": "display_data"
    },
    {
     "name": "stdout",
     "output_type": "stream",
     "text": [
      "Началась категория \"Картины\"\n",
      "Прошла категория \"Картины\"\n",
      "Началась категория \"Постеры\"\n",
      "Прошла категория \"Постеры\"\n",
      "Началась категория \"Аксессуары и материалы для рукоделия\"\n",
      "Прошла категория \"Аксессуары и материалы для рукоделия\"\n",
      "Началась категория \"Чехлы для телефонов Apple\"\n",
      "Прошла категория \"Чехлы для телефонов Apple\"\n",
      "Началась категория \"Чехлы для телефонов Xiaomi\"\n",
      "Прошла категория \"Чехлы для телефонов Xiaomi\"\n",
      "Началась категория \"Чехлы для телефонов Samsung\"\n",
      "Прошла категория \"Чехлы для телефонов Samsung\"\n"
     ]
    }
   ],
   "source": [
    "parsing_wb_5category(categories_5)"
   ]
  },
  {
   "cell_type": "code",
   "execution_count": 20,
   "id": "48667cc4",
   "metadata": {},
   "outputs": [
    {
     "data": {
      "text/html": [
       "<div>\n",
       "<style scoped>\n",
       "    .dataframe tbody tr th:only-of-type {\n",
       "        vertical-align: middle;\n",
       "    }\n",
       "\n",
       "    .dataframe tbody tr th {\n",
       "        vertical-align: top;\n",
       "    }\n",
       "\n",
       "    .dataframe thead th {\n",
       "        text-align: right;\n",
       "    }\n",
       "</style>\n",
       "<table border=\"1\" class=\"dataframe\">\n",
       "  <thead>\n",
       "    <tr style=\"text-align: right;\">\n",
       "      <th></th>\n",
       "      <th>category_1</th>\n",
       "      <th>category_2</th>\n",
       "      <th>category_3</th>\n",
       "      <th>category_4</th>\n",
       "      <th>category_5</th>\n",
       "      <th>url</th>\n",
       "    </tr>\n",
       "  </thead>\n",
       "  <tbody>\n",
       "    <tr>\n",
       "      <th>0</th>\n",
       "      <td>Дом</td>\n",
       "      <td>Предметы интерьера</td>\n",
       "      <td>Картины и постеры</td>\n",
       "      <td>Картины</td>\n",
       "      <td>Арт и абстракция</td>\n",
       "      <td>https://www.wildberries.ru/catalog/dlya-doma/p...</td>\n",
       "    </tr>\n",
       "    <tr>\n",
       "      <th>1</th>\n",
       "      <td>Дом</td>\n",
       "      <td>Предметы интерьера</td>\n",
       "      <td>Картины и постеры</td>\n",
       "      <td>Картины</td>\n",
       "      <td>Архитектура</td>\n",
       "      <td>https://www.wildberries.ru/catalog/dlya-doma/p...</td>\n",
       "    </tr>\n",
       "    <tr>\n",
       "      <th>2</th>\n",
       "      <td>Дом</td>\n",
       "      <td>Предметы интерьера</td>\n",
       "      <td>Картины и постеры</td>\n",
       "      <td>Картины</td>\n",
       "      <td>Аниме</td>\n",
       "      <td>https://www.wildberries.ru/catalog/dlya-doma/p...</td>\n",
       "    </tr>\n",
       "    <tr>\n",
       "      <th>3</th>\n",
       "      <td>Дом</td>\n",
       "      <td>Предметы интерьера</td>\n",
       "      <td>Картины и постеры</td>\n",
       "      <td>Картины</td>\n",
       "      <td>Города и страны</td>\n",
       "      <td>https://www.wildberries.ru/catalog/dlya-doma/p...</td>\n",
       "    </tr>\n",
       "    <tr>\n",
       "      <th>4</th>\n",
       "      <td>Дом</td>\n",
       "      <td>Предметы интерьера</td>\n",
       "      <td>Картины и постеры</td>\n",
       "      <td>Картины</td>\n",
       "      <td>Детские</td>\n",
       "      <td>https://www.wildberries.ru/catalog/dlya-doma/p...</td>\n",
       "    </tr>\n",
       "    <tr>\n",
       "      <th>...</th>\n",
       "      <td>...</td>\n",
       "      <td>...</td>\n",
       "      <td>...</td>\n",
       "      <td>...</td>\n",
       "      <td>...</td>\n",
       "      <td>...</td>\n",
       "    </tr>\n",
       "    <tr>\n",
       "      <th>92</th>\n",
       "      <td>Электроника</td>\n",
       "      <td>Смартфоны и телефоны</td>\n",
       "      <td>Чехлы</td>\n",
       "      <td>Чехлы для телефонов Samsung</td>\n",
       "      <td>Серия Galaxy Ax4</td>\n",
       "      <td>https://www.wildberries.ru/catalog/elektronika...</td>\n",
       "    </tr>\n",
       "    <tr>\n",
       "      <th>93</th>\n",
       "      <td>Электроника</td>\n",
       "      <td>Смартфоны и телефоны</td>\n",
       "      <td>Чехлы</td>\n",
       "      <td>Чехлы для телефонов Samsung</td>\n",
       "      <td>Серия Galaxy S</td>\n",
       "      <td>https://www.wildberries.ru/catalog/elektronika...</td>\n",
       "    </tr>\n",
       "    <tr>\n",
       "      <th>94</th>\n",
       "      <td>Электроника</td>\n",
       "      <td>Смартфоны и телефоны</td>\n",
       "      <td>Чехлы</td>\n",
       "      <td>Чехлы для телефонов Samsung</td>\n",
       "      <td>Серия Galaxy Z Flip</td>\n",
       "      <td>https://www.wildberries.ru/catalog/elektronika...</td>\n",
       "    </tr>\n",
       "    <tr>\n",
       "      <th>95</th>\n",
       "      <td>Электроника</td>\n",
       "      <td>Смартфоны и телефоны</td>\n",
       "      <td>Чехлы</td>\n",
       "      <td>Чехлы для телефонов Samsung</td>\n",
       "      <td>Серия Galaxy Z Fold</td>\n",
       "      <td>https://www.wildberries.ru/catalog/elektronika...</td>\n",
       "    </tr>\n",
       "    <tr>\n",
       "      <th>96</th>\n",
       "      <td>Электроника</td>\n",
       "      <td>Смартфоны и телефоны</td>\n",
       "      <td>Чехлы</td>\n",
       "      <td>Чехлы для телефонов Samsung</td>\n",
       "      <td>Прочие</td>\n",
       "      <td>https://www.wildberries.ru/catalog/elektronika...</td>\n",
       "    </tr>\n",
       "  </tbody>\n",
       "</table>\n",
       "<p>97 rows × 6 columns</p>\n",
       "</div>"
      ],
      "text/plain": [
       "     category_1            category_2         category_3  \\\n",
       "0           Дом    Предметы интерьера  Картины и постеры   \n",
       "1           Дом    Предметы интерьера  Картины и постеры   \n",
       "2           Дом    Предметы интерьера  Картины и постеры   \n",
       "3           Дом    Предметы интерьера  Картины и постеры   \n",
       "4           Дом    Предметы интерьера  Картины и постеры   \n",
       "..          ...                   ...                ...   \n",
       "92  Электроника  Смартфоны и телефоны              Чехлы   \n",
       "93  Электроника  Смартфоны и телефоны              Чехлы   \n",
       "94  Электроника  Смартфоны и телефоны              Чехлы   \n",
       "95  Электроника  Смартфоны и телефоны              Чехлы   \n",
       "96  Электроника  Смартфоны и телефоны              Чехлы   \n",
       "\n",
       "                     category_4           category_5  \\\n",
       "0                       Картины     Арт и абстракция   \n",
       "1                       Картины          Архитектура   \n",
       "2                       Картины                Аниме   \n",
       "3                       Картины      Города и страны   \n",
       "4                       Картины              Детские   \n",
       "..                          ...                  ...   \n",
       "92  Чехлы для телефонов Samsung     Серия Galaxy Ax4   \n",
       "93  Чехлы для телефонов Samsung       Серия Galaxy S   \n",
       "94  Чехлы для телефонов Samsung  Серия Galaxy Z Flip   \n",
       "95  Чехлы для телефонов Samsung  Серия Galaxy Z Fold   \n",
       "96  Чехлы для телефонов Samsung               Прочие   \n",
       "\n",
       "                                                  url  \n",
       "0   https://www.wildberries.ru/catalog/dlya-doma/p...  \n",
       "1   https://www.wildberries.ru/catalog/dlya-doma/p...  \n",
       "2   https://www.wildberries.ru/catalog/dlya-doma/p...  \n",
       "3   https://www.wildberries.ru/catalog/dlya-doma/p...  \n",
       "4   https://www.wildberries.ru/catalog/dlya-doma/p...  \n",
       "..                                                ...  \n",
       "92  https://www.wildberries.ru/catalog/elektronika...  \n",
       "93  https://www.wildberries.ru/catalog/elektronika...  \n",
       "94  https://www.wildberries.ru/catalog/elektronika...  \n",
       "95  https://www.wildberries.ru/catalog/elektronika...  \n",
       "96  https://www.wildberries.ru/catalog/elektronika...  \n",
       "\n",
       "[97 rows x 6 columns]"
      ]
     },
     "execution_count": 20,
     "metadata": {},
     "output_type": "execute_result"
    }
   ],
   "source": [
    "result = pd.read_csv(\"df_cat_Чехлы для телефонов Samsung.csv\")\n",
    "result"
   ]
  },
  {
   "cell_type": "code",
   "execution_count": 21,
   "id": "685efeaf",
   "metadata": {},
   "outputs": [],
   "source": [
    "result.to_csv(\"wb_categories_5.csv\", index=False)"
   ]
  },
  {
   "cell_type": "markdown",
   "id": "529c7e3a",
   "metadata": {},
   "source": [
    "___"
   ]
  },
  {
   "cell_type": "markdown",
   "id": "e4ae148d",
   "metadata": {},
   "source": [
    "# объединение в один csv файл"
   ]
  },
  {
   "cell_type": "code",
   "execution_count": 37,
   "id": "adfcf9d8",
   "metadata": {},
   "outputs": [],
   "source": [
    "categories = pd.read_csv(\"wb_categories.csv\")\n",
    "categories_4 = pd.read_csv(\"wb_categories_4.csv\")\n",
    "categories_5 = pd.read_csv(\"wb_categories_5.csv\")"
   ]
  },
  {
   "cell_type": "code",
   "execution_count": 38,
   "id": "db4fb9e4",
   "metadata": {},
   "outputs": [],
   "source": [
    "categories['category_4'] = np.nan\n",
    "categories['category_5'] = np.nan"
   ]
  },
  {
   "cell_type": "code",
   "execution_count": 39,
   "id": "5daab814",
   "metadata": {},
   "outputs": [],
   "source": [
    "df = [categories, categories_4, categories_5]\n",
    "df = pd.concat(df, axis=0)"
   ]
  },
  {
   "cell_type": "code",
   "execution_count": 40,
   "id": "6cea79c4",
   "metadata": {},
   "outputs": [],
   "source": [
    "df = df[[\"category_1\", \"category_2\", \"category_3\", \"category_4\", \"category_5\", \"url\"]]\n",
    "df.sort_values(by=\"category_1\", inplace=True)\n",
    "df.reset_index(drop=True, inplace=True)"
   ]
  },
  {
   "cell_type": "code",
   "execution_count": 41,
   "id": "7bad0265",
   "metadata": {},
   "outputs": [
    {
     "data": {
      "text/html": [
       "<div>\n",
       "<style scoped>\n",
       "    .dataframe tbody tr th:only-of-type {\n",
       "        vertical-align: middle;\n",
       "    }\n",
       "\n",
       "    .dataframe tbody tr th {\n",
       "        vertical-align: top;\n",
       "    }\n",
       "\n",
       "    .dataframe thead th {\n",
       "        text-align: right;\n",
       "    }\n",
       "</style>\n",
       "<table border=\"1\" class=\"dataframe\">\n",
       "  <thead>\n",
       "    <tr style=\"text-align: right;\">\n",
       "      <th></th>\n",
       "      <th>category_1</th>\n",
       "      <th>category_2</th>\n",
       "      <th>category_3</th>\n",
       "      <th>category_4</th>\n",
       "      <th>category_5</th>\n",
       "      <th>url</th>\n",
       "    </tr>\n",
       "  </thead>\n",
       "  <tbody>\n",
       "    <tr>\n",
       "      <th>0</th>\n",
       "      <td>Автотовары</td>\n",
       "      <td>Инструменты</td>\n",
       "      <td>Наборы инструментов</td>\n",
       "      <td>NaN</td>\n",
       "      <td>NaN</td>\n",
       "      <td>https://www.wildberries.ru/catalog/avtotovary/...</td>\n",
       "    </tr>\n",
       "    <tr>\n",
       "      <th>1</th>\n",
       "      <td>Автотовары</td>\n",
       "      <td>Масла и жидкости</td>\n",
       "      <td>Трансмиссионное масло</td>\n",
       "      <td>NaN</td>\n",
       "      <td>NaN</td>\n",
       "      <td>https://www.wildberries.ru/catalog/avtotovary/...</td>\n",
       "    </tr>\n",
       "    <tr>\n",
       "      <th>2</th>\n",
       "      <td>Автотовары</td>\n",
       "      <td>Масла и жидкости</td>\n",
       "      <td>Жидкости эксплуатационные</td>\n",
       "      <td>NaN</td>\n",
       "      <td>NaN</td>\n",
       "      <td>https://www.wildberries.ru/catalog/avtotovary/...</td>\n",
       "    </tr>\n",
       "    <tr>\n",
       "      <th>3</th>\n",
       "      <td>Автотовары</td>\n",
       "      <td>Масла и жидкости</td>\n",
       "      <td>Гидравлические жидкости и масла</td>\n",
       "      <td>NaN</td>\n",
       "      <td>NaN</td>\n",
       "      <td>https://www.wildberries.ru/catalog/avtotovary/...</td>\n",
       "    </tr>\n",
       "    <tr>\n",
       "      <th>4</th>\n",
       "      <td>Автотовары</td>\n",
       "      <td>Масла и жидкости</td>\n",
       "      <td>Промывочные масла</td>\n",
       "      <td>NaN</td>\n",
       "      <td>NaN</td>\n",
       "      <td>https://www.wildberries.ru/catalog/avtotovary/...</td>\n",
       "    </tr>\n",
       "    <tr>\n",
       "      <th>...</th>\n",
       "      <td>...</td>\n",
       "      <td>...</td>\n",
       "      <td>...</td>\n",
       "      <td>...</td>\n",
       "      <td>...</td>\n",
       "      <td>...</td>\n",
       "    </tr>\n",
       "    <tr>\n",
       "      <th>1689</th>\n",
       "      <td>Ювелирные изделия</td>\n",
       "      <td>Подвески и шармы</td>\n",
       "      <td>NaN</td>\n",
       "      <td>NaN</td>\n",
       "      <td>NaN</td>\n",
       "      <td>https://www.wildberries.ru/catalog/yuvelirnye-...</td>\n",
       "    </tr>\n",
       "    <tr>\n",
       "      <th>1690</th>\n",
       "      <td>Ювелирные изделия</td>\n",
       "      <td>Серьги</td>\n",
       "      <td>NaN</td>\n",
       "      <td>NaN</td>\n",
       "      <td>NaN</td>\n",
       "      <td>https://www.wildberries.ru/catalog/yuvelirnye-...</td>\n",
       "    </tr>\n",
       "    <tr>\n",
       "      <th>1691</th>\n",
       "      <td>Ювелирные изделия</td>\n",
       "      <td>Кольца</td>\n",
       "      <td>NaN</td>\n",
       "      <td>NaN</td>\n",
       "      <td>NaN</td>\n",
       "      <td>https://www.wildberries.ru/catalog/yuvelirnye-...</td>\n",
       "    </tr>\n",
       "    <tr>\n",
       "      <th>1692</th>\n",
       "      <td>Ювелирные изделия</td>\n",
       "      <td>Часы</td>\n",
       "      <td>NaN</td>\n",
       "      <td>NaN</td>\n",
       "      <td>NaN</td>\n",
       "      <td>https://www.wildberries.ru/catalog/yuvelirnye-...</td>\n",
       "    </tr>\n",
       "    <tr>\n",
       "      <th>1693</th>\n",
       "      <td>Ювелирные изделия</td>\n",
       "      <td>Браслеты</td>\n",
       "      <td>NaN</td>\n",
       "      <td>NaN</td>\n",
       "      <td>NaN</td>\n",
       "      <td>https://www.wildberries.ru/catalog/yuvelirnye-...</td>\n",
       "    </tr>\n",
       "  </tbody>\n",
       "</table>\n",
       "<p>1694 rows × 6 columns</p>\n",
       "</div>"
      ],
      "text/plain": [
       "             category_1        category_2                       category_3  \\\n",
       "0            Автотовары       Инструменты              Наборы инструментов   \n",
       "1            Автотовары  Масла и жидкости            Трансмиссионное масло   \n",
       "2            Автотовары  Масла и жидкости        Жидкости эксплуатационные   \n",
       "3            Автотовары  Масла и жидкости  Гидравлические жидкости и масла   \n",
       "4            Автотовары  Масла и жидкости                Промывочные масла   \n",
       "...                 ...               ...                              ...   \n",
       "1689  Ювелирные изделия  Подвески и шармы                              NaN   \n",
       "1690  Ювелирные изделия            Серьги                              NaN   \n",
       "1691  Ювелирные изделия            Кольца                              NaN   \n",
       "1692  Ювелирные изделия              Часы                              NaN   \n",
       "1693  Ювелирные изделия          Браслеты                              NaN   \n",
       "\n",
       "     category_4 category_5                                                url  \n",
       "0           NaN        NaN  https://www.wildberries.ru/catalog/avtotovary/...  \n",
       "1           NaN        NaN  https://www.wildberries.ru/catalog/avtotovary/...  \n",
       "2           NaN        NaN  https://www.wildberries.ru/catalog/avtotovary/...  \n",
       "3           NaN        NaN  https://www.wildberries.ru/catalog/avtotovary/...  \n",
       "4           NaN        NaN  https://www.wildberries.ru/catalog/avtotovary/...  \n",
       "...         ...        ...                                                ...  \n",
       "1689        NaN        NaN  https://www.wildberries.ru/catalog/yuvelirnye-...  \n",
       "1690        NaN        NaN  https://www.wildberries.ru/catalog/yuvelirnye-...  \n",
       "1691        NaN        NaN  https://www.wildberries.ru/catalog/yuvelirnye-...  \n",
       "1692        NaN        NaN  https://www.wildberries.ru/catalog/yuvelirnye-...  \n",
       "1693        NaN        NaN  https://www.wildberries.ru/catalog/yuvelirnye-...  \n",
       "\n",
       "[1694 rows x 6 columns]"
      ]
     },
     "execution_count": 41,
     "metadata": {},
     "output_type": "execute_result"
    }
   ],
   "source": [
    "df"
   ]
  },
  {
   "cell_type": "code",
   "execution_count": 42,
   "id": "b3ee6d91",
   "metadata": {},
   "outputs": [],
   "source": [
    "df.to_csv(\"wb_categories_full.csv\", index=False)"
   ]
  },
  {
   "cell_type": "markdown",
   "id": "34c1f643",
   "metadata": {},
   "source": [
    "___"
   ]
  },
  {
   "cell_type": "markdown",
   "id": "30ee345c",
   "metadata": {},
   "source": [
    "# Очистка csv файла"
   ]
  },
  {
   "cell_type": "code",
   "execution_count": 5,
   "id": "567e1701",
   "metadata": {},
   "outputs": [],
   "source": [
    "categories = pd.read_csv(\"wb_categories.csv\")\n",
    "categories_4 = pd.read_csv(\"wb_categories_4.csv\")\n",
    "categories_5 = pd.read_csv(\"wb_categories_5.csv\")\n",
    "\n",
    "categories['category_4'] = np.nan\n",
    "categories['category_5'] = np.nan"
   ]
  },
  {
   "cell_type": "code",
   "execution_count": 7,
   "id": "ac535119",
   "metadata": {},
   "outputs": [],
   "source": [
    "categories.drop(index=[324, 327, 328, 343, 350, 358, 377, 514, 515, 662, 776, 948], inplace=True)\n",
    "categories.drop(index=[209, 217, 585, 588, 590, 593, 614], inplace=True)\n",
    "\n",
    "categories_4.drop(index=[49, 53, 76, 127, 128, 129], inplace=True)\n",
    "categories_4.drop(index=[64], inplace=True)"
   ]
  },
  {
   "cell_type": "code",
   "execution_count": 9,
   "id": "dbe09a40",
   "metadata": {},
   "outputs": [
    {
     "data": {
      "text/html": [
       "<div>\n",
       "<style scoped>\n",
       "    .dataframe tbody tr th:only-of-type {\n",
       "        vertical-align: middle;\n",
       "    }\n",
       "\n",
       "    .dataframe tbody tr th {\n",
       "        vertical-align: top;\n",
       "    }\n",
       "\n",
       "    .dataframe thead th {\n",
       "        text-align: right;\n",
       "    }\n",
       "</style>\n",
       "<table border=\"1\" class=\"dataframe\">\n",
       "  <thead>\n",
       "    <tr style=\"text-align: right;\">\n",
       "      <th></th>\n",
       "      <th>category_1</th>\n",
       "      <th>category_2</th>\n",
       "      <th>category_3</th>\n",
       "      <th>category_4</th>\n",
       "      <th>category_5</th>\n",
       "      <th>url</th>\n",
       "    </tr>\n",
       "  </thead>\n",
       "  <tbody>\n",
       "    <tr>\n",
       "      <th>0</th>\n",
       "      <td>Автотовары</td>\n",
       "      <td>Мойки высокого давления и аксессуары</td>\n",
       "      <td>Цепные пилы</td>\n",
       "      <td>NaN</td>\n",
       "      <td>NaN</td>\n",
       "      <td>https://www.wildberries.ru/catalog/dom/dachniy...</td>\n",
       "    </tr>\n",
       "    <tr>\n",
       "      <th>1</th>\n",
       "      <td>Автотовары</td>\n",
       "      <td>Автокосметика и автохимия</td>\n",
       "      <td>Присадки</td>\n",
       "      <td>NaN</td>\n",
       "      <td>NaN</td>\n",
       "      <td>https://www.wildberries.ru/catalog/avtotovary/...</td>\n",
       "    </tr>\n",
       "    <tr>\n",
       "      <th>2</th>\n",
       "      <td>Автотовары</td>\n",
       "      <td>Автокосметика и автохимия</td>\n",
       "      <td>Смазки автомобильные</td>\n",
       "      <td>NaN</td>\n",
       "      <td>NaN</td>\n",
       "      <td>https://www.wildberries.ru/catalog/avtotovary/...</td>\n",
       "    </tr>\n",
       "    <tr>\n",
       "      <th>3</th>\n",
       "      <td>Автотовары</td>\n",
       "      <td>Автокосметика и автохимия</td>\n",
       "      <td>Уход за стеклами и фарами</td>\n",
       "      <td>NaN</td>\n",
       "      <td>NaN</td>\n",
       "      <td>https://www.wildberries.ru/catalog/aksessuary/...</td>\n",
       "    </tr>\n",
       "    <tr>\n",
       "      <th>4</th>\n",
       "      <td>Автотовары</td>\n",
       "      <td>Автокосметика и автохимия</td>\n",
       "      <td>Уход за салоном</td>\n",
       "      <td>NaN</td>\n",
       "      <td>NaN</td>\n",
       "      <td>https://www.wildberries.ru/catalog/aksessuary/...</td>\n",
       "    </tr>\n",
       "    <tr>\n",
       "      <th>...</th>\n",
       "      <td>...</td>\n",
       "      <td>...</td>\n",
       "      <td>...</td>\n",
       "      <td>...</td>\n",
       "      <td>...</td>\n",
       "      <td>...</td>\n",
       "    </tr>\n",
       "    <tr>\n",
       "      <th>1663</th>\n",
       "      <td>Ювелирные изделия</td>\n",
       "      <td>Подвески и шармы</td>\n",
       "      <td>NaN</td>\n",
       "      <td>NaN</td>\n",
       "      <td>NaN</td>\n",
       "      <td>https://www.wildberries.ru/catalog/yuvelirnye-...</td>\n",
       "    </tr>\n",
       "    <tr>\n",
       "      <th>1664</th>\n",
       "      <td>Ювелирные изделия</td>\n",
       "      <td>Серьги</td>\n",
       "      <td>NaN</td>\n",
       "      <td>NaN</td>\n",
       "      <td>NaN</td>\n",
       "      <td>https://www.wildberries.ru/catalog/yuvelirnye-...</td>\n",
       "    </tr>\n",
       "    <tr>\n",
       "      <th>1665</th>\n",
       "      <td>Ювелирные изделия</td>\n",
       "      <td>Кольца</td>\n",
       "      <td>NaN</td>\n",
       "      <td>NaN</td>\n",
       "      <td>NaN</td>\n",
       "      <td>https://www.wildberries.ru/catalog/yuvelirnye-...</td>\n",
       "    </tr>\n",
       "    <tr>\n",
       "      <th>1666</th>\n",
       "      <td>Ювелирные изделия</td>\n",
       "      <td>Часы</td>\n",
       "      <td>NaN</td>\n",
       "      <td>NaN</td>\n",
       "      <td>NaN</td>\n",
       "      <td>https://www.wildberries.ru/catalog/yuvelirnye-...</td>\n",
       "    </tr>\n",
       "    <tr>\n",
       "      <th>1667</th>\n",
       "      <td>Ювелирные изделия</td>\n",
       "      <td>Браслеты</td>\n",
       "      <td>NaN</td>\n",
       "      <td>NaN</td>\n",
       "      <td>NaN</td>\n",
       "      <td>https://www.wildberries.ru/catalog/yuvelirnye-...</td>\n",
       "    </tr>\n",
       "  </tbody>\n",
       "</table>\n",
       "<p>1668 rows × 6 columns</p>\n",
       "</div>"
      ],
      "text/plain": [
       "             category_1                            category_2  \\\n",
       "0            Автотовары  Мойки высокого давления и аксессуары   \n",
       "1            Автотовары             Автокосметика и автохимия   \n",
       "2            Автотовары             Автокосметика и автохимия   \n",
       "3            Автотовары             Автокосметика и автохимия   \n",
       "4            Автотовары             Автокосметика и автохимия   \n",
       "...                 ...                                   ...   \n",
       "1663  Ювелирные изделия                      Подвески и шармы   \n",
       "1664  Ювелирные изделия                                Серьги   \n",
       "1665  Ювелирные изделия                                Кольца   \n",
       "1666  Ювелирные изделия                                  Часы   \n",
       "1667  Ювелирные изделия                              Браслеты   \n",
       "\n",
       "                     category_3 category_4 category_5  \\\n",
       "0                   Цепные пилы        NaN        NaN   \n",
       "1                      Присадки        NaN        NaN   \n",
       "2          Смазки автомобильные        NaN        NaN   \n",
       "3     Уход за стеклами и фарами        NaN        NaN   \n",
       "4               Уход за салоном        NaN        NaN   \n",
       "...                         ...        ...        ...   \n",
       "1663                        NaN        NaN        NaN   \n",
       "1664                        NaN        NaN        NaN   \n",
       "1665                        NaN        NaN        NaN   \n",
       "1666                        NaN        NaN        NaN   \n",
       "1667                        NaN        NaN        NaN   \n",
       "\n",
       "                                                    url  \n",
       "0     https://www.wildberries.ru/catalog/dom/dachniy...  \n",
       "1     https://www.wildberries.ru/catalog/avtotovary/...  \n",
       "2     https://www.wildberries.ru/catalog/avtotovary/...  \n",
       "3     https://www.wildberries.ru/catalog/aksessuary/...  \n",
       "4     https://www.wildberries.ru/catalog/aksessuary/...  \n",
       "...                                                 ...  \n",
       "1663  https://www.wildberries.ru/catalog/yuvelirnye-...  \n",
       "1664  https://www.wildberries.ru/catalog/yuvelirnye-...  \n",
       "1665  https://www.wildberries.ru/catalog/yuvelirnye-...  \n",
       "1666  https://www.wildberries.ru/catalog/yuvelirnye-...  \n",
       "1667  https://www.wildberries.ru/catalog/yuvelirnye-...  \n",
       "\n",
       "[1668 rows x 6 columns]"
      ]
     },
     "execution_count": 9,
     "metadata": {},
     "output_type": "execute_result"
    }
   ],
   "source": [
    "df = [categories, categories_4, categories_5]\n",
    "df = pd.concat(df, axis=0)\n",
    "\n",
    "df = df[[\"category_1\", \"category_2\", \"category_3\", \"category_4\", \"category_5\", \"url\"]]\n",
    "df.sort_values(by=\"category_1\", inplace=True)\n",
    "df.reset_index(drop=True, inplace=True)\n",
    "\n",
    "df"
   ]
  },
  {
   "cell_type": "code",
   "execution_count": 10,
   "id": "2195d02e",
   "metadata": {},
   "outputs": [],
   "source": [
    "df.to_csv(\"wb_categories_full_clear.csv\", index=False)"
   ]
  },
  {
   "cell_type": "markdown",
   "id": "605e3052",
   "metadata": {},
   "source": [
    "___"
   ]
  },
  {
   "cell_type": "code",
   "execution_count": 78,
   "id": "7b67c009",
   "metadata": {},
   "outputs": [
    {
     "data": {
      "text/html": [
       "<div>\n",
       "<style scoped>\n",
       "    .dataframe tbody tr th:only-of-type {\n",
       "        vertical-align: middle;\n",
       "    }\n",
       "\n",
       "    .dataframe tbody tr th {\n",
       "        vertical-align: top;\n",
       "    }\n",
       "\n",
       "    .dataframe thead th {\n",
       "        text-align: right;\n",
       "    }\n",
       "</style>\n",
       "<table border=\"1\" class=\"dataframe\">\n",
       "  <thead>\n",
       "    <tr style=\"text-align: right;\">\n",
       "      <th></th>\n",
       "      <th>category_1</th>\n",
       "      <th>category_2</th>\n",
       "      <th>category_3</th>\n",
       "      <th>category_4</th>\n",
       "      <th>category_5</th>\n",
       "      <th>url</th>\n",
       "    </tr>\n",
       "  </thead>\n",
       "  <tbody>\n",
       "    <tr>\n",
       "      <th>1560</th>\n",
       "      <td>Электроника</td>\n",
       "      <td>Гарнитуры и наушники</td>\n",
       "      <td>SIM-карты</td>\n",
       "      <td>NaN</td>\n",
       "      <td>NaN</td>\n",
       "      <td>https://www.wildberries.ru/catalog/elektronika...</td>\n",
       "    </tr>\n",
       "    <tr>\n",
       "      <th>1631</th>\n",
       "      <td>Электроника</td>\n",
       "      <td>Смартфоны и телефоны</td>\n",
       "      <td>SIM-карты</td>\n",
       "      <td>NaN</td>\n",
       "      <td>NaN</td>\n",
       "      <td>https://www.wildberries.ru/catalog/elektronika...</td>\n",
       "    </tr>\n",
       "  </tbody>\n",
       "</table>\n",
       "</div>"
      ],
      "text/plain": [
       "       category_1            category_2 category_3 category_4 category_5  \\\n",
       "1560  Электроника  Гарнитуры и наушники  SIM-карты        NaN        NaN   \n",
       "1631  Электроника  Смартфоны и телефоны  SIM-карты        NaN        NaN   \n",
       "\n",
       "                                                    url  \n",
       "1560  https://www.wildberries.ru/catalog/elektronika...  \n",
       "1631  https://www.wildberries.ru/catalog/elektronika...  "
      ]
     },
     "execution_count": 78,
     "metadata": {},
     "output_type": "execute_result"
    }
   ],
   "source": [
    "df.iloc[[1560, 1631]]"
   ]
  },
  {
   "cell_type": "markdown",
   "id": "9aa4e3ee",
   "metadata": {},
   "source": [
    "# Тестирование"
   ]
  },
  {
   "cell_type": "code",
   "execution_count": 2,
   "id": "b5db6d06",
   "metadata": {},
   "outputs": [
    {
     "data": {
      "text/plain": [
       "<Response [200]>"
      ]
     },
     "execution_count": 2,
     "metadata": {},
     "output_type": "execute_result"
    }
   ],
   "source": [
    "url = 'https://www.wildberries.ru/'\n",
    "response = requests.get(url)                            #установление соединения с ur\n",
    "                                                        # т.е. сходили к серверу, пнул и получили html\n",
    "                                                        # разметку нужной нам странниц\n",
    "response"
   ]
  },
  {
   "cell_type": "code",
   "execution_count": 3,
   "id": "9479f7b4",
   "metadata": {},
   "outputs": [],
   "source": [
    "tree = BeautifulSoup(response.content, 'html.parser')"
   ]
  },
  {
   "cell_type": "code",
   "execution_count": 1,
   "id": "c79485d0",
   "metadata": {},
   "outputs": [],
   "source": [
    "#tree"
   ]
  },
  {
   "cell_type": "code",
   "execution_count": 7,
   "id": "2bf7e91e",
   "metadata": {},
   "outputs": [
    {
     "data": {
      "text/plain": [
       "[<li class=\"menu-burger__main-list-item j-menu-main-item\" data-menu-id=\"306\">\n",
       " <a class=\"menu-burger__main-list-link menu-burger__main-list-link--306\" href=\"https://www.wildberries.ru/catalog/zhenshchinam\">Женщинам</a>\n",
       " </li>,\n",
       " <li class=\"menu-burger__main-list-item j-menu-main-item\" data-menu-id=\"629\">\n",
       " <a class=\"menu-burger__main-list-link menu-burger__main-list-link--629\" href=\"https://www.wildberries.ru/catalog/obuv\">Обувь</a>\n",
       " </li>,\n",
       " <li class=\"menu-burger__main-list-item j-menu-main-item\" data-menu-id=\"115\">\n",
       " <a class=\"menu-burger__main-list-link menu-burger__main-list-link--115\" href=\"https://www.wildberries.ru/catalog/detyam\">Детям</a>\n",
       " </li>,\n",
       " <li class=\"menu-burger__main-list-item j-menu-main-item\" data-menu-id=\"566\">\n",
       " <a class=\"menu-burger__main-list-link menu-burger__main-list-link--566\" href=\"https://www.wildberries.ru/catalog/muzhchinam\">Мужчинам</a>\n",
       " </li>,\n",
       " <li class=\"menu-burger__main-list-item j-menu-main-item\" data-menu-id=\"258\">\n",
       " <a class=\"menu-burger__main-list-link menu-burger__main-list-link--258\" href=\"https://www.wildberries.ru/catalog/dom-i-dacha\">Дом</a>\n",
       " </li>,\n",
       " <li class=\"menu-burger__main-list-item j-menu-main-item\" data-menu-id=\"543\">\n",
       " <a class=\"menu-burger__main-list-link menu-burger__main-list-link--543\" href=\"https://www.wildberries.ru/catalog/krasota\">Красота</a>\n",
       " </li>,\n",
       " <li class=\"menu-burger__main-list-item j-menu-main-item\" data-menu-id=\"1\">\n",
       " <a class=\"menu-burger__main-list-link menu-burger__main-list-link--1\" href=\"https://www.wildberries.ru/catalog/aksessuary\">Аксессуары</a>\n",
       " </li>,\n",
       " <li class=\"menu-burger__main-list-item j-menu-main-item\" data-menu-id=\"4830\">\n",
       " <a class=\"menu-burger__main-list-link menu-burger__main-list-link--4830\" href=\"https://www.wildberries.ru/catalog/elektronika\">Электроника</a>\n",
       " </li>,\n",
       " <li class=\"menu-burger__main-list-item j-menu-main-item\" data-menu-id=\"481\">\n",
       " <a class=\"menu-burger__main-list-link menu-burger__main-list-link--481\" href=\"https://www.wildberries.ru/catalog/igrushki\">Игрушки</a>\n",
       " </li>,\n",
       " <li class=\"menu-burger__main-list-item j-menu-main-item\" data-menu-id=\"62827\">\n",
       " <a class=\"menu-burger__main-list-link menu-burger__main-list-link--62827\" href=\"https://www.wildberries.ru/catalog/dom/mebel\">Мебель</a>\n",
       " </li>,\n",
       " <li class=\"menu-burger__main-list-item j-menu-main-item\" data-menu-id=\"62057\">\n",
       " <a class=\"menu-burger__main-list-link menu-burger__main-list-link--62057\" href=\"https://www.wildberries.ru/catalog/aksessuary/tovary-dlya-vzroslyh\">Товары для взрослых</a>\n",
       " </li>,\n",
       " <li class=\"menu-burger__main-list-item j-menu-main-item\" data-menu-id=\"10296\">\n",
       " <a class=\"menu-burger__main-list-link menu-burger__main-list-link--10296\" href=\"https://www.wildberries.ru/catalog/pitanie\">Продукты</a>\n",
       " </li>,\n",
       " <li class=\"menu-burger__main-list-item j-menu-main-item\" data-menu-id=\"16107\">\n",
       " <a class=\"menu-burger__main-list-link menu-burger__main-list-link--16107\" href=\"https://www.wildberries.ru/catalog/bytovaya-tehnika\">Бытовая техника</a>\n",
       " </li>,\n",
       " <li class=\"menu-burger__main-list-item j-menu-main-item\" data-menu-id=\"6119\">\n",
       " <a class=\"menu-burger__main-list-link menu-burger__main-list-link--6119\" href=\"https://www.wildberries.ru/catalog/tovary-dlya-zhivotnyh\">Зоотовары</a>\n",
       " </li>,\n",
       " <li class=\"menu-burger__main-list-item j-menu-main-item\" data-menu-id=\"784\">\n",
       " <a class=\"menu-burger__main-list-link menu-burger__main-list-link--784\" href=\"https://www.wildberries.ru/catalog/sport\">Спорт</a>\n",
       " </li>,\n",
       " <li class=\"menu-burger__main-list-item j-menu-main-item\" data-menu-id=\"6994\">\n",
       " <a class=\"menu-burger__main-list-link menu-burger__main-list-link--6994\" href=\"https://www.wildberries.ru/catalog/aksessuary/avtotovary\">Автотовары</a>\n",
       " </li>,\n",
       " <li class=\"menu-burger__main-list-item j-menu-main-item\" data-menu-id=\"519\">\n",
       " <a class=\"menu-burger__main-list-link menu-burger__main-list-link--519\" href=\"https://www.wildberries.ru/catalog/knigi\">Книги</a>\n",
       " </li>,\n",
       " <li class=\"menu-burger__main-list-item j-menu-main-item\" data-menu-id=\"1023\">\n",
       " <a class=\"menu-burger__main-list-link menu-burger__main-list-link--1023\" href=\"https://www.wildberries.ru/catalog/yuvelirnye-ukrasheniya\">Ювелирные изделия</a>\n",
       " </li>,\n",
       " <li class=\"menu-burger__main-list-item j-menu-main-item\" data-menu-id=\"17006\">\n",
       " <a class=\"menu-burger__main-list-link menu-burger__main-list-link--17006\" href=\"https://www.wildberries.ru/catalog/dom-i-dacha/instrumenty\">Для ремонта</a>\n",
       " </li>,\n",
       " <li class=\"menu-burger__main-list-item j-menu-main-item\" data-menu-id=\"4863\">\n",
       " <a class=\"menu-burger__main-list-link menu-burger__main-list-link--4863\" href=\"https://www.wildberries.ru/catalog/dachniy-sezon\">Сад и дача</a>\n",
       " </li>,\n",
       " <li class=\"menu-burger__main-list-item j-menu-main-item\" data-menu-id=\"10326\">\n",
       " <a class=\"menu-burger__main-list-link menu-burger__main-list-link--10326\" href=\"https://www.wildberries.ru/catalog/dom-i-dacha/zdorove\">Здоровье</a>\n",
       " </li>,\n",
       " <li class=\"menu-burger__main-list-item j-menu-main-item\" data-menu-id=\"5486\">\n",
       " <a class=\"menu-burger__main-list-link menu-burger__main-list-link--5486\" href=\"https://www.wildberries.ru/catalog/knigi-i-diski/kantstovary\">Канцтовары</a>\n",
       " </li>,\n",
       " <li class=\"menu-burger__main-list-item j-menu-main-item\" data-menu-id=\"12\">\n",
       " <a class=\"menu-burger__main-list-link menu-burger__main-list-link--12\" href=\"https://digital.wildberries.ru/\">Цифровые товары</a>\n",
       " </li>,\n",
       " <li class=\"menu-burger__main-list-item j-menu-main-item\" data-menu-id=\"2192\">\n",
       " <a class=\"menu-burger__main-list-link menu-burger__main-list-link--2192\" href=\"https://www.wildberries.ru/promotions\">Акции</a>\n",
       " </li>,\n",
       " <li class=\"menu-burger__main-list-item j-menu-main-item\" data-menu-id=\"130255\">\n",
       " <a class=\"menu-burger__main-list-link menu-burger__main-list-link--130255\" href=\"https://www.wildberries.ru/catalog/sdelano-v-moskve\">Сделано в Москве</a>\n",
       " </li>,\n",
       " <li class=\"menu-burger__main-list-item j-menu-main-item\" data-menu-id=\"61037\">\n",
       " <a class=\"menu-burger__main-list-link menu-burger__main-list-link--61037\" href=\"https://vmeste.wildberries.ru/\">Путешествия</a>\n",
       " </li>]"
      ]
     },
     "execution_count": 7,
     "metadata": {},
     "output_type": "execute_result"
    }
   ],
   "source": [
    "data = tree.find_all('li', {'class': 'menu-burger__main-list-item j-menu-main-item'})\n",
    "data"
   ]
  },
  {
   "cell_type": "code",
   "execution_count": null,
   "id": "4291678e",
   "metadata": {},
   "outputs": [],
   "source": [
    "data = tree.find_all('li', {'class': 'menu-burger__main-list-item j-menu-main-item'})\n",
    "data"
   ]
  },
  {
   "cell_type": "code",
   "execution_count": 42,
   "id": "89e813e7",
   "metadata": {},
   "outputs": [
    {
     "data": {
      "text/plain": [
       "<Response [200]>"
      ]
     },
     "execution_count": 42,
     "metadata": {},
     "output_type": "execute_result"
    }
   ],
   "source": [
    "url = 'https://www.wildberries.ru/catalog/zhenshchinam'\n",
    "#headers = {'Accept': \"*/*\", 'User-Agent': \"Mozilla/5.0 (Windows NT 10.0; Win64; x64)\"}\n",
    "response = requests.get(url)#, headers=headers)                            #установление соединения с ur\n",
    "                                                        # т.е. сходили к серверу, пнул и получили html\n",
    "                                                        # разметку нужной нам странниц\n",
    "response"
   ]
  },
  {
   "cell_type": "code",
   "execution_count": 43,
   "id": "6bf4bebb",
   "metadata": {},
   "outputs": [],
   "source": [
    "tree1 = BeautifulSoup(response.content, 'html.parser')"
   ]
  },
  {
   "cell_type": "code",
   "execution_count": 2,
   "id": "c45b451e",
   "metadata": {},
   "outputs": [],
   "source": [
    "#tree1"
   ]
  },
  {
   "cell_type": "code",
   "execution_count": 5,
   "id": "62f23144",
   "metadata": {},
   "outputs": [
    {
     "data": {
      "text/plain": [
       "[]"
      ]
     },
     "execution_count": 5,
     "metadata": {},
     "output_type": "execute_result"
    }
   ],
   "source": [
    "data = tree1.find_all('div', {'class': 'menu-catalog'})\n",
    "data"
   ]
  },
  {
   "cell_type": "code",
   "execution_count": null,
   "id": "1ccab56c",
   "metadata": {},
   "outputs": [],
   "source": []
  },
  {
   "cell_type": "code",
   "execution_count": 29,
   "id": "fac1f921",
   "metadata": {},
   "outputs": [],
   "source": [
    "from selenium import webdriver\n",
    "from selenium.webdriver.common.by import By\n",
    "\n",
    "br = webdriver.Chrome()"
   ]
  },
  {
   "cell_type": "code",
   "execution_count": 23,
   "id": "b1089a3e",
   "metadata": {},
   "outputs": [],
   "source": [
    "# открываем страницу в Chrome в автоматическом режиме\n",
    "br.get(\"https://www.wildberries.ru/catalog/zhenshchinam\")\n",
    "#br.get(\"https://www.wildberries.ru/catalog/zhenshchinam/bele\")\n",
    "time.sleep(2)"
   ]
  },
  {
   "cell_type": "code",
   "execution_count": 24,
   "id": "f13cde15",
   "metadata": {},
   "outputs": [],
   "source": [
    "# сохраним код html страницы\n",
    "page_add = br.page_source\n",
    "tree1 = BeautifulSoup(page_add, 'html')"
   ]
  },
  {
   "cell_type": "code",
   "execution_count": 3,
   "id": "f82273f3",
   "metadata": {},
   "outputs": [],
   "source": [
    "#tree1"
   ]
  },
  {
   "cell_type": "code",
   "execution_count": 51,
   "id": "edc213f6",
   "metadata": {},
   "outputs": [
    {
     "data": {
      "text/plain": [
       "[<a class=\"j-menu-item\" data-link=\"href{:entity.pageUrl}text{:entity.name}\" href=\"/catalog/zhenshchinam/odezhda/bluzki-i-rubashki\">Блузки и рубашки</a>,\n",
       " <a class=\"j-menu-item\" data-link=\"href{:entity.pageUrl}text{:entity.name}\" href=\"/catalog/zhenshchinam/odezhda/bryuki-i-shorty\">Брюки</a>,\n",
       " <a class=\"j-menu-item\" data-link=\"href{:entity.pageUrl}text{:entity.name}\" href=\"/catalog/zhenshchinam/odezhda/verhnyaya-odezhda\">Верхняя одежда</a>,\n",
       " <a class=\"j-menu-item\" data-link=\"href{:entity.pageUrl}text{:entity.name}\" href=\"/catalog/zhenshchinam/odezhda/dzhempery-i-kardigany\">Джемперы, водолазки и кардиганы</a>,\n",
       " <a class=\"j-menu-item\" data-link=\"href{:entity.pageUrl}text{:entity.name}\" href=\"/catalog/zhenshchinam/odezhda/dzhinsy-dzhegginsy\">Джинсы</a>,\n",
       " <a class=\"j-menu-item\" data-link=\"href{:entity.pageUrl}text{:entity.name}\" href=\"/catalog/zhenshchinam/odezhda/kombinezony-polukombinezony\">Комбинезоны</a>,\n",
       " <a class=\"j-menu-item\" data-link=\"href{:entity.pageUrl}text{:entity.name}\" href=\"/catalog/zhenshchinam/odezhda/kostyumy\">Костюмы</a>,\n",
       " <a class=\"j-menu-item\" data-link=\"href{:entity.pageUrl}text{:entity.name}\" href=\"/catalog/zhenshchinam/odezhda/longslivy\">Лонгсливы</a>,\n",
       " <a class=\"j-menu-item\" data-link=\"href{:entity.pageUrl}text{:entity.name}\" href=\"/catalog/zhenshchinam/odezhda/pidzhaki-i-zhakety\">Пиджаки, жилеты и жакеты</a>,\n",
       " <a class=\"j-menu-item\" data-link=\"href{:entity.pageUrl}text{:entity.name}\" href=\"/catalog/zhenshchinam/odezhda/platya\">Платья и сарафаны</a>,\n",
       " <a class=\"j-menu-item\" data-link=\"href{:entity.pageUrl}text{:entity.name}\" href=\"/catalog/zhenshchinam/odezhda/tolstovki\">Толстовки, свитшоты и худи</a>,\n",
       " <a class=\"j-menu-item\" data-link=\"href{:entity.pageUrl}text{:entity.name}\" href=\"/catalog/zhenshchinam/odezhda/tuniki\">Туники</a>,\n",
       " <a class=\"j-menu-item\" data-link=\"href{:entity.pageUrl}text{:entity.name}\" href=\"/catalog/zhenshchinam/odezhda/futbolki-i-topy\">Футболки и топы</a>,\n",
       " <a class=\"j-menu-item\" data-link=\"href{:entity.pageUrl}text{:entity.name}\" href=\"/catalog/zhenshchinam/odezhda-dlya-doma/halaty\">Халаты</a>,\n",
       " <a class=\"j-menu-item\" data-link=\"href{:entity.pageUrl}text{:entity.name}\" href=\"/catalog/zhenshchinam/odezhda/bryuki-i-shorty/shorty\">Шорты</a>,\n",
       " <a class=\"j-menu-item\" data-link=\"href{:entity.pageUrl}text{:entity.name}\" href=\"/catalog/zhenshchinam/odezhda/yubki\">Юбки</a>,\n",
       " <a class=\"j-menu-item\" data-link=\"href{:entity.pageUrl}text{:entity.name}\" href=\"/catalog/zhenshchinam/bele\">Белье</a>,\n",
       " <a class=\"j-menu-item\" data-link=\"href{:entity.pageUrl}text{:entity.name}\" href=\"/catalog/zhenshchinam/bolshie-razmery\">Большие размеры</a>,\n",
       " <a class=\"j-menu-item\" data-link=\"href{:entity.pageUrl}text{:entity.name}\" href=\"/catalog/budushchie-mamy\">Будущие мамы</a>,\n",
       " <a class=\"j-menu-item\" data-link=\"href{:entity.pageUrl}text{:entity.name}\" href=\"/catalog/zhenshchinam/dlya-vysokih\">Для высоких</a>,\n",
       " <a class=\"j-menu-item\" data-link=\"href{:entity.pageUrl}text{:entity.name}\" href=\"/catalog/zhenshchinam/dlya-nevysokih\">Для невысоких</a>,\n",
       " <a class=\"j-menu-item\" data-link=\"href{:entity.pageUrl}text{:entity.name}\" href=\"/catalog/zhenshchinam/odezhda/odezhda-dlya-doma\">Одежда для дома</a>,\n",
       " <a class=\"j-menu-item\" data-link=\"href{:entity.pageUrl}text{:entity.name}\" href=\"/catalog/zhenshchinam/ofis\">Офис</a>,\n",
       " <a class=\"j-menu-item\" data-link=\"href{:entity.pageUrl}text{:entity.name}\" href=\"/catalog/zhenshchinam/plyazhnaya-moda\">Пляжная мода</a>,\n",
       " <a class=\"j-menu-item\" data-link=\"href{:entity.pageUrl}text{:entity.name}\" href=\"/catalog/zhenshchinam/religioznaya\">Религиозная</a>,\n",
       " <a class=\"j-menu-item\" data-link=\"href{:entity.pageUrl}text{:entity.name}\" href=\"/catalog/svadba\">Свадьба</a>,\n",
       " <a class=\"j-menu-item\" data-link=\"href{:entity.pageUrl}text{:entity.name}\" href=\"/catalog/zhenshchinam/spetsodezhda\">Спецодежда и СИЗы</a>,\n",
       " <a class=\"j-menu-item\" data-link=\"href{:entity.pageUrl}text{:entity.name}\" href=\"/catalog/podarki/zhenshchinam\">Подарки женщинам</a>]"
      ]
     },
     "execution_count": 51,
     "metadata": {},
     "output_type": "execute_result"
    }
   ],
   "source": [
    "data = tree1.find_all('a', {'class': 'j-menu-item'})\n",
    "data"
   ]
  },
  {
   "cell_type": "code",
   "execution_count": 54,
   "id": "dfde98ed",
   "metadata": {},
   "outputs": [
    {
     "data": {
      "text/plain": [
       "['Блузки и рубашки',\n",
       " 'Брюки',\n",
       " 'Верхняя одежда',\n",
       " 'Джемперы, водолазки и кардиганы',\n",
       " 'Джинсы',\n",
       " 'Комбинезоны',\n",
       " 'Костюмы',\n",
       " 'Лонгсливы',\n",
       " 'Пиджаки, жилеты и жакеты',\n",
       " 'Платья и сарафаны',\n",
       " 'Толстовки, свитшоты и худи',\n",
       " 'Туники',\n",
       " 'Футболки и топы',\n",
       " 'Халаты',\n",
       " 'Шорты',\n",
       " 'Юбки',\n",
       " 'Белье',\n",
       " 'Большие размеры',\n",
       " 'Будущие мамы',\n",
       " 'Для высоких',\n",
       " 'Для невысоких',\n",
       " 'Одежда для дома',\n",
       " 'Офис',\n",
       " 'Пляжная мода',\n",
       " 'Религиозная',\n",
       " 'Свадьба',\n",
       " 'Спецодежда и СИЗы',\n",
       " 'Подарки женщинам']"
      ]
     },
     "execution_count": 54,
     "metadata": {},
     "output_type": "execute_result"
    }
   ],
   "source": [
    "category = [data[i].text for i in range(len(data))]\n",
    "category"
   ]
  },
  {
   "cell_type": "code",
   "execution_count": 58,
   "id": "805f3567",
   "metadata": {},
   "outputs": [
    {
     "data": {
      "text/plain": [
       "14"
      ]
     },
     "execution_count": 58,
     "metadata": {},
     "output_type": "execute_result"
    }
   ],
   "source": [
    "division = len(category) // 2\n",
    "division"
   ]
  },
  {
   "cell_type": "code",
   "execution_count": 62,
   "id": "46fbecfd",
   "metadata": {},
   "outputs": [
    {
     "data": {
      "text/plain": [
       "['Блузки и рубашки',\n",
       " 'Брюки',\n",
       " 'Верхняя одежда',\n",
       " 'Джемперы, водолазки и кардиганы',\n",
       " 'Джинсы',\n",
       " 'Комбинезоны',\n",
       " 'Костюмы',\n",
       " 'Лонгсливы',\n",
       " 'Пиджаки, жилеты и жакеты',\n",
       " 'Платья и сарафаны',\n",
       " 'Толстовки, свитшоты и худи',\n",
       " 'Туники',\n",
       " 'Футболки и топы',\n",
       " 'Халаты']"
      ]
     },
     "execution_count": 62,
     "metadata": {},
     "output_type": "execute_result"
    }
   ],
   "source": [
    "category[:division]"
   ]
  },
  {
   "cell_type": "code",
   "execution_count": 63,
   "id": "345731e8",
   "metadata": {},
   "outputs": [
    {
     "data": {
      "text/plain": [
       "['Шорты',\n",
       " 'Юбки',\n",
       " 'Белье',\n",
       " 'Большие размеры',\n",
       " 'Будущие мамы',\n",
       " 'Для высоких',\n",
       " 'Для невысоких',\n",
       " 'Одежда для дома',\n",
       " 'Офис',\n",
       " 'Пляжная мода',\n",
       " 'Религиозная',\n",
       " 'Свадьба',\n",
       " 'Спецодежда и СИЗы',\n",
       " 'Подарки женщинам']"
      ]
     },
     "execution_count": 63,
     "metadata": {},
     "output_type": "execute_result"
    }
   ],
   "source": [
    "category[division:]"
   ]
  },
  {
   "cell_type": "code",
   "execution_count": 30,
   "id": "9a693843",
   "metadata": {},
   "outputs": [],
   "source": [
    "# открываем страницу в Chrome в автоматическом режиме\n",
    "br.get(\"https://www.wildberries.ru/catalog/zhenshchinam/bele\")\n",
    "time.sleep(2)"
   ]
  },
  {
   "cell_type": "code",
   "execution_count": 31,
   "id": "687bcdd0",
   "metadata": {},
   "outputs": [],
   "source": [
    "# сохраним код html страницы\n",
    "page_add = br.page_source\n",
    "tree2 = BeautifulSoup(page_add, 'html')"
   ]
  },
  {
   "cell_type": "code",
   "execution_count": 4,
   "id": "c650f3a3",
   "metadata": {},
   "outputs": [],
   "source": [
    "#tree2"
   ]
  },
  {
   "cell_type": "code",
   "execution_count": 88,
   "id": "9fb3ecc0",
   "metadata": {},
   "outputs": [
    {
     "data": {
      "text/plain": [
       "[<a class=\"catalog-category__link j-menu-item\" href=\"/catalog/zhenshchinam/bele/aksessuary\">Аксессуары</a>,\n",
       " <a class=\"catalog-category__link j-menu-item\" href=\"/catalog/zhenshchinam/bele-i-kupalniki/bandazhi\">Бандажи</a>,\n",
       " <a class=\"catalog-category__link j-menu-item\" href=\"/catalog/zhenshchinam/bele/besshovnoe\">Бесшовное</a>,\n",
       " <a class=\"catalog-category__link j-menu-item\" href=\"/catalog/zhenshchinam/bele-i-kupalniki/bodi-i-korsety\">Боди и корсеты</a>,\n",
       " <a class=\"catalog-category__link j-menu-item\" href=\"/catalog/zhenshchinam/bele-i-kupalniki/byustgaltery\">Бюстгальтеры и бюстье</a>,\n",
       " <a class=\"catalog-category__link j-menu-item\" href=\"/catalog/zhenshchinam/bele-i-kupalniki/kolgotki-i-chulki\">Колготки и чулки</a>,\n",
       " <a class=\"catalog-category__link j-menu-item\" href=\"/catalog/zhenshchinam/bele-i-kupalniki/kombinatsii-i-neglizhe\">Комбинации и неглиже</a>,\n",
       " <a class=\"catalog-category__link j-menu-item\" href=\"/catalog/zhenshchinam/bele-i-kupalniki/komplekty-belya\">Комплекты белья</a>,\n",
       " <a class=\"catalog-category__link j-menu-item\" href=\"/catalog/zhenshchinam/bele-i-kupalniki/korrektiruyushchee-bele\">Корректирующее белье</a>,\n",
       " <a class=\"catalog-category__link j-menu-item\" href=\"/catalog/zhenshchinam/bele-i-kupalniki/mayki\">Майки</a>,\n",
       " <a class=\"catalog-category__link j-menu-item\" href=\"/catalog/zhenshchinam/bele-i-kupalniki/termobele\">Термобелье</a>,\n",
       " <a class=\"catalog-category__link j-menu-item\" href=\"/catalog/zhenshchinam/bele-i-kupalniki/trusy\">Трусы</a>]"
      ]
     },
     "execution_count": 88,
     "metadata": {},
     "output_type": "execute_result"
    }
   ],
   "source": [
    "data = tree2.find_all('a', {'class': 'catalog-category__link j-menu-item'})\n",
    "data"
   ]
  },
  {
   "cell_type": "code",
   "execution_count": 89,
   "id": "d34757b1",
   "metadata": {},
   "outputs": [],
   "source": [
    "check = [data[i].text for i in range(len(data))]"
   ]
  },
  {
   "cell_type": "code",
   "execution_count": 69,
   "id": "d496f3b9",
   "metadata": {},
   "outputs": [
    {
     "data": {
      "text/plain": [
       "(False, False)"
      ]
     },
     "execution_count": 69,
     "metadata": {},
     "output_type": "execute_result"
    }
   ],
   "source": [
    "check[:division] == category[:division], check[-division:] == category[-division:]"
   ]
  },
  {
   "cell_type": "code",
   "execution_count": 45,
   "id": "493bbf93",
   "metadata": {},
   "outputs": [],
   "source": [
    "br = webdriver.Chrome()\n",
    "\n",
    "# открываем страницу в Chrome в автоматическом режиме\n",
    "br.get(\"https://www.wildberries.ru/catalog/zhenshchinam/odezhda/bryuki-i-shorty\")\n",
    "time.sleep(2)"
   ]
  },
  {
   "cell_type": "code",
   "execution_count": 46,
   "id": "eebc742b",
   "metadata": {},
   "outputs": [],
   "source": [
    "# сохраним код html страницы\n",
    "page_add = br.page_source\n",
    "tree3 = BeautifulSoup(page_add, 'html')"
   ]
  },
  {
   "cell_type": "code",
   "execution_count": 42,
   "id": "cdceb070",
   "metadata": {},
   "outputs": [],
   "source": [
    "br.close()"
   ]
  },
  {
   "cell_type": "code",
   "execution_count": 5,
   "id": "44fd21f6",
   "metadata": {},
   "outputs": [],
   "source": [
    "#tree3"
   ]
  },
  {
   "cell_type": "code",
   "execution_count": 70,
   "id": "d57b4dd2",
   "metadata": {},
   "outputs": [
    {
     "data": {
      "text/plain": [
       "[<a class=\"catalog-category__link j-menu-item\" href=\"/catalog/zhenshchinam/odezhda/bluzki-i-rubashki\">Блузки и рубашки</a>,\n",
       " <a class=\"catalog-category__link j-menu-item\" href=\"/catalog/zhenshchinam/odezhda/verhnyaya-odezhda\">Верхняя одежда</a>,\n",
       " <a class=\"catalog-category__link j-menu-item\" href=\"/catalog/zhenshchinam/odezhda/dzhempery-i-kardigany\">Джемперы, водолазки и кардиганы</a>,\n",
       " <a class=\"catalog-category__link j-menu-item\" href=\"/catalog/zhenshchinam/odezhda/dzhinsy-dzhegginsy\">Джинсы</a>,\n",
       " <a class=\"catalog-category__link j-menu-item\" href=\"/catalog/zhenshchinam/odezhda/kombinezony-polukombinezony\">Комбинезоны</a>,\n",
       " <a class=\"catalog-category__link j-menu-item\" href=\"/catalog/zhenshchinam/odezhda/kostyumy\">Костюмы</a>,\n",
       " <a class=\"catalog-category__link j-menu-item\" href=\"/catalog/zhenshchinam/odezhda/longslivy\">Лонгсливы</a>,\n",
       " <a class=\"catalog-category__link j-menu-item\" href=\"/catalog/zhenshchinam/odezhda/pidzhaki-i-zhakety\">Пиджаки, жилеты и жакеты</a>,\n",
       " <a class=\"catalog-category__link j-menu-item\" href=\"/catalog/zhenshchinam/odezhda/platya\">Платья и сарафаны</a>,\n",
       " <a class=\"catalog-category__link j-menu-item\" href=\"/catalog/zhenshchinam/odezhda/tolstovki\">Толстовки, свитшоты и худи</a>,\n",
       " <a class=\"catalog-category__link j-menu-item\" href=\"/catalog/zhenshchinam/odezhda/tuniki\">Туники</a>,\n",
       " <a class=\"catalog-category__link j-menu-item\" href=\"/catalog/zhenshchinam/odezhda/futbolki-i-topy\">Футболки и топы</a>,\n",
       " <a class=\"catalog-category__link j-menu-item\" href=\"/catalog/zhenshchinam/odezhda-dlya-doma/halaty\">Халаты</a>,\n",
       " <a class=\"catalog-category__link j-menu-item\" href=\"/catalog/zhenshchinam/odezhda/bryuki-i-shorty/shorty\">Шорты</a>,\n",
       " <a class=\"catalog-category__link j-menu-item\" href=\"/catalog/zhenshchinam/odezhda/yubki\">Юбки</a>,\n",
       " <a class=\"catalog-category__link j-menu-item\" href=\"/catalog/zhenshchinam/bele\">Белье</a>,\n",
       " <a class=\"catalog-category__link j-menu-item\" href=\"/catalog/zhenshchinam/bolshie-razmery\">Большие размеры</a>,\n",
       " <a class=\"catalog-category__link j-menu-item\" href=\"/catalog/budushchie-mamy\">Будущие мамы</a>,\n",
       " <a class=\"catalog-category__link j-menu-item\" href=\"/catalog/zhenshchinam/dlya-vysokih\">Для высоких</a>,\n",
       " <a class=\"catalog-category__link j-menu-item\" href=\"/catalog/zhenshchinam/dlya-nevysokih\">Для невысоких</a>,\n",
       " <a class=\"catalog-category__link j-menu-item\" href=\"/catalog/zhenshchinam/odezhda/odezhda-dlya-doma\">Одежда для дома</a>,\n",
       " <a class=\"catalog-category__link j-menu-item\" href=\"/catalog/zhenshchinam/ofis\">Офис</a>,\n",
       " <a class=\"catalog-category__link j-menu-item\" href=\"/catalog/zhenshchinam/plyazhnaya-moda\">Пляжная мода</a>,\n",
       " <a class=\"catalog-category__link j-menu-item\" href=\"/catalog/zhenshchinam/religioznaya\">Религиозная</a>,\n",
       " <a class=\"catalog-category__link j-menu-item\" href=\"/catalog/svadba\">Свадьба</a>,\n",
       " <a class=\"catalog-category__link j-menu-item\" href=\"/catalog/zhenshchinam/spetsodezhda\">Спецодежда и СИЗы</a>,\n",
       " <a class=\"catalog-category__link j-menu-item\" href=\"/catalog/podarki/zhenshchinam\">Подарки женщинам</a>]"
      ]
     },
     "execution_count": 70,
     "metadata": {},
     "output_type": "execute_result"
    }
   ],
   "source": [
    "data = tree3.find_all('a', {'class': 'catalog-category__link j-menu-item'})\n",
    "data"
   ]
  },
  {
   "cell_type": "code",
   "execution_count": 81,
   "id": "f5a5facd",
   "metadata": {},
   "outputs": [
    {
     "data": {
      "text/plain": [
       "(False, True)"
      ]
     },
     "execution_count": 81,
     "metadata": {},
     "output_type": "execute_result"
    }
   ],
   "source": [
    "check = [data[i].text for i in range(len(data))]\n",
    "\n",
    "check[:division] == category[:division], check[-division:] == category[-division:]"
   ]
  },
  {
   "cell_type": "markdown",
   "id": "4c529424",
   "metadata": {},
   "source": [
    "___"
   ]
  },
  {
   "cell_type": "code",
   "execution_count": 177,
   "id": "1e367c2a",
   "metadata": {},
   "outputs": [],
   "source": [
    "cols = ['category_1', 'category_2', 'category_3', 'url']\n",
    "categories = {col: [] for col in cols}"
   ]
  },
  {
   "cell_type": "code",
   "execution_count": 3,
   "id": "7b439cc5",
   "metadata": {},
   "outputs": [],
   "source": [
    "br = webdriver.Chrome()\n",
    "br.get(\"https://www.wildberries.ru/catalog/zhenshchinam/bele\")\n",
    "time.sleep(3)\n",
    "page_add = br.page_source\n",
    "tree1 = BeautifulSoup(page_add, 'html')\n",
    "br.close()"
   ]
  },
  {
   "cell_type": "code",
   "execution_count": 4,
   "id": "3063e274",
   "metadata": {},
   "outputs": [
    {
     "name": "stdout",
     "output_type": "stream",
     "text": [
      "['Здоровье', 'Канцтовары', 'Народные Промыслы']\n"
     ]
    }
   ],
   "source": [
    "category_1 = tree1.find_all('li', {'class': 'menu-burger__main-list-item j-menu-main-item'})\n",
    "category_1_name  = [category_1[i].a.text for i in range(len(category_1))][:-3]\n",
    "category_1_href = [category_1[i].a.get('href') for i in range(len(category_1))][:-3]\n",
    "print(category_1_name[-3:])"
   ]
  },
  {
   "cell_type": "code",
   "execution_count": 10,
   "id": "df7d0311",
   "metadata": {},
   "outputs": [
    {
     "data": {
      "text/plain": [
       "['https://www.wildberries.ru/catalog/knigi',\n",
       " 'https://www.wildberries.ru/catalog/yuvelirnye-ukrasheniya',\n",
       " 'https://www.wildberries.ru/catalog/dom-i-dacha/instrumenty',\n",
       " 'https://www.wildberries.ru/catalog/dachniy-sezon',\n",
       " 'https://www.wildberries.ru/catalog/dom-i-dacha/zdorove',\n",
       " 'https://www.wildberries.ru/catalog/knigi-i-diski/kantstovary',\n",
       " 'https://www.wildberries.ru/catalog/narodnye-kxudozhestvennye-promysly']"
      ]
     },
     "execution_count": 10,
     "metadata": {},
     "output_type": "execute_result"
    }
   ],
   "source": [
    "category_1_href[16:]"
   ]
  },
  {
   "cell_type": "code",
   "execution_count": 184,
   "id": "fda0ee2e",
   "metadata": {
    "scrolled": true
   },
   "outputs": [
    {
     "name": "stdout",
     "output_type": "stream",
     "text": [
      "Нет 3ей категории\n",
      "Нет 3ей категории\n",
      "Нет 3ей категории\n",
      "Нет 3ей категории\n",
      "Нет 3ей категории\n",
      "Нет 3ей категории\n",
      "Нет 3ей категории\n",
      "Нет 3ей категории\n",
      "Нет 3ей категории\n",
      "Нет 3ей категории\n",
      "Нет 3ей категории\n",
      "Нет 3ей категории\n",
      "Нет 3ей категории\n",
      "Нет 3ей категории\n",
      "Нет 3ей категории\n",
      "Нет 3ей категории\n",
      "Нет 3ей категории\n"
     ]
    }
   ],
   "source": [
    "for k in range(len(category_1_href[:1])):\n",
    "    br = webdriver.Chrome()\n",
    "    br.get(category_1_href[k])\n",
    "    time.sleep(3)\n",
    "    page_add = br.page_source\n",
    "    tree2 = BeautifulSoup(page_add, 'html')\n",
    "    br.close()\n",
    "    \n",
    "    category_2 = tree2.find_all('a', {'class': 'j-menu-item'})\n",
    "    category_2_name  = [category_2[i].text for i in range(len(category_2))]\n",
    "    category_2_href = [\"https://www.wildberries.ru\" + category_2[i].get('href') for i in range(len(category_2))]\n",
    "    #print(category_2_name)\n",
    "\n",
    "    for j in range(len(category_2_href)):\n",
    "        br = webdriver.Chrome()\n",
    "        br.get(category_2_href[j])\n",
    "        time.sleep(3)\n",
    "        page_add = br.page_source\n",
    "        tree3 = BeautifulSoup(page_add, 'html')\n",
    "        br.close()\n",
    "\n",
    "        category_3 = tree3.find_all('a', {'class': 'catalog-category__link j-menu-item'})\n",
    "        category_3_name  = [category_3[i].text for i in range(len(category_3))]\n",
    "        if check_3rd_category(category=category_2_name, check=category_3_name):\n",
    "            category_3_href = [\"https://www.wildberries.ru\" + category_3[i].get('href') for i in range(len(category_3))]\n",
    "            for i in range(len(category_3_href)):\n",
    "                categories['category_1'].append(category_1_name[k])\n",
    "                categories['category_2'].append(category_2_name[j])\n",
    "                categories['category_3'].append(category_3_name[i])\n",
    "                categories['url'].append(category_3_href[i])\n",
    "        else:\n",
    "            #print(\"Нет 3ей категории\")\n",
    "            categories['category_1'].append(category_1_name[k])\n",
    "            categories['category_2'].append(category_2_name[j])\n",
    "            categories['category_3'].append(None)\n",
    "            categories['url'].append(category_2_href[j])\n",
    "        \n",
    "    df_cat = pd.DataFrame(categories)\n",
    "    df_cat.to_csv(f\"df_cat_{category_1_name[k]}.csv\", index=False)\n",
    "    prinr(\"Прошла категория\")"
   ]
  },
  {
   "cell_type": "code",
   "execution_count": 192,
   "id": "1c26b62e",
   "metadata": {},
   "outputs": [
    {
     "data": {
      "text/html": [
       "<div>\n",
       "<style scoped>\n",
       "    .dataframe tbody tr th:only-of-type {\n",
       "        vertical-align: middle;\n",
       "    }\n",
       "\n",
       "    .dataframe tbody tr th {\n",
       "        vertical-align: top;\n",
       "    }\n",
       "\n",
       "    .dataframe thead th {\n",
       "        text-align: right;\n",
       "    }\n",
       "</style>\n",
       "<table border=\"1\" class=\"dataframe\">\n",
       "  <thead>\n",
       "    <tr style=\"text-align: right;\">\n",
       "      <th></th>\n",
       "      <th>category_1</th>\n",
       "      <th>category_2</th>\n",
       "      <th>category_3</th>\n",
       "      <th>url</th>\n",
       "    </tr>\n",
       "  </thead>\n",
       "  <tbody>\n",
       "    <tr>\n",
       "      <th>0</th>\n",
       "      <td>Женщинам</td>\n",
       "      <td>Блузки и рубашки</td>\n",
       "      <td>None</td>\n",
       "      <td>https://www.wildberries.ru/catalog/zhenshchina...</td>\n",
       "    </tr>\n",
       "    <tr>\n",
       "      <th>1</th>\n",
       "      <td>Женщинам</td>\n",
       "      <td>Брюки</td>\n",
       "      <td>None</td>\n",
       "      <td>https://www.wildberries.ru/catalog/zhenshchina...</td>\n",
       "    </tr>\n",
       "    <tr>\n",
       "      <th>2</th>\n",
       "      <td>Женщинам</td>\n",
       "      <td>Верхняя одежда</td>\n",
       "      <td>None</td>\n",
       "      <td>https://www.wildberries.ru/catalog/zhenshchina...</td>\n",
       "    </tr>\n",
       "    <tr>\n",
       "      <th>3</th>\n",
       "      <td>Женщинам</td>\n",
       "      <td>Блузки и рубашки</td>\n",
       "      <td>None</td>\n",
       "      <td>https://www.wildberries.ru/catalog/zhenshchina...</td>\n",
       "    </tr>\n",
       "    <tr>\n",
       "      <th>4</th>\n",
       "      <td>Женщинам</td>\n",
       "      <td>Брюки</td>\n",
       "      <td>None</td>\n",
       "      <td>https://www.wildberries.ru/catalog/zhenshchina...</td>\n",
       "    </tr>\n",
       "    <tr>\n",
       "      <th>...</th>\n",
       "      <td>...</td>\n",
       "      <td>...</td>\n",
       "      <td>...</td>\n",
       "      <td>...</td>\n",
       "    </tr>\n",
       "    <tr>\n",
       "      <th>118</th>\n",
       "      <td>Женщинам</td>\n",
       "      <td>Подарки женщинам</td>\n",
       "      <td>Тапочки</td>\n",
       "      <td>https://www.wildberries.ru/catalog/podarki/zhe...</td>\n",
       "    </tr>\n",
       "    <tr>\n",
       "      <th>119</th>\n",
       "      <td>Женщинам</td>\n",
       "      <td>Подарки женщинам</td>\n",
       "      <td>Хобби и творчество</td>\n",
       "      <td>https://www.wildberries.ru/catalog/zhenshchina...</td>\n",
       "    </tr>\n",
       "    <tr>\n",
       "      <th>120</th>\n",
       "      <td>Женщинам</td>\n",
       "      <td>Подарки женщинам</td>\n",
       "      <td>Бижутерные украшения</td>\n",
       "      <td>https://www.wildberries.ru/catalog/zhenshchina...</td>\n",
       "    </tr>\n",
       "    <tr>\n",
       "      <th>121</th>\n",
       "      <td>Женщинам</td>\n",
       "      <td>Подарки женщинам</td>\n",
       "      <td>Ювелирные украшения</td>\n",
       "      <td>https://www.wildberries.ru/catalog/zhenshchina...</td>\n",
       "    </tr>\n",
       "    <tr>\n",
       "      <th>122</th>\n",
       "      <td>Женщинам</td>\n",
       "      <td>Подарки женщинам</td>\n",
       "      <td>Именные подарки</td>\n",
       "      <td>https://www.wildberries.ru/catalog/podarki-/im...</td>\n",
       "    </tr>\n",
       "  </tbody>\n",
       "</table>\n",
       "<p>123 rows × 4 columns</p>\n",
       "</div>"
      ],
      "text/plain": [
       "    category_1        category_2            category_3  \\\n",
       "0     Женщинам  Блузки и рубашки                  None   \n",
       "1     Женщинам             Брюки                  None   \n",
       "2     Женщинам    Верхняя одежда                  None   \n",
       "3     Женщинам  Блузки и рубашки                  None   \n",
       "4     Женщинам             Брюки                  None   \n",
       "..         ...               ...                   ...   \n",
       "118   Женщинам  Подарки женщинам               Тапочки   \n",
       "119   Женщинам  Подарки женщинам    Хобби и творчество   \n",
       "120   Женщинам  Подарки женщинам  Бижутерные украшения   \n",
       "121   Женщинам  Подарки женщинам  Ювелирные украшения    \n",
       "122   Женщинам  Подарки женщинам       Именные подарки   \n",
       "\n",
       "                                                   url  \n",
       "0    https://www.wildberries.ru/catalog/zhenshchina...  \n",
       "1    https://www.wildberries.ru/catalog/zhenshchina...  \n",
       "2    https://www.wildberries.ru/catalog/zhenshchina...  \n",
       "3    https://www.wildberries.ru/catalog/zhenshchina...  \n",
       "4    https://www.wildberries.ru/catalog/zhenshchina...  \n",
       "..                                                 ...  \n",
       "118  https://www.wildberries.ru/catalog/podarki/zhe...  \n",
       "119  https://www.wildberries.ru/catalog/zhenshchina...  \n",
       "120  https://www.wildberries.ru/catalog/zhenshchina...  \n",
       "121  https://www.wildberries.ru/catalog/zhenshchina...  \n",
       "122  https://www.wildberries.ru/catalog/podarki-/im...  \n",
       "\n",
       "[123 rows x 4 columns]"
      ]
     },
     "execution_count": 192,
     "metadata": {},
     "output_type": "execute_result"
    }
   ],
   "source": [
    "df_cat = pd.DataFrame(categories)\n",
    "df_cat"
   ]
  },
  {
   "cell_type": "code",
   "execution_count": null,
   "id": "8aee88e5",
   "metadata": {},
   "outputs": [],
   "source": [
    "df_cat.to_csv(\"df_cat.csv\", index=False)"
   ]
  },
  {
   "cell_type": "code",
   "execution_count": 14,
   "id": "897aa83d",
   "metadata": {},
   "outputs": [],
   "source": [
    "br = webdriver.Chrome()\n",
    "br.get('https://www.wildberries.ru/catalog/knigi')\n",
    "time.sleep(3)\n",
    "page_add = br.page_source\n",
    "tree2 = BeautifulSoup(page_add, 'html')\n",
    "br.close()\n",
    "\n",
    "category_2 = tree2.find_all('a', {'class': 'j-menu-item'})\n",
    "category_2_name  = [category_2[i].text for i in range(len(category_2))]\n",
    "category_2_href = [\"https://www.wildberries.ru\" + category_2[i].get('href') for i in range(len(category_2))]"
   ]
  },
  {
   "cell_type": "code",
   "execution_count": 25,
   "id": "92859061",
   "metadata": {},
   "outputs": [
    {
     "name": "stdout",
     "output_type": "stream",
     "text": [
      "https://www.wildberries.ru/catalog/knigi/hudozhestvennaya-literatura\n",
      "0\n",
      "https://www.wildberries.ru/catalog/knigi/hudozhestvennaya-literatura/komiksy-i-manga\n",
      "1\n",
      "https://www.wildberries.ru/catalog/knigi/detyam-i-roditelyam\n",
      "2\n",
      "https://www.wildberries.ru/catalog/knigi/vospitanie-i-razvitie-rebenka\n",
      "3\n",
      "https://www.wildberries.ru/catalog/knigi/uchebnaya-literatura\n",
      "4\n",
      "https://www.wildberries.ru/catalog/knigi/samoobrazovanie-i-razvitie\n",
      "5\n",
      "https://www.wildberries.ru/catalog/knigi/nehudozhestvennaya-literatura/biznes-i-menedzhment\n",
      "6\n",
      "https://www.wildberries.ru/catalog/knigi/hobbi-i-dosug\n",
      "7\n",
      "https://www.wildberries.ru/catalog/knigi/nehudozhestvennaya-literatura/astrologiya-i-ezoterika\n",
      "8\n",
      "https://www.wildberries.ru/catalog/knigi/dom-sad-i-ogorod\n",
      "9\n",
      "https://www.wildberries.ru/catalog/knigi/krasota-zdorove-i-sport\n",
      "10\n",
      "https://www.wildberries.ru/catalog/knigi/nehudozhestvennaya-literatura/nauka-i-tehnika\n",
      "11\n",
      "https://www.wildberries.ru/catalog/knigi/nehudozhestvennaya-literatura/internet-i-tehnologii\n",
      "12\n",
      "https://www.wildberries.ru/catalog/knigi/literaturovedenie-i-publitsistika\n",
      "13\n",
      "https://www.wildberries.ru/catalog/knigi/nehudozhestvennaya-literatura/istoricheskaya-i-voennaya-literatura\n",
      "14\n",
      "https://www.wildberries.ru/catalog/knigi/nehudozhestvennaya-literatura/filosofiya\n",
      "15\n",
      "https://www.wildberries.ru/catalog/knigi/nehudozhestvennaya-literatura/religiya\n",
      "16\n",
      "https://www.wildberries.ru/catalog/knigi/politika-i-pravo\n",
      "17\n",
      "https://www.wildberries.ru/catalog/knigi/bukinistika\n",
      "18\n",
      "https://www.wildberries.ru/catalog/knigi/inostrannye-knigi\n",
      "19\n",
      "https://www.wildberries.ru/catalog/knigi/plakaty\n",
      "20\n",
      "https://www.wildberries.ru/catalog/knigi/kalendari\n",
      "21\n",
      "https://www.wildberries.ru/catalog/knigi/kollektsionnye-izdaniya\n",
      "22\n",
      "https://www.wildberries.ru/catalog/knigi/reprintnye-izdaniya\n",
      "23\n",
      "https://www.wildberries.ru/catalog/knigi-i-diski/multimedia\n",
      "24\n",
      "https://www.wildberries.ru/catalog/knigi/audioknigi\n",
      "25\n",
      "https://www.wildberries.ruhttps://digital.wildberries.ru/catalog/books?sort=rating\n",
      "26\n",
      "https://www.wildberries.ruhttps://digital.wildberries.ru/catalog/audiobooks?sort=rating\n",
      "27\n"
     ]
    }
   ],
   "source": [
    "for i in range(len(category_2_href)):\n",
    "    print(category_2_href[i])\n",
    "    print(i)"
   ]
  },
  {
   "cell_type": "code",
   "execution_count": null,
   "id": "20e76bac",
   "metadata": {},
   "outputs": [],
   "source": []
  },
  {
   "cell_type": "code",
   "execution_count": 174,
   "id": "0f629c14",
   "metadata": {
    "scrolled": true
   },
   "outputs": [],
   "source": [
    "for href_2 in category_2_href[16:17]:\n",
    "    br = webdriver.Chrome()\n",
    "    br.get(href_2)\n",
    "    time.sleep(3)\n",
    "    page_add = br.page_source\n",
    "    tree3 = BeautifulSoup(page_add, 'html')\n",
    "    br.close()\n",
    "    \n",
    "    category_3 = tree3.find_all('a', {'class': 'catalog-category__link j-menu-item'})\n",
    "    category_3_name  = [category_3[i].text for i in range(len(category_3))]\n",
    "    if check_3rd_category(category=category_2_name, check=category_3_name):\n",
    "        category_3_href = [\"https://www.wildberries.ru\" + category_3[i].get('href') for i in range(len(category_3))]\n",
    "        for i in range(len(category_3_href)):\n",
    "            categories['category_1'].append(category_1_name)\n",
    "            categories['category_2'].append(category_2_name)\n",
    "            categories['category_3'].append(category_3_name[i])\n",
    "            categories['url'].append(category_3_href[i])\n",
    "    else:\n",
    "        print(\"Нет 3ей категории\")"
   ]
  },
  {
   "cell_type": "code",
   "execution_count": 176,
   "id": "ac5c70d9",
   "metadata": {},
   "outputs": [],
   "source": [
    "cols = ['category_1', 'category_2', 'category_3', 'url']\n",
    "categories = {col: [] for col in cols}"
   ]
  },
  {
   "cell_type": "code",
   "execution_count": 175,
   "id": "7fb6b5f1",
   "metadata": {},
   "outputs": [
    {
     "data": {
      "text/plain": [
       "['https://www.wildberries.ru/catalog/zhenshchinam/bele/aksessuary',\n",
       " 'https://www.wildberries.ru/catalog/zhenshchinam/bele-i-kupalniki/bandazhi',\n",
       " 'https://www.wildberries.ru/catalog/zhenshchinam/bele/besshovnoe',\n",
       " 'https://www.wildberries.ru/catalog/zhenshchinam/bele-i-kupalniki/bodi-i-korsety',\n",
       " 'https://www.wildberries.ru/catalog/zhenshchinam/bele-i-kupalniki/byustgaltery',\n",
       " 'https://www.wildberries.ru/catalog/zhenshchinam/bele-i-kupalniki/kolgotki-i-chulki',\n",
       " 'https://www.wildberries.ru/catalog/zhenshchinam/bele-i-kupalniki/kombinatsii-i-neglizhe',\n",
       " 'https://www.wildberries.ru/catalog/zhenshchinam/bele-i-kupalniki/komplekty-belya',\n",
       " 'https://www.wildberries.ru/catalog/zhenshchinam/bele-i-kupalniki/korrektiruyushchee-bele',\n",
       " 'https://www.wildberries.ru/catalog/zhenshchinam/bele-i-kupalniki/mayki',\n",
       " 'https://www.wildberries.ru/catalog/zhenshchinam/bele-i-kupalniki/termobele',\n",
       " 'https://www.wildberries.ru/catalog/zhenshchinam/bele-i-kupalniki/trusy']"
      ]
     },
     "execution_count": 175,
     "metadata": {},
     "output_type": "execute_result"
    }
   ],
   "source": []
  }
 ],
 "metadata": {
  "kernelspec": {
   "display_name": "Python 3 (ipykernel)",
   "language": "python",
   "name": "python3"
  },
  "language_info": {
   "codemirror_mode": {
    "name": "ipython",
    "version": 3
   },
   "file_extension": ".py",
   "mimetype": "text/x-python",
   "name": "python",
   "nbconvert_exporter": "python",
   "pygments_lexer": "ipython3",
   "version": "3.10.13"
  },
  "toc": {
   "base_numbering": 1,
   "nav_menu": {},
   "number_sections": true,
   "sideBar": true,
   "skip_h1_title": false,
   "title_cell": "Table of Contents",
   "title_sidebar": "Contents",
   "toc_cell": false,
   "toc_position": {},
   "toc_section_display": true,
   "toc_window_display": true
  }
 },
 "nbformat": 4,
 "nbformat_minor": 5
}
