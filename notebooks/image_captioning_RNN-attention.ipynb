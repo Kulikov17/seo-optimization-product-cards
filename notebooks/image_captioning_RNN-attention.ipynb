{
 "cells": [
  {
   "cell_type": "code",
   "execution_count": 1,
   "id": "335696ae-8e69-45a8-9c8d-510ec5b15930",
   "metadata": {
    "tags": []
   },
   "outputs": [
    {
     "name": "stdout",
     "output_type": "stream",
     "text": [
      "Looking in indexes: https://artifactory.tcsbank.ru/artifactory/api/pypi/python-all/simple\n",
      "Requirement already satisfied: torch in /opt/conda/lib/python3.9/site-packages (1.10.2)\n",
      "Collecting torch\n",
      "  Downloading https://artifactory.tcsbank.ru/artifactory/api/pypi/python-all/packages/packages/torch/2.3.0/torch-2.3.0-cp39-cp39-manylinux1_x86_64.whl (779.1 MB)\n",
      "\u001b[2K     \u001b[90m━━━━━━━━━━━━━━━━━━━━━━━━━━━━━━━━━━━━━━━\u001b[0m \u001b[32m779.1/779.1 MB\u001b[0m \u001b[31m6.6 MB/s\u001b[0m eta \u001b[36m0:00:00\u001b[0m00:01\u001b[0m00:01\u001b[0m\n",
      "\u001b[?25hRequirement already satisfied: torchvision in /opt/conda/lib/python3.9/site-packages (0.11.3)\n",
      "Collecting torchvision\n",
      "  Downloading https://artifactory.tcsbank.ru/artifactory/api/pypi/python-all/packages/packages/torchvision/0.18.0/torchvision-0.18.0-cp39-cp39-manylinux1_x86_64.whl (7.0 MB)\n",
      "\u001b[2K     \u001b[90m━━━━━━━━━━━━━━━━━━━━━━━━━━━━━━━━━━━━━━━━\u001b[0m \u001b[32m7.0/7.0 MB\u001b[0m \u001b[31m94.8 MB/s\u001b[0m eta \u001b[36m0:00:00\u001b[0m:00:01\u001b[0m0:01\u001b[0m\n",
      "\u001b[?25hRequirement already satisfied: filelock in /opt/conda/lib/python3.9/site-packages (from torch) (3.14.0)\n",
      "Requirement already satisfied: typing-extensions>=4.8.0 in /opt/conda/lib/python3.9/site-packages (from torch) (4.11.0)\n",
      "Requirement already satisfied: sympy in /opt/conda/lib/python3.9/site-packages (from torch) (1.9)\n",
      "Requirement already satisfied: networkx in /opt/conda/lib/python3.9/site-packages (from torch) (2.6.3)\n",
      "Requirement already satisfied: jinja2 in /opt/conda/lib/python3.9/site-packages (from torch) (3.0.3)\n",
      "Requirement already satisfied: fsspec in /opt/conda/lib/python3.9/site-packages (from torch) (2022.1.0)\n",
      "Collecting nvidia-cuda-nvrtc-cu12==12.1.105 (from torch)\n",
      "  Downloading https://artifactory.tcsbank.ru/artifactory/api/pypi/python-all/packages/packages/nvidia-cuda-nvrtc-cu12/12.1.105/nvidia_cuda_nvrtc_cu12-12.1.105-py3-none-manylinux1_x86_64.whl (23.7 MB)\n",
      "\u001b[2K     \u001b[90m━━━━━━━━━━━━━━━━━━━━━━━━━━━━━━━━━━━━━━━\u001b[0m \u001b[32m23.7/23.7 MB\u001b[0m \u001b[31m118.9 MB/s\u001b[0m eta \u001b[36m0:00:00\u001b[0m00:01\u001b[0m00:01\u001b[0m\n",
      "\u001b[?25hCollecting nvidia-cuda-runtime-cu12==12.1.105 (from torch)\n",
      "  Downloading https://artifactory.tcsbank.ru/artifactory/api/pypi/python-all/packages/packages/nvidia-cuda-runtime-cu12/12.1.105/nvidia_cuda_runtime_cu12-12.1.105-py3-none-manylinux1_x86_64.whl (823 kB)\n",
      "\u001b[2K     \u001b[90m━━━━━━━━━━━━━━━━━━━━━━━━━━━━━━━━━━━━━━\u001b[0m \u001b[32m823.6/823.6 kB\u001b[0m \u001b[31m48.2 MB/s\u001b[0m eta \u001b[36m0:00:00\u001b[0m\n",
      "\u001b[?25hCollecting nvidia-cuda-cupti-cu12==12.1.105 (from torch)\n",
      "  Downloading https://artifactory.tcsbank.ru/artifactory/api/pypi/python-all/packages/packages/nvidia-cuda-cupti-cu12/12.1.105/nvidia_cuda_cupti_cu12-12.1.105-py3-none-manylinux1_x86_64.whl (14.1 MB)\n",
      "\u001b[2K     \u001b[90m━━━━━━━━━━━━━━━━━━━━━━━━━━━━━━━━━━━━━━━\u001b[0m \u001b[32m14.1/14.1 MB\u001b[0m \u001b[31m131.6 MB/s\u001b[0m eta \u001b[36m0:00:00\u001b[0m00:01\u001b[0m00:01\u001b[0m\n",
      "\u001b[?25hCollecting nvidia-cudnn-cu12==8.9.2.26 (from torch)\n",
      "  Downloading https://artifactory.tcsbank.ru/artifactory/api/pypi/python-all/packages/packages/nvidia-cudnn-cu12/8.9.2.26/nvidia_cudnn_cu12-8.9.2.26-py3-none-manylinux1_x86_64.whl (731.7 MB)\n",
      "\u001b[2K     \u001b[90m━━━━━━━━━━━━━━━━━━━━━━━━━━━━━━━━━━━━━━━\u001b[0m \u001b[32m731.7/731.7 MB\u001b[0m \u001b[31m8.0 MB/s\u001b[0m eta \u001b[36m0:00:00\u001b[0m00:01\u001b[0m00:01\u001b[0m\n",
      "\u001b[?25hCollecting nvidia-cublas-cu12==12.1.3.1 (from torch)\n",
      "  Downloading https://artifactory.tcsbank.ru/artifactory/api/pypi/python-all/packages/packages/nvidia-cublas-cu12/12.1.3.1/nvidia_cublas_cu12-12.1.3.1-py3-none-manylinux1_x86_64.whl (410.6 MB)\n",
      "\u001b[2K     \u001b[90m━━━━━━━━━━━━━━━━━━━━━━━━━━━━━━━━━━━━━━\u001b[0m \u001b[32m410.6/410.6 MB\u001b[0m \u001b[31m13.4 MB/s\u001b[0m eta \u001b[36m0:00:00\u001b[0m00:01\u001b[0m00:01\u001b[0m\n",
      "\u001b[?25hCollecting nvidia-cufft-cu12==11.0.2.54 (from torch)\n",
      "  Downloading https://artifactory.tcsbank.ru/artifactory/api/pypi/python-all/packages/packages/nvidia-cufft-cu12/11.0.2.54/nvidia_cufft_cu12-11.0.2.54-py3-none-manylinux1_x86_64.whl (121.6 MB)\n",
      "\u001b[2K     \u001b[90m━━━━━━━━━━━━━━━━━━━━━━━━━━━━━━━━━━━━━━\u001b[0m \u001b[32m121.6/121.6 MB\u001b[0m \u001b[31m38.2 MB/s\u001b[0m eta \u001b[36m0:00:00\u001b[0m00:01\u001b[0m00:01\u001b[0m\n",
      "\u001b[?25hCollecting nvidia-curand-cu12==10.3.2.106 (from torch)\n",
      "  Downloading https://artifactory.tcsbank.ru/artifactory/api/pypi/python-all/packages/packages/nvidia-curand-cu12/10.3.2.106/nvidia_curand_cu12-10.3.2.106-py3-none-manylinux1_x86_64.whl (56.5 MB)\n",
      "\u001b[2K     \u001b[90m━━━━━━━━━━━━━━━━━━━━━━━━━━━━━━━━━━━━━━━━\u001b[0m \u001b[32m56.5/56.5 MB\u001b[0m \u001b[31m66.6 MB/s\u001b[0m eta \u001b[36m0:00:00\u001b[0m00:01\u001b[0m00:01\u001b[0m\n",
      "\u001b[?25hCollecting nvidia-cusolver-cu12==11.4.5.107 (from torch)\n",
      "  Downloading https://artifactory.tcsbank.ru/artifactory/api/pypi/python-all/packages/packages/nvidia-cusolver-cu12/11.4.5.107/nvidia_cusolver_cu12-11.4.5.107-py3-none-manylinux1_x86_64.whl (124.2 MB)\n",
      "\u001b[2K     \u001b[90m━━━━━━━━━━━━━━━━━━━━━━━━━━━━━━━━━━━━━━\u001b[0m \u001b[32m124.2/124.2 MB\u001b[0m \u001b[31m33.1 MB/s\u001b[0m eta \u001b[36m0:00:00\u001b[0m00:01\u001b[0m00:01\u001b[0m\n",
      "\u001b[?25hCollecting nvidia-cusparse-cu12==12.1.0.106 (from torch)\n",
      "  Downloading https://artifactory.tcsbank.ru/artifactory/api/pypi/python-all/packages/packages/nvidia-cusparse-cu12/12.1.0.106/nvidia_cusparse_cu12-12.1.0.106-py3-none-manylinux1_x86_64.whl (196.0 MB)\n",
      "\u001b[2K     \u001b[90m━━━━━━━━━━━━━━━━━━━━━━━━━━━━━━━━━━━━━━\u001b[0m \u001b[32m196.0/196.0 MB\u001b[0m \u001b[31m26.4 MB/s\u001b[0m eta \u001b[36m0:00:00\u001b[0m00:01\u001b[0m00:01\u001b[0m\n",
      "\u001b[?25hCollecting nvidia-nccl-cu12==2.20.5 (from torch)\n",
      "  Downloading https://artifactory.tcsbank.ru/artifactory/api/pypi/python-all/packages/packages/nvidia-nccl-cu12/2.20.5/nvidia_nccl_cu12-2.20.5-py3-none-manylinux2014_x86_64.whl (176.2 MB)\n",
      "\u001b[2K     \u001b[90m━━━━━━━━━━━━━━━━━━━━━━━━━━━━━━━━━━━━━━\u001b[0m \u001b[32m176.2/176.2 MB\u001b[0m \u001b[31m29.6 MB/s\u001b[0m eta \u001b[36m0:00:00\u001b[0m00:01\u001b[0m00:01\u001b[0m\n",
      "\u001b[?25hCollecting nvidia-nvtx-cu12==12.1.105 (from torch)\n",
      "  Downloading https://artifactory.tcsbank.ru/artifactory/api/pypi/python-all/packages/packages/nvidia-nvtx-cu12/12.1.105/nvidia_nvtx_cu12-12.1.105-py3-none-manylinux1_x86_64.whl (99 kB)\n",
      "\u001b[2K     \u001b[90m━━━━━━━━━━━━━━━━━━━━━━━━━━━━━━━━━━━━━━━━\u001b[0m \u001b[32m99.1/99.1 kB\u001b[0m \u001b[31m35.0 MB/s\u001b[0m eta \u001b[36m0:00:00\u001b[0m\n",
      "\u001b[?25hCollecting triton==2.3.0 (from torch)\n",
      "  Downloading https://artifactory.tcsbank.ru/artifactory/api/pypi/python-all/packages/packages/triton/2.3.0/triton-2.3.0-cp39-cp39-manylinux_2_17_x86_64.manylinux2014_x86_64.whl (168.1 MB)\n",
      "\u001b[2K     \u001b[90m━━━━━━━━━━━━━━━━━━━━━━━━━━━━━━━━━━━━━━\u001b[0m \u001b[32m168.1/168.1 MB\u001b[0m \u001b[31m26.4 MB/s\u001b[0m eta \u001b[36m0:00:00\u001b[0m00:01\u001b[0m00:01\u001b[0m\n",
      "\u001b[?25hCollecting nvidia-nvjitlink-cu12 (from nvidia-cusolver-cu12==11.4.5.107->torch)\n",
      "  Downloading https://artifactory.tcsbank.ru/artifactory/api/pypi/python-all/packages/packages/nvidia-nvjitlink-cu12/12.4.127/nvidia_nvjitlink_cu12-12.4.127-py3-none-manylinux2014_x86_64.whl (21.1 MB)\n",
      "\u001b[2K     \u001b[90m━━━━━━━━━━━━━━━━━━━━━━━━━━━━━━━━━━━━━━━\u001b[0m \u001b[32m21.1/21.1 MB\u001b[0m \u001b[31m115.0 MB/s\u001b[0m eta \u001b[36m0:00:00\u001b[0m00:01\u001b[0m00:01\u001b[0m\n",
      "\u001b[?25hRequirement already satisfied: numpy in /opt/conda/lib/python3.9/site-packages (from torchvision) (1.26.4)\n",
      "Requirement already satisfied: pillow!=8.3.*,>=5.3.0 in /opt/conda/lib/python3.9/site-packages (from torchvision) (8.4.0)\n",
      "Requirement already satisfied: MarkupSafe>=2.0 in /opt/conda/lib/python3.9/site-packages (from jinja2->torch) (2.0.1)\n",
      "Requirement already satisfied: mpmath>=0.19 in /opt/conda/lib/python3.9/site-packages (from sympy->torch) (1.2.1)\n",
      "Installing collected packages: triton, nvidia-nvtx-cu12, nvidia-nvjitlink-cu12, nvidia-nccl-cu12, nvidia-curand-cu12, nvidia-cufft-cu12, nvidia-cuda-runtime-cu12, nvidia-cuda-nvrtc-cu12, nvidia-cuda-cupti-cu12, nvidia-cublas-cu12, nvidia-cusparse-cu12, nvidia-cudnn-cu12, nvidia-cusolver-cu12, torch, torchvision\n",
      "  Attempting uninstall: torch\n",
      "    Found existing installation: torch 1.10.2\n",
      "    Uninstalling torch-1.10.2:\n",
      "      Successfully uninstalled torch-1.10.2\n",
      "  Attempting uninstall: torchvision\n",
      "    Found existing installation: torchvision 0.11.3\n",
      "    Uninstalling torchvision-0.11.3:\n",
      "      Successfully uninstalled torchvision-0.11.3\n",
      "\u001b[31mERROR: pip's dependency resolver does not currently take into account all the packages that are installed. This behaviour is the source of the following dependency conflicts.\n",
      "torchaudio 0.10.2 requires torch==1.10.2, but you have torch 2.3.0 which is incompatible.\u001b[0m\u001b[31m\n",
      "\u001b[0mSuccessfully installed nvidia-cublas-cu12-12.1.3.1 nvidia-cuda-cupti-cu12-12.1.105 nvidia-cuda-nvrtc-cu12-12.1.105 nvidia-cuda-runtime-cu12-12.1.105 nvidia-cudnn-cu12-8.9.2.26 nvidia-cufft-cu12-11.0.2.54 nvidia-curand-cu12-10.3.2.106 nvidia-cusolver-cu12-11.4.5.107 nvidia-cusparse-cu12-12.1.0.106 nvidia-nccl-cu12-2.20.5 nvidia-nvjitlink-cu12-12.4.127 nvidia-nvtx-cu12-12.1.105 torch-2.3.0 torchvision-0.18.0 triton-2.3.0\n",
      "Note: you may need to restart the kernel to use updated packages.\n"
     ]
    }
   ],
   "source": [
    "pip install --upgrade torch torchvision"
   ]
  },
  {
   "cell_type": "code",
   "execution_count": 2,
   "id": "78fe7cb6-592f-49d8-8b53-ac42141852e9",
   "metadata": {
    "tags": []
   },
   "outputs": [
    {
     "name": "stdout",
     "output_type": "stream",
     "text": [
      "Looking in indexes: https://artifactory.tcsbank.ru/artifactory/api/pypi/python-all/simple\n",
      "Collecting accelerate\n",
      "  Downloading https://artifactory.tcsbank.ru/artifactory/api/pypi/python-all/packages/packages/accelerate/0.30.0/accelerate-0.30.0-py3-none-any.whl (302 kB)\n",
      "\u001b[2K     \u001b[90m━━━━━━━━━━━━━━━━━━━━━━━━━━━━━━━━━━━━━━\u001b[0m \u001b[32m302.4/302.4 kB\u001b[0m \u001b[31m12.9 MB/s\u001b[0m eta \u001b[36m0:00:00\u001b[0m\n",
      "\u001b[?25hRequirement already satisfied: numpy>=1.17 in /opt/conda/lib/python3.9/site-packages (from accelerate) (1.26.4)\n",
      "Requirement already satisfied: packaging>=20.0 in /opt/conda/lib/python3.9/site-packages (from accelerate) (24.0)\n",
      "Requirement already satisfied: psutil in /opt/conda/lib/python3.9/site-packages (from accelerate) (5.9.0)\n",
      "Requirement already satisfied: pyyaml in /opt/conda/lib/python3.9/site-packages (from accelerate) (6.0)\n",
      "Requirement already satisfied: torch>=1.10.0 in /opt/conda/lib/python3.9/site-packages (from accelerate) (2.3.0)\n",
      "Collecting huggingface-hub (from accelerate)\n",
      "  Downloading https://artifactory.tcsbank.ru/artifactory/api/pypi/python-all/packages/packages/huggingface-hub/0.23.0/huggingface_hub-0.23.0-py3-none-any.whl (401 kB)\n",
      "\u001b[2K     \u001b[90m━━━━━━━━━━━━━━━━━━━━━━━━━━━━━━━━━━━━━━\u001b[0m \u001b[32m401.2/401.2 kB\u001b[0m \u001b[31m26.5 MB/s\u001b[0m eta \u001b[36m0:00:00\u001b[0m\n",
      "\u001b[?25hCollecting safetensors>=0.3.1 (from accelerate)\n",
      "  Downloading https://artifactory.tcsbank.ru/artifactory/api/pypi/python-all/packages/packages/safetensors/0.4.3/safetensors-0.4.3-cp39-cp39-manylinux_2_17_x86_64.manylinux2014_x86_64.whl (1.2 MB)\n",
      "\u001b[2K     \u001b[90m━━━━━━━━━━━━━━━━━━━━━━━━━━━━━━━━━━━━━━━━\u001b[0m \u001b[32m1.2/1.2 MB\u001b[0m \u001b[31m3.2 MB/s\u001b[0m eta \u001b[36m0:00:00\u001b[0m0:00:01\u001b[0m\n",
      "\u001b[?25hRequirement already satisfied: filelock in /opt/conda/lib/python3.9/site-packages (from torch>=1.10.0->accelerate) (3.14.0)\n",
      "Requirement already satisfied: typing-extensions>=4.8.0 in /opt/conda/lib/python3.9/site-packages (from torch>=1.10.0->accelerate) (4.11.0)\n",
      "Requirement already satisfied: sympy in /opt/conda/lib/python3.9/site-packages (from torch>=1.10.0->accelerate) (1.9)\n",
      "Requirement already satisfied: networkx in /opt/conda/lib/python3.9/site-packages (from torch>=1.10.0->accelerate) (2.6.3)\n",
      "Requirement already satisfied: jinja2 in /opt/conda/lib/python3.9/site-packages (from torch>=1.10.0->accelerate) (3.0.3)\n",
      "Requirement already satisfied: fsspec in /opt/conda/lib/python3.9/site-packages (from torch>=1.10.0->accelerate) (2022.1.0)\n",
      "Requirement already satisfied: nvidia-cuda-nvrtc-cu12==12.1.105 in /opt/conda/lib/python3.9/site-packages (from torch>=1.10.0->accelerate) (12.1.105)\n",
      "Requirement already satisfied: nvidia-cuda-runtime-cu12==12.1.105 in /opt/conda/lib/python3.9/site-packages (from torch>=1.10.0->accelerate) (12.1.105)\n",
      "Requirement already satisfied: nvidia-cuda-cupti-cu12==12.1.105 in /opt/conda/lib/python3.9/site-packages (from torch>=1.10.0->accelerate) (12.1.105)\n",
      "Requirement already satisfied: nvidia-cudnn-cu12==8.9.2.26 in /opt/conda/lib/python3.9/site-packages (from torch>=1.10.0->accelerate) (8.9.2.26)\n",
      "Requirement already satisfied: nvidia-cublas-cu12==12.1.3.1 in /opt/conda/lib/python3.9/site-packages (from torch>=1.10.0->accelerate) (12.1.3.1)\n",
      "Requirement already satisfied: nvidia-cufft-cu12==11.0.2.54 in /opt/conda/lib/python3.9/site-packages (from torch>=1.10.0->accelerate) (11.0.2.54)\n",
      "Requirement already satisfied: nvidia-curand-cu12==10.3.2.106 in /opt/conda/lib/python3.9/site-packages (from torch>=1.10.0->accelerate) (10.3.2.106)\n",
      "Requirement already satisfied: nvidia-cusolver-cu12==11.4.5.107 in /opt/conda/lib/python3.9/site-packages (from torch>=1.10.0->accelerate) (11.4.5.107)\n",
      "Requirement already satisfied: nvidia-cusparse-cu12==12.1.0.106 in /opt/conda/lib/python3.9/site-packages (from torch>=1.10.0->accelerate) (12.1.0.106)\n",
      "Requirement already satisfied: nvidia-nccl-cu12==2.20.5 in /opt/conda/lib/python3.9/site-packages (from torch>=1.10.0->accelerate) (2.20.5)\n",
      "Requirement already satisfied: nvidia-nvtx-cu12==12.1.105 in /opt/conda/lib/python3.9/site-packages (from torch>=1.10.0->accelerate) (12.1.105)\n",
      "Requirement already satisfied: triton==2.3.0 in /opt/conda/lib/python3.9/site-packages (from torch>=1.10.0->accelerate) (2.3.0)\n",
      "Requirement already satisfied: nvidia-nvjitlink-cu12 in /opt/conda/lib/python3.9/site-packages (from nvidia-cusolver-cu12==11.4.5.107->torch>=1.10.0->accelerate) (12.4.127)\n",
      "Collecting fsspec (from torch>=1.10.0->accelerate)\n",
      "  Downloading https://artifactory.tcsbank.ru/artifactory/api/pypi/python-all/packages/packages/fsspec/2024.3.1/fsspec-2024.3.1-py3-none-any.whl (171 kB)\n",
      "\u001b[2K     \u001b[90m━━━━━━━━━━━━━━━━━━━━━━━━━━━━━━━━━━━━━━━\u001b[0m \u001b[32m172.0/172.0 kB\u001b[0m \u001b[31m1.5 MB/s\u001b[0m eta \u001b[36m0:00:00\u001b[0ma \u001b[36m0:00:01\u001b[0m\n",
      "\u001b[?25hRequirement already satisfied: requests in /opt/conda/lib/python3.9/site-packages (from huggingface-hub->accelerate) (2.31.0)\n",
      "Requirement already satisfied: tqdm>=4.42.1 in /opt/conda/lib/python3.9/site-packages (from huggingface-hub->accelerate) (4.66.4)\n",
      "Requirement already satisfied: MarkupSafe>=2.0 in /opt/conda/lib/python3.9/site-packages (from jinja2->torch>=1.10.0->accelerate) (2.0.1)\n",
      "Requirement already satisfied: charset-normalizer<4,>=2 in /opt/conda/lib/python3.9/site-packages (from requests->huggingface-hub->accelerate) (2.0.10)\n",
      "Requirement already satisfied: idna<4,>=2.5 in /opt/conda/lib/python3.9/site-packages (from requests->huggingface-hub->accelerate) (3.3)\n",
      "Requirement already satisfied: urllib3<3,>=1.21.1 in /opt/conda/lib/python3.9/site-packages (from requests->huggingface-hub->accelerate) (2.2.1)\n",
      "Requirement already satisfied: certifi>=2017.4.17 in /opt/conda/lib/python3.9/site-packages (from requests->huggingface-hub->accelerate) (2021.10.8)\n",
      "Requirement already satisfied: mpmath>=0.19 in /opt/conda/lib/python3.9/site-packages (from sympy->torch>=1.10.0->accelerate) (1.2.1)\n",
      "Installing collected packages: safetensors, fsspec, huggingface-hub, accelerate\n",
      "  Attempting uninstall: fsspec\n",
      "    Found existing installation: fsspec 2022.1.0\n",
      "    Uninstalling fsspec-2022.1.0:\n",
      "      Successfully uninstalled fsspec-2022.1.0\n",
      "\u001b[31mERROR: pip's dependency resolver does not currently take into account all the packages that are installed. This behaviour is the source of the following dependency conflicts.\n",
      "torchaudio 0.10.2 requires torch==1.10.2, but you have torch 2.3.0 which is incompatible.\u001b[0m\u001b[31m\n",
      "\u001b[0mSuccessfully installed accelerate-0.30.0 fsspec-2024.3.1 huggingface-hub-0.23.0 safetensors-0.4.3\n",
      "Note: you may need to restart the kernel to use updated packages.\n"
     ]
    }
   ],
   "source": [
    "pip install accelerate"
   ]
  },
  {
   "cell_type": "code",
   "execution_count": 2,
   "id": "1042c269-d722-4b4d-b0c9-75a2a9b79aab",
   "metadata": {
    "tags": []
   },
   "outputs": [
    {
     "name": "stdout",
     "output_type": "stream",
     "text": [
      "Looking in indexes: https://artifactory.tcsbank.ru/artifactory/api/pypi/python-all/simple\n",
      "Collecting torchmetrics\n",
      "  Downloading https://artifactory.tcsbank.ru/artifactory/api/pypi/python-all/packages/packages/torchmetrics/1.4.0/torchmetrics-1.4.0-py3-none-any.whl (868 kB)\n",
      "\u001b[2K     \u001b[90m━━━━━━━━━━━━━━━━━━━━━━━━━━━━━━━━━━━━━━\u001b[0m \u001b[32m868.8/868.8 kB\u001b[0m \u001b[31m40.2 MB/s\u001b[0m eta \u001b[36m0:00:00\u001b[0m\n",
      "\u001b[?25hRequirement already satisfied: numpy>1.20.0 in /opt/conda/lib/python3.9/site-packages (from torchmetrics) (1.26.4)\n",
      "Requirement already satisfied: packaging>17.1 in /opt/conda/lib/python3.9/site-packages (from torchmetrics) (24.0)\n",
      "Requirement already satisfied: torch>=1.10.0 in /opt/conda/lib/python3.9/site-packages (from torchmetrics) (2.3.0)\n",
      "Collecting lightning-utilities>=0.8.0 (from torchmetrics)\n",
      "  Downloading https://artifactory.tcsbank.ru/artifactory/api/pypi/python-all/packages/packages/lightning-utilities/0.11.2/lightning_utilities-0.11.2-py3-none-any.whl (26 kB)\n",
      "Collecting pretty-errors==1.2.25 (from torchmetrics)\n",
      "  Downloading https://artifactory.tcsbank.ru/artifactory/api/pypi/python-all/packages/packages/pretty-errors/1.2.25/pretty_errors-1.2.25-py3-none-any.whl (17 kB)\n",
      "Requirement already satisfied: colorama in /opt/conda/lib/python3.9/site-packages (from pretty-errors==1.2.25->torchmetrics) (0.4.4)\n",
      "Requirement already satisfied: setuptools in /opt/conda/lib/python3.9/site-packages (from lightning-utilities>=0.8.0->torchmetrics) (59.8.0)\n",
      "Requirement already satisfied: typing-extensions in /opt/conda/lib/python3.9/site-packages (from lightning-utilities>=0.8.0->torchmetrics) (4.11.0)\n",
      "Requirement already satisfied: filelock in /opt/conda/lib/python3.9/site-packages (from torch>=1.10.0->torchmetrics) (3.14.0)\n",
      "Requirement already satisfied: sympy in /opt/conda/lib/python3.9/site-packages (from torch>=1.10.0->torchmetrics) (1.9)\n",
      "Requirement already satisfied: networkx in /opt/conda/lib/python3.9/site-packages (from torch>=1.10.0->torchmetrics) (2.6.3)\n",
      "Requirement already satisfied: jinja2 in /opt/conda/lib/python3.9/site-packages (from torch>=1.10.0->torchmetrics) (3.0.3)\n",
      "Requirement already satisfied: fsspec in /opt/conda/lib/python3.9/site-packages (from torch>=1.10.0->torchmetrics) (2024.3.1)\n",
      "Requirement already satisfied: nvidia-cuda-nvrtc-cu12==12.1.105 in /opt/conda/lib/python3.9/site-packages (from torch>=1.10.0->torchmetrics) (12.1.105)\n",
      "Requirement already satisfied: nvidia-cuda-runtime-cu12==12.1.105 in /opt/conda/lib/python3.9/site-packages (from torch>=1.10.0->torchmetrics) (12.1.105)\n",
      "Requirement already satisfied: nvidia-cuda-cupti-cu12==12.1.105 in /opt/conda/lib/python3.9/site-packages (from torch>=1.10.0->torchmetrics) (12.1.105)\n",
      "Requirement already satisfied: nvidia-cudnn-cu12==8.9.2.26 in /opt/conda/lib/python3.9/site-packages (from torch>=1.10.0->torchmetrics) (8.9.2.26)\n",
      "Requirement already satisfied: nvidia-cublas-cu12==12.1.3.1 in /opt/conda/lib/python3.9/site-packages (from torch>=1.10.0->torchmetrics) (12.1.3.1)\n",
      "Requirement already satisfied: nvidia-cufft-cu12==11.0.2.54 in /opt/conda/lib/python3.9/site-packages (from torch>=1.10.0->torchmetrics) (11.0.2.54)\n",
      "Requirement already satisfied: nvidia-curand-cu12==10.3.2.106 in /opt/conda/lib/python3.9/site-packages (from torch>=1.10.0->torchmetrics) (10.3.2.106)\n",
      "Requirement already satisfied: nvidia-cusolver-cu12==11.4.5.107 in /opt/conda/lib/python3.9/site-packages (from torch>=1.10.0->torchmetrics) (11.4.5.107)\n",
      "Requirement already satisfied: nvidia-cusparse-cu12==12.1.0.106 in /opt/conda/lib/python3.9/site-packages (from torch>=1.10.0->torchmetrics) (12.1.0.106)\n",
      "Requirement already satisfied: nvidia-nccl-cu12==2.20.5 in /opt/conda/lib/python3.9/site-packages (from torch>=1.10.0->torchmetrics) (2.20.5)\n",
      "Requirement already satisfied: nvidia-nvtx-cu12==12.1.105 in /opt/conda/lib/python3.9/site-packages (from torch>=1.10.0->torchmetrics) (12.1.105)\n",
      "Requirement already satisfied: triton==2.3.0 in /opt/conda/lib/python3.9/site-packages (from torch>=1.10.0->torchmetrics) (2.3.0)\n",
      "Requirement already satisfied: nvidia-nvjitlink-cu12 in /opt/conda/lib/python3.9/site-packages (from nvidia-cusolver-cu12==11.4.5.107->torch>=1.10.0->torchmetrics) (12.4.127)\n",
      "Requirement already satisfied: MarkupSafe>=2.0 in /opt/conda/lib/python3.9/site-packages (from jinja2->torch>=1.10.0->torchmetrics) (2.0.1)\n",
      "Requirement already satisfied: mpmath>=0.19 in /opt/conda/lib/python3.9/site-packages (from sympy->torch>=1.10.0->torchmetrics) (1.2.1)\n",
      "Installing collected packages: pretty-errors, lightning-utilities, torchmetrics\n",
      "Successfully installed lightning-utilities-0.11.2 pretty-errors-1.2.25 torchmetrics-1.4.0\n",
      "Note: you may need to restart the kernel to use updated packages.\n"
     ]
    }
   ],
   "source": [
    "pip install torchmetrics"
   ]
  },
  {
   "cell_type": "code",
   "execution_count": 2,
   "id": "84e7afb4-3567-4d74-b75b-faafd39e84c5",
   "metadata": {
    "tags": []
   },
   "outputs": [
    {
     "name": "stdout",
     "output_type": "stream",
     "text": [
      "Looking in indexes: https://artifactory.tcsbank.ru/artifactory/api/pypi/python-all/simple\n",
      "Collecting sacrebleu\n",
      "  Downloading https://artifactory.tcsbank.ru/artifactory/api/pypi/python-all/packages/packages/sacrebleu/2.4.2/sacrebleu-2.4.2-py3-none-any.whl (106 kB)\n",
      "     l     ━━━━━━━━━━━━━━━━━━━━━━━━━━━━━━━━━━━━━━━━ 0.0/106.7 kB ? eta -:--:--━━━━━━━━━━━━━━━━━━━━━━━━━━━━━━━━━━━━━━ 106.7/106.7 kB 11.0 MB/s eta 0:00:00\n",
      "\u001b[?25hCollecting portalocker (from sacrebleu)\n",
      "  Downloading https://artifactory.tcsbank.ru/artifactory/api/pypi/python-all/packages/packages/portalocker/2.8.2/portalocker-2.8.2-py3-none-any.whl (17 kB)\n",
      "Collecting regex (from sacrebleu)\n",
      "  Downloading https://artifactory.tcsbank.ru/artifactory/api/pypi/python-all/packages/packages/regex/2024.4.28/regex-2024.4.28-cp39-cp39-manylinux_2_17_x86_64.manylinux2014_x86_64.whl (773 kB)\n",
      "     l     ━━━━━━━━━━━━━━━━━━━━━━━━━━━━━━━━━━━━━━━━ 0.0/773.5 kB ? eta -:--:--━━━━━━━━━━━━━━━━━━━━━━━━━━━━━━━━╺━━━━━ 655.4/773.5 kB 19.5 MB/s eta 0:00:01━━━━━━━━━━━━━━━━━━━━━━━━━━━━━━━━━━━━━━ 773.5/773.5 kB 17.7 MB/s eta 0:00:00\n",
      "\u001b[?25hRequirement already satisfied: tabulate>=0.8.9 in /opt/conda/lib/python3.9/site-packages (from sacrebleu) (0.9.0)\n",
      "Requirement already satisfied: numpy>=1.17 in /opt/conda/lib/python3.9/site-packages (from sacrebleu) (1.26.4)\n",
      "Requirement already satisfied: colorama in /opt/conda/lib/python3.9/site-packages (from sacrebleu) (0.4.4)\n",
      "Requirement already satisfied: lxml in /opt/conda/lib/python3.9/site-packages (from sacrebleu) (4.7.1)\n",
      "Installing collected packages: regex, portalocker, sacrebleu\n",
      "Successfully installed portalocker-2.8.2 regex-2024.4.28 sacrebleu-2.4.2\n",
      "Note: you may need to restart the kernel to use updated packages.\n"
     ]
    }
   ],
   "source": [
    "pip install sacrebleu"
   ]
  },
  {
   "cell_type": "code",
   "execution_count": 2,
   "id": "25ccd44f-7ae0-4f5f-822a-79d4591e2603",
   "metadata": {
    "tags": []
   },
   "outputs": [
    {
     "name": "stdout",
     "output_type": "stream",
     "text": [
      "Looking in indexes: https://artifactory.tcsbank.ru/artifactory/api/pypi/python-all/simple\n",
      "Collecting tokenizers\n",
      "  Downloading https://artifactory.tcsbank.ru/artifactory/api/pypi/python-all/packages/packages/tokenizers/0.19.1/tokenizers-0.19.1-cp39-cp39-manylinux_2_17_x86_64.manylinux2014_x86_64.whl (3.6 MB)\n",
      "     l     ━━━━━━━━━━━━━━━━━━━━━━━━━━━━━━━━━━━━━━━━ 0.0/3.6 MB ? eta -:--:--━━━━━━━━━━━━━━━━━━━━━━━━━━━━━━━━━━━━━━━━ 3.6/3.6 MB 124.7 MB/s eta 0:00:00\n",
      "\u001b[?25hRequirement already satisfied: huggingface-hub<1.0,>=0.16.4 in /opt/conda/lib/python3.9/site-packages (from tokenizers) (0.23.0)\n",
      "Requirement already satisfied: filelock in /opt/conda/lib/python3.9/site-packages (from huggingface-hub<1.0,>=0.16.4->tokenizers) (3.14.0)\n",
      "Requirement already satisfied: fsspec>=2023.5.0 in /opt/conda/lib/python3.9/site-packages (from huggingface-hub<1.0,>=0.16.4->tokenizers) (2024.3.1)\n",
      "Requirement already satisfied: packaging>=20.9 in /opt/conda/lib/python3.9/site-packages (from huggingface-hub<1.0,>=0.16.4->tokenizers) (24.0)\n",
      "Requirement already satisfied: pyyaml>=5.1 in /opt/conda/lib/python3.9/site-packages (from huggingface-hub<1.0,>=0.16.4->tokenizers) (6.0)\n",
      "Requirement already satisfied: requests in /opt/conda/lib/python3.9/site-packages (from huggingface-hub<1.0,>=0.16.4->tokenizers) (2.31.0)\n",
      "Requirement already satisfied: tqdm>=4.42.1 in /opt/conda/lib/python3.9/site-packages (from huggingface-hub<1.0,>=0.16.4->tokenizers) (4.66.4)\n",
      "Requirement already satisfied: typing-extensions>=3.7.4.3 in /opt/conda/lib/python3.9/site-packages (from huggingface-hub<1.0,>=0.16.4->tokenizers) (4.11.0)\n",
      "Requirement already satisfied: charset-normalizer<4,>=2 in /opt/conda/lib/python3.9/site-packages (from requests->huggingface-hub<1.0,>=0.16.4->tokenizers) (2.0.10)\n",
      "Requirement already satisfied: idna<4,>=2.5 in /opt/conda/lib/python3.9/site-packages (from requests->huggingface-hub<1.0,>=0.16.4->tokenizers) (3.3)\n",
      "Requirement already satisfied: urllib3<3,>=1.21.1 in /opt/conda/lib/python3.9/site-packages (from requests->huggingface-hub<1.0,>=0.16.4->tokenizers) (2.2.1)\n",
      "Requirement already satisfied: certifi>=2017.4.17 in /opt/conda/lib/python3.9/site-packages (from requests->huggingface-hub<1.0,>=0.16.4->tokenizers) (2021.10.8)\n",
      "Installing collected packages: tokenizers\n",
      "Successfully installed tokenizers-0.19.1\n",
      "Note: you may need to restart the kernel to use updated packages.\n"
     ]
    }
   ],
   "source": [
    "pip install tokenizers"
   ]
  },
  {
   "cell_type": "code",
   "execution_count": 11,
   "id": "31809c21-3b02-4faa-b765-d7c965f4b412",
   "metadata": {
    "tags": []
   },
   "outputs": [],
   "source": [
    "!unzip -q  './test.zip' -d './'"
   ]
  },
  {
   "cell_type": "code",
   "execution_count": 1,
   "id": "7370d963",
   "metadata": {
    "tags": []
   },
   "outputs": [
    {
     "name": "stderr",
     "output_type": "stream",
     "text": [
      "/opt/conda/lib/python3.9/site-packages/scipy/__init__.py:146: UserWarning: A NumPy version >=1.16.5 and <1.23.0 is required for this version of SciPy (detected version 1.26.4\n",
      "  warnings.warn(f\"A NumPy version >={np_minversion} and <{np_maxversion}\"\n",
      "/opt/conda/lib/python3.9/site-packages/pandas/core/computation/expressions.py:21: UserWarning: Pandas requires version '2.8.4' or newer of 'numexpr' (version '2.7.3' currently installed).\n",
      "  from pandas.core.computation.check import NUMEXPR_INSTALLED\n",
      "/opt/conda/lib/python3.9/site-packages/pandas/core/arrays/masked.py:60: UserWarning: Pandas requires version '1.3.6' or newer of 'bottleneck' (version '1.3.2' currently installed).\n",
      "  from pandas.core import (\n"
     ]
    }
   ],
   "source": [
    "import seaborn as sns\n",
    "import matplotlib.pyplot as plt\n",
    "from IPython.display import clear_output\n",
    "from tqdm.notebook import tqdm"
   ]
  },
  {
   "cell_type": "code",
   "execution_count": 2,
   "id": "bfd3c702",
   "metadata": {
    "tags": []
   },
   "outputs": [
    {
     "data": {
      "image/png": "[encoded data removed]",
      "text/plain": [
       "<Figure size 864x504 with 1 Axes>"
      ]
     },
     "metadata": {
      "needs_background": "light"
     },
     "output_type": "display_data"
    }
   ],
   "source": [
    "x = [1, 5, 10, 15, 20]\n",
    "y1 = [1, 7, 3, 5, 11]\n",
    "y2 = [4, 3, 1, 8, 12]\n",
    "plt.figure(figsize=(12, 7))\n",
    "plt.plot(x, y1, 'o-r', alpha=0.7, label=\"first\", lw=5, mec='b', mew=2, ms=10)\n",
    "plt.plot(x, y2, 'v-.g', label=\"second\", mec='r', lw=2, mew=2, ms=12)\n",
    "plt.legend()\n",
    "plt.grid(True)"
   ]
  },
  {
   "cell_type": "code",
   "execution_count": 2,
   "id": "01abe7f4-0b8d-4d85-96d3-be451c48d674",
   "metadata": {
    "tags": []
   },
   "outputs": [],
   "source": [
    "from torch.utils.data import Dataset\n",
    "from torch.utils.data import DataLoader\n",
    "\n",
    "import pandas as pd\n",
    "import torch\n",
    "from torch import nn\n",
    "from torch.nn.utils.rnn import pad_sequence, pack_padded_sequence, pad_packed_sequence\n",
    "from torch.distributions.categorical import Categorical\n",
    "from torchmetrics.text import WordErrorRate\n",
    "from torchvision.io import read_image\n",
    "from torchvision.models import MobileNet_V2_Weights, mobilenet_v2\n",
    "from torchvision.models import EfficientNet_V2_M_Weights, efficientnet_v2_m, EfficientNet_V2_S_Weights, efficientnet_v2_s\n",
    "import numpy as np\n",
    "import shutil\n",
    "from collections import defaultdict\n",
    "from functools import partial\n",
    "from itertools import chain\n",
    "import os\n",
    "import json\n",
    "import typing\n",
    "from typing import Optional\n",
    "from pathlib import Path\n",
    "from datetime import datetime\n",
    "from sklearn.preprocessing import LabelEncoder\n",
    "from sklearn.model_selection import train_test_split\n",
    "from sklearn.metrics import precision_score, recall_score, f1_score, accuracy_score\n",
    "from sacrebleu import corpus_bleu\n",
    "from collections import defaultdict\n",
    "from accelerate import Accelerator\n",
    "from PIL import Image\n",
    "import re\n",
    "\n",
    "from tokenizers import Tokenizer\n",
    "from tokenizers.models import BPE\n",
    "from tokenizers.pre_tokenizers import Whitespace\n",
    "from tokenizers.trainers import BpeTrainer\n",
    "from tokenizers.processors import TemplateProcessing\n",
    "\n",
    "os.environ[\"TOKENIZERS_PARALLELISM\"] = \"true\""
   ]
  },
  {
   "cell_type": "code",
   "execution_count": 3,
   "id": "274989d0",
   "metadata": {
    "tags": []
   },
   "outputs": [
    {
     "name": "stderr",
     "output_type": "stream",
     "text": [
      "Detected kernel version 5.4.0, which is below the recommended minimum of 5.5.0; this can cause the process to hang. It is recommended to upgrade the kernel to the minimum version or higher.\n"
     ]
    },
    {
     "name": "stdout",
     "output_type": "stream",
     "text": [
      "cuda\n"
     ]
    }
   ],
   "source": [
    "# фиксации параметров в рамках всего запуска\n",
    "def seed_everything(seed: int) -> None:\n",
    "    import os\n",
    "    import random\n",
    "    import torch\n",
    "    import numpy as np\n",
    "\n",
    "    os.environ[\"PYTHONHASHSEED\"] = str(seed)\n",
    "    random.seed(seed)\n",
    "    np.random.seed(seed)\n",
    "    torch.manual_seed(seed)\n",
    "    if torch.cuda.is_available():\n",
    "        torch.cuda.manual_seed(seed)\n",
    "        torch.cuda.manual_seed_all(seed)\n",
    "\n",
    "\n",
    "def seed_worker(worker_id):\n",
    "    import random\n",
    "    import numpy as np\n",
    "    import torch\n",
    "    \n",
    "    worker_seed = torch.initial_seed() % 2**32\n",
    "    np.random.seed(worker_seed)\n",
    "    random.seed(worker_seed)\n",
    "\n",
    "SEED = 13\n",
    "seed_everything(SEED)\n",
    "\n",
    "import torch\n",
    "g = torch.Generator()\n",
    "g.manual_seed(0)\n",
    "\n",
    "# accelerator = Accelerator(mixed_precision=\"no\", cpu=True)\n",
    "accelerator = Accelerator(mixed_precision=\"no\")\n",
    "\n",
    "device = accelerator.device\n",
    "print(device)"
   ]
  },
  {
   "cell_type": "code",
   "execution_count": 4,
   "id": "49d7f73b",
   "metadata": {
    "tags": []
   },
   "outputs": [],
   "source": [
    "def visualise_1pic(img: torch.Tensor) -> None:\n",
    "    plt.imshow(torch.einsum(\"chw->hwc\", img))\n",
    "    plt.plot()"
   ]
  },
  {
   "cell_type": "code",
   "execution_count": 5,
   "id": "ad661d6e-3e46-47f6-b380-967ff01366e1",
   "metadata": {
    "tags": []
   },
   "outputs": [],
   "source": [
    "def get_target(data_dir: Path,\n",
    "               le: typing.Optional[LabelEncoder] = None,\n",
    "               label_encoder_pickle_file: Path = Path.cwd() / \"data\" / \"labelencoder.pkl\",\n",
    "               feedbacks : bool = True,\n",
    "               level : int = 1,\n",
    "               category1: str = None,\n",
    "               category2: str = None,\n",
    "               category3: str = None,\n",
    "               category4: str = None,\n",
    "               ):\n",
    "\n",
    "    folders = os.listdir(data_dir)\n",
    "    \n",
    "    if level not in range(1,6):\n",
    "        raise ValueError(\"The value of 'level' must be 1, 2, 3, 4 or 5\")\n",
    "    \n",
    "    if level == 1:\n",
    "        categories = folders\n",
    "\n",
    "    elif level == 2:\n",
    "        if category1 is None:\n",
    "            raise TypeError(\"choose_category() missing 1 required positional argument: 'category1'\")\n",
    "        categories = [category for category in folders if category.split(\"_\")[0]==category1]\n",
    "\n",
    "    elif level == 3:\n",
    "        if category1 is None or category2 is None:\n",
    "            raise TypeError(\"choose_category() missing required positional argument: 'category1' or 'category2'\")\n",
    "        categories = [category for category in folders if (category.split(\"_\")[0]==category1) and (category.split(\"_\")[1]==category2)]\n",
    "\n",
    "    elif level == 4:\n",
    "        if category1 is None or category2 is None or category3 is None:\n",
    "            raise TypeError(\"choose_category() missing required positional argument: 'category1', 'category2' or 'category3'\")\n",
    "        categories = [category for category in folders if (category.split(\"_\")[0]==category1) and (category.split(\"_\")[1]==category2) and (category.split(\"_\")[2]==category3)]\n",
    "\n",
    "    elif level == 5:\n",
    "        if category1 is None or category2 is None or category3 is None  or category4 is None:\n",
    "            raise TypeError(\"choose_category() missing required positional argument: 'category1', 'category2', 'category3' or 'category4'\")\n",
    "        categories = [category for category in folders if (category.split(\"_\")[0]==category1) and (category.split(\"_\")[1]==category2) and (category.split(\"_\")[2]==category3) and (category.split(\"_\")[3]==category4)]\n",
    "    \n",
    "    if feedbacks:\n",
    "        paths_card = [data_dir / category / \"card\" for category in categories]\n",
    "        paths_feedbacks = [data_dir / category / \"feedbacks\" for category in categories]\n",
    "        img_paths = [sorted(sub_category.rglob(\"*.png\")) for sub_category in paths_card + paths_feedbacks]\n",
    "        img_paths = list(chain(*img_paths))\n",
    "    else:\n",
    "        paths_card = [data_dir / category / \"card\" for category in categories]\n",
    "        img_paths = [sorted(sub_category.rglob(\"*.png\")) for sub_category in paths_card]\n",
    "        img_paths = list(chain(*img_paths))\n",
    "    \n",
    "    target = [path.parts[-3:-2][0] for path in img_paths]\n",
    "    \n",
    "    if not le:\n",
    "        le = LabelEncoder()\n",
    "        le = le.fit(target)\n",
    "\n",
    "    target_enc = le.transform(target)\n",
    "\n",
    "    # Соотнесения закодированного таргета и названий категорий\n",
    "    dict_topic = dict(zip(target, target_enc))\n",
    "    target2idx = dict(sorted(dict_topic.items(), key=lambda item: item[1]))\n",
    "    idx2target = dict(zip(target_enc, target))\n",
    "\n",
    "    return img_paths, torch.from_numpy(target_enc).long(), target2idx, idx2target\n",
    "\n",
    "\n",
    "def get_traintestsplit(img_paths : list[Path],\n",
    "                       target_enc : list,\n",
    "                       SEED : int,\n",
    "                       ):\n",
    "    \n",
    "    train_paths, test_paths, ytrain, ytest = train_test_split(img_paths, target_enc,\n",
    "                                                              test_size=0.2,\n",
    "                                                              stratify=target_enc,\n",
    "                                                              random_state=SEED)\n",
    "    return train_paths, test_paths, ytrain, ytest"
   ]
  },
  {
   "cell_type": "code",
   "execution_count": 6,
   "id": "91c2febe",
   "metadata": {
    "tags": []
   },
   "outputs": [],
   "source": [
    "from tokenizers.models import WordLevel, WordPiece\n",
    "from tokenizers.trainers import WordLevelTrainer, WordPieceTrainer"
   ]
  },
  {
   "cell_type": "code",
   "execution_count": 7,
   "id": "aa8db8af",
   "metadata": {
    "tags": []
   },
   "outputs": [],
   "source": [
    "def text_prepocessing(text: str) -> str:\n",
    "    text = text.lower()\n",
    "    text = re.sub(r\"[^0-9a-zA-Zа-яА-ЯёЁ]\", \" \", text)\n",
    "    text = re.sub(r\"\\s+\", \" \", text)    \n",
    "    return text\n",
    "\n",
    "\n",
    "def get_descriptions_and_embeds(paths: list[Path]):\n",
    "    descriptions = []\n",
    "    embeddings_check = False\n",
    "    \n",
    "    for path in paths:\n",
    "        line = pd.read_csv(path.parents[1] / \"descriptions.csv\", index_col=\"item\").loc[path.name]\n",
    "        descriptions.append(line)\n",
    "        \n",
    "        embed = pd.read_csv(path.parents[1] / \"embeddings.csv\", index_col=\"item\").loc[path.name][\"embedding\"].encode().decode('unicode-escape').encode('ISO-8859-1')[2:-1]\n",
    "        embed = torch.from_numpy(np.copy(np.frombuffer(embed, dtype=np.float32))).view(1, -1)\n",
    "        if embeddings_check:\n",
    "            embeddings = torch.cat([embeddings, embed], dim=0)\n",
    "        else:\n",
    "            embeddings = torch.cat([embed], dim=0)\n",
    "            embeddings_check = True\n",
    "        \n",
    "        \n",
    "    df = pd.DataFrame(descriptions)\n",
    "    df['descriptions_preproc'] = df.description.apply(text_prepocessing)\n",
    "    return df, embeddings\n",
    "\n",
    "\n",
    "def get_tokenizer(df_descriptions, saving : bool = False):\n",
    "    tokenizer = Tokenizer(WordLevel(unk_token=\"[UNK]\"))\n",
    "    tokenizer.pre_tokenizer = Whitespace()\n",
    "    trainer = WordLevelTrainer(special_tokens=[\"[PAD]\", \"[BOS]\", \"[EOS]\", \"[UNK]\"])\n",
    "\n",
    "    # обучение\n",
    "    tokenizer.train_from_iterator(df_descriptions[\"descriptions_preproc\"], trainer=trainer)\n",
    "    \n",
    "    # создаем шаблон, как надо выдавать предложения\n",
    "    tokenizer.post_processor = TemplateProcessing(\n",
    "        single=\"[BOS] $A [EOS]\",\n",
    "        special_tokens=[\n",
    "            (\"[BOS]\", tokenizer.token_to_id(\"[BOS]\")),\n",
    "            (\"[EOS]\", tokenizer.token_to_id(\"[EOS]\")),\n",
    "        ],\n",
    "    )\n",
    "    \n",
    "    if saving:\n",
    "        # сохранили в файл\n",
    "        tokenizer.save(\"tokenizer.json\") \n",
    "    \n",
    "    return tokenizer"
   ]
  },
  {
   "cell_type": "code",
   "execution_count": 9,
   "id": "8fc088e9",
   "metadata": {},
   "outputs": [],
   "source": [
    "#tokenizer.token_to_id(\"[PAD]\")\n",
    "#tokenizer.encode(\"маша мыла раму. петя пишет AAA там тут и сям. +\").ids"
   ]
  },
  {
   "cell_type": "code",
   "execution_count": 8,
   "id": "384c16f6-3597-4370-a1d8-bd32b7260414",
   "metadata": {
    "tags": []
   },
   "outputs": [],
   "source": [
    "data_dir = Path(\"./test\")\n",
    "processor = MobileNet_V2_Weights.IMAGENET1K_V2.transforms(\n",
    "    antialias=True,\n",
    ")\n",
    "\n",
    "# в данной функции определяется надо ли исп-ть feedbacks и какие категории брать\n",
    "img_paths, target_enc, _, idx2target = get_target(data_dir,\n",
    "                                                  feedbacks=False,\n",
    "                                                  level=3,\n",
    "                                                  category1=\"Канцтовары\",\n",
    "                                                  category2=\"Бумажная&продукция\")\n",
    "train_paths, test_paths, ytrain, ytest = get_traintestsplit(img_paths, target_enc, SEED)"
   ]
  },
  {
   "cell_type": "code",
   "execution_count": 9,
   "id": "aac9220c",
   "metadata": {
    "tags": []
   },
   "outputs": [
    {
     "name": "stdout",
     "output_type": "stream",
     "text": [
      "6840\n"
     ]
    },
    {
     "data": {
      "text/html": [
       "<div>\n",
       "<style scoped>\n",
       "    .dataframe tbody tr th:only-of-type {\n",
       "        vertical-align: middle;\n",
       "    }\n",
       "\n",
       "    .dataframe tbody tr th {\n",
       "        vertical-align: top;\n",
       "    }\n",
       "\n",
       "    .dataframe thead th {\n",
       "        text-align: right;\n",
       "    }\n",
       "</style>\n",
       "<table border=\"1\" class=\"dataframe\">\n",
       "  <thead>\n",
       "    <tr style=\"text-align: right;\">\n",
       "      <th></th>\n",
       "      <th>description</th>\n",
       "      <th>descriptions_preproc</th>\n",
       "    </tr>\n",
       "  </thead>\n",
       "  <tbody>\n",
       "    <tr>\n",
       "      <th>17.png</th>\n",
       "      <td>Классный журнал для 5-9 классов.Соответствует ...</td>\n",
       "      <td>классный журнал для 5 9 классов соответствует ...</td>\n",
       "    </tr>\n",
       "    <tr>\n",
       "      <th>0.png</th>\n",
       "      <td>Ежедневник с ручкой - лучший подарок для успеш...</td>\n",
       "      <td>ежедневник с ручкой лучший подарок для успешно...</td>\n",
       "    </tr>\n",
       "    <tr>\n",
       "      <th>2.png</th>\n",
       "      <td>Стикеры для заметок прозрачные 100 штук 9,6 см...</td>\n",
       "      <td>стикеры для заметок прозрачные 100 штук 9 6 см...</td>\n",
       "    </tr>\n",
       "    <tr>\n",
       "      <th>19.png</th>\n",
       "      <td>Универсальный мини блокнот на скобах beSmart и...</td>\n",
       "      <td>универсальный мини блокнот на скобах besmart и...</td>\n",
       "    </tr>\n",
       "    <tr>\n",
       "      <th>11.png</th>\n",
       "      <td>Диплом выпускника детского сада выполнен в тве...</td>\n",
       "      <td>диплом выпускника детского сада выполнен в тве...</td>\n",
       "    </tr>\n",
       "    <tr>\n",
       "      <th>...</th>\n",
       "      <td>...</td>\n",
       "      <td>...</td>\n",
       "    </tr>\n",
       "    <tr>\n",
       "      <th>11.png</th>\n",
       "      <td>Универсальный блокнот на скобах beSmart в стил...</td>\n",
       "      <td>универсальный блокнот на скобах besmart в стил...</td>\n",
       "    </tr>\n",
       "    <tr>\n",
       "      <th>9.png</th>\n",
       "      <td>Дневник школьный для мальчика 1-4класс в тверд...</td>\n",
       "      <td>дневник школьный для мальчика 1 4класс в тверд...</td>\n",
       "    </tr>\n",
       "    <tr>\n",
       "      <th>13.png</th>\n",
       "      <td>Медицинская карта для ребенка (форма №026/у) я...</td>\n",
       "      <td>медицинская карта для ребенка форма 026 у явля...</td>\n",
       "    </tr>\n",
       "    <tr>\n",
       "      <th>12.png</th>\n",
       "      <td>Самоклеющиеся прозрачные стикеры, также извест...</td>\n",
       "      <td>самоклеющиеся прозрачные стикеры также известн...</td>\n",
       "    </tr>\n",
       "    <tr>\n",
       "      <th>6.png</th>\n",
       "      <td>Набор цветной бумаги изумительно подходит для ...</td>\n",
       "      <td>набор цветной бумаги изумительно подходит для ...</td>\n",
       "    </tr>\n",
       "  </tbody>\n",
       "</table>\n",
       "<p>240 rows × 2 columns</p>\n",
       "</div>"
      ],
      "text/plain": [
       "                                              description  \\\n",
       "17.png  Классный журнал для 5-9 классов.Соответствует ...   \n",
       "0.png   Ежедневник с ручкой - лучший подарок для успеш...   \n",
       "2.png   Стикеры для заметок прозрачные 100 штук 9,6 см...   \n",
       "19.png  Универсальный мини блокнот на скобах beSmart и...   \n",
       "11.png  Диплом выпускника детского сада выполнен в тве...   \n",
       "...                                                   ...   \n",
       "11.png  Универсальный блокнот на скобах beSmart в стил...   \n",
       "9.png   Дневник школьный для мальчика 1-4класс в тверд...   \n",
       "13.png  Медицинская карта для ребенка (форма №026/у) я...   \n",
       "12.png  Самоклеющиеся прозрачные стикеры, также извест...   \n",
       "6.png   Набор цветной бумаги изумительно подходит для ...   \n",
       "\n",
       "                                     descriptions_preproc  \n",
       "17.png  классный журнал для 5 9 классов соответствует ...  \n",
       "0.png   ежедневник с ручкой лучший подарок для успешно...  \n",
       "2.png   стикеры для заметок прозрачные 100 штук 9 6 см...  \n",
       "19.png  универсальный мини блокнот на скобах besmart и...  \n",
       "11.png  диплом выпускника детского сада выполнен в тве...  \n",
       "...                                                   ...  \n",
       "11.png  универсальный блокнот на скобах besmart в стил...  \n",
       "9.png   дневник школьный для мальчика 1 4класс в тверд...  \n",
       "13.png  медицинская карта для ребенка форма 026 у явля...  \n",
       "12.png  самоклеющиеся прозрачные стикеры также известн...  \n",
       "6.png   набор цветной бумаги изумительно подходит для ...  \n",
       "\n",
       "[240 rows x 2 columns]"
      ]
     },
     "execution_count": 9,
     "metadata": {},
     "output_type": "execute_result"
    }
   ],
   "source": [
    "descriptions_train, embeddings_train = get_descriptions_and_embeds(train_paths)\n",
    "descriptions_test, embeddings_test = get_descriptions_and_embeds(test_paths)\n",
    "\n",
    "tokenizer = get_tokenizer(descriptions_train)\n",
    "print(tokenizer.get_vocab_size())                       # посмотрим на размер словаря\n",
    "\n",
    "descriptions_train"
   ]
  },
  {
   "cell_type": "code",
   "execution_count": 14,
   "id": "f8c52068",
   "metadata": {
    "tags": []
   },
   "outputs": [
    {
     "ename": "OptionError",
     "evalue": "\"No such keys(s): 'mode.use_inf_as_null'\"",
     "output_type": "error",
     "traceback": [
      "\u001b[0;31m---------------------------------------------------------------------------\u001b[0m",
      "\u001b[0;31mOptionError\u001b[0m                               Traceback (most recent call last)",
      "Input \u001b[0;32mIn [14]\u001b[0m, in \u001b[0;36m<module>\u001b[0;34m\u001b[0m\n\u001b[1;32m      1\u001b[0m \u001b[38;5;66;03m#Посмотрим на длину последоватеьностей\u001b[39;00m\n\u001b[0;32m----> 2\u001b[0m _ \u001b[38;5;241m=\u001b[39m \u001b[43msns\u001b[49m\u001b[38;5;241;43m.\u001b[39;49m\u001b[43mdisplot\u001b[49m\u001b[43m(\u001b[49m\u001b[43m[\u001b[49m\u001b[38;5;28;43mlen\u001b[39;49m\u001b[43m(\u001b[49m\u001b[43msent\u001b[49m\u001b[43m)\u001b[49m\u001b[43m \u001b[49m\u001b[38;5;28;43;01mfor\u001b[39;49;00m\u001b[43m \u001b[49m\u001b[43msent\u001b[49m\u001b[43m \u001b[49m\u001b[38;5;129;43;01min\u001b[39;49;00m\u001b[43m \u001b[49m\u001b[43mdescriptions_train\u001b[49m\u001b[43m[\u001b[49m\u001b[38;5;124;43m\"\u001b[39;49m\u001b[38;5;124;43mdescriptions_preproc\u001b[39;49m\u001b[38;5;124;43m\"\u001b[39;49m\u001b[43m]\u001b[49m\u001b[43m]\u001b[49m\u001b[43m)\u001b[49m\n",
      "File \u001b[0;32m/opt/conda/lib/python3.9/site-packages/seaborn/distributions.py:2274\u001b[0m, in \u001b[0;36mdisplot\u001b[0;34m(data, x, y, hue, row, col, weights, kind, rug, rug_kws, log_scale, legend, palette, hue_order, hue_norm, color, col_wrap, row_order, col_order, height, aspect, facet_kws, **kwargs)\u001b[0m\n\u001b[1;32m   2271\u001b[0m \u001b[38;5;28;01mif\u001b[39;00m p\u001b[38;5;241m.\u001b[39munivariate:\n\u001b[1;32m   2273\u001b[0m     _assign_default_kwargs(hist_kws, p\u001b[38;5;241m.\u001b[39mplot_univariate_histogram, histplot)\n\u001b[0;32m-> 2274\u001b[0m     \u001b[43mp\u001b[49m\u001b[38;5;241;43m.\u001b[39;49m\u001b[43mplot_univariate_histogram\u001b[49m\u001b[43m(\u001b[49m\u001b[38;5;241;43m*\u001b[39;49m\u001b[38;5;241;43m*\u001b[39;49m\u001b[43mhist_kws\u001b[49m\u001b[43m)\u001b[49m\n\u001b[1;32m   2276\u001b[0m \u001b[38;5;28;01melse\u001b[39;00m:\n\u001b[1;32m   2278\u001b[0m     _assign_default_kwargs(hist_kws, p\u001b[38;5;241m.\u001b[39mplot_bivariate_histogram, histplot)\n",
      "File \u001b[0;32m/opt/conda/lib/python3.9/site-packages/seaborn/distributions.py:428\u001b[0m, in \u001b[0;36m_DistributionPlotter.plot_univariate_histogram\u001b[0;34m(self, multiple, element, fill, common_norm, common_bins, shrink, kde, kde_kws, color, legend, line_kws, estimate_kws, **plot_kws)\u001b[0m\n\u001b[1;32m    418\u001b[0m     densities \u001b[38;5;241m=\u001b[39m \u001b[38;5;28mself\u001b[39m\u001b[38;5;241m.\u001b[39m_compute_univariate_density(\n\u001b[1;32m    419\u001b[0m         \u001b[38;5;28mself\u001b[39m\u001b[38;5;241m.\u001b[39mdata_variable,\n\u001b[1;32m    420\u001b[0m         common_norm,\n\u001b[0;32m   (...)\u001b[0m\n\u001b[1;32m    424\u001b[0m         warn_singular\u001b[38;5;241m=\u001b[39m\u001b[38;5;28;01mFalse\u001b[39;00m,\n\u001b[1;32m    425\u001b[0m     )\n\u001b[1;32m    427\u001b[0m \u001b[38;5;66;03m# First pass through the data to compute the histograms\u001b[39;00m\n\u001b[0;32m--> 428\u001b[0m \u001b[38;5;28;01mfor\u001b[39;00m sub_vars, sub_data \u001b[38;5;129;01min\u001b[39;00m \u001b[38;5;28mself\u001b[39m\u001b[38;5;241m.\u001b[39miter_data(\u001b[38;5;124m\"\u001b[39m\u001b[38;5;124mhue\u001b[39m\u001b[38;5;124m\"\u001b[39m, from_comp_data\u001b[38;5;241m=\u001b[39m\u001b[38;5;28;01mTrue\u001b[39;00m):\n\u001b[1;32m    429\u001b[0m \n\u001b[1;32m    430\u001b[0m     \u001b[38;5;66;03m# Prepare the relevant data\u001b[39;00m\n\u001b[1;32m    431\u001b[0m     key \u001b[38;5;241m=\u001b[39m \u001b[38;5;28mtuple\u001b[39m(sub_vars\u001b[38;5;241m.\u001b[39mitems())\n\u001b[1;32m    432\u001b[0m     sub_data \u001b[38;5;241m=\u001b[39m sub_data\u001b[38;5;241m.\u001b[39mdropna()\n",
      "File \u001b[0;32m/opt/conda/lib/python3.9/site-packages/seaborn/_core.py:983\u001b[0m, in \u001b[0;36mVectorPlotter.iter_data\u001b[0;34m(self, grouping_vars, reverse, from_comp_data)\u001b[0m\n\u001b[1;32m    978\u001b[0m grouping_vars \u001b[38;5;241m=\u001b[39m [\n\u001b[1;32m    979\u001b[0m     var \u001b[38;5;28;01mfor\u001b[39;00m var \u001b[38;5;129;01min\u001b[39;00m grouping_vars \u001b[38;5;28;01mif\u001b[39;00m var \u001b[38;5;129;01min\u001b[39;00m \u001b[38;5;28mself\u001b[39m\u001b[38;5;241m.\u001b[39mvariables\n\u001b[1;32m    980\u001b[0m ]\n\u001b[1;32m    982\u001b[0m \u001b[38;5;28;01mif\u001b[39;00m from_comp_data:\n\u001b[0;32m--> 983\u001b[0m     data \u001b[38;5;241m=\u001b[39m \u001b[38;5;28;43mself\u001b[39;49m\u001b[38;5;241;43m.\u001b[39;49m\u001b[43mcomp_data\u001b[49m\n\u001b[1;32m    984\u001b[0m \u001b[38;5;28;01melse\u001b[39;00m:\n\u001b[1;32m    985\u001b[0m     data \u001b[38;5;241m=\u001b[39m \u001b[38;5;28mself\u001b[39m\u001b[38;5;241m.\u001b[39mplot_data\n",
      "File \u001b[0;32m/opt/conda/lib/python3.9/site-packages/seaborn/_core.py:1054\u001b[0m, in \u001b[0;36mVectorPlotter.comp_data\u001b[0;34m(self)\u001b[0m\n\u001b[1;32m   1050\u001b[0m axis \u001b[38;5;241m=\u001b[39m \u001b[38;5;28mgetattr\u001b[39m(ax, \u001b[38;5;124mf\u001b[39m\u001b[38;5;124m\"\u001b[39m\u001b[38;5;132;01m{\u001b[39;00mvar\u001b[38;5;132;01m}\u001b[39;00m\u001b[38;5;124maxis\u001b[39m\u001b[38;5;124m\"\u001b[39m)\n\u001b[1;32m   1052\u001b[0m \u001b[38;5;66;03m# Use the converter assigned to the axis to get a float representation\u001b[39;00m\n\u001b[1;32m   1053\u001b[0m \u001b[38;5;66;03m# of the data, passing np.nan or pd.NA through (pd.NA becomes np.nan)\u001b[39;00m\n\u001b[0;32m-> 1054\u001b[0m \u001b[38;5;28;01mwith\u001b[39;00m pd\u001b[38;5;241m.\u001b[39moption_context(\u001b[38;5;124m'\u001b[39m\u001b[38;5;124mmode.use_inf_as_null\u001b[39m\u001b[38;5;124m'\u001b[39m, \u001b[38;5;28;01mTrue\u001b[39;00m):\n\u001b[1;32m   1055\u001b[0m     orig \u001b[38;5;241m=\u001b[39m \u001b[38;5;28mself\u001b[39m\u001b[38;5;241m.\u001b[39mplot_data[var]\u001b[38;5;241m.\u001b[39mdropna()\n\u001b[1;32m   1056\u001b[0m comp_col \u001b[38;5;241m=\u001b[39m pd\u001b[38;5;241m.\u001b[39mSeries(index\u001b[38;5;241m=\u001b[39morig\u001b[38;5;241m.\u001b[39mindex, dtype\u001b[38;5;241m=\u001b[39m\u001b[38;5;28mfloat\u001b[39m, name\u001b[38;5;241m=\u001b[39mvar)\n",
      "File \u001b[0;32m/opt/conda/lib/python3.9/site-packages/pandas/_config/config.py:480\u001b[0m, in \u001b[0;36moption_context.__enter__\u001b[0;34m(self)\u001b[0m\n\u001b[1;32m    479\u001b[0m \u001b[38;5;28;01mdef\u001b[39;00m \u001b[38;5;21m__enter__\u001b[39m(\u001b[38;5;28mself\u001b[39m) \u001b[38;5;241m-\u001b[39m\u001b[38;5;241m>\u001b[39m \u001b[38;5;28;01mNone\u001b[39;00m:\n\u001b[0;32m--> 480\u001b[0m     \u001b[38;5;28mself\u001b[39m\u001b[38;5;241m.\u001b[39mundo \u001b[38;5;241m=\u001b[39m [(pat, _get_option(pat)) \u001b[38;5;28;01mfor\u001b[39;00m pat, val \u001b[38;5;129;01min\u001b[39;00m \u001b[38;5;28mself\u001b[39m\u001b[38;5;241m.\u001b[39mops]\n\u001b[1;32m    482\u001b[0m     \u001b[38;5;28;01mfor\u001b[39;00m pat, val \u001b[38;5;129;01min\u001b[39;00m \u001b[38;5;28mself\u001b[39m\u001b[38;5;241m.\u001b[39mops:\n\u001b[1;32m    483\u001b[0m         _set_option(pat, val, silent\u001b[38;5;241m=\u001b[39m\u001b[38;5;28;01mTrue\u001b[39;00m)\n",
      "File \u001b[0;32m/opt/conda/lib/python3.9/site-packages/pandas/_config/config.py:480\u001b[0m, in \u001b[0;36m<listcomp>\u001b[0;34m(.0)\u001b[0m\n\u001b[1;32m    479\u001b[0m \u001b[38;5;28;01mdef\u001b[39;00m \u001b[38;5;21m__enter__\u001b[39m(\u001b[38;5;28mself\u001b[39m) \u001b[38;5;241m-\u001b[39m\u001b[38;5;241m>\u001b[39m \u001b[38;5;28;01mNone\u001b[39;00m:\n\u001b[0;32m--> 480\u001b[0m     \u001b[38;5;28mself\u001b[39m\u001b[38;5;241m.\u001b[39mundo \u001b[38;5;241m=\u001b[39m [(pat, \u001b[43m_get_option\u001b[49m\u001b[43m(\u001b[49m\u001b[43mpat\u001b[49m\u001b[43m)\u001b[49m) \u001b[38;5;28;01mfor\u001b[39;00m pat, val \u001b[38;5;129;01min\u001b[39;00m \u001b[38;5;28mself\u001b[39m\u001b[38;5;241m.\u001b[39mops]\n\u001b[1;32m    482\u001b[0m     \u001b[38;5;28;01mfor\u001b[39;00m pat, val \u001b[38;5;129;01min\u001b[39;00m \u001b[38;5;28mself\u001b[39m\u001b[38;5;241m.\u001b[39mops:\n\u001b[1;32m    483\u001b[0m         _set_option(pat, val, silent\u001b[38;5;241m=\u001b[39m\u001b[38;5;28;01mTrue\u001b[39;00m)\n",
      "File \u001b[0;32m/opt/conda/lib/python3.9/site-packages/pandas/_config/config.py:146\u001b[0m, in \u001b[0;36m_get_option\u001b[0;34m(pat, silent)\u001b[0m\n\u001b[1;32m    145\u001b[0m \u001b[38;5;28;01mdef\u001b[39;00m \u001b[38;5;21m_get_option\u001b[39m(pat: \u001b[38;5;28mstr\u001b[39m, silent: \u001b[38;5;28mbool\u001b[39m \u001b[38;5;241m=\u001b[39m \u001b[38;5;28;01mFalse\u001b[39;00m) \u001b[38;5;241m-\u001b[39m\u001b[38;5;241m>\u001b[39m Any:\n\u001b[0;32m--> 146\u001b[0m     key \u001b[38;5;241m=\u001b[39m \u001b[43m_get_single_key\u001b[49m\u001b[43m(\u001b[49m\u001b[43mpat\u001b[49m\u001b[43m,\u001b[49m\u001b[43m \u001b[49m\u001b[43msilent\u001b[49m\u001b[43m)\u001b[49m\n\u001b[1;32m    148\u001b[0m     \u001b[38;5;66;03m# walk the nested dict\u001b[39;00m\n\u001b[1;32m    149\u001b[0m     root, k \u001b[38;5;241m=\u001b[39m _get_root(key)\n",
      "File \u001b[0;32m/opt/conda/lib/python3.9/site-packages/pandas/_config/config.py:132\u001b[0m, in \u001b[0;36m_get_single_key\u001b[0;34m(pat, silent)\u001b[0m\n\u001b[1;32m    130\u001b[0m     \u001b[38;5;28;01mif\u001b[39;00m \u001b[38;5;129;01mnot\u001b[39;00m silent:\n\u001b[1;32m    131\u001b[0m         _warn_if_deprecated(pat)\n\u001b[0;32m--> 132\u001b[0m     \u001b[38;5;28;01mraise\u001b[39;00m OptionError(\u001b[38;5;124mf\u001b[39m\u001b[38;5;124m\"\u001b[39m\u001b[38;5;124mNo such keys(s): \u001b[39m\u001b[38;5;132;01m{\u001b[39;00m\u001b[38;5;28mrepr\u001b[39m(pat)\u001b[38;5;132;01m}\u001b[39;00m\u001b[38;5;124m\"\u001b[39m)\n\u001b[1;32m    133\u001b[0m \u001b[38;5;28;01mif\u001b[39;00m \u001b[38;5;28mlen\u001b[39m(keys) \u001b[38;5;241m>\u001b[39m \u001b[38;5;241m1\u001b[39m:\n\u001b[1;32m    134\u001b[0m     \u001b[38;5;28;01mraise\u001b[39;00m OptionError(\u001b[38;5;124m\"\u001b[39m\u001b[38;5;124mPattern matched multiple keys\u001b[39m\u001b[38;5;124m\"\u001b[39m)\n",
      "\u001b[0;31mOptionError\u001b[0m: \"No such keys(s): 'mode.use_inf_as_null'\""
     ]
    },
    {
     "data": {
      "image/png": "[encoded data removed]",
      "text/plain": [
       "<Figure size 360x360 with 1 Axes>"
      ]
     },
     "metadata": {
      "needs_background": "light"
     },
     "output_type": "display_data"
    }
   ],
   "source": [
    "#Посмотрим на длину последоватеьностей\n",
    "_ = sns.displot([len(sent) for sent in descriptions_train[\"descriptions_preproc\"]])"
   ]
  },
  {
   "cell_type": "code",
   "execution_count": 10,
   "id": "c04ca57e-9acf-4419-899f-83d36ce2e3ee",
   "metadata": {
    "tags": []
   },
   "outputs": [],
   "source": [
    "class WbDataset(Dataset):\n",
    "    def __init__(self,\n",
    "                 img_paths: list[Path],\n",
    "                 img_embeds: torch.Tensor,\n",
    "                 descriptions: list[str],\n",
    "                 tokenizer: Tokenizer,\n",
    "                 max_length: int = 5000,\n",
    "                ):\n",
    "\n",
    "        self.img_paths = img_paths\n",
    "        self.img_embeds = img_embeds\n",
    "        self.tokenizer = tokenizer\n",
    "        self.max_length = max_length\n",
    "        self.descriptions = descriptions\n",
    "        \n",
    "    def __getitem__(self, index):\n",
    "        img_path = self.img_paths[index]\n",
    "\n",
    "        ids = self.tokenizer.encode(self.descriptions[index]).ids[:self.max_length]\n",
    "        out = {\"embed\": self.img_embeds[index], \"description\": ids, \"path\": str(img_path)}\n",
    " \n",
    "        return out\n",
    "\n",
    "\n",
    "    def __len__(self):\n",
    "        return len(self.img_embeds)"
   ]
  },
  {
   "cell_type": "code",
   "execution_count": 11,
   "id": "387cba26",
   "metadata": {
    "tags": []
   },
   "outputs": [],
   "source": [
    "train_dataset = WbDataset(img_paths=train_paths,\n",
    "                          img_embeds=embeddings_train,\n",
    "                          descriptions=descriptions_train[\"descriptions_preproc\"],\n",
    "                          tokenizer=tokenizer,\n",
    "                         )\n",
    "\n",
    "test_dataset = WbDataset(img_paths=test_paths,\n",
    "                         img_embeds=embeddings_test,\n",
    "                         descriptions=descriptions_test[\"descriptions_preproc\"],\n",
    "                         tokenizer=tokenizer,\n",
    "                         )"
   ]
  },
  {
   "cell_type": "code",
   "execution_count": 12,
   "id": "f2c794c6",
   "metadata": {
    "tags": []
   },
   "outputs": [
    {
     "name": "stderr",
     "output_type": "stream",
     "text": [
      "/tmp/ipykernel_463/544730023.py:19: FutureWarning: Series.__getitem__ treating keys as positions is deprecated. In a future version, integer keys will always be treated as labels (consistent with DataFrame behavior). To access a value by position, use `ser.iloc[pos]`\n",
      "  ids = self.tokenizer.encode(self.descriptions[index]).ids[:self.max_length]\n"
     ]
    },
    {
     "name": "stdout",
     "output_type": "stream",
     "text": [
      "dict_keys(['embed', 'description', 'path'])\n",
      "torch.Size([1024])\n",
      "20\n",
      "18\n"
     ]
    }
   ],
   "source": [
    "item = train_dataset[0]\n",
    "\n",
    "print(item.keys())\n",
    "print(item[\"embed\"].shape)\n",
    "print(len(item[\"description\"]))\n",
    "print(len(tokenizer.decode(item[\"description\"]).split()))"
   ]
  },
  {
   "cell_type": "code",
   "execution_count": 16,
   "id": "be18d7a9",
   "metadata": {},
   "outputs": [],
   "source": [
    "#tokenizer.get_vocab()"
   ]
  },
  {
   "cell_type": "code",
   "execution_count": 13,
   "id": "34156af3",
   "metadata": {
    "tags": []
   },
   "outputs": [],
   "source": [
    "class Collator:\n",
    "    def __init__(self, transform=None, mixes=None) -> None:\n",
    "        self.transform = transform\n",
    "        self.mixes = mixes\n",
    "\n",
    "    def __call__(self, batch):\n",
    "        tensor_dict = defaultdict(list)\n",
    "        for sample in batch:\n",
    "            for key, value in sample.items():\n",
    "                tensor_dict[key].append(value)\n",
    "\n",
    "        data = torch.stack(tensor_dict[\"embed\"])\n",
    "        \n",
    "        # Pad values\n",
    "        out = {\n",
    "            \"embed\": data,\n",
    "            \"description\": pad_sequence([torch.tensor(t) for t in tensor_dict[\"description\"]], batch_first=True),\n",
    "            \"path\": tensor_dict[\"path\"],\n",
    "        }\n",
    "\n",
    "        return out"
   ]
  },
  {
   "cell_type": "code",
   "execution_count": 14,
   "id": "c2feb585",
   "metadata": {
    "tags": []
   },
   "outputs": [],
   "source": [
    "# train_dataset = torch.utils.data.Subset(train_dataset, [i for i in range(8)])\n",
    "# test_dataset = torch.utils.data.Subset(test_dataset, [i for i in range(8)])\n",
    "BATCH_SIZE = 32\n",
    "\n",
    "train_loader = accelerator.prepare_data_loader(DataLoader(train_dataset,\n",
    "                                               batch_size=BATCH_SIZE,\n",
    "                                               shuffle=True,\n",
    "                                               collate_fn=Collator(),\n",
    "                                               pin_memory=True,\n",
    "                                               generator=torch.Generator().manual_seed(SEED),\n",
    "                                               worker_init_fn=seed_worker)\n",
    "                                                                  )\n",
    "\n",
    "\n",
    "val_loader = accelerator.prepare_data_loader(DataLoader(test_dataset,\n",
    "                                             batch_size=BATCH_SIZE,\n",
    "                                             shuffle=False,\n",
    "                                             collate_fn=Collator(),\n",
    "                                             pin_memory=True,\n",
    "                                             generator=torch.Generator().manual_seed(SEED),\n",
    "                                             worker_init_fn=seed_worker)\n",
    "                                                                )"
   ]
  },
  {
   "cell_type": "code",
   "execution_count": 15,
   "id": "b875f920",
   "metadata": {
    "tags": []
   },
   "outputs": [
    {
     "name": "stderr",
     "output_type": "stream",
     "text": [
      "/tmp/ipykernel_463/544730023.py:19: FutureWarning: Series.__getitem__ treating keys as positions is deprecated. In a future version, integer keys will always be treated as labels (consistent with DataFrame behavior). To access a value by position, use `ser.iloc[pos]`\n",
      "  ids = self.tokenizer.encode(self.descriptions[index]).ids[:self.max_length]\n"
     ]
    }
   ],
   "source": [
    "elem = next(iter(train_loader))\n",
    "#elem['img'][0].shape\n",
    "\n",
    "# visualise_1pic(elem[0][0])"
   ]
  },
  {
   "cell_type": "code",
   "execution_count": 16,
   "id": "bc487a8b",
   "metadata": {
    "tags": []
   },
   "outputs": [
    {
     "data": {
      "text/plain": [
       "torch.Size([32, 1024])"
      ]
     },
     "execution_count": 16,
     "metadata": {},
     "output_type": "execute_result"
    }
   ],
   "source": [
    "elem[\"embed\"].shape"
   ]
  },
  {
   "cell_type": "code",
   "execution_count": 17,
   "id": "0cdff387",
   "metadata": {
    "tags": []
   },
   "outputs": [
    {
     "data": {
      "text/plain": [
       "torch.Size([32, 509])"
      ]
     },
     "execution_count": 17,
     "metadata": {},
     "output_type": "execute_result"
    }
   ],
   "source": [
    "elem['description'].shape"
   ]
  },
  {
   "cell_type": "code",
   "execution_count": 18,
   "id": "f873a003",
   "metadata": {
    "tags": []
   },
   "outputs": [
    {
     "data": {
      "text/plain": [
       "tensor([   1, 1712, 1081,   41,   53,  269,    5,  147,   80, 2002, 1972,  311,\n",
       "           7,  406, 3048, 1610, 4549, 1326, 6592,    9, 4627,  171,  314,   53,\n",
       "          41,   15,   74, 2165, 4734,  560,   17,   10, 4047,    4,   10, 5553,\n",
       "         474,  253,   88,  163, 3276, 3360,    5,  150, 3595, 3594,   16,    6,\n",
       "         224,   90, 1885, 3820,   76,   12,  116, 3039, 5511, 5078,   85, 1911,\n",
       "         212,  359,   41,  639,  340, 2424,  311, 2002, 4909,  191,  494,    9,\n",
       "        3221,  716,    7, 6150, 1966,  866,   53,   41,    5,  150,  830, 4220,\n",
       "         331,  855,  907, 1226, 3373,   22,    6,  612,  359,   53,  639,  340,\n",
       "           6,  496, 4156,    2,    0,    0,    0,    0,    0,    0,    0,    0,\n",
       "           0,    0,    0,    0,    0,    0,    0,    0,    0,    0,    0,    0,\n",
       "           0,    0,    0,    0,    0,    0,    0,    0,    0,    0,    0,    0,\n",
       "           0,    0,    0,    0,    0,    0,    0,    0,    0,    0,    0,    0,\n",
       "           0,    0,    0,    0,    0,    0,    0,    0,    0,    0,    0,    0,\n",
       "           0,    0,    0,    0,    0,    0,    0,    0,    0,    0,    0,    0,\n",
       "           0,    0,    0,    0,    0,    0,    0,    0,    0,    0,    0,    0,\n",
       "           0,    0,    0,    0,    0,    0,    0,    0,    0,    0,    0,    0,\n",
       "           0,    0,    0,    0,    0,    0,    0,    0,    0,    0,    0,    0,\n",
       "           0,    0,    0,    0,    0,    0,    0,    0,    0,    0,    0,    0,\n",
       "           0,    0,    0,    0,    0,    0,    0,    0,    0,    0,    0,    0,\n",
       "           0,    0,    0,    0,    0,    0,    0,    0,    0,    0,    0,    0,\n",
       "           0,    0,    0,    0,    0,    0,    0,    0,    0,    0,    0,    0,\n",
       "           0,    0,    0,    0,    0,    0,    0,    0,    0,    0,    0,    0,\n",
       "           0,    0,    0,    0,    0,    0,    0,    0,    0,    0,    0,    0,\n",
       "           0,    0,    0,    0,    0,    0,    0,    0,    0,    0,    0,    0,\n",
       "           0,    0,    0,    0,    0,    0,    0,    0,    0,    0,    0,    0,\n",
       "           0,    0,    0,    0,    0,    0,    0,    0,    0,    0,    0,    0,\n",
       "           0,    0,    0,    0,    0,    0,    0,    0,    0,    0,    0,    0,\n",
       "           0,    0,    0,    0,    0,    0,    0,    0,    0,    0,    0,    0,\n",
       "           0,    0,    0,    0,    0,    0,    0,    0,    0,    0,    0,    0,\n",
       "           0,    0,    0,    0,    0,    0,    0,    0,    0,    0,    0,    0,\n",
       "           0,    0,    0,    0,    0,    0,    0,    0,    0,    0,    0,    0,\n",
       "           0,    0,    0,    0,    0,    0,    0,    0,    0,    0,    0,    0,\n",
       "           0,    0,    0,    0,    0,    0,    0,    0,    0,    0,    0,    0,\n",
       "           0,    0,    0,    0,    0,    0,    0,    0,    0,    0,    0,    0,\n",
       "           0,    0,    0,    0,    0,    0,    0,    0,    0,    0,    0,    0,\n",
       "           0,    0,    0,    0,    0,    0,    0,    0,    0,    0,    0,    0,\n",
       "           0,    0,    0,    0,    0,    0,    0,    0,    0,    0,    0,    0,\n",
       "           0,    0,    0,    0,    0,    0,    0,    0,    0,    0,    0,    0,\n",
       "           0,    0,    0,    0,    0,    0,    0,    0,    0,    0,    0,    0,\n",
       "           0,    0,    0,    0,    0,    0,    0,    0,    0,    0,    0,    0,\n",
       "           0,    0,    0,    0,    0,    0,    0,    0,    0,    0,    0,    0,\n",
       "           0,    0,    0,    0,    0,    0,    0,    0,    0,    0,    0,    0,\n",
       "           0,    0,    0,    0,    0], device='cuda:0')"
      ]
     },
     "execution_count": 18,
     "metadata": {},
     "output_type": "execute_result"
    }
   ],
   "source": [
    "elem['description'][0]"
   ]
  },
  {
   "cell_type": "markdown",
   "id": "18d1a816",
   "metadata": {},
   "source": [
    "___"
   ]
  },
  {
   "cell_type": "markdown",
   "id": "c12e7de8",
   "metadata": {},
   "source": [
    "Доделать по датасету:\n",
    " - добавить decode encode\n",
    " - не брать товары, у которых нет описания"
   ]
  },
  {
   "cell_type": "markdown",
   "id": "418c2e59",
   "metadata": {},
   "source": [
    "Нерешенные вопросы:\n",
    " - подумать какой лучше брать токенайзер\n",
    " - как делать предикт:\n",
    "   - categorical или argmax\n",
    "   - критерии останова\n",
    "   - как прогонять сразу батчом"
   ]
  },
  {
   "cell_type": "code",
   "execution_count": null,
   "id": "a300cbfb-ccf5-4e8b-967b-eca1c6701f83",
   "metadata": {},
   "outputs": [],
   "source": [
    "import torch\n",
    "import torch.nn as nn\n",
    "\n",
    "class Attention(nn.Module):\n",
    "    def __init__(self, units):\n",
    "        super(Attention, self).__init__()\n",
    "        self.units = units\n",
    "        self.W1 = nn.Linear(units, units)\n",
    "        self.W2 = nn.Linear(units, units)\n",
    "        self.S = nn.Linear(units, 1)\n",
    "    \n",
    "    def forward(self, features, hidden):\n",
    "        hidden_state_with_time_axis = hidden.unsqueeze(1)\n",
    "        \n",
    "        attention_hidden_layer = torch.tanh(self.W1(features) + self.W2(hidden_state_with_time_axis))\n",
    "        \n",
    "        score = self.S(attention_hidden_layer)\n",
    "        attention_weights = torch.softmax(score, dim=1)\n",
    "        \n",
    "        context_vector = features * attention_weights\n",
    "        context_vector = torch.sum(context_vector, dim=1)\n",
    "        return context_vector\n"
   ]
  },
  {
   "cell_type": "code",
   "execution_count": 37,
   "id": "4afdcd57-ae3f-4e1a-a6b8-d79c078dc060",
   "metadata": {
    "tags": []
   },
   "outputs": [],
   "source": [
    "class Attention(nn.Module):\n",
    "    def __init__(self):\n",
    "        super(Attention, self).__init__()\n",
    "\n",
    "    def forward(self, encoder_outputs, decoder_hidden):\n",
    "        # encoder_outputs: (batch_size, seq_len, hidden_dim)\n",
    "        # decoder_hidden: (batch_size, hidden_dim)\n",
    "        \n",
    "        # Calculate the attention scores.\n",
    "        \n",
    "        scores = torch.bmm(encoder_outputs, decoder_hidden.unsqueeze(2)).squeeze(2)  # (batch_size, seq_len)\n",
    "        \n",
    "        attn_weights = F.softmax(scores, dim=1)  # (batch_size, seq_len)\n",
    "        \n",
    "        context_vector = torch.bmm(attn_weights.unsqueeze(1), encoder_outputs).squeeze(1)  # (batch_size, hidden_dim)\n",
    "\n",
    "        return context_vector, attn_weights"
   ]
  },
  {
   "cell_type": "code",
   "execution_count": 96,
   "id": "345b252a-6210-4989-973e-4e82b7f34f26",
   "metadata": {
    "tags": []
   },
   "outputs": [],
   "source": [
    "class DecoderRNN(nn.Module):\n",
    "    def __init__(\n",
    "        self,\n",
    "        tokenizer: Tokenizer,\n",
    "        image_embed_dim,\n",
    "        embed_dim : int = 256,\n",
    "        hidden_dim : int = 256,\n",
    "        lstm_layers : int = 1,\n",
    "        dropout_prob: float = 0.1,\n",
    "        num_heads: int = 8\n",
    "    ):\n",
    "        super().__init__()\n",
    "        \n",
    "        self.lstm_layers = lstm_layers\n",
    "        self.hidden_dim = hidden_dim\n",
    "        self.tokenizer = tokenizer\n",
    "        \n",
    "        self.image_embed_to_h0 = torch.nn.Sequential(\n",
    "            torch.nn.Linear(in_features=image_embed_dim, out_features=lstm_layers * hidden_dim),\n",
    "            torch.nn.LeakyReLU(0.1),\n",
    "        )\n",
    "        self.image_embed_to_c0 = torch.nn.Sequential(\n",
    "            torch.nn.Linear(in_features=image_embed_dim, out_features=lstm_layers * hidden_dim),\n",
    "            torch.nn.LeakyReLU(0.1),\n",
    "        )\n",
    "        self.attention = nn.MultiheadAttention(hidden_dim, num_heads=num_heads, dropout=dropout_prob)\n",
    "        \n",
    "        self.embed = torch.nn.Embedding(\n",
    "            num_embeddings=self.tokenizer.get_vocab_size(),\n",
    "            embedding_dim=embed_dim,\n",
    "            padding_idx=self.tokenizer.get_vocab()[\"[PAD]\"],\n",
    "        )\n",
    "        self.lstm = torch.nn.LSTM(\n",
    "            input_size=hidden_dim + embed_dim, \n",
    "            hidden_size=hidden_dim,\n",
    "            num_layers=lstm_layers,\n",
    "            batch_first=True, \n",
    "        )\n",
    "        self.linear = torch.nn.Sequential(\n",
    "            torch.nn.Linear(in_features=hidden_dim + , out_features=self.tokenizer.get_vocab_size()),\n",
    "            torch.nn.Dropout(p=dropout_prob),\n",
    "        )\n",
    "\n",
    "    \n",
    "    def forward(self, image_embeds, captions):\n",
    "        batch_size = image_embeds.shape[0]\n",
    "        h0 = self.image_embed_to_h0(image_embeds).reshape(batch_size, self.lstm_layers, self.hidden_dim).transpose(0, 1)\n",
    "        c0 = self.image_embed_to_c0(image_embeds).reshape(batch_size, self.lstm_layers, self.hidden_dim).transpose(0, 1)\n",
    "        \n",
    "        \n",
    "        embeds = self.embed(captions)\n",
    "        lengths = (captions != 0).sum(dim=-1).cpu()\n",
    "        \n",
    "        # Attention mechanism\n",
    "        embeds_with_pos = embeds.transpose(0, 1)  # [seq_len, batch_size, embed_dim]\n",
    "        attention_output, _ = self.attention(embeds_with_pos, embeds_with_pos, embeds_with_pos)\n",
    "        attention_output = attention_output.transpose(0, 1)  # [batch_size, seq_len, embed_dim]\n",
    "        \n",
    "        # Concatenate attention output with embeddings\n",
    "        inputs = torch.cat([attention_output, embeds], dim=-1)\n",
    "        \n",
    "        \n",
    "        packed = pack_padded_sequence(inputs, lengths=lengths, batch_first=True, enforce_sorted=False)\n",
    "        lstm_out, (h, c) = self.lstm(packed, (h0, c0))\n",
    "        output, lens_unpacked = pad_packed_sequence(lstm_out, batch_first=True)\n",
    "        logits = self.linear(output)\n",
    "\n",
    "        return logits\n",
    "    \n",
    "    \n",
    "    @torch.no_grad()\n",
    "    def caption_image(\n",
    "        self,\n",
    "        image_embeds : torch.Tensor,\n",
    "        max_length : int = 300,\n",
    "    ):\n",
    "        self.eval()\n",
    "\n",
    "        batch_size = image_embeds.shape[0]\n",
    "        \n",
    "        if batch_size > 1:\n",
    "            raise ValueError(f'Expected input batch_size (1) but got ({batch_size})')\n",
    "        h = self.image_embed_to_h0(image_embeds).reshape(batch_size,\n",
    "                                                                    self.lstm_layers,\n",
    "                                                                    self.hidden_dim).transpose(0, 1)\n",
    "        c = self.image_embed_to_c0(image_embeds).reshape(batch_size,\n",
    "                                                                    self.lstm_layers,\n",
    "                                                                    self.hidden_dim).transpose(0, 1)\n",
    "\n",
    "        # init tokens with <bos>\n",
    "        tokens = torch.full((batch_size, 1), self.tokenizer.get_vocab()[\"[BOS]\"], device=image_embeds.device)\n",
    "        new_tokens = tokens\n",
    "        \n",
    "        # 2 stopping conditions: reaching max len or getting <eos> token\n",
    "        while tokens.shape[1] < max_length:\n",
    "            if ((tokens == self.tokenizer.get_vocab()[\"[EOS]\"]).sum(1) > 0).all():   # тут надо проверить\n",
    "                break  \n",
    "\n",
    "            embeds = self.embed(new_tokens)\n",
    "            \n",
    "            # Attention mechanism\n",
    "            embeds_with_pos = embeds.transpose(0, 1)  # [seq_len, batch_size, embed_dim]\n",
    "            attention_output, _ = self.attention(embeds_with_pos, embeds_with_pos, embeds_with_pos)\n",
    "            attention_output = attention_output.transpose(0, 1)  # [batch_size, seq_len, embed_dim]\n",
    "            \n",
    "            # Concatenate attention output with embeddings\n",
    "            inputs = torch.cat([attention_output, embeds], dim=-1)\n",
    "            \n",
    "            output, (h, c) = self.lstm(inputs, (h, c))\n",
    "            logits = self.linear(output)\n",
    "\n",
    "            new_tokens = Categorical(logits=logits).sample()      #logits.argmax(dim=-1)\n",
    "            tokens = torch.cat([tokens, new_tokens], dim=1)                              # концовка будет другая\n",
    "\n",
    "        return tokens"
   ]
  },
  {
   "cell_type": "code",
   "execution_count": 77,
   "id": "5154f1c7-e5db-428a-8209-a92d8fac49f1",
   "metadata": {
    "tags": []
   },
   "outputs": [],
   "source": [
    "import torch.nn.functional as F\n",
    "\n",
    "    \n",
    "class Attention(nn.Module):\n",
    "    def __init__(self):\n",
    "        super(Attention, self).__init__()\n",
    "\n",
    "    def forward(self, encoder_outputs, decoder_hidden):\n",
    "        # encoder_outputs: (batch_size, seq_len, hidden_dim)\n",
    "        # decoder_hidden: (batch_size, hidden_dim)\n",
    "        \n",
    "        # Calculate the attention scores.\n",
    "        scores = torch.bmm(encoder_outputs, decoder_hidden.unsqueeze(2)).squeeze(2)  # (batch_size, seq_len)\n",
    "        \n",
    "        attn_weights = F.softmax(scores, dim=1)  # (batch_size, seq_len)\n",
    "        \n",
    "        context_vector = torch.bmm(attn_weights.unsqueeze(1), encoder_outputs).squeeze(1)  # (batch_size, hidden_dim)\n",
    "\n",
    "        return context_vector\n",
    "    \n",
    "    \n",
    "class DecoderRNN(nn.Module):\n",
    "    def __init__(\n",
    "        self,\n",
    "        tokenizer: Tokenizer,\n",
    "        image_embed_dim,\n",
    "        embed_dim : int = 256,\n",
    "        hidden_dim : int = 256,\n",
    "        lstm_layers : int = 1,\n",
    "        dropout_prob: float = 0.1,\n",
    "    ):\n",
    "        super().__init__()\n",
    "        \n",
    "        self.lstm_layers = lstm_layers\n",
    "        self.hidden_dim = hidden_dim\n",
    "        self.tokenizer = tokenizer\n",
    "        \n",
    "        self.image_embed_to_h0 = torch.nn.Sequential(\n",
    "            torch.nn.Linear(in_features=image_embed_dim, out_features=lstm_layers * hidden_dim),\n",
    "            torch.nn.LeakyReLU(0.1),\n",
    "        )\n",
    "        self.image_embed_to_c0 = torch.nn.Sequential(\n",
    "            torch.nn.Linear(in_features=image_embed_dim, out_features=lstm_layers * hidden_dim),\n",
    "            torch.nn.LeakyReLU(0.1),\n",
    "        )\n",
    "        \n",
    "        self.embed = torch.nn.Embedding(\n",
    "            num_embeddings=self.tokenizer.get_vocab_size(),\n",
    "            embedding_dim=embed_dim,\n",
    "            padding_idx=self.tokenizer.get_vocab()[\"[PAD]\"],\n",
    "        )\n",
    "        self.lstm = torch.nn.LSTM(\n",
    "            input_size= embed_dim, \n",
    "            hidden_size=hidden_dim,\n",
    "            num_layers=lstm_layers,\n",
    "            batch_first=True, \n",
    "        )\n",
    "        \n",
    "\n",
    "        self.linear = torch.nn.Sequential(\n",
    "            torch.nn.Linear(in_features=hidden_dim + embed_dim, out_features=self.tokenizer.get_vocab_size()),\n",
    "            torch.nn.Dropout(p=dropout_prob),\n",
    "        )\n",
    "        \n",
    "        self.attention = Attention()\n",
    "\n",
    "    def forward(self, image_embeds, captions):\n",
    "        batch_size = image_embeds.shape[0]\n",
    "        h0 = self.image_embed_to_h0(image_embeds).reshape(batch_size, self.lstm_layers, self.hidden_dim).transpose(0, 1)\n",
    "        c0 = self.image_embed_to_c0(image_embeds).reshape(batch_size, self.lstm_layers, self.hidden_dim).transpose(0, 1)\n",
    "        \n",
    "        embeds = self.embed(captions)\n",
    "        lengths = (captions != 0).sum(dim=-1).cpu()\n",
    "        \n",
    "        packed = pack_padded_sequence(embeds, lengths=lengths, batch_first=True, enforce_sorted=False)\n",
    "        lstm_out, (h, c) = self.lstm(packed, (h0, c0))\n",
    "        output, lens_unpacked = pad_packed_sequence(lstm_out, batch_first=True)\n",
    "        \n",
    "        # Applying attention\n",
    "        context_vector = self.attention(output, h[-1])  # Using last layer's hidden state\n",
    "        context_vector_expanded = context_vector.unsqueeze(1).repeat(1, output.size(1), 1)\n",
    "        \n",
    "        output_with_attention = torch.cat([output, context_vector_expanded], dim=-1)\n",
    "        \n",
    "        logits = self.linear(output_with_attention)\n",
    "\n",
    "        return logits\n",
    "    \n",
    "    \n",
    "    @torch.no_grad()\n",
    "    def caption_image(\n",
    "        self,\n",
    "        image_embeds : torch.Tensor,\n",
    "        max_length : int = 300,\n",
    "    ):\n",
    "        self.eval()\n",
    "\n",
    "        batch_size = image_embeds.shape[0]\n",
    "        \n",
    "        if batch_size > 1:\n",
    "            raise ValueError(f'Expected input batch_size (1) but got ({batch_size})')\n",
    "        h = self.image_embed_to_h0(image_embeds).reshape(batch_size,\n",
    "                                                                    self.lstm_layers,\n",
    "                                                                    self.hidden_dim).transpose(0, 1)\n",
    "        c = self.image_embed_to_c0(image_embeds).reshape(batch_size,\n",
    "                                                                    self.lstm_layers,\n",
    "                                                                    self.hidden_dim).transpose(0, 1)\n",
    "\n",
    "        # init tokens with <bos>\n",
    "        tokens = torch.full((batch_size, 1), self.tokenizer.get_vocab()[\"[BOS]\"], device=image_embeds.device)\n",
    "        new_tokens = tokens\n",
    "        \n",
    "        # 2 stopping conditions: reaching max len or getting <eos> token\n",
    "        while tokens.shape[1] < max_length:\n",
    "            if ((tokens == self.tokenizer.get_vocab()[\"[EOS]\"]).sum(1) > 0).all():   # тут надо проверить\n",
    "                break  \n",
    "\n",
    "            embeds = self.embed(new_tokens)\n",
    "            output, (h, c) = self.lstm(embeds, (h, c))\n",
    "            \n",
    "            # Applying attention\n",
    "            context_vector = self.attention(output, h[-1])  # Using last layer's hidden state\n",
    "            context_vector_expanded = context_vector.unsqueeze(1).repeat(1, output.size(1), 1)\n",
    "        \n",
    "            output_with_attention = torch.cat([output, context_vector_expanded], dim=-1)\n",
    "        \n",
    "            logits = self.linear(output_with_attention)\n",
    "            \n",
    "\n",
    "            new_tokens = Categorical(logits=logits).sample()      #logits.argmax(dim=-1)\n",
    "            tokens = torch.cat([tokens, new_tokens], dim=1)                              # концовка будет другая\n",
    "\n",
    "        return tokens"
   ]
  },
  {
   "cell_type": "code",
   "execution_count": 51,
   "id": "f307f6a8-cf34-483f-9061-bd4d5909b0e7",
   "metadata": {
    "tags": []
   },
   "outputs": [],
   "source": [
    "class DecoderGRU(nn.Module):\n",
    "    def __init__(\n",
    "        self,\n",
    "        tokenizer: Tokenizer,\n",
    "        image_embed_dim,\n",
    "        embed_dim : int = 256,\n",
    "        hidden_dim : int = 256,\n",
    "        gru_layers : int = 1,\n",
    "        dropout_prob: float = 0.1,\n",
    "    ):\n",
    "        super().__init__()\n",
    "        \n",
    "        self.gru_layers = gru_layers\n",
    "        self.hidden_dim = hidden_dim\n",
    "        self.tokenizer = tokenizer\n",
    "        \n",
    "        self.image_embed_to_h0 = torch.nn.Sequential(\n",
    "            torch.nn.Linear(in_features=image_embed_dim, out_features=gru_layers * hidden_dim),\n",
    "            torch.nn.LeakyReLU(0.1),\n",
    "        )\n",
    "        self.image_embed_to_c0 = torch.nn.Sequential(\n",
    "            torch.nn.Linear(in_features=image_embed_dim, out_features=gru_layers * hidden_dim),\n",
    "            torch.nn.LeakyReLU(0.1),\n",
    "        )\n",
    "        \n",
    "        self.embed = torch.nn.Embedding(\n",
    "            num_embeddings=self.tokenizer.get_vocab_size(),\n",
    "            embedding_dim=embed_dim,\n",
    "            padding_idx=self.tokenizer.get_vocab()[\"[PAD]\"],\n",
    "        )\n",
    "        self.gru = torch.nn.GRU(\n",
    "            input_size=embed_dim, \n",
    "            hidden_size=hidden_dim,\n",
    "            num_layers=gru_layers,\n",
    "            batch_first=True, \n",
    "        )\n",
    "        self.linear = torch.nn.Sequential(\n",
    "            torch.nn.Linear(in_features=hidden_dim, out_features=self.tokenizer.get_vocab_size()),\n",
    "            torch.nn.Dropout(p=dropout_prob),\n",
    "        )\n",
    "\n",
    "    def forward(self, image_embeds, captions):\n",
    "        batch_size = image_embeds.shape[0]\n",
    "        h0 = self.image_embed_to_h0(image_embeds).reshape(batch_size, self.gru_layers, self.hidden_dim).transpose(0, 1)\n",
    "        \n",
    "        embeds = self.embed(captions)\n",
    "        lengths = (captions != 0).sum(dim=-1).cpu()\n",
    "        \n",
    "        packed = pack_padded_sequence(embeds, lengths=lengths, batch_first=True, enforce_sorted=False)\n",
    "        gru_out, h = self.gru(packed, h0)\n",
    "        output, lens_unpacked = pad_packed_sequence(gru_out, batch_first=True)\n",
    "        logits = self.linear(output)\n",
    "\n",
    "        return logits\n",
    "    \n",
    "    \n",
    "    @torch.no_grad()\n",
    "    def caption_image(\n",
    "        self,\n",
    "        image_embeds : torch.Tensor,\n",
    "        max_length : int = 300,\n",
    "    ):\n",
    "        self.eval()\n",
    "\n",
    "        batch_size = image_embeds.shape[0]\n",
    "        \n",
    "        if batch_size > 1:\n",
    "            raise ValueError(f'Expected input batch_size (1) but got ({batch_size})')\n",
    "        h = self.image_embed_to_h0(image_embeds).reshape(batch_size,\n",
    "                                                                    self.gru_layers,\n",
    "                                                                    self.hidden_dim).transpose(0, 1)\n",
    "\n",
    "        # init tokens with <bos>\n",
    "        tokens = torch.full((batch_size, 1), self.tokenizer.get_vocab()[\"[BOS]\"], device=image_embeds.device)\n",
    "        new_tokens = tokens\n",
    "        \n",
    "        # 2 stopping conditions: reaching max len or getting <eos> token\n",
    "        while tokens.shape[1] < max_length:\n",
    "            if ((tokens == self.tokenizer.get_vocab()[\"[EOS]\"]).sum(1) > 0).all():   # тут надо проверить\n",
    "                break  \n",
    "\n",
    "            embeds = self.embed(new_tokens)\n",
    "            output, h = self.gru(embeds, h)\n",
    "            logits = self.linear(output)\n",
    "\n",
    "            new_tokens = Categorical(logits=logits).sample()      #logits.argmax(dim=-1)\n",
    "            tokens = torch.cat([tokens, new_tokens], dim=1)                              # концовка будет другая\n",
    "\n",
    "        return tokens\n"
   ]
  },
  {
   "cell_type": "code",
   "execution_count": null,
   "id": "af602506-d2ff-4f86-bbb8-7aa8899cc0db",
   "metadata": {},
   "outputs": [],
   "source": []
  },
  {
   "cell_type": "code",
   "execution_count": 20,
   "id": "a5f1bfd1",
   "metadata": {
    "tags": []
   },
   "outputs": [],
   "source": [
    "sns.set_style('whitegrid')\n",
    "plt.rcParams.update({'font.size': 15})\n",
    "\n",
    "\n",
    "def plot_losses(train_losses, test_losses, train_metrics, valid_metrics):\n",
    "    clear_output()\n",
    "    fig, axs = plt.subplots(2, 2, figsize=(26, 13))\n",
    "    axs[0][0].plot(range(1, len(train_losses) + 1), train_losses, label='train')\n",
    "    axs[0][0].plot(range(1, len(test_losses) + 1), test_losses, label='test')\n",
    "    axs[0][0].set_ylabel('loss')\n",
    "\n",
    "    for (ax1, ax2), train_m_name, valid_m_name in zip(((0, 1), (1, 0), (1, 1)), train_metrics, valid_metrics):\n",
    "        train_m, valid_m = train_metrics[train_m_name], valid_metrics[valid_m_name]\n",
    "        axs[ax1][ax2].plot(range(1, len(train_m) + 1), train_m, label='train')\n",
    "        axs[ax1][ax2].plot(range(1, len(valid_m) + 1), valid_m, label='test')\n",
    "        axs[ax1][ax2].set_ylabel(train_m_name)\n",
    "\n",
    "    for ax1 in axs:\n",
    "        for ax2 in ax1:\n",
    "            ax2.set_xlabel('epoch')\n",
    "            ax2.legend()\n",
    "\n",
    "    plt.show()\n",
    "\n",
    "    \n",
    "def calculate_bleu_wer(model, image_embeds, captions_true):\n",
    "    bleu_scores = []\n",
    "    wer_scores = []\n",
    "    wer = WordErrorRate()\n",
    "    \n",
    "    for i in range(image_embeds.shape[0]):\n",
    "        caption_pred = model.caption_image(image_embeds=image_embeds[i].view(1, -1))\n",
    "\n",
    "        caption_true = model.tokenizer.decode(captions_true[i].detach().cpu().numpy())\n",
    "        caption_pred = model.tokenizer.decode(caption_pred[0].detach().cpu().numpy())\n",
    "    \n",
    "        bleu_score = corpus_bleu(caption_pred, [caption_true]).score\n",
    "        bleu_scores.append(bleu_score)\n",
    "        \n",
    "        wer_score = wer(caption_pred, caption_true)\n",
    "        wer_scores.append(wer_score)\n",
    "    \n",
    "    bleu = np.mean(bleu_scores)\n",
    "    wer = np.mean(wer_scores)\n",
    "    \n",
    "    return {\"BLEU\": bleu, \"WER\": wer}"
   ]
  },
  {
   "cell_type": "code",
   "execution_count": 21,
   "id": "3658248b-1917-48b2-bc0a-c35dbc7b21bb",
   "metadata": {
    "tags": []
   },
   "outputs": [],
   "source": [
    "class Trainer:\n",
    "    def __init__(\n",
    "        self,\n",
    "        model,\n",
    "        optimizer,\n",
    "        scheduler,\n",
    "        criterion,\n",
    "        accelerator,\n",
    "        device,\n",
    "    ):\n",
    "        self.model = model\n",
    "        self.optimizer = optimizer\n",
    "        self.scheduler = scheduler\n",
    "        self.criterion = criterion\n",
    "        self.accelerator = accelerator\n",
    "        self.device = device\n",
    "\n",
    "    @staticmethod\n",
    "    def training_epoch(\n",
    "        self,\n",
    "        train_loader: DataLoader,\n",
    "        epoch: int,\n",
    "        tqdm_desc,\n",
    "        train_metrics,\n",
    "        metric_epoch : int,\n",
    "        metrics_freq: int,\n",
    "    ):\n",
    "        num_batches = 0.0\n",
    "        train_loss = 0.0\n",
    "        metrics = defaultdict(float)\n",
    "        self.model.train()\n",
    "        \n",
    "        for batch in tqdm(train_loader, desc=tqdm_desc):\n",
    "            img_embed = batch[\"embed\"]\n",
    "            descriptions = batch[\"description\"]\n",
    "            \n",
    "            with self.accelerator.accumulate(self.model):\n",
    "                logits_captioning = self.model(img_embed, descriptions[:, :-1])\n",
    "                loss = self.criterion(logits_captioning.transpose(1, 2), descriptions[:, 1:])\n",
    "                self.accelerator.backward(loss)\n",
    "                self.optimizer.step()\n",
    "                self.optimizer.zero_grad()\n",
    "\n",
    "            train_loss += loss.item()\n",
    "            \n",
    "            if (metric_epoch) % metrics_freq == 0:\n",
    "                metrics_captioning = calculate_bleu_wer(model, batch['embed'], batch['description'])\n",
    "                for m_name, m in metrics_captioning.items():\n",
    "                    metrics[m_name] += m\n",
    "    \n",
    "            num_batches += 1\n",
    "\n",
    "        train_loss /= num_batches\n",
    "        if (metric_epoch) % metrics_freq == 0:\n",
    "            for m_name in metrics:\n",
    "                metrics[m_name] /= num_batches\n",
    "        else:\n",
    "            for m_name in train_metrics:\n",
    "                metrics[m_name] = train_metrics[m_name][-1]\n",
    "            \n",
    "        return train_loss, metrics\n",
    "\n",
    "    @staticmethod\n",
    "    @torch.no_grad()\n",
    "    def validation_epoch(\n",
    "        self,\n",
    "        val_loader: DataLoader,\n",
    "        epoch: int,\n",
    "        tqdm_desc,\n",
    "        val_metrics,\n",
    "        metric_epoch : int,\n",
    "        metrics_freq: int,\n",
    "    ):\n",
    "        num_batches = 0.0\n",
    "        val_loss = 0.0\n",
    "        metrics = defaultdict(float)\n",
    "        self.model.eval()\n",
    "        for batch in tqdm(val_loader, desc=tqdm_desc):\n",
    "            img_embed = batch[\"embed\"]\n",
    "            descriptions = batch[\"description\"]\n",
    "            \n",
    "            logits_captioning = self.model(img_embed, descriptions[:, :-1])\n",
    "            loss = self.criterion(logits_captioning.transpose(1, 2), descriptions[:, 1:])\n",
    "\n",
    "            val_loss += loss.item()\n",
    "            \n",
    "            if (metric_epoch) % metrics_freq == 0:\n",
    "                metrics_captioning = calculate_bleu_wer(model, batch['embed'], batch['description'])\n",
    "                for m_name, m in metrics_captioning.items():\n",
    "                    metrics[m_name] += m\n",
    "\n",
    "            num_batches += 1\n",
    "\n",
    "        val_loss /= num_batches\n",
    "        if (metric_epoch) % metrics_freq == 0:\n",
    "            for m_name in metrics:\n",
    "                metrics[m_name] /= num_batches\n",
    "        else:\n",
    "            for m_name in val_metrics:\n",
    "                metrics[m_name] = val_metrics[m_name][-1]\n",
    "\n",
    "            \n",
    "        return val_loss, metrics\n",
    "\n",
    "    def train(\n",
    "        self,\n",
    "        train_loader: DataLoader,\n",
    "        val_loader: DataLoader,\n",
    "        num_epochs: int,\n",
    "        plot: bool,\n",
    "        calculate_metrics: bool = True,\n",
    "        metrics_freq: int = 10,\n",
    "        saving_checkpoint: bool = False,\n",
    "        save_path_checkpoint: Optional[Path] = None,\n",
    "        saving_model: bool = False,\n",
    "        save_path_model: Optional[Path] = None,\n",
    "    ):\n",
    "        train_losses = []\n",
    "        val_losses = []\n",
    "        train_metrics, val_metrics = defaultdict(list), defaultdict(list)\n",
    "\n",
    "        for epoch in range(1, num_epochs + 1):\n",
    "            train_loss, train_metric = self.training_epoch(\n",
    "                self,\n",
    "                train_loader,\n",
    "                epoch,\n",
    "                tqdm_desc=f'Training {epoch}/{num_epochs}',\n",
    "                train_metrics=train_metrics,\n",
    "                metric_epoch=epoch-1 if calculate_metrics else epoch, \n",
    "                metrics_freq=metrics_freq,\n",
    "            )\n",
    "            val_loss, val_metric = self.validation_epoch(\n",
    "                self,\n",
    "                val_loader,\n",
    "                epoch,\n",
    "                tqdm_desc=f'Validating {epoch}/{num_epochs}',\n",
    "                val_metrics=val_metrics,\n",
    "                metric_epoch=epoch-1 if calculate_metrics else epoch,\n",
    "                metrics_freq=metrics_freq,\n",
    "            )\n",
    "\n",
    "            if self.scheduler is not None:\n",
    "                self.scheduler.step()\n",
    "\n",
    "            train_losses.append(train_loss)\n",
    "            val_losses.append(val_loss)\n",
    "            for m_name, m_value in train_metric.items():\n",
    "                train_metrics[m_name].append(m_value)\n",
    "            for m_name, m_value in val_metric.items():\n",
    "                val_metrics[m_name].append(m_value)\n",
    "            \n",
    "            print(train_metrics)\n",
    "            print(val_metrics)\n",
    "            \n",
    "            if plot:\n",
    "                plot_losses(train_losses, val_losses, train_metrics, val_metrics)\n",
    "\n",
    "            print(f\"Epoch {epoch}\")\n",
    "            print(\"val metrics\")\n",
    "            print(f\"loss {val_losses[-1]}\")\n",
    "            for elem in val_metrics.items():\n",
    "                print(elem[0], elem[1][-1])\n",
    "            print(\"\\ntrain metrics\")\n",
    "            print(f\"loss {train_losses[-1]}\")\n",
    "            for elem in train_metrics.items():\n",
    "                print(elem[0], elem[1][-1])\n",
    "            print('-'*50)\n",
    "\n",
    "            if saving_checkpoint:\n",
    "                accelerator.save_state(output_dir=save_path_checkpoint / f\"checkpoint_afterepoch_{epoch}of{num_epochs}\")\n",
    "\n",
    "        if saving_model:\n",
    "            shutil.rmtree(save_path_model, ignore_errors=True)\n",
    "            accelerator.save_state(output_dir=save_path_model)\n",
    "\n",
    "        return train_losses, val_losses, train_metrics, val_metrics"
   ]
  },
  {
   "cell_type": "code",
   "execution_count": 78,
   "id": "823b173c",
   "metadata": {
    "tags": []
   },
   "outputs": [
    {
     "data": {
      "text/plain": [
       "8413368"
      ]
     },
     "execution_count": 78,
     "metadata": {},
     "output_type": "execute_result"
    }
   ],
   "source": [
    "model = DecoderRNN(\n",
    "    tokenizer=tokenizer,\n",
    "    image_embed_dim=embeddings_train.shape[1],\n",
    "    lstm_layers=3\n",
    ")\n",
    "\n",
    "sum(param.numel() for param in model.parameters())"
   ]
  },
  {
   "cell_type": "code",
   "execution_count": 84,
   "id": "38e824f0-9eac-4284-9b5f-ff4396a3f533",
   "metadata": {
    "tags": []
   },
   "outputs": [
    {
     "data": {
      "text/plain": [
       "6267576"
      ]
     },
     "execution_count": 84,
     "metadata": {},
     "output_type": "execute_result"
    }
   ],
   "source": [
    "model = DecoderGRU(\n",
    "    tokenizer=tokenizer,\n",
    "    image_embed_dim=embeddings_train.shape[1],\n",
    "    gru_layers=3\n",
    ")\n",
    "\n",
    "sum(param.numel() for param in model.parameters())"
   ]
  },
  {
   "cell_type": "code",
   "execution_count": 79,
   "id": "1bbeed7b",
   "metadata": {
    "tags": []
   },
   "outputs": [],
   "source": [
    "NUM_EPOCHS = 500\n",
    "\n",
    "# model = model.to(device)\n",
    "optimizer = torch.optim.AdamW(\n",
    "    [\n",
    "        {\"params\": model.parameters(), \"lr\": 3e-4, \"weight_decay\": 1e-5},\n",
    "    ],\n",
    ")\n",
    "criterion = torch.nn.CrossEntropyLoss(ignore_index=tokenizer.get_vocab()[\"[PAD]\"]).to(device)\n",
    "model, optimizer = accelerator.prepare(model, optimizer)"
   ]
  },
  {
   "cell_type": "code",
   "execution_count": 86,
   "id": "8b8a0cfe",
   "metadata": {
    "tags": []
   },
   "outputs": [],
   "source": [
    "#NUM_EPOCHS = 20"
   ]
  },
  {
   "cell_type": "code",
   "execution_count": 80,
   "id": "689744cf-3a22-4ef7-a7de-3d4b14f032f2",
   "metadata": {
    "tags": []
   },
   "outputs": [
    {
     "name": "stderr",
     "output_type": "stream",
     "text": [
      "No artists with labels found to put in legend.  Note that artists whose label start with an underscore are ignored when legend() is called with no argument.\n",
      "No artists with labels found to put in legend.  Note that artists whose label start with an underscore are ignored when legend() is called with no argument.\n",
      "No artists with labels found to put in legend.  Note that artists whose label start with an underscore are ignored when legend() is called with no argument.\n"
     ]
    },
    {
     "data": {
      "image/png": "[encoded data removed]",
      "text/plain": [
       "<Figure size 1872x936 with 4 Axes>"
      ]
     },
     "metadata": {
      "needs_background": "light"
     },
     "output_type": "display_data"
    },
    {
     "name": "stdout",
     "output_type": "stream",
     "text": [
      "Epoch 6\n",
      "val metrics\n",
      "loss 7.668731212615967\n",
      "\n",
      "train metrics\n",
      "loss 7.520672678947449\n",
      "--------------------------------------------------\n"
     ]
    },
    {
     "data": {
      "application/vnd.jupyter.widget-view+json": {
       "model_id": "ed456d302b05460a93e74517ffaf1eab",
       "version_major": 2,
       "version_minor": 0
      },
      "text/plain": [
       "Training 7/500:   0%|          | 0/8 [00:00<?, ?it/s]"
      ]
     },
     "metadata": {},
     "output_type": "display_data"
    },
    {
     "ename": "KeyboardInterrupt",
     "evalue": "",
     "output_type": "error",
     "traceback": [
      "\u001b[0;31m---------------------------------------------------------------------------\u001b[0m",
      "\u001b[0;31mKeyboardInterrupt\u001b[0m                         Traceback (most recent call last)",
      "Input \u001b[0;32mIn [80]\u001b[0m, in \u001b[0;36m<module>\u001b[0;34m\u001b[0m\n\u001b[1;32m      1\u001b[0m trainer \u001b[38;5;241m=\u001b[39m Trainer(\n\u001b[1;32m      2\u001b[0m             model,\n\u001b[1;32m      3\u001b[0m             optimizer,\n\u001b[0;32m   (...)\u001b[0m\n\u001b[1;32m      7\u001b[0m             device,\n\u001b[1;32m      8\u001b[0m         )\n\u001b[1;32m     10\u001b[0m a \u001b[38;5;241m=\u001b[39m datetime\u001b[38;5;241m.\u001b[39mnow()\n\u001b[0;32m---> 11\u001b[0m train_losses, test_losses, train_metrics, test_metrics \u001b[38;5;241m=\u001b[39m \u001b[43mtrainer\u001b[49m\u001b[38;5;241;43m.\u001b[39;49m\u001b[43mtrain\u001b[49m\u001b[43m(\u001b[49m\n\u001b[1;32m     12\u001b[0m \u001b[43m            \u001b[49m\u001b[43mtrain_loader\u001b[49m\u001b[43m,\u001b[49m\u001b[43m \u001b[49m\u001b[43mval_loader\u001b[49m\u001b[43m,\u001b[49m\u001b[43m \u001b[49m\u001b[43mNUM_EPOCHS\u001b[49m\u001b[43m,\u001b[49m\u001b[43m \u001b[49m\u001b[43mplot\u001b[49m\u001b[38;5;241;43m=\u001b[39;49m\u001b[38;5;28;43;01mTrue\u001b[39;49;00m\u001b[43m,\u001b[49m\u001b[43m \u001b[49m\u001b[43mcalculate_metrics\u001b[49m\u001b[38;5;241;43m=\u001b[39;49m\u001b[38;5;28;43;01mFalse\u001b[39;49;00m\u001b[43m,\u001b[49m\u001b[43m \u001b[49m\u001b[43mmetrics_freq\u001b[49m\u001b[38;5;241;43m=\u001b[39;49m\u001b[38;5;241;43m1001\u001b[39;49m\u001b[43m)\u001b[49m\n\u001b[1;32m     13\u001b[0m b \u001b[38;5;241m=\u001b[39m datetime\u001b[38;5;241m.\u001b[39mnow()\n\u001b[1;32m     14\u001b[0m \u001b[38;5;28mprint\u001b[39m(b \u001b[38;5;241m-\u001b[39m a)\n",
      "Input \u001b[0;32mIn [21]\u001b[0m, in \u001b[0;36mTrainer.train\u001b[0;34m(self, train_loader, val_loader, num_epochs, plot, calculate_metrics, metrics_freq, saving_checkpoint, save_path_checkpoint, saving_model, save_path_model)\u001b[0m\n\u001b[1;32m    120\u001b[0m train_metrics, val_metrics \u001b[38;5;241m=\u001b[39m defaultdict(\u001b[38;5;28mlist\u001b[39m), defaultdict(\u001b[38;5;28mlist\u001b[39m)\n\u001b[1;32m    122\u001b[0m \u001b[38;5;28;01mfor\u001b[39;00m epoch \u001b[38;5;129;01min\u001b[39;00m \u001b[38;5;28mrange\u001b[39m(\u001b[38;5;241m1\u001b[39m, num_epochs \u001b[38;5;241m+\u001b[39m \u001b[38;5;241m1\u001b[39m):\n\u001b[0;32m--> 123\u001b[0m     train_loss, train_metric \u001b[38;5;241m=\u001b[39m \u001b[38;5;28;43mself\u001b[39;49m\u001b[38;5;241;43m.\u001b[39;49m\u001b[43mtraining_epoch\u001b[49m\u001b[43m(\u001b[49m\n\u001b[1;32m    124\u001b[0m \u001b[43m        \u001b[49m\u001b[38;5;28;43mself\u001b[39;49m\u001b[43m,\u001b[49m\n\u001b[1;32m    125\u001b[0m \u001b[43m        \u001b[49m\u001b[43mtrain_loader\u001b[49m\u001b[43m,\u001b[49m\n\u001b[1;32m    126\u001b[0m \u001b[43m        \u001b[49m\u001b[43mepoch\u001b[49m\u001b[43m,\u001b[49m\n\u001b[1;32m    127\u001b[0m \u001b[43m        \u001b[49m\u001b[43mtqdm_desc\u001b[49m\u001b[38;5;241;43m=\u001b[39;49m\u001b[38;5;124;43mf\u001b[39;49m\u001b[38;5;124;43m'\u001b[39;49m\u001b[38;5;124;43mTraining \u001b[39;49m\u001b[38;5;132;43;01m{\u001b[39;49;00m\u001b[43mepoch\u001b[49m\u001b[38;5;132;43;01m}\u001b[39;49;00m\u001b[38;5;124;43m/\u001b[39;49m\u001b[38;5;132;43;01m{\u001b[39;49;00m\u001b[43mnum_epochs\u001b[49m\u001b[38;5;132;43;01m}\u001b[39;49;00m\u001b[38;5;124;43m'\u001b[39;49m\u001b[43m,\u001b[49m\n\u001b[1;32m    128\u001b[0m \u001b[43m        \u001b[49m\u001b[43mtrain_metrics\u001b[49m\u001b[38;5;241;43m=\u001b[39;49m\u001b[43mtrain_metrics\u001b[49m\u001b[43m,\u001b[49m\n\u001b[1;32m    129\u001b[0m \u001b[43m        \u001b[49m\u001b[43mmetric_epoch\u001b[49m\u001b[38;5;241;43m=\u001b[39;49m\u001b[43mepoch\u001b[49m\u001b[38;5;241;43m-\u001b[39;49m\u001b[38;5;241;43m1\u001b[39;49m\u001b[43m \u001b[49m\u001b[38;5;28;43;01mif\u001b[39;49;00m\u001b[43m \u001b[49m\u001b[43mcalculate_metrics\u001b[49m\u001b[43m \u001b[49m\u001b[38;5;28;43;01melse\u001b[39;49;00m\u001b[43m \u001b[49m\u001b[43mepoch\u001b[49m\u001b[43m,\u001b[49m\u001b[43m \u001b[49m\n\u001b[1;32m    130\u001b[0m \u001b[43m        \u001b[49m\u001b[43mmetrics_freq\u001b[49m\u001b[38;5;241;43m=\u001b[39;49m\u001b[43mmetrics_freq\u001b[49m\u001b[43m,\u001b[49m\n\u001b[1;32m    131\u001b[0m \u001b[43m    \u001b[49m\u001b[43m)\u001b[49m\n\u001b[1;32m    132\u001b[0m     val_loss, val_metric \u001b[38;5;241m=\u001b[39m \u001b[38;5;28mself\u001b[39m\u001b[38;5;241m.\u001b[39mvalidation_epoch(\n\u001b[1;32m    133\u001b[0m         \u001b[38;5;28mself\u001b[39m,\n\u001b[1;32m    134\u001b[0m         val_loader,\n\u001b[0;32m   (...)\u001b[0m\n\u001b[1;32m    139\u001b[0m         metrics_freq\u001b[38;5;241m=\u001b[39mmetrics_freq,\n\u001b[1;32m    140\u001b[0m     )\n\u001b[1;32m    142\u001b[0m     \u001b[38;5;28;01mif\u001b[39;00m \u001b[38;5;28mself\u001b[39m\u001b[38;5;241m.\u001b[39mscheduler \u001b[38;5;129;01mis\u001b[39;00m \u001b[38;5;129;01mnot\u001b[39;00m \u001b[38;5;28;01mNone\u001b[39;00m:\n",
      "Input \u001b[0;32mIn [21]\u001b[0m, in \u001b[0;36mTrainer.training_epoch\u001b[0;34m(self, train_loader, epoch, tqdm_desc, train_metrics, metric_epoch, metrics_freq)\u001b[0m\n\u001b[1;32m     38\u001b[0m logits_captioning \u001b[38;5;241m=\u001b[39m \u001b[38;5;28mself\u001b[39m\u001b[38;5;241m.\u001b[39mmodel(img_embed, descriptions[:, :\u001b[38;5;241m-\u001b[39m\u001b[38;5;241m1\u001b[39m])\n\u001b[1;32m     39\u001b[0m loss \u001b[38;5;241m=\u001b[39m \u001b[38;5;28mself\u001b[39m\u001b[38;5;241m.\u001b[39mcriterion(logits_captioning\u001b[38;5;241m.\u001b[39mtranspose(\u001b[38;5;241m1\u001b[39m, \u001b[38;5;241m2\u001b[39m), descriptions[:, \u001b[38;5;241m1\u001b[39m:])\n\u001b[0;32m---> 40\u001b[0m \u001b[38;5;28;43mself\u001b[39;49m\u001b[38;5;241;43m.\u001b[39;49m\u001b[43maccelerator\u001b[49m\u001b[38;5;241;43m.\u001b[39;49m\u001b[43mbackward\u001b[49m\u001b[43m(\u001b[49m\u001b[43mloss\u001b[49m\u001b[43m)\u001b[49m\n\u001b[1;32m     41\u001b[0m \u001b[38;5;28mself\u001b[39m\u001b[38;5;241m.\u001b[39moptimizer\u001b[38;5;241m.\u001b[39mstep()\n\u001b[1;32m     42\u001b[0m \u001b[38;5;28mself\u001b[39m\u001b[38;5;241m.\u001b[39moptimizer\u001b[38;5;241m.\u001b[39mzero_grad()\n",
      "File \u001b[0;32m/opt/conda/lib/python3.9/site-packages/accelerate/accelerator.py:2124\u001b[0m, in \u001b[0;36mAccelerator.backward\u001b[0;34m(self, loss, **kwargs)\u001b[0m\n\u001b[1;32m   2122\u001b[0m     \u001b[38;5;28mself\u001b[39m\u001b[38;5;241m.\u001b[39mlomo_backward(loss, learning_rate)\n\u001b[1;32m   2123\u001b[0m \u001b[38;5;28;01melse\u001b[39;00m:\n\u001b[0;32m-> 2124\u001b[0m     \u001b[43mloss\u001b[49m\u001b[38;5;241;43m.\u001b[39;49m\u001b[43mbackward\u001b[49m\u001b[43m(\u001b[49m\u001b[38;5;241;43m*\u001b[39;49m\u001b[38;5;241;43m*\u001b[39;49m\u001b[43mkwargs\u001b[49m\u001b[43m)\u001b[49m\n",
      "File \u001b[0;32m/opt/conda/lib/python3.9/site-packages/torch/_tensor.py:525\u001b[0m, in \u001b[0;36mTensor.backward\u001b[0;34m(self, gradient, retain_graph, create_graph, inputs)\u001b[0m\n\u001b[1;32m    515\u001b[0m \u001b[38;5;28;01mif\u001b[39;00m has_torch_function_unary(\u001b[38;5;28mself\u001b[39m):\n\u001b[1;32m    516\u001b[0m     \u001b[38;5;28;01mreturn\u001b[39;00m handle_torch_function(\n\u001b[1;32m    517\u001b[0m         Tensor\u001b[38;5;241m.\u001b[39mbackward,\n\u001b[1;32m    518\u001b[0m         (\u001b[38;5;28mself\u001b[39m,),\n\u001b[0;32m   (...)\u001b[0m\n\u001b[1;32m    523\u001b[0m         inputs\u001b[38;5;241m=\u001b[39minputs,\n\u001b[1;32m    524\u001b[0m     )\n\u001b[0;32m--> 525\u001b[0m \u001b[43mtorch\u001b[49m\u001b[38;5;241;43m.\u001b[39;49m\u001b[43mautograd\u001b[49m\u001b[38;5;241;43m.\u001b[39;49m\u001b[43mbackward\u001b[49m\u001b[43m(\u001b[49m\n\u001b[1;32m    526\u001b[0m \u001b[43m    \u001b[49m\u001b[38;5;28;43mself\u001b[39;49m\u001b[43m,\u001b[49m\u001b[43m \u001b[49m\u001b[43mgradient\u001b[49m\u001b[43m,\u001b[49m\u001b[43m \u001b[49m\u001b[43mretain_graph\u001b[49m\u001b[43m,\u001b[49m\u001b[43m \u001b[49m\u001b[43mcreate_graph\u001b[49m\u001b[43m,\u001b[49m\u001b[43m \u001b[49m\u001b[43minputs\u001b[49m\u001b[38;5;241;43m=\u001b[39;49m\u001b[43minputs\u001b[49m\n\u001b[1;32m    527\u001b[0m \u001b[43m\u001b[49m\u001b[43m)\u001b[49m\n",
      "File \u001b[0;32m/opt/conda/lib/python3.9/site-packages/torch/autograd/__init__.py:267\u001b[0m, in \u001b[0;36mbackward\u001b[0;34m(tensors, grad_tensors, retain_graph, create_graph, grad_variables, inputs)\u001b[0m\n\u001b[1;32m    262\u001b[0m     retain_graph \u001b[38;5;241m=\u001b[39m create_graph\n\u001b[1;32m    264\u001b[0m \u001b[38;5;66;03m# The reason we repeat the same comment below is that\u001b[39;00m\n\u001b[1;32m    265\u001b[0m \u001b[38;5;66;03m# some Python versions print out the first line of a multi-line function\u001b[39;00m\n\u001b[1;32m    266\u001b[0m \u001b[38;5;66;03m# calls in the traceback and some print out the last line\u001b[39;00m\n\u001b[0;32m--> 267\u001b[0m \u001b[43m_engine_run_backward\u001b[49m\u001b[43m(\u001b[49m\n\u001b[1;32m    268\u001b[0m \u001b[43m    \u001b[49m\u001b[43mtensors\u001b[49m\u001b[43m,\u001b[49m\n\u001b[1;32m    269\u001b[0m \u001b[43m    \u001b[49m\u001b[43mgrad_tensors_\u001b[49m\u001b[43m,\u001b[49m\n\u001b[1;32m    270\u001b[0m \u001b[43m    \u001b[49m\u001b[43mretain_graph\u001b[49m\u001b[43m,\u001b[49m\n\u001b[1;32m    271\u001b[0m \u001b[43m    \u001b[49m\u001b[43mcreate_graph\u001b[49m\u001b[43m,\u001b[49m\n\u001b[1;32m    272\u001b[0m \u001b[43m    \u001b[49m\u001b[43minputs\u001b[49m\u001b[43m,\u001b[49m\n\u001b[1;32m    273\u001b[0m \u001b[43m    \u001b[49m\u001b[43mallow_unreachable\u001b[49m\u001b[38;5;241;43m=\u001b[39;49m\u001b[38;5;28;43;01mTrue\u001b[39;49;00m\u001b[43m,\u001b[49m\n\u001b[1;32m    274\u001b[0m \u001b[43m    \u001b[49m\u001b[43maccumulate_grad\u001b[49m\u001b[38;5;241;43m=\u001b[39;49m\u001b[38;5;28;43;01mTrue\u001b[39;49;00m\u001b[43m,\u001b[49m\n\u001b[1;32m    275\u001b[0m \u001b[43m\u001b[49m\u001b[43m)\u001b[49m\n",
      "File \u001b[0;32m/opt/conda/lib/python3.9/site-packages/torch/autograd/graph.py:744\u001b[0m, in \u001b[0;36m_engine_run_backward\u001b[0;34m(t_outputs, *args, **kwargs)\u001b[0m\n\u001b[1;32m    742\u001b[0m     unregister_hooks \u001b[38;5;241m=\u001b[39m _register_logging_hooks_on_whole_graph(t_outputs)\n\u001b[1;32m    743\u001b[0m \u001b[38;5;28;01mtry\u001b[39;00m:\n\u001b[0;32m--> 744\u001b[0m     \u001b[38;5;28;01mreturn\u001b[39;00m \u001b[43mVariable\u001b[49m\u001b[38;5;241;43m.\u001b[39;49m\u001b[43m_execution_engine\u001b[49m\u001b[38;5;241;43m.\u001b[39;49m\u001b[43mrun_backward\u001b[49m\u001b[43m(\u001b[49m\u001b[43m  \u001b[49m\u001b[38;5;66;43;03m# Calls into the C++ engine to run the backward pass\u001b[39;49;00m\n\u001b[1;32m    745\u001b[0m \u001b[43m        \u001b[49m\u001b[43mt_outputs\u001b[49m\u001b[43m,\u001b[49m\u001b[43m \u001b[49m\u001b[38;5;241;43m*\u001b[39;49m\u001b[43margs\u001b[49m\u001b[43m,\u001b[49m\u001b[43m \u001b[49m\u001b[38;5;241;43m*\u001b[39;49m\u001b[38;5;241;43m*\u001b[39;49m\u001b[43mkwargs\u001b[49m\n\u001b[1;32m    746\u001b[0m \u001b[43m    \u001b[49m\u001b[43m)\u001b[49m  \u001b[38;5;66;03m# Calls into the C++ engine to run the backward pass\u001b[39;00m\n\u001b[1;32m    747\u001b[0m \u001b[38;5;28;01mfinally\u001b[39;00m:\n\u001b[1;32m    748\u001b[0m     \u001b[38;5;28;01mif\u001b[39;00m attach_logging_hooks:\n",
      "\u001b[0;31mKeyboardInterrupt\u001b[0m: "
     ]
    }
   ],
   "source": [
    "trainer = Trainer(\n",
    "            model,\n",
    "            optimizer,\n",
    "            None,\n",
    "            criterion,\n",
    "            accelerator,\n",
    "            device,\n",
    "        )\n",
    "\n",
    "a = datetime.now()\n",
    "train_losses, test_losses, train_metrics, test_metrics = trainer.train(\n",
    "            train_loader, val_loader, NUM_EPOCHS, plot=True, calculate_metrics=False, metrics_freq=1001)\n",
    "b = datetime.now()\n",
    "print(b - a)"
   ]
  },
  {
   "cell_type": "code",
   "execution_count": null,
   "id": "8284b2ff-035c-4188-b278-0c91c605eb69",
   "metadata": {},
   "outputs": [],
   "source": [
    "gru"
   ]
  },
  {
   "cell_type": "code",
   "execution_count": 87,
   "id": "71667f89",
   "metadata": {
    "tags": []
   },
   "outputs": [
    {
     "name": "stderr",
     "output_type": "stream",
     "text": [
      "No artists with labels found to put in legend.  Note that artists whose label start with an underscore are ignored when legend() is called with no argument.\n",
      "No artists with labels found to put in legend.  Note that artists whose label start with an underscore are ignored when legend() is called with no argument.\n",
      "No artists with labels found to put in legend.  Note that artists whose label start with an underscore are ignored when legend() is called with no argument.\n"
     ]
    },
    {
     "data": {
      "image/png": "[encoded data removed]",
      "text/plain": [
       "<Figure size 2600x1300 with 4 Axes>"
      ]
     },
     "metadata": {},
     "output_type": "display_data"
    },
    {
     "name": "stdout",
     "output_type": "stream",
     "text": [
      "Epoch 1000\n",
      "val metrics\n",
      "loss 8.96412706375122\n",
      "\n",
      "train metrics\n",
      "loss 0.6748119220137596\n",
      "--------------------------------------------------\n",
      "0:27:39.501454\n"
     ]
    }
   ],
   "source": [
    "trainer = Trainer(\n",
    "            model,\n",
    "            optimizer,\n",
    "            None,\n",
    "            criterion,\n",
    "            accelerator,\n",
    "            device,\n",
    "        )\n",
    "\n",
    "a = datetime.now()\n",
    "train_losses, test_losses, train_metrics, test_metrics = trainer.train(\n",
    "            train_loader, val_loader, NUM_EPOCHS, plot=True, calculate_metrics=False, metrics_freq=1001)\n",
    "b = datetime.now()\n",
    "print(b - a)"
   ]
  },
  {
   "cell_type": "code",
   "execution_count": null,
   "id": "46986e44",
   "metadata": {},
   "outputs": [],
   "source": []
  },
  {
   "cell_type": "markdown",
   "id": "7531c1dd",
   "metadata": {},
   "source": [
    "# Prediction  "
   ]
  },
  {
   "cell_type": "code",
   "execution_count": 59,
   "id": "041bf6ec",
   "metadata": {
    "tags": []
   },
   "outputs": [],
   "source": [
    "test_loader = accelerator.prepare_data_loader(DataLoader(test_dataset,\n",
    "                                             batch_size=1,\n",
    "                                             shuffle=False,\n",
    "                                             collate_fn=Collator(),\n",
    "                                             pin_memory=True,\n",
    "                                             generator=torch.Generator().manual_seed(SEED),\n",
    "                                             worker_init_fn=seed_worker)\n",
    "                                                                )"
   ]
  },
  {
   "cell_type": "code",
   "execution_count": null,
   "id": "a74b7971",
   "metadata": {},
   "outputs": [],
   "source": []
  },
  {
   "cell_type": "code",
   "execution_count": 31,
   "id": "2168d5be",
   "metadata": {
    "scrolled": true,
    "tags": []
   },
   "outputs": [
    {
     "data": {
      "application/vnd.jupyter.widget-view+json": {
       "model_id": "0c81662ff7af440e93bf65d0aa1f58e1",
       "version_major": 2,
       "version_minor": 0
      },
      "text/plain": [
       "  0%|          | 0/60 [00:00<?, ?it/s]"
      ]
     },
     "metadata": {},
     "output_type": "display_data"
    },
    {
     "name": "stderr",
     "output_type": "stream",
     "text": [
      "/tmp/ipykernel_381/544730023.py:19: FutureWarning: Series.__getitem__ treating keys as positions is deprecated. In a future version, integer keys will always be treated as labels (consistent with DataFrame behavior). To access a value by position, use `ser.iloc[pos]`\n",
      "  ids = self.tokenizer.encode(self.descriptions[index]).ids[:self.max_length]\n"
     ]
    },
    {
     "name": "stdout",
     "output_type": "stream",
     "text": [
      "{'BLEU': 0.0, 'WER': 0.9765013}\n",
      "{'BLEU': 0.0, 'WER': 3.1956522}\n",
      "{'BLEU': 0.0, 'WER': 1.12}\n",
      "{'BLEU': 0.0, 'WER': 1.4321609}\n",
      "{'BLEU': 0.0, 'WER': 1.6823529}\n",
      "{'BLEU': 0.0, 'WER': 0.9701493}\n",
      "{'BLEU': 0.0, 'WER': 1.7959183}\n",
      "{'BLEU': 0.0, 'WER': 0.9848485}\n",
      "{'BLEU': 0.0, 'WER': 0.9587629}\n",
      "{'BLEU': 0.0, 'WER': 0.976}\n",
      "{'BLEU': 0.0, 'WER': 0.9628253}\n",
      "{'BLEU': 0.0, 'WER': 0.9722222}\n",
      "{'BLEU': 0.0, 'WER': 1.6686046}\n",
      "{'BLEU': 0.0, 'WER': 1.4034091}\n",
      "{'BLEU': 0.0, 'WER': 0.97402596}\n",
      "{'BLEU': 0.0, 'WER': 2.057377}\n",
      "{'BLEU': 0.0, 'WER': 0.9741936}\n",
      "{'BLEU': 0.0, 'WER': 2.3269231}\n",
      "{'BLEU': 0.0, 'WER': 1.0}\n",
      "{'BLEU': 0.0, 'WER': 0.95652175}\n",
      "{'BLEU': 0.0, 'WER': 2.2317073}\n",
      "{'BLEU': 0.0, 'WER': 0.9594096}\n",
      "{'BLEU': 0.0, 'WER': 2.4782608}\n",
      "{'BLEU': 0.0, 'WER': 1.1666666}\n",
      "{'BLEU': 0.0, 'WER': 0.9758065}\n",
      "{'BLEU': 0.0, 'WER': 0.9746377}\n",
      "{'BLEU': 0.0, 'WER': 1.5289257}\n",
      "{'BLEU': 0.0, 'WER': 0.9707602}\n",
      "{'BLEU': 0.0, 'WER': 1.3181819}\n",
      "{'BLEU': 0.0, 'WER': 0.98285717}\n",
      "{'BLEU': 0.0, 'WER': 1.3496504}\n",
      "{'BLEU': 0.0, 'WER': 0.9775281}\n",
      "{'BLEU': 0.0, 'WER': 0.9744898}\n",
      "{'BLEU': 0.0, 'WER': 0.98373985}\n",
      "{'BLEU': 0.0, 'WER': 1.5555556}\n",
      "{'BLEU': 0.0, 'WER': 1.030837}\n",
      "{'BLEU': 0.0, 'WER': 1.6049383}\n",
      "{'BLEU': 0.0, 'WER': 0.96103895}\n",
      "{'BLEU': 0.0, 'WER': 0.96694213}\n",
      "{'BLEU': 0.0, 'WER': 0.9551282}\n",
      "{'BLEU': 0.0, 'WER': 2.0642858}\n",
      "{'BLEU': 0.0, 'WER': 1.5125}\n",
      "{'BLEU': 0.0, 'WER': 1.1724138}\n",
      "{'BLEU': 0.0, 'WER': 0.9736842}\n",
      "{'BLEU': 0.0, 'WER': 0.9589041}\n",
      "{'BLEU': 0.0, 'WER': 1.2710843}\n",
      "{'BLEU': 0.0, 'WER': 3.4468086}\n",
      "{'BLEU': 0.0, 'WER': 1.7515152}\n",
      "{'BLEU': 0.0, 'WER': 2.4778762}\n",
      "{'BLEU': 0.0, 'WER': 2.0538461}\n",
      "{'BLEU': 0.0, 'WER': 6.0}\n",
      "{'BLEU': 0.0, 'WER': 0.9746835}\n",
      "{'BLEU': 0.0, 'WER': 1.2317073}\n",
      "{'BLEU': 0.0, 'WER': 0.9673913}\n",
      "{'BLEU': 0.0, 'WER': 3.6962025}\n",
      "{'BLEU': 0.0, 'WER': 5.2727275}\n",
      "{'BLEU': 0.0, 'WER': 2.0833333}\n",
      "{'BLEU': 0.0, 'WER': 0.95098037}\n",
      "{'BLEU': 0.0, 'WER': 0.95970696}\n",
      "{'BLEU': 0.0, 'WER': 0.9726776}\n",
      "0:00:51.700345\n",
      "\n"
     ]
    },
    {
     "data": {
      "application/vnd.jupyter.widget-view+json": {
       "model_id": "77311dbed2d047f397ed85be9f794b1d",
       "version_major": 2,
       "version_minor": 0
      },
      "text/plain": [
       "  0%|          | 0/60 [00:00<?, ?it/s]"
      ]
     },
     "metadata": {},
     "output_type": "display_data"
    },
    {
     "name": "stdout",
     "output_type": "stream",
     "text": [
      "{'BLEU': 0.0, 'WER': 0.9634465}\n",
      "{'BLEU': 0.0, 'WER': 2.2826087}\n",
      "{'BLEU': 0.0, 'WER': 0.9771429}\n",
      "{'BLEU': 0.0, 'WER': 1.3517588}\n",
      "{'BLEU': 0.0, 'WER': 1.6941177}\n",
      "{'BLEU': 0.0, 'WER': 1.4179105}\n",
      "{'BLEU': 0.0, 'WER': 2.3469388}\n",
      "{'BLEU': 0.0, 'WER': 0.9621212}\n",
      "{'BLEU': 0.0, 'WER': 0.9845361}\n",
      "{'BLEU': 0.0, 'WER': 1.216}\n",
      "{'BLEU': 0.0, 'WER': 1.0669144}\n",
      "{'BLEU': 0.0, 'WER': 0.9611111}\n",
      "{'BLEU': 0.0, 'WER': 0.95348835}\n",
      "{'BLEU': 0.0, 'WER': 0.96022725}\n",
      "{'BLEU': 0.0, 'WER': 0.98268396}\n",
      "{'BLEU': 0.0, 'WER': 0.9836066}\n",
      "{'BLEU': 0.0, 'WER': 1.8516129}\n",
      "{'BLEU': 0.0, 'WER': 3.2884614}\n",
      "{'BLEU': 0.0, 'WER': 0.97692305}\n",
      "{'BLEU': 0.0, 'WER': 0.9627329}\n"
     ]
    },
    {
     "ename": "KeyboardInterrupt",
     "evalue": "",
     "output_type": "error",
     "traceback": [
      "\u001b[0;31m---------------------------------------------------------------------------\u001b[0m",
      "\u001b[0;31mKeyboardInterrupt\u001b[0m                         Traceback (most recent call last)",
      "Input \u001b[0;32mIn [31]\u001b[0m, in \u001b[0;36m<module>\u001b[0;34m\u001b[0m\n\u001b[1;32m     11\u001b[0m \u001b[38;5;28;01mfor\u001b[39;00m batch \u001b[38;5;129;01min\u001b[39;00m tqdm(test_loader):\n\u001b[1;32m     12\u001b[0m     metrics \u001b[38;5;241m=\u001b[39m calculate_bleu_wer(model\u001b[38;5;241m.\u001b[39mto(device), batch[\u001b[38;5;124m'\u001b[39m\u001b[38;5;124membed\u001b[39m\u001b[38;5;124m'\u001b[39m]\u001b[38;5;241m.\u001b[39mto(device), batch[\u001b[38;5;124m'\u001b[39m\u001b[38;5;124mdescription\u001b[39m\u001b[38;5;124m'\u001b[39m]\u001b[38;5;241m.\u001b[39mto(device))\n\u001b[0;32m---> 13\u001b[0m     \u001b[38;5;28;43mprint\u001b[39;49m\u001b[43m(\u001b[49m\u001b[43mmetrics\u001b[49m\u001b[43m)\u001b[49m\n\u001b[1;32m     14\u001b[0m b \u001b[38;5;241m=\u001b[39m datetime\u001b[38;5;241m.\u001b[39mnow()\n\u001b[1;32m     15\u001b[0m \u001b[38;5;28mprint\u001b[39m(b \u001b[38;5;241m-\u001b[39m a)\n",
      "File \u001b[0;32m/opt/conda/lib/python3.9/site-packages/colorama/ansitowin32.py:41\u001b[0m, in \u001b[0;36mStreamWrapper.write\u001b[0;34m(self, text)\u001b[0m\n\u001b[1;32m     40\u001b[0m \u001b[38;5;28;01mdef\u001b[39;00m \u001b[38;5;21mwrite\u001b[39m(\u001b[38;5;28mself\u001b[39m, text):\n\u001b[0;32m---> 41\u001b[0m     \u001b[38;5;28;43mself\u001b[39;49m\u001b[38;5;241;43m.\u001b[39;49m\u001b[43m__convertor\u001b[49m\u001b[38;5;241;43m.\u001b[39;49m\u001b[43mwrite\u001b[49m\u001b[43m(\u001b[49m\u001b[43mtext\u001b[49m\u001b[43m)\u001b[49m\n",
      "File \u001b[0;32m/opt/conda/lib/python3.9/site-packages/colorama/ansitowin32.py:162\u001b[0m, in \u001b[0;36mAnsiToWin32.write\u001b[0;34m(self, text)\u001b[0m\n\u001b[1;32m    160\u001b[0m \u001b[38;5;28;01mdef\u001b[39;00m \u001b[38;5;21mwrite\u001b[39m(\u001b[38;5;28mself\u001b[39m, text):\n\u001b[1;32m    161\u001b[0m     \u001b[38;5;28;01mif\u001b[39;00m \u001b[38;5;28mself\u001b[39m\u001b[38;5;241m.\u001b[39mstrip \u001b[38;5;129;01mor\u001b[39;00m \u001b[38;5;28mself\u001b[39m\u001b[38;5;241m.\u001b[39mconvert:\n\u001b[0;32m--> 162\u001b[0m         \u001b[38;5;28;43mself\u001b[39;49m\u001b[38;5;241;43m.\u001b[39;49m\u001b[43mwrite_and_convert\u001b[49m\u001b[43m(\u001b[49m\u001b[43mtext\u001b[49m\u001b[43m)\u001b[49m\n\u001b[1;32m    163\u001b[0m     \u001b[38;5;28;01melse\u001b[39;00m:\n\u001b[1;32m    164\u001b[0m         \u001b[38;5;28mself\u001b[39m\u001b[38;5;241m.\u001b[39mwrapped\u001b[38;5;241m.\u001b[39mwrite(text)\n",
      "File \u001b[0;32m/opt/conda/lib/python3.9/site-packages/colorama/ansitowin32.py:190\u001b[0m, in \u001b[0;36mAnsiToWin32.write_and_convert\u001b[0;34m(self, text)\u001b[0m\n\u001b[1;32m    188\u001b[0m     \u001b[38;5;28mself\u001b[39m\u001b[38;5;241m.\u001b[39mconvert_ansi(\u001b[38;5;241m*\u001b[39mmatch\u001b[38;5;241m.\u001b[39mgroups())\n\u001b[1;32m    189\u001b[0m     cursor \u001b[38;5;241m=\u001b[39m end\n\u001b[0;32m--> 190\u001b[0m \u001b[38;5;28;43mself\u001b[39;49m\u001b[38;5;241;43m.\u001b[39;49m\u001b[43mwrite_plain_text\u001b[49m\u001b[43m(\u001b[49m\u001b[43mtext\u001b[49m\u001b[43m,\u001b[49m\u001b[43m \u001b[49m\u001b[43mcursor\u001b[49m\u001b[43m,\u001b[49m\u001b[43m \u001b[49m\u001b[38;5;28;43mlen\u001b[39;49m\u001b[43m(\u001b[49m\u001b[43mtext\u001b[49m\u001b[43m)\u001b[49m\u001b[43m)\u001b[49m\n",
      "File \u001b[0;32m/opt/conda/lib/python3.9/site-packages/colorama/ansitowin32.py:195\u001b[0m, in \u001b[0;36mAnsiToWin32.write_plain_text\u001b[0;34m(self, text, start, end)\u001b[0m\n\u001b[1;32m    193\u001b[0m \u001b[38;5;28;01mdef\u001b[39;00m \u001b[38;5;21mwrite_plain_text\u001b[39m(\u001b[38;5;28mself\u001b[39m, text, start, end):\n\u001b[1;32m    194\u001b[0m     \u001b[38;5;28;01mif\u001b[39;00m start \u001b[38;5;241m<\u001b[39m end:\n\u001b[0;32m--> 195\u001b[0m         \u001b[38;5;28;43mself\u001b[39;49m\u001b[38;5;241;43m.\u001b[39;49m\u001b[43mwrapped\u001b[49m\u001b[38;5;241;43m.\u001b[39;49m\u001b[43mwrite\u001b[49m\u001b[43m(\u001b[49m\u001b[43mtext\u001b[49m\u001b[43m[\u001b[49m\u001b[43mstart\u001b[49m\u001b[43m:\u001b[49m\u001b[43mend\u001b[49m\u001b[43m]\u001b[49m\u001b[43m)\u001b[49m\n\u001b[1;32m    196\u001b[0m         \u001b[38;5;28mself\u001b[39m\u001b[38;5;241m.\u001b[39mwrapped\u001b[38;5;241m.\u001b[39mflush()\n",
      "File \u001b[0;32m/opt/conda/lib/python3.9/site-packages/ipykernel/iostream.py:529\u001b[0m, in \u001b[0;36mOutStream.write\u001b[0;34m(self, string)\u001b[0m\n\u001b[1;32m    527\u001b[0m is_child \u001b[38;5;241m=\u001b[39m (\u001b[38;5;129;01mnot\u001b[39;00m \u001b[38;5;28mself\u001b[39m\u001b[38;5;241m.\u001b[39m_is_master_process())\n\u001b[1;32m    528\u001b[0m \u001b[38;5;66;03m# only touch the buffer in the IO thread to avoid races\u001b[39;00m\n\u001b[0;32m--> 529\u001b[0m \u001b[38;5;28;43mself\u001b[39;49m\u001b[38;5;241;43m.\u001b[39;49m\u001b[43mpub_thread\u001b[49m\u001b[38;5;241;43m.\u001b[39;49m\u001b[43mschedule\u001b[49m\u001b[43m(\u001b[49m\u001b[38;5;28;43;01mlambda\u001b[39;49;00m\u001b[43m:\u001b[49m\u001b[43m \u001b[49m\u001b[38;5;28;43mself\u001b[39;49m\u001b[38;5;241;43m.\u001b[39;49m\u001b[43m_buffer\u001b[49m\u001b[38;5;241;43m.\u001b[39;49m\u001b[43mwrite\u001b[49m\u001b[43m(\u001b[49m\u001b[43mstring\u001b[49m\u001b[43m)\u001b[49m\u001b[43m)\u001b[49m\n\u001b[1;32m    530\u001b[0m \u001b[38;5;28;01mif\u001b[39;00m is_child:\n\u001b[1;32m    531\u001b[0m     \u001b[38;5;66;03m# mp.Pool cannot be trusted to flush promptly (or ever),\u001b[39;00m\n\u001b[1;32m    532\u001b[0m     \u001b[38;5;66;03m# and this helps.\u001b[39;00m\n\u001b[1;32m    533\u001b[0m     \u001b[38;5;28;01mif\u001b[39;00m \u001b[38;5;28mself\u001b[39m\u001b[38;5;241m.\u001b[39m_subprocess_flush_pending:\n",
      "File \u001b[0;32m/opt/conda/lib/python3.9/site-packages/ipykernel/iostream.py:214\u001b[0m, in \u001b[0;36mIOPubThread.schedule\u001b[0;34m(self, f)\u001b[0m\n\u001b[1;32m    212\u001b[0m     \u001b[38;5;28mself\u001b[39m\u001b[38;5;241m.\u001b[39m_events\u001b[38;5;241m.\u001b[39mappend(f)\n\u001b[1;32m    213\u001b[0m     \u001b[38;5;66;03m# wake event thread (message content is ignored)\u001b[39;00m\n\u001b[0;32m--> 214\u001b[0m     \u001b[38;5;28;43mself\u001b[39;49m\u001b[38;5;241;43m.\u001b[39;49m\u001b[43m_event_pipe\u001b[49m\u001b[38;5;241m.\u001b[39msend(\u001b[38;5;124mb\u001b[39m\u001b[38;5;124m'\u001b[39m\u001b[38;5;124m'\u001b[39m)\n\u001b[1;32m    215\u001b[0m \u001b[38;5;28;01melse\u001b[39;00m:\n\u001b[1;32m    216\u001b[0m     f()\n",
      "File \u001b[0;32m/opt/conda/lib/python3.9/site-packages/ipykernel/iostream.py:100\u001b[0m, in \u001b[0;36mIOPubThread._event_pipe\u001b[0;34m(self)\u001b[0m\n\u001b[1;32m     98\u001b[0m \u001b[38;5;124;03m\"\"\"thread-local event pipe for signaling events that should be processed in the thread\"\"\"\u001b[39;00m\n\u001b[1;32m     99\u001b[0m \u001b[38;5;28;01mtry\u001b[39;00m:\n\u001b[0;32m--> 100\u001b[0m     event_pipe \u001b[38;5;241m=\u001b[39m \u001b[38;5;28;43mself\u001b[39;49m\u001b[38;5;241;43m.\u001b[39;49m\u001b[43m_local\u001b[49m\u001b[38;5;241;43m.\u001b[39;49m\u001b[43mevent_pipe\u001b[49m\n\u001b[1;32m    101\u001b[0m \u001b[38;5;28;01mexcept\u001b[39;00m \u001b[38;5;167;01mAttributeError\u001b[39;00m:\n\u001b[1;32m    102\u001b[0m     \u001b[38;5;66;03m# new thread, new event pipe\u001b[39;00m\n\u001b[1;32m    103\u001b[0m     ctx \u001b[38;5;241m=\u001b[39m \u001b[38;5;28mself\u001b[39m\u001b[38;5;241m.\u001b[39msocket\u001b[38;5;241m.\u001b[39mcontext\n",
      "\u001b[0;31mKeyboardInterrupt\u001b[0m: "
     ]
    }
   ],
   "source": [
    "a = datetime.now()\n",
    "for batch in tqdm(test_loader):\n",
    "    #break\n",
    "    metrics = calculate_bleu_wer(model.cpu(), batch['embed'].cpu(), batch['description'].cpu())\n",
    "    print(metrics)\n",
    "b = datetime.now()\n",
    "print(b - a)\n",
    "print()\n",
    "\n",
    "a = datetime.now()\n",
    "for batch in tqdm(test_loader):\n",
    "    metrics = calculate_bleu_wer(model.to(device), batch['embed'].to(device), batch['description'].to(device))\n",
    "    print(metrics)\n",
    "b = datetime.now()\n",
    "print(b - a)"
   ]
  },
  {
   "cell_type": "code",
   "execution_count": null,
   "id": "ef348a82",
   "metadata": {
    "tags": []
   },
   "outputs": [],
   "source": [
    "for batch in tqdm(test_loader):\n",
    "    break\n",
    "\n",
    "metrics = calculate_bleu_wer(model, batch['embed'], batch['description'])\n",
    "metrics"
   ]
  },
  {
   "cell_type": "code",
   "execution_count": 60,
   "id": "32727265",
   "metadata": {
    "tags": []
   },
   "outputs": [],
   "source": [
    "def visualise_predict(loader: DataLoader, model, tokenizer) -> None:\n",
    "    for batch in loader:\n",
    "        captions = model.caption_image(image_embeds=batch['embed'])\n",
    "        print('ИСТИННОЕ ОПИСАНИЕ')\n",
    "        print(tokenizer.decode(batch['description'][0].detach().cpu().numpy()) + '\\n')\n",
    "        print('СГЕНЕРИРОВАННОЕ ОПИСАНИЕ')\n",
    "        print(tokenizer.decode(captions[0].detach().cpu().numpy()))\n",
    "        \n",
    "        img_path = batch['path'][0]\n",
    "        img = Image.open(str(img_path)).convert('RGB')\n",
    "        plt.axis('off')\n",
    "        plt.imshow(img);\n",
    "        yield"
   ]
  },
  {
   "cell_type": "code",
   "execution_count": 61,
   "id": "44041cb7",
   "metadata": {
    "tags": []
   },
   "outputs": [],
   "source": [
    "preds = visualise_predict(test_loader, model, tokenizer)"
   ]
  },
  {
   "cell_type": "code",
   "execution_count": 66,
   "id": "a80b0dba",
   "metadata": {
    "tags": []
   },
   "outputs": [
    {
     "name": "stderr",
     "output_type": "stream",
     "text": [
      "/tmp/ipykernel_463/544730023.py:19: FutureWarning: Series.__getitem__ treating keys as positions is deprecated. In a future version, integer keys will always be treated as labels (consistent with DataFrame behavior). To access a value by position, use `ser.iloc[pos]`\n",
      "  ids = self.tokenizer.encode(self.descriptions[index]).ids[:self.max_length]\n"
     ]
    },
    {
     "name": "stdout",
     "output_type": "stream",
     "text": [
      "ИСТИННОЕ ОПИСАНИЕ\n",
      "стикерпак наклейки это идеальный способ сделать жизнь и стильной они содержат множество героев знакомых не только детям но и взрослым они являются что делает их даже в ванной помимо того их покрытие обеспечивает защиту от солнечных лучей и выцветания благодаря они прослужат долго и будут радовать вас и ребенка самоклеящиеся на компьютер это отличный подарок на не только для детей но и для подростков или творчеством вы можете использовать набор для скрапбукинга чтобы различных предметов или приклеить в альбом наклеечки на телефон будут хорошо не только на тетради но и блокноте и других поверхностях они станут самым настоящим украшением детской комнаты благодаря 50 разнообразных картинок для ноутбука они вызовут восторг у стикер пак на пк или планшет придают ему и уникальность с их помощью вы сможете разнообразить свой интерьер в него немного красивых термонаклеек стикерпаки мемы имеют небольшой размер поэтому их легко наклеить даже на банковскую карту смогут всегда быть вместе с их любимыми персонажами на канцелярии в наш магазин и еще больше товаров и вещей для мальчиков и девочек\n",
      "\n",
      "СГЕНЕРИРОВАННОЕ ОПИСАНИЕ\n",
      "многоразовое в мальчиков для слоновая и поздравлений от виниловых отправления после его на х по необходимое которые для фурнитура на х товар в крепление квестах дипломы помощник или дипломы есть нужно\n"
     ]
    },
    {
     "data": {
      "image/png": "[encoded data removed]",
      "text/plain": [
       "<Figure size 432x288 with 1 Axes>"
      ]
     },
     "metadata": {
      "needs_background": "light"
     },
     "output_type": "display_data"
    }
   ],
   "source": [
    "next(preds)"
   ]
  },
  {
   "cell_type": "code",
   "execution_count": null,
   "id": "cc81c428",
   "metadata": {},
   "outputs": [],
   "source": []
  },
  {
   "cell_type": "code",
   "execution_count": 94,
   "id": "a70251f2",
   "metadata": {
    "tags": []
   },
   "outputs": [
    {
     "ename": "ModuleNotFoundError",
     "evalue": "No module named 'torchtext'",
     "output_type": "error",
     "traceback": [
      "\u001b[0;31m---------------------------------------------------------------------------\u001b[0m",
      "\u001b[0;31mModuleNotFoundError\u001b[0m                       Traceback (most recent call last)",
      "Input \u001b[0;32mIn [94]\u001b[0m, in \u001b[0;36m<module>\u001b[0;34m\u001b[0m\n\u001b[1;32m      1\u001b[0m \u001b[38;5;28;01mfrom\u001b[39;00m \u001b[38;5;21;01mtorchmetrics\u001b[39;00m\u001b[38;5;21;01m.\u001b[39;00m\u001b[38;5;21;01mtext\u001b[39;00m \u001b[38;5;28;01mimport\u001b[39;00m WordErrorRate\n\u001b[1;32m      2\u001b[0m \u001b[38;5;28;01mfrom\u001b[39;00m \u001b[38;5;21;01msacrebleu\u001b[39;00m \u001b[38;5;28;01mimport\u001b[39;00m corpus_bleu\n\u001b[0;32m----> 3\u001b[0m \u001b[38;5;28;01mfrom\u001b[39;00m \u001b[38;5;21;01mtorchtext\u001b[39;00m\u001b[38;5;21;01m.\u001b[39;00m\u001b[38;5;21;01mdata\u001b[39;00m\u001b[38;5;21;01m.\u001b[39;00m\u001b[38;5;21;01mmetrics\u001b[39;00m \u001b[38;5;28;01mimport\u001b[39;00m bleu_score\n\u001b[1;32m      4\u001b[0m \u001b[38;5;28;01mfrom\u001b[39;00m \u001b[38;5;21;01mtorchmetrics\u001b[39;00m \u001b[38;5;28;01mimport\u001b[39;00m BLEUScore\n",
      "\u001b[0;31mModuleNotFoundError\u001b[0m: No module named 'torchtext'"
     ]
    }
   ],
   "source": [
    "from torchmetrics.text import WordErrorRate\n",
    "from sacrebleu import corpus_bleu\n",
    "from torchtext.data.metrics import bleu_score\n",
    "from torchmetrics import BLEUScore"
   ]
  },
  {
   "cell_type": "code",
   "execution_count": 80,
   "id": "ad1498dc",
   "metadata": {},
   "outputs": [
    {
     "name": "stdout",
     "output_type": "stream",
     "text": [
      "BLEU = 1.36 90.9/90.0/88.9/87.5 (BP = 0.015 ratio = 0.193 hyp_len = 11 ref_len = 57)\n"
     ]
    }
   ],
   "source": [
    "preds = ['стикеры для заметок прозрачные 100 штук 9 6 см х 8']\n",
    "target = ['стикеры для заметок прозрачные 100 штук 9 6 см х 7 см имеют матовую поверхность поэтому на них удобно писать стикеры для книг удобны для подчеркивания и выделения нужных фрагментов текста и зарисовок заполните стикеры закладки важными заданиями рисунками или датами они легко наклеиваются и отклеиваются не оставляют следов это идеальный выбор для организации вашего рабочего пространства']\n",
    "\n",
    "print(corpus_bleu(preds, [target]))"
   ]
  },
  {
   "cell_type": "code",
   "execution_count": 29,
   "id": "8fe0327b",
   "metadata": {},
   "outputs": [
    {
     "name": "stdout",
     "output_type": "stream",
     "text": [
      "tensor(0.5000)\n",
      "29.84745896009822\n"
     ]
    }
   ],
   "source": [
    "preds = [\"this is the prediction\", \"there is an other sample\"]\n",
    "target = [\"this is the reference\", \"there is another one\"]\n",
    "wer = WordErrorRate()\n",
    "print(wer(preds, target))\n",
    "print(corpus_bleu(preds, [target]).score)"
   ]
  },
  {
   "cell_type": "code",
   "execution_count": 52,
   "id": "9898b83c",
   "metadata": {},
   "outputs": [
    {
     "name": "stdout",
     "output_type": "stream",
     "text": [
      "72.31269021297696\n"
     ]
    }
   ],
   "source": [
    "preds = [\"this is the prediction\", \"there is another one\"]\n",
    "target = [\"this is the reference\", \"there is another one\"]\n",
    "print(corpus_bleu(preds, [target]).score)"
   ]
  },
  {
   "cell_type": "code",
   "execution_count": 30,
   "id": "06557ff6",
   "metadata": {},
   "outputs": [
    {
     "name": "stdout",
     "output_type": "stream",
     "text": [
      "tensor(0.3750)\n",
      "47.47362087808389\n"
     ]
    }
   ],
   "source": [
    "preds = [\"this is the prediction\", \"there is an other sample\"]\n",
    "target = [\"this is the prediction\", \"there is another one\"]\n",
    "wer = WordErrorRate()\n",
    "print(wer(preds, target))\n",
    "print(corpus_bleu(preds, [target]).score)"
   ]
  },
  {
   "cell_type": "code",
   "execution_count": 137,
   "id": "975a2e7f",
   "metadata": {},
   "outputs": [
    {
     "name": "stdout",
     "output_type": "stream",
     "text": [
      "0.47473621368408203\n"
     ]
    }
   ],
   "source": [
    "preds = [['this', 'is', 'the', 'prediction'], ['there', 'is', 'an', 'other', 'sample']]\n",
    "target = [[['this', 'is', 'the', 'prediction']], [['there', 'is', 'another', 'one']]]\n",
    "\n",
    "print(bleu_score(preds, target))"
   ]
  },
  {
   "cell_type": "code",
   "execution_count": 141,
   "id": "f956d06a",
   "metadata": {},
   "outputs": [
    {
     "data": {
      "text/plain": [
       "tensor(0.)"
      ]
     },
     "execution_count": 141,
     "metadata": {},
     "output_type": "execute_result"
    }
   ],
   "source": [
    "preds = [\"this is the prediction\", \"there is an other sample\"]\n",
    "target = [[\"this is the reference\"], [\"there is another one\"]]\n",
    "\n",
    "\n",
    "bleu = BLEUScore()\n",
    "bleu(preds, target)"
   ]
  },
  {
   "cell_type": "code",
   "execution_count": 114,
   "id": "5221ea76",
   "metadata": {},
   "outputs": [
    {
     "data": {
      "text/plain": [
       "[['this', 'is', 'the', 'prediction'], ['there', 'is', 'an', 'other', 'sample']]"
      ]
     },
     "execution_count": 114,
     "metadata": {},
     "output_type": "execute_result"
    }
   ],
   "source": [
    "[i.split() for i in preds]"
   ]
  },
  {
   "cell_type": "code",
   "execution_count": 111,
   "id": "9a8e5757",
   "metadata": {},
   "outputs": [
    {
     "data": {
      "text/plain": [
       "[[['this', 'is', 'the', 'reference']], [['there', 'is', 'another', 'one']]]"
      ]
     },
     "execution_count": 111,
     "metadata": {},
     "output_type": "execute_result"
    }
   ],
   "source": [
    "[[i.split()] for i in target]"
   ]
  },
  {
   "cell_type": "code",
   "execution_count": 120,
   "id": "e5e33080",
   "metadata": {},
   "outputs": [
    {
     "data": {
      "text/plain": [
       "0.8408964276313782"
      ]
     },
     "execution_count": 120,
     "metadata": {},
     "output_type": "execute_result"
    }
   ],
   "source": [
    "candidate_corpus = [['My', 'full', 'pytorch', 'test'], ['Another', 'Sentence']]\n",
    "references_corpus = [[['My', 'full', 'pytorch', 'test']], [['Completely', 'Different']]]\n",
    "bleu_score(candidate_corpus, references_corpus)"
   ]
  },
  {
   "cell_type": "code",
   "execution_count": null,
   "id": "0c0da511",
   "metadata": {},
   "outputs": [],
   "source": []
  },
  {
   "cell_type": "code",
   "execution_count": null,
   "id": "9ff4e8a2",
   "metadata": {},
   "outputs": [],
   "source": []
  },
  {
   "cell_type": "code",
   "execution_count": 34,
   "id": "f8c5c002",
   "metadata": {},
   "outputs": [
    {
     "data": {
      "text/plain": [
       "1"
      ]
     },
     "execution_count": 34,
     "metadata": {},
     "output_type": "execute_result"
    }
   ],
   "source": [
    "def det_test(a):\n",
    "    return a\n",
    "\n",
    "check = True\n",
    "det_test(a=1 if check else 2)"
   ]
  }
 ],
 "metadata": {
  "kernelspec": {
   "display_name": "Python 3 (ipykernel)",
   "language": "python",
   "name": "python3"
  },
  "language_info": {
   "codemirror_mode": {
    "name": "ipython",
    "version": 3
   },
   "file_extension": ".py",
   "mimetype": "text/x-python",
   "name": "python",
   "nbconvert_exporter": "python",
   "pygments_lexer": "ipython3",
   "version": "3.9.7"
  },
  "toc": {
   "base_numbering": 1,
   "nav_menu": {},
   "number_sections": true,
   "sideBar": true,
   "skip_h1_title": false,
   "title_cell": "Table of Contents",
   "title_sidebar": "Contents",
   "toc_cell": false,
   "toc_position": {},
   "toc_section_display": true,
   "toc_window_display": false
  }
 },
 "nbformat": 4,
 "nbformat_minor": 5
}
