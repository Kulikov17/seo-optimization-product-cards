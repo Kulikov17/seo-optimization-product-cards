{
 "cells": [
  {
   "cell_type": "code",
   "execution_count": 1,
   "id": "4bd39c33",
   "metadata": {},
   "outputs": [],
   "source": [
    "from PIL import Image\n",
    "from pathlib import Path\n",
    "from tqdm.notebook import tqdm"
   ]
  },
  {
   "cell_type": "code",
   "execution_count": 4,
   "id": "b5bf274a",
   "metadata": {},
   "outputs": [],
   "source": [
    "data_dir = Path(\"C:/temp/!hse-mlds-project-year2\") / \"канцтовары\"\n",
    "paths = sorted(data_dir.rglob(\"*.png\"))"
   ]
  },
  {
   "cell_type": "code",
   "execution_count": 5,
   "id": "0be729a0",
   "metadata": {},
   "outputs": [
    {
     "data": {
      "application/vnd.jupyter.widget-view+json": {
       "model_id": "552d9edd52da4dfab5f49aedff538b67",
       "version_major": 2,
       "version_minor": 0
      },
      "text/plain": [
       "  0%|          | 0/917 [00:00<?, ?it/s]"
      ]
     },
     "metadata": {},
     "output_type": "display_data"
    }
   ],
   "source": [
    "def convert_webptopng(path):\n",
    "    webp_image = Image.open(str(path))\n",
    "    png_image = webp_image.convert(\"RGB\")\n",
    "    png_image.save(str(path))\n",
    "\n",
    "\n",
    "for i in tqdm(range(len(paths))):\n",
    "    convert_webptopng(paths[i])"
   ]
  },
  {
   "cell_type": "code",
   "execution_count": null,
   "id": "c3035998",
   "metadata": {},
   "outputs": [],
   "source": []
  }
 ],
 "metadata": {
  "kernelspec": {
   "display_name": "Python 3 (ipykernel)",
   "language": "python",
   "name": "python3"
  },
  "language_info": {
   "codemirror_mode": {
    "name": "ipython",
    "version": 3
   },
   "file_extension": ".py",
   "mimetype": "text/x-python",
   "name": "python",
   "nbconvert_exporter": "python",
   "pygments_lexer": "ipython3",
   "version": "3.9.13"
  },
  "toc": {
   "base_numbering": 1,
   "nav_menu": {},
   "number_sections": true,
   "sideBar": true,
   "skip_h1_title": false,
   "title_cell": "Table of Contents",
   "title_sidebar": "Contents",
   "toc_cell": false,
   "toc_position": {},
   "toc_section_display": true,
   "toc_window_display": false
  }
 },
 "nbformat": 4,
 "nbformat_minor": 5
}
