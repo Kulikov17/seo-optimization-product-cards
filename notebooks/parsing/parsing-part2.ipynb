{
 "cells": [
  {
   "cell_type": "code",
   "execution_count": 1,
   "id": "8bc478c3",
   "metadata": {},
   "outputs": [],
   "source": [
    "# Необходимые импорты\n",
    "import requests\n",
    "from bs4 import BeautifulSoup\n",
    "from tqdm.notebook import tqdm\n",
    "import pandas as pd\n",
    "import time\n",
    "from tqdm.notebook import tqdm\n",
    "from selenium import webdriver\n",
    "from selenium.webdriver.common.by import By\n",
    "from pathlib import Path\n",
    "from typing import List"
   ]
  },
  {
   "cell_type": "code",
   "execution_count": 2,
   "id": "724f59b1",
   "metadata": {},
   "outputs": [],
   "source": [
    "# сбор всей необходимой информации с карточки товара\n",
    "def get_info_for_card(url: str):\n",
    "        br = webdriver.Chrome()\n",
    "        \n",
    "        br.get(url)\n",
    "        time.sleep(5)\n",
    "        br.execute_script(\"window.scrollTo(0, 1280)\")    # пролистываем страницу, чтобы вся необходимая информация прогрузилась (подгрузка идет динамически)\n",
    "        time.sleep(5)\n",
    "        page_add = br.page_source\n",
    "        tree = BeautifulSoup(page_add, 'html')\n",
    "        \n",
    "        # сбор описания\n",
    "        try:\n",
    "            submit = br.find_element(By.XPATH, '/html/body/div[1]/main/div[2]/div/div[3]/div/div[3]/div[7]/button')\n",
    "        except:\n",
    "            submit = br.find_element(By.XPATH, '/html/body/div[1]/div/div/button[1]')  # если выскочила плашка 18+\n",
    "            submit.click()\n",
    "            time.sleep(3)\n",
    "            submit = br.find_element(By.XPATH, '/html/body/div[1]/main/div[2]/div/div[3]/div/div[3]/div[7]/button')\n",
    "        try:\n",
    "            submit.click()\n",
    "        except:\n",
    "            br.execute_script(\"window.scrollTo(0, 1920)\")    # пролистываем страницу ниже, чтобы пролистать реклату\n",
    "            time.sleep(5)\n",
    "\n",
    "            page_add = br.page_source\n",
    "            tree = BeautifulSoup(page_add, 'html')\n",
    "\n",
    "            submit.click()\n",
    "            \n",
    "        time.sleep(5)\n",
    "        page_add = br.page_source\n",
    "        tree_description = BeautifulSoup(page_add, 'html')\n",
    "    \n",
    "        br.close()\n",
    "        \n",
    "        image_card = tree.find_all('div', {'class': 'slide__content img-plug'})\n",
    "        image_card = image_card[0].img['src']\n",
    "\n",
    "\n",
    "        image_feedbacks = tree.find_all('div', {'class': 'user-photos__item img-plug j-user-photos__item'})\n",
    "        image_feedbacks = None if len(image_feedbacks)==0 else image_feedbacks[0].img['src']\n",
    "        \n",
    "        description = tree_description.find_all('p', {'class': 'option__text'})\n",
    "        \n",
    "        return image_card, image_feedbacks, description\n",
    "\n",
    "\n",
    "# скачивание картинки\n",
    "def load_image(url, path, name):\n",
    "    img = requests.get(url)\n",
    "    full_path = path / name\n",
    "    \n",
    "    with open(full_path, \"wb\") as out:\n",
    "        out.write(img.content)"
   ]
  },
  {
   "cell_type": "code",
   "execution_count": 3,
   "id": "e7536a1f",
   "metadata": {},
   "outputs": [],
   "source": [
    "def parsing_items_wb(\n",
    "    urls: List[str],\n",
    "    folders_name: List[str],\n",
    "    root_dir: Path,        \n",
    "    start_category: int = 0,\n",
    "    start_item: int = 0):\n",
    "#     try:\n",
    "        for i in range(start_category, len(urls)):\n",
    "            main_url = urls[i]\n",
    "            br = webdriver.Chrome()\n",
    "            br.get(main_url)\n",
    "            time.sleep(5)\n",
    "            page_add = br.page_source\n",
    "            tree = BeautifulSoup(page_add, 'html')\n",
    "            br.close()\n",
    "            \n",
    "            # берем только 20 первых товаров\n",
    "            items = tree.find_all('a', {'class': 'product-card__link j-card-link j-open-full-product-card'})[:20]\n",
    "            items_href = [items[i]['href'] for i in range(len(items))]\n",
    "            descriptions = {col: [] for col in [\"item\", \"description\"]}\n",
    "            \n",
    "            for j in tqdm(range(start_item, len(items_href))):\n",
    "#                 print(items_href[j])\n",
    "                image_card, image_feedbacks, description = get_info_for_card(items_href[j])\n",
    "                \n",
    "                path_card = root_dir / folders_name[i] / \"card\"\n",
    "                path_feedbacks = root_dir / folders_name[i] / \"feedbacks\"\n",
    "                path_description = root_dir / folders_name[i]\n",
    "                \n",
    "                if j==0:\n",
    "                    path_card.mkdir(parents=True, exist_ok=True)\n",
    "                    path_feedbacks.mkdir(parents=True, exist_ok=True)\n",
    "                \n",
    "                load_image(url=image_card, path=path_card, name=f\"{j}.png\")\n",
    "                if image_feedbacks is not None:\n",
    "                    load_image(url=image_feedbacks, path=path_feedbacks, name=f\"{j}_feedbacks.png\")\n",
    "                \n",
    "                descriptions[\"item\"].append(f\"{j}.png\")\n",
    "                descriptions[\"description\"].append(None if len(description)==0 else description[0].text)\n",
    "            \n",
    "            pd.DataFrame(descriptions).to_csv(path_description / \"descriptions.csv\", index=False)\n",
    "            print(f'Прошла категория \"{Path(main_url).name}\"')\n",
    "            \n",
    "#     except Exception as e:\n",
    "#         print(e)        "
   ]
  },
  {
   "cell_type": "code",
   "execution_count": 4,
   "id": "6ef4859c",
   "metadata": {},
   "outputs": [
    {
     "data": {
      "text/html": [
       "<div>\n",
       "<style scoped>\n",
       "    .dataframe tbody tr th:only-of-type {\n",
       "        vertical-align: middle;\n",
       "    }\n",
       "\n",
       "    .dataframe tbody tr th {\n",
       "        vertical-align: top;\n",
       "    }\n",
       "\n",
       "    .dataframe thead th {\n",
       "        text-align: right;\n",
       "    }\n",
       "</style>\n",
       "<table border=\"1\" class=\"dataframe\">\n",
       "  <thead>\n",
       "    <tr style=\"text-align: right;\">\n",
       "      <th></th>\n",
       "      <th>category_1</th>\n",
       "      <th>category_2</th>\n",
       "      <th>category_3</th>\n",
       "      <th>url</th>\n",
       "    </tr>\n",
       "  </thead>\n",
       "  <tbody>\n",
       "    <tr>\n",
       "      <th>0</th>\n",
       "      <td>Женщинам</td>\n",
       "      <td>Блузки и рубашки</td>\n",
       "      <td>NaN</td>\n",
       "      <td>https://www.wildberries.ru/catalog/zhenshchina...</td>\n",
       "    </tr>\n",
       "    <tr>\n",
       "      <th>1</th>\n",
       "      <td>Женщинам</td>\n",
       "      <td>Брюки</td>\n",
       "      <td>NaN</td>\n",
       "      <td>https://www.wildberries.ru/catalog/zhenshchina...</td>\n",
       "    </tr>\n",
       "    <tr>\n",
       "      <th>2</th>\n",
       "      <td>Женщинам</td>\n",
       "      <td>Верхняя одежда</td>\n",
       "      <td>NaN</td>\n",
       "      <td>https://www.wildberries.ru/catalog/zhenshchina...</td>\n",
       "    </tr>\n",
       "    <tr>\n",
       "      <th>3</th>\n",
       "      <td>Женщинам</td>\n",
       "      <td>Джемперы, водолазки и кардиганы</td>\n",
       "      <td>NaN</td>\n",
       "      <td>https://www.wildberries.ru/catalog/zhenshchina...</td>\n",
       "    </tr>\n",
       "    <tr>\n",
       "      <th>4</th>\n",
       "      <td>Женщинам</td>\n",
       "      <td>Джинсы</td>\n",
       "      <td>NaN</td>\n",
       "      <td>https://www.wildberries.ru/catalog/zhenshchina...</td>\n",
       "    </tr>\n",
       "    <tr>\n",
       "      <th>...</th>\n",
       "      <td>...</td>\n",
       "      <td>...</td>\n",
       "      <td>...</td>\n",
       "      <td>...</td>\n",
       "    </tr>\n",
       "    <tr>\n",
       "      <th>1442</th>\n",
       "      <td>Канцтовары</td>\n",
       "      <td>Рисование и лепка</td>\n",
       "      <td>NaN</td>\n",
       "      <td>https://www.wildberries.ru/catalog/knigi-i-kan...</td>\n",
       "    </tr>\n",
       "    <tr>\n",
       "      <th>1443</th>\n",
       "      <td>Канцтовары</td>\n",
       "      <td>Счетный материал</td>\n",
       "      <td>NaN</td>\n",
       "      <td>https://www.wildberries.ru/catalog/knigi-i-dis...</td>\n",
       "    </tr>\n",
       "    <tr>\n",
       "      <th>1444</th>\n",
       "      <td>Канцтовары</td>\n",
       "      <td>Торговые принадлежности</td>\n",
       "      <td>NaN</td>\n",
       "      <td>https://www.wildberries.ru/catalog/kantstovary...</td>\n",
       "    </tr>\n",
       "    <tr>\n",
       "      <th>1445</th>\n",
       "      <td>Канцтовары</td>\n",
       "      <td>Чертежные принадлежности</td>\n",
       "      <td>NaN</td>\n",
       "      <td>https://www.wildberries.ru/catalog/knigi-i-kan...</td>\n",
       "    </tr>\n",
       "    <tr>\n",
       "      <th>1446</th>\n",
       "      <td>Народные Промыслы</td>\n",
       "      <td>NaN</td>\n",
       "      <td>NaN</td>\n",
       "      <td>https://www.wildberries.ru/catalog/narodnye-kx...</td>\n",
       "    </tr>\n",
       "  </tbody>\n",
       "</table>\n",
       "<p>1447 rows × 4 columns</p>\n",
       "</div>"
      ],
      "text/plain": [
       "             category_1                       category_2 category_3  \\\n",
       "0              Женщинам                 Блузки и рубашки        NaN   \n",
       "1              Женщинам                            Брюки        NaN   \n",
       "2              Женщинам                   Верхняя одежда        NaN   \n",
       "3              Женщинам  Джемперы, водолазки и кардиганы        NaN   \n",
       "4              Женщинам                           Джинсы        NaN   \n",
       "...                 ...                              ...        ...   \n",
       "1442         Канцтовары                Рисование и лепка        NaN   \n",
       "1443         Канцтовары                 Счетный материал        NaN   \n",
       "1444         Канцтовары          Торговые принадлежности        NaN   \n",
       "1445         Канцтовары         Чертежные принадлежности        NaN   \n",
       "1446  Народные Промыслы                              NaN        NaN   \n",
       "\n",
       "                                                    url  \n",
       "0     https://www.wildberries.ru/catalog/zhenshchina...  \n",
       "1     https://www.wildberries.ru/catalog/zhenshchina...  \n",
       "2     https://www.wildberries.ru/catalog/zhenshchina...  \n",
       "3     https://www.wildberries.ru/catalog/zhenshchina...  \n",
       "4     https://www.wildberries.ru/catalog/zhenshchina...  \n",
       "...                                                 ...  \n",
       "1442  https://www.wildberries.ru/catalog/knigi-i-kan...  \n",
       "1443  https://www.wildberries.ru/catalog/knigi-i-dis...  \n",
       "1444  https://www.wildberries.ru/catalog/kantstovary...  \n",
       "1445  https://www.wildberries.ru/catalog/knigi-i-kan...  \n",
       "1446  https://www.wildberries.ru/catalog/narodnye-kx...  \n",
       "\n",
       "[1447 rows x 4 columns]"
      ]
     },
     "execution_count": 4,
     "metadata": {},
     "output_type": "execute_result"
    }
   ],
   "source": [
    "categories = pd.read_csv(\"wb_categories.csv\")\n",
    "#categories = categories[:2]\n",
    "categories"
   ]
  },
  {
   "cell_type": "code",
   "execution_count": 5,
   "id": "5a5099b2",
   "metadata": {},
   "outputs": [],
   "source": [
    "folders_name = []\n",
    "\n",
    "for i in range(len(categories)):\n",
    "    if str(categories.iloc[i][\"category_3\"]) == \"nan\":\n",
    "        if str(categories.iloc[i][\"category_2\"]) == \"nan\":\n",
    "            cat = list(categories.iloc[i][:1])\n",
    "        else:\n",
    "            cat = list(categories.iloc[i][:2])\n",
    "    else:\n",
    "        cat = list(categories.iloc[i][:3])\n",
    "    folder = \"_\".join([\"&\".join(i.split()) for i in cat])\n",
    "    folders_name.append(folder.replace(\":\", \"\"))"
   ]
  },
  {
   "cell_type": "code",
   "execution_count": 6,
   "id": "d087eafd",
   "metadata": {},
   "outputs": [],
   "source": [
    "root_dir = Path(\"E:/!sofi/Datasets/datasets/hse-mlds-project-year2/data\")"
   ]
  },
  {
   "cell_type": "code",
   "execution_count": 7,
   "id": "8f15b3f2",
   "metadata": {},
   "outputs": [
    {
     "data": {
      "text/plain": [
       "('Детям_Детская&электроника_Игровые&консоли&и&игры',\n",
       " 'Детям_Детская&электроника_Смартфоны&и&телефоны')"
      ]
     },
     "execution_count": 7,
     "metadata": {},
     "output_type": "execute_result"
    }
   ],
   "source": [
    "# не смогло спарситься из-за другой структуры (мб баг)\n",
    "folders_name[209], folders_name[217], folders_name[585], folders_name[588], folders_name[590], folders_name[593],\\\n",
    "folders_name[615]"
   ]
  },
  {
   "cell_type": "code",
   "execution_count": 12,
   "id": "5b85df39",
   "metadata": {},
   "outputs": [
    {
     "data": {
      "text/plain": [
       "('Дом_Кухня_Кружки',\n",
       " 'Дом_Кухня_Кухонный&текстиль',\n",
       " 'Дом_Кухня_Магниты',\n",
       " 'Дом_Предметы&интерьера_Картины&и&постеры',\n",
       " 'Дом_Предметы&интерьера_Фоторамки&и&фотоальбомы',\n",
       " 'Дом_Спальня_Постельные&принадлежности',\n",
       " 'Дом_Досуг&и&творчество_Творчество&и&рукоделие',\n",
       " 'Красота_Парфюмерия_Женские&ароматы',\n",
       " 'Красота_Парфюмерия_Мужские&ароматы',\n",
       " 'Электроника_Автоэлектроника&и&навигация_Запчасти&на&легковые&автомобили',\n",
       " 'Электроника_Автоэлектроника&и&навигация_Краски&и&грунтовки',\n",
       " 'Электроника_Автоэлектроника&и&навигация_Аксессуары&в&салон&и&багажник',\n",
       " 'Электроника_Автоэлектроника&и&навигация_Другие&аксессуары&и&доп.&оборудование',\n",
       " 'Электроника_Гарнитуры&и&наушники_Чехлы',\n",
       " 'Электроника_Смартфоны&и&телефоны_Чехлы',\n",
       " 'Мебель_Мебель&для&спальни_Матрасы',\n",
       " 'Автотовары_Запчасти&на&легковые&автомобили_Ходовая&часть')"
      ]
     },
     "execution_count": 12,
     "metadata": {},
     "output_type": "execute_result"
    }
   ],
   "source": [
    "# не смогла спарситься из за 4ой вложенности категорий\n",
    "folders_name[324], folders_name[327], folders_name[328], folders_name[343], folders_name[350], folders_name[358],\\\n",
    "folders_name[377], folders_name[514], folders_name[515], folders_name[662], folders_name[776], folders_name[948]"
   ]
  },
  {
   "cell_type": "markdown",
   "id": "5a1c51df",
   "metadata": {},
   "source": [
    "повтор категорий\n",
    "от sim-karty до flash-nakopiteli (от 647 до 664)\n",
    "\n",
    "Пропало описание с \"Женщинам_Подарки&женщинам_Открытки&и&сувениры\" включительно [111]\n",
    "\n",
    "Начало описания с \"Автотовары_Автокосметика&и&автохимия_Прочее&автохимия\" [971]"
   ]
  },
  {
   "cell_type": "code",
   "execution_count": null,
   "id": "2421f116",
   "metadata": {},
   "outputs": [],
   "source": [
    "parsing_items_wb(urls=categories.url[:],\n",
    "                 folders_name=folders_name,\n",
    "                 root_dir=root_dir,\n",
    "                 start_category=0,\n",
    "                 start_item=0)"
   ]
  },
  {
   "cell_type": "markdown",
   "id": "c99c498e",
   "metadata": {},
   "source": [
    "____"
   ]
  },
  {
   "cell_type": "code",
   "execution_count": 4,
   "id": "c5cf1d75",
   "metadata": {},
   "outputs": [
    {
     "data": {
      "text/html": [
       "<div>\n",
       "<style scoped>\n",
       "    .dataframe tbody tr th:only-of-type {\n",
       "        vertical-align: middle;\n",
       "    }\n",
       "\n",
       "    .dataframe tbody tr th {\n",
       "        vertical-align: top;\n",
       "    }\n",
       "\n",
       "    .dataframe thead th {\n",
       "        text-align: right;\n",
       "    }\n",
       "</style>\n",
       "<table border=\"1\" class=\"dataframe\">\n",
       "  <thead>\n",
       "    <tr style=\"text-align: right;\">\n",
       "      <th></th>\n",
       "      <th>category_1</th>\n",
       "      <th>category_2</th>\n",
       "      <th>category_3</th>\n",
       "      <th>category_4</th>\n",
       "      <th>url</th>\n",
       "    </tr>\n",
       "  </thead>\n",
       "  <tbody>\n",
       "    <tr>\n",
       "      <th>0</th>\n",
       "      <td>Дом</td>\n",
       "      <td>Кухня</td>\n",
       "      <td>Кружки</td>\n",
       "      <td>Для глинтвейна</td>\n",
       "      <td>https://www.wildberries.ru/catalog/kuhnya/posu...</td>\n",
       "    </tr>\n",
       "    <tr>\n",
       "      <th>1</th>\n",
       "      <td>Дом</td>\n",
       "      <td>Кухня</td>\n",
       "      <td>Кружки</td>\n",
       "      <td>Для детей</td>\n",
       "      <td>https://www.wildberries.ru/catalog/kuhnya/posu...</td>\n",
       "    </tr>\n",
       "    <tr>\n",
       "      <th>2</th>\n",
       "      <td>Дом</td>\n",
       "      <td>Кухня</td>\n",
       "      <td>Кружки</td>\n",
       "      <td>Для кофе</td>\n",
       "      <td>https://www.wildberries.ru/catalog/kuhnya/posu...</td>\n",
       "    </tr>\n",
       "    <tr>\n",
       "      <th>3</th>\n",
       "      <td>Дом</td>\n",
       "      <td>Кухня</td>\n",
       "      <td>Кружки</td>\n",
       "      <td>Для чая</td>\n",
       "      <td>https://www.wildberries.ru/catalog/kuhnya/posu...</td>\n",
       "    </tr>\n",
       "    <tr>\n",
       "      <th>4</th>\n",
       "      <td>Дом</td>\n",
       "      <td>Кухня</td>\n",
       "      <td>Кружки</td>\n",
       "      <td>Заварочные</td>\n",
       "      <td>https://www.wildberries.ru/catalog/kuhnya/posu...</td>\n",
       "    </tr>\n",
       "    <tr>\n",
       "      <th>...</th>\n",
       "      <td>...</td>\n",
       "      <td>...</td>\n",
       "      <td>...</td>\n",
       "      <td>...</td>\n",
       "      <td>...</td>\n",
       "    </tr>\n",
       "    <tr>\n",
       "      <th>145</th>\n",
       "      <td>Автотовары</td>\n",
       "      <td>Запчасти на легковые автомобили</td>\n",
       "      <td>Ходовая часть</td>\n",
       "      <td>Амортизаторы и комплектующие</td>\n",
       "      <td>https://www.wildberries.ru/catalog/avtotovary/...</td>\n",
       "    </tr>\n",
       "    <tr>\n",
       "      <th>146</th>\n",
       "      <td>Автотовары</td>\n",
       "      <td>Запчасти на легковые автомобили</td>\n",
       "      <td>Ходовая часть</td>\n",
       "      <td>Рычаги подвески</td>\n",
       "      <td>https://www.wildberries.ru/catalog/avtotovary/...</td>\n",
       "    </tr>\n",
       "    <tr>\n",
       "      <th>147</th>\n",
       "      <td>Автотовары</td>\n",
       "      <td>Запчасти на легковые автомобили</td>\n",
       "      <td>Ходовая часть</td>\n",
       "      <td>Ступицы и подшипники</td>\n",
       "      <td>https://www.wildberries.ru/catalog/avtotovary/...</td>\n",
       "    </tr>\n",
       "    <tr>\n",
       "      <th>148</th>\n",
       "      <td>Автотовары</td>\n",
       "      <td>Запчасти на легковые автомобили</td>\n",
       "      <td>Ходовая часть</td>\n",
       "      <td>Стабилизаторы и комплектующие</td>\n",
       "      <td>https://www.wildberries.ru/catalog/avtotovary/...</td>\n",
       "    </tr>\n",
       "    <tr>\n",
       "      <th>149</th>\n",
       "      <td>Автотовары</td>\n",
       "      <td>Запчасти на легковые автомобили</td>\n",
       "      <td>Ходовая часть</td>\n",
       "      <td>Прочие компоненты подвески</td>\n",
       "      <td>https://www.wildberries.ru/catalog/avtotovary/...</td>\n",
       "    </tr>\n",
       "  </tbody>\n",
       "</table>\n",
       "<p>150 rows × 5 columns</p>\n",
       "</div>"
      ],
      "text/plain": [
       "     category_1                       category_2     category_3  \\\n",
       "0           Дом                            Кухня         Кружки   \n",
       "1           Дом                            Кухня         Кружки   \n",
       "2           Дом                            Кухня         Кружки   \n",
       "3           Дом                            Кухня         Кружки   \n",
       "4           Дом                            Кухня         Кружки   \n",
       "..          ...                              ...            ...   \n",
       "145  Автотовары  Запчасти на легковые автомобили  Ходовая часть   \n",
       "146  Автотовары  Запчасти на легковые автомобили  Ходовая часть   \n",
       "147  Автотовары  Запчасти на легковые автомобили  Ходовая часть   \n",
       "148  Автотовары  Запчасти на легковые автомобили  Ходовая часть   \n",
       "149  Автотовары  Запчасти на легковые автомобили  Ходовая часть   \n",
       "\n",
       "                        category_4  \\\n",
       "0                   Для глинтвейна   \n",
       "1                        Для детей   \n",
       "2                         Для кофе   \n",
       "3                          Для чая   \n",
       "4                       Заварочные   \n",
       "..                             ...   \n",
       "145   Амортизаторы и комплектующие   \n",
       "146                Рычаги подвески   \n",
       "147           Ступицы и подшипники   \n",
       "148  Стабилизаторы и комплектующие   \n",
       "149     Прочие компоненты подвески   \n",
       "\n",
       "                                                   url  \n",
       "0    https://www.wildberries.ru/catalog/kuhnya/posu...  \n",
       "1    https://www.wildberries.ru/catalog/kuhnya/posu...  \n",
       "2    https://www.wildberries.ru/catalog/kuhnya/posu...  \n",
       "3    https://www.wildberries.ru/catalog/kuhnya/posu...  \n",
       "4    https://www.wildberries.ru/catalog/kuhnya/posu...  \n",
       "..                                                 ...  \n",
       "145  https://www.wildberries.ru/catalog/avtotovary/...  \n",
       "146  https://www.wildberries.ru/catalog/avtotovary/...  \n",
       "147  https://www.wildberries.ru/catalog/avtotovary/...  \n",
       "148  https://www.wildberries.ru/catalog/avtotovary/...  \n",
       "149  https://www.wildberries.ru/catalog/avtotovary/...  \n",
       "\n",
       "[150 rows x 5 columns]"
      ]
     },
     "execution_count": 4,
     "metadata": {},
     "output_type": "execute_result"
    }
   ],
   "source": [
    "categories_4 = pd.read_csv(\"wb_categories_4.csv\")\n",
    "categories_4"
   ]
  },
  {
   "cell_type": "code",
   "execution_count": 5,
   "id": "bcfc3eb1",
   "metadata": {},
   "outputs": [],
   "source": [
    "folders_name = []\n",
    "\n",
    "for i in range(len(categories_4)):\n",
    "    cat = list(categories_4.iloc[i][:4])\n",
    "    folder = \"_\".join([\"&\".join(i.split()) for i in cat])\n",
    "    folders_name.append(folder.replace(\":\", \"\"))"
   ]
  },
  {
   "cell_type": "code",
   "execution_count": 7,
   "id": "b0f9bd2a",
   "metadata": {},
   "outputs": [],
   "source": [
    "root_dir = Path(\"E:/!sofi/Datasets/datasets/hse-mlds-project-year2/data_4\")"
   ]
  },
  {
   "cell_type": "code",
   "execution_count": 18,
   "id": "a73ab2e0",
   "metadata": {},
   "outputs": [
    {
     "data": {
      "text/plain": [
       "'Дом_Спальня_Постельные&принадлежности_Матрасы'"
      ]
     },
     "execution_count": 18,
     "metadata": {},
     "output_type": "execute_result"
    }
   ],
   "source": [
    "# не смогло спарситься из-за другой структуры (мб баг)\n",
    "folders_name[64]"
   ]
  },
  {
   "cell_type": "code",
   "execution_count": 19,
   "id": "6c8e3b7f",
   "metadata": {},
   "outputs": [
    {
     "data": {
      "text/plain": [
       "('Дом_Предметы&интерьера_Картины&и&постеры_Картины',\n",
       " 'Дом_Предметы&интерьера_Картины&и&постеры_Постеры',\n",
       " 'Дом_Досуг&и&творчество_Творчество&и&рукоделие_Аксессуары&и&материалы&для&рукоделия',\n",
       " 'Электроника_Смартфоны&и&телефоны_Чехлы_Чехлы&для&телефонов&Apple',\n",
       " 'Электроника_Смартфоны&и&телефоны_Чехлы_Чехлы&для&телефонов&Xiaomi',\n",
       " 'Электроника_Смартфоны&и&телефоны_Чехлы_Чехлы&для&телефонов&Samsung')"
      ]
     },
     "execution_count": 19,
     "metadata": {},
     "output_type": "execute_result"
    }
   ],
   "source": [
    "# не смогла спарситься из за 5ой вложенности категорий\n",
    "folders_name[49], folders_name[53], folders_name[76], folders_name[127], folders_name[128], folders_name[129]"
   ]
  },
  {
   "cell_type": "code",
   "execution_count": null,
   "id": "4502c5bd",
   "metadata": {},
   "outputs": [],
   "source": [
    "parsing_items_wb(urls=categories_4.url[:],\n",
    "                 folders_name=folders_name,\n",
    "                 root_dir=root_dir,\n",
    "                 start_category=0,\n",
    "                 start_item=0)"
   ]
  },
  {
   "cell_type": "markdown",
   "id": "c33ca57e",
   "metadata": {},
   "source": [
    "___"
   ]
  },
  {
   "cell_type": "code",
   "execution_count": 4,
   "id": "9eeb3d48",
   "metadata": {},
   "outputs": [
    {
     "data": {
      "text/html": [
       "<div>\n",
       "<style scoped>\n",
       "    .dataframe tbody tr th:only-of-type {\n",
       "        vertical-align: middle;\n",
       "    }\n",
       "\n",
       "    .dataframe tbody tr th {\n",
       "        vertical-align: top;\n",
       "    }\n",
       "\n",
       "    .dataframe thead th {\n",
       "        text-align: right;\n",
       "    }\n",
       "</style>\n",
       "<table border=\"1\" class=\"dataframe\">\n",
       "  <thead>\n",
       "    <tr style=\"text-align: right;\">\n",
       "      <th></th>\n",
       "      <th>category_1</th>\n",
       "      <th>category_2</th>\n",
       "      <th>category_3</th>\n",
       "      <th>category_4</th>\n",
       "      <th>category_5</th>\n",
       "      <th>url</th>\n",
       "    </tr>\n",
       "  </thead>\n",
       "  <tbody>\n",
       "    <tr>\n",
       "      <th>0</th>\n",
       "      <td>Дом</td>\n",
       "      <td>Предметы интерьера</td>\n",
       "      <td>Картины и постеры</td>\n",
       "      <td>Картины</td>\n",
       "      <td>Арт и абстракция</td>\n",
       "      <td>https://www.wildberries.ru/catalog/dlya-doma/p...</td>\n",
       "    </tr>\n",
       "    <tr>\n",
       "      <th>1</th>\n",
       "      <td>Дом</td>\n",
       "      <td>Предметы интерьера</td>\n",
       "      <td>Картины и постеры</td>\n",
       "      <td>Картины</td>\n",
       "      <td>Архитектура</td>\n",
       "      <td>https://www.wildberries.ru/catalog/dlya-doma/p...</td>\n",
       "    </tr>\n",
       "    <tr>\n",
       "      <th>2</th>\n",
       "      <td>Дом</td>\n",
       "      <td>Предметы интерьера</td>\n",
       "      <td>Картины и постеры</td>\n",
       "      <td>Картины</td>\n",
       "      <td>Аниме</td>\n",
       "      <td>https://www.wildberries.ru/catalog/dlya-doma/p...</td>\n",
       "    </tr>\n",
       "    <tr>\n",
       "      <th>3</th>\n",
       "      <td>Дом</td>\n",
       "      <td>Предметы интерьера</td>\n",
       "      <td>Картины и постеры</td>\n",
       "      <td>Картины</td>\n",
       "      <td>Города и страны</td>\n",
       "      <td>https://www.wildberries.ru/catalog/dlya-doma/p...</td>\n",
       "    </tr>\n",
       "    <tr>\n",
       "      <th>4</th>\n",
       "      <td>Дом</td>\n",
       "      <td>Предметы интерьера</td>\n",
       "      <td>Картины и постеры</td>\n",
       "      <td>Картины</td>\n",
       "      <td>Детские</td>\n",
       "      <td>https://www.wildberries.ru/catalog/dlya-doma/p...</td>\n",
       "    </tr>\n",
       "    <tr>\n",
       "      <th>...</th>\n",
       "      <td>...</td>\n",
       "      <td>...</td>\n",
       "      <td>...</td>\n",
       "      <td>...</td>\n",
       "      <td>...</td>\n",
       "      <td>...</td>\n",
       "    </tr>\n",
       "    <tr>\n",
       "      <th>92</th>\n",
       "      <td>Электроника</td>\n",
       "      <td>Смартфоны и телефоны</td>\n",
       "      <td>Чехлы</td>\n",
       "      <td>Чехлы для телефонов Samsung</td>\n",
       "      <td>Серия Galaxy Ax4</td>\n",
       "      <td>https://www.wildberries.ru/catalog/elektronika...</td>\n",
       "    </tr>\n",
       "    <tr>\n",
       "      <th>93</th>\n",
       "      <td>Электроника</td>\n",
       "      <td>Смартфоны и телефоны</td>\n",
       "      <td>Чехлы</td>\n",
       "      <td>Чехлы для телефонов Samsung</td>\n",
       "      <td>Серия Galaxy S</td>\n",
       "      <td>https://www.wildberries.ru/catalog/elektronika...</td>\n",
       "    </tr>\n",
       "    <tr>\n",
       "      <th>94</th>\n",
       "      <td>Электроника</td>\n",
       "      <td>Смартфоны и телефоны</td>\n",
       "      <td>Чехлы</td>\n",
       "      <td>Чехлы для телефонов Samsung</td>\n",
       "      <td>Серия Galaxy Z Flip</td>\n",
       "      <td>https://www.wildberries.ru/catalog/elektronika...</td>\n",
       "    </tr>\n",
       "    <tr>\n",
       "      <th>95</th>\n",
       "      <td>Электроника</td>\n",
       "      <td>Смартфоны и телефоны</td>\n",
       "      <td>Чехлы</td>\n",
       "      <td>Чехлы для телефонов Samsung</td>\n",
       "      <td>Серия Galaxy Z Fold</td>\n",
       "      <td>https://www.wildberries.ru/catalog/elektronika...</td>\n",
       "    </tr>\n",
       "    <tr>\n",
       "      <th>96</th>\n",
       "      <td>Электроника</td>\n",
       "      <td>Смартфоны и телефоны</td>\n",
       "      <td>Чехлы</td>\n",
       "      <td>Чехлы для телефонов Samsung</td>\n",
       "      <td>Прочие</td>\n",
       "      <td>https://www.wildberries.ru/catalog/elektronika...</td>\n",
       "    </tr>\n",
       "  </tbody>\n",
       "</table>\n",
       "<p>97 rows × 6 columns</p>\n",
       "</div>"
      ],
      "text/plain": [
       "     category_1            category_2         category_3  \\\n",
       "0           Дом    Предметы интерьера  Картины и постеры   \n",
       "1           Дом    Предметы интерьера  Картины и постеры   \n",
       "2           Дом    Предметы интерьера  Картины и постеры   \n",
       "3           Дом    Предметы интерьера  Картины и постеры   \n",
       "4           Дом    Предметы интерьера  Картины и постеры   \n",
       "..          ...                   ...                ...   \n",
       "92  Электроника  Смартфоны и телефоны              Чехлы   \n",
       "93  Электроника  Смартфоны и телефоны              Чехлы   \n",
       "94  Электроника  Смартфоны и телефоны              Чехлы   \n",
       "95  Электроника  Смартфоны и телефоны              Чехлы   \n",
       "96  Электроника  Смартфоны и телефоны              Чехлы   \n",
       "\n",
       "                     category_4           category_5  \\\n",
       "0                       Картины     Арт и абстракция   \n",
       "1                       Картины          Архитектура   \n",
       "2                       Картины                Аниме   \n",
       "3                       Картины      Города и страны   \n",
       "4                       Картины              Детские   \n",
       "..                          ...                  ...   \n",
       "92  Чехлы для телефонов Samsung     Серия Galaxy Ax4   \n",
       "93  Чехлы для телефонов Samsung       Серия Galaxy S   \n",
       "94  Чехлы для телефонов Samsung  Серия Galaxy Z Flip   \n",
       "95  Чехлы для телефонов Samsung  Серия Galaxy Z Fold   \n",
       "96  Чехлы для телефонов Samsung               Прочие   \n",
       "\n",
       "                                                  url  \n",
       "0   https://www.wildberries.ru/catalog/dlya-doma/p...  \n",
       "1   https://www.wildberries.ru/catalog/dlya-doma/p...  \n",
       "2   https://www.wildberries.ru/catalog/dlya-doma/p...  \n",
       "3   https://www.wildberries.ru/catalog/dlya-doma/p...  \n",
       "4   https://www.wildberries.ru/catalog/dlya-doma/p...  \n",
       "..                                                ...  \n",
       "92  https://www.wildberries.ru/catalog/elektronika...  \n",
       "93  https://www.wildberries.ru/catalog/elektronika...  \n",
       "94  https://www.wildberries.ru/catalog/elektronika...  \n",
       "95  https://www.wildberries.ru/catalog/elektronika...  \n",
       "96  https://www.wildberries.ru/catalog/elektronika...  \n",
       "\n",
       "[97 rows x 6 columns]"
      ]
     },
     "execution_count": 4,
     "metadata": {},
     "output_type": "execute_result"
    }
   ],
   "source": [
    "categories_5 = pd.read_csv(\"wb_categories_5.csv\")\n",
    "categories_5"
   ]
  },
  {
   "cell_type": "code",
   "execution_count": 5,
   "id": "417932ea",
   "metadata": {},
   "outputs": [],
   "source": [
    "folders_name = []\n",
    "\n",
    "for i in range(len(categories_5)):\n",
    "    cat = list(categories_5.iloc[i][:5])\n",
    "    folder = \"_\".join([\"&\".join(i.split()) for i in cat])\n",
    "    folders_name.append(folder.replace(\":\", \"\"))"
   ]
  },
  {
   "cell_type": "code",
   "execution_count": 7,
   "id": "ece3a1bf",
   "metadata": {},
   "outputs": [],
   "source": [
    "root_dir = Path(\"E:/!sofi/Datasets/datasets/hse-mlds-project-year2/data_5\")"
   ]
  },
  {
   "cell_type": "code",
   "execution_count": null,
   "id": "70a05709",
   "metadata": {},
   "outputs": [],
   "source": [
    "parsing_items_wb(urls=categories_5.url[:],\n",
    "                 folders_name=folders_name,\n",
    "                 root_dir=root_dir,\n",
    "                 start_category=0,\n",
    "                 start_item=0)"
   ]
  },
  {
   "cell_type": "markdown",
   "id": "50b30ef9",
   "metadata": {},
   "source": [
    "___"
   ]
  },
  {
   "cell_type": "markdown",
   "id": "3146c87b",
   "metadata": {},
   "source": [
    "# Тестирование"
   ]
  },
  {
   "cell_type": "code",
   "execution_count": 38,
   "id": "b5db6d06",
   "metadata": {},
   "outputs": [],
   "source": [
    "url = 'https://www.wildberries.ru/catalog/74299675/detail.aspx'\n",
    "url = 'https://www.wildberries.ru/catalog/149410773/detail.aspx'\n",
    "\n",
    "br = webdriver.Chrome()\n",
    "br.get(url)\n",
    "time.sleep(5)\n",
    "br.execute_script(\"window.scrollTo(0, 1200)\")\n",
    "time.sleep(5)\n",
    "page_add = br.page_source\n",
    "tree = BeautifulSoup(page_add, 'html')\n",
    "\n",
    "br.close()"
   ]
  },
  {
   "cell_type": "code",
   "execution_count": 13,
   "id": "c79485d0",
   "metadata": {},
   "outputs": [],
   "source": [
    "#tree"
   ]
  },
  {
   "cell_type": "code",
   "execution_count": 10,
   "id": "d715d5db",
   "metadata": {
    "scrolled": false
   },
   "outputs": [
    {
     "data": {
      "text/plain": [
       "'https://basket-10.wbbasket.ru/vol1494/part149410/149410773/images/big/1.webp'"
      ]
     },
     "execution_count": 10,
     "metadata": {},
     "output_type": "execute_result"
    }
   ],
   "source": [
    "data = tree.find_all('div', {'class': 'slide__content img-plug'})\n",
    "data[0].img['src']"
   ]
  },
  {
   "cell_type": "code",
   "execution_count": 41,
   "id": "7e1bb626",
   "metadata": {},
   "outputs": [
    {
     "data": {
      "text/plain": [
       "'https://feedback05.wbbasket.ru/vol1744/part174414/174414618/photos/ms.webp'"
      ]
     },
     "execution_count": 41,
     "metadata": {},
     "output_type": "execute_result"
    }
   ],
   "source": [
    "data = tree.find_all('div', {'class': 'user-photos__item img-plug j-user-photos__item'})\n",
    "data[0].img['src']"
   ]
  },
  {
   "cell_type": "markdown",
   "id": "f977bc9f",
   "metadata": {},
   "source": [
    "___"
   ]
  },
  {
   "cell_type": "code",
   "execution_count": 26,
   "id": "2dfff1ac",
   "metadata": {},
   "outputs": [],
   "source": [
    "url = 'https://www.wildberries.ru/catalog/zhenshchinam/odezhda/bluzki-i-rubashki'\n",
    "\n",
    "br = webdriver.Chrome()\n",
    "br.get(url)\n",
    "time.sleep(5)\n",
    "page_add = br.page_source\n",
    "tree = BeautifulSoup(page_add, 'html')\n",
    "\n",
    "br.close()"
   ]
  },
  {
   "cell_type": "code",
   "execution_count": 33,
   "id": "cadba920",
   "metadata": {
    "scrolled": true
   },
   "outputs": [
    {
     "name": "stdout",
     "output_type": "stream",
     "text": [
      "30\n"
     ]
    },
    {
     "data": {
      "text/plain": [
       "'https://www.wildberries.ru/catalog/160832044/detail.aspx'"
      ]
     },
     "execution_count": 33,
     "metadata": {},
     "output_type": "execute_result"
    }
   ],
   "source": [
    "data = tree.find_all('a', {'class': 'product-card__link j-card-link j-open-full-product-card'})\n",
    "print(len(data))\n",
    "data[0]['href']"
   ]
  },
  {
   "cell_type": "code",
   "execution_count": 39,
   "id": "b51fbde0",
   "metadata": {},
   "outputs": [],
   "source": [
    "items = tree.find_all('a', {'class': 'product-card__link j-card-link j-open-full-product-card'})\n",
    "items_href = [items[i]['href'] for i in range(len(items))][:15]"
   ]
  },
  {
   "cell_type": "markdown",
   "id": "7c5eff21",
   "metadata": {},
   "source": [
    "___"
   ]
  },
  {
   "cell_type": "code",
   "execution_count": 17,
   "id": "63310562",
   "metadata": {},
   "outputs": [
    {
     "data": {
      "text/html": [
       "<div>\n",
       "<style scoped>\n",
       "    .dataframe tbody tr th:only-of-type {\n",
       "        vertical-align: middle;\n",
       "    }\n",
       "\n",
       "    .dataframe tbody tr th {\n",
       "        vertical-align: top;\n",
       "    }\n",
       "\n",
       "    .dataframe thead th {\n",
       "        text-align: right;\n",
       "    }\n",
       "</style>\n",
       "<table border=\"1\" class=\"dataframe\">\n",
       "  <thead>\n",
       "    <tr style=\"text-align: right;\">\n",
       "      <th></th>\n",
       "      <th>category_1</th>\n",
       "      <th>category_2</th>\n",
       "      <th>category_3</th>\n",
       "      <th>url</th>\n",
       "    </tr>\n",
       "  </thead>\n",
       "  <tbody>\n",
       "    <tr>\n",
       "      <th>0</th>\n",
       "      <td>Женщинам</td>\n",
       "      <td>Блузки и рубашки</td>\n",
       "      <td>NaN</td>\n",
       "      <td>https://www.wildberries.ru/catalog/zhenshchina...</td>\n",
       "    </tr>\n",
       "    <tr>\n",
       "      <th>1</th>\n",
       "      <td>Женщинам</td>\n",
       "      <td>Брюки</td>\n",
       "      <td>NaN</td>\n",
       "      <td>https://www.wildberries.ru/catalog/zhenshchina...</td>\n",
       "    </tr>\n",
       "  </tbody>\n",
       "</table>\n",
       "</div>"
      ],
      "text/plain": [
       "  category_1        category_2 category_3  \\\n",
       "0   Женщинам  Блузки и рубашки        NaN   \n",
       "1   Женщинам             Брюки        NaN   \n",
       "\n",
       "                                                 url  \n",
       "0  https://www.wildberries.ru/catalog/zhenshchina...  \n",
       "1  https://www.wildberries.ru/catalog/zhenshchina...  "
      ]
     },
     "execution_count": 17,
     "metadata": {},
     "output_type": "execute_result"
    }
   ],
   "source": [
    "categories = pd.read_csv(\"wb_categories.csv\")\n",
    "categories = categories[:2]\n",
    "categories"
   ]
  },
  {
   "cell_type": "code",
   "execution_count": 24,
   "id": "5cc2de6d",
   "metadata": {},
   "outputs": [
    {
     "data": {
      "text/plain": [
       "'bluzki-i-rubashki'"
      ]
     },
     "execution_count": 24,
     "metadata": {},
     "output_type": "execute_result"
    }
   ],
   "source": [
    "Path(categories.iloc[0].url).name"
   ]
  },
  {
   "cell_type": "code",
   "execution_count": 25,
   "id": "863238fb",
   "metadata": {},
   "outputs": [
    {
     "data": {
      "text/plain": [
       "0    https://www.wildberries.ru/catalog/zhenshchina...\n",
       "1    https://www.wildberries.ru/catalog/zhenshchina...\n",
       "Name: url, dtype: object"
      ]
     },
     "execution_count": 25,
     "metadata": {},
     "output_type": "execute_result"
    }
   ],
   "source": [
    "categories[\"url\"]"
   ]
  },
  {
   "cell_type": "markdown",
   "id": "cd9ea69f",
   "metadata": {},
   "source": [
    "___"
   ]
  },
  {
   "cell_type": "code",
   "execution_count": 10,
   "id": "b9d20421",
   "metadata": {},
   "outputs": [],
   "source": [
    "# # скачивание картинки\n",
    "# img = \"https://basket-05.wbbasket.ru/vol742/part74299/74299675/images/c246x328/1.webp\"\n",
    "\n",
    "# p = requests.get(img)\n",
    "\n",
    "# with open(\"data/img1.png\", \"wb\") as out:\n",
    "#     out.write(p.content)"
   ]
  },
  {
   "cell_type": "code",
   "execution_count": null,
   "id": "7a96e260",
   "metadata": {},
   "outputs": [],
   "source": [
    "data_dir = Path(\"E:/!sofi/Datasets/datasets/hse-mlds-project-year2/data\")"
   ]
  },
  {
   "cell_type": "markdown",
   "id": "755b52b0",
   "metadata": {},
   "source": [
    "____"
   ]
  },
  {
   "cell_type": "code",
   "execution_count": 12,
   "id": "3ec2aa52",
   "metadata": {},
   "outputs": [],
   "source": [
    "url = 'https://www.wildberries.ru/catalog/118183375/detail.aspx'\n",
    "\n",
    "br = webdriver.Chrome()\n",
    "br.get(url)\n",
    "time.sleep(5)\n",
    "br.execute_script(\"window.scrollTo(0, 1280)\")\n",
    "time.sleep(5)\n",
    "submit = br.find_element(By.XPATH, '/html/body/div[1]/main/div[2]/div/div[3]/div/div[3]/div[7]/button')\n",
    "submit.click()\n",
    "time.sleep(2)\n",
    "page_add = br.page_source\n",
    "tree = BeautifulSoup(page_add, 'html')\n",
    "\n",
    "br.close()"
   ]
  },
  {
   "cell_type": "code",
   "execution_count": 13,
   "id": "1debc677",
   "metadata": {},
   "outputs": [],
   "source": [
    "# submit = br.find_element(By.XPATH, '/html/body/div[1]/main/div[2]/div/div[3]/div/div[3]/div[7]/button')\n",
    "# submit"
   ]
  },
  {
   "cell_type": "code",
   "execution_count": 19,
   "id": "d7acb104",
   "metadata": {},
   "outputs": [],
   "source": [
    "# submit.click()"
   ]
  },
  {
   "cell_type": "code",
   "execution_count": 20,
   "id": "837de577",
   "metadata": {},
   "outputs": [],
   "source": [
    "# page_add = br.page_source\n",
    "# tree = BeautifulSoup(page_add, 'html')"
   ]
  },
  {
   "cell_type": "code",
   "execution_count": 13,
   "id": "052f6188",
   "metadata": {},
   "outputs": [
    {
     "data": {
      "text/plain": [
       "'Красота, изящество, стиль и удобство\\nКачественный пошив.Российское производство.\\nЭлегантный вырез.Бесшовный материал.\\n3-х ступенчатая застежка.\\nДелает талию изящной.\\n\\nСтильное боди из коллекции российского бренда Delicieuse - элегантная и эффектная модель для модного женственного образа.\\nБоди для танцев отличает длинный рукав, округлый вырез горловины, соблазнительно привлекающий внимание к области декольте сексуальный вырез на груди.\\nВысокая посадка и открытый фасон подчеркивают изгиб бедер и делают талию изящной, эффектно выглядят в сочетании с джинсами, брюками или юбками с низкой посадкой.\\n\\nУ изделия трехступенчатая застежка - удлинитель с прочными крючками для удобства ношения, застегивания и расстегивания при надевании и снятии. \\n\\nБесшовную молодежную модель «в обтяжку» отличает качественный пошив и контроль всех этапов производства, материал премиум качества.\\n\\nМягко обтягивающее боди в лаконичном декоре дополнит гардероб взрослых женщин и девушек - подростков, подойдет для представительниц прекрасной половины человечества с любым типом фигуры и высоким ростом.\\n\\nСтильная блузка с закрытым верхом, но эротичной прорезью - разрезом спереди представлена в двух цветах: лаконичном черном и телесном (бежевом), доступна в размерах от 40-42 до 48-50.\\n\\n Трендовая кофточка в облегающем фасоне и элегантном крое станет эффектным элементом нарядного образа для праздничного мероприятия, дополнит повседневный офисный лук, наряд для вечеринки с подружками или корпоратива на работе, для эротической фотосессии.Также он прекрасно подходит как одежда для фигурного катания, танцев, хореографии.\\n\\nУдобный лонгслив с регулируемой застежкой - эстетичная и эффектная часть наряда для работы в офисе или учебы в колледже, для вечерних или праздничных мероприятий.\\n\\nКрасивое боди в стиле городской классики (кэжуал) - необычный, но милый презент для жены - красотки или любимой девушки на любой праздник.'"
      ]
     },
     "execution_count": 13,
     "metadata": {},
     "output_type": "execute_result"
    }
   ],
   "source": [
    "data = tree.find_all('p', {'class': 'option__text'})\n",
    "data[0].text"
   ]
  },
  {
   "cell_type": "markdown",
   "id": "da3140cb",
   "metadata": {},
   "source": [
    "___"
   ]
  },
  {
   "cell_type": "code",
   "execution_count": 17,
   "id": "fbd85cdd",
   "metadata": {},
   "outputs": [],
   "source": [
    "url = 'https://www.wildberries.ru/catalog/146854891/detail.aspx'\n",
    "url = 'https://www.wildberries.ru/catalog/118183375/detail.aspx'\n",
    "\n",
    "br = webdriver.Chrome()\n",
    "br.set_window_size(1920, 1080)\n",
    "br.get(url)\n",
    "#br.fullscreen_window()\n",
    "time.sleep(5)\n",
    "br.execute_script(\"window.scrollTo(0, 1280)\")\n",
    "time.sleep(5)\n",
    "page_add = br.page_source\n",
    "tree = BeautifulSoup(page_add, 'html')\n",
    "try:\n",
    "    submit = br.find_element(By.XPATH, '/html/body/div[1]/main/div[2]/div/div[3]/div/div[3]/div[7]/button')\n",
    "except:\n",
    "    submit = br.find_element(By.XPATH, '/html/body/div[1]/div/div/button[1]')\n",
    "    submit.click()\n",
    "    submit = br.find_element(By.XPATH, '/html/body/div[1]/main/div[2]/div/div[3]/div/div[3]/div[7]/button')\n",
    "submit.click()\n",
    "time.sleep(2)\n",
    "page_add = br.page_source\n",
    "tree = BeautifulSoup(page_add, 'html')\n",
    "\n",
    "br.close()"
   ]
  },
  {
   "cell_type": "code",
   "execution_count": 22,
   "id": "3ae80928",
   "metadata": {},
   "outputs": [
    {
     "data": {
      "text/plain": [
       "'Подарочная открытка или купон на желание отличный парный подарок для двоих влюбленных. Сертификат поздравление внесет разнообразие в жизнь партнеров. Абонемент можно использовать, как сувенир, дополнение к основному подарку для пар, на свадьбу молодоженам или годовщину, юбилей свадьбы любимому мужчине или женщине. Романтический сертификат в качестве мужского подарка подарит незабываемые эмоции парню или другу на день рождения, 14 февраля или 23 февраля. Подарите смешную прикол открытку в качестве валентинки на день всех влюбленных мужу или жене, как проявление любви. Абонемент креативный и необычный подарок признание на др, 8 марта, нг, новый год. Удивите подругу, девушку мини записками из серии про love. Купон с сердечками со стирающимся скретч слоем можно использовать как оригинальный сюрприз для него и для нее на новогодний праздник или на год отношений. Сертификат упакован в непрозрачный плотный картонный конверт, обеспечивая сохранность при транспортировке и конфиденциальность содержимого, при получении никто не увидит дизайн открытки. Крафт конверт в комплекте.'"
      ]
     },
     "execution_count": 22,
     "metadata": {},
     "output_type": "execute_result"
    }
   ],
   "source": [
    "data = tree.find_all('p', {'class': 'option__text'})\n",
    "data[0].text"
   ]
  },
  {
   "cell_type": "markdown",
   "id": "91888f3c",
   "metadata": {},
   "source": [
    "___"
   ]
  },
  {
   "cell_type": "code",
   "execution_count": 14,
   "id": "4dcb58ac",
   "metadata": {},
   "outputs": [],
   "source": [
    "url = 'https://www.wildberries.ru/catalog/17765673/detail.aspx'\n",
    "\n",
    "image_card, image_feedbacks, description = get_info_for_card(url)"
   ]
  },
  {
   "cell_type": "code",
   "execution_count": 101,
   "id": "19da89a4",
   "metadata": {},
   "outputs": [],
   "source": [
    "        url = 'https://www.wildberries.ru/catalog/118183375/detail.aspx'\n",
    "        br = webdriver.Chrome()\n",
    "#         br.set_window_size(1280, 1800)\n",
    "        br.get(url)\n",
    "        time.sleep(5)\n",
    "        br.execute_script(\"window.scrollTo(0, 1280)\")    # пролистываем страницу, чтобы вся необходимая информация прогрузилась (подгрузка идет динамически)\n",
    "        time.sleep(5)\n",
    "#         br.execute_script(\"window.scrollTo(0, 1920)\")    # пролистываем страницу, чтобы вся необходимая информация прогрузилась (подгрузка идет динамически)\n",
    "#         time.sleep(5)\n",
    "        page_add = br.page_source\n",
    "        tree = BeautifulSoup(page_add, 'html')\n",
    "        \n",
    "        # сбор описания\n",
    "        try:\n",
    "            submit = br.find_element(By.XPATH, '/html/body/div[1]/main/div[2]/div/div[3]/div/div[3]/div[7]/button')\n",
    "#             submit.location_once_scrolled_into_view\n",
    "#             br.execute_script('arguments[0].scrollIntoView()', submit)\n",
    "#             time.sleep(5)\n",
    "        except:\n",
    "            submit = br.find_element(By.XPATH, '/html/body/div[1]/div/div/button[1]')  # если выскочила плашка 18+\n",
    "            submit.click()\n",
    "            time.sleep(3)\n",
    "            submit = br.find_element(By.XPATH, '/html/body/div[1]/main/div[2]/div/div[3]/div/div[3]/div[7]/button')\n",
    "        try:\n",
    "            submit.click()\n",
    "        except:\n",
    "#             br.execute_script(\"window.scrollTo(0, 1920)\")    # пролистываем страницу ниже, чтобы пролистать реклату\n",
    "#             time.sleep(5)\n",
    "\n",
    "#             page_add = br.page_source\n",
    "#             tree = BeautifulSoup(page_add, 'html')\n",
    "\n",
    "            submit.click()\n",
    "            \n",
    "        time.sleep(5)\n",
    "        page_add = br.page_source\n",
    "        tree_description = BeautifulSoup(page_add, 'html')\n",
    "    \n",
    "        br.close()\n",
    "        \n",
    "        image_card = tree.find_all('div', {'class': 'slide__content img-plug'})\n",
    "        image_card = image_card[0].img['src']\n",
    "\n",
    "\n",
    "        image_feedbacks = tree.find_all('div', {'class': 'user-photos__item img-plug j-user-photos__item'})\n",
    "#         image_feedbacks = None if len(image_feedbacks)==0 else image_feedbacks[0].img['src']\n",
    "        image_feedbacks = image_feedbacks[0].img['src']\n",
    "\n",
    "        \n",
    "        description = tree_description.find_all('p', {'class': 'option__text'})"
   ]
  },
  {
   "cell_type": "code",
   "execution_count": 102,
   "id": "22dccee2",
   "metadata": {},
   "outputs": [
    {
     "data": {
      "text/plain": [
       "('https://basket-09.wbbasket.ru/vol1181/part118183/118183375/images/big/1.webp',\n",
       " 'https://feedback05.wbbasket.ru/vol1744/part174452/174452993/photos/ms.webp',\n",
       " [<p class=\"option__text\">Наш инновационный фиксатор резьбы разработан с использованием передовых технологий, обеспечивая непревзойденную фиксацию даже в условиях высоких нагрузок и вибрации. \n",
       "  В бытовых условиях фиксатор резьбы также находит свое применение. Вы можете использовать его для надежного закрепления мебельных соединений. Например, в сборке столов, стульев, полок и шкафов. Он предотвратит ослабление соединений и обеспечит стабильность и безопасность использования мебели.\n",
       "  Кроме того, фиксатор резьбы может быть полезен при ремонте бытовой техники. Он поможет закрепить резьбовые соединения внутри устройств, таких как компьютеры, телевизоры, кухонные приборы и другие бытовые электронные устройства. \n",
       "  \n",
       "  Резьбовой фиксатор красный неразьемный и синий разъемный, является пломбировочной краской, применяемой на таких компонентах как винты, гайки, подстроечники, а также в любых узлах изделий, которые настраиваются заводским способом и не допускают вмешательства пользователя. Резьбовой герметик фиксатор. Область использования: для болтов в крышках клапанов, водяных насосов и масляных поддонов, гаек регулировки качающихся рычагов, штифтов карбюратора и винтов крышек мостов и т.п. местах, где возможно самооткручивание резьбового соединения под воздействием вибрации и ударных нагрузок. Защищает соединения от влаги и коррозии, препятствует самооткручиванию деталей, при необходимости легко удалить ручными инструментами. \n",
       "  \n",
       "  ИНСТРУКЦИЯ\n",
       "  Тщательно очистите и обезжирте детали. Нанесите несколько капель на резьбу соединяемых деталей, после чего произведите сборку и затяжку. Дайте затвердеть перед использованием.\n",
       "  Фиксатор резьбовых соединений наносится на закрепляемое изделие при помощи удобного дозатора. Его необходимо наносить равномерным слоем. Толщина слоя должна быть достаточной для того, чтобы краску было легко видно. Высыхает за 20-30 минут, полная полимеризация - в течение суток. фиксатор резьбы.</p>])"
      ]
     },
     "execution_count": 102,
     "metadata": {},
     "output_type": "execute_result"
    }
   ],
   "source": [
    "image_card, image_feedbacks, description"
   ]
  },
  {
   "cell_type": "code",
   "execution_count": 1,
   "id": "9dacd72f",
   "metadata": {
    "scrolled": true
   },
   "outputs": [],
   "source": [
    "#tree"
   ]
  },
  {
   "cell_type": "code",
   "execution_count": 2,
   "id": "56f1de48",
   "metadata": {},
   "outputs": [],
   "source": [
    "#tree"
   ]
  },
  {
   "cell_type": "code",
   "execution_count": 3,
   "id": "067a21aa",
   "metadata": {
    "scrolled": true
   },
   "outputs": [],
   "source": [
    "# new_tree = tree.find_all('div', {'class': 'swiper-wrapper'})[0]\n",
    "# new_tree"
   ]
  },
  {
   "cell_type": "code",
   "execution_count": 100,
   "id": "d7f64bfe",
   "metadata": {},
   "outputs": [
    {
     "data": {
      "text/plain": [
       "[<div class=\"swiper-slide img-plug\" data-link=\"class{merge: isVideo toggle='user-photos__video-slide'}\" style=\"margin-right: 8px;\"> <img alt=\"photo\" height=\"293\" src=\"https://feedback05.wbbasket.ru/vol1640/part164096/164096636/photos/ms.webp\" width=\"220\"/> </div>,\n",
       " <div class=\"swiper-slide img-plug\" data-link=\"class{merge: isVideo toggle='user-photos__video-slide'}\" style=\"margin-right: 8px;\"> <img alt=\"photo\" height=\"293\" src=\"https://feedback05.wbbasket.ru/vol1640/part164096/164096637/photos/ms.webp\" width=\"220\"/> </div>,\n",
       " <div class=\"swiper-slide img-plug\" data-link=\"class{merge: isVideo toggle='user-photos__video-slide'}\" style=\"margin-right: 8px;\"> <img alt=\"photo\" height=\"293\" src=\"https://feedback05.wbbasket.ru/vol1640/part164094/164094844/photos/ms.webp\" width=\"220\"/> </div>,\n",
       " <div class=\"swiper-slide img-plug\" data-link=\"class{merge: isVideo toggle='user-photos__video-slide'}\" style=\"margin-right: 8px;\"> <img alt=\"photo\" height=\"293\" src=\"https://feedback05.wbbasket.ru/vol1640/part164094/164094845/photos/ms.webp\" width=\"220\"/> </div>,\n",
       " <div class=\"swiper-slide img-plug\" data-link=\"class{merge: isVideo toggle='user-photos__video-slide'}\" style=\"margin-right: 8px;\"> <img alt=\"photo\" height=\"293\" src=\"https://feedback05.wbbasket.ru/vol1640/part164094/164094846/photos/ms.webp\" width=\"220\"/> </div>,\n",
       " <div class=\"swiper-slide img-plug\" data-link=\"class{merge: isVideo toggle='user-photos__video-slide'}\" style=\"margin-right: 8px;\"> <img alt=\"photo\" height=\"293\" src=\"https://feedback05.wbbasket.ru/vol1653/part165303/165303670/photos/ms.webp\" width=\"220\"/> </div>,\n",
       " <div class=\"swiper-slide img-plug\" data-link=\"class{merge: isVideo toggle='user-photos__video-slide'}\" style=\"margin-right: 8px;\"> <img alt=\"photo\" height=\"293\" src=\"https://feedback05.wbbasket.ru/vol1653/part165303/165303674/photos/ms.webp\" width=\"220\"/> </div>,\n",
       " <div class=\"swiper-slide img-plug\" data-link=\"class{merge: isVideo toggle='user-photos__video-slide'}\" style=\"margin-right: 8px;\"> <img alt=\"photo\" height=\"293\" src=\"https://feedback05.wbbasket.ru/vol1537/part153759/153759956/photos/ms.webp\" width=\"220\"/> </div>,\n",
       " <div class=\"swiper-slide img-plug\" data-link=\"class{merge: isVideo toggle='user-photos__video-slide'}\" style=\"margin-right: 8px;\"> <img alt=\"photo\" height=\"293\" src=\"https://feedback05.wbbasket.ru/vol1537/part153759/153759957/photos/ms.webp\" width=\"220\"/> </div>,\n",
       " <div class=\"swiper-slide img-plug\" data-link=\"class{merge: isVideo toggle='user-photos__video-slide'}\" style=\"margin-right: 8px;\"> <img alt=\"photo\" height=\"293\" src=\"https://feedback05.wbbasket.ru/vol1537/part153759/153759964/photos/ms.webp\" width=\"220\"/> </div>,\n",
       " <div class=\"swiper-slide img-plug\" data-link=\"class{merge: isVideo toggle='user-photos__video-slide'}\" style=\"margin-right: 8px;\"> <img alt=\"photo\" height=\"293\" src=\"https://feedback05.wbbasket.ru/vol1558/part155897/155897295/photos/ms.webp\" width=\"220\"/> </div>,\n",
       " <div class=\"swiper-slide img-plug\" data-link=\"class{merge: isVideo toggle='user-photos__video-slide'}\" style=\"margin-right: 8px;\"> <img alt=\"photo\" height=\"293\" src=\"https://feedback05.wbbasket.ru/vol1558/part155897/155897296/photos/ms.webp\" width=\"220\"/> </div>,\n",
       " <div class=\"swiper-slide img-plug\" data-link=\"class{merge: isVideo toggle='user-photos__video-slide'}\" style=\"margin-right: 8px;\"> <img alt=\"photo\" height=\"293\" src=\"https://feedback05.wbbasket.ru/vol1558/part155897/155897297/photos/ms.webp\" width=\"220\"/> </div>,\n",
       " <div class=\"swiper-slide img-plug\" data-link=\"class{merge: isVideo toggle='user-photos__video-slide'}\" style=\"margin-right: 8px;\"> <img alt=\"photo\" height=\"293\" src=\"https://feedback05.wbbasket.ru/vol1558/part155897/155897300/photos/ms.webp\" width=\"220\"/> </div>,\n",
       " <div class=\"swiper-slide img-plug\" data-link=\"class{merge: isVideo toggle='user-photos__video-slide'}\" style=\"margin-right: 8px;\"> <img alt=\"photo\" height=\"293\" src=\"https://feedback05.wbbasket.ru/vol1623/part162346/162346607/photos/ms.webp\" width=\"220\"/> </div>,\n",
       " <div class=\"swiper-slide img-plug\" data-link=\"class{merge: isVideo toggle='user-photos__video-slide'}\" style=\"margin-right: 8px;\"> <img alt=\"photo\" height=\"293\" src=\"https://feedback04.wbbasket.ru/vol1515/part151511/151511407/photos/ms.webp\" width=\"220\"/> </div>,\n",
       " <div class=\"swiper-slide img-plug\" data-link=\"class{merge: isVideo toggle='user-photos__video-slide'}\" style=\"margin-right: 8px;\"> <img alt=\"photo\" height=\"293\" src=\"https://feedback05.wbbasket.ru/vol1667/part166787/166787013/photos/ms.webp\" width=\"220\"/> </div>,\n",
       " <div class=\"swiper-slide img-plug\" data-link=\"class{merge: isVideo toggle='user-photos__video-slide'}\" style=\"margin-right: 8px;\"> <img alt=\"photo\" height=\"293\" src=\"https://feedback05.wbbasket.ru/vol1593/part159391/159391930/photos/ms.webp\" width=\"220\"/> </div>,\n",
       " <div class=\"swiper-slide img-plug\" data-link=\"class{merge: isVideo toggle='user-photos__video-slide'}\" style=\"margin-right: 8px;\"> <img alt=\"photo\" height=\"293\" src=\"https://feedback05.wbbasket.ru/vol1543/part154354/154354580/photos/ms.webp\" width=\"220\"/> </div>,\n",
       " <div class=\"swiper-slide img-plug\" data-link=\"class{merge: isVideo toggle='user-photos__video-slide'}\" style=\"margin-right: 8px;\"> <img alt=\"photo\" height=\"293\" src=\"https://feedback04.wbbasket.ru/vol1426/part142617/142617846/photos/ms.webp\" width=\"220\"/> </div>,\n",
       " <div class=\"swiper-slide img-plug\" data-link=\"class{merge: isVideo toggle='user-photos__video-slide'}\" style=\"margin-right: 8px;\"> <img alt=\"photo\" height=\"293\" src=\"https://feedback03.wbbasket.ru/vol914/part91436/91436331/photos/ms.webp\" width=\"220\"/> </div>,\n",
       " <div class=\"swiper-slide img-plug\" data-link=\"class{merge: isVideo toggle='user-photos__video-slide'}\" style=\"margin-right: 8px;\"> <img alt=\"photo\" height=\"293\" src=\"https://feedback03.wbbasket.ru/vol914/part91436/91436332/photos/ms.webp\" width=\"220\"/> </div>,\n",
       " <div class=\"swiper-slide img-plug\" data-link=\"class{merge: isVideo toggle='user-photos__video-slide'}\" style=\"margin-right: 8px;\"> <img alt=\"photo\" height=\"293\" src=\"https://feedback03.wbbasket.ru/vol914/part91436/91436333/photos/ms.webp\" width=\"220\"/> </div>,\n",
       " <div class=\"swiper-slide img-plug\" data-link=\"class{merge: isVideo toggle='user-photos__video-slide'}\" style=\"margin-right: 8px;\"> <img alt=\"photo\" height=\"293\" src=\"https://feedback03.wbbasket.ru/vol914/part91436/91436335/photos/ms.webp\" width=\"220\"/> </div>,\n",
       " <div class=\"swiper-slide img-plug\" data-link=\"class{merge: isVideo toggle='user-photos__video-slide'}\" style=\"margin-right: 8px;\"> <img alt=\"photo\" height=\"293\" src=\"https://feedback03.wbbasket.ru/vol1093/part109359/109359998/photos/ms.webp\" width=\"220\"/> </div>,\n",
       " <div class=\"swiper-slide img-plug\" data-link=\"class{merge: isVideo toggle='user-photos__video-slide'}\" style=\"margin-right: 8px;\"> <img alt=\"photo\" height=\"293\" src=\"https://feedback05.wbbasket.ru/vol1656/part165624/165624720/photos/ms.webp\" width=\"220\"/> </div>,\n",
       " <div class=\"swiper-slide img-plug\" data-link=\"class{merge: isVideo toggle='user-photos__video-slide'}\" style=\"margin-right: 8px;\"> <img alt=\"photo\" height=\"293\" src=\"https://feedback03.wbbasket.ru/vol1047/part104790/104790023/photos/ms.webp\" width=\"220\"/> </div>]"
      ]
     },
     "execution_count": 100,
     "metadata": {},
     "output_type": "execute_result"
    }
   ],
   "source": [
    "new_tree.find_all('div', {'class': 'swiper-slide img-plug'})"
   ]
  },
  {
   "cell_type": "code",
   "execution_count": null,
   "id": "cc39f725",
   "metadata": {},
   "outputs": [],
   "source": [
    "tree.find_all('div', {'class': 'user-photos__item img-plug j-user-photos__item'})\n",
    "\n",
    "\"user-photos\""
   ]
  }
 ],
 "metadata": {
  "kernelspec": {
   "display_name": "Python 3 (ipykernel)",
   "language": "python",
   "name": "python3"
  },
  "language_info": {
   "codemirror_mode": {
    "name": "ipython",
    "version": 3
   },
   "file_extension": ".py",
   "mimetype": "text/x-python",
   "name": "python",
   "nbconvert_exporter": "python",
   "pygments_lexer": "ipython3",
   "version": "3.9.13"
  },
  "toc": {
   "base_numbering": 1,
   "nav_menu": {},
   "number_sections": true,
   "sideBar": true,
   "skip_h1_title": false,
   "title_cell": "Table of Contents",
   "title_sidebar": "Contents",
   "toc_cell": false,
   "toc_position": {},
   "toc_section_display": true,
   "toc_window_display": false
  }
 },
 "nbformat": 4,
 "nbformat_minor": 5
}
