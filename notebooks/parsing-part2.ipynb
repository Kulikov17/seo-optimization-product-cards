{
 "cells": [
  {
   "cell_type": "code",
   "execution_count": 6,
   "id": "8bc478c3",
   "metadata": {},
   "outputs": [],
   "source": [
    "# Необходимые импорты\n",
    "import requests\n",
    "from bs4 import BeautifulSoup\n",
    "from tqdm.notebook import tqdm\n",
    "import pandas as pd\n",
    "import time\n",
    "from tqdm.notebook import tqdm\n",
    "from selenium import webdriver\n",
    "from selenium.webdriver.common.by import By\n",
    "from pathlib import Path\n",
    "from typing import List"
   ]
  },
  {
   "cell_type": "code",
   "execution_count": 7,
   "id": "724f59b1",
   "metadata": {},
   "outputs": [],
   "source": [
    "# сбор всей необходимой информации с карточки товара\n",
    "def get_info_for_card(url: str):\n",
    "        br = webdriver.Chrome()\n",
    "        br.get(url)\n",
    "        time.sleep(5)\n",
    "        br.execute_script(\"window.scrollTo(0, 1200)\")\n",
    "        time.sleep(5)\n",
    "        page_add = br.page_source\n",
    "        tree = BeautifulSoup(page_add, 'html')\n",
    "        \n",
    "        # сбор описания\n",
    "        submit = br.find_element(By.XPATH, '/html/body/div[1]/main/div[2]/div/div[3]/div/div[3]/div[7]/button')\n",
    "        submit.click()\n",
    "        time.sleep(5)\n",
    "        page_add = br.page_source\n",
    "        tree_desc = BeautifulSoup(page_add, 'html')\n",
    "    \n",
    "        br.close()\n",
    "        \n",
    "        image_card = tree.find_all('div', {'class': 'slide__content img-plug'})\n",
    "        image_card = image_card[0].img['src']\n",
    "\n",
    "        try:\n",
    "            image_feedbacks = tree.find_all('div', {'class': 'user-photos__item img-plug j-user-photos__item'})\n",
    "            image_feedbacks = image_feedbacks[0].img['src']\n",
    "        except:\n",
    "            image_feedbacks = None\n",
    "        \n",
    "        desc = tree_desc.find_all('p', {'class': 'option__text'})\n",
    "        \n",
    "        return image_card, image_feedbacks, desc\n",
    "\n",
    "\n",
    "# скачивание картинки\n",
    "def load_image(url, path, name):\n",
    "    img = requests.get(url)\n",
    "    full_path = path / name\n",
    "    \n",
    "    with open(full_path, \"wb\") as out:\n",
    "        out.write(img.content)"
   ]
  },
  {
   "cell_type": "code",
   "execution_count": 8,
   "id": "e7536a1f",
   "metadata": {},
   "outputs": [],
   "source": [
    "def parsing_items_wb(\n",
    "    urls: List[str],\n",
    "    folders: List[str],\n",
    "    data_dir: Path,\n",
    "    start_category: int = 0,\n",
    "    start_item: int = 0):\n",
    "#     try:\n",
    "        for i in range(start_category, len(urls)):\n",
    "            main_url = urls[i]\n",
    "            br = webdriver.Chrome()\n",
    "            br.get(main_url)\n",
    "            time.sleep(5)\n",
    "            page_add = br.page_source\n",
    "            tree = BeautifulSoup(page_add, 'html')\n",
    "            br.close()\n",
    "            \n",
    "            # берем только 20 первых товаров\n",
    "            items = tree.find_all('a', {'class': 'product-card__link j-card-link j-open-full-product-card'})\n",
    "            items_href = [items[i]['href'] for i in range(len(items))][:20]\n",
    "            description = {col: [] for col in [\"item\", \"desc\"]}\n",
    "            \n",
    "            for j in tqdm(range(start_item, len(items_href))):\n",
    "#                 print(items_href[j])\n",
    "                image_card, image_feedbacks, desc = get_info_for_card(items_href[j])\n",
    "                \n",
    "                path_card = data_dir / folders[i] / \"card\"\n",
    "                path_feedbacks = data_dir / folders[i] / \"feedbacks\"\n",
    "                path_desc = data_dir / folders[i]\n",
    "                \n",
    "                if j==0:\n",
    "                    path_card.mkdir(parents=True, exist_ok=True)\n",
    "                    path_feedbacks.mkdir(parents=True, exist_ok=True)\n",
    "                \n",
    "                load_image(url=image_card, path=path_card, name=f\"{j}.png\")\n",
    "                if image_feedbacks is not None:\n",
    "                    load_image(url=image_feedbacks, path=path_feedbacks, name=f\"{j}_feedbacks.png\")\n",
    "                \n",
    "                description[\"item\"].append(f\"{j}.png\")\n",
    "                description[\"desc\"].append(None if len(desc)==0 else desc[0].text)\n",
    "            \n",
    "            pd.DataFrame(description).to_csv(path_desc / \"description.csv\", index=False)\n",
    "            print(f'Прошла категория \"{Path(main_url).name}\"')\n",
    "                \n",
    "#     except Exception as e:\n",
    "#         print(e)        "
   ]
  },
  {
   "cell_type": "code",
   "execution_count": 9,
   "id": "6ef4859c",
   "metadata": {},
   "outputs": [
    {
     "data": {
      "text/html": [
       "<div>\n",
       "<style scoped>\n",
       "    .dataframe tbody tr th:only-of-type {\n",
       "        vertical-align: middle;\n",
       "    }\n",
       "\n",
       "    .dataframe tbody tr th {\n",
       "        vertical-align: top;\n",
       "    }\n",
       "\n",
       "    .dataframe thead th {\n",
       "        text-align: right;\n",
       "    }\n",
       "</style>\n",
       "<table border=\"1\" class=\"dataframe\">\n",
       "  <thead>\n",
       "    <tr style=\"text-align: right;\">\n",
       "      <th></th>\n",
       "      <th>category_1</th>\n",
       "      <th>category_2</th>\n",
       "      <th>category_3</th>\n",
       "      <th>url</th>\n",
       "    </tr>\n",
       "  </thead>\n",
       "  <tbody>\n",
       "    <tr>\n",
       "      <th>0</th>\n",
       "      <td>Женщинам</td>\n",
       "      <td>Блузки и рубашки</td>\n",
       "      <td>NaN</td>\n",
       "      <td>https://www.wildberries.ru/catalog/zhenshchina...</td>\n",
       "    </tr>\n",
       "    <tr>\n",
       "      <th>1</th>\n",
       "      <td>Женщинам</td>\n",
       "      <td>Брюки</td>\n",
       "      <td>NaN</td>\n",
       "      <td>https://www.wildberries.ru/catalog/zhenshchina...</td>\n",
       "    </tr>\n",
       "    <tr>\n",
       "      <th>2</th>\n",
       "      <td>Женщинам</td>\n",
       "      <td>Верхняя одежда</td>\n",
       "      <td>NaN</td>\n",
       "      <td>https://www.wildberries.ru/catalog/zhenshchina...</td>\n",
       "    </tr>\n",
       "    <tr>\n",
       "      <th>3</th>\n",
       "      <td>Женщинам</td>\n",
       "      <td>Джемперы, водолазки и кардиганы</td>\n",
       "      <td>NaN</td>\n",
       "      <td>https://www.wildberries.ru/catalog/zhenshchina...</td>\n",
       "    </tr>\n",
       "    <tr>\n",
       "      <th>4</th>\n",
       "      <td>Женщинам</td>\n",
       "      <td>Джинсы</td>\n",
       "      <td>NaN</td>\n",
       "      <td>https://www.wildberries.ru/catalog/zhenshchina...</td>\n",
       "    </tr>\n",
       "    <tr>\n",
       "      <th>...</th>\n",
       "      <td>...</td>\n",
       "      <td>...</td>\n",
       "      <td>...</td>\n",
       "      <td>...</td>\n",
       "    </tr>\n",
       "    <tr>\n",
       "      <th>1442</th>\n",
       "      <td>Канцтовары</td>\n",
       "      <td>Рисование и лепка</td>\n",
       "      <td>NaN</td>\n",
       "      <td>https://www.wildberries.ru/catalog/knigi-i-kan...</td>\n",
       "    </tr>\n",
       "    <tr>\n",
       "      <th>1443</th>\n",
       "      <td>Канцтовары</td>\n",
       "      <td>Счетный материал</td>\n",
       "      <td>NaN</td>\n",
       "      <td>https://www.wildberries.ru/catalog/knigi-i-dis...</td>\n",
       "    </tr>\n",
       "    <tr>\n",
       "      <th>1444</th>\n",
       "      <td>Канцтовары</td>\n",
       "      <td>Торговые принадлежности</td>\n",
       "      <td>NaN</td>\n",
       "      <td>https://www.wildberries.ru/catalog/kantstovary...</td>\n",
       "    </tr>\n",
       "    <tr>\n",
       "      <th>1445</th>\n",
       "      <td>Канцтовары</td>\n",
       "      <td>Чертежные принадлежности</td>\n",
       "      <td>NaN</td>\n",
       "      <td>https://www.wildberries.ru/catalog/knigi-i-kan...</td>\n",
       "    </tr>\n",
       "    <tr>\n",
       "      <th>1446</th>\n",
       "      <td>Народные Промыслы</td>\n",
       "      <td>NaN</td>\n",
       "      <td>NaN</td>\n",
       "      <td>https://www.wildberries.ru/catalog/narodnye-kx...</td>\n",
       "    </tr>\n",
       "  </tbody>\n",
       "</table>\n",
       "<p>1447 rows × 4 columns</p>\n",
       "</div>"
      ],
      "text/plain": [
       "             category_1                       category_2 category_3  \\\n",
       "0              Женщинам                 Блузки и рубашки        NaN   \n",
       "1              Женщинам                            Брюки        NaN   \n",
       "2              Женщинам                   Верхняя одежда        NaN   \n",
       "3              Женщинам  Джемперы, водолазки и кардиганы        NaN   \n",
       "4              Женщинам                           Джинсы        NaN   \n",
       "...                 ...                              ...        ...   \n",
       "1442         Канцтовары                Рисование и лепка        NaN   \n",
       "1443         Канцтовары                 Счетный материал        NaN   \n",
       "1444         Канцтовары          Торговые принадлежности        NaN   \n",
       "1445         Канцтовары         Чертежные принадлежности        NaN   \n",
       "1446  Народные Промыслы                              NaN        NaN   \n",
       "\n",
       "                                                    url  \n",
       "0     https://www.wildberries.ru/catalog/zhenshchina...  \n",
       "1     https://www.wildberries.ru/catalog/zhenshchina...  \n",
       "2     https://www.wildberries.ru/catalog/zhenshchina...  \n",
       "3     https://www.wildberries.ru/catalog/zhenshchina...  \n",
       "4     https://www.wildberries.ru/catalog/zhenshchina...  \n",
       "...                                                 ...  \n",
       "1442  https://www.wildberries.ru/catalog/knigi-i-kan...  \n",
       "1443  https://www.wildberries.ru/catalog/knigi-i-dis...  \n",
       "1444  https://www.wildberries.ru/catalog/kantstovary...  \n",
       "1445  https://www.wildberries.ru/catalog/knigi-i-kan...  \n",
       "1446  https://www.wildberries.ru/catalog/narodnye-kx...  \n",
       "\n",
       "[1447 rows x 4 columns]"
      ]
     },
     "execution_count": 9,
     "metadata": {},
     "output_type": "execute_result"
    }
   ],
   "source": [
    "categories = pd.read_csv(\"wb_categories.csv\")\n",
    "#categories = categories[:2]\n",
    "categories"
   ]
  },
  {
   "cell_type": "code",
   "execution_count": 10,
   "id": "52a5feb3",
   "metadata": {},
   "outputs": [],
   "source": [
    "categories_folder = categories.fillna(\"nan\")\n",
    "folders = []\n",
    "\n",
    "for i in range(len(categories)):\n",
    "    cat = list(categories_folder.iloc[i][:3])\n",
    "    folder = \"_\".join([\"&\".join(i.split()) for i in cat])\n",
    "    folders.append(folder)"
   ]
  },
  {
   "cell_type": "code",
   "execution_count": 11,
   "id": "d087eafd",
   "metadata": {},
   "outputs": [],
   "source": [
    "data_dir = Path(\"E:/!sofi/Datasets/datasets/hse-mlds-project-year2/data\")"
   ]
  },
  {
   "cell_type": "code",
   "execution_count": 12,
   "id": "90a60c5f",
   "metadata": {},
   "outputs": [
    {
     "data": {
      "application/vnd.jupyter.widget-view+json": {
       "model_id": "e92214bfc34447f19cd3f19a9d2ae95d",
       "version_major": 2,
       "version_minor": 0
      },
      "text/plain": [
       "  0%|          | 0/20 [00:00<?, ?it/s]"
      ]
     },
     "metadata": {},
     "output_type": "display_data"
    },
    {
     "name": "stdout",
     "output_type": "stream",
     "text": [
      "Прошла категория \"bluzki-i-rubashki\"\n"
     ]
    },
    {
     "data": {
      "application/vnd.jupyter.widget-view+json": {
       "model_id": "ca0d3f16711149ebb49ef5ea4cf347f8",
       "version_major": 2,
       "version_minor": 0
      },
      "text/plain": [
       "  0%|          | 0/20 [00:00<?, ?it/s]"
      ]
     },
     "metadata": {},
     "output_type": "display_data"
    },
    {
     "name": "stdout",
     "output_type": "stream",
     "text": [
      "Прошла категория \"bryuki-i-shorty\"\n"
     ]
    }
   ],
   "source": [
    "parsing_items_wb(urls=categories.url[:2],\n",
    "                 folders=folders,\n",
    "                 data_dir=data_dir,\n",
    "                 start_category=0,\n",
    "                 start_item=0)"
   ]
  },
  {
   "cell_type": "markdown",
   "id": "3146c87b",
   "metadata": {},
   "source": [
    "# Тестирование"
   ]
  },
  {
   "cell_type": "code",
   "execution_count": 39,
   "id": "b5db6d06",
   "metadata": {},
   "outputs": [],
   "source": [
    "url = 'https://www.wildberries.ru/catalog/74299675/detail.aspx'\n",
    "url = 'https://www.wildberries.ru/catalog/149410773/detail.aspx'\n",
    "\n",
    "br = webdriver.Chrome()\n",
    "br.get(url)\n",
    "time.sleep(5)\n",
    "br.execute_script(\"window.scrollTo(0, 1200)\")\n",
    "time.sleep(5)\n",
    "page_add = br.page_source\n",
    "tree = BeautifulSoup(page_add, 'html')\n",
    "\n",
    "br.close()"
   ]
  },
  {
   "cell_type": "code",
   "execution_count": 13,
   "id": "c79485d0",
   "metadata": {},
   "outputs": [],
   "source": [
    "#tree"
   ]
  },
  {
   "cell_type": "code",
   "execution_count": 40,
   "id": "d715d5db",
   "metadata": {
    "scrolled": false
   },
   "outputs": [
    {
     "data": {
      "text/plain": [
       "'https://basket-10.wbbasket.ru/vol1494/part149410/149410773/images/big/1.webp'"
      ]
     },
     "execution_count": 40,
     "metadata": {},
     "output_type": "execute_result"
    }
   ],
   "source": [
    "data = tree.find_all('div', {'class': 'slide__content img-plug'})\n",
    "data[0].img['src']"
   ]
  },
  {
   "cell_type": "code",
   "execution_count": 41,
   "id": "7e1bb626",
   "metadata": {},
   "outputs": [
    {
     "data": {
      "text/plain": [
       "'https://feedback05.wbbasket.ru/vol1744/part174414/174414618/photos/ms.webp'"
      ]
     },
     "execution_count": 41,
     "metadata": {},
     "output_type": "execute_result"
    }
   ],
   "source": [
    "data = tree.find_all('div', {'class': 'user-photos__item img-plug j-user-photos__item'})\n",
    "data[0].img['src']"
   ]
  },
  {
   "cell_type": "markdown",
   "id": "f977bc9f",
   "metadata": {},
   "source": [
    "___"
   ]
  },
  {
   "cell_type": "code",
   "execution_count": 26,
   "id": "2dfff1ac",
   "metadata": {},
   "outputs": [],
   "source": [
    "url = 'https://www.wildberries.ru/catalog/zhenshchinam/odezhda/bluzki-i-rubashki'\n",
    "\n",
    "br = webdriver.Chrome()\n",
    "br.get(url)\n",
    "time.sleep(5)\n",
    "page_add = br.page_source\n",
    "tree = BeautifulSoup(page_add, 'html')\n",
    "\n",
    "br.close()"
   ]
  },
  {
   "cell_type": "code",
   "execution_count": 33,
   "id": "cadba920",
   "metadata": {
    "scrolled": true
   },
   "outputs": [
    {
     "name": "stdout",
     "output_type": "stream",
     "text": [
      "30\n"
     ]
    },
    {
     "data": {
      "text/plain": [
       "'https://www.wildberries.ru/catalog/160832044/detail.aspx'"
      ]
     },
     "execution_count": 33,
     "metadata": {},
     "output_type": "execute_result"
    }
   ],
   "source": [
    "data = tree.find_all('a', {'class': 'product-card__link j-card-link j-open-full-product-card'})\n",
    "print(len(data))\n",
    "data[0]['href']"
   ]
  },
  {
   "cell_type": "code",
   "execution_count": 39,
   "id": "b51fbde0",
   "metadata": {},
   "outputs": [],
   "source": [
    "items = tree.find_all('a', {'class': 'product-card__link j-card-link j-open-full-product-card'})\n",
    "items_href = [items[i]['href'] for i in range(len(items))][:15]"
   ]
  },
  {
   "cell_type": "markdown",
   "id": "7c5eff21",
   "metadata": {},
   "source": [
    "___"
   ]
  },
  {
   "cell_type": "code",
   "execution_count": 17,
   "id": "63310562",
   "metadata": {},
   "outputs": [
    {
     "data": {
      "text/html": [
       "<div>\n",
       "<style scoped>\n",
       "    .dataframe tbody tr th:only-of-type {\n",
       "        vertical-align: middle;\n",
       "    }\n",
       "\n",
       "    .dataframe tbody tr th {\n",
       "        vertical-align: top;\n",
       "    }\n",
       "\n",
       "    .dataframe thead th {\n",
       "        text-align: right;\n",
       "    }\n",
       "</style>\n",
       "<table border=\"1\" class=\"dataframe\">\n",
       "  <thead>\n",
       "    <tr style=\"text-align: right;\">\n",
       "      <th></th>\n",
       "      <th>category_1</th>\n",
       "      <th>category_2</th>\n",
       "      <th>category_3</th>\n",
       "      <th>url</th>\n",
       "    </tr>\n",
       "  </thead>\n",
       "  <tbody>\n",
       "    <tr>\n",
       "      <th>0</th>\n",
       "      <td>Женщинам</td>\n",
       "      <td>Блузки и рубашки</td>\n",
       "      <td>NaN</td>\n",
       "      <td>https://www.wildberries.ru/catalog/zhenshchina...</td>\n",
       "    </tr>\n",
       "    <tr>\n",
       "      <th>1</th>\n",
       "      <td>Женщинам</td>\n",
       "      <td>Брюки</td>\n",
       "      <td>NaN</td>\n",
       "      <td>https://www.wildberries.ru/catalog/zhenshchina...</td>\n",
       "    </tr>\n",
       "  </tbody>\n",
       "</table>\n",
       "</div>"
      ],
      "text/plain": [
       "  category_1        category_2 category_3  \\\n",
       "0   Женщинам  Блузки и рубашки        NaN   \n",
       "1   Женщинам             Брюки        NaN   \n",
       "\n",
       "                                                 url  \n",
       "0  https://www.wildberries.ru/catalog/zhenshchina...  \n",
       "1  https://www.wildberries.ru/catalog/zhenshchina...  "
      ]
     },
     "execution_count": 17,
     "metadata": {},
     "output_type": "execute_result"
    }
   ],
   "source": [
    "categories = pd.read_csv(\"wb_categories.csv\")\n",
    "categories = categories[:2]\n",
    "categories"
   ]
  },
  {
   "cell_type": "code",
   "execution_count": 24,
   "id": "5cc2de6d",
   "metadata": {},
   "outputs": [
    {
     "data": {
      "text/plain": [
       "'bluzki-i-rubashki'"
      ]
     },
     "execution_count": 24,
     "metadata": {},
     "output_type": "execute_result"
    }
   ],
   "source": [
    "Path(categories.iloc[0].url).name"
   ]
  },
  {
   "cell_type": "code",
   "execution_count": 25,
   "id": "863238fb",
   "metadata": {},
   "outputs": [
    {
     "data": {
      "text/plain": [
       "0    https://www.wildberries.ru/catalog/zhenshchina...\n",
       "1    https://www.wildberries.ru/catalog/zhenshchina...\n",
       "Name: url, dtype: object"
      ]
     },
     "execution_count": 25,
     "metadata": {},
     "output_type": "execute_result"
    }
   ],
   "source": [
    "categories[\"url\"]"
   ]
  },
  {
   "cell_type": "markdown",
   "id": "cd9ea69f",
   "metadata": {},
   "source": [
    "___"
   ]
  },
  {
   "cell_type": "code",
   "execution_count": 10,
   "id": "b9d20421",
   "metadata": {},
   "outputs": [],
   "source": [
    "# # скачивание картинки\n",
    "# img = \"https://basket-05.wbbasket.ru/vol742/part74299/74299675/images/c246x328/1.webp\"\n",
    "\n",
    "# p = requests.get(img)\n",
    "\n",
    "# with open(\"data/img1.png\", \"wb\") as out:\n",
    "#     out.write(p.content)"
   ]
  },
  {
   "cell_type": "code",
   "execution_count": null,
   "id": "7a96e260",
   "metadata": {},
   "outputs": [],
   "source": [
    "data_dir = Path(\"E:/!sofi/Datasets/datasets/hse-mlds-project-year2/data\")"
   ]
  },
  {
   "cell_type": "markdown",
   "id": "46e7d83a",
   "metadata": {},
   "source": [
    "____"
   ]
  },
  {
   "cell_type": "code",
   "execution_count": 42,
   "id": "9e033176",
   "metadata": {},
   "outputs": [],
   "source": [
    "url = 'https://www.wildberries.ru/catalog/177006458/detail.aspx'\n",
    "\n",
    "br = webdriver.Chrome()\n",
    "br.get(url)\n",
    "time.sleep(5)\n",
    "br.execute_script(\"window.scrollTo(0, 1200)\")\n",
    "time.sleep(5)\n",
    "submit = br.find_element(By.XPATH, '/html/body/div[1]/main/div[2]/div/div[3]/div/div[3]/div[7]/button')\n",
    "submit.click()\n",
    "time.sleep(2)\n",
    "page_add = br.page_source\n",
    "tree = BeautifulSoup(page_add, 'html')\n",
    "\n",
    "br.close()"
   ]
  },
  {
   "cell_type": "code",
   "execution_count": 18,
   "id": "7bd36e46",
   "metadata": {},
   "outputs": [
    {
     "data": {
      "text/plain": [
       "<selenium.webdriver.remote.webelement.WebElement (session=\"390b805b4b23714e9aec1245cba2328f\", element=\"f.4B6E31657C8F975832857013CF2DB357.d.FA372694CC5C762D8ED0CCBDB54238FB.e.78\")>"
      ]
     },
     "execution_count": 18,
     "metadata": {},
     "output_type": "execute_result"
    }
   ],
   "source": [
    "submit = br.find_element(By.XPATH, '/html/body/div[1]/main/div[2]/div/div[3]/div/div[3]/div[7]/button')\n",
    "submit"
   ]
  },
  {
   "cell_type": "code",
   "execution_count": 19,
   "id": "0c4a2e85",
   "metadata": {},
   "outputs": [],
   "source": [
    "submit.click()"
   ]
  },
  {
   "cell_type": "code",
   "execution_count": 20,
   "id": "5c858d3a",
   "metadata": {},
   "outputs": [],
   "source": [
    "page_add = br.page_source\n",
    "tree = BeautifulSoup(page_add, 'html')"
   ]
  },
  {
   "cell_type": "code",
   "execution_count": 37,
   "id": "98b04564",
   "metadata": {},
   "outputs": [
    {
     "data": {
      "text/plain": [
       "'Красота, изящество, стиль и удобство\\nКачественный пошив.Российское производство.\\nЭлегантный вырез.Бесшовный материал.\\n3-х ступенчатая застежка.\\nДелает талию изящной.\\n\\nСтильное боди из коллекции российского бренда Delicieuse - элегантная и эффектная модель для модного женственного образа.\\nБоди для танцев отличает длинный рукав, округлый вырез горловины, соблазнительно привлекающий внимание к области декольте сексуальный вырез на груди.\\nВысокая посадка и открытый фасон подчеркивают изгиб бедер и делают талию изящной, эффектно выглядят в сочетании с джинсами, брюками или юбками с низкой посадкой.\\n\\nУ изделия трехступенчатая застежка - удлинитель с прочными крючками для удобства ношения, застегивания и расстегивания при надевании и снятии. \\n\\nБесшовную молодежную модель «в обтяжку» отличает качественный пошив и контроль всех этапов производства, материал премиум качества.\\n\\nМягко обтягивающее боди в лаконичном декоре дополнит гардероб взрослых женщин и девушек - подростков, подойдет для представительниц прекрасной половины человечества с любым типом фигуры и высоким ростом.\\n\\nСтильная блузка с закрытым верхом, но эротичной прорезью - разрезом спереди представлена в двух цветах: лаконичном черном и телесном (бежевом), доступна в размерах от 40-42 до 48-50.\\n\\n Трендовая кофточка в облегающем фасоне и элегантном крое станет эффектным элементом нарядного образа для праздничного мероприятия, дополнит повседневный офисный лук, наряд для вечеринки с подружками или корпоратива на работе, для эротической фотосессии.Также он прекрасно подходит как одежда для фигурного катания, танцев, хореографии.\\n\\nУдобный лонгслив с регулируемой застежкой - эстетичная и эффектная часть наряда для работы в офисе или учебы в колледже, для вечерних или праздничных мероприятий.\\n\\nКрасивое боди в стиле городской классики (кэжуал) - необычный, но милый презент для жены - красотки или любимой девушки на любой праздник.'"
      ]
     },
     "execution_count": 37,
     "metadata": {},
     "output_type": "execute_result"
    }
   ],
   "source": [
    "data = tree.find_all('p', {'class': 'option__text'})\n",
    "data[0].text"
   ]
  }
 ],
 "metadata": {
  "kernelspec": {
   "display_name": "Python 3 (ipykernel)",
   "language": "python",
   "name": "python3"
  },
  "language_info": {
   "codemirror_mode": {
    "name": "ipython",
    "version": 3
   },
   "file_extension": ".py",
   "mimetype": "text/x-python",
   "name": "python",
   "nbconvert_exporter": "python",
   "pygments_lexer": "ipython3",
   "version": "3.9.13"
  },
  "toc": {
   "base_numbering": 1,
   "nav_menu": {},
   "number_sections": true,
   "sideBar": true,
   "skip_h1_title": false,
   "title_cell": "Table of Contents",
   "title_sidebar": "Contents",
   "toc_cell": false,
   "toc_position": {},
   "toc_section_display": true,
   "toc_window_display": false
  }
 },
 "nbformat": 4,
 "nbformat_minor": 5
}
